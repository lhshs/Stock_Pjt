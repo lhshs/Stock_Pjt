{
 "cells": [
  {
   "cell_type": "code",
   "execution_count": 19,
   "id": "69b3cafd",
   "metadata": {
    "ExecuteTime": {
     "end_time": "2023-02-15T12:20:05.691934Z",
     "start_time": "2023-02-15T12:20:05.637935Z"
    }
   },
   "outputs": [],
   "source": [
    "import yfinance as yf\n",
    "# import pandas_datareader as pdr"
   ]
  },
  {
   "cell_type": "code",
   "execution_count": 18,
   "id": "62de7a66",
   "metadata": {
    "ExecuteTime": {
     "end_time": "2023-02-15T12:19:48.363935Z",
     "start_time": "2023-02-15T12:19:43.981934Z"
    },
    "collapsed": true
   },
   "outputs": [
    {
     "name": "stdout",
     "output_type": "stream",
     "text": [
      "Collecting pandas-datareader\n",
      "  Downloading pandas_datareader-0.10.0-py3-none-any.whl (109 kB)\n",
      "     ---------------------------------------- 109.5/109.5 kB ? eta 0:00:00\n",
      "Requirement already satisfied: lxml in c:\\users\\hslio\\miniforge3\\envs\\lhs\\lib\\site-packages (from pandas-datareader) (4.9.2)\n",
      "Requirement already satisfied: pandas>=0.23 in c:\\users\\hslio\\miniforge3\\envs\\lhs\\lib\\site-packages (from pandas-datareader) (1.5.0)\n",
      "Requirement already satisfied: requests>=2.19.0 in c:\\users\\hslio\\miniforge3\\envs\\lhs\\lib\\site-packages (from pandas-datareader) (2.28.1)\n",
      "Requirement already satisfied: python-dateutil>=2.8.1 in c:\\users\\hslio\\miniforge3\\envs\\lhs\\lib\\site-packages (from pandas>=0.23->pandas-datareader) (2.8.2)\n",
      "Requirement already satisfied: pytz>=2020.1 in c:\\users\\hslio\\miniforge3\\envs\\lhs\\lib\\site-packages (from pandas>=0.23->pandas-datareader) (2022.7.1)\n",
      "Requirement already satisfied: numpy>=1.20.3 in c:\\users\\hslio\\miniforge3\\envs\\lhs\\lib\\site-packages (from pandas>=0.23->pandas-datareader) (1.23.3)\n",
      "Requirement already satisfied: certifi>=2017.4.17 in c:\\users\\hslio\\miniforge3\\envs\\lhs\\lib\\site-packages (from requests>=2.19.0->pandas-datareader) (2022.6.15)\n",
      "Requirement already satisfied: urllib3<1.27,>=1.21.1 in c:\\users\\hslio\\miniforge3\\envs\\lhs\\lib\\site-packages (from requests>=2.19.0->pandas-datareader) (1.26.11)\n",
      "Requirement already satisfied: idna<4,>=2.5 in c:\\users\\hslio\\miniforge3\\envs\\lhs\\lib\\site-packages (from requests>=2.19.0->pandas-datareader) (3.3)\n",
      "Requirement already satisfied: charset-normalizer<3,>=2 in c:\\users\\hslio\\miniforge3\\envs\\lhs\\lib\\site-packages (from requests>=2.19.0->pandas-datareader) (2.1.1)\n",
      "Requirement already satisfied: six>=1.5 in c:\\users\\hslio\\miniforge3\\envs\\lhs\\lib\\site-packages (from python-dateutil>=2.8.1->pandas>=0.23->pandas-datareader) (1.16.0)\n",
      "Installing collected packages: pandas-datareader\n",
      "Successfully installed pandas-datareader-0.10.0\n"
     ]
    }
   ],
   "source": [
    "# !pip install pandas-datareader"
   ]
  },
  {
   "cell_type": "code",
   "execution_count": 28,
   "id": "1094352b",
   "metadata": {
    "ExecuteTime": {
     "end_time": "2023-02-15T12:22:15.305963Z",
     "start_time": "2023-02-15T12:22:15.301964Z"
    }
   },
   "outputs": [],
   "source": [
    "start_date = '1980-01-01'\n"
   ]
  },
  {
   "cell_type": "code",
   "execution_count": 82,
   "id": "b8a2b31a",
   "metadata": {
    "ExecuteTime": {
     "end_time": "2023-02-15T13:28:50.962434Z",
     "start_time": "2023-02-15T13:28:50.421935Z"
    }
   },
   "outputs": [
    {
     "name": "stdout",
     "output_type": "stream",
     "text": [
      "[*********************100%***********************]  1 of 1 completed\n"
     ]
    }
   ],
   "source": [
    "# aapl_test = yf.download('aapl', start = start_date)\n",
    "samsung_test = yf.download('048260.KQ')#, start = start_date)"
   ]
  },
  {
   "cell_type": "code",
   "execution_count": 83,
   "id": "d640bd7e",
   "metadata": {
    "ExecuteTime": {
     "end_time": "2023-02-15T13:28:52.950935Z",
     "start_time": "2023-02-15T13:28:52.934461Z"
    }
   },
   "outputs": [
    {
     "data": {
      "text/html": [
       "<div>\n",
       "<style scoped>\n",
       "    .dataframe tbody tr th:only-of-type {\n",
       "        vertical-align: middle;\n",
       "    }\n",
       "\n",
       "    .dataframe tbody tr th {\n",
       "        vertical-align: top;\n",
       "    }\n",
       "\n",
       "    .dataframe thead th {\n",
       "        text-align: right;\n",
       "    }\n",
       "</style>\n",
       "<table border=\"1\" class=\"dataframe\">\n",
       "  <thead>\n",
       "    <tr style=\"text-align: right;\">\n",
       "      <th></th>\n",
       "      <th>Open</th>\n",
       "      <th>High</th>\n",
       "      <th>Low</th>\n",
       "      <th>Close</th>\n",
       "      <th>Adj Close</th>\n",
       "      <th>Volume</th>\n",
       "    </tr>\n",
       "    <tr>\n",
       "      <th>Date</th>\n",
       "      <th></th>\n",
       "      <th></th>\n",
       "      <th></th>\n",
       "      <th></th>\n",
       "      <th></th>\n",
       "      <th></th>\n",
       "    </tr>\n",
       "  </thead>\n",
       "  <tbody>\n",
       "    <tr>\n",
       "      <th>2007-02-07</th>\n",
       "      <td>16400.0</td>\n",
       "      <td>18500.0</td>\n",
       "      <td>16050.0</td>\n",
       "      <td>17050.0</td>\n",
       "      <td>17050.0</td>\n",
       "      <td>3622700</td>\n",
       "    </tr>\n",
       "    <tr>\n",
       "      <th>2007-02-08</th>\n",
       "      <td>17350.0</td>\n",
       "      <td>18700.0</td>\n",
       "      <td>17350.0</td>\n",
       "      <td>18150.0</td>\n",
       "      <td>18150.0</td>\n",
       "      <td>1730400</td>\n",
       "    </tr>\n",
       "    <tr>\n",
       "      <th>2007-02-09</th>\n",
       "      <td>18450.0</td>\n",
       "      <td>18600.0</td>\n",
       "      <td>17300.0</td>\n",
       "      <td>17700.0</td>\n",
       "      <td>17700.0</td>\n",
       "      <td>811000</td>\n",
       "    </tr>\n",
       "    <tr>\n",
       "      <th>2007-02-12</th>\n",
       "      <td>17300.0</td>\n",
       "      <td>17400.0</td>\n",
       "      <td>16650.0</td>\n",
       "      <td>16700.0</td>\n",
       "      <td>16700.0</td>\n",
       "      <td>501200</td>\n",
       "    </tr>\n",
       "    <tr>\n",
       "      <th>2007-02-13</th>\n",
       "      <td>16550.0</td>\n",
       "      <td>17300.0</td>\n",
       "      <td>16500.0</td>\n",
       "      <td>16600.0</td>\n",
       "      <td>16600.0</td>\n",
       "      <td>573100</td>\n",
       "    </tr>\n",
       "    <tr>\n",
       "      <th>...</th>\n",
       "      <td>...</td>\n",
       "      <td>...</td>\n",
       "      <td>...</td>\n",
       "      <td>...</td>\n",
       "      <td>...</td>\n",
       "      <td>...</td>\n",
       "    </tr>\n",
       "    <tr>\n",
       "      <th>2018-01-26</th>\n",
       "      <td>62400.0</td>\n",
       "      <td>62400.0</td>\n",
       "      <td>60300.0</td>\n",
       "      <td>60900.0</td>\n",
       "      <td>60900.0</td>\n",
       "      <td>125802</td>\n",
       "    </tr>\n",
       "    <tr>\n",
       "      <th>2018-01-29</th>\n",
       "      <td>60800.0</td>\n",
       "      <td>60900.0</td>\n",
       "      <td>58800.0</td>\n",
       "      <td>58900.0</td>\n",
       "      <td>58900.0</td>\n",
       "      <td>158566</td>\n",
       "    </tr>\n",
       "    <tr>\n",
       "      <th>2018-01-30</th>\n",
       "      <td>58600.0</td>\n",
       "      <td>58900.0</td>\n",
       "      <td>57500.0</td>\n",
       "      <td>57800.0</td>\n",
       "      <td>57800.0</td>\n",
       "      <td>149404</td>\n",
       "    </tr>\n",
       "    <tr>\n",
       "      <th>2018-01-31</th>\n",
       "      <td>57500.0</td>\n",
       "      <td>58500.0</td>\n",
       "      <td>57400.0</td>\n",
       "      <td>57700.0</td>\n",
       "      <td>57700.0</td>\n",
       "      <td>96047</td>\n",
       "    </tr>\n",
       "    <tr>\n",
       "      <th>2023-02-15</th>\n",
       "      <td>188200.0</td>\n",
       "      <td>188300.0</td>\n",
       "      <td>188100.0</td>\n",
       "      <td>188200.0</td>\n",
       "      <td>188200.0</td>\n",
       "      <td>380324</td>\n",
       "    </tr>\n",
       "  </tbody>\n",
       "</table>\n",
       "<p>2717 rows × 6 columns</p>\n",
       "</div>"
      ],
      "text/plain": [
       "                Open      High       Low     Close  Adj Close   Volume\n",
       "Date                                                                  \n",
       "2007-02-07   16400.0   18500.0   16050.0   17050.0    17050.0  3622700\n",
       "2007-02-08   17350.0   18700.0   17350.0   18150.0    18150.0  1730400\n",
       "2007-02-09   18450.0   18600.0   17300.0   17700.0    17700.0   811000\n",
       "2007-02-12   17300.0   17400.0   16650.0   16700.0    16700.0   501200\n",
       "2007-02-13   16550.0   17300.0   16500.0   16600.0    16600.0   573100\n",
       "...              ...       ...       ...       ...        ...      ...\n",
       "2018-01-26   62400.0   62400.0   60300.0   60900.0    60900.0   125802\n",
       "2018-01-29   60800.0   60900.0   58800.0   58900.0    58900.0   158566\n",
       "2018-01-30   58600.0   58900.0   57500.0   57800.0    57800.0   149404\n",
       "2018-01-31   57500.0   58500.0   57400.0   57700.0    57700.0    96047\n",
       "2023-02-15  188200.0  188300.0  188100.0  188200.0   188200.0   380324\n",
       "\n",
       "[2717 rows x 6 columns]"
      ]
     },
     "execution_count": 83,
     "metadata": {},
     "output_type": "execute_result"
    }
   ],
   "source": [
    "samsung_test"
   ]
  },
  {
   "cell_type": "code",
   "execution_count": 84,
   "id": "abff596c",
   "metadata": {
    "ExecuteTime": {
     "end_time": "2023-02-15T13:28:55.359935Z",
     "start_time": "2023-02-15T13:28:55.173935Z"
    }
   },
   "outputs": [
    {
     "data": {
      "text/plain": [
       "<AxesSubplot:xlabel='Date'>"
      ]
     },
     "execution_count": 84,
     "metadata": {},
     "output_type": "execute_result"
    },
    {
     "data": {
      "image/png": "[encoded data removed]",
      "text/plain": [
       "<Figure size 432x288 with 1 Axes>"
      ]
     },
     "metadata": {
      "needs_background": "light"
     },
     "output_type": "display_data"
    }
   ],
   "source": [
    "samsung_test\n",
    "samsung_test.plot(y = 'Close')"
   ]
  },
  {
   "cell_type": "code",
   "execution_count": 75,
   "id": "364d5cb6",
   "metadata": {
    "ExecuteTime": {
     "end_time": "2023-02-15T13:01:13.177433Z",
     "start_time": "2023-02-15T13:01:12.711434Z"
    }
   },
   "outputs": [
    {
     "data": {
      "text/plain": [
       "<AxesSubplot:xlabel='Date'>"
      ]
     },
     "execution_count": 75,
     "metadata": {},
     "output_type": "execute_result"
    },
    {
     "data": {
      "image/png": "[encoded data removed]",
      "text/plain": [
       "<Figure size 432x288 with 1 Axes>"
      ]
     },
     "metadata": {
      "needs_background": "light"
     },
     "output_type": "display_data"
    }
   ],
   "source": [
    "aapl_test\n",
    "aapl_test.plot(y = 'Close')"
   ]
  },
  {
   "cell_type": "code",
   "execution_count": null,
   "id": "47b9c849",
   "metadata": {},
   "outputs": [],
   "source": []
  }
 ],
 "metadata": {
  "kernelspec": {
   "display_name": "Python 3 (ipykernel)",
   "language": "python",
   "name": "python3"
  },
  "language_info": {
   "codemirror_mode": {
    "name": "ipython",
    "version": 3
   },
   "file_extension": ".py",
   "mimetype": "text/x-python",
   "name": "python",
   "nbconvert_exporter": "python",
   "pygments_lexer": "ipython3",
   "version": "3.9.12"
  },
  "toc": {
   "base_numbering": 1,
   "nav_menu": {},
   "number_sections": true,
   "sideBar": true,
   "skip_h1_title": false,
   "title_cell": "Table of Contents",
   "title_sidebar": "Contents",
   "toc_cell": false,
   "toc_position": {},
   "toc_section_display": true,
   "toc_window_display": false
  }
 },
 "nbformat": 4,
 "nbformat_minor": 5
}
