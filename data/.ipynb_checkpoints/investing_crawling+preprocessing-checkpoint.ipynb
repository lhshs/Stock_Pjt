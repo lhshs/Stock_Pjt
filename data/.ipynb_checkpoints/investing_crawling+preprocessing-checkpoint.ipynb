{
 "cells": [
  {
   "cell_type": "code",
   "execution_count": 1,
   "id": "2b3f948a",
   "metadata": {
    "ExecuteTime": {
     "end_time": "2023-04-06T13:40:49.117752Z",
     "start_time": "2023-04-06T13:40:47.168018Z"
    }
   },
   "outputs": [],
   "source": [
    "import pandas as pd\n",
    "from selenium import webdriver\n",
    "import warnings\n",
    "warnings.filterwarnings('ignore')"
   ]
  },
  {
   "cell_type": "code",
   "execution_count": 45,
   "id": "bcdd4518",
   "metadata": {
    "ExecuteTime": {
     "end_time": "2023-04-06T13:54:09.308611Z",
     "start_time": "2023-04-06T13:53:57.587566Z"
    }
   },
   "outputs": [],
   "source": [
    "driver = webdriver.Chrome(r'D:/Stock_Pjt/chromedriver')\n",
    "\n",
    "# 해당 링크로 접속\n",
    "driver.get('https://kr.investing.com/economic-calendar/south-korean-interest-rate-decision-165')"
   ]
  },
  {
   "cell_type": "code",
   "execution_count": 46,
   "id": "88f540c9",
   "metadata": {
    "ExecuteTime": {
     "end_time": "2023-04-06T13:54:27.769841Z",
     "start_time": "2023-04-06T13:54:19.867499Z"
    }
   },
   "outputs": [
    {
     "ename": "ElementNotInteractableException",
     "evalue": "Message: element not interactable\n  (Session info: chrome=111.0.5563.147)\nStacktrace:\nBacktrace:\n\t(No symbol) [0x008FDCE3]\n\t(No symbol) [0x008939D1]\n\t(No symbol) [0x007A4C70]\n\t(No symbol) [0x007D10D6]\n\t(No symbol) [0x007C8D05]\n\t(No symbol) [0x007EAECC]\n\t(No symbol) [0x007C8726]\n\t(No symbol) [0x007EB224]\n\t(No symbol) [0x007FD57C]\n\t(No symbol) [0x007EACC6]\n\t(No symbol) [0x007C6F68]\n\t(No symbol) [0x007C80CD]\n\tGetHandleVerifier [0x00B73832+2506274]\n\tGetHandleVerifier [0x00BA9794+2727300]\n\tGetHandleVerifier [0x00BAE36C+2746716]\n\tGetHandleVerifier [0x009A6690+617600]\n\t(No symbol) [0x0089C712]\n\t(No symbol) [0x008A1FF8]\n\t(No symbol) [0x008A20DB]\n\t(No symbol) [0x008AC63B]\n\tBaseThreadInitThunk [0x765300F9+25]\n\tRtlGetAppContainerNamedObjectPath [0x775D7BBE+286]\n\tRtlGetAppContainerNamedObjectPath [0x775D7B8E+238]\n",
     "output_type": "error",
     "traceback": [
      "\u001b[1;31m---------------------------------------------------------------------------\u001b[0m",
      "\u001b[1;31mElementNotInteractableException\u001b[0m           Traceback (most recent call last)",
      "Input \u001b[1;32mIn [46]\u001b[0m, in \u001b[0;36m<cell line: 2>\u001b[1;34m()\u001b[0m\n\u001b[0;32m      1\u001b[0m \u001b[38;5;66;03m# 밑에 데이터 자동 누르기\u001b[39;00m\n\u001b[0;32m      2\u001b[0m \u001b[38;5;28;01mfor\u001b[39;00m i \u001b[38;5;129;01min\u001b[39;00m \u001b[38;5;28mrange\u001b[39m(\u001b[38;5;241m200\u001b[39m):\n\u001b[1;32m----> 3\u001b[0m     \u001b[43mdriver\u001b[49m\u001b[38;5;241;43m.\u001b[39;49m\u001b[43mfind_element_by_xpath\u001b[49m\u001b[43m(\u001b[49m\u001b[38;5;124;43m'\u001b[39;49m\u001b[38;5;124;43m//*[@id=\u001b[39;49m\u001b[38;5;124;43m\"\u001b[39;49m\u001b[38;5;124;43mshowMoreHistory165\u001b[39;49m\u001b[38;5;124;43m\"\u001b[39;49m\u001b[38;5;124;43m]/a\u001b[39;49m\u001b[38;5;124;43m'\u001b[39;49m\u001b[43m)\u001b[49m\u001b[38;5;241;43m.\u001b[39;49m\u001b[43mclick\u001b[49m\u001b[43m(\u001b[49m\u001b[43m)\u001b[49m\n",
      "File \u001b[1;32mc:\\python38-64\\lib\\site-packages\\selenium\\webdriver\\remote\\webelement.py:81\u001b[0m, in \u001b[0;36mWebElement.click\u001b[1;34m(self)\u001b[0m\n\u001b[0;32m     79\u001b[0m \u001b[38;5;28;01mdef\u001b[39;00m \u001b[38;5;21mclick\u001b[39m(\u001b[38;5;28mself\u001b[39m) \u001b[38;5;241m-\u001b[39m\u001b[38;5;241m>\u001b[39m \u001b[38;5;28;01mNone\u001b[39;00m:\n\u001b[0;32m     80\u001b[0m     \u001b[38;5;124;03m\"\"\"Clicks the element.\"\"\"\u001b[39;00m\n\u001b[1;32m---> 81\u001b[0m     \u001b[38;5;28;43mself\u001b[39;49m\u001b[38;5;241;43m.\u001b[39;49m\u001b[43m_execute\u001b[49m\u001b[43m(\u001b[49m\u001b[43mCommand\u001b[49m\u001b[38;5;241;43m.\u001b[39;49m\u001b[43mCLICK_ELEMENT\u001b[49m\u001b[43m)\u001b[49m\n",
      "File \u001b[1;32mc:\\python38-64\\lib\\site-packages\\selenium\\webdriver\\remote\\webelement.py:710\u001b[0m, in \u001b[0;36mWebElement._execute\u001b[1;34m(self, command, params)\u001b[0m\n\u001b[0;32m    708\u001b[0m     params \u001b[38;5;241m=\u001b[39m {}\n\u001b[0;32m    709\u001b[0m params[\u001b[38;5;124m'\u001b[39m\u001b[38;5;124mid\u001b[39m\u001b[38;5;124m'\u001b[39m] \u001b[38;5;241m=\u001b[39m \u001b[38;5;28mself\u001b[39m\u001b[38;5;241m.\u001b[39m_id\n\u001b[1;32m--> 710\u001b[0m \u001b[38;5;28;01mreturn\u001b[39;00m \u001b[38;5;28;43mself\u001b[39;49m\u001b[38;5;241;43m.\u001b[39;49m\u001b[43m_parent\u001b[49m\u001b[38;5;241;43m.\u001b[39;49m\u001b[43mexecute\u001b[49m\u001b[43m(\u001b[49m\u001b[43mcommand\u001b[49m\u001b[43m,\u001b[49m\u001b[43m \u001b[49m\u001b[43mparams\u001b[49m\u001b[43m)\u001b[49m\n",
      "File \u001b[1;32mc:\\python38-64\\lib\\site-packages\\selenium\\webdriver\\remote\\webdriver.py:425\u001b[0m, in \u001b[0;36mWebDriver.execute\u001b[1;34m(self, driver_command, params)\u001b[0m\n\u001b[0;32m    423\u001b[0m response \u001b[38;5;241m=\u001b[39m \u001b[38;5;28mself\u001b[39m\u001b[38;5;241m.\u001b[39mcommand_executor\u001b[38;5;241m.\u001b[39mexecute(driver_command, params)\n\u001b[0;32m    424\u001b[0m \u001b[38;5;28;01mif\u001b[39;00m response:\n\u001b[1;32m--> 425\u001b[0m     \u001b[38;5;28;43mself\u001b[39;49m\u001b[38;5;241;43m.\u001b[39;49m\u001b[43merror_handler\u001b[49m\u001b[38;5;241;43m.\u001b[39;49m\u001b[43mcheck_response\u001b[49m\u001b[43m(\u001b[49m\u001b[43mresponse\u001b[49m\u001b[43m)\u001b[49m\n\u001b[0;32m    426\u001b[0m     response[\u001b[38;5;124m'\u001b[39m\u001b[38;5;124mvalue\u001b[39m\u001b[38;5;124m'\u001b[39m] \u001b[38;5;241m=\u001b[39m \u001b[38;5;28mself\u001b[39m\u001b[38;5;241m.\u001b[39m_unwrap_value(\n\u001b[0;32m    427\u001b[0m         response\u001b[38;5;241m.\u001b[39mget(\u001b[38;5;124m'\u001b[39m\u001b[38;5;124mvalue\u001b[39m\u001b[38;5;124m'\u001b[39m, \u001b[38;5;28;01mNone\u001b[39;00m))\n\u001b[0;32m    428\u001b[0m     \u001b[38;5;28;01mreturn\u001b[39;00m response\n",
      "File \u001b[1;32mc:\\python38-64\\lib\\site-packages\\selenium\\webdriver\\remote\\errorhandler.py:247\u001b[0m, in \u001b[0;36mErrorHandler.check_response\u001b[1;34m(self, response)\u001b[0m\n\u001b[0;32m    245\u001b[0m         alert_text \u001b[38;5;241m=\u001b[39m value[\u001b[38;5;124m'\u001b[39m\u001b[38;5;124malert\u001b[39m\u001b[38;5;124m'\u001b[39m]\u001b[38;5;241m.\u001b[39mget(\u001b[38;5;124m'\u001b[39m\u001b[38;5;124mtext\u001b[39m\u001b[38;5;124m'\u001b[39m)\n\u001b[0;32m    246\u001b[0m     \u001b[38;5;28;01mraise\u001b[39;00m exception_class(message, screen, stacktrace, alert_text)  \u001b[38;5;66;03m# type: ignore[call-arg]  # mypy is not smart enough here\u001b[39;00m\n\u001b[1;32m--> 247\u001b[0m \u001b[38;5;28;01mraise\u001b[39;00m exception_class(message, screen, stacktrace)\n",
      "\u001b[1;31mElementNotInteractableException\u001b[0m: Message: element not interactable\n  (Session info: chrome=111.0.5563.147)\nStacktrace:\nBacktrace:\n\t(No symbol) [0x008FDCE3]\n\t(No symbol) [0x008939D1]\n\t(No symbol) [0x007A4C70]\n\t(No symbol) [0x007D10D6]\n\t(No symbol) [0x007C8D05]\n\t(No symbol) [0x007EAECC]\n\t(No symbol) [0x007C8726]\n\t(No symbol) [0x007EB224]\n\t(No symbol) [0x007FD57C]\n\t(No symbol) [0x007EACC6]\n\t(No symbol) [0x007C6F68]\n\t(No symbol) [0x007C80CD]\n\tGetHandleVerifier [0x00B73832+2506274]\n\tGetHandleVerifier [0x00BA9794+2727300]\n\tGetHandleVerifier [0x00BAE36C+2746716]\n\tGetHandleVerifier [0x009A6690+617600]\n\t(No symbol) [0x0089C712]\n\t(No symbol) [0x008A1FF8]\n\t(No symbol) [0x008A20DB]\n\t(No symbol) [0x008AC63B]\n\tBaseThreadInitThunk [0x765300F9+25]\n\tRtlGetAppContainerNamedObjectPath [0x775D7BBE+286]\n\tRtlGetAppContainerNamedObjectPath [0x775D7B8E+238]\n"
     ]
    }
   ],
   "source": [
    "# 밑에 데이터 자동 누르기\n",
    "for i in range(200):\n",
    "    driver.find_element_by_xpath('//*[@id=\"showMoreHistory165\"]/a').click()"
   ]
  },
  {
   "cell_type": "code",
   "execution_count": 51,
   "id": "32545bc0",
   "metadata": {
    "ExecuteTime": {
     "end_time": "2023-04-06T13:55:45.272675Z",
     "start_time": "2023-04-06T13:55:45.177929Z"
    }
   },
   "outputs": [
    {
     "ename": "NoSuchElementException",
     "evalue": "Message: no such element: Unable to locate element: {\"method\":\"xpath\",\"selector\":\"//*[@id='eventHistoryTable168']\"}\n  (Session info: chrome=111.0.5563.147)\nStacktrace:\nBacktrace:\n\t(No symbol) [0x008FDCE3]\n\t(No symbol) [0x008939D1]\n\t(No symbol) [0x007A4DA8]\n\t(No symbol) [0x007D019F]\n\t(No symbol) [0x007D03AB]\n\t(No symbol) [0x007FEE62]\n\t(No symbol) [0x007EAF14]\n\t(No symbol) [0x007FD57C]\n\t(No symbol) [0x007EACC6]\n\t(No symbol) [0x007C6F68]\n\t(No symbol) [0x007C80CD]\n\tGetHandleVerifier [0x00B73832+2506274]\n\tGetHandleVerifier [0x00BA9794+2727300]\n\tGetHandleVerifier [0x00BAE36C+2746716]\n\tGetHandleVerifier [0x009A6690+617600]\n\t(No symbol) [0x0089C712]\n\t(No symbol) [0x008A1FF8]\n\t(No symbol) [0x008A20DB]\n\t(No symbol) [0x008AC63B]\n\tBaseThreadInitThunk [0x765300F9+25]\n\tRtlGetAppContainerNamedObjectPath [0x775D7BBE+286]\n\tRtlGetAppContainerNamedObjectPath [0x775D7B8E+238]\n",
     "output_type": "error",
     "traceback": [
      "\u001b[1;31m---------------------------------------------------------------------------\u001b[0m",
      "\u001b[1;31mNoSuchElementException\u001b[0m                    Traceback (most recent call last)",
      "Input \u001b[1;32mIn [51]\u001b[0m, in \u001b[0;36m<cell line: 2>\u001b[1;34m()\u001b[0m\n\u001b[0;32m      1\u001b[0m \u001b[38;5;66;03m# 현재 창에서 스크린샷 찍고 저장\u001b[39;00m\n\u001b[1;32m----> 2\u001b[0m text \u001b[38;5;241m=\u001b[39m \u001b[43mdriver\u001b[49m\u001b[38;5;241;43m.\u001b[39;49m\u001b[43mfind_element_by_xpath\u001b[49m\u001b[43m(\u001b[49m\u001b[38;5;124;43m\"\u001b[39;49m\u001b[38;5;124;43m//*[@id=\u001b[39;49m\u001b[38;5;124;43m'\u001b[39;49m\u001b[38;5;124;43meventHistoryTable168\u001b[39;49m\u001b[38;5;124;43m'\u001b[39;49m\u001b[38;5;124;43m]\u001b[39;49m\u001b[38;5;124;43m\"\u001b[39;49m\u001b[43m)\u001b[49m\n",
      "File \u001b[1;32mc:\\python38-64\\lib\\site-packages\\selenium\\webdriver\\remote\\webdriver.py:521\u001b[0m, in \u001b[0;36mWebDriver.find_element_by_xpath\u001b[1;34m(self, xpath)\u001b[0m\n\u001b[0;32m    499\u001b[0m \u001b[38;5;124;03m\"\"\"\u001b[39;00m\n\u001b[0;32m    500\u001b[0m \u001b[38;5;124;03mFinds an element by xpath.\u001b[39;00m\n\u001b[0;32m    501\u001b[0m \n\u001b[1;32m   (...)\u001b[0m\n\u001b[0;32m    514\u001b[0m \u001b[38;5;124;03m        element = driver.find_element_by_xpath('//div/td[1]')\u001b[39;00m\n\u001b[0;32m    515\u001b[0m \u001b[38;5;124;03m\"\"\"\u001b[39;00m\n\u001b[0;32m    516\u001b[0m warnings\u001b[38;5;241m.\u001b[39mwarn(\n\u001b[0;32m    517\u001b[0m     \u001b[38;5;124m\"\u001b[39m\u001b[38;5;124mfind_element_by_xpath is deprecated. Please use find_element(by=By.XPATH, value=xpath) instead\u001b[39m\u001b[38;5;124m\"\u001b[39m,\n\u001b[0;32m    518\u001b[0m     \u001b[38;5;167;01mDeprecationWarning\u001b[39;00m,\n\u001b[0;32m    519\u001b[0m     stacklevel\u001b[38;5;241m=\u001b[39m\u001b[38;5;241m2\u001b[39m,\n\u001b[0;32m    520\u001b[0m )\n\u001b[1;32m--> 521\u001b[0m \u001b[38;5;28;01mreturn\u001b[39;00m \u001b[38;5;28;43mself\u001b[39;49m\u001b[38;5;241;43m.\u001b[39;49m\u001b[43mfind_element\u001b[49m\u001b[43m(\u001b[49m\u001b[43mby\u001b[49m\u001b[38;5;241;43m=\u001b[39;49m\u001b[43mBy\u001b[49m\u001b[38;5;241;43m.\u001b[39;49m\u001b[43mXPATH\u001b[49m\u001b[43m,\u001b[49m\u001b[43m \u001b[49m\u001b[43mvalue\u001b[49m\u001b[38;5;241;43m=\u001b[39;49m\u001b[43mxpath\u001b[49m\u001b[43m)\u001b[49m\n",
      "File \u001b[1;32mc:\\python38-64\\lib\\site-packages\\selenium\\webdriver\\remote\\webdriver.py:1248\u001b[0m, in \u001b[0;36mWebDriver.find_element\u001b[1;34m(self, by, value)\u001b[0m\n\u001b[0;32m   1245\u001b[0m     by \u001b[38;5;241m=\u001b[39m By\u001b[38;5;241m.\u001b[39mCSS_SELECTOR\n\u001b[0;32m   1246\u001b[0m     value \u001b[38;5;241m=\u001b[39m \u001b[38;5;124m'\u001b[39m\u001b[38;5;124m[name=\u001b[39m\u001b[38;5;124m\"\u001b[39m\u001b[38;5;132;01m%s\u001b[39;00m\u001b[38;5;124m\"\u001b[39m\u001b[38;5;124m]\u001b[39m\u001b[38;5;124m'\u001b[39m \u001b[38;5;241m%\u001b[39m value\n\u001b[1;32m-> 1248\u001b[0m \u001b[38;5;28;01mreturn\u001b[39;00m \u001b[38;5;28;43mself\u001b[39;49m\u001b[38;5;241;43m.\u001b[39;49m\u001b[43mexecute\u001b[49m\u001b[43m(\u001b[49m\u001b[43mCommand\u001b[49m\u001b[38;5;241;43m.\u001b[39;49m\u001b[43mFIND_ELEMENT\u001b[49m\u001b[43m,\u001b[49m\u001b[43m \u001b[49m\u001b[43m{\u001b[49m\n\u001b[0;32m   1249\u001b[0m \u001b[43m    \u001b[49m\u001b[38;5;124;43m'\u001b[39;49m\u001b[38;5;124;43musing\u001b[39;49m\u001b[38;5;124;43m'\u001b[39;49m\u001b[43m:\u001b[49m\u001b[43m \u001b[49m\u001b[43mby\u001b[49m\u001b[43m,\u001b[49m\n\u001b[0;32m   1250\u001b[0m \u001b[43m    \u001b[49m\u001b[38;5;124;43m'\u001b[39;49m\u001b[38;5;124;43mvalue\u001b[39;49m\u001b[38;5;124;43m'\u001b[39;49m\u001b[43m:\u001b[49m\u001b[43m \u001b[49m\u001b[43mvalue\u001b[49m\u001b[43m}\u001b[49m\u001b[43m)\u001b[49m[\u001b[38;5;124m'\u001b[39m\u001b[38;5;124mvalue\u001b[39m\u001b[38;5;124m'\u001b[39m]\n",
      "File \u001b[1;32mc:\\python38-64\\lib\\site-packages\\selenium\\webdriver\\remote\\webdriver.py:425\u001b[0m, in \u001b[0;36mWebDriver.execute\u001b[1;34m(self, driver_command, params)\u001b[0m\n\u001b[0;32m    423\u001b[0m response \u001b[38;5;241m=\u001b[39m \u001b[38;5;28mself\u001b[39m\u001b[38;5;241m.\u001b[39mcommand_executor\u001b[38;5;241m.\u001b[39mexecute(driver_command, params)\n\u001b[0;32m    424\u001b[0m \u001b[38;5;28;01mif\u001b[39;00m response:\n\u001b[1;32m--> 425\u001b[0m     \u001b[38;5;28;43mself\u001b[39;49m\u001b[38;5;241;43m.\u001b[39;49m\u001b[43merror_handler\u001b[49m\u001b[38;5;241;43m.\u001b[39;49m\u001b[43mcheck_response\u001b[49m\u001b[43m(\u001b[49m\u001b[43mresponse\u001b[49m\u001b[43m)\u001b[49m\n\u001b[0;32m    426\u001b[0m     response[\u001b[38;5;124m'\u001b[39m\u001b[38;5;124mvalue\u001b[39m\u001b[38;5;124m'\u001b[39m] \u001b[38;5;241m=\u001b[39m \u001b[38;5;28mself\u001b[39m\u001b[38;5;241m.\u001b[39m_unwrap_value(\n\u001b[0;32m    427\u001b[0m         response\u001b[38;5;241m.\u001b[39mget(\u001b[38;5;124m'\u001b[39m\u001b[38;5;124mvalue\u001b[39m\u001b[38;5;124m'\u001b[39m, \u001b[38;5;28;01mNone\u001b[39;00m))\n\u001b[0;32m    428\u001b[0m     \u001b[38;5;28;01mreturn\u001b[39;00m response\n",
      "File \u001b[1;32mc:\\python38-64\\lib\\site-packages\\selenium\\webdriver\\remote\\errorhandler.py:247\u001b[0m, in \u001b[0;36mErrorHandler.check_response\u001b[1;34m(self, response)\u001b[0m\n\u001b[0;32m    245\u001b[0m         alert_text \u001b[38;5;241m=\u001b[39m value[\u001b[38;5;124m'\u001b[39m\u001b[38;5;124malert\u001b[39m\u001b[38;5;124m'\u001b[39m]\u001b[38;5;241m.\u001b[39mget(\u001b[38;5;124m'\u001b[39m\u001b[38;5;124mtext\u001b[39m\u001b[38;5;124m'\u001b[39m)\n\u001b[0;32m    246\u001b[0m     \u001b[38;5;28;01mraise\u001b[39;00m exception_class(message, screen, stacktrace, alert_text)  \u001b[38;5;66;03m# type: ignore[call-arg]  # mypy is not smart enough here\u001b[39;00m\n\u001b[1;32m--> 247\u001b[0m \u001b[38;5;28;01mraise\u001b[39;00m exception_class(message, screen, stacktrace)\n",
      "\u001b[1;31mNoSuchElementException\u001b[0m: Message: no such element: Unable to locate element: {\"method\":\"xpath\",\"selector\":\"//*[@id='eventHistoryTable168']\"}\n  (Session info: chrome=111.0.5563.147)\nStacktrace:\nBacktrace:\n\t(No symbol) [0x008FDCE3]\n\t(No symbol) [0x008939D1]\n\t(No symbol) [0x007A4DA8]\n\t(No symbol) [0x007D019F]\n\t(No symbol) [0x007D03AB]\n\t(No symbol) [0x007FEE62]\n\t(No symbol) [0x007EAF14]\n\t(No symbol) [0x007FD57C]\n\t(No symbol) [0x007EACC6]\n\t(No symbol) [0x007C6F68]\n\t(No symbol) [0x007C80CD]\n\tGetHandleVerifier [0x00B73832+2506274]\n\tGetHandleVerifier [0x00BA9794+2727300]\n\tGetHandleVerifier [0x00BAE36C+2746716]\n\tGetHandleVerifier [0x009A6690+617600]\n\t(No symbol) [0x0089C712]\n\t(No symbol) [0x008A1FF8]\n\t(No symbol) [0x008A20DB]\n\t(No symbol) [0x008AC63B]\n\tBaseThreadInitThunk [0x765300F9+25]\n\tRtlGetAppContainerNamedObjectPath [0x775D7BBE+286]\n\tRtlGetAppContainerNamedObjectPath [0x775D7B8E+238]\n"
     ]
    }
   ],
   "source": [
    "# 현재 창에서 스크린샷 찍고 저장\n",
    "text = driver.find_element_by_xpath(\"//*[@id='eventHistoryTable168']\") "
   ]
  },
  {
   "cell_type": "code",
   "execution_count": 16,
   "id": "23c684ea",
   "metadata": {
    "ExecuteTime": {
     "end_time": "2023-04-06T13:44:50.209752Z",
     "start_time": "2023-04-06T13:44:50.198781Z"
    }
   },
   "outputs": [],
   "source": [
    "# text 확인\n",
    "# text.text"
   ]
  },
  {
   "cell_type": "code",
   "execution_count": 49,
   "id": "3dcd269c",
   "metadata": {
    "ExecuteTime": {
     "end_time": "2023-04-06T13:54:42.012044Z",
     "start_time": "2023-04-06T13:54:41.988111Z"
    }
   },
   "outputs": [
    {
     "ename": "AttributeError",
     "evalue": "'str' object has no attribute 'text'",
     "output_type": "error",
     "traceback": [
      "\u001b[1;31m---------------------------------------------------------------------------\u001b[0m",
      "\u001b[1;31mAttributeError\u001b[0m                            Traceback (most recent call last)",
      "Input \u001b[1;32mIn [49]\u001b[0m, in \u001b[0;36m<cell line: 2>\u001b[1;34m()\u001b[0m\n\u001b[0;32m      1\u001b[0m \u001b[38;5;66;03m# text 나누기\u001b[39;00m\n\u001b[1;32m----> 2\u001b[0m split_text \u001b[38;5;241m=\u001b[39m \u001b[43mtext\u001b[49m\u001b[38;5;241;43m.\u001b[39;49m\u001b[43mtext\u001b[49m\u001b[38;5;241m.\u001b[39msplit(\u001b[38;5;124m\"\u001b[39m\u001b[38;5;130;01m\\n\u001b[39;00m\u001b[38;5;124m\"\u001b[39m)\n",
      "\u001b[1;31mAttributeError\u001b[0m: 'str' object has no attribute 'text'"
     ]
    }
   ],
   "source": [
    "# text 나누기\n",
    "split_text = text.text.split(\"\\n\")\n",
    "# split_text"
   ]
  },
  {
   "cell_type": "code",
   "execution_count": 50,
   "id": "ddf73c08",
   "metadata": {
    "ExecuteTime": {
     "end_time": "2023-04-06T13:54:42.343351Z",
     "start_time": "2023-04-06T13:54:42.326395Z"
    }
   },
   "outputs": [],
   "source": [
    "df = pd.DataFrame()\n",
    "df = df.reindex(columns = ['Date', 'Value'])"
   ]
  },
  {
   "cell_type": "code",
   "execution_count": 40,
   "id": "cd451ee7",
   "metadata": {
    "ExecuteTime": {
     "end_time": "2023-04-06T13:50:58.744451Z",
     "start_time": "2023-04-06T13:50:58.730428Z"
    }
   },
   "outputs": [],
   "source": [
    "split_text = split_text[7:]\n",
    "# split_text[7:]"
   ]
  },
  {
   "cell_type": "code",
   "execution_count": 41,
   "id": "903a6769",
   "metadata": {
    "ExecuteTime": {
     "end_time": "2023-04-06T13:51:00.499497Z",
     "start_time": "2023-04-06T13:51:00.476341Z"
    }
   },
   "outputs": [
    {
     "data": {
      "text/plain": [
       "['2023년 03월 23일 03:00 5.00% 5.00% 4.75%',\n",
       " '2023년 02월 02일 04:00 4.75% 4.75% 4.50%',\n",
       " '2022년 12월 15일 04:00 4.50% 4.50% 4.00%',\n",
       " '2022년 11월 03일 03:00 4.00% 4.00% 3.25%',\n",
       " '2022년 09월 22일 03:00 3.25% 3.25% 2.50%',\n",
       " '2022년 07월 28일 03:00 2.50% 2.50% 1.75%',\n",
       " '2022년 06월 16일 03:00 1.75% 1.50% 1.00%',\n",
       " '2022년 05월 05일 03:00 1.00% 1.00% 0.50%',\n",
       " '2022년 03월 17일 03:00 0.50% 0.50% 0.25%',\n",
       " '2022년 01월 27일 04:00 0.25% 0.25% 0.25%',\n",
       " '2021년 12월 16일 04:00 0.25% 0.25% 0.25%',\n",
       " '2021년 11월 04일 03:00 0.25% 0.25% 0.25%',\n",
       " '2021년 09월 23일 03:00 0.25% 0.25% 0.25%',\n",
       " '2021년 07월 29일 03:00 0.25% 0.25% 0.25%',\n",
       " '2021년 06월 17일 03:00 0.25% 0.25% 0.25%',\n",
       " '2021년 04월 29일 03:00 0.25% 0.25% 0.25%',\n",
       " '2021년 03월 18일 03:00 0.25% 0.25% 0.25%',\n",
       " '2021년 01월 28일 04:00 0.25% 0.25% 0.25%',\n",
       " '2020년 12월 17일 04:00 0.25% 0.25% 0.25%',\n",
       " '2020년 11월 06일 04:00 0.25% 0.25% 0.25%',\n",
       " '2020년 09월 17일 03:00 0.25% 0.25% 0.25%',\n",
       " '2020년 07월 30일 03:00 0.25% 0.25% 0.25%',\n",
       " '2020년 06월 11일 03:00 0.25% 0.25% 0.25%',\n",
       " '2020년 04월 30일 03:00 0.25% 0.25% 0.25%',\n",
       " '2020년 03월 16일 06:00 0.25%   1.25%',\n",
       " '2020년 03월 04일 00:00 1.25%   1.75%',\n",
       " '2020년 01월 30일 04:00 1.75% 1.75% 1.75%',\n",
       " '2019년 12월 12일 04:00 1.75% 1.75% 1.75%',\n",
       " '2019년 10월 31일 03:00 1.75% 1.75% 2.00%',\n",
       " '2019년 09월 19일 03:00 2.00% 2.00% 2.25%',\n",
       " '2019년 08월 01일 03:00 2.25% 2.25% 2.50%',\n",
       " '2019년 06월 20일 03:00 2.50% 2.50% 2.50%',\n",
       " '2019년 05월 02일 03:00 2.50% 2.50% 2.50%',\n",
       " '2019년 03월 21일 03:00 2.50% 2.50% 2.50%',\n",
       " '2019년 01월 31일 04:00 2.50% 2.50% 2.50%',\n",
       " '2018년 12월 20일 04:00 2.50% 2.50% 2.25%',\n",
       " '2018년 11월 09일 04:00 2.25% 2.25% 2.25%',\n",
       " '2018년 09월 27일 03:00 2.25% 2.25% 2.00%',\n",
       " '2018년 08월 02일 03:00 2.00% 2.00% 2.00%',\n",
       " '2018년 06월 14일 03:00 2.00% 2.00% 1.75%',\n",
       " '2018년 05월 03일 03:00 1.75% 1.75% 1.75%',\n",
       " '2018년 03월 22일 03:00 1.75% 1.75% 1.50%',\n",
       " '2018년 02월 01일 04:00 1.50% 1.50% 1.50%',\n",
       " '2017년 12월 14일 04:00 1.50% 1.50% 1.25%',\n",
       " '2017년 11월 02일 03:00 1.25% 1.25% 1.25%',\n",
       " '2017년 09월 21일 03:00 1.25% 1.25% 1.25%',\n",
       " '2017년 07월 27일 03:00 1.25% 1.25% 1.25%',\n",
       " '2017년 06월 15일 03:00 1.25% 1.25% 1.00%',\n",
       " '2017년 05월 04일 03:00 1.00% 1.00% 1.00%',\n",
       " '2017년 03월 16일 03:00 1.00% 1.00% 0.75%',\n",
       " '2017년 02월 02일 04:00 0.75% 0.75% 0.75%',\n",
       " '2016년 12월 15일 04:00 0.75% 0.75% 0.50%',\n",
       " '2016년 11월 03일 03:00 0.50% 0.50% 0.50%',\n",
       " '2016년 09월 22일 03:00 0.50% 0.50% 0.50%',\n",
       " '2016년 07월 28일 03:00 0.50% 0.50% 0.50%',\n",
       " '2016년 06월 16일 03:00 0.50% 0.50% 0.50%',\n",
       " '2016년 04월 28일 03:00 0.50% 0.50% 0.50%',\n",
       " '2016년 03월 17일 03:00 0.50% 0.50% 0.50%',\n",
       " '2016년 01월 28일 04:00 0.50% 0.50% 0.50%',\n",
       " '2015년 12월 17일 04:00 0.50% 0.50% 0.25%',\n",
       " '2015년 10월 29일 03:00 0.25% 0.25% 0.25%',\n",
       " '2015년 09월 18일 03:00 0.25% 0.25% 0.25%',\n",
       " '2015년 07월 30일 03:00 0.25% 0.25% 0.25%',\n",
       " '2015년 06월 18일 03:00 0.25% 0.25% 0.25%',\n",
       " '2015년 04월 30일 03:00 0.25% 0.25% 0.25%',\n",
       " '2015년 03월 19일 03:00 0.25% 0.25% 0.25%',\n",
       " '2015년 01월 29일 04:00 0.25% 0.25% 0.25%',\n",
       " '2014년 12월 18일 04:00 0.25% 0.25% 0.25%',\n",
       " '2014년 10월 30일 03:00 0.25% 0.25% 0.25%',\n",
       " '2014년 09월 18일 03:00 0.25% 0.25% 0.25%',\n",
       " '2014년 07월 31일 03:00 0.25% 0.25% 0.25%',\n",
       " '2014년 06월 19일 03:00 0.25% 0.25% 0.25%',\n",
       " '2014년 05월 01일 03:00 0.25% 0.25% 0.25%',\n",
       " '2014년 03월 20일 03:00 0.25% 0.25% 0.25%',\n",
       " '2014년 01월 30일 04:00 0.25% 0.25% 0.25%',\n",
       " '2013년 12월 19일 04:00 0.25% 0.25% 0.25%',\n",
       " '2013년 10월 31일 03:00 0.25% 0.25% 0.25%',\n",
       " '2013년 09월 19일 03:00 0.25% 0.25% 0.25%',\n",
       " '2013년 08월 01일 03:00 0.25% 0.25% 0.25%',\n",
       " '2013년 06월 20일 03:00 0.25% 0.25% 0.25%',\n",
       " '2013년 05월 02일 03:00 0.25% 0.25% 0.25%',\n",
       " '2013년 03월 21일 03:00 0.25% 0.25% 0.25%',\n",
       " '2013년 01월 31일 04:15 0.25% 0.25% 0.25%',\n",
       " '2012년 12월 13일 02:30 0.25% 0.25% 0.25%',\n",
       " '2012년 10월 25일 03:15 0.25% 0.25% 0.25%',\n",
       " '2012년 09월 14일 01:30 0.25% 0.25% 0.25%',\n",
       " '2012년 08월 02일 03:15 0.25% 0.25% 0.25%',\n",
       " '2012년 06월 21일 01:30 0.25% 0.25% 0.25%',\n",
       " '2012년 04월 26일 01:30 0.25% 0.25% 0.25%',\n",
       " '2012년 03월 14일 03:15 0.25% 0.25% 0.25%',\n",
       " '2012년 01월 26일 02:30 0.25% 0.25% 0.25%',\n",
       " '2011년 12월 14일 04:15 0.25% 0.25% 0.25%',\n",
       " '2011년 11월 03일 01:30 0.25% 0.25% 0.25%',\n",
       " '2011년 09월 22일 03:15 0.25% 0.25% 0.25%',\n",
       " '2011년 08월 10일 03:15 0.25% 0.25% 0.25%',\n",
       " '2011년 06월 23일 01:30 0.25% 0.25% 0.25%',\n",
       " '2011년 04월 28일 01:30 0.25% 0.25% 0.25%',\n",
       " '2011년 03월 16일 03:15 0.25% 0.25% 0.25%',\n",
       " '2011년 01월 27일 04:15 0.25% 0.25% 0.25%',\n",
       " '2010년 12월 15일 04:15 0.25% 0.25% 0.25%',\n",
       " '2010년 11월 04일 03:15 0.25% 0.25% 0.25%',\n",
       " '2010년 09월 22일 03:15 0.25% 0.25% 0.25%',\n",
       " '2010년 08월 11일 03:15 0.25% 0.25% 0.25%',\n",
       " '2010년 06월 24일 03:15 0.25% 0.25% 0.25%',\n",
       " '2010년 04월 29일 03:15 0.25% 0.25% 0.25%',\n",
       " '2010년 03월 17일 03:15 0.25% 0.25% 0.25%',\n",
       " '2010년 01월 28일 04:15 0.25% 0.25% 0.25%',\n",
       " '2009년 12월 17일 04:15 0.25% 0.25% 0.25%',\n",
       " '2009년 11월 05일 04:15 0.25% 0.25% 0.25%',\n",
       " '2009년 09월 24일 03:15 0.25% 0.25% 0.25%',\n",
       " '2009년 08월 13일 03:15 0.25% 0.25% 0.25%',\n",
       " '2009년 06월 25일 03:15 0.25% 0.25% 0.25%',\n",
       " '2009년 04월 30일 03:15 0.25% 0.25% 0.25%',\n",
       " '2009년 03월 19일 03:15 0.25% 0.25% 0.25%',\n",
       " '2009년 01월 29일 04:15 0.25% 0.25% 0.25%',\n",
       " '2008년 12월 17일 04:15 0.25% 0.50% 1.00%',\n",
       " '2008년 10월 30일 03:15 1.00% 1.00% 1.50%',\n",
       " '2008년 10월 08일 20:00 1.50%   2.00%',\n",
       " '2008년 09월 17일 03:15 2.00% 2.00% 2.00%',\n",
       " '2008년 08월 06일 03:15 2.00%   2.00%',\n",
       " '2008년 06월 26일 03:15 2.00% 2.00% 2.00%',\n",
       " '2008년 05월 01일 03:15 2.00% 2.00% 2.25%',\n",
       " '2008년 03월 19일 03:15 2.25% 2.50% 3.00%',\n",
       " '2008년 01월 31일 03:15 3.00%   3.50%',\n",
       " '2008년 01월 23일 03:15 3.50%   4.25%',\n",
       " '2007년 12월 12일 03:00 4.25%   4.50%',\n",
       " '2007년 11월 01일 03:00 4.50%   4.75%',\n",
       " '2007년 09월 19일 03:00 4.75%   5.25%',\n",
       " '2006년 06월 30일 03:00 5.25%   5.00%',\n",
       " '2006년 05월 11일 03:00 5.00%   4.75%',\n",
       " '2006년 03월 29일 03:00 4.75%   4.50%',\n",
       " '2006년 02월 01일 03:00 4.50%   4.25%',\n",
       " '2005년 12월 14일 03:00 4.25%   4.00%',\n",
       " '2005년 11월 02일 03:00 4.00%   3.75%',\n",
       " '2005년 09월 21일 03:00 3.75%   3.50%',\n",
       " '2005년 08월 10일 03:00 3.50%   3.25%',\n",
       " '2005년 07월 01일 03:00 3.25%   3.00%',\n",
       " '2005년 05월 04일 03:00 3.00%   2.75%',\n",
       " '2005년 03월 23일 03:00 2.75%   2.50%',\n",
       " '2005년 02월 03일 03:00 2.50%   2.25%',\n",
       " '2004년 12월 15일 03:00 2.25%   2.00%',\n",
       " '2004년 11월 11일 03:00 2.00%   1.75%',\n",
       " '2004년 09월 22일 03:00 1.75%   1.50%',\n",
       " '2004년 08월 11일 03:00 1.50%   1.25%',\n",
       " '2004년 07월 01일 03:00 1.25%   1.00%',\n",
       " '2003년 06월 26일 03:00 1.00%   1.25%',\n",
       " '2002년 11월 07일 03:00 1.25%   1.75%',\n",
       " '2001년 12월 12일 03:00 1.75%   2.00%',\n",
       " '2001년 11월 07일 03:00 2.00%   2.50%',\n",
       " '2001년 10월 03일 03:00 2.50%   3.00%',\n",
       " '2001년 09월 18일 03:00 3.00%   3.50%',\n",
       " '2001년 08월 22일 03:00 3.50%   3.75%',\n",
       " '2001년 06월 28일 03:00 3.75%   4.00%',\n",
       " '2001년 05월 16일 03:00 4.00%   4.50%',\n",
       " '2001년 04월 19일 03:00 4.50%   5.00%',\n",
       " '2001년 03월 21일 03:00 5.00%   5.50%',\n",
       " '2001년 02월 01일 03:00 5.50%   6.00%',\n",
       " '2001년 01월 04일 03:00 6.00%   6.50%',\n",
       " '2000년 05월 17일 03:00 6.50%   6.00%',\n",
       " '2000년 03월 22일 03:00 6.00%   5.75%',\n",
       " '2000년 02월 03일 03:00 5.75%   5.50%',\n",
       " '1999년 11월 17일 03:00 5.50%   5.25%',\n",
       " '1999년 08월 25일 03:00 5.25%   5.00%',\n",
       " '1999년 07월 01일 03:00 5.00%   4.75%',\n",
       " '1998년 11월 18일 03:00 4.75%   5.00%',\n",
       " '1998년 10월 16일 03:00 5.00%   5.25%',\n",
       " '1998년 09월 30일 03:00 5.25%   5.50%',\n",
       " '1997년 03월 26일 03:00 5.50%   5.25%',\n",
       " '1996년 02월 01일 03:00 5.25%   5.50%',\n",
       " '1995년 12월 20일 03:00 5.50%   5.75%',\n",
       " '1995년 07월 07일 03:00 5.75%   6.00%',\n",
       " '1995년 02월 02일 03:00 6.00%   5.50%',\n",
       " '1994년 11월 16일 03:00 5.50%   4.75%',\n",
       " '1994년 08월 17일 03:00 4.75%   4.25%',\n",
       " '1994년 05월 18일 03:00 4.25%   3.75%',\n",
       " '1994년 04월 19일 03:00 3.75%   3.50%',\n",
       " '1994년 03월 23일 03:00 3.50%   3.25%',\n",
       " '1994년 02월 05일 03:00 3.25%   3.00%',\n",
       " '1992년 09월 05일 03:00 3.00%   3.25%',\n",
       " '1992년 07월 03일 03:00 3.25%   3.75%',\n",
       " '1992년 04월 10일 03:00 3.75%   4.00%',\n",
       " '1991년 12월 21일 03:00 4.00%   4.50%',\n",
       " '1991년 12월 07일 03:00 4.50%   4.75%',\n",
       " '1991년 11월 07일 03:00 4.75%   5.00%',\n",
       " '1991년 11월 01일 03:00 5.00%   5.25%',\n",
       " '1991년 09월 14일 03:00 5.25%   5.50%',\n",
       " '1991년 08월 07일 03:00 5.50%   5.75%',\n",
       " '1991년 05월 01일 03:00 5.75%   6.00%',\n",
       " '1991년 03월 09일 03:00 6.00%   6.25%',\n",
       " '1991년 02월 02일 03:00 6.25%   6.75%',\n",
       " '1991년 01월 10일 03:00 6.75%   7.00%',\n",
       " '1990년 12월 20일 03:00 7.00%   7.25%',\n",
       " '1990년 12월 08일 03:00 7.25%   7.50%',\n",
       " '1990년 11월 15일 03:00 7.50%   7.75%',\n",
       " '1990년 10월 30일 03:00 7.75%   8.00%',\n",
       " '1990년 07월 14일 03:00 8.00%   8.25%',\n",
       " '1989년 12월 21일 03:00 8.25%   8.50%',\n",
       " '1989년 11월 07일 03:00 8.50%   8.75%',\n",
       " '1989년 10월 20일 03:00 8.75%   9.06%',\n",
       " '1989년 07월 28일 03:00 9.06%   9.31%',\n",
       " '1989년 07월 08일 03:00 9.31%   9.56%',\n",
       " '1989년 06월 07일 03:00 9.56%   9.81%',\n",
       " '1989년 05월 18일 03:00 9.81%   9.75%',\n",
       " '1989년 02월 25일 03:00 9.75%   9.31%',\n",
       " '1989년 02월 15일 03:00 9.31%   9.12%',\n",
       " '1989년 02월 10일 03:00 9.12%   9.00%',\n",
       " '1989년 01월 06일 03:00 9.00%   8.68%',\n",
       " '1988년 12월 16일 03:00 8.68%   8.37%',\n",
       " '1988년 11월 23일 03:00 8.37%   8.31%',\n",
       " '1988년 11월 18일 03:00 8.31%   8.12%',\n",
       " '1988년 08월 10일 03:00 8.12%   7.75%',\n",
       " '1988년 08월 09일 03:00 7.75%   7.68%',\n",
       " '1988년 07월 20일 03:00 7.68%   7.50%',\n",
       " '1988년 07월 02일 03:00 7.50%   7.43%',\n",
       " '1988년 06월 23일 03:00 7.43%   7.25%',\n",
       " '1988년 05월 26일 03:00 7.25%   7.00%',\n",
       " '1988년 05월 10일 03:00 7.00%   6.75%',\n",
       " '1988년 03월 31일 03:00 6.75%   6.50%',\n",
       " '1988년 02월 12일 03:00 6.50%   6.62%',\n",
       " '1988년 01월 29일 03:00 6.62%   6.81%',\n",
       " '1987년 11월 05일 03:00 6.81%   7.31%',\n",
       " '1987년 09월 25일 03:00 7.31%   7.25%',\n",
       " '1987년 09월 05일 03:00 7.25%   6.87%',\n",
       " '1987년 09월 04일 03:00 6.87%   6.75%',\n",
       " '1987년 08월 28일 03:00 6.75%   6.62%',\n",
       " '1987년 07월 03일 03:00 6.62%   6.75%',\n",
       " '1987년 05월 23일 03:00 6.75%   6.50%',\n",
       " '1987년 05월 01일 03:00 6.50%   6.00%',\n",
       " '1987년 01월 06일 03:00 6.00%   5.87%',\n",
       " '1986년 08월 22일 03:00 5.87%   6.37%',\n",
       " '1986년 07월 12일 03:00 6.37%   6.87%',\n",
       " '1986년 06월 06일 03:00 6.87%   6.81%',\n",
       " '1986년 05월 23일 03:00 6.81%   6.75%',\n",
       " '1986년 04월 22일 03:00 6.75%   7.31%',\n",
       " '1986년 04월 03일 03:00 7.31%   7.25%',\n",
       " '1986년 03월 08일 03:00 7.25%   7.75%',\n",
       " '1985년 12월 19일 03:00 7.75%   8.00%',\n",
       " '1985년 09월 07일 03:00 8.00%   7.81%',\n",
       " '1985년 08월 22일 03:00 7.81%   7.75%',\n",
       " '1985년 07월 26일 03:00 7.75%   7.68%',\n",
       " '1985년 07월 12일 03:00 7.68%   7.75%',\n",
       " '1985년 05월 21일 03:00 7.75%   8.25%',\n",
       " '1985년 04월 26일 03:00 8.25%   8.50%',\n",
       " '1985년 03월 29일 03:00 8.50%   8.37%',\n",
       " '1985년 02월 15일 03:00 8.37%   8.25%',\n",
       " '1985년 01월 25일 03:00 8.25%   8.12%',\n",
       " '1984년 12월 25일 03:00 8.12%   8.50%',\n",
       " '1984년 12월 20일 03:00 8.50%   8.75%',\n",
       " '1984년 12월 07일 03:00 8.75%   9.00%',\n",
       " '1984년 11월 24일 03:00 9.00%   9.50%',\n",
       " '1984년 11월 09일 03:00 9.50%   10.00%',\n",
       " '1984년 10월 19일 03:00 10.00%   10.50%',\n",
       " '1984년 10월 12일 03:00 10.50%   11.00%',\n",
       " '1984년 09월 28일 03:00 11.00%   11.25%',\n",
       " '1984년 09월 21일 03:00 11.25%   11.50%',\n",
       " '1984년 08월 10일 03:00 11.50%   11.25%',\n",
       " '1984년 07월 20일 03:00 11.25%   11.00%',\n",
       " '1984년 07월 06일 03:00 11.00%   10.50%',\n",
       " '1984년 03월 30일 03:00 10.50%   9.37%',\n",
       " '1983년 09월 16일 03:00 9.37%   9.50%',\n",
       " '1983년 08월 18일 03:00 9.50%   9.56%',\n",
       " '1983년 08월 12일 03:00 9.56%   9.43%',\n",
       " '1983년 07월 21일 03:00 9.43%   9.25%',\n",
       " '1983년 07월 15일 03:00 9.25%   9.00%',\n",
       " '1983년 06월 25일 03:00 9.00%   8.75%',\n",
       " '1983년 05월 26일 03:00 8.75%   8.62%',\n",
       " '1983년 04월 01일 03:00 8.62%   8.50%',\n",
       " '1982년 12월 15일 03:00 8.50%   9.00%',\n",
       " '1982년 11월 20일 03:00 9.00%   9.50%',\n",
       " '1982년 10월 08일 03:00 9.50%   10.00%',\n",
       " '1982년 10월 02일 03:00 10.00%   10.25%',\n",
       " '1982년 09월 28일 03:00 10.25%    ']"
      ]
     },
     "execution_count": 41,
     "metadata": {},
     "output_type": "execute_result"
    }
   ],
   "source": [
    "split_text"
   ]
  },
  {
   "cell_type": "code",
   "execution_count": 42,
   "id": "5ff43f38",
   "metadata": {
    "ExecuteTime": {
     "end_time": "2023-04-06T13:51:07.675679Z",
     "start_time": "2023-04-06T13:51:05.546349Z"
    }
   },
   "outputs": [
    {
     "ename": "IndexError",
     "evalue": "list index out of range",
     "output_type": "error",
     "traceback": [
      "\u001b[1;31m---------------------------------------------------------------------------\u001b[0m",
      "\u001b[1;31mIndexError\u001b[0m                                Traceback (most recent call last)",
      "Input \u001b[1;32mIn [42]\u001b[0m, in \u001b[0;36m<cell line: 3>\u001b[1;34m()\u001b[0m\n\u001b[0;32m     15\u001b[0m                     temp_list\u001b[38;5;241m.\u001b[39mappend(result)\n\u001b[0;32m     16\u001b[0m                 temp_list\u001b[38;5;241m.\u001b[39mappend(t)\n\u001b[1;32m---> 18\u001b[0m         add_data \u001b[38;5;241m=\u001b[39m {\u001b[38;5;124m'\u001b[39m\u001b[38;5;124mDate\u001b[39m\u001b[38;5;124m'\u001b[39m:temp_list[\u001b[38;5;241m0\u001b[39m],\u001b[38;5;124m'\u001b[39m\u001b[38;5;124mValue\u001b[39m\u001b[38;5;124m'\u001b[39m:\u001b[43mtemp_list\u001b[49m\u001b[43m[\u001b[49m\u001b[38;5;241;43m2\u001b[39;49m\u001b[43m]\u001b[49m}\n\u001b[0;32m     20\u001b[0m         df \u001b[38;5;241m=\u001b[39m df\u001b[38;5;241m.\u001b[39mappend(add_data, ignore_index\u001b[38;5;241m=\u001b[39m\u001b[38;5;28;01mTrue\u001b[39;00m)\n\u001b[0;32m     21\u001b[0m df\n",
      "\u001b[1;31mIndexError\u001b[0m: list index out of range"
     ]
    }
   ],
   "source": [
    "framelist = []\n",
    "\n",
    "for idx, text in enumerate(split_text):\n",
    "    if idx == 0:\n",
    "        pass\n",
    "    else:\n",
    "        temp_list = []\n",
    "        split = text.split()\n",
    "        result = ''\n",
    "        for idx, t in enumerate(split):\n",
    "            if idx <= 3:\n",
    "                result += t\n",
    "            elif idx > 3:\n",
    "                if not(result in temp_list):\n",
    "                    temp_list.append(result)\n",
    "                temp_list.append(t)\n",
    "                \n",
    "        add_data = {'Date':temp_list[0],'Value':temp_list[2]}\n",
    "        \n",
    "        df = df.append(add_data, ignore_index=True)\n",
    "df"
   ]
  },
  {
   "cell_type": "code",
   "execution_count": 43,
   "id": "89ec688f",
   "metadata": {
    "ExecuteTime": {
     "end_time": "2023-04-06T13:51:42.894509Z",
     "start_time": "2023-04-06T13:51:42.878551Z"
    }
   },
   "outputs": [
    {
     "data": {
      "text/html": [
       "<div>\n",
       "<style scoped>\n",
       "    .dataframe tbody tr th:only-of-type {\n",
       "        vertical-align: middle;\n",
       "    }\n",
       "\n",
       "    .dataframe tbody tr th {\n",
       "        vertical-align: top;\n",
       "    }\n",
       "\n",
       "    .dataframe thead th {\n",
       "        text-align: right;\n",
       "    }\n",
       "</style>\n",
       "<table border=\"1\" class=\"dataframe\">\n",
       "  <thead>\n",
       "    <tr style=\"text-align: right;\">\n",
       "      <th></th>\n",
       "      <th>Date</th>\n",
       "      <th>Value</th>\n",
       "    </tr>\n",
       "  </thead>\n",
       "  <tbody>\n",
       "    <tr>\n",
       "      <th>0</th>\n",
       "      <td>2023년02월02일04:00</td>\n",
       "      <td>4.75%</td>\n",
       "    </tr>\n",
       "    <tr>\n",
       "      <th>1</th>\n",
       "      <td>2022년12월15일04:00</td>\n",
       "      <td>4.50%</td>\n",
       "    </tr>\n",
       "    <tr>\n",
       "      <th>2</th>\n",
       "      <td>2022년11월03일03:00</td>\n",
       "      <td>4.00%</td>\n",
       "    </tr>\n",
       "    <tr>\n",
       "      <th>3</th>\n",
       "      <td>2022년09월22일03:00</td>\n",
       "      <td>3.25%</td>\n",
       "    </tr>\n",
       "    <tr>\n",
       "      <th>4</th>\n",
       "      <td>2022년07월28일03:00</td>\n",
       "      <td>2.50%</td>\n",
       "    </tr>\n",
       "    <tr>\n",
       "      <th>...</th>\n",
       "      <td>...</td>\n",
       "      <td>...</td>\n",
       "    </tr>\n",
       "    <tr>\n",
       "      <th>265</th>\n",
       "      <td>1983년04월01일03:00</td>\n",
       "      <td>8.50%</td>\n",
       "    </tr>\n",
       "    <tr>\n",
       "      <th>266</th>\n",
       "      <td>1982년12월15일03:00</td>\n",
       "      <td>9.00%</td>\n",
       "    </tr>\n",
       "    <tr>\n",
       "      <th>267</th>\n",
       "      <td>1982년11월20일03:00</td>\n",
       "      <td>9.50%</td>\n",
       "    </tr>\n",
       "    <tr>\n",
       "      <th>268</th>\n",
       "      <td>1982년10월08일03:00</td>\n",
       "      <td>10.00%</td>\n",
       "    </tr>\n",
       "    <tr>\n",
       "      <th>269</th>\n",
       "      <td>1982년10월02일03:00</td>\n",
       "      <td>10.25%</td>\n",
       "    </tr>\n",
       "  </tbody>\n",
       "</table>\n",
       "<p>270 rows × 2 columns</p>\n",
       "</div>"
      ],
      "text/plain": [
       "                 Date   Value\n",
       "0    2023년02월02일04:00   4.75%\n",
       "1    2022년12월15일04:00   4.50%\n",
       "2    2022년11월03일03:00   4.00%\n",
       "3    2022년09월22일03:00   3.25%\n",
       "4    2022년07월28일03:00   2.50%\n",
       "..                ...     ...\n",
       "265  1983년04월01일03:00   8.50%\n",
       "266  1982년12월15일03:00   9.00%\n",
       "267  1982년11월20일03:00   9.50%\n",
       "268  1982년10월08일03:00  10.00%\n",
       "269  1982년10월02일03:00  10.25%\n",
       "\n",
       "[270 rows x 2 columns]"
      ]
     },
     "execution_count": 43,
     "metadata": {},
     "output_type": "execute_result"
    }
   ],
   "source": [
    "df"
   ]
  },
  {
   "cell_type": "code",
   "execution_count": 29,
   "id": "60adb9cc",
   "metadata": {
    "ExecuteTime": {
     "end_time": "2023-04-06T13:46:34.911213Z",
     "start_time": "2023-04-06T13:46:34.746654Z"
    }
   },
   "outputs": [],
   "source": [
    "for i in range(len(df)):\n",
    "    df.Date[i] = df.Date[i][:7]\n",
    "    df.Date[i] = df.Date[i].replace('년', '-')\n",
    "    \n",
    "    # 해당 월 다음달에 지표가 발표되므로 월에 해당하는 값을 대입하기 위해 -1\n",
    "    arr_month = int(df.Date[i][-2:])-1  \n",
    "    if arr_month < 10:\n",
    "        arr_month = '0' + str(arr_month)\n",
    "        if arr_month == '00':  # 00으로 책정된 값은 12월로 설정해준 후 년도에서 -1\n",
    "            arr_month = '12'\n",
    "            df.Date[i] = str(int(df.Date[i][:4])-1) + '-' + arr_month \n",
    "        else:\n",
    "            df.Date[i] = df.Date[i][:5] + str(arr_month)\n",
    "    else:\n",
    "        df.Date[i] = df.Date[i][:5] + str(arr_month)\n",
    "        "
   ]
  },
  {
   "cell_type": "code",
   "execution_count": 30,
   "id": "a5aeb3af",
   "metadata": {
    "ExecuteTime": {
     "end_time": "2023-04-06T13:46:36.411396Z",
     "start_time": "2023-04-06T13:46:36.382901Z"
    }
   },
   "outputs": [
    {
     "data": {
      "text/html": [
       "<div>\n",
       "<style scoped>\n",
       "    .dataframe tbody tr th:only-of-type {\n",
       "        vertical-align: middle;\n",
       "    }\n",
       "\n",
       "    .dataframe tbody tr th {\n",
       "        vertical-align: top;\n",
       "    }\n",
       "\n",
       "    .dataframe thead th {\n",
       "        text-align: right;\n",
       "    }\n",
       "</style>\n",
       "<table border=\"1\" class=\"dataframe\">\n",
       "  <thead>\n",
       "    <tr style=\"text-align: right;\">\n",
       "      <th></th>\n",
       "      <th>Date</th>\n",
       "      <th>Value</th>\n",
       "    </tr>\n",
       "  </thead>\n",
       "  <tbody>\n",
       "    <tr>\n",
       "      <th>0</th>\n",
       "      <td>2023-01</td>\n",
       "      <td>4.75%</td>\n",
       "    </tr>\n",
       "    <tr>\n",
       "      <th>1</th>\n",
       "      <td>2022-11</td>\n",
       "      <td>4.50%</td>\n",
       "    </tr>\n",
       "    <tr>\n",
       "      <th>2</th>\n",
       "      <td>2022-10</td>\n",
       "      <td>4.00%</td>\n",
       "    </tr>\n",
       "    <tr>\n",
       "      <th>3</th>\n",
       "      <td>2022-08</td>\n",
       "      <td>3.25%</td>\n",
       "    </tr>\n",
       "    <tr>\n",
       "      <th>4</th>\n",
       "      <td>2022-06</td>\n",
       "      <td>2.50%</td>\n",
       "    </tr>\n",
       "    <tr>\n",
       "      <th>...</th>\n",
       "      <td>...</td>\n",
       "      <td>...</td>\n",
       "    </tr>\n",
       "    <tr>\n",
       "      <th>265</th>\n",
       "      <td>1983-03</td>\n",
       "      <td>8.50%</td>\n",
       "    </tr>\n",
       "    <tr>\n",
       "      <th>266</th>\n",
       "      <td>1982-11</td>\n",
       "      <td>9.00%</td>\n",
       "    </tr>\n",
       "    <tr>\n",
       "      <th>267</th>\n",
       "      <td>1982-10</td>\n",
       "      <td>9.50%</td>\n",
       "    </tr>\n",
       "    <tr>\n",
       "      <th>268</th>\n",
       "      <td>1982-09</td>\n",
       "      <td>10.00%</td>\n",
       "    </tr>\n",
       "    <tr>\n",
       "      <th>269</th>\n",
       "      <td>1982-09</td>\n",
       "      <td>10.25%</td>\n",
       "    </tr>\n",
       "  </tbody>\n",
       "</table>\n",
       "<p>270 rows × 2 columns</p>\n",
       "</div>"
      ],
      "text/plain": [
       "        Date   Value\n",
       "0    2023-01   4.75%\n",
       "1    2022-11   4.50%\n",
       "2    2022-10   4.00%\n",
       "3    2022-08   3.25%\n",
       "4    2022-06   2.50%\n",
       "..       ...     ...\n",
       "265  1983-03   8.50%\n",
       "266  1982-11   9.00%\n",
       "267  1982-10   9.50%\n",
       "268  1982-09  10.00%\n",
       "269  1982-09  10.25%\n",
       "\n",
       "[270 rows x 2 columns]"
      ]
     },
     "execution_count": 30,
     "metadata": {},
     "output_type": "execute_result"
    }
   ],
   "source": [
    "df"
   ]
  },
  {
   "cell_type": "code",
   "execution_count": null,
   "id": "dc649490",
   "metadata": {
    "ExecuteTime": {
     "end_time": "2023-04-05T13:04:10.205222Z",
     "start_time": "2023-04-05T13:04:10.181290Z"
    }
   },
   "outputs": [],
   "source": [
    "# df.tail(30)"
   ]
  },
  {
   "cell_type": "code",
   "execution_count": 11,
   "id": "3d577399",
   "metadata": {
    "ExecuteTime": {
     "end_time": "2023-04-06T13:42:50.570632Z",
     "start_time": "2023-04-06T13:42:50.547694Z"
    }
   },
   "outputs": [],
   "source": [
    "df.to_csv('korea_interest_rate(1999.05-2023.02).csv')"
   ]
  },
  {
   "cell_type": "code",
   "execution_count": 52,
   "id": "4703c02b",
   "metadata": {
    "ExecuteTime": {
     "end_time": "2023-04-06T13:56:27.951875Z",
     "start_time": "2023-04-06T13:56:25.649221Z"
    }
   },
   "outputs": [],
   "source": [
    "driver.quit()"
   ]
  },
  {
   "cell_type": "code",
   "execution_count": null,
   "id": "905d6e37",
   "metadata": {},
   "outputs": [],
   "source": []
  }
 ],
 "metadata": {
  "kernelspec": {
   "display_name": "Python 3 (ipykernel)",
   "language": "python",
   "name": "python3"
  },
  "language_info": {
   "codemirror_mode": {
    "name": "ipython",
    "version": 3
   },
   "file_extension": ".py",
   "mimetype": "text/x-python",
   "name": "python",
   "nbconvert_exporter": "python",
   "pygments_lexer": "ipython3",
   "version": "3.8.9"
  }
 },
 "nbformat": 4,
 "nbformat_minor": 5
}
