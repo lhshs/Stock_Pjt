{
 "cells": [
  {
   "cell_type": "code",
   "execution_count": 1,
   "id": "2b3f948a",
   "metadata": {
    "ExecuteTime": {
     "end_time": "2023-04-06T07:55:42.790036Z",
     "start_time": "2023-04-06T07:55:40.875013Z"
    }
   },
   "outputs": [],
   "source": [
    "import pandas as pd\n",
    "from selenium import webdriver\n",
    "import warnings\n",
    "warnings.filterwarnings('ignore')"
   ]
  },
  {
   "cell_type": "code",
   "execution_count": 25,
   "id": "bcdd4518",
   "metadata": {
    "ExecuteTime": {
     "end_time": "2023-04-06T07:59:53.794837Z",
     "start_time": "2023-04-06T07:59:43.036442Z"
    }
   },
   "outputs": [],
   "source": [
    "driver = webdriver.Chrome(r'D:/Stock_Pjt/chromedriver')\n",
    "\n",
    "# 해당 링크로 접속\n",
    "driver.get('https://kr.investing.com/economic-calendar/unemployment-rate-298')"
   ]
  },
  {
   "cell_type": "code",
   "execution_count": 26,
   "id": "88f540c9",
   "metadata": {
    "ExecuteTime": {
     "end_time": "2023-04-06T08:00:05.040543Z",
     "start_time": "2023-04-06T07:59:53.797831Z"
    }
   },
   "outputs": [],
   "source": [
    "# 밑에 데이터 자동 누르기\n",
    "for i in range(200):\n",
    "    driver.find_element_by_xpath('//*[@id=\"showMoreHistory298\"]/a').click()"
   ]
  },
  {
   "cell_type": "code",
   "execution_count": 27,
   "id": "32545bc0",
   "metadata": {
    "ExecuteTime": {
     "end_time": "2023-04-06T08:00:07.632833Z",
     "start_time": "2023-04-06T08:00:07.599922Z"
    }
   },
   "outputs": [],
   "source": [
    "# 현재 창에서 스크린샷 찍고 저장\n",
    "text = driver.find_element_by_xpath(\"//*[@id='eventHistoryTable298']\") "
   ]
  },
  {
   "cell_type": "code",
   "execution_count": null,
   "id": "23c684ea",
   "metadata": {
    "ExecuteTime": {
     "end_time": "2023-04-05T12:50:08.954436Z",
     "start_time": "2023-04-05T12:50:04.196993Z"
    }
   },
   "outputs": [],
   "source": [
    "# text 확인\n",
    "# text.text"
   ]
  },
  {
   "cell_type": "code",
   "execution_count": 28,
   "id": "3dcd269c",
   "metadata": {
    "ExecuteTime": {
     "end_time": "2023-04-06T08:00:09.251304Z",
     "start_time": "2023-04-06T08:00:08.642933Z"
    }
   },
   "outputs": [],
   "source": [
    "# text 나누기\n",
    "split_text = text.text.split(\"\\n\")\n",
    "# split_text"
   ]
  },
  {
   "cell_type": "code",
   "execution_count": 29,
   "id": "ddf73c08",
   "metadata": {
    "ExecuteTime": {
     "end_time": "2023-04-06T08:00:09.266264Z",
     "start_time": "2023-04-06T08:00:09.253299Z"
    }
   },
   "outputs": [],
   "source": [
    "df = pd.DataFrame()\n",
    "df = df.reindex(columns = ['Date', 'Value'])"
   ]
  },
  {
   "cell_type": "code",
   "execution_count": 30,
   "id": "5ff43f38",
   "metadata": {
    "ExecuteTime": {
     "end_time": "2023-04-06T08:00:14.603045Z",
     "start_time": "2023-04-06T08:00:11.729420Z"
    }
   },
   "outputs": [
    {
     "data": {
      "text/html": [
       "<div>\n",
       "<style scoped>\n",
       "    .dataframe tbody tr th:only-of-type {\n",
       "        vertical-align: middle;\n",
       "    }\n",
       "\n",
       "    .dataframe tbody tr th {\n",
       "        vertical-align: top;\n",
       "    }\n",
       "\n",
       "    .dataframe thead th {\n",
       "        text-align: right;\n",
       "    }\n",
       "</style>\n",
       "<table border=\"1\" class=\"dataframe\">\n",
       "  <thead>\n",
       "    <tr style=\"text-align: right;\">\n",
       "      <th></th>\n",
       "      <th>Date</th>\n",
       "      <th>Value</th>\n",
       "    </tr>\n",
       "  </thead>\n",
       "  <tbody>\n",
       "    <tr>\n",
       "      <th>0</th>\n",
       "      <td>2023년03월31일(2월)</td>\n",
       "      <td>2.6%</td>\n",
       "    </tr>\n",
       "    <tr>\n",
       "      <th>1</th>\n",
       "      <td>2023년03월03일(1월)</td>\n",
       "      <td>2.4%</td>\n",
       "    </tr>\n",
       "    <tr>\n",
       "      <th>2</th>\n",
       "      <td>2023년01월31일(12월)</td>\n",
       "      <td>2.5%</td>\n",
       "    </tr>\n",
       "    <tr>\n",
       "      <th>3</th>\n",
       "      <td>2022년12월27일(11월)</td>\n",
       "      <td>2.5%</td>\n",
       "    </tr>\n",
       "    <tr>\n",
       "      <th>4</th>\n",
       "      <td>2022년11월29일(10월)</td>\n",
       "      <td>2.6%</td>\n",
       "    </tr>\n",
       "    <tr>\n",
       "      <th>...</th>\n",
       "      <td>...</td>\n",
       "      <td>...</td>\n",
       "    </tr>\n",
       "    <tr>\n",
       "      <th>277</th>\n",
       "      <td>2000년02월01일(1월)</td>\n",
       "      <td>4.70%</td>\n",
       "    </tr>\n",
       "    <tr>\n",
       "      <th>278</th>\n",
       "      <td>2000년01월01일(12월)</td>\n",
       "      <td>4.70%</td>\n",
       "    </tr>\n",
       "    <tr>\n",
       "      <th>279</th>\n",
       "      <td>1999년12월01일(11월)</td>\n",
       "      <td>4.60%</td>\n",
       "    </tr>\n",
       "    <tr>\n",
       "      <th>280</th>\n",
       "      <td>1999년11월01일(10월)</td>\n",
       "      <td>4.60%</td>\n",
       "    </tr>\n",
       "    <tr>\n",
       "      <th>281</th>\n",
       "      <td>1999년10월01일(9월)</td>\n",
       "      <td>4.60%</td>\n",
       "    </tr>\n",
       "  </tbody>\n",
       "</table>\n",
       "<p>282 rows × 2 columns</p>\n",
       "</div>"
      ],
      "text/plain": [
       "                 Date  Value\n",
       "0     2023년03월31일(2월)   2.6%\n",
       "1     2023년03월03일(1월)   2.4%\n",
       "2    2023년01월31일(12월)   2.5%\n",
       "3    2022년12월27일(11월)   2.5%\n",
       "4    2022년11월29일(10월)   2.6%\n",
       "..                ...    ...\n",
       "277   2000년02월01일(1월)  4.70%\n",
       "278  2000년01월01일(12월)  4.70%\n",
       "279  1999년12월01일(11월)  4.60%\n",
       "280  1999년11월01일(10월)  4.60%\n",
       "281   1999년10월01일(9월)  4.60%\n",
       "\n",
       "[282 rows x 2 columns]"
      ]
     },
     "execution_count": 30,
     "metadata": {},
     "output_type": "execute_result"
    }
   ],
   "source": [
    "framelist = []\n",
    "\n",
    "for idx, text in enumerate(split_text):\n",
    "    if idx == 0:\n",
    "        pass\n",
    "    else:\n",
    "        temp_list = []\n",
    "        split = text.split()\n",
    "        result = ''\n",
    "        for idx, t in enumerate(split):\n",
    "            if idx <= 3:\n",
    "                result += t\n",
    "            elif idx > 3:\n",
    "                if not(result in temp_list):\n",
    "                    temp_list.append(result)\n",
    "                temp_list.append(t)\n",
    "                \n",
    "        add_data = {'Date':temp_list[0],'Value':temp_list[2]}\n",
    "        \n",
    "        df = df.append(add_data, ignore_index=True)\n",
    "df"
   ]
  },
  {
   "cell_type": "code",
   "execution_count": 31,
   "id": "60adb9cc",
   "metadata": {
    "ExecuteTime": {
     "end_time": "2023-04-06T08:00:16.716197Z",
     "start_time": "2023-04-06T08:00:16.583550Z"
    }
   },
   "outputs": [],
   "source": [
    "for i in range(len(df)):\n",
    "    df.Date[i] = df.Date[i][:7]\n",
    "    df.Date[i] = df.Date[i].replace('년', '-')\n",
    "    \n",
    "    # 해당 월 다음달에 지표가 발표되므로 월에 해당하는 값을 대입하기 위해 -1\n",
    "    arr_month = int(df.Date[i][-2:])-1  \n",
    "    if arr_month < 10:\n",
    "        arr_month = '0' + str(arr_month)\n",
    "        if arr_month == '00':  # 00으로 책정된 값은 12월로 설정해준 후 년도에서 -1\n",
    "            arr_month = '12'\n",
    "            df.Date[i] = str(int(df.Date[i][:4])-1) + '-' + arr_month \n",
    "        else:\n",
    "            df.Date[i] = df.Date[i][:5] + str(arr_month)\n",
    "    else:\n",
    "        df.Date[i] = df.Date[i][:5] + str(arr_month)\n",
    "        "
   ]
  },
  {
   "cell_type": "code",
   "execution_count": 32,
   "id": "a5aeb3af",
   "metadata": {
    "ExecuteTime": {
     "end_time": "2023-04-06T08:00:16.930543Z",
     "start_time": "2023-04-06T08:00:16.915585Z"
    }
   },
   "outputs": [
    {
     "data": {
      "text/html": [
       "<div>\n",
       "<style scoped>\n",
       "    .dataframe tbody tr th:only-of-type {\n",
       "        vertical-align: middle;\n",
       "    }\n",
       "\n",
       "    .dataframe tbody tr th {\n",
       "        vertical-align: top;\n",
       "    }\n",
       "\n",
       "    .dataframe thead th {\n",
       "        text-align: right;\n",
       "    }\n",
       "</style>\n",
       "<table border=\"1\" class=\"dataframe\">\n",
       "  <thead>\n",
       "    <tr style=\"text-align: right;\">\n",
       "      <th></th>\n",
       "      <th>Date</th>\n",
       "      <th>Value</th>\n",
       "    </tr>\n",
       "  </thead>\n",
       "  <tbody>\n",
       "    <tr>\n",
       "      <th>0</th>\n",
       "      <td>2023-02</td>\n",
       "      <td>2.6%</td>\n",
       "    </tr>\n",
       "    <tr>\n",
       "      <th>1</th>\n",
       "      <td>2023-02</td>\n",
       "      <td>2.4%</td>\n",
       "    </tr>\n",
       "    <tr>\n",
       "      <th>2</th>\n",
       "      <td>2022-12</td>\n",
       "      <td>2.5%</td>\n",
       "    </tr>\n",
       "    <tr>\n",
       "      <th>3</th>\n",
       "      <td>2022-11</td>\n",
       "      <td>2.5%</td>\n",
       "    </tr>\n",
       "    <tr>\n",
       "      <th>4</th>\n",
       "      <td>2022-10</td>\n",
       "      <td>2.6%</td>\n",
       "    </tr>\n",
       "    <tr>\n",
       "      <th>...</th>\n",
       "      <td>...</td>\n",
       "      <td>...</td>\n",
       "    </tr>\n",
       "    <tr>\n",
       "      <th>277</th>\n",
       "      <td>2000-01</td>\n",
       "      <td>4.70%</td>\n",
       "    </tr>\n",
       "    <tr>\n",
       "      <th>278</th>\n",
       "      <td>1999-12</td>\n",
       "      <td>4.70%</td>\n",
       "    </tr>\n",
       "    <tr>\n",
       "      <th>279</th>\n",
       "      <td>1999-11</td>\n",
       "      <td>4.60%</td>\n",
       "    </tr>\n",
       "    <tr>\n",
       "      <th>280</th>\n",
       "      <td>1999-10</td>\n",
       "      <td>4.60%</td>\n",
       "    </tr>\n",
       "    <tr>\n",
       "      <th>281</th>\n",
       "      <td>1999-09</td>\n",
       "      <td>4.60%</td>\n",
       "    </tr>\n",
       "  </tbody>\n",
       "</table>\n",
       "<p>282 rows × 2 columns</p>\n",
       "</div>"
      ],
      "text/plain": [
       "        Date  Value\n",
       "0    2023-02   2.6%\n",
       "1    2023-02   2.4%\n",
       "2    2022-12   2.5%\n",
       "3    2022-11   2.5%\n",
       "4    2022-10   2.6%\n",
       "..       ...    ...\n",
       "277  2000-01  4.70%\n",
       "278  1999-12  4.70%\n",
       "279  1999-11  4.60%\n",
       "280  1999-10  4.60%\n",
       "281  1999-09  4.60%\n",
       "\n",
       "[282 rows x 2 columns]"
      ]
     },
     "execution_count": 32,
     "metadata": {},
     "output_type": "execute_result"
    }
   ],
   "source": [
    "df"
   ]
  },
  {
   "cell_type": "code",
   "execution_count": 64,
   "id": "dc649490",
   "metadata": {
    "ExecuteTime": {
     "end_time": "2023-04-05T13:04:10.205222Z",
     "start_time": "2023-04-05T13:04:10.181290Z"
    },
    "collapsed": true
   },
   "outputs": [
    {
     "data": {
      "text/html": [
       "<div>\n",
       "<style scoped>\n",
       "    .dataframe tbody tr th:only-of-type {\n",
       "        vertical-align: middle;\n",
       "    }\n",
       "\n",
       "    .dataframe tbody tr th {\n",
       "        vertical-align: top;\n",
       "    }\n",
       "\n",
       "    .dataframe thead th {\n",
       "        text-align: right;\n",
       "    }\n",
       "</style>\n",
       "<table border=\"1\" class=\"dataframe\">\n",
       "  <thead>\n",
       "    <tr style=\"text-align: right;\">\n",
       "      <th></th>\n",
       "      <th>Date</th>\n",
       "      <th>Value</th>\n",
       "    </tr>\n",
       "  </thead>\n",
       "  <tbody>\n",
       "    <tr>\n",
       "      <th>414</th>\n",
       "      <td>1988-09</td>\n",
       "      <td>26.40%</td>\n",
       "    </tr>\n",
       "    <tr>\n",
       "      <th>415</th>\n",
       "      <td>1988-08</td>\n",
       "      <td>23.60%</td>\n",
       "    </tr>\n",
       "    <tr>\n",
       "      <th>416</th>\n",
       "      <td>1988-07</td>\n",
       "      <td>19.20%</td>\n",
       "    </tr>\n",
       "    <tr>\n",
       "      <th>417</th>\n",
       "      <td>1988-06</td>\n",
       "      <td>16.30%</td>\n",
       "    </tr>\n",
       "    <tr>\n",
       "      <th>418</th>\n",
       "      <td>1988-05</td>\n",
       "      <td>14.20%</td>\n",
       "    </tr>\n",
       "    <tr>\n",
       "      <th>419</th>\n",
       "      <td>1988-04</td>\n",
       "      <td>12.20%</td>\n",
       "    </tr>\n",
       "    <tr>\n",
       "      <th>420</th>\n",
       "      <td>1988-03</td>\n",
       "      <td>11.30%</td>\n",
       "    </tr>\n",
       "    <tr>\n",
       "      <th>421</th>\n",
       "      <td>1988-02</td>\n",
       "      <td>10.40%</td>\n",
       "    </tr>\n",
       "    <tr>\n",
       "      <th>422</th>\n",
       "      <td>1988-01</td>\n",
       "      <td>9.30%</td>\n",
       "    </tr>\n",
       "    <tr>\n",
       "      <th>423</th>\n",
       "      <td>1987-12</td>\n",
       "      <td>8.90%</td>\n",
       "    </tr>\n",
       "    <tr>\n",
       "      <th>424</th>\n",
       "      <td>1987-11</td>\n",
       "      <td>8.30%</td>\n",
       "    </tr>\n",
       "    <tr>\n",
       "      <th>425</th>\n",
       "      <td>1987-10</td>\n",
       "      <td>7.50%</td>\n",
       "    </tr>\n",
       "    <tr>\n",
       "      <th>426</th>\n",
       "      <td>1987-09</td>\n",
       "      <td>7.70%</td>\n",
       "    </tr>\n",
       "    <tr>\n",
       "      <th>427</th>\n",
       "      <td>1987-08</td>\n",
       "      <td>8.20%</td>\n",
       "    </tr>\n",
       "    <tr>\n",
       "      <th>428</th>\n",
       "      <td>1987-07</td>\n",
       "      <td>7.80%</td>\n",
       "    </tr>\n",
       "    <tr>\n",
       "      <th>429</th>\n",
       "      <td>1987-06</td>\n",
       "      <td>7.80%</td>\n",
       "    </tr>\n",
       "    <tr>\n",
       "      <th>430</th>\n",
       "      <td>1987-05</td>\n",
       "      <td>7.60%</td>\n",
       "    </tr>\n",
       "    <tr>\n",
       "      <th>431</th>\n",
       "      <td>1987-04</td>\n",
       "      <td>6.70%</td>\n",
       "    </tr>\n",
       "    <tr>\n",
       "      <th>432</th>\n",
       "      <td>1987-03</td>\n",
       "      <td>5.80%</td>\n",
       "    </tr>\n",
       "    <tr>\n",
       "      <th>433</th>\n",
       "      <td>1987-02</td>\n",
       "      <td>5.40%</td>\n",
       "    </tr>\n",
       "    <tr>\n",
       "      <th>434</th>\n",
       "      <td>1987-01</td>\n",
       "      <td>5.10%</td>\n",
       "    </tr>\n",
       "    <tr>\n",
       "      <th>435</th>\n",
       "      <td>1986-12</td>\n",
       "      <td>7.10%</td>\n",
       "    </tr>\n",
       "    <tr>\n",
       "      <th>436</th>\n",
       "      <td>1986-11</td>\n",
       "      <td>7.10%</td>\n",
       "    </tr>\n",
       "    <tr>\n",
       "      <th>437</th>\n",
       "      <td>1986-10</td>\n",
       "      <td>7.10%</td>\n",
       "    </tr>\n",
       "    <tr>\n",
       "      <th>438</th>\n",
       "      <td>1986-09</td>\n",
       "      <td>7.10%</td>\n",
       "    </tr>\n",
       "    <tr>\n",
       "      <th>439</th>\n",
       "      <td>1986-08</td>\n",
       "      <td>7.10%</td>\n",
       "    </tr>\n",
       "    <tr>\n",
       "      <th>440</th>\n",
       "      <td>1986-07</td>\n",
       "      <td>7.10%</td>\n",
       "    </tr>\n",
       "    <tr>\n",
       "      <th>441</th>\n",
       "      <td>1986-06</td>\n",
       "      <td>7.10%</td>\n",
       "    </tr>\n",
       "    <tr>\n",
       "      <th>442</th>\n",
       "      <td>1986-05</td>\n",
       "      <td>7.10%</td>\n",
       "    </tr>\n",
       "    <tr>\n",
       "      <th>443</th>\n",
       "      <td>1986-04</td>\n",
       "      <td>7.10%</td>\n",
       "    </tr>\n",
       "  </tbody>\n",
       "</table>\n",
       "</div>"
      ],
      "text/plain": [
       "        Date   Value\n",
       "414  1988-09  26.40%\n",
       "415  1988-08  23.60%\n",
       "416  1988-07  19.20%\n",
       "417  1988-06  16.30%\n",
       "418  1988-05  14.20%\n",
       "419  1988-04  12.20%\n",
       "420  1988-03  11.30%\n",
       "421  1988-02  10.40%\n",
       "422  1988-01   9.30%\n",
       "423  1987-12   8.90%\n",
       "424  1987-11   8.30%\n",
       "425  1987-10   7.50%\n",
       "426  1987-09   7.70%\n",
       "427  1987-08   8.20%\n",
       "428  1987-07   7.80%\n",
       "429  1987-06   7.80%\n",
       "430  1987-05   7.60%\n",
       "431  1987-04   6.70%\n",
       "432  1987-03   5.80%\n",
       "433  1987-02   5.40%\n",
       "434  1987-01   5.10%\n",
       "435  1986-12   7.10%\n",
       "436  1986-11   7.10%\n",
       "437  1986-10   7.10%\n",
       "438  1986-09   7.10%\n",
       "439  1986-08   7.10%\n",
       "440  1986-07   7.10%\n",
       "441  1986-06   7.10%\n",
       "442  1986-05   7.10%\n",
       "443  1986-04   7.10%"
      ]
     },
     "execution_count": 64,
     "metadata": {},
     "output_type": "execute_result"
    }
   ],
   "source": [
    "# df.tail(30)"
   ]
  },
  {
   "cell_type": "code",
   "execution_count": 33,
   "id": "3d577399",
   "metadata": {
    "ExecuteTime": {
     "end_time": "2023-04-06T08:00:51.544821Z",
     "start_time": "2023-04-06T08:00:51.532858Z"
    }
   },
   "outputs": [],
   "source": [
    "df.to_csv('japan_unemployment_rate(1999.09-2023.02).csv')"
   ]
  },
  {
   "cell_type": "code",
   "execution_count": 34,
   "id": "4703c02b",
   "metadata": {
    "ExecuteTime": {
     "end_time": "2023-04-06T08:03:27.315602Z",
     "start_time": "2023-04-06T08:03:24.979035Z"
    }
   },
   "outputs": [],
   "source": [
    "driver.quit()"
   ]
  },
  {
   "cell_type": "code",
   "execution_count": null,
   "id": "905d6e37",
   "metadata": {},
   "outputs": [],
   "source": []
  }
 ],
 "metadata": {
  "kernelspec": {
   "display_name": "Python 3 (ipykernel)",
   "language": "python",
   "name": "python3"
  },
  "language_info": {
   "codemirror_mode": {
    "name": "ipython",
    "version": 3
   },
   "file_extension": ".py",
   "mimetype": "text/x-python",
   "name": "python",
   "nbconvert_exporter": "python",
   "pygments_lexer": "ipython3",
   "version": "3.8.9"
  }
 },
 "nbformat": 4,
 "nbformat_minor": 5
}
