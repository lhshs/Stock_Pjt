{
 "cells": [
  {
   "cell_type": "code",
   "execution_count": 1,
   "id": "2b3f948a",
   "metadata": {
    "ExecuteTime": {
     "end_time": "2023-05-01T08:09:31.799878Z",
     "start_time": "2023-05-01T08:09:31.224651Z"
    }
   },
   "outputs": [],
   "source": [
    "import pandas as pd\n",
    "from selenium import webdriver\n",
    "import warnings\n",
    "warnings.filterwarnings('ignore')"
   ]
  },
  {
   "cell_type": "code",
   "execution_count": 2,
   "id": "bcdd4518",
   "metadata": {
    "ExecuteTime": {
     "end_time": "2023-05-01T08:09:55.057884Z",
     "start_time": "2023-05-01T08:09:38.966694Z"
    }
   },
   "outputs": [],
   "source": [
    "driver = webdriver.Chrome(r'G:\\내 드라이브\\STOCK_PJT\\data\\chromedriver.exe')\n",
    "\n",
    "# 해당 링크로 접속\n",
    "driver.get('https://kr.investing.com/economic-calendar/unemployment-rate-473')"
   ]
  },
  {
   "cell_type": "code",
   "execution_count": 8,
   "id": "88f540c9",
   "metadata": {
    "ExecuteTime": {
     "end_time": "2023-05-01T08:11:47.008964Z",
     "start_time": "2023-05-01T08:11:40.425534Z"
    },
    "scrolled": true
   },
   "outputs": [
    {
     "ename": "ElementClickInterceptedException",
     "evalue": "Message: element click intercepted: Element <a href=\"javascript:void(0);\">...</a> is not clickable at point (32, 6). Other element would receive the click: <img src=\"https://i-invdn-com.investing.com/logos/investing-com-logo-2022.png\" alt=\"Investing.com-선두의 금융 포털\" width=\"166\" height=\"38\" class=\"investingLogo\">\n  (Session info: chrome=112.0.5615.138)\nStacktrace:\nBacktrace:\n\tGetHandleVerifier [0x0024DCE3+50899]\n\t(No symbol) [0x001DE111]\n\t(No symbol) [0x000E5588]\n\t(No symbol) [0x00115A7A]\n\t(No symbol) [0x00114336]\n\t(No symbol) [0x0011267B]\n\t(No symbol) [0x00111797]\n\t(No symbol) [0x001094A5]\n\t(No symbol) [0x0012B8FC]\n\t(No symbol) [0x00108EC6]\n\t(No symbol) [0x0012BC54]\n\t(No symbol) [0x0013E01C]\n\t(No symbol) [0x0012B6F6]\n\t(No symbol) [0x00107708]\n\t(No symbol) [0x0010886D]\n\tGetHandleVerifier [0x004B3EAE+2566302]\n\tGetHandleVerifier [0x004E92B1+2784417]\n\tGetHandleVerifier [0x004E327C+2759788]\n\tGetHandleVerifier [0x002E5740+672048]\n\t(No symbol) [0x001E8872]\n\t(No symbol) [0x001E41C8]\n\t(No symbol) [0x001E42AB]\n\t(No symbol) [0x001D71B7]\n\tBaseThreadInitThunk [0x77050099+25]\n\tRtlGetAppContainerNamedObjectPath [0x77247B6E+286]\n\tRtlGetAppContainerNamedObjectPath [0x77247B3E+238]\n\t(No symbol) [0x00000000]\n",
     "output_type": "error",
     "traceback": [
      "\u001b[1;31m---------------------------------------------------------------------------\u001b[0m",
      "\u001b[1;31mElementClickInterceptedException\u001b[0m          Traceback (most recent call last)",
      "Input \u001b[1;32mIn [8]\u001b[0m, in \u001b[0;36m<cell line: 2>\u001b[1;34m()\u001b[0m\n\u001b[0;32m      1\u001b[0m \u001b[38;5;66;03m# 밑에 데이터 자동 누르기\u001b[39;00m\n\u001b[0;32m      2\u001b[0m \u001b[38;5;28;01mfor\u001b[39;00m i \u001b[38;5;129;01min\u001b[39;00m \u001b[38;5;28mrange\u001b[39m(\u001b[38;5;241m300\u001b[39m):\n\u001b[1;32m----> 3\u001b[0m     \u001b[43mdriver\u001b[49m\u001b[38;5;241;43m.\u001b[39;49m\u001b[43mfind_element_by_xpath\u001b[49m\u001b[43m(\u001b[49m\u001b[38;5;124;43m'\u001b[39;49m\u001b[38;5;124;43m//*[@id=\u001b[39;49m\u001b[38;5;124;43m\"\u001b[39;49m\u001b[38;5;124;43mshowMoreHistory473\u001b[39;49m\u001b[38;5;124;43m\"\u001b[39;49m\u001b[38;5;124;43m]/a\u001b[39;49m\u001b[38;5;124;43m'\u001b[39;49m\u001b[43m)\u001b[49m\u001b[38;5;241;43m.\u001b[39;49m\u001b[43mclick\u001b[49m\u001b[43m(\u001b[49m\u001b[43m)\u001b[49m\n",
      "File \u001b[1;32mc:\\python38-64\\lib\\site-packages\\selenium\\webdriver\\remote\\webelement.py:81\u001b[0m, in \u001b[0;36mWebElement.click\u001b[1;34m(self)\u001b[0m\n\u001b[0;32m     79\u001b[0m \u001b[38;5;28;01mdef\u001b[39;00m \u001b[38;5;21mclick\u001b[39m(\u001b[38;5;28mself\u001b[39m) \u001b[38;5;241m-\u001b[39m\u001b[38;5;241m>\u001b[39m \u001b[38;5;28;01mNone\u001b[39;00m:\n\u001b[0;32m     80\u001b[0m     \u001b[38;5;124;03m\"\"\"Clicks the element.\"\"\"\u001b[39;00m\n\u001b[1;32m---> 81\u001b[0m     \u001b[38;5;28;43mself\u001b[39;49m\u001b[38;5;241;43m.\u001b[39;49m\u001b[43m_execute\u001b[49m\u001b[43m(\u001b[49m\u001b[43mCommand\u001b[49m\u001b[38;5;241;43m.\u001b[39;49m\u001b[43mCLICK_ELEMENT\u001b[49m\u001b[43m)\u001b[49m\n",
      "File \u001b[1;32mc:\\python38-64\\lib\\site-packages\\selenium\\webdriver\\remote\\webelement.py:710\u001b[0m, in \u001b[0;36mWebElement._execute\u001b[1;34m(self, command, params)\u001b[0m\n\u001b[0;32m    708\u001b[0m     params \u001b[38;5;241m=\u001b[39m {}\n\u001b[0;32m    709\u001b[0m params[\u001b[38;5;124m'\u001b[39m\u001b[38;5;124mid\u001b[39m\u001b[38;5;124m'\u001b[39m] \u001b[38;5;241m=\u001b[39m \u001b[38;5;28mself\u001b[39m\u001b[38;5;241m.\u001b[39m_id\n\u001b[1;32m--> 710\u001b[0m \u001b[38;5;28;01mreturn\u001b[39;00m \u001b[38;5;28;43mself\u001b[39;49m\u001b[38;5;241;43m.\u001b[39;49m\u001b[43m_parent\u001b[49m\u001b[38;5;241;43m.\u001b[39;49m\u001b[43mexecute\u001b[49m\u001b[43m(\u001b[49m\u001b[43mcommand\u001b[49m\u001b[43m,\u001b[49m\u001b[43m \u001b[49m\u001b[43mparams\u001b[49m\u001b[43m)\u001b[49m\n",
      "File \u001b[1;32mc:\\python38-64\\lib\\site-packages\\selenium\\webdriver\\remote\\webdriver.py:425\u001b[0m, in \u001b[0;36mWebDriver.execute\u001b[1;34m(self, driver_command, params)\u001b[0m\n\u001b[0;32m    423\u001b[0m response \u001b[38;5;241m=\u001b[39m \u001b[38;5;28mself\u001b[39m\u001b[38;5;241m.\u001b[39mcommand_executor\u001b[38;5;241m.\u001b[39mexecute(driver_command, params)\n\u001b[0;32m    424\u001b[0m \u001b[38;5;28;01mif\u001b[39;00m response:\n\u001b[1;32m--> 425\u001b[0m     \u001b[38;5;28;43mself\u001b[39;49m\u001b[38;5;241;43m.\u001b[39;49m\u001b[43merror_handler\u001b[49m\u001b[38;5;241;43m.\u001b[39;49m\u001b[43mcheck_response\u001b[49m\u001b[43m(\u001b[49m\u001b[43mresponse\u001b[49m\u001b[43m)\u001b[49m\n\u001b[0;32m    426\u001b[0m     response[\u001b[38;5;124m'\u001b[39m\u001b[38;5;124mvalue\u001b[39m\u001b[38;5;124m'\u001b[39m] \u001b[38;5;241m=\u001b[39m \u001b[38;5;28mself\u001b[39m\u001b[38;5;241m.\u001b[39m_unwrap_value(\n\u001b[0;32m    427\u001b[0m         response\u001b[38;5;241m.\u001b[39mget(\u001b[38;5;124m'\u001b[39m\u001b[38;5;124mvalue\u001b[39m\u001b[38;5;124m'\u001b[39m, \u001b[38;5;28;01mNone\u001b[39;00m))\n\u001b[0;32m    428\u001b[0m     \u001b[38;5;28;01mreturn\u001b[39;00m response\n",
      "File \u001b[1;32mc:\\python38-64\\lib\\site-packages\\selenium\\webdriver\\remote\\errorhandler.py:247\u001b[0m, in \u001b[0;36mErrorHandler.check_response\u001b[1;34m(self, response)\u001b[0m\n\u001b[0;32m    245\u001b[0m         alert_text \u001b[38;5;241m=\u001b[39m value[\u001b[38;5;124m'\u001b[39m\u001b[38;5;124malert\u001b[39m\u001b[38;5;124m'\u001b[39m]\u001b[38;5;241m.\u001b[39mget(\u001b[38;5;124m'\u001b[39m\u001b[38;5;124mtext\u001b[39m\u001b[38;5;124m'\u001b[39m)\n\u001b[0;32m    246\u001b[0m     \u001b[38;5;28;01mraise\u001b[39;00m exception_class(message, screen, stacktrace, alert_text)  \u001b[38;5;66;03m# type: ignore[call-arg]  # mypy is not smart enough here\u001b[39;00m\n\u001b[1;32m--> 247\u001b[0m \u001b[38;5;28;01mraise\u001b[39;00m exception_class(message, screen, stacktrace)\n",
      "\u001b[1;31mElementClickInterceptedException\u001b[0m: Message: element click intercepted: Element <a href=\"javascript:void(0);\">...</a> is not clickable at point (32, 6). Other element would receive the click: <img src=\"https://i-invdn-com.investing.com/logos/investing-com-logo-2022.png\" alt=\"Investing.com-선두의 금융 포털\" width=\"166\" height=\"38\" class=\"investingLogo\">\n  (Session info: chrome=112.0.5615.138)\nStacktrace:\nBacktrace:\n\tGetHandleVerifier [0x0024DCE3+50899]\n\t(No symbol) [0x001DE111]\n\t(No symbol) [0x000E5588]\n\t(No symbol) [0x00115A7A]\n\t(No symbol) [0x00114336]\n\t(No symbol) [0x0011267B]\n\t(No symbol) [0x00111797]\n\t(No symbol) [0x001094A5]\n\t(No symbol) [0x0012B8FC]\n\t(No symbol) [0x00108EC6]\n\t(No symbol) [0x0012BC54]\n\t(No symbol) [0x0013E01C]\n\t(No symbol) [0x0012B6F6]\n\t(No symbol) [0x00107708]\n\t(No symbol) [0x0010886D]\n\tGetHandleVerifier [0x004B3EAE+2566302]\n\tGetHandleVerifier [0x004E92B1+2784417]\n\tGetHandleVerifier [0x004E327C+2759788]\n\tGetHandleVerifier [0x002E5740+672048]\n\t(No symbol) [0x001E8872]\n\t(No symbol) [0x001E41C8]\n\t(No symbol) [0x001E42AB]\n\t(No symbol) [0x001D71B7]\n\tBaseThreadInitThunk [0x77050099+25]\n\tRtlGetAppContainerNamedObjectPath [0x77247B6E+286]\n\tRtlGetAppContainerNamedObjectPath [0x77247B3E+238]\n\t(No symbol) [0x00000000]\n"
     ]
    }
   ],
   "source": [
    "# 밑에 데이터 자동 누르기\n",
    "for i in range(300):\n",
    "    driver.find_element_by_xpath('//*[@id=\"showMoreHistory473\"]/a').click()"
   ]
  },
  {
   "cell_type": "code",
   "execution_count": 9,
   "id": "32545bc0",
   "metadata": {
    "ExecuteTime": {
     "end_time": "2023-05-01T08:11:59.663141Z",
     "start_time": "2023-05-01T08:11:59.624218Z"
    }
   },
   "outputs": [],
   "source": [
    "# 현재 창에서 스크린샷 찍고 저장\n",
    "text = driver.find_element_by_xpath(\"//*[@id='eventHistoryTable473']\") "
   ]
  },
  {
   "cell_type": "code",
   "execution_count": null,
   "id": "23c684ea",
   "metadata": {
    "ExecuteTime": {
     "end_time": "2023-05-01T07:34:44.130738Z",
     "start_time": "2023-05-01T07:34:44.117791Z"
    }
   },
   "outputs": [],
   "source": [
    "# text 확인\n",
    "# text.text"
   ]
  },
  {
   "cell_type": "code",
   "execution_count": 10,
   "id": "3dcd269c",
   "metadata": {
    "ExecuteTime": {
     "end_time": "2023-05-01T08:12:03.565267Z",
     "start_time": "2023-05-01T08:12:03.220189Z"
    }
   },
   "outputs": [],
   "source": [
    "# text 나누기\n",
    "\n",
    "split_text = text.text.split(\"\\n\")\n",
    "# split_text"
   ]
  },
  {
   "cell_type": "code",
   "execution_count": 11,
   "id": "ddf73c08",
   "metadata": {
    "ExecuteTime": {
     "end_time": "2023-05-01T08:12:04.109645Z",
     "start_time": "2023-05-01T08:12:04.097646Z"
    }
   },
   "outputs": [],
   "source": [
    "df = pd.DataFrame()\n",
    "df = df.reindex(columns = ['Date', 'Value'])"
   ]
  },
  {
   "cell_type": "code",
   "execution_count": null,
   "id": "cd451ee7",
   "metadata": {
    "ExecuteTime": {
     "end_time": "2023-05-01T07:35:04.876635Z",
     "start_time": "2023-05-01T07:35:04.855691Z"
    }
   },
   "outputs": [],
   "source": [
    "# split_text = split_text[7:]\n",
    "# split_text[7:]"
   ]
  },
  {
   "cell_type": "code",
   "execution_count": null,
   "id": "903a6769",
   "metadata": {
    "ExecuteTime": {
     "end_time": "2023-05-01T08:04:49.574144Z",
     "start_time": "2023-05-01T08:04:49.549211Z"
    }
   },
   "outputs": [],
   "source": [
    "split_text"
   ]
  },
  {
   "cell_type": "code",
   "execution_count": 12,
   "id": "5ff43f38",
   "metadata": {
    "ExecuteTime": {
     "end_time": "2023-05-01T08:12:09.322139Z",
     "start_time": "2023-05-01T08:12:06.674208Z"
    }
   },
   "outputs": [
    {
     "data": {
      "text/html": [
       "<div>\n",
       "<style scoped>\n",
       "    .dataframe tbody tr th:only-of-type {\n",
       "        vertical-align: middle;\n",
       "    }\n",
       "\n",
       "    .dataframe tbody tr th {\n",
       "        vertical-align: top;\n",
       "    }\n",
       "\n",
       "    .dataframe thead th {\n",
       "        text-align: right;\n",
       "    }\n",
       "</style>\n",
       "<table border=\"1\" class=\"dataframe\">\n",
       "  <thead>\n",
       "    <tr style=\"text-align: right;\">\n",
       "      <th></th>\n",
       "      <th>Date</th>\n",
       "      <th>Value</th>\n",
       "    </tr>\n",
       "  </thead>\n",
       "  <tbody>\n",
       "    <tr>\n",
       "      <th>0</th>\n",
       "      <td>2023년04월11일(4월)</td>\n",
       "      <td>3.50%</td>\n",
       "    </tr>\n",
       "    <tr>\n",
       "      <th>1</th>\n",
       "      <td>2023년02월23일(2월)</td>\n",
       "      <td>3.50%</td>\n",
       "    </tr>\n",
       "    <tr>\n",
       "      <th>2</th>\n",
       "      <td>2023년01월13일(1월)</td>\n",
       "      <td>3.50%</td>\n",
       "    </tr>\n",
       "    <tr>\n",
       "      <th>3</th>\n",
       "      <td>2022년11월24일(11월)</td>\n",
       "      <td>3.25%</td>\n",
       "    </tr>\n",
       "    <tr>\n",
       "      <th>4</th>\n",
       "      <td>2022년10월12일(10월)</td>\n",
       "      <td>3.00%</td>\n",
       "    </tr>\n",
       "    <tr>\n",
       "      <th>...</th>\n",
       "      <td>...</td>\n",
       "      <td>...</td>\n",
       "    </tr>\n",
       "    <tr>\n",
       "      <th>258</th>\n",
       "      <td>1999년10월01일(9월)</td>\n",
       "      <td>4.75%</td>\n",
       "    </tr>\n",
       "    <tr>\n",
       "      <th>259</th>\n",
       "      <td>1999년09월01일(8월)</td>\n",
       "      <td>4.75%</td>\n",
       "    </tr>\n",
       "    <tr>\n",
       "      <th>260</th>\n",
       "      <td>1999년08월01일(7월)</td>\n",
       "      <td>4.75%</td>\n",
       "    </tr>\n",
       "    <tr>\n",
       "      <th>261</th>\n",
       "      <td>1999년07월01일(6월)</td>\n",
       "      <td>4.75%</td>\n",
       "    </tr>\n",
       "    <tr>\n",
       "      <th>262</th>\n",
       "      <td>1999년06월01일(5월)</td>\n",
       "      <td>4.75%</td>\n",
       "    </tr>\n",
       "  </tbody>\n",
       "</table>\n",
       "<p>263 rows × 2 columns</p>\n",
       "</div>"
      ],
      "text/plain": [
       "                 Date  Value\n",
       "0     2023년04월11일(4월)  3.50%\n",
       "1     2023년02월23일(2월)  3.50%\n",
       "2     2023년01월13일(1월)  3.50%\n",
       "3    2022년11월24일(11월)  3.25%\n",
       "4    2022년10월12일(10월)  3.00%\n",
       "..                ...    ...\n",
       "258   1999년10월01일(9월)  4.75%\n",
       "259   1999년09월01일(8월)  4.75%\n",
       "260   1999년08월01일(7월)  4.75%\n",
       "261   1999년07월01일(6월)  4.75%\n",
       "262   1999년06월01일(5월)  4.75%\n",
       "\n",
       "[263 rows x 2 columns]"
      ]
     },
     "execution_count": 12,
     "metadata": {},
     "output_type": "execute_result"
    }
   ],
   "source": [
    "framelist = []\n",
    "\n",
    "for idx, text in enumerate(split_text):\n",
    "    if idx == 0:\n",
    "        pass\n",
    "    else:\n",
    "        temp_list = []\n",
    "        split = text.split()\n",
    "        result = ''\n",
    "        for idx, t in enumerate(split):\n",
    "            if idx <= 3:\n",
    "                result += t\n",
    "            elif idx > 3:\n",
    "                if not(result in temp_list):\n",
    "                    temp_list.append(result)\n",
    "                temp_list.append(t)\n",
    "                \n",
    "        add_data = {'Date':temp_list[0],'Value':temp_list[2]}\n",
    "        \n",
    "        df = df.append(add_data, ignore_index=True)\n",
    "df"
   ]
  },
  {
   "cell_type": "code",
   "execution_count": null,
   "id": "89ec688f",
   "metadata": {
    "ExecuteTime": {
     "end_time": "2023-05-01T07:54:34.720346Z",
     "start_time": "2023-05-01T07:54:34.696403Z"
    },
    "scrolled": true
   },
   "outputs": [],
   "source": [
    "df.loc[:50]"
   ]
  },
  {
   "cell_type": "code",
   "execution_count": null,
   "id": "455db3d3",
   "metadata": {
    "ExecuteTime": {
     "end_time": "2023-05-01T07:54:38.153670Z",
     "start_time": "2023-05-01T07:54:38.135718Z"
    }
   },
   "outputs": [],
   "source": [
    "df.Date[0][:7]"
   ]
  },
  {
   "cell_type": "code",
   "execution_count": 13,
   "id": "60adb9cc",
   "metadata": {
    "ExecuteTime": {
     "end_time": "2023-05-01T08:12:47.794569Z",
     "start_time": "2023-05-01T08:12:47.629577Z"
    }
   },
   "outputs": [],
   "source": [
    "for i in range(len(df)):\n",
    "    df.Date[i] = df.Date[i][:7]\n",
    "    df.Date[i] = df.Date[i].replace('년', '-')\n",
    "    \n",
    "    # 구하고자 하는 월 다음달에 지표가 발표되므로 발표된 월에서 -1\n",
    "    arr_month = int(df.Date[i][-2:])-1  \n",
    "    if arr_month < 10:\n",
    "        arr_month = '0' + str(arr_month)\n",
    "        if arr_month == '00':  # 00으로 책정된 값은 12월로 설정해준 후 년도에서 -1\n",
    "            arr_month = '12'\n",
    "            df.Date[i] = str(int(df.Date[i][:4])-1) + '-' + arr_month \n",
    "        else:\n",
    "            df.Date[i] = df.Date[i][:5] + str(arr_month)\n",
    "    else:\n",
    "        df.Date[i] = df.Date[i][:5] + str(arr_month)\n",
    "        "
   ]
  },
  {
   "cell_type": "code",
   "execution_count": 14,
   "id": "a5aeb3af",
   "metadata": {
    "ExecuteTime": {
     "end_time": "2023-05-01T08:12:49.847497Z",
     "start_time": "2023-05-01T08:12:49.823220Z"
    }
   },
   "outputs": [
    {
     "data": {
      "text/html": [
       "<div>\n",
       "<style scoped>\n",
       "    .dataframe tbody tr th:only-of-type {\n",
       "        vertical-align: middle;\n",
       "    }\n",
       "\n",
       "    .dataframe tbody tr th {\n",
       "        vertical-align: top;\n",
       "    }\n",
       "\n",
       "    .dataframe thead th {\n",
       "        text-align: right;\n",
       "    }\n",
       "</style>\n",
       "<table border=\"1\" class=\"dataframe\">\n",
       "  <thead>\n",
       "    <tr style=\"text-align: right;\">\n",
       "      <th></th>\n",
       "      <th>Date</th>\n",
       "      <th>Value</th>\n",
       "    </tr>\n",
       "  </thead>\n",
       "  <tbody>\n",
       "    <tr>\n",
       "      <th>0</th>\n",
       "      <td>2023-03</td>\n",
       "      <td>3.50%</td>\n",
       "    </tr>\n",
       "    <tr>\n",
       "      <th>1</th>\n",
       "      <td>2023-01</td>\n",
       "      <td>3.50%</td>\n",
       "    </tr>\n",
       "    <tr>\n",
       "      <th>2</th>\n",
       "      <td>2022-12</td>\n",
       "      <td>3.50%</td>\n",
       "    </tr>\n",
       "    <tr>\n",
       "      <th>3</th>\n",
       "      <td>2022-10</td>\n",
       "      <td>3.25%</td>\n",
       "    </tr>\n",
       "    <tr>\n",
       "      <th>4</th>\n",
       "      <td>2022-09</td>\n",
       "      <td>3.00%</td>\n",
       "    </tr>\n",
       "    <tr>\n",
       "      <th>...</th>\n",
       "      <td>...</td>\n",
       "      <td>...</td>\n",
       "    </tr>\n",
       "    <tr>\n",
       "      <th>258</th>\n",
       "      <td>1999-09</td>\n",
       "      <td>4.75%</td>\n",
       "    </tr>\n",
       "    <tr>\n",
       "      <th>259</th>\n",
       "      <td>1999-08</td>\n",
       "      <td>4.75%</td>\n",
       "    </tr>\n",
       "    <tr>\n",
       "      <th>260</th>\n",
       "      <td>1999-07</td>\n",
       "      <td>4.75%</td>\n",
       "    </tr>\n",
       "    <tr>\n",
       "      <th>261</th>\n",
       "      <td>1999-06</td>\n",
       "      <td>4.75%</td>\n",
       "    </tr>\n",
       "    <tr>\n",
       "      <th>262</th>\n",
       "      <td>1999-05</td>\n",
       "      <td>4.75%</td>\n",
       "    </tr>\n",
       "  </tbody>\n",
       "</table>\n",
       "<p>263 rows × 2 columns</p>\n",
       "</div>"
      ],
      "text/plain": [
       "        Date  Value\n",
       "0    2023-03  3.50%\n",
       "1    2023-01  3.50%\n",
       "2    2022-12  3.50%\n",
       "3    2022-10  3.25%\n",
       "4    2022-09  3.00%\n",
       "..       ...    ...\n",
       "258  1999-09  4.75%\n",
       "259  1999-08  4.75%\n",
       "260  1999-07  4.75%\n",
       "261  1999-06  4.75%\n",
       "262  1999-05  4.75%\n",
       "\n",
       "[263 rows x 2 columns]"
      ]
     },
     "execution_count": 14,
     "metadata": {},
     "output_type": "execute_result"
    }
   ],
   "source": [
    "df"
   ]
  },
  {
   "cell_type": "code",
   "execution_count": null,
   "id": "1472709e",
   "metadata": {
    "ExecuteTime": {
     "end_time": "2023-05-01T07:54:46.047988Z",
     "start_time": "2023-05-01T07:54:46.027073Z"
    }
   },
   "outputs": [],
   "source": [
    "df"
   ]
  },
  {
   "cell_type": "code",
   "execution_count": null,
   "id": "dc649490",
   "metadata": {
    "ExecuteTime": {
     "end_time": "2023-04-05T13:04:10.205222Z",
     "start_time": "2023-04-05T13:04:10.181290Z"
    }
   },
   "outputs": [],
   "source": [
    "# df.tail(30)"
   ]
  },
  {
   "cell_type": "code",
   "execution_count": 15,
   "id": "3d577399",
   "metadata": {
    "ExecuteTime": {
     "end_time": "2023-05-01T08:13:21.931173Z",
     "start_time": "2023-05-01T08:13:21.919591Z"
    }
   },
   "outputs": [],
   "source": [
    "df.to_csv('kor_interest(1999.05-2023.03).csv')"
   ]
  },
  {
   "cell_type": "code",
   "execution_count": 16,
   "id": "4703c02b",
   "metadata": {
    "ExecuteTime": {
     "end_time": "2023-05-01T08:13:25.585196Z",
     "start_time": "2023-05-01T08:13:23.328759Z"
    }
   },
   "outputs": [],
   "source": [
    "driver.quit()"
   ]
  },
  {
   "cell_type": "code",
   "execution_count": null,
   "id": "905d6e37",
   "metadata": {},
   "outputs": [],
   "source": []
  }
 ],
 "metadata": {
  "kernelspec": {
   "display_name": "Python 3 (ipykernel)",
   "language": "python",
   "name": "python3"
  },
  "language_info": {
   "codemirror_mode": {
    "name": "ipython",
    "version": 3
   },
   "file_extension": ".py",
   "mimetype": "text/x-python",
   "name": "python",
   "nbconvert_exporter": "python",
   "pygments_lexer": "ipython3",
   "version": "3.8.9"
  },
  "toc": {
   "base_numbering": 1,
   "nav_menu": {},
   "number_sections": true,
   "sideBar": true,
   "skip_h1_title": false,
   "title_cell": "Table of Contents",
   "title_sidebar": "Contents",
   "toc_cell": false,
   "toc_position": {},
   "toc_section_display": true,
   "toc_window_display": false
  }
 },
 "nbformat": 4,
 "nbformat_minor": 5
}
