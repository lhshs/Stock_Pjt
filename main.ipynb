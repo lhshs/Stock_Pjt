{
 "cells": [
  {
   "cell_type": "code",
   "execution_count": 1,
   "id": "b683e70a",
   "metadata": {
    "ExecuteTime": {
     "end_time": "2023-05-26T14:04:09.028385Z",
     "start_time": "2023-05-26T14:04:02.727067Z"
    }
   },
   "outputs": [],
   "source": [
    "import pandas as pd\n",
    "import random\n",
    "import os\n",
    "import numpy as np\n",
    "import warnings\n",
    "warnings.filterwarnings('ignore')\n",
    "\n",
    "%matplotlib inline\n",
    "import matplotlib.pyplot as plt\n",
    "import seaborn as sns\n",
    "# from sklearn.tree import DecisionTreeClassifier\n",
    "\n",
    "# plt.rcParams[\"figure.figsize\"] = (14,4)\n",
    "\n",
    "from tqdm import tqdm\n",
    "import time\n",
    "\n",
    "from datetime import datetime"
   ]
  },
  {
   "cell_type": "markdown",
   "id": "80cc8615",
   "metadata": {},
   "source": [
    "### Load Data"
   ]
  },
  {
   "cell_type": "code",
   "execution_count": 2,
   "id": "039692a2",
   "metadata": {
    "ExecuteTime": {
     "end_time": "2023-05-26T14:04:09.259728Z",
     "start_time": "2023-05-26T14:04:09.030387Z"
    }
   },
   "outputs": [],
   "source": [
    "# main data\n",
    "\n",
    "# Korea\n",
    "kospi = pd.read_csv('./data/main_index/kospi(1990.01.02-2023.03.15).csv', sep='|', thousands = ',')\n",
    "kospi = kospi[['Date','Close']]\n",
    "kosdaq = pd.read_csv('./data/main_index/kosdaq(2001.01.02-2023.03.15).csv', sep='|', thousands = ',')\n",
    "kosdaq = kosdaq[['Date','Close']]\n",
    "\n",
    "# US\n",
    "dow = pd.read_csv('./data/main_index/dow(2001.01.02-2023.03.15).csv', sep='|', thousands = ',')\n",
    "dow = dow[['Date','Close']]\n",
    "sp500 = pd.read_csv('./data/main_index/sp500(2001.01.02-2023.03.15).csv', sep='|', thousands = ',')\n",
    "sp500 = sp500[['Date','Close']]\n",
    "russel2000 = pd.read_csv('./data/main_index/russel2000(2001.01.03-2023.03.15).csv', sep='|', thousands = ',')\n",
    "russel2000 = russel2000[['Date','Close']]\n",
    "nasdaq = pd.read_csv('./data/main_index/nasdaq(2001.01.02-2023.03.15).csv', sep='|', thousands = ',')\n",
    "nasdaq = nasdaq[['Date','Close']]\n",
    "ftse = pd.read_csv('./data/main_index/FTSE(2004.03.05-2023.03.15).csv', sep='|', thousands = ',')\n",
    "ftse = ftse[['Date','Close']]\n",
    "\n",
    "# Japan\n",
    "nikkie = pd.read_csv('./data/main_index/nikkie(2001.01.05-2023.03.15).csv', sep='|', thousands = ',')\n",
    "nikkie = nikkie[['Date','Close']]\n",
    "\n",
    "# China\n",
    "ssec = pd.read_csv('./data/main_index/SSEC(1990.12.20-2023.03.15).csv', sep='|', thousands = ',')\n",
    "ssec = ssec[['Date','Close']]\n",
    "szse = pd.read_csv('./data/main_index/SZSE(1995.1.24-2023.03.15).csv', sep='|', thousands = ',')\n",
    "szse = szse[['Date','Close']]\n",
    "hsi = pd.read_csv('./data/main_index/hsi(2000.12.05-2023.03.15).csv', sep='|', thousands = ',')\n",
    "hsi = hsi[['Date','Close']]"
   ]
  },
  {
   "cell_type": "code",
   "execution_count": 3,
   "id": "86a84fbf",
   "metadata": {
    "ExecuteTime": {
     "end_time": "2023-05-26T14:04:09.477491Z",
     "start_time": "2023-05-26T14:04:09.260729Z"
    }
   },
   "outputs": [],
   "source": [
    "# bond_yield data\n",
    "\n",
    "chi_bond_yield_1 = pd.read_csv('./data/bond_yield/china_1year_bond_yield(2002.06.04-2023.03.15).csv', sep='|', thousands = ',')\n",
    "chi_bond_yield_1 = chi_bond_yield_1[['Date', 'Close']]\n",
    "chi_bond_yield_3 = pd.read_csv('./data/bond_yield/china_3year_bond_yield(2000.09.22-2023.03.15).csv', sep='|', thousands = ',')\n",
    "chi_bond_yield_3 = chi_bond_yield_3[['Date', 'Close']]\n",
    "chi_bond_yield_5 = pd.read_csv('./data/bond_yield/china_5year_bond_yield(2001.03.14-2023.03.15).csv', sep='|', thousands = ',')\n",
    "chi_bond_yield_5 = chi_bond_yield_5[['Date', 'Close']]\n",
    "chi_bond_yield_10 = pd.read_csv('./data/bond_yield/china_10year_bond_yield(2002.06.06-2023.03.15).csv', sep='|', thousands = ',')\n",
    "chi_bond_yield_10 = chi_bond_yield_10[['Date', 'Close']]\n",
    "\n",
    "jap_bond_yield_1 = pd.read_csv('./data/bond_yield/japan_1year_bond_yield(2006.07.19-2023.03.15).csv', sep='|', thousands = ',')\n",
    "jap_bond_yield_1 = jap_bond_yield_1[['Date', 'Close']]\n",
    "jap_bond_yield_3 = pd.read_csv('./data/bond_yield/japan_3year_bond_yield(2006.07.19-2023.03.15).csv', sep='\\t', thousands = ',')\n",
    "jap_bond_yield_3 = jap_bond_yield_3[['Date', 'Close']]\n",
    "jap_bond_yield_5 = pd.read_csv('./data/bond_yield/japan_5year_bond_yield(2006.07.27-2023.03.15).csv', sep='\\t', thousands = ',')\n",
    "jap_bond_yield_5 = jap_bond_yield_5[['Date', 'Close']]\n",
    "jap_bond_yield_10 = pd.read_csv('./data/bond_yield/japan_10year_bond_yield(2006.07.19-2023.03.15).csv', sep='\\t', thousands = ',')\n",
    "jap_bond_yield_10 = jap_bond_yield_10[['Date', 'Close']]\n",
    "\n",
    "kor_bond_yield_1 = pd.read_csv('./data/bond_yield/korea_1year_bond_yield(1995.05.03-2023.03.15).csv', sep='|', thousands = ',')\n",
    "kor_bond_yield_1 = kor_bond_yield_1[['Date', 'Close']]\n",
    "kor_bond_yield_3 = pd.read_csv('./data/bond_yield/korea_3year_bond_yield(1995.05.03-2023.03.15).csv', sep='|', thousands = ',')\n",
    "kor_bond_yield_3 = kor_bond_yield_3[['Date', 'Close']]\n",
    "kor_bond_yield_5 = pd.read_csv('./data/bond_yield/korea_5year_bond_yield(1995.05.03-2023.03.15).csv', sep='|', thousands = ',')\n",
    "kor_bond_yield_5 = kor_bond_yield_5[['Date', 'Close']]\n",
    "kor_bond_yield_10 = pd.read_csv('./data/bond_yield/korea_10year_bond_yield(2000.10.26-2023.03.15).csv', sep='|', thousands = ',')\n",
    "kor_bond_yield_10 = kor_bond_yield_10[['Date', 'Close']]\n",
    "\n",
    "us_bond_yield_1 = pd.read_csv('./data/bond_yield/us_1year_bond_yield(2008.06.05-2023.03.15).csv', sep='|', thousands = ',')\n",
    "us_bond_yield_1 = us_bond_yield_1[['Date', 'Close']]\n",
    "us_bond_yield_3 = pd.read_csv('./data/bond_yield/us_3year_bond_yield(1990.01.08-2023.03.15).csv', sep='|', thousands = ',')\n",
    "us_bond_yield_3 = us_bond_yield_3[['Date', 'Close']]\n",
    "us_bond_yield_5 = pd.read_csv('./data/bond_yield/us_5year_bond_yield(1990.01.08-2023.03.15).csv', sep='|', thousands = ',')\n",
    "us_bond_yield_5 = us_bond_yield_5[['Date', 'Close']]\n",
    "us_bond_yield_10 = pd.read_csv('./data/bond_yield/us_10year_bond_yield(1990.01.08-2023.03.15).csv', sep='|', thousands = ',')\n",
    "us_bond_yield_10 = us_bond_yield_10[['Date', 'Close']]"
   ]
  },
  {
   "cell_type": "code",
   "execution_count": 4,
   "id": "2a1bd34a",
   "metadata": {
    "ExecuteTime": {
     "end_time": "2023-05-26T14:04:09.589124Z",
     "start_time": "2023-05-26T14:04:09.479492Z"
    }
   },
   "outputs": [],
   "source": [
    "# cpi data\n",
    "'''\n",
    "chi_cpi_m = pd.read_csv('./data/cpi/china_cpi_compare_last_month(1996.01-2023.02).csv', sep='|', thousands = ',')\n",
    "chi_cpi_y = pd.read_csv('./data/cpi/china_cpi_compare_last_year(1990.01-2023.02).csv', sep='|', thousands = ',')\n",
    "\n",
    "jap_c_cpi_y = pd.read_csv('./data/cpi/japan_core_cpi_compare_last_year(1990.01-2023.02).csv', sep='|', thousands = ',')\n",
    "jap_cpi_y = pd.read_csv('./data/cpi/japan_cpi_compare_last_year(1990.01-2023.02).csv', sep='|', thousands = ',')\n",
    "\n",
    "kor_cpi_m = pd.read_csv('./data/cpi/korea_cpi_compare_last_month(1990.01-2023.02).csv', sep='|', thousands = ',')\n",
    "kor_cpi_y = pd.read_csv('./data/cpi/korea_cpi_compare_last_year(1990.01-2023.02).csv', sep='|', thousands = ',')\n",
    "\n",
    "us_c_cpi_m = pd.read_csv('./data/cpi/us_core_cpi_compare_last_month(1990.01-2023.02).csv', sep='|', thousands = ',')\n",
    "us_c_cpi_y = pd.read_csv('./data/cpi/us_core_cpi_compare_last_year(1990.01-2023.02).csv', sep='|', thousands = ',')\n",
    "us_cpi_m = pd.read_csv('./data/cpi/us_cpi_compare_last_month(1990.01-2023.02).csv', sep='|', thousands = ',')\n",
    "us_cpi_y = pd.read_csv('./data/cpi/us_cpi_compare_last_year(1990.01-2023.02).csv', sep='|', thousands = ',')\n",
    "'''\n",
    "\n",
    "chi_cpi_m = pd.read_csv('./data/extract_data(cpi,unem,interest)/chi_cpi_m_data_extract.csv', sep='|', thousands = ',')\n",
    "chi_cpi_y = pd.read_csv('./data/extract_data(cpi,unem,interest)/chi_cpi_y_data_extract.csv', sep='|', thousands = ',')\n",
    "\n",
    "jap_c_cpi_y = pd.read_csv('./data/extract_data(cpi,unem,interest)/jap_c_cpi_y_data_extract.csv', sep='|', thousands = ',')\n",
    "jap_cpi_y = pd.read_csv('./data/extract_data(cpi,unem,interest)/jap_cpi_y_data_extract.csv', sep='|', thousands = ',')\n",
    "\n",
    "kor_cpi_m = pd.read_csv('./data/extract_data(cpi,unem,interest)/kor_cpi_m_data_extract.csv', sep='|', thousands = ',')\n",
    "kor_cpi_y = pd.read_csv('./data/extract_data(cpi,unem,interest)/kor_cpi_y_data_extract.csv', sep='|', thousands = ',')\n",
    "\n",
    "us_c_cpi_m = pd.read_csv('./data/extract_data(cpi,unem,interest)/us_c_cpi_m_data_extract.csv', sep='|', thousands = ',')\n",
    "us_c_cpi_y = pd.read_csv('./data/extract_data(cpi,unem,interest)/us_c_cpi_y_data_extract.csv', sep='|', thousands = ',')\n",
    "us_cpi_m = pd.read_csv('./data/extract_data(cpi,unem,interest)/us_cpi_m_data_extract.csv', sep='|', thousands = ',')\n",
    "us_cpi_y = pd.read_csv('./data/extract_data(cpi,unem,interest)/us_cpi_y_data_extract.csv', sep='|', thousands = ',')"
   ]
  },
  {
   "cell_type": "code",
   "execution_count": 5,
   "id": "5d7515ad",
   "metadata": {
    "ExecuteTime": {
     "end_time": "2023-05-26T14:04:09.750317Z",
     "start_time": "2023-05-26T14:04:09.590125Z"
    }
   },
   "outputs": [],
   "source": [
    "# oil + dollar + gold + unemployment + usd_krw + vix\n",
    "\n",
    "brent = pd.read_csv('./data/oil/brent(1990.01.02-2023.03.15).csv', sep='|', thousands = ',')\n",
    "brent = brent[['Date', 'Close']]\n",
    "dubai = pd.read_csv('./data/oil/dubai(2014.04.28-2023.03.15).csv', sep='|', thousands = ',')\n",
    "dubai = dubai[['Date', 'Close']]\n",
    "wti = pd.read_csv('./data/oil/wti(1990.01.02-2023.03.15).csv', sep='|', thousands = ',')\n",
    "wti = wti[['Date', 'Close']]\n",
    "\n",
    "bitcoin = pd.read_csv('./data/other/bitcoin(2010.07.18-2023.03.15).csv', sep='|', thousands = ',')\n",
    "bitcoin = bitcoin[['Date', 'Close']]\n",
    "\n",
    "dollar = pd.read_csv('./data/other/dollar_index(1990.01.01-2023.03.15).csv', sep='|', thousands = ',')\n",
    "dollar = dollar[['Date', 'Close']]\n",
    "gold = pd.read_csv('./data/other/gold_index(1990.01.02-2023.03.15).csv', sep='\\t', thousands = ',')\n",
    "gold = gold[['Date', 'Close']]\n",
    "\n",
    "# kor_unem = pd.read_csv('./data/other/kor_unemployment_rate(1999.06-2023.03).csv', sep='|', thousands = ',')\n",
    "# kor_unem = kor_unem[['Date', 'Value']]\n",
    "# kor_unem.rename(columns = {'Value':'Close'}, inplace=True)\n",
    "# kor_interest = pd.read_csv('./data/other/kor_interest(1999.05-2023.03).csv', sep='|', thousands = ',')\n",
    "# kor_interest = kor_interest[['Date', 'Value']]\n",
    "# kor_interest.rename(columns = {'Value':'Close'}, inplace=True)\n",
    "# ja_unem = pd.read_csv('./data/other/japan_unemployment_rate(1999.09-2023.02)_날짜수정.csv', sep='|')\n",
    "# us_unem = pd.read_csv('./data/other/us_unemployment_rate(1990.01-2023.03).csv', sep='|', thousands = ',')\n",
    "# us_unem = us_unem[['Date', 'Value']]\n",
    "# us_unem.rename(columns = {'Value':'Close'}, inplace=True)\n",
    "\n",
    "us_unem = pd.read_csv('./data/extract_data(cpi,unem,interest)/us_unem_data_extract.csv', sep='|', thousands = ',')\n",
    "kor_unem = pd.read_csv('./data/extract_data(cpi,unem,interest)/kor_unem_data_extract.csv', sep='|', thousands = ',')\n",
    "kor_interest = pd.read_csv('./data/extract_data(cpi,unem,interest)/kor_interest_data_extract.csv', sep='|', thousands = ',')\n",
    "\n",
    "usd_krw = pd.read_csv('./data/other/USD_KRW(1990.01-2023.03.15).csv', sep='|', thousands = ',')\n",
    "usd_krw = usd_krw[['Date', 'Close']]\n",
    "\n",
    "vix = pd.read_csv('./data/other/vix(1990.01.03-2023.03.15).csv', sep='|', thousands = ',')\n",
    "vix = vix[['Date', 'Close']]"
   ]
  },
  {
   "cell_type": "markdown",
   "id": "f15f992f",
   "metadata": {},
   "source": [
    "### Data Preprocessing"
   ]
  },
  {
   "cell_type": "code",
   "execution_count": 6,
   "id": "140a644c",
   "metadata": {
    "ExecuteTime": {
     "end_time": "2023-05-26T14:04:09.781500Z",
     "start_time": "2023-05-26T14:04:09.751318Z"
    }
   },
   "outputs": [],
   "source": [
    "kospi.rename(columns = lambda x : 'kospi_' + x if x != 'Date' else x, inplace = True)\n",
    "kosdaq.rename(columns = lambda x : 'kosdaq_' + x if x != 'Date' else x, inplace = True)\n",
    "dow.rename(columns = lambda x : 'dow_' + x if x != 'Date' else x, inplace = True)\n",
    "sp500.rename(columns = lambda x : 'sp500_' + x if x != 'Date' else x, inplace = True)\n",
    "russel2000.rename(columns = lambda x : 'russel2000_' + x if x != 'Date' else x, inplace = True)\n",
    "nasdaq.rename(columns = lambda x : 'nasdaq_' + x if x != 'Date' else x, inplace = True)\n",
    "ftse.rename(columns = lambda x : 'ftse_' + x if x != 'Date' else x, inplace = True)\n",
    "ftse.dropna(inplace=True)\n",
    "nikkie.rename(columns = lambda x : 'nikkie_' + x if x != 'Date' else x, inplace = True)\n",
    "nikkie.dropna(inplace=True)\n",
    "ssec.rename(columns = lambda x : 'ssec_' + x if x != 'Date' else x, inplace = True)\n",
    "szse.rename(columns = lambda x : 'szse_' + x if x != 'Date' else x, inplace = True)\n",
    "hsi.rename(columns = lambda x : 'hsi_' + x if x != 'Date' else x, inplace = True)\n",
    "hsi.dropna(inplace=True)\n",
    "\n",
    "chi_bond_yield_1.rename(columns = lambda x : 'chi_bond_yield_1_' + x if x != 'Date' else x, inplace = True)\n",
    "chi_bond_yield_3.rename(columns = lambda x : 'chi_bond_yield_3_' + x if x != 'Date' else x, inplace = True)\n",
    "chi_bond_yield_5.rename(columns = lambda x : 'chi_bond_yield_5_' + x if x != 'Date' else x, inplace = True)\n",
    "chi_bond_yield_10.rename(columns = lambda x : 'chi_bond_yield_10_' + x if x != 'Date' else x, inplace = True)\n",
    "chi_bond_yield_10.dropna(inplace=True)\n",
    "\n",
    "jap_bond_yield_1.rename(columns = lambda x : 'jap_bond_yield_1_' + x if x != 'Date' else x, inplace = True)\n",
    "jap_bond_yield_3.rename(columns = lambda x : 'jap_bond_yield_3_' + x if x != 'Date' else x, inplace = True)\n",
    "jap_bond_yield_5.rename(columns = lambda x : 'jap_bond_yield_5_' + x if x != 'Date' else x, inplace = True)\n",
    "jap_bond_yield_10.rename(columns = lambda x : 'jap_bond_yield_10_' + x if x != 'Date' else x, inplace = True)\n",
    "\n",
    "kor_bond_yield_1.rename(columns = lambda x : 'kor_bond_yield_1_' + x if x != 'Date' else x, inplace = True)\n",
    "kor_bond_yield_3.rename(columns = lambda x : 'kor_bond_yield_3_' + x if x != 'Date' else x, inplace = True)\n",
    "kor_bond_yield_5.rename(columns = lambda x : 'kor_bond_yield_5_' + x if x != 'Date' else x, inplace = True)\n",
    "kor_bond_yield_10.rename(columns = lambda x : 'kor_bond_yield_10_' + x if x != 'Date' else x, inplace = True)\n",
    "\n",
    "us_bond_yield_1.rename(columns = lambda x : 'us_bond_yield_1_' + x if x != 'Date' else x, inplace = True)\n",
    "us_bond_yield_3.rename(columns = lambda x : 'us_bond_yield_3_' + x if x != 'Date' else x, inplace = True)\n",
    "us_bond_yield_5.rename(columns = lambda x : 'us_bond_yield_5_' + x if x != 'Date' else x, inplace = True)\n",
    "us_bond_yield_5.dropna(inplace=True)\n",
    "us_bond_yield_10.rename(columns = lambda x : 'us_bond_yield_10_' + x if x != 'Date' else x, inplace = True)\n",
    "\n",
    "chi_cpi_m.rename(columns = lambda x : 'chi_cpi_m_' + x if x != 'Date' else x, inplace = True)\n",
    "chi_cpi_y.rename(columns = lambda x : 'chi_cpi_y_' + x if x != 'Date' else x, inplace = True)\n",
    "jap_c_cpi_y.rename(columns = lambda x : 'jap_c_cpi_y_' + x if x != 'Date' else x, inplace = True)\n",
    "jap_cpi_y.rename(columns = lambda x : 'jap_cpi_y_' + x if x != 'Date' else x, inplace = True)\n",
    "kor_cpi_m.rename(columns = lambda x : 'kor_cpi_m_' + x if x != 'Date' else x, inplace = True)\n",
    "kor_cpi_y.rename(columns = lambda x : 'kor_cpi_y_' + x if x != 'Date' else x, inplace = True)\n",
    "us_c_cpi_m.rename(columns = lambda x : 'us_c_cpi_m_' + x if x != 'Date' else x, inplace = True)\n",
    "us_c_cpi_y.rename(columns = lambda x : 'us_c_cpi_y_' + x if x != 'Date' else x, inplace = True)\n",
    "us_cpi_m.rename(columns = lambda x : 'us_cpi_m_' + x if x != 'Date' else x, inplace = True)\n",
    "us_cpi_y.rename(columns = lambda x : 'us_cpi_y_' + x if x != 'Date' else x, inplace = True)\n",
    "\n",
    "brent.rename(columns = lambda x : 'brent_' + x if x != 'Date' else x, inplace = True)\n",
    "dubai.rename(columns = lambda x : 'dubai_' + x if x != 'Date' else x, inplace = True)\n",
    "wti.rename(columns = lambda x : 'wti_' + x if x != 'Date' else x, inplace = True)\n",
    "\n",
    "bitcoin.rename(columns = lambda x : 'bitcoin_' + x if x != 'Date' else x, inplace = True)\n",
    "dollar.rename(columns = lambda x : 'dollar_' + x if x != 'Date' else x, inplace = True)\n",
    "gold.rename(columns = lambda x : 'gold_' + x if x != 'Date' else x, inplace = True)\n",
    "kor_unem.rename(columns = lambda x : 'kor_unem_' + x if x != 'Date' else x, inplace = True)\n",
    "us_unem.rename(columns = lambda x : 'us_unem_' + x if x != 'Date' else x, inplace = True)\n",
    "kor_interest.rename(columns = lambda x : 'kor_interest_' + x if x != 'Date' else x, inplace = True)\n",
    "usd_krw.rename(columns = lambda x : 'usd_krw_' + x if x != 'Date' else x, inplace = True)\n",
    "vix.rename(columns = lambda x : 'vix_' + x if x != 'Date' else x, inplace = True)\n"
   ]
  },
  {
   "cell_type": "code",
   "execution_count": 7,
   "id": "008ad02e",
   "metadata": {
    "ExecuteTime": {
     "end_time": "2023-05-26T14:04:09.789794Z",
     "start_time": "2023-05-26T14:04:09.782501Z"
    }
   },
   "outputs": [
    {
     "data": {
      "text/plain": [
       "48"
      ]
     },
     "execution_count": 7,
     "metadata": {},
     "output_type": "execute_result"
    }
   ],
   "source": [
    "variables = [kospi, kosdaq, dow, sp500, russel2000, nasdaq, ftse, nikkie, ssec, szse, hsi, \n",
    "             chi_bond_yield_1, chi_bond_yield_3, chi_bond_yield_5, chi_bond_yield_10,\n",
    "             jap_bond_yield_1, jap_bond_yield_3, jap_bond_yield_5, jap_bond_yield_10,\n",
    "             kor_bond_yield_1, kor_bond_yield_3, kor_bond_yield_5, kor_bond_yield_10, kor_unem,\n",
    "             us_bond_yield_1, us_bond_yield_3, us_bond_yield_5, us_bond_yield_10,\n",
    "             chi_cpi_m, chi_cpi_y, jap_c_cpi_y, jap_cpi_y, kor_cpi_m, kor_cpi_y, kor_interest,\n",
    "             us_c_cpi_m, us_c_cpi_y, us_cpi_m, us_cpi_y, brent, dubai, wti,\n",
    "             dollar, gold, us_unem, usd_krw, vix, bitcoin]\n",
    "len(variables)"
   ]
  },
  {
   "cell_type": "code",
   "execution_count": null,
   "id": "19b84807",
   "metadata": {
    "ExecuteTime": {
     "end_time": "2023-05-25T11:47:09.905874Z",
     "start_time": "2023-05-25T11:47:09.879845Z"
    }
   },
   "outputs": [],
   "source": [
    "'''\n",
    "# 월별 데이터\n",
    "\n",
    "month_data = [kor_unem, chi_cpi_m, chi_cpi_y, jap_c_cpi_y, jap_cpi_y, kor_cpi_m, \n",
    "              kor_cpi_y, kor_interest, us_c_cpi_m, us_c_cpi_y, us_cpi_m, us_cpi_y, us_unem]\n",
    "\n",
    "\n",
    "# 월별 데이터 날짜 늘리기\n",
    "\n",
    "def fill(df):\n",
    "    for j in tqdm(range(len(df))):\n",
    "        for i in range(2, 10):\n",
    "            df = df.append({'Date' : df.Date[j][:7] + '-0' + str(i), 'Close' : np.nan}, ignore_index=True)\n",
    "    \n",
    "    df.sort_values(by ='Date', axis=0, inplace=True)\n",
    "    df.fillna(method='ffill', inplace=True)\n",
    "#             df.reset_index(inplace=True)\n",
    "    return df\n",
    "'''"
   ]
  },
  {
   "cell_type": "code",
   "execution_count": null,
   "id": "1a4179e9",
   "metadata": {
    "ExecuteTime": {
     "end_time": "2023-05-26T10:08:24.728609Z",
     "start_time": "2023-05-26T10:08:24.697200Z"
    }
   },
   "outputs": [],
   "source": [
    "'''\n",
    "korea = [kospi, kosdaq, \n",
    "         kor_bond_yield_1, kor_bond_yield_3, kor_bond_yield_5, kor_bond_yield_10, kor_unem,\n",
    "         kor_cpi_m, kor_cpi_y, kor_interest, usd_krw]\n",
    "\n",
    "usa = [dow, sp500, russel2000, nasdaq, ftse, \n",
    "       us_bond_yield_1, us_bond_yield_3, us_bond_yield_5, us_bond_yield_10,\n",
    "       us_c_cpi_m, us_c_cpi_y, us_cpi_m, us_cpi_y,\n",
    "       dollar, us_unem, vix]\n",
    "\n",
    "china = [ssec, szse, hsi, \n",
    "         chi_bond_yield_1, chi_bond_yield_3, chi_bond_yield_5, chi_bond_yield_10, chi_cpi_m, chi_cpi_y]\n",
    "\n",
    "japan = [nikkie, \n",
    "         jap_bond_yield_1, jap_bond_yield_3, jap_bond_yield_5, jap_bond_yield_10, jap_c_cpi_y, jap_cpi_y]\n",
    "\n",
    "oil = [wti, dubai, brent]\n",
    "#          gold, bitcoin]\n",
    "'''"
   ]
  },
  {
   "cell_type": "markdown",
   "id": "7017697d",
   "metadata": {},
   "source": [
    "# EDA"
   ]
  },
  {
   "cell_type": "markdown",
   "id": "ab74c527",
   "metadata": {},
   "source": [
    "### Data Correlation"
   ]
  },
  {
   "cell_type": "markdown",
   "id": "63fe598c",
   "metadata": {},
   "source": [
    "https://m.boostcourse.org/ds112/lecture/60085"
   ]
  },
  {
   "cell_type": "markdown",
   "id": "56a90375",
   "metadata": {},
   "source": [
    "https://youngwonhan-family.tistory.com/entry/%EB%8D%B0%EC%9D%B4%ED%84%B0-%EC%8B%9C%EA%B0%81%ED%99%94-%EC%83%81%EA%B4%80%EA%B4%80%EA%B3%84correlation-%EB%B6%84%EC%84%9D-Heatmap-with-Matplotlib-seaborn"
   ]
  },
  {
   "cell_type": "code",
   "execution_count": null,
   "id": "09e8b8d5",
   "metadata": {
    "ExecuteTime": {
     "end_time": "2023-05-26T10:13:22.443275Z",
     "start_time": "2023-05-26T10:13:22.424800Z"
    }
   },
   "outputs": [],
   "source": [
    "from sklearn.preprocessing import MinMaxScaler\n",
    "\n",
    "minmax_scaler = MinMaxScaler()"
   ]
  },
  {
   "cell_type": "code",
   "execution_count": 8,
   "id": "c22a5afc",
   "metadata": {
    "ExecuteTime": {
     "end_time": "2023-05-26T14:04:16.001010Z",
     "start_time": "2023-05-26T14:04:15.995795Z"
    }
   },
   "outputs": [],
   "source": [
    "def concat_data(lst, standard_value):\n",
    "#     # 최소 기간 data 추출\n",
    "#     df_min_len = len(lst[0])\n",
    "#     for _ in range(len(lst)):\n",
    "#         if df_min_len >= len(lst[_]):\n",
    "#             df_min_len = len(lst[_])\n",
    "#             df_min = lst[_]\n",
    "#     x = df_min\n",
    "\n",
    "    res = standard_value\n",
    "    for i in lst:\n",
    "        if standard_value.columns[1] != i.columns[1]:\n",
    "            df = pd.merge(i, res, how = 'right', left_on = 'Date', right_on = 'Date')\n",
    "            df.fillna(method = 'ffill', inplace = True)\n",
    "            df.fillna(method = 'bfill', inplace = True)\n",
    "            res = df\n",
    "            \n",
    "    df = df.set_index('Date')\n",
    "    return df"
   ]
  },
  {
   "cell_type": "code",
   "execution_count": 9,
   "id": "ace4f406",
   "metadata": {
    "ExecuteTime": {
     "end_time": "2023-05-26T14:04:17.494747Z",
     "start_time": "2023-05-26T14:04:16.884012Z"
    }
   },
   "outputs": [],
   "source": [
    "all_data = concat_data(variables, kospi)"
   ]
  },
  {
   "cell_type": "code",
   "execution_count": 11,
   "id": "a3eeaaf5",
   "metadata": {
    "ExecuteTime": {
     "end_time": "2023-05-26T14:04:24.219832Z",
     "start_time": "2023-05-26T14:04:24.181096Z"
    }
   },
   "outputs": [
    {
     "data": {
      "text/html": [
       "<div>\n",
       "<style scoped>\n",
       "    .dataframe tbody tr th:only-of-type {\n",
       "        vertical-align: middle;\n",
       "    }\n",
       "\n",
       "    .dataframe tbody tr th {\n",
       "        vertical-align: top;\n",
       "    }\n",
       "\n",
       "    .dataframe thead th {\n",
       "        text-align: right;\n",
       "    }\n",
       "</style>\n",
       "<table border=\"1\" class=\"dataframe\">\n",
       "  <thead>\n",
       "    <tr style=\"text-align: right;\">\n",
       "      <th></th>\n",
       "      <th>bitcoin_Close</th>\n",
       "      <th>vix_Close</th>\n",
       "      <th>usd_krw_Close</th>\n",
       "      <th>us_unem_Close</th>\n",
       "      <th>gold_Close</th>\n",
       "      <th>dollar_Close</th>\n",
       "      <th>wti_Close</th>\n",
       "      <th>dubai_Close</th>\n",
       "      <th>brent_Close</th>\n",
       "      <th>us_cpi_y_Close</th>\n",
       "      <th>...</th>\n",
       "      <th>szse_Close</th>\n",
       "      <th>ssec_Close</th>\n",
       "      <th>nikkie_Close</th>\n",
       "      <th>ftse_Close</th>\n",
       "      <th>nasdaq_Close</th>\n",
       "      <th>russel2000_Close</th>\n",
       "      <th>sp500_Close</th>\n",
       "      <th>dow_Close</th>\n",
       "      <th>kosdaq_Close</th>\n",
       "      <th>kospi_Close</th>\n",
       "    </tr>\n",
       "    <tr>\n",
       "      <th>Date</th>\n",
       "      <th></th>\n",
       "      <th></th>\n",
       "      <th></th>\n",
       "      <th></th>\n",
       "      <th></th>\n",
       "      <th></th>\n",
       "      <th></th>\n",
       "      <th></th>\n",
       "      <th></th>\n",
       "      <th></th>\n",
       "      <th></th>\n",
       "      <th></th>\n",
       "      <th></th>\n",
       "      <th></th>\n",
       "      <th></th>\n",
       "      <th></th>\n",
       "      <th></th>\n",
       "      <th></th>\n",
       "      <th></th>\n",
       "      <th></th>\n",
       "      <th></th>\n",
       "    </tr>\n",
       "  </thead>\n",
       "  <tbody>\n",
       "    <tr>\n",
       "      <th>1990-01-03</th>\n",
       "      <td>0.1</td>\n",
       "      <td>18.19</td>\n",
       "      <td>683.50</td>\n",
       "      <td>0.054</td>\n",
       "      <td>398.7</td>\n",
       "      <td>95.220</td>\n",
       "      <td>23.68</td>\n",
       "      <td>104.00</td>\n",
       "      <td>21.69</td>\n",
       "      <td>0.052</td>\n",
       "      <td>...</td>\n",
       "      <td>1151.58</td>\n",
       "      <td>104.39</td>\n",
       "      <td>13867.61</td>\n",
       "      <td>5562.52</td>\n",
       "      <td>460.90</td>\n",
       "      <td>484.39</td>\n",
       "      <td>358.80</td>\n",
       "      <td>2809.73</td>\n",
       "      <td>557.00</td>\n",
       "      <td>908.59</td>\n",
       "    </tr>\n",
       "    <tr>\n",
       "      <th>1990-01-04</th>\n",
       "      <td>0.1</td>\n",
       "      <td>19.22</td>\n",
       "      <td>684.20</td>\n",
       "      <td>0.054</td>\n",
       "      <td>403.2</td>\n",
       "      <td>93.160</td>\n",
       "      <td>23.41</td>\n",
       "      <td>104.00</td>\n",
       "      <td>21.51</td>\n",
       "      <td>0.052</td>\n",
       "      <td>...</td>\n",
       "      <td>1151.58</td>\n",
       "      <td>104.39</td>\n",
       "      <td>13867.61</td>\n",
       "      <td>5562.52</td>\n",
       "      <td>459.39</td>\n",
       "      <td>484.39</td>\n",
       "      <td>355.70</td>\n",
       "      <td>2796.08</td>\n",
       "      <td>557.00</td>\n",
       "      <td>928.82</td>\n",
       "    </tr>\n",
       "    <tr>\n",
       "      <th>1990-01-05</th>\n",
       "      <td>0.1</td>\n",
       "      <td>20.11</td>\n",
       "      <td>683.70</td>\n",
       "      <td>0.054</td>\n",
       "      <td>410.9</td>\n",
       "      <td>93.620</td>\n",
       "      <td>23.08</td>\n",
       "      <td>104.00</td>\n",
       "      <td>22.00</td>\n",
       "      <td>0.052</td>\n",
       "      <td>...</td>\n",
       "      <td>1151.58</td>\n",
       "      <td>104.39</td>\n",
       "      <td>13867.61</td>\n",
       "      <td>5562.52</td>\n",
       "      <td>458.22</td>\n",
       "      <td>484.39</td>\n",
       "      <td>352.20</td>\n",
       "      <td>2773.25</td>\n",
       "      <td>557.00</td>\n",
       "      <td>915.11</td>\n",
       "    </tr>\n",
       "    <tr>\n",
       "      <th>1990-01-06</th>\n",
       "      <td>0.1</td>\n",
       "      <td>20.11</td>\n",
       "      <td>683.70</td>\n",
       "      <td>0.054</td>\n",
       "      <td>410.9</td>\n",
       "      <td>93.620</td>\n",
       "      <td>23.08</td>\n",
       "      <td>104.00</td>\n",
       "      <td>22.00</td>\n",
       "      <td>0.052</td>\n",
       "      <td>...</td>\n",
       "      <td>1151.58</td>\n",
       "      <td>104.39</td>\n",
       "      <td>13867.61</td>\n",
       "      <td>5562.52</td>\n",
       "      <td>458.22</td>\n",
       "      <td>484.39</td>\n",
       "      <td>352.20</td>\n",
       "      <td>2773.25</td>\n",
       "      <td>557.00</td>\n",
       "      <td>912.86</td>\n",
       "    </tr>\n",
       "    <tr>\n",
       "      <th>1990-01-08</th>\n",
       "      <td>0.1</td>\n",
       "      <td>20.26</td>\n",
       "      <td>683.60</td>\n",
       "      <td>0.054</td>\n",
       "      <td>407.2</td>\n",
       "      <td>92.800</td>\n",
       "      <td>21.62</td>\n",
       "      <td>104.00</td>\n",
       "      <td>20.52</td>\n",
       "      <td>0.052</td>\n",
       "      <td>...</td>\n",
       "      <td>1151.58</td>\n",
       "      <td>104.39</td>\n",
       "      <td>13867.61</td>\n",
       "      <td>5562.52</td>\n",
       "      <td>458.71</td>\n",
       "      <td>484.39</td>\n",
       "      <td>353.80</td>\n",
       "      <td>2794.37</td>\n",
       "      <td>557.00</td>\n",
       "      <td>919.46</td>\n",
       "    </tr>\n",
       "    <tr>\n",
       "      <th>...</th>\n",
       "      <td>...</td>\n",
       "      <td>...</td>\n",
       "      <td>...</td>\n",
       "      <td>...</td>\n",
       "      <td>...</td>\n",
       "      <td>...</td>\n",
       "      <td>...</td>\n",
       "      <td>...</td>\n",
       "      <td>...</td>\n",
       "      <td>...</td>\n",
       "      <td>...</td>\n",
       "      <td>...</td>\n",
       "      <td>...</td>\n",
       "      <td>...</td>\n",
       "      <td>...</td>\n",
       "      <td>...</td>\n",
       "      <td>...</td>\n",
       "      <td>...</td>\n",
       "      <td>...</td>\n",
       "      <td>...</td>\n",
       "      <td>...</td>\n",
       "    </tr>\n",
       "    <tr>\n",
       "      <th>2023-03-09</th>\n",
       "      <td>20361.8</td>\n",
       "      <td>22.61</td>\n",
       "      <td>1325.51</td>\n",
       "      <td>0.035</td>\n",
       "      <td>1834.6</td>\n",
       "      <td>105.305</td>\n",
       "      <td>75.72</td>\n",
       "      <td>81.24</td>\n",
       "      <td>81.59</td>\n",
       "      <td>0.060</td>\n",
       "      <td>...</td>\n",
       "      <td>11579.99</td>\n",
       "      <td>3276.09</td>\n",
       "      <td>28623.15</td>\n",
       "      <td>13118.81</td>\n",
       "      <td>11338.36</td>\n",
       "      <td>1826.59</td>\n",
       "      <td>3918.32</td>\n",
       "      <td>32256.05</td>\n",
       "      <td>809.22</td>\n",
       "      <td>2419.09</td>\n",
       "    </tr>\n",
       "    <tr>\n",
       "      <th>2023-03-10</th>\n",
       "      <td>20156.7</td>\n",
       "      <td>24.80</td>\n",
       "      <td>1320.24</td>\n",
       "      <td>0.035</td>\n",
       "      <td>1867.2</td>\n",
       "      <td>104.552</td>\n",
       "      <td>76.68</td>\n",
       "      <td>82.16</td>\n",
       "      <td>82.78</td>\n",
       "      <td>0.060</td>\n",
       "      <td>...</td>\n",
       "      <td>11442.54</td>\n",
       "      <td>3230.08</td>\n",
       "      <td>28143.97</td>\n",
       "      <td>12965.40</td>\n",
       "      <td>11138.89</td>\n",
       "      <td>1772.70</td>\n",
       "      <td>3861.59</td>\n",
       "      <td>31909.96</td>\n",
       "      <td>788.60</td>\n",
       "      <td>2394.59</td>\n",
       "    </tr>\n",
       "    <tr>\n",
       "      <th>2023-03-13</th>\n",
       "      <td>24114.4</td>\n",
       "      <td>26.52</td>\n",
       "      <td>1296.58</td>\n",
       "      <td>0.035</td>\n",
       "      <td>1916.5</td>\n",
       "      <td>103.713</td>\n",
       "      <td>74.80</td>\n",
       "      <td>81.01</td>\n",
       "      <td>80.77</td>\n",
       "      <td>0.060</td>\n",
       "      <td>...</td>\n",
       "      <td>11505.02</td>\n",
       "      <td>3268.70</td>\n",
       "      <td>27832.96</td>\n",
       "      <td>13079.91</td>\n",
       "      <td>11188.84</td>\n",
       "      <td>1744.30</td>\n",
       "      <td>3855.76</td>\n",
       "      <td>31819.05</td>\n",
       "      <td>788.89</td>\n",
       "      <td>2410.60</td>\n",
       "    </tr>\n",
       "    <tr>\n",
       "      <th>2023-03-14</th>\n",
       "      <td>24699.7</td>\n",
       "      <td>23.73</td>\n",
       "      <td>1304.55</td>\n",
       "      <td>0.035</td>\n",
       "      <td>1910.9</td>\n",
       "      <td>103.215</td>\n",
       "      <td>71.33</td>\n",
       "      <td>79.20</td>\n",
       "      <td>77.45</td>\n",
       "      <td>0.060</td>\n",
       "      <td>...</td>\n",
       "      <td>11416.57</td>\n",
       "      <td>3245.31</td>\n",
       "      <td>27222.04</td>\n",
       "      <td>12995.57</td>\n",
       "      <td>11428.15</td>\n",
       "      <td>1776.89</td>\n",
       "      <td>3920.56</td>\n",
       "      <td>32153.89</td>\n",
       "      <td>758.05</td>\n",
       "      <td>2348.97</td>\n",
       "    </tr>\n",
       "    <tr>\n",
       "      <th>2023-03-15</th>\n",
       "      <td>24282.7</td>\n",
       "      <td>26.14</td>\n",
       "      <td>1313.04</td>\n",
       "      <td>0.035</td>\n",
       "      <td>1948.1</td>\n",
       "      <td>104.276</td>\n",
       "      <td>67.61</td>\n",
       "      <td>77.25</td>\n",
       "      <td>73.28</td>\n",
       "      <td>0.060</td>\n",
       "      <td>...</td>\n",
       "      <td>11413.43</td>\n",
       "      <td>3263.31</td>\n",
       "      <td>27229.48</td>\n",
       "      <td>12998.04</td>\n",
       "      <td>11434.05</td>\n",
       "      <td>1745.94</td>\n",
       "      <td>3891.93</td>\n",
       "      <td>31876.22</td>\n",
       "      <td>781.17</td>\n",
       "      <td>2379.72</td>\n",
       "    </tr>\n",
       "  </tbody>\n",
       "</table>\n",
       "<p>8621 rows × 48 columns</p>\n",
       "</div>"
      ],
      "text/plain": [
       "            bitcoin_Close  vix_Close  usd_krw_Close  us_unem_Close  \\\n",
       "Date                                                                 \n",
       "1990-01-03            0.1      18.19         683.50          0.054   \n",
       "1990-01-04            0.1      19.22         684.20          0.054   \n",
       "1990-01-05            0.1      20.11         683.70          0.054   \n",
       "1990-01-06            0.1      20.11         683.70          0.054   \n",
       "1990-01-08            0.1      20.26         683.60          0.054   \n",
       "...                   ...        ...            ...            ...   \n",
       "2023-03-09        20361.8      22.61        1325.51          0.035   \n",
       "2023-03-10        20156.7      24.80        1320.24          0.035   \n",
       "2023-03-13        24114.4      26.52        1296.58          0.035   \n",
       "2023-03-14        24699.7      23.73        1304.55          0.035   \n",
       "2023-03-15        24282.7      26.14        1313.04          0.035   \n",
       "\n",
       "            gold_Close  dollar_Close  wti_Close  dubai_Close  brent_Close  \\\n",
       "Date                                                                        \n",
       "1990-01-03       398.7        95.220      23.68       104.00        21.69   \n",
       "1990-01-04       403.2        93.160      23.41       104.00        21.51   \n",
       "1990-01-05       410.9        93.620      23.08       104.00        22.00   \n",
       "1990-01-06       410.9        93.620      23.08       104.00        22.00   \n",
       "1990-01-08       407.2        92.800      21.62       104.00        20.52   \n",
       "...                ...           ...        ...          ...          ...   \n",
       "2023-03-09      1834.6       105.305      75.72        81.24        81.59   \n",
       "2023-03-10      1867.2       104.552      76.68        82.16        82.78   \n",
       "2023-03-13      1916.5       103.713      74.80        81.01        80.77   \n",
       "2023-03-14      1910.9       103.215      71.33        79.20        77.45   \n",
       "2023-03-15      1948.1       104.276      67.61        77.25        73.28   \n",
       "\n",
       "            us_cpi_y_Close  ...  szse_Close  ssec_Close  nikkie_Close  \\\n",
       "Date                        ...                                         \n",
       "1990-01-03           0.052  ...     1151.58      104.39      13867.61   \n",
       "1990-01-04           0.052  ...     1151.58      104.39      13867.61   \n",
       "1990-01-05           0.052  ...     1151.58      104.39      13867.61   \n",
       "1990-01-06           0.052  ...     1151.58      104.39      13867.61   \n",
       "1990-01-08           0.052  ...     1151.58      104.39      13867.61   \n",
       "...                    ...  ...         ...         ...           ...   \n",
       "2023-03-09           0.060  ...    11579.99     3276.09      28623.15   \n",
       "2023-03-10           0.060  ...    11442.54     3230.08      28143.97   \n",
       "2023-03-13           0.060  ...    11505.02     3268.70      27832.96   \n",
       "2023-03-14           0.060  ...    11416.57     3245.31      27222.04   \n",
       "2023-03-15           0.060  ...    11413.43     3263.31      27229.48   \n",
       "\n",
       "            ftse_Close  nasdaq_Close  russel2000_Close  sp500_Close  \\\n",
       "Date                                                                  \n",
       "1990-01-03     5562.52        460.90            484.39       358.80   \n",
       "1990-01-04     5562.52        459.39            484.39       355.70   \n",
       "1990-01-05     5562.52        458.22            484.39       352.20   \n",
       "1990-01-06     5562.52        458.22            484.39       352.20   \n",
       "1990-01-08     5562.52        458.71            484.39       353.80   \n",
       "...                ...           ...               ...          ...   \n",
       "2023-03-09    13118.81      11338.36           1826.59      3918.32   \n",
       "2023-03-10    12965.40      11138.89           1772.70      3861.59   \n",
       "2023-03-13    13079.91      11188.84           1744.30      3855.76   \n",
       "2023-03-14    12995.57      11428.15           1776.89      3920.56   \n",
       "2023-03-15    12998.04      11434.05           1745.94      3891.93   \n",
       "\n",
       "            dow_Close  kosdaq_Close  kospi_Close  \n",
       "Date                                              \n",
       "1990-01-03    2809.73        557.00       908.59  \n",
       "1990-01-04    2796.08        557.00       928.82  \n",
       "1990-01-05    2773.25        557.00       915.11  \n",
       "1990-01-06    2773.25        557.00       912.86  \n",
       "1990-01-08    2794.37        557.00       919.46  \n",
       "...               ...           ...          ...  \n",
       "2023-03-09   32256.05        809.22      2419.09  \n",
       "2023-03-10   31909.96        788.60      2394.59  \n",
       "2023-03-13   31819.05        788.89      2410.60  \n",
       "2023-03-14   32153.89        758.05      2348.97  \n",
       "2023-03-15   31876.22        781.17      2379.72  \n",
       "\n",
       "[8621 rows x 48 columns]"
      ]
     },
     "execution_count": 11,
     "metadata": {},
     "output_type": "execute_result"
    }
   ],
   "source": [
    "all_data"
   ]
  },
  {
   "cell_type": "markdown",
   "id": "106bc880",
   "metadata": {},
   "source": [
    "min_max"
   ]
  },
  {
   "cell_type": "code",
   "execution_count": null,
   "id": "44b584f4",
   "metadata": {
    "ExecuteTime": {
     "end_time": "2023-05-26T10:13:28.743482Z",
     "start_time": "2023-05-26T10:13:28.725532Z"
    }
   },
   "outputs": [],
   "source": [
    "def concat_data_scaling(lst, standard_value):\n",
    "#     # 최소 기간 data 추출\n",
    "#     df_min_len = len(lst[0])\n",
    "#     for _ in range(len(lst)):\n",
    "#         if df_min_len >= len(lst[_]):\n",
    "#             df_min_len = len(lst[_])\n",
    "#             df_min = lst[_]\n",
    "#     x = df_min\n",
    "\n",
    "    res = standard_value\n",
    "    for i in lst:\n",
    "        if standard_value.columns[1] != i.columns[1]:\n",
    "            df = pd.merge(i, res, how = 'right', left_on = 'Date', right_on = 'Date')\n",
    "            df.fillna(method = 'ffill', inplace = True)\n",
    "            df.fillna(method = 'bfill', inplace = True)\n",
    "            res = df\n",
    "            \n",
    "    df = df.set_index('Date')\n",
    "    minmax_scaled = minmax_scaler.fit_transform(df.values)\n",
    "    df = pd.DataFrame(data = minmax_scaled, columns = df.columns, index = df.index)\n",
    "    \n",
    "    return df"
   ]
  },
  {
   "cell_type": "code",
   "execution_count": null,
   "id": "229c804d",
   "metadata": {
    "ExecuteTime": {
     "end_time": "2023-05-26T10:13:29.912663Z",
     "start_time": "2023-05-26T10:13:28.924000Z"
    }
   },
   "outputs": [],
   "source": [
    "all_data_scaling = concat_data_scaling(variables, kospi)"
   ]
  },
  {
   "cell_type": "code",
   "execution_count": null,
   "id": "d5e227b5",
   "metadata": {
    "ExecuteTime": {
     "end_time": "2023-05-26T10:13:30.517839Z",
     "start_time": "2023-05-26T10:13:30.460756Z"
    }
   },
   "outputs": [],
   "source": [
    "all_data_scaling"
   ]
  },
  {
   "cell_type": "code",
   "execution_count": null,
   "id": "ffbbae32",
   "metadata": {
    "ExecuteTime": {
     "end_time": "2023-05-26T10:14:37.768453Z",
     "start_time": "2023-05-26T10:14:37.683108Z"
    },
    "scrolled": true
   },
   "outputs": [],
   "source": [
    "df_corr = all_data_scaling.corr()"
   ]
  },
  {
   "cell_type": "code",
   "execution_count": null,
   "id": "8fb38164",
   "metadata": {
    "ExecuteTime": {
     "end_time": "2023-05-26T10:14:38.386334Z",
     "start_time": "2023-05-26T10:14:38.117052Z"
    }
   },
   "outputs": [],
   "source": [
    "# series 이므로 df로 변환한다\n",
    "\n",
    "s = df_corr.kospi_Close\n",
    "\n",
    "# 0.7 이상 추출\n",
    "cor_vis = pd.DataFrame(s[s > 0.7].sort_values(ascending=False))#, columns=['corr'])\n",
    "f = {'kospi_Close':'{:.2f}'} #column col A to 2 decimals\n",
    "cor_vis.style.format(f).bar(cmap='Wistia', vmax = 1, vmin = 0.5)\n",
    "# cor_vis"
   ]
  },
  {
   "cell_type": "code",
   "execution_count": null,
   "id": "efee869c",
   "metadata": {
    "ExecuteTime": {
     "end_time": "2023-05-26T10:14:42.177842Z",
     "start_time": "2023-05-26T10:14:42.147993Z"
    },
    "scrolled": false
   },
   "outputs": [],
   "source": [
    "# -0.7 이상 추출\n",
    "\n",
    "cor_vis2 = pd.DataFrame(s[s < -0.7].sort_values(ascending=True))\n",
    "f = {'kospi_Close':'{:.2f}'} #column col A to 2 decimals\n",
    "cor_vis2.style.format(f).bar(cmap='Wistia', vmax = -0.5, vmin = -1)"
   ]
  },
  {
   "cell_type": "markdown",
   "id": "5dac55b5",
   "metadata": {},
   "source": [
    "### Correlation over 0.7"
   ]
  },
  {
   "cell_type": "code",
   "execution_count": null,
   "id": "c449f548",
   "metadata": {
    "ExecuteTime": {
     "end_time": "2023-04-29T09:49:05.758888Z",
     "start_time": "2023-04-29T09:49:05.744916Z"
    }
   },
   "outputs": [],
   "source": [
    "\n",
    "cor_over_70 = [dow, sp500, russel2000, nasdaq, ftse, nikkie, ssec, szse, hsi, jap_bond_yield_10, \n",
    "               kor_bond_yield_1, kor_bond_yield_3, kor_bond_yield_5, kor_bond_yield_10, kor_interest, \n",
    "               us_bond_yield_3, us_bond_yield_5, us_bond_yield_10, brent, wti, bitcoin, gold]\n",
    "\n",
    "'''\n",
    "dow                  90.01.02 \n",
    "sp500                90.01.02 \n",
    "russel2000               01.01.03 \n",
    "nasdaq               90.01.02 \n",
    "ftse                     04.03.05\n",
    "nikkie                   01.01.05 \n",
    "ssec                   90.12.20 \n",
    "szse                   95.01.24 \n",
    "hsi                      00.12.05 \n",
    "jap_bond_yield_10        06.02.07\n",
    "kor_bond_yield_1       95.05.03\n",
    "kor_bond_yield_3       95.05.03\n",
    "kor_bond_yield_5       95.05.03\n",
    "kor_bond_yield_10        00.10.26\n",
    "kor_interest         99.05\n",
    "us_bond_yield_3      90.01.08\n",
    "us_bond_yield_5      90.01.08\n",
    "us_bond_yield_10     90.01.08\n",
    "brent                90.01.02\n",
    "wti                  90.01.02\n",
    "# bitcoin                  10.07.18\n",
    "gold                 90.01.02\n",
    "\n",
    "'''"
   ]
  },
  {
   "cell_type": "code",
   "execution_count": null,
   "id": "794c94e0",
   "metadata": {
    "ExecuteTime": {
     "end_time": "2023-05-26T09:07:52.860559Z",
     "start_time": "2023-05-26T09:07:52.845590Z"
    }
   },
   "outputs": [],
   "source": [
    "# 날짜 다른 두 컬럼 간 상관관계 및 그래프 도출\n",
    "\n",
    "def get_corr(lst, standard_value, start, end):\n",
    "    for i in lst:\n",
    "        if str(i) != str(standard_value):\n",
    "            oneone = pd.merge(i, standard_value, how = 'right', left_on = 'Date', right_on = 'Date')\n",
    "            oneone = oneone.set_index('Date')\n",
    "            oneone.fillna(method = 'ffill', inplace = True)\n",
    "            oneone.fillna(method = 'bfill', inplace = True)\n",
    "            minmax_scaled = minmax_scaler.fit_transform(oneone.values)\n",
    "            df = pd.DataFrame(data = minmax_scaled, columns = oneone.columns, index = oneone.index)\n",
    "            print(df)\n",
    "            print(df.corr())\n",
    "\n",
    "            df.plot(figsize=(10,5))\n",
    "            plt.title(f'{standard_value.columns[1]}_{i.columns[1]}')\n",
    "            plt.show()\n",
    "            print('🍟🍟🍟🍟🍟🍟🍟🍟🍟🍟🍟🍟🍟🍟🍟🍟🍟🍟🍟🍟🍟')\n",
    "            print('\\n')\n"
   ]
  },
  {
   "cell_type": "code",
   "execution_count": null,
   "id": "3004698d",
   "metadata": {
    "ExecuteTime": {
     "end_time": "2023-05-26T09:17:11.251100Z",
     "start_time": "2023-05-26T09:17:11.246115Z"
    }
   },
   "outputs": [],
   "source": [
    "def get_plot(df, x, y, start, end):\n",
    "#     df.set_index(inplace=True)\n",
    "    df = df[(df.index >= start) & (df.index <= end)]\n",
    "    df = df[[x, y]]\n",
    "    df.plot(figsize=(10,5))\n",
    "    plt.title(f'{x}_{y}')\n",
    "#     plt.xticks(df['Date'])\n",
    "    plt.show()\n",
    "    print('🍟🍟🍟🍟🍟🍟🍟🍟🍟🍟🍟🍟🍟🍟🍟🍟🍟🍟🍟🍟🍟')\n",
    "    print('\\n')"
   ]
  },
  {
   "cell_type": "code",
   "execution_count": null,
   "id": "fdea5d88",
   "metadata": {
    "ExecuteTime": {
     "end_time": "2023-05-26T09:25:52.908631Z",
     "start_time": "2023-05-26T09:25:52.731104Z"
    },
    "scrolled": false
   },
   "outputs": [],
   "source": [
    "get_plot(all_data_scaling, 'kospi_Close', 'jap_bond_yield_5_Close', '2018', '2023')"
   ]
  },
  {
   "cell_type": "code",
   "execution_count": null,
   "id": "03f903b7",
   "metadata": {
    "ExecuteTime": {
     "end_time": "2023-05-26T09:24:46.189374Z",
     "start_time": "2023-05-26T09:24:45.990905Z"
    }
   },
   "outputs": [],
   "source": [
    "get_plot(all_data_scaling, 'kospi_Close', 'hsi_Close', '2005', '2012')"
   ]
  },
  {
   "cell_type": "code",
   "execution_count": null,
   "id": "b7127c2d",
   "metadata": {
    "ExecuteTime": {
     "end_time": "2023-05-26T09:24:00.012849Z",
     "start_time": "2023-05-26T09:23:59.858259Z"
    }
   },
   "outputs": [],
   "source": [
    "get_plot(all_data_scaling, 'kospi_Close', 'gold_Close', '1995', '1998')"
   ]
  },
  {
   "cell_type": "code",
   "execution_count": null,
   "id": "bcdd324f",
   "metadata": {
    "ExecuteTime": {
     "end_time": "2023-05-26T09:24:24.510865Z",
     "start_time": "2023-05-26T09:24:24.337330Z"
    }
   },
   "outputs": [],
   "source": [
    "get_plot(all_data_scaling, 'kospi_Close', 'gold_Close', '2019', '2023')"
   ]
  },
  {
   "cell_type": "markdown",
   "id": "31fc15c3",
   "metadata": {},
   "source": [
    "### 공적분 분석"
   ]
  },
  {
   "cell_type": "markdown",
   "id": "31eee3ab",
   "metadata": {},
   "source": [
    "#### 전체 feature 중 공적분 분석을 하여 장기적으로 연관성이 높은 feature 추출"
   ]
  },
  {
   "cell_type": "markdown",
   "id": "030593b1",
   "metadata": {},
   "source": [
    "https://hyen4110.tistory.com/38"
   ]
  },
  {
   "cell_type": "markdown",
   "id": "3e196b77",
   "metadata": {},
   "source": [
    "https://hyen4110.tistory.com/39"
   ]
  },
  {
   "cell_type": "markdown",
   "id": "7ea03140",
   "metadata": {},
   "source": [
    "https://lsjsj92.tistory.com/584"
   ]
  },
  {
   "cell_type": "code",
   "execution_count": null,
   "id": "babf2c7b",
   "metadata": {
    "ExecuteTime": {
     "end_time": "2023-05-26T10:59:47.429505Z",
     "start_time": "2023-05-26T10:59:47.416541Z"
    }
   },
   "outputs": [],
   "source": [
    "from statsmodels.tsa.stattools import coint"
   ]
  },
  {
   "cell_type": "code",
   "execution_count": null,
   "id": "69267875",
   "metadata": {
    "ExecuteTime": {
     "end_time": "2023-05-26T10:59:45.222261Z",
     "start_time": "2023-05-26T10:59:45.149453Z"
    }
   },
   "outputs": [],
   "source": [
    "all_data"
   ]
  },
  {
   "cell_type": "code",
   "execution_count": null,
   "id": "fcdd848d",
   "metadata": {
    "ExecuteTime": {
     "end_time": "2023-05-26T10:59:50.233391Z",
     "start_time": "2023-05-26T10:59:49.221769Z"
    }
   },
   "outputs": [],
   "source": [
    "_, p_value, _ = coint(all_data.kospi_Close, all_data.gold_Close)\n",
    "print('Correlation : ', all_data.kospi_Close.corr(all_data.gold_Close))\n",
    "print('Cointegration test p-value : ' , p_value)"
   ]
  },
  {
   "cell_type": "code",
   "execution_count": null,
   "id": "1a3a0c06",
   "metadata": {
    "ExecuteTime": {
     "end_time": "2023-05-26T10:59:50.942917Z",
     "start_time": "2023-05-26T10:59:50.929742Z"
    }
   },
   "outputs": [],
   "source": [
    "def coint_with_kospi(df, index):\n",
    "    _, p_value, _ = coint(df['kospi_Close'], df[index])\n",
    "    print('\\033[48;5;227m' + f'Kospi_{index} Cointegration' + '\\033[0m')\n",
    "    print('Correlation : ', df['kospi_Close'].corr(df[index]))\n",
    "    print('Cointegration test p-value : ' , p_value)\n",
    "    \n",
    "    if p_value < 0.05:\n",
    "        return '\\033[34m' + '귀무가설 기각' + '\\033[0m'\n",
    "    else:\n",
    "        return '\\033[31m' + '귀무가설 채택' + '\\033[0m'"
   ]
  },
  {
   "cell_type": "code",
   "execution_count": null,
   "id": "542e92d3",
   "metadata": {
    "ExecuteTime": {
     "end_time": "2023-05-23T09:49:45.433380Z",
     "start_time": "2023-05-23T09:49:45.426399Z"
    }
   },
   "outputs": [],
   "source": [
    "all_data.columns"
   ]
  },
  {
   "cell_type": "code",
   "execution_count": null,
   "id": "f8a43029",
   "metadata": {
    "ExecuteTime": {
     "end_time": "2023-05-26T08:22:46.233519Z",
     "start_time": "2023-05-26T08:22:46.219551Z"
    }
   },
   "outputs": [],
   "source": [
    "# len(list(cor_vis.index) + list(cor_vis2.index))\n",
    "cor_over_7 = list(cor_vis.index) + list(cor_vis2.index)\n",
    "cor_over_7"
   ]
  },
  {
   "cell_type": "code",
   "execution_count": null,
   "id": "7e2920fd",
   "metadata": {
    "ExecuteTime": {
     "end_time": "2023-05-26T11:00:46.074890Z",
     "start_time": "2023-05-26T10:59:54.818927Z"
    },
    "scrolled": true
   },
   "outputs": [],
   "source": [
    "for i in all_data:\n",
    "    print(coint_with_kospi(all_data, str(i)) + '\\n')"
   ]
  },
  {
   "cell_type": "code",
   "execution_count": null,
   "id": "0c542e82",
   "metadata": {
    "ExecuteTime": {
     "end_time": "2023-05-25T12:01:53.732046Z",
     "start_time": "2023-05-25T12:01:44.390572Z"
    },
    "scrolled": true
   },
   "outputs": [],
   "source": [
    "for i in cor_over_7:\n",
    "    print('\\033[48;5;227m' + f'Kospi_{str(i)} Scatter' + '\\033[0m')\n",
    "    plt.scatter(all_data['kospi_Close'], all_data[str(i)])\n",
    "    plt.show()"
   ]
  },
  {
   "cell_type": "markdown",
   "id": "4516bfc5",
   "metadata": {},
   "source": [
    "### 다중공선성 확인"
   ]
  },
  {
   "cell_type": "markdown",
   "id": "67c5af3d",
   "metadata": {},
   "source": [
    "https://blog.naver.com/sanghan1990/221121607688"
   ]
  },
  {
   "cell_type": "markdown",
   "id": "55ce681f",
   "metadata": {},
   "source": [
    "https://ysyblog.tistory.com/171"
   ]
  },
  {
   "cell_type": "markdown",
   "id": "3a0f4c88",
   "metadata": {},
   "source": [
    "#### 분산팽창지수 (VIF : Variance Inflation Factor)"
   ]
  },
  {
   "cell_type": "markdown",
   "id": "3a322b1b",
   "metadata": {},
   "source": [
    "https://zephyrus1111.tistory.com/66"
   ]
  },
  {
   "cell_type": "code",
   "execution_count": null,
   "id": "754c04e1",
   "metadata": {
    "ExecuteTime": {
     "end_time": "2023-05-01T09:35:46.776739Z",
     "start_time": "2023-05-01T09:35:46.766766Z"
    }
   },
   "outputs": [],
   "source": [
    "from statsmodels.formula.api import ols\n",
    "from statsmodels.stats.outliers_influence import variance_inflation_factor"
   ]
  },
  {
   "cell_type": "code",
   "execution_count": null,
   "id": "118fc932",
   "metadata": {
    "ExecuteTime": {
     "end_time": "2023-05-01T09:42:11.463163Z",
     "start_time": "2023-05-01T09:42:11.458146Z"
    }
   },
   "outputs": [],
   "source": [
    "low_period_data.columns"
   ]
  },
  {
   "cell_type": "code",
   "execution_count": null,
   "id": "aca62cd8",
   "metadata": {
    "ExecuteTime": {
     "end_time": "2023-05-01T09:51:41.967237Z",
     "start_time": "2023-05-01T09:51:41.954042Z"
    }
   },
   "outputs": [],
   "source": [
    "def listToString(str_list):\n",
    "    result = \"\"\n",
    "    for s in str_list:\n",
    "        result += s + \" \"\n",
    "    return result.strip()\n",
    "\n",
    "str_list = ['bitcoin_Close', 'vix_Close', 'usd_krw_Close', 'us_unem_Value',\n",
    "             'gold_Close', 'dollar_Close', 'wti_Close', 'brent_Close',\n",
    "             'us_cpi_y_Change', 'us_cpi_m_Change', 'us_c_cpi_y_Change',\n",
    "             'us_c_cpi_m_Change', 'kor_interest_Value', 'kor_cpi_y_Change',\n",
    "             'kor_cpi_m_Change', 'jap_cpi_y_Change', 'jap_c_cpi_y_Change',\n",
    "                'chi_cpi_y_Change', 'chi_cpi_m_Change', 'us_bond_yield_10_Close',\n",
    "                'us_bond_yield_5_Close', 'us_bond_yield_3_Close',\n",
    "                'us_bond_yield_1_Close', 'kor_bond_yield_10_Close',\n",
    "                'kor_bond_yield_5_Close', 'kor_bond_yield_3_Close',\n",
    "                'kor_bond_yield_1_Close', 'jap_bond_yield_10_Close',\n",
    "                'jap_bond_yield_5_Close', 'jap_bond_yield_3_Close',\n",
    "                'jap_bond_yield_1_Close', 'chi_bond_yield_10_Close',\n",
    "                'chi_bond_yield_5_Close', 'chi_bond_yield_3_Close',\n",
    "                'chi_bond_yield_1_Close', 'hsi_Close', 'szse_Close', 'ssec_Close',\n",
    "                'nikkie_Close', 'ftse_Close', 'nasdaq_Close', 'russel2000_Close',\n",
    "                'sp500_Close', 'dow_Close', 'kosdaq_Close', 'kospi_Close','dubai_Close']\n",
    "result = listToString(str_list)\n",
    "print(result)"
   ]
  },
  {
   "cell_type": "code",
   "execution_count": null,
   "id": "83d1c0cc",
   "metadata": {
    "ExecuteTime": {
     "end_time": "2023-05-01T09:53:39.885420Z",
     "start_time": "2023-05-01T09:53:39.741858Z"
    },
    "scrolled": true
   },
   "outputs": [],
   "source": [
    "def standardize_var(x):\n",
    "    mean = np.mean(x)\n",
    "    std = np.sqrt(np.sum(np.square(x-mean))/(len(x)-1))\n",
    "    return ((x-mean)/std)/np.sqrt(len(x)-1)\n",
    " \n",
    "sdf = low_period_data.apply(standardize_var) ## 데이터 표준화\n",
    "sdf_X = sdf[['bitcoin_Close', 'vix_Close', 'usd_krw_Close', 'us_unem_Value',\n",
    "             'gold_Close', 'dollar_Close', 'wti_Close', 'brent_Close',\n",
    "             'us_cpi_y_Change', 'us_cpi_m_Change', 'us_c_cpi_y_Change',\n",
    "             'us_c_cpi_m_Change', 'kor_interest_Value', 'kor_cpi_y_Change',\n",
    "             'kor_cpi_m_Change', 'jap_cpi_y_Change', 'jap_c_cpi_y_Change',\n",
    "             'chi_cpi_y_Change', 'chi_cpi_m_Change', 'us_bond_yield_10_Close',\n",
    "             'us_bond_yield_5_Close', 'us_bond_yield_3_Close',\n",
    "             'us_bond_yield_1_Close', 'kor_bond_yield_10_Close',\n",
    "             'kor_bond_yield_5_Close', 'kor_bond_yield_3_Close',\n",
    "             'kor_bond_yield_1_Close', 'jap_bond_yield_10_Close',\n",
    "             'jap_bond_yield_5_Close', 'jap_bond_yield_3_Close',\n",
    "             'jap_bond_yield_1_Close', 'chi_bond_yield_10_Close',\n",
    "             'chi_bond_yield_5_Close', 'chi_bond_yield_3_Close',\n",
    "             'chi_bond_yield_1_Close', 'hsi_Close', 'szse_Close', 'ssec_Close',\n",
    "             'nikkie_Close', 'ftse_Close', 'nasdaq_Close', 'russel2000_Close',\n",
    "             'sp500_Close', 'dow_Close', 'kosdaq_Close', 'kospi_Close','dubai_Close']]\n",
    "\n",
    "corr = np.array(sdf_X.corr()) ## 상관계수 행렬\n",
    "corr_inv = np.linalg.inv(corr) ## 상관계수행렬의 역행렬\n",
    " \n",
    "## standardized된 변수들로 이루어진 선형 회귀모형은 절편항이 없다. \n",
    "## 따라서 절편항은 제외한다. 포함시켜도 절편항이 0에 가까운 값으로 추정된다.\n",
    "fit = ols('kospi_Close ~ bitcoin_Close + vix_Close + usd_krw_Close \\\n",
    "                       + us_unem_Value + gold_Close + dollar_Close + wti_Close + brent_Close + us_cpi_y_Change \\\n",
    "                       + us_cpi_m_Change + us_c_cpi_y_Change + us_c_cpi_m_Change + kor_interest_Value \\\n",
    "                       + kor_cpi_y_Change + kor_cpi_m_Change + jap_cpi_y_Change + jap_c_cpi_y_Change \\\n",
    "                       + chi_cpi_y_Change + chi_cpi_m_Change + us_bond_yield_10_Close + us_bond_yield_5_Close \\\n",
    "                       + us_bond_yield_3_Close + us_bond_yield_1_Close + kor_bond_yield_10_Close + kor_bond_yield_5_Close \\\n",
    "                       + kor_bond_yield_3_Close + kor_bond_yield_1_Close + jap_bond_yield_10_Close + jap_bond_yield_5_Close \\\n",
    "                       + jap_bond_yield_3_Close + jap_bond_yield_1_Close + chi_bond_yield_10_Close + chi_bond_yield_5_Close \\\n",
    "                       + chi_bond_yield_3_Close + chi_bond_yield_1_Close + hsi_Close + szse_Close + ssec_Close + nikkie_Close \\\n",
    "                       + ftse_Close + nasdaq_Close + russel2000_Close + sp500_Close + dow_Close + kosdaq_Close + kospi_Close \\\n",
    "                       + dubai_Close', data = low_period_data).fit()"
   ]
  },
  {
   "cell_type": "code",
   "execution_count": null,
   "id": "8e3c6168",
   "metadata": {
    "ExecuteTime": {
     "end_time": "2023-05-01T09:54:31.460578Z",
     "start_time": "2023-05-01T09:54:30.739491Z"
    }
   },
   "outputs": [],
   "source": [
    "## 모형 정의(실제적합은 일어나지 않는다.)\n",
    "model = ols('kospi_Close ~ bitcoin_Close + vix_Close + usd_krw_Close \\\n",
    "                       + us_unem_Value + gold_Close + dollar_Close + wti_Close + brent_Close + us_cpi_y_Change \\\n",
    "                       + us_cpi_m_Change + us_c_cpi_y_Change + us_c_cpi_m_Change + kor_interest_Value \\\n",
    "                       + kor_cpi_y_Change + kor_cpi_m_Change + jap_cpi_y_Change + jap_c_cpi_y_Change \\\n",
    "                       + chi_cpi_y_Change + chi_cpi_m_Change + us_bond_yield_10_Close + us_bond_yield_5_Close \\\n",
    "                       + us_bond_yield_3_Close + us_bond_yield_1_Close + kor_bond_yield_10_Close + kor_bond_yield_5_Close \\\n",
    "                       + kor_bond_yield_3_Close + kor_bond_yield_1_Close + jap_bond_yield_10_Close + jap_bond_yield_5_Close \\\n",
    "                       + jap_bond_yield_3_Close + jap_bond_yield_1_Close + chi_bond_yield_10_Close + chi_bond_yield_5_Close \\\n",
    "                       + chi_bond_yield_3_Close + chi_bond_yield_1_Close + hsi_Close + szse_Close + ssec_Close + nikkie_Close \\\n",
    "                       + ftse_Close + nasdaq_Close + russel2000_Close + sp500_Close + dow_Close + kosdaq_Close + kospi_Close \\\n",
    "                       + dubai_Close', data = low_period_data)\n",
    " \n",
    "variables = []\n",
    "reg_coef = []\n",
    "vif = []\n",
    "for i in range(len(model.exog_names)):\n",
    "    col_name = model.exog_names[i]\n",
    "    variables.append(col_name)\n",
    "    reg_coef.append(model.fit().params[col_name])\n",
    "    vif.append(variance_inflation_factor(model.exog, i))\n",
    "    \n",
    "df_res = pd.DataFrame()\n",
    "df_res['Variable'] = variables\n",
    "df_res['Estimate'] = reg_coef\n",
    "df_res['VIF'] = vif"
   ]
  },
  {
   "cell_type": "code",
   "execution_count": null,
   "id": "cb55c099",
   "metadata": {
    "ExecuteTime": {
     "end_time": "2023-05-01T09:54:47.107855Z",
     "start_time": "2023-05-01T09:54:47.087910Z"
    }
   },
   "outputs": [],
   "source": [
    "df_res"
   ]
  },
  {
   "cell_type": "markdown",
   "id": "e4694592",
   "metadata": {},
   "source": [
    "#### PCA"
   ]
  },
  {
   "cell_type": "markdown",
   "id": "44440ae2",
   "metadata": {},
   "source": [
    "https://jalynne-kim.medium.com/%EB%8D%B0%EC%9D%B4%ED%84%B0-%EC%82%AC%EC%9D%B4%EC%96%B8%EC%8A%A4-%EC%A3%BC%EC%84%B1%EB%B6%84-%EB%B6%84%EC%84%9D-pca-principal-component-analysis-%EA%B3%BC-biplot-%EA%B0%9C%EB%85%90%EA%B3%BC-%EC%82%AC%EB%A1%80-%EB%A0%88%EB%93%9C%EC%99%80%EC%9D%B8-%EB%8D%B0%EC%9D%B4%ED%84%B0-437283592031"
   ]
  },
  {
   "cell_type": "code",
   "execution_count": null,
   "id": "8416a69b",
   "metadata": {
    "ExecuteTime": {
     "end_time": "2023-05-01T10:01:39.066085Z",
     "start_time": "2023-05-01T10:01:38.481959Z"
    }
   },
   "outputs": [],
   "source": [
    "from sklearn.preprocessing import StandardScaler\n",
    "from sklearn.decomposition import PCA"
   ]
  },
  {
   "cell_type": "code",
   "execution_count": null,
   "id": "567fa8e6",
   "metadata": {
    "ExecuteTime": {
     "end_time": "2023-05-01T10:05:22.963591Z",
     "start_time": "2023-05-01T10:05:22.947525Z"
    }
   },
   "outputs": [],
   "source": [
    "# 표준화\n",
    "scaler = StandardScaler()\n",
    "A = scaler.fit_transform(low_period_data)\n",
    "print(\"\\n Standardized Data: \\n\", A)"
   ]
  },
  {
   "cell_type": "code",
   "execution_count": null,
   "id": "6d845456",
   "metadata": {
    "ExecuteTime": {
     "end_time": "2023-05-01T10:05:42.836512Z",
     "start_time": "2023-05-01T10:05:42.794586Z"
    }
   },
   "outputs": [],
   "source": [
    "# projection, pca 매트릭스 만들기\n",
    "pca_low_period_data = PCA()\n",
    "pca_low_period_data.fit(A)\n",
    "\n",
    "print(\"\\n Eigenvectors: \\n\", pca_low_period_data.components_)\n",
    "print(\"\\n Eigenvalues: \\n\",pca_low_period_data.explained_variance_)\n",
    "\n",
    "B = pca_low_period_data.transform(A)\n",
    "print(\"\\n Projected Data: \\n\", B)"
   ]
  },
  {
   "cell_type": "markdown",
   "id": "dbd6e8aa",
   "metadata": {},
   "source": [
    "PCA 시각화 (Biplot)"
   ]
  },
  {
   "cell_type": "code",
   "execution_count": null,
   "id": "67e30a32",
   "metadata": {
    "ExecuteTime": {
     "end_time": "2023-05-01T10:52:38.778101Z",
     "start_time": "2023-05-01T10:52:38.764140Z"
    }
   },
   "outputs": [],
   "source": [
    "def biplot(score, coeff, pcax, pcay, labels=None):\n",
    "    pca1 = pcax - 1\n",
    "    pca2 = pcay - 1\n",
    "    xs = score[:, pca1]\n",
    "    ys = score[:, pca2]\n",
    "    n = score.shape[1]\n",
    "    scalex = 1.0 / (xs.max()- xs.min())\n",
    "    scaley = 1.0 / (ys.max()- ys.min())\n",
    "    plt.figure(figsize=(30,30))\n",
    "    plt.scatter(xs * scalex, ys * scaley)\n",
    "    \n",
    "    for i in range(n):\n",
    "        plt.arrow(0, 0, coeff[i, pca1], coeff[i, pca2],color = 'r', alpha = 0.5)\n",
    "        if labels is None:\n",
    "            plt.text(coeff[i,pca1] * 1.15, coeff[i,pca2] * 1.15, \"Var\"+str(i+1), color='g', ha='center', va='center')\n",
    "        else:\n",
    "            plt.text(coeff[i,pca1] * 1.15, coeff[i,pca2] * 1.15, labels[i], color='g', ha='center', va='center')\n",
    "    \n",
    "    plt.xlim(-1,1)\n",
    "    plt.ylim(-1,1)\n",
    "    plt.xlabel(\"PC{}\".format(pcax))\n",
    "    plt.ylabel(\"PC{}\".format(pcay))\n",
    "    plt.grid()"
   ]
  },
  {
   "cell_type": "code",
   "execution_count": null,
   "id": "932d8f28",
   "metadata": {
    "ExecuteTime": {
     "end_time": "2023-05-01T10:52:40.599000Z",
     "start_time": "2023-05-01T10:52:40.038716Z"
    }
   },
   "outputs": [],
   "source": [
    "biplot(B, pca_low_period_data.components_, 1, 2, labels = low_period_data.columns)"
   ]
  },
  {
   "cell_type": "markdown",
   "id": "921e92f6",
   "metadata": {},
   "source": [
    "컬럼수 변경하여 PCA 하면 다른 결과가 나옴"
   ]
  },
  {
   "cell_type": "markdown",
   "id": "11b7d170",
   "metadata": {},
   "source": [
    "### scatter plot 확인"
   ]
  },
  {
   "cell_type": "code",
   "execution_count": null,
   "id": "c7f38ab0",
   "metadata": {
    "ExecuteTime": {
     "end_time": "2023-05-26T08:17:18.967834Z",
     "start_time": "2023-05-26T08:17:18.953782Z"
    }
   },
   "outputs": [],
   "source": [
    "df = all_data_scaling[['hsi_Close', 'gold_Close', 'jap_bond_yield_5_Close','kospi_Close']].copy()\n",
    "df = df.diff().dropna()"
   ]
  },
  {
   "cell_type": "code",
   "execution_count": null,
   "id": "5aabdcaf",
   "metadata": {
    "ExecuteTime": {
     "end_time": "2023-05-26T08:17:29.491441Z",
     "start_time": "2023-05-26T08:17:29.143859Z"
    }
   },
   "outputs": [],
   "source": [
    "n = 8620\n",
    "colors = np.random.rand(n)\n",
    "\n",
    "plt.figure(figsize=(8,6))\n",
    "plt.scatter(x = df.kospi_Close, y = df.hsi_Close, c=colors, alpha=0.8, cmap='plasma')\n",
    "plt.title('kospi_hsi_scatter')\n",
    "plt.colorbar()\n",
    "plt.show()"
   ]
  },
  {
   "cell_type": "code",
   "execution_count": null,
   "id": "bc870164",
   "metadata": {
    "ExecuteTime": {
     "end_time": "2023-05-26T08:17:41.000206Z",
     "start_time": "2023-05-26T08:17:40.685048Z"
    }
   },
   "outputs": [],
   "source": [
    "n = 8620\n",
    "colors = np.random.rand(n)\n",
    "\n",
    "plt.figure(figsize=(8,6))\n",
    "plt.scatter(x = df.kospi_Close, y = df.gold_Close, c=colors, alpha=0.8, cmap='plasma')\n",
    "plt.title('kospi_gold_scatter')\n",
    "plt.colorbar()\n",
    "plt.show()"
   ]
  },
  {
   "cell_type": "code",
   "execution_count": null,
   "id": "5dfd881b",
   "metadata": {
    "ExecuteTime": {
     "end_time": "2023-05-26T08:17:42.926810Z",
     "start_time": "2023-05-26T08:17:42.562782Z"
    }
   },
   "outputs": [],
   "source": [
    "n = 8620\n",
    "colors = np.random.rand(n)\n",
    "\n",
    "plt.figure(figsize=(8,6))\n",
    "plt.scatter(x = df.kospi_Close, y = df.jap_bond_yield_5_Close, c=colors, alpha=0.8, cmap='plasma')\n",
    "plt.title('kospi_jap_bond_yield_5_scatter')\n",
    "plt.colorbar()\n",
    "plt.show()"
   ]
  },
  {
   "cell_type": "markdown",
   "id": "2300ed1d",
   "metadata": {},
   "source": [
    "# Modeling"
   ]
  },
  {
   "cell_type": "markdown",
   "id": "b59056c9",
   "metadata": {},
   "source": [
    "## 정상성 확인"
   ]
  },
  {
   "cell_type": "code",
   "execution_count": null,
   "id": "94a3807c",
   "metadata": {
    "ExecuteTime": {
     "end_time": "2023-05-23T11:28:57.619533Z",
     "start_time": "2023-05-23T11:28:57.600584Z"
    }
   },
   "outputs": [],
   "source": [
    "from statsmodels.graphics.tsaplots import plot_acf\n",
    "from statsmodels.graphics.tsaplots import plot_pacf\n",
    "from statsmodels.tsa.stattools import adfuller"
   ]
  },
  {
   "cell_type": "code",
   "execution_count": null,
   "id": "7397deff",
   "metadata": {},
   "outputs": [],
   "source": [
    "# ACF and PACF \n",
    "\n",
    "lag_acf = acf(ts_diff, nlags=20)\n",
    "lag_pacf = pacf(ts_diff, nlags=20, method='ols')\n",
    "\n",
    "# ACF\n",
    "plt.figure(figsize=(16,8))\n",
    "\n",
    "plt.subplot(121) \n",
    "plt.plot(lag_acf)\n",
    "plt.axhline(y=0,linestyle='--',color='gray')\n",
    "plt.axhline(y=-1.96/np.sqrt(len(ts_diff)),linestyle='--',color='gray')\n",
    "plt.axhline(y=1.96/np.sqrt(len(ts_diff)),linestyle='--',color='gray')\n",
    "plt.title('Autocorrelation Function')\n",
    "\n",
    "# PACF\n",
    "plt.subplot(122)\n",
    "plt.plot(lag_pacf)\n",
    "plt.axhline(y=0,linestyle='--',color='gray')\n",
    "plt.axhline(y=-1.96/np.sqrt(len(ts_diff)),linestyle='--',color='gray')\n",
    "plt.axhline(y=1.96/np.sqrt(len(ts_diff)),linestyle='--',color='gray')\n",
    "plt.title('Partial Autocorrelation Function')\n",
    "plt.tight_layout()"
   ]
  },
  {
   "cell_type": "code",
   "execution_count": null,
   "id": "c5ef66d6",
   "metadata": {
    "ExecuteTime": {
     "end_time": "2023-04-29T10:15:51.891378Z",
     "start_time": "2023-04-29T10:15:51.712855Z"
    }
   },
   "outputs": [],
   "source": [
    "for i in data:\n",
    "    plot_acf(data[i], lags=50)\n",
    "    plt.title('ACF for %s' % i)\n",
    "    plt.show()\n",
    "\n",
    "for i in data:\n",
    "    plot_pacf(data[i], lags=50)\n",
    "    plt.title('PACF for %s' % i)\n",
    "    plt.show()"
   ]
  },
  {
   "cell_type": "code",
   "execution_count": null,
   "id": "50e6f3f2",
   "metadata": {
    "ExecuteTime": {
     "end_time": "2023-05-23T11:28:48.143784Z",
     "start_time": "2023-05-23T11:28:48.131781Z"
    }
   },
   "outputs": [],
   "source": [
    "def adf(time_series):\n",
    "    result = adfuller(time_series.values)\n",
    "    print('ADF Statistic: %f' % result[0])\n",
    "    print('p-value: %f' % result[1])"
   ]
  },
  {
   "cell_type": "code",
   "execution_count": null,
   "id": "d5ae2f52",
   "metadata": {
    "ExecuteTime": {
     "end_time": "2023-05-23T11:28:59.047928Z",
     "start_time": "2023-05-23T11:28:58.580169Z"
    }
   },
   "outputs": [],
   "source": [
    "adf(df)"
   ]
  },
  {
   "cell_type": "code",
   "execution_count": null,
   "id": "d6adef22",
   "metadata": {
    "ExecuteTime": {
     "end_time": "2023-04-29T10:15:51.891378Z",
     "start_time": "2023-04-29T10:15:51.712855Z"
    },
    "scrolled": true
   },
   "outputs": [],
   "source": [
    "def adf(time_series):\n",
    "    result = adfuller(time_series.values)\n",
    "    print('ADF Statistic: %f' % result[0])\n",
    "    print('p-value: %f' % result[1])\n",
    "\n",
    "for i in data:\n",
    "    print('--Test statistic for %s' % i)\n",
    "    adf(data[i])"
   ]
  },
  {
   "cell_type": "markdown",
   "id": "5c2da8b9",
   "metadata": {},
   "source": [
    "---"
   ]
  },
  {
   "cell_type": "markdown",
   "id": "b5deb515",
   "metadata": {},
   "source": [
    "## Univariate Time Series"
   ]
  },
  {
   "cell_type": "markdown",
   "id": "f172858e",
   "metadata": {},
   "source": [
    "### ARIMA"
   ]
  },
  {
   "cell_type": "markdown",
   "id": "d21ec652",
   "metadata": {},
   "source": [
    "https://colab.research.google.com/drive/1wAa1c7QH25x2tggiYCo6SUTKOkE-y_Xq#scrollTo=CdsgVdhp-Kbr"
   ]
  },
  {
   "cell_type": "code",
   "execution_count": null,
   "id": "228da652",
   "metadata": {
    "ExecuteTime": {
     "end_time": "2023-05-26T10:15:04.943740Z",
     "start_time": "2023-05-26T10:15:02.849345Z"
    }
   },
   "outputs": [],
   "source": [
    "import statsmodels.api as sm"
   ]
  },
  {
   "cell_type": "code",
   "execution_count": null,
   "id": "c6701167",
   "metadata": {
    "ExecuteTime": {
     "end_time": "2023-05-26T10:15:04.973880Z",
     "start_time": "2023-05-26T10:15:04.951724Z"
    }
   },
   "outputs": [],
   "source": [
    "# ARIMA LİBRARY\n",
    "from statsmodels.tsa.arima_model import ARIMA\n",
    "from pandas import datetime"
   ]
  },
  {
   "cell_type": "code",
   "execution_count": null,
   "id": "a2c11614",
   "metadata": {
    "ExecuteTime": {
     "end_time": "2023-05-26T10:46:14.538825Z",
     "start_time": "2023-05-26T10:46:14.516961Z"
    }
   },
   "outputs": [],
   "source": [
    "kospi['Date'] = pd.to_datetime(kospi['Date'], format='%Y-%m-%d') #, errors=raise)"
   ]
  },
  {
   "cell_type": "code",
   "execution_count": null,
   "id": "a7f5ad06",
   "metadata": {
    "ExecuteTime": {
     "end_time": "2023-05-26T10:46:15.979760Z",
     "start_time": "2023-05-26T10:46:15.961560Z"
    }
   },
   "outputs": [],
   "source": [
    "kospi.set_index('Date', inplace=True)"
   ]
  },
  {
   "cell_type": "code",
   "execution_count": null,
   "id": "20c10546",
   "metadata": {
    "ExecuteTime": {
     "end_time": "2023-05-26T10:46:49.263272Z",
     "start_time": "2023-05-26T10:46:49.232465Z"
    }
   },
   "outputs": [],
   "source": [
    "kospi.info()"
   ]
  },
  {
   "cell_type": "code",
   "execution_count": null,
   "id": "3dc63605",
   "metadata": {
    "ExecuteTime": {
     "end_time": "2023-05-26T10:34:02.387944Z",
     "start_time": "2023-05-26T10:34:02.368994Z"
    }
   },
   "outputs": [],
   "source": [
    "# KOSPI 1년 기준\n",
    "kospi = kospi.iloc[-200:].copy()"
   ]
  },
  {
   "cell_type": "code",
   "execution_count": null,
   "id": "0598cff2",
   "metadata": {
    "ExecuteTime": {
     "end_time": "2023-05-26T10:46:55.491868Z",
     "start_time": "2023-05-26T10:46:53.177465Z"
    },
    "scrolled": false
   },
   "outputs": [],
   "source": [
    "# fit model\n",
    "model = sm.tsa.arima.ARIMA(kospi, order=(1,1,1)) # (ARMA) = (1,0,1)\n",
    "model_fit = model.fit() # disp=0)\n",
    "\n",
    "train_range = int(len(kospi.index) * 0.8)\n",
    "\n",
    "# predict\n",
    "start_index = kospi.index[train_range]\n",
    "end_index = kospi.index[-1]\n",
    "forecast = model_fit.predict(start=start_index, end=end_index) # start=start_index, end=end_index\n",
    "\n",
    "# visualization\n",
    "plt.figure(figsize=(22,10))\n",
    "plt.plot(kospi.index[train_range:], kospi.Close[train_range:], label = \"original\")\n",
    "plt.plot(forecast, label = \"predicted\")\n",
    "plt.title(\"Kospi Predict\")\n",
    "plt.xticks(forecast.index[::10])\n",
    "plt.xlabel(\"Date\")\n",
    "plt.ylabel(\"Kospi Price\")\n",
    "plt.legend()\n",
    "plt.show()"
   ]
  },
  {
   "cell_type": "code",
   "execution_count": null,
   "id": "20f3c3da",
   "metadata": {
    "ExecuteTime": {
     "end_time": "2023-05-26T10:47:08.008689Z",
     "start_time": "2023-05-26T10:47:07.998685Z"
    }
   },
   "outputs": [],
   "source": [
    "y_test = kospi[train_range:]\n",
    "y_pred = forecast"
   ]
  },
  {
   "cell_type": "markdown",
   "id": "f30eb605",
   "metadata": {},
   "source": [
    "#### Evaluation"
   ]
  },
  {
   "cell_type": "code",
   "execution_count": 70,
   "id": "566f6bdd",
   "metadata": {
    "ExecuteTime": {
     "end_time": "2023-05-26T16:19:13.221335Z",
     "start_time": "2023-05-26T16:19:13.217981Z"
    }
   },
   "outputs": [],
   "source": [
    "from sklearn.metrics import mean_absolute_error\n",
    "from sklearn.metrics import mean_squared_error"
   ]
  },
  {
   "cell_type": "code",
   "execution_count": 68,
   "id": "303a2e18",
   "metadata": {
    "ExecuteTime": {
     "end_time": "2023-05-26T16:18:51.072573Z",
     "start_time": "2023-05-26T16:18:51.066251Z"
    }
   },
   "outputs": [
    {
     "data": {
      "text/plain": [
       "'\\n# Define SMAPE loss function\\ndef SMAPE(true, pred):\\n    return np.mean((np.abs(true-pred))/(np.abs(true) + np.abs(pred))) * 100\\n'"
      ]
     },
     "execution_count": 68,
     "metadata": {},
     "output_type": "execute_result"
    }
   ],
   "source": [
    "def MSE(y_test, y_pred):\n",
    "    return mean_squared_error(y_test, y_pred)\n",
    "    \n",
    "def RMSE(mse):\n",
    "    return np.sqrt(mse)\n",
    "\n",
    "def MAE(y_test, y_pred):\n",
    "    return mean_absolute_error(y_test, y_pred)\n",
    "\n",
    "def MAPE(y_test, y_pred): \n",
    "    y_test = y_test.values\n",
    "    y_pred = y_pred.values\n",
    "    return np.mean(np.abs((y_test - y_pred) / y_test)) * 100 \n",
    "'''\n",
    "# Define SMAPE loss function\n",
    "def SMAPE(true, pred):\n",
    "    return np.mean((np.abs(true-pred))/(np.abs(true) + np.abs(pred))) * 100\n",
    "'''"
   ]
  },
  {
   "cell_type": "code",
   "execution_count": null,
   "id": "6a854efa",
   "metadata": {
    "ExecuteTime": {
     "end_time": "2023-05-26T10:47:11.297019Z",
     "start_time": "2023-05-26T10:47:11.231114Z"
    }
   },
   "outputs": [],
   "source": [
    "print('MSE: %f' % MSE(y_test, y_pred))\n",
    "print('RMSE: %f' % RMSE(MSE(y_test, y_pred)))    \n",
    "print('MAE: %f' % MAE(y_test, y_pred))\n",
    "print('MAPE: %f' % MAPE(y_test, y_pred))\n",
    "# print('SMAPE: %f' % SMAPE(y_test, y_pred))"
   ]
  },
  {
   "cell_type": "code",
   "execution_count": null,
   "id": "b0a7c31e",
   "metadata": {
    "ExecuteTime": {
     "end_time": "2023-04-28T07:01:06.160592Z",
     "start_time": "2023-04-28T07:01:06.131635Z"
    }
   },
   "outputs": [],
   "source": [
    "# lst 내에서, 가장 적게 수집된 데이터를 기준으로 concat\n",
    "\n",
    "def concat_data(lst):\n",
    "    # 최소 기간 data 추출\n",
    "    df_min_len = len(lst[0])\n",
    "    for _ in range(len(lst)):\n",
    "        if df_min_len >= len(lst[_]):\n",
    "            df_min_len = len(lst[_])\n",
    "            df_min = lst[_]\n",
    "    x = df_min\n",
    "\n",
    "    for i in lst:\n",
    "        if x.columns[1] == i.columns[1]:\n",
    "            pass\n",
    "        elif i.columns[1] == lst[0].columns[1]:\n",
    "            oneone = pd.merge(lst[0], x, how = 'right', left_on = 'Date', right_on = 'Date')\n",
    "            oneone.fillna(method = 'ffill', inplace = True)\n",
    "        else:\n",
    "            oneone = pd.merge(i, oneone, how = 'right', left_on = 'Date', right_on = 'Date')\n",
    "            oneone.fillna(method = 'ffill', inplace = True)\n",
    "\n",
    "    oneone = oneone.set_index('Date')\n",
    "    minmax_scaled = minmax_scaler.fit_transform(oneone.values)\n",
    "    # {main_kospi}_concat\n",
    "#     main_kospi_concat = pd.DataFrame(data = minmax_scaled, columns = oneone.columns, index = oneone.index)\n",
    "#     bon_yield_kospi_concat = pd.DataFrame(data = minmax_scaled, columns = oneone.columns, index = oneone.index)\n",
    "#     other_kospi_concat = pd.DataFrame(data = minmax_scaled, columns = oneone.columns, index = oneone.index)\n",
    "    all_feature = pd.DataFrame(data = minmax_scaled, columns = oneone.columns, index = oneone.index)\n",
    "    \n",
    "#     return main_kospi_concat\n",
    "#     return bon_yield_kospi_concat\n",
    "#     return other_kospi_concat\n",
    "    return all_feature\n"
   ]
  },
  {
   "cell_type": "markdown",
   "id": "2fa33dac",
   "metadata": {},
   "source": [
    "---"
   ]
  },
  {
   "cell_type": "markdown",
   "id": "3fbacb20",
   "metadata": {},
   "source": [
    "### LSTM"
   ]
  },
  {
   "cell_type": "markdown",
   "id": "249072b8",
   "metadata": {},
   "source": [
    "https://colab.research.google.com/drive/1lWvMZyR2vzK6uXHrxTuBuhBLrdrGl7bx#scrollTo=poQuNXT2Sof9"
   ]
  },
  {
   "cell_type": "markdown",
   "id": "45cbaede",
   "metadata": {},
   "source": [
    "https://www.kaggle.com/code/bryanb/stock-prices-forecasting-with-lstm"
   ]
  },
  {
   "cell_type": "code",
   "execution_count": null,
   "id": "90a8ee8c",
   "metadata": {
    "ExecuteTime": {
     "end_time": "2023-05-24T09:08:42.466648Z",
     "start_time": "2023-05-24T09:08:42.456661Z"
    }
   },
   "outputs": [],
   "source": [
    "df = kospi.reset_index().copy()"
   ]
  },
  {
   "cell_type": "code",
   "execution_count": null,
   "id": "0d86ebd9",
   "metadata": {
    "ExecuteTime": {
     "end_time": "2023-05-24T09:08:09.005982Z",
     "start_time": "2023-05-24T09:08:09.000007Z"
    }
   },
   "outputs": [],
   "source": [
    "# Define a specific window for training Neural Network \n",
    "def univariate_data(dataset, start_index, end_index, history_size, target_size):\n",
    "    data = []\n",
    "    labels = []\n",
    "\n",
    "    start_index = start_index + history_size\n",
    "    if end_index is None:\n",
    "        end_index = len(dataset) - target_size\n",
    "\n",
    "    for i in range(start_index, end_index):\n",
    "        indices = range(i - history_size, i)\n",
    "        # Reshape data from (history_size,) to (history_size, 1)\n",
    "        data.append(np.reshape(dataset[indices], (history_size, 1)))\n",
    "        labels.append(dataset[i+target_size])\n",
    "    return np.array(data), np.array(labels)"
   ]
  },
  {
   "cell_type": "code",
   "execution_count": null,
   "id": "95eede77",
   "metadata": {
    "ExecuteTime": {
     "end_time": "2023-05-24T09:08:20.962438Z",
     "start_time": "2023-05-24T09:08:20.944449Z"
    }
   },
   "outputs": [],
   "source": [
    "TRAIN_SPLIT = 8000 ## about 2083 days\n",
    "tf.random.set_seed(13) ##"
   ]
  },
  {
   "cell_type": "code",
   "execution_count": null,
   "id": "64e98ac1",
   "metadata": {
    "ExecuteTime": {
     "end_time": "2023-05-24T09:09:23.538125Z",
     "start_time": "2023-05-24T09:09:23.529006Z"
    }
   },
   "outputs": [],
   "source": [
    "# Extract temperature (degree) data & Make univariate series\n",
    "uni_data = df['kospi_Close']\n",
    "uni_data.index = df['Date']\n",
    "print(uni_data.head())"
   ]
  },
  {
   "cell_type": "code",
   "execution_count": null,
   "id": "ddc62c2c",
   "metadata": {
    "ExecuteTime": {
     "end_time": "2023-05-24T09:09:36.943126Z",
     "start_time": "2023-05-24T09:09:36.932120Z"
    }
   },
   "outputs": [],
   "source": [
    "# Standardization\n",
    "uni_data = uni_data.values\n",
    "uni_train_mean = uni_data[:TRAIN_SPLIT].mean()\n",
    "uni_train_std = uni_data[:TRAIN_SPLIT].std()\n",
    "uni_data = (uni_data - uni_train_mean) / uni_train_std  # Standardization\n",
    "\n",
    "print(uni_data)"
   ]
  },
  {
   "cell_type": "code",
   "execution_count": null,
   "id": "cd964260",
   "metadata": {
    "ExecuteTime": {
     "end_time": "2023-05-24T09:10:01.818372Z",
     "start_time": "2023-05-24T09:10:01.732577Z"
    }
   },
   "outputs": [],
   "source": [
    "univariate_past_history = 20\n",
    "univariate_future_target = 0\n",
    "\n",
    "## univariate_data 함수 이용\n",
    "x_train_uni, y_train_uni = univariate_data(uni_data, 0, TRAIN_SPLIT,\n",
    "                                         univariate_past_history,\n",
    "                                         univariate_future_target)\n",
    "x_val_uni, y_val_uni = univariate_data(uni_data, TRAIN_SPLIT, None,\n",
    "                                     univariate_past_history,\n",
    "                                     univariate_future_target)\n",
    "\n",
    "print('Single window of past history')\n",
    "print(x_train_uni[0])\n",
    "print('\\n Target temperature to predict')\n",
    "print(y_train_uni[0])"
   ]
  },
  {
   "cell_type": "code",
   "execution_count": null,
   "id": "71a54571",
   "metadata": {
    "ExecuteTime": {
     "end_time": "2023-05-24T09:10:22.350330Z",
     "start_time": "2023-05-24T09:10:22.338363Z"
    }
   },
   "outputs": [],
   "source": [
    "# Defind function for Visualization\n",
    "def create_time_steps(length):\n",
    "    return list(range(-length, 0))\n",
    "\n",
    "\n",
    "def show_plot(plot_data, delta, title):\n",
    "    labels = ['History', 'True Future', 'Model Prediction']\n",
    "    marker = ['.-', 'rx', 'go']\n",
    "    time_steps = create_time_steps(plot_data[0].shape[0])\n",
    "    if delta:\n",
    "        future = delta\n",
    "    else:\n",
    "        future = 0\n",
    "\n",
    "    plt.title(title)\n",
    "    for i, x in enumerate(plot_data):\n",
    "        if i:\n",
    "            plt.plot(future, plot_data[i], marker[i], markersize=10, label=labels[i])\n",
    "        else:\n",
    "            plt.plot(time_steps, plot_data[i].flatten(), marker[i], label=labels[i])\n",
    "    plt.legend()\n",
    "    plt.axis('auto')\n",
    "    plt.xlim([time_steps[0], (future+5)*2])\n",
    "    plt.xlabel('Time-Step')\n",
    "    return plt"
   ]
  },
  {
   "cell_type": "code",
   "execution_count": null,
   "id": "a3c3b3df",
   "metadata": {
    "ExecuteTime": {
     "end_time": "2023-05-24T09:10:24.203493Z",
     "start_time": "2023-05-24T09:10:24.040927Z"
    }
   },
   "outputs": [],
   "source": [
    "show_plot([x_train_uni[0], y_train_uni[0]], 0, 'Sample Example').show()"
   ]
  },
  {
   "cell_type": "code",
   "execution_count": null,
   "id": "bbdd079d",
   "metadata": {
    "ExecuteTime": {
     "end_time": "2023-05-24T09:10:30.487641Z",
     "start_time": "2023-05-24T09:10:30.326036Z"
    }
   },
   "outputs": [],
   "source": [
    "def baseline(history):\n",
    "    return np.mean(history)\n",
    "\n",
    "show_plot([x_train_uni[0], y_train_uni[0], baseline(x_train_uni[0])], 0, 'Sample Example').show()"
   ]
  },
  {
   "cell_type": "code",
   "execution_count": null,
   "id": "35970ad2",
   "metadata": {
    "ExecuteTime": {
     "end_time": "2023-05-24T09:01:41.990923Z",
     "start_time": "2023-05-24T09:01:34.238136Z"
    }
   },
   "outputs": [],
   "source": [
    "import tensorflow as tf"
   ]
  },
  {
   "cell_type": "code",
   "execution_count": null,
   "id": "8c015955",
   "metadata": {
    "ExecuteTime": {
     "end_time": "2023-05-24T09:10:41.567660Z",
     "start_time": "2023-05-24T09:10:41.558673Z"
    }
   },
   "outputs": [],
   "source": [
    "BATCH_SIZE = 256\n",
    "BUFFER_SIZE = 10000"
   ]
  },
  {
   "cell_type": "code",
   "execution_count": null,
   "id": "cb57daeb",
   "metadata": {
    "ExecuteTime": {
     "end_time": "2023-05-24T09:10:43.021869Z",
     "start_time": "2023-05-24T09:10:42.893169Z"
    }
   },
   "outputs": [],
   "source": [
    "train_univariate = tf.data.Dataset.from_tensor_slices((x_train_uni, y_train_uni))\n",
    "train_univariate = train_univariate.cache().shuffle(BUFFER_SIZE).batch(BATCH_SIZE).repeat()\n",
    "\n",
    "val_univariate = tf.data.Dataset.from_tensor_slices((x_val_uni, y_val_uni))\n",
    "val_univariate = val_univariate.batch(BATCH_SIZE).repeat()"
   ]
  },
  {
   "cell_type": "code",
   "execution_count": null,
   "id": "009d4b1b",
   "metadata": {
    "ExecuteTime": {
     "end_time": "2023-05-24T09:35:38.966949Z",
     "start_time": "2023-05-24T09:35:38.949996Z"
    }
   },
   "outputs": [],
   "source": [
    "train_univariate"
   ]
  },
  {
   "cell_type": "code",
   "execution_count": null,
   "id": "e75b0ae6",
   "metadata": {
    "ExecuteTime": {
     "end_time": "2023-05-24T09:10:55.530062Z",
     "start_time": "2023-05-24T09:10:55.519028Z"
    }
   },
   "outputs": [],
   "source": [
    "np.array(x_train_uni).shape[-2:]"
   ]
  },
  {
   "cell_type": "code",
   "execution_count": null,
   "id": "ea004f6a",
   "metadata": {
    "ExecuteTime": {
     "end_time": "2023-05-24T09:11:11.258480Z",
     "start_time": "2023-05-24T09:11:10.944253Z"
    }
   },
   "outputs": [],
   "source": [
    "simple_lstm_model = tf.keras.models.Sequential([\n",
    "    tf.keras.layers.LSTM(8, input_shape=np.array(x_train_uni).shape[-2:]),\n",
    "    tf.keras.layers.Dense(1)\n",
    "])\n",
    "\n",
    "simple_lstm_model.compile(optimizer='adam', loss='mae')"
   ]
  },
  {
   "cell_type": "markdown",
   "id": "a64c8d31",
   "metadata": {},
   "source": [
    "#### Train Model"
   ]
  },
  {
   "cell_type": "code",
   "execution_count": null,
   "id": "04c938c5",
   "metadata": {
    "ExecuteTime": {
     "end_time": "2023-05-24T09:11:52.493278Z",
     "start_time": "2023-05-24T09:11:30.886496Z"
    }
   },
   "outputs": [],
   "source": [
    "EVALUATION_INTERVAL = 200\n",
    "EPOCHS = 10\n",
    "\n",
    "simple_lstm_model.fit(train_univariate, epochs=EPOCHS,\n",
    "                      steps_per_epoch=EVALUATION_INTERVAL,\n",
    "                      validation_data=val_univariate, validation_steps=50)"
   ]
  },
  {
   "cell_type": "markdown",
   "id": "f7e03af9",
   "metadata": {},
   "source": [
    "#### Forecasts & Visualize"
   ]
  },
  {
   "cell_type": "code",
   "execution_count": null,
   "id": "a84d4d2b",
   "metadata": {
    "ExecuteTime": {
     "end_time": "2023-05-24T09:37:23.927960Z",
     "start_time": "2023-05-24T09:37:16.760555Z"
    },
    "scrolled": true
   },
   "outputs": [],
   "source": [
    "# Make forecasts & Visualize\n",
    "\n",
    "for x, y in val_univariate.take(30):\n",
    "    plot = show_plot([x[0].numpy(), y[0].numpy(),\n",
    "                      simple_lstm_model.predict(x)[0]], 0, 'Simple LSTM model')\n",
    "    plot.show()"
   ]
  },
  {
   "cell_type": "code",
   "execution_count": null,
   "id": "c2311c72",
   "metadata": {
    "ExecuteTime": {
     "end_time": "2023-05-24T09:36:52.729390Z",
     "start_time": "2023-05-24T09:36:52.715428Z"
    }
   },
   "outputs": [],
   "source": [
    "val_univariate.take(7)"
   ]
  },
  {
   "cell_type": "code",
   "execution_count": null,
   "id": "00126c54",
   "metadata": {},
   "outputs": [],
   "source": []
  },
  {
   "cell_type": "markdown",
   "id": "8238662a",
   "metadata": {},
   "source": [
    "---"
   ]
  },
  {
   "cell_type": "markdown",
   "id": "641bd850",
   "metadata": {},
   "source": [
    "### Prophet"
   ]
  },
  {
   "cell_type": "markdown",
   "id": "9250e9d2",
   "metadata": {},
   "source": [
    "https://colab.research.google.com/drive/1i9BhC6SZ1peIO8TG_uDJpn_jzsQaI7W0#scrollTo=D6B7LpdaKo_P"
   ]
  },
  {
   "cell_type": "code",
   "execution_count": null,
   "id": "4bec04b8",
   "metadata": {
    "ExecuteTime": {
     "end_time": "2023-05-24T06:04:24.358484Z",
     "start_time": "2023-05-24T06:04:24.343837Z"
    }
   },
   "outputs": [],
   "source": [
    "df = kospi"
   ]
  },
  {
   "cell_type": "code",
   "execution_count": null,
   "id": "f704458b",
   "metadata": {
    "ExecuteTime": {
     "end_time": "2023-05-24T06:04:25.977535Z",
     "start_time": "2023-05-24T06:04:25.533640Z"
    }
   },
   "outputs": [],
   "source": [
    "df.plot()"
   ]
  },
  {
   "cell_type": "code",
   "execution_count": null,
   "id": "313ee594",
   "metadata": {
    "ExecuteTime": {
     "end_time": "2023-05-24T06:01:27.666287Z",
     "start_time": "2023-05-24T06:00:41.113703Z"
    }
   },
   "outputs": [],
   "source": [
    "# !pip3 install plotnine"
   ]
  },
  {
   "cell_type": "code",
   "execution_count": null,
   "id": "14440acf",
   "metadata": {
    "ExecuteTime": {
     "end_time": "2023-05-24T06:01:34.545854Z",
     "start_time": "2023-05-24T06:01:32.463124Z"
    }
   },
   "outputs": [],
   "source": [
    "# import necessary libraries\n",
    "import numpy as np # linear algebra\n",
    "from prophet import Prophet\n",
    "from prophet.plot import plot_plotly, plot_components_plotly\n",
    "from prophet.diagnostics import cross_validation\n",
    "from prophet.diagnostics import performance_metrics\n",
    "\n",
    "import warnings\n",
    "warnings.filterwarnings('ignore')  # Hide warnings\n",
    "warnings.simplefilter(action = \"ignore\", category = RuntimeWarning)\n",
    "\n",
    "import datetime as dt\n",
    "import pandas as pd\n",
    "pd.core.common.is_list_like = pd.api.types.is_list_like\n",
    "import pandas_datareader.data as web\n",
    "import numpy as np\n",
    "import matplotlib.pyplot as plt\n",
    "import seaborn as sns\n",
    "import matplotlib.dates as mdates\n",
    "import pandas as pd\n",
    "from plotnine import *\n",
    "import io\n",
    "\n",
    "# we'll use the statistics package to conduct some predictive analytics\n",
    "import statistics as st\n",
    "%matplotlib inline\n",
    "import matplotlib.dates as mdates\n",
    "from pandas import DataFrame\n",
    "from pandas import to_datetime\n",
    "from statsmodels.tsa.stattools import kpss\n",
    "from statsmodels.tsa.stattools import adfuller\n",
    "from sklearn.metrics import mean_absolute_error"
   ]
  },
  {
   "cell_type": "code",
   "execution_count": null,
   "id": "475b1ced",
   "metadata": {
    "ExecuteTime": {
     "end_time": "2023-05-24T06:04:32.999274Z",
     "start_time": "2023-05-24T06:04:32.977630Z"
    }
   },
   "outputs": [],
   "source": [
    "# check total number of cells, first few rows, and descriptive stats \n",
    "def descriptive_info(df):\n",
    "    #  number_of_cells = df.count(axis=0, level=None, numeric_only=False)\n",
    "    # Let's check the shape of the dataset\n",
    "    print('Features:', df.shape[1], ' ', 'Entries:', df.shape[0])\n",
    "    print('\\n\\n')\n",
    "    print('Printing descriptive statistics...\\n\\n', df.describe())"
   ]
  },
  {
   "cell_type": "code",
   "execution_count": null,
   "id": "e5f46431",
   "metadata": {
    "ExecuteTime": {
     "end_time": "2023-05-24T06:04:33.839969Z",
     "start_time": "2023-05-24T06:04:33.823755Z"
    }
   },
   "outputs": [],
   "source": [
    "# now check some basic info of our dataset\n",
    "descriptive_info(df)"
   ]
  },
  {
   "cell_type": "code",
   "execution_count": null,
   "id": "892a12d9",
   "metadata": {
    "ExecuteTime": {
     "end_time": "2023-05-24T06:04:41.074270Z",
     "start_time": "2023-05-24T06:04:41.057787Z"
    }
   },
   "outputs": [],
   "source": [
    "# Let's define a function to check the type of our features and check for \n",
    "# missing values in our dataset\n",
    "def missing_val(df):\n",
    "    print(df.info())\n",
    "    print('\\n\\nFeatures with missing values in descending order \\n\\n')\n",
    "    print((df.isnull().sum()/ df.shape[0]).sort_values(ascending=False))"
   ]
  },
  {
   "cell_type": "code",
   "execution_count": null,
   "id": "a4d4f483",
   "metadata": {
    "ExecuteTime": {
     "end_time": "2023-05-24T06:04:41.450227Z",
     "start_time": "2023-05-24T06:04:41.411378Z"
    }
   },
   "outputs": [],
   "source": [
    "# Now apply the missing_val function\n",
    "missing_val(df)"
   ]
  },
  {
   "cell_type": "code",
   "execution_count": null,
   "id": "dfbfede4",
   "metadata": {
    "ExecuteTime": {
     "end_time": "2023-05-24T06:02:07.867365Z",
     "start_time": "2023-05-24T06:02:07.853500Z"
    }
   },
   "outputs": [],
   "source": [
    "# df.reset_index(inplace=True)"
   ]
  },
  {
   "cell_type": "code",
   "execution_count": null,
   "id": "441c96ba",
   "metadata": {
    "ExecuteTime": {
     "end_time": "2023-05-24T06:04:47.325858Z",
     "start_time": "2023-05-24T06:04:47.310852Z"
    }
   },
   "outputs": [],
   "source": [
    "# This Function is to prepare the dataset for Fb Prophet\n",
    "#ds, save the name of date column as ds\n",
    "#y, save the name of column we are interested in as y\n",
    "def prepare_data(df, ds, y):\n",
    "    '''\n",
    "    input: df = dataframe\n",
    "    ds = date column\n",
    "    y = prediction column\n",
    "    '''\n",
    "    df = df[[ds, y]]\n",
    "    df = df.rename(columns={ds: \"ds\", y: \"y\"}) #now it is usable for FB Prophet, let's check the new file\n",
    "    print('The series is ready for use.\\n')\n",
    "    return df"
   ]
  },
  {
   "cell_type": "code",
   "execution_count": null,
   "id": "791c2052",
   "metadata": {
    "ExecuteTime": {
     "end_time": "2023-05-24T06:04:48.885461Z",
     "start_time": "2023-05-24T06:04:48.863463Z"
    }
   },
   "outputs": [],
   "source": [
    "# Use the function to prepare the dataframe to feed into fbprophet\n",
    "# df = series, ds = the time variable name from the dataframe (string), \n",
    "# y = intended variable name for prediction from the dataframe, (string)\n",
    "df2 = prepare_data(df, ds = 'Date', y = 'kospi_Close') \n",
    "print(df2.head())\n",
    "print('')\n",
    "print('The length of your series is: ', len(df2))"
   ]
  },
  {
   "cell_type": "code",
   "execution_count": null,
   "id": "1b980609",
   "metadata": {
    "ExecuteTime": {
     "end_time": "2023-05-24T06:04:51.183657Z",
     "start_time": "2023-05-24T06:04:51.162704Z"
    }
   },
   "outputs": [],
   "source": [
    "## function to Plot the prepared data\n",
    "def _fig_plot(df, X, Y):\n",
    "    ''' Function plots the data. requires to provide dataframe in the\n",
    "    format of date as ds, observation as y, Preset other variables e.g., axis name\n",
    "    '''\n",
    "    df.plot(x = X, y = Y, figsize=Figsize, label = Label)\n",
    "    plt.xlabel(xAxisLabel, fontsize = 16)\n",
    "    plt.ylabel(yAxisLabel, fontsize = 16)\n",
    "    plt.legend()\n",
    "    plt.title(Title, fontsize = 20)\n",
    "    ax = plt.gca().get_xaxis()"
   ]
  },
  {
   "cell_type": "code",
   "execution_count": null,
   "id": "ea0f514a",
   "metadata": {
    "ExecuteTime": {
     "end_time": "2023-05-24T06:05:44.931665Z",
     "start_time": "2023-05-24T06:05:44.250580Z"
    }
   },
   "outputs": [],
   "source": [
    "# provide variable names and other required inputs to plot using the function\n",
    "X = 'ds'\n",
    "Y = 'y'\n",
    "Label = \"closing price\"\n",
    "Figsize = (16,8)\n",
    "Title = \"Kospi Stock Price\"\n",
    "xAxisLabel = 'Time (Day)'\n",
    "yAxisLabel = 'Price (won)'\n",
    "_fig_plot(df2, X, Y)"
   ]
  },
  {
   "cell_type": "markdown",
   "id": "0caa35ff",
   "metadata": {},
   "source": [
    "추세 파악을 위한 짧은 기간 확인"
   ]
  },
  {
   "cell_type": "code",
   "execution_count": null,
   "id": "0cc86aba",
   "metadata": {
    "ExecuteTime": {
     "end_time": "2023-05-24T06:05:59.375024Z",
     "start_time": "2023-05-24T06:05:59.342845Z"
    }
   },
   "outputs": [],
   "source": [
    "shortX = df2[['ds', 'y']].tail(100)\n",
    "shortX = shortX.rename(columns = {'ds': 'dss', 'y':'yss'}) \n",
    "#shortY = df2.loc[shortX]\n",
    "shortX.head()\n",
    "#print(len(shortX), len(shortY))"
   ]
  },
  {
   "cell_type": "code",
   "execution_count": null,
   "id": "68186247",
   "metadata": {
    "ExecuteTime": {
     "end_time": "2023-05-24T06:06:48.242404Z",
     "start_time": "2023-05-24T06:06:47.362599Z"
    }
   },
   "outputs": [],
   "source": [
    "# provide variable names and other required inputs to plot using the function\n",
    "X = 'dss'\n",
    "Y = 'yss'\n",
    "Label = \"closing price\"\n",
    "Figsize = (20,8)\n",
    "Title = \"Kospi Stock Price\"\n",
    "xAxisLabel = 'Time (Day)'\n",
    "yAxisLabel = 'Price (won)'\n",
    "_fig_plot(shortX, X, Y)"
   ]
  },
  {
   "cell_type": "code",
   "execution_count": null,
   "id": "bf4517d4",
   "metadata": {
    "ExecuteTime": {
     "end_time": "2023-05-24T06:43:26.305924Z",
     "start_time": "2023-05-24T06:43:18.466808Z"
    }
   },
   "outputs": [],
   "source": [
    "# let's predict now\n",
    "# instantiate the model and fit the timeseries\n",
    "'''\n",
    "prophet = Prophet(daily_seasonality = 'auto',\n",
    "                  weekly_seasonality = 'auto',\n",
    "                  yearly_seasonality = 'auto', \n",
    "#                   growth='linear', \n",
    "                  changepoints = None, \n",
    "                  n_changepoints = 25, \n",
    "                  changepoint_range = 0.8,  \n",
    "#                   holidays=holiday,\n",
    "#                   holidays=None,\n",
    "#                   seasonality_mode='additive', \n",
    "                  seasonality_prior_scale = 10, # 계절성 영향\n",
    "                  holidays_prior_scale = 10, # 휴일의 영향\n",
    "                  changepoint_prior_scale = 0.05, # 0.05보다 크면 추세 유연하게 반응\n",
    "                  mcmc_samples=0, \n",
    "                  interval_width=0.8, \n",
    "                  uncertainty_samples=1000, \n",
    "                  stan_backend=None)\n",
    "prophet.add_seasonality(name='monthly', period=30.5, fourier_order=12) # 임의로 계절성 추가\n",
    "prophet.add_country_holidays(country_name='KR') # 한국의 휴일 추가\n",
    "'''\n",
    "prophet = Prophet()\n",
    "prophet.fit(df2)\n",
    "\n",
    "# create a future data frame \n",
    "future = prophet.make_future_dataframe(periods=60)\n",
    "forecast = prophet.predict(future)"
   ]
  },
  {
   "cell_type": "code",
   "execution_count": null,
   "id": "a5ae34e5",
   "metadata": {
    "ExecuteTime": {
     "end_time": "2023-05-24T06:43:27.606969Z",
     "start_time": "2023-05-24T06:43:27.474721Z"
    }
   },
   "outputs": [],
   "source": [
    "forecast.trend.plot()"
   ]
  },
  {
   "cell_type": "code",
   "execution_count": null,
   "id": "317044e1",
   "metadata": {
    "ExecuteTime": {
     "end_time": "2023-05-24T06:43:31.141213Z",
     "start_time": "2023-05-24T06:43:30.780166Z"
    }
   },
   "outputs": [],
   "source": [
    "# summarize the forecast\n",
    "print('Printing outputs from Prophet prediction...\\n', forecast[['ds', 'yhat', 'yhat_lower', 'yhat_upper']].head())\n",
    "# plot forecast\n",
    "prophet.plot(forecast)\n",
    "plt.show()"
   ]
  },
  {
   "cell_type": "code",
   "execution_count": null,
   "id": "c807b7d3",
   "metadata": {
    "ExecuteTime": {
     "end_time": "2023-05-24T06:16:28.176203Z",
     "start_time": "2023-05-24T06:16:22.349500Z"
    }
   },
   "outputs": [],
   "source": [
    "# Python\n",
    "plot_plotly(prophet, forecast)"
   ]
  },
  {
   "cell_type": "code",
   "execution_count": null,
   "id": "496ac653",
   "metadata": {
    "ExecuteTime": {
     "end_time": "2023-05-24T06:43:37.179702Z",
     "start_time": "2023-05-24T06:43:37.045063Z"
    }
   },
   "outputs": [],
   "source": [
    "forecast.yhat.plot()"
   ]
  },
  {
   "cell_type": "code",
   "execution_count": null,
   "id": "10f06a53",
   "metadata": {
    "ExecuteTime": {
     "end_time": "2023-05-24T06:40:19.052410Z",
     "start_time": "2023-05-24T06:40:19.036453Z"
    }
   },
   "outputs": [],
   "source": [
    "df2"
   ]
  },
  {
   "cell_type": "code",
   "execution_count": null,
   "id": "7b79c500",
   "metadata": {
    "ExecuteTime": {
     "end_time": "2023-05-24T06:45:32.400375Z",
     "start_time": "2023-05-24T06:45:32.213873Z"
    }
   },
   "outputs": [],
   "source": [
    "plt.figure(figsize=(16, 8))#, dpi=80)\n",
    "\n",
    "plt.plot(df2['y'].tail(1000).values, label='Actual')\n",
    "plt.plot(forecast['yhat'].tail(1000).values, label='Predicted')\n",
    "plt.legend()\n",
    "plt.show()"
   ]
  },
  {
   "cell_type": "code",
   "execution_count": null,
   "id": "4fbf6fd2",
   "metadata": {
    "ExecuteTime": {
     "end_time": "2023-05-24T06:44:52.826440Z",
     "start_time": "2023-05-24T06:44:52.659884Z"
    }
   },
   "outputs": [],
   "source": [
    "forecast['yhat'].tail(100).plot()"
   ]
  },
  {
   "cell_type": "code",
   "execution_count": null,
   "id": "9fcd61f3",
   "metadata": {
    "ExecuteTime": {
     "end_time": "2023-05-24T06:43:54.596713Z",
     "start_time": "2023-05-24T06:43:54.070122Z"
    }
   },
   "outputs": [],
   "source": [
    "# plot the components of forcasted series\n",
    "fig2 = prophet.plot_components(forecast)\n",
    "plt.show()"
   ]
  },
  {
   "cell_type": "markdown",
   "id": "e5e6ef88",
   "metadata": {},
   "source": [
    "#### Evaluation"
   ]
  },
  {
   "cell_type": "code",
   "execution_count": null,
   "id": "f71e7657",
   "metadata": {
    "ExecuteTime": {
     "end_time": "2023-05-24T06:38:42.965763Z",
     "start_time": "2023-05-24T06:19:27.999940Z"
    }
   },
   "outputs": [],
   "source": [
    "# use built in fbprophet evaluation function and metrix\n",
    "evaluation_model = cross_validation(prophet, initial='400 days', period='60 days', horizon = '30 days')"
   ]
  },
  {
   "cell_type": "code",
   "execution_count": null,
   "id": "98deb8c2",
   "metadata": {
    "ExecuteTime": {
     "end_time": "2023-05-24T06:38:42.969753Z",
     "start_time": "2023-05-24T06:38:42.969753Z"
    }
   },
   "outputs": [],
   "source": [
    "evaluation_metrix = performance_metrics(evaluation_model)\n",
    "evaluation_metrix.sort_values('rmse').head(5)"
   ]
  },
  {
   "cell_type": "markdown",
   "id": "74b3242e",
   "metadata": {},
   "source": [
    "***"
   ]
  },
  {
   "cell_type": "markdown",
   "id": "a1c47ca4",
   "metadata": {},
   "source": [
    "## Multivariate Time Series"
   ]
  },
  {
   "cell_type": "markdown",
   "id": "156f071e",
   "metadata": {},
   "source": [
    "Make Multivariate Data From Kospi Period\n",
    "- 코스피 데이터 최대 활용 목적"
   ]
  },
  {
   "cell_type": "code",
   "execution_count": null,
   "id": "da709eea",
   "metadata": {
    "ExecuteTime": {
     "end_time": "2023-05-01T07:14:17.257081Z",
     "start_time": "2023-05-01T07:14:16.808132Z"
    },
    "scrolled": true
   },
   "outputs": [],
   "source": [
    "for i in variables:\n",
    "    print(i.info())"
   ]
  },
  {
   "cell_type": "code",
   "execution_count": null,
   "id": "8e2a17ba",
   "metadata": {
    "ExecuteTime": {
     "end_time": "2023-05-01T08:59:14.945049Z",
     "start_time": "2023-05-01T08:59:14.935076Z"
    }
   },
   "outputs": [],
   "source": [
    "'''\n",
    "kospi 기준으로 concat\n",
    "'''\n",
    "\n",
    "def concat_data(lst, x):\n",
    "    for i in lst:\n",
    "        if i.columns[1] == x.columns[1]:\n",
    "            pass\n",
    "        else:\n",
    "            oneone = pd.merge(i, x, how = 'right', left_on = 'Date', right_on = 'Date')\n",
    "            oneone.fillna(method = 'bfill', inplace = True)\n",
    "            oneone.fillna(method = 'ffill', inplace = True)\n",
    "            \n",
    "            x = oneone\n",
    "            \n",
    "    oneone = oneone.set_index('Date')\n",
    "    minmax_scaled = minmax_scaler.fit_transform(oneone.values)\n",
    "    df = pd.DataFrame(data = minmax_scaled, columns = oneone.columns, index = oneone.index)\n",
    "    \n",
    "    return df\n"
   ]
  },
  {
   "cell_type": "code",
   "execution_count": null,
   "id": "b9bce0cd",
   "metadata": {
    "ExecuteTime": {
     "end_time": "2023-05-01T08:59:19.941142Z",
     "start_time": "2023-05-01T08:59:19.442796Z"
    },
    "scrolled": true
   },
   "outputs": [],
   "source": [
    "all_data = concat_data(variables, kospi)\n",
    "all_data"
   ]
  },
  {
   "cell_type": "code",
   "execution_count": null,
   "id": "3dae7ad0",
   "metadata": {
    "ExecuteTime": {
     "end_time": "2023-05-03T13:02:54.957626Z",
     "start_time": "2023-05-03T13:02:49.485049Z"
    },
    "scrolled": false
   },
   "outputs": [],
   "source": [
    "all_data.plot(subplots=True, figsize=(30,100))\n",
    "plt.show()"
   ]
  },
  {
   "cell_type": "markdown",
   "id": "2ea1feeb",
   "metadata": {},
   "source": [
    "Make Multivariate Data From Low Length Period\n",
    "- NULL 값 임의 처리 최소화 목적"
   ]
  },
  {
   "cell_type": "code",
   "execution_count": null,
   "id": "e34eed5e",
   "metadata": {
    "ExecuteTime": {
     "end_time": "2023-05-01T12:38:50.816221Z",
     "start_time": "2023-05-01T12:38:50.803102Z"
    }
   },
   "outputs": [],
   "source": [
    "# lst 내에서, 기간이 가장 짧게 수집된 데이터를 기준으로 concat\n",
    "\n",
    "def concat_data_lower_length(lst):\n",
    "    # 최소 기간 data 추출\n",
    "    df_min = lst[0]\n",
    "    for _ in range(len(lst)):\n",
    "        if len(lst[_]) < 500:\n",
    "            pass\n",
    "        elif len(lst[_]) <= len(df_min):\n",
    "            df_min = lst[_]\n",
    "    x = df_min\n",
    "\n",
    "    for i in lst:\n",
    "        if i.columns[1] == x.columns[1]:\n",
    "            pass\n",
    "        elif i.columns[1] == lst[0].columns[1]:\n",
    "            oneone = pd.merge(lst[0], x, how = 'right', left_on = 'Date', right_on = 'Date')\n",
    "            oneone.fillna(method = 'ffill', inplace = True)\n",
    "            oneone.fillna(method = 'bfill', inplace = True)\n",
    "        else:\n",
    "            oneone = pd.merge(i, oneone, how = 'right', left_on = 'Date', right_on = 'Date')\n",
    "            oneone.fillna(method = 'ffill', inplace = True)\n",
    "            oneone.fillna(method = 'bfill', inplace = True)\n",
    "\n",
    "    oneone = oneone.set_index('Date')\n",
    "    minmax_scaled = minmax_scaler.fit_transform(oneone.values)\n",
    "    df = pd.DataFrame(data = minmax_scaled, columns = oneone.columns, index = oneone.index)\n",
    "\n",
    "#     return x\n",
    "    return df"
   ]
  },
  {
   "cell_type": "code",
   "execution_count": null,
   "id": "1902e4bf",
   "metadata": {
    "ExecuteTime": {
     "end_time": "2023-05-01T12:38:59.102501Z",
     "start_time": "2023-05-01T12:38:53.486637Z"
    },
    "scrolled": true
   },
   "outputs": [],
   "source": [
    "low_period_data = concat_data_lower_length(variables)\n",
    "low_period_data.plot(subplots=True, figsize=(30,100))\n",
    "plt.show()"
   ]
  },
  {
   "cell_type": "markdown",
   "id": "18af526d",
   "metadata": {},
   "source": [
    "---"
   ]
  },
  {
   "cell_type": "markdown",
   "id": "74ef302b",
   "metadata": {},
   "source": [
    "---"
   ]
  },
  {
   "cell_type": "markdown",
   "id": "aaca2b97",
   "metadata": {},
   "source": [
    "### XGBoost"
   ]
  },
  {
   "cell_type": "markdown",
   "id": "65096bd1",
   "metadata": {},
   "source": [
    "https://sosoeasy.tistory.com/388"
   ]
  },
  {
   "cell_type": "markdown",
   "id": "a676c0b6",
   "metadata": {},
   "source": [
    "https://dacon.io/competitions/official/235736/codeshare/2877\n",
    "https://magoker.tistory.com/106"
   ]
  },
  {
   "cell_type": "markdown",
   "id": "cd654910",
   "metadata": {},
   "source": [
    "#### 전체 feature 회귀 분석"
   ]
  },
  {
   "cell_type": "code",
   "execution_count": null,
   "id": "e5ec44f9",
   "metadata": {
    "ExecuteTime": {
     "end_time": "2023-05-25T18:15:23.847040Z",
     "start_time": "2023-05-25T18:15:19.449243Z"
    }
   },
   "outputs": [],
   "source": [
    "# !pip3 install sktime\n",
    "# !pip install xgboost"
   ]
  },
  {
   "cell_type": "code",
   "execution_count": 12,
   "id": "1997c4fb",
   "metadata": {
    "ExecuteTime": {
     "end_time": "2023-05-26T14:04:30.943887Z",
     "start_time": "2023-05-26T14:04:28.923833Z"
    }
   },
   "outputs": [
    {
     "name": "stderr",
     "output_type": "stream",
     "text": [
      "C:\\users\\hsl\\desktop\\lhs\\Lib\\site-packages\\sktime\\__init__.py:45: PackageDeprecationWarning: \n",
      "The sktime PyPI package is deprecated.\n",
      "The sktime project split into two projects.\n",
      "\n",
      "To find out how to install the new packages, please go to:\n",
      "\n",
      "* https://github.com/aeon-toolkit/aeon\n",
      "* https://github.com/sktime/sktime\n",
      "\n",
      "Here is what you can do when installing sktime via pip (e.g. using `pip install ...` or a requirement file like `requirements.txt`, `setup.py`, `setup.cfg`):\n",
      "\n",
      "* continue using the package without receiving any updates (ignoring the deprecation warning or avoiding it by pinning the version: `sktime==0.18.0`),\n",
      "* replace sktime with one of the new projects,\n",
      "* if the sktime package is used by one of your dependencies, it would be great if you take some time to track which package uses sktime and report to their issue tracker that sktime is deprecated.\n",
      "\n",
      "More information is available at:\n",
      "https://github.com/mloning/sktime-deprecation/discussions/2\n",
      "\n",
      "If the previous advice does not support your use case, feel free to report it at:\n",
      "https://github.com/mloning/sktime-deprecation/issues/new\n",
      "\n",
      "  warn(message, category=PackageDeprecationWarning)\n"
     ]
    }
   ],
   "source": [
    "from sktime.forecasting.model_selection import temporal_train_test_split\n",
    "from sktime.utils.plotting import plot_series\n",
    "from xgboost import XGBRegressor\n",
    "import xgboost"
   ]
  },
  {
   "cell_type": "code",
   "execution_count": 13,
   "id": "0a176db1",
   "metadata": {
    "ExecuteTime": {
     "end_time": "2023-05-26T14:04:31.574470Z",
     "start_time": "2023-05-26T14:04:31.569890Z"
    }
   },
   "outputs": [],
   "source": [
    "all_data.reset_index(inplace=True)"
   ]
  },
  {
   "cell_type": "code",
   "execution_count": 14,
   "id": "a782a77c",
   "metadata": {
    "ExecuteTime": {
     "end_time": "2023-05-26T14:04:32.359133Z",
     "start_time": "2023-05-26T14:04:32.352472Z"
    }
   },
   "outputs": [
    {
     "data": {
      "text/plain": [
       "0       1990-01-03\n",
       "1       1990-01-04\n",
       "2       1990-01-05\n",
       "3       1990-01-06\n",
       "4       1990-01-08\n",
       "           ...    \n",
       "8616    2023-03-09\n",
       "8617    2023-03-10\n",
       "8618    2023-03-13\n",
       "8619    2023-03-14\n",
       "8620    2023-03-15\n",
       "Name: Date, Length: 8621, dtype: object"
      ]
     },
     "execution_count": 14,
     "metadata": {},
     "output_type": "execute_result"
    }
   ],
   "source": [
    "all_data.Date"
   ]
  },
  {
   "cell_type": "code",
   "execution_count": 15,
   "id": "9cdd1c49",
   "metadata": {
    "ExecuteTime": {
     "end_time": "2023-05-26T14:04:35.245975Z",
     "start_time": "2023-05-26T14:04:35.239133Z"
    }
   },
   "outputs": [],
   "source": [
    "train_all = all_data.drop('Date', axis=1).copy()"
   ]
  },
  {
   "cell_type": "code",
   "execution_count": 16,
   "id": "7d15e056",
   "metadata": {
    "ExecuteTime": {
     "end_time": "2023-05-26T14:04:36.410279Z",
     "start_time": "2023-05-26T14:04:36.382975Z"
    }
   },
   "outputs": [
    {
     "data": {
      "text/html": [
       "<div>\n",
       "<style scoped>\n",
       "    .dataframe tbody tr th:only-of-type {\n",
       "        vertical-align: middle;\n",
       "    }\n",
       "\n",
       "    .dataframe tbody tr th {\n",
       "        vertical-align: top;\n",
       "    }\n",
       "\n",
       "    .dataframe thead th {\n",
       "        text-align: right;\n",
       "    }\n",
       "</style>\n",
       "<table border=\"1\" class=\"dataframe\">\n",
       "  <thead>\n",
       "    <tr style=\"text-align: right;\">\n",
       "      <th></th>\n",
       "      <th>bitcoin_Close</th>\n",
       "      <th>vix_Close</th>\n",
       "      <th>usd_krw_Close</th>\n",
       "      <th>us_unem_Close</th>\n",
       "      <th>gold_Close</th>\n",
       "      <th>dollar_Close</th>\n",
       "      <th>wti_Close</th>\n",
       "      <th>dubai_Close</th>\n",
       "      <th>brent_Close</th>\n",
       "      <th>us_cpi_y_Close</th>\n",
       "      <th>...</th>\n",
       "      <th>szse_Close</th>\n",
       "      <th>ssec_Close</th>\n",
       "      <th>nikkie_Close</th>\n",
       "      <th>ftse_Close</th>\n",
       "      <th>nasdaq_Close</th>\n",
       "      <th>russel2000_Close</th>\n",
       "      <th>sp500_Close</th>\n",
       "      <th>dow_Close</th>\n",
       "      <th>kosdaq_Close</th>\n",
       "      <th>kospi_Close</th>\n",
       "    </tr>\n",
       "  </thead>\n",
       "  <tbody>\n",
       "    <tr>\n",
       "      <th>0</th>\n",
       "      <td>0.1</td>\n",
       "      <td>18.19</td>\n",
       "      <td>683.50</td>\n",
       "      <td>0.054</td>\n",
       "      <td>398.7</td>\n",
       "      <td>95.220</td>\n",
       "      <td>23.68</td>\n",
       "      <td>104.00</td>\n",
       "      <td>21.69</td>\n",
       "      <td>0.052</td>\n",
       "      <td>...</td>\n",
       "      <td>1151.58</td>\n",
       "      <td>104.39</td>\n",
       "      <td>13867.61</td>\n",
       "      <td>5562.52</td>\n",
       "      <td>460.90</td>\n",
       "      <td>484.39</td>\n",
       "      <td>358.80</td>\n",
       "      <td>2809.73</td>\n",
       "      <td>557.00</td>\n",
       "      <td>908.59</td>\n",
       "    </tr>\n",
       "    <tr>\n",
       "      <th>1</th>\n",
       "      <td>0.1</td>\n",
       "      <td>19.22</td>\n",
       "      <td>684.20</td>\n",
       "      <td>0.054</td>\n",
       "      <td>403.2</td>\n",
       "      <td>93.160</td>\n",
       "      <td>23.41</td>\n",
       "      <td>104.00</td>\n",
       "      <td>21.51</td>\n",
       "      <td>0.052</td>\n",
       "      <td>...</td>\n",
       "      <td>1151.58</td>\n",
       "      <td>104.39</td>\n",
       "      <td>13867.61</td>\n",
       "      <td>5562.52</td>\n",
       "      <td>459.39</td>\n",
       "      <td>484.39</td>\n",
       "      <td>355.70</td>\n",
       "      <td>2796.08</td>\n",
       "      <td>557.00</td>\n",
       "      <td>928.82</td>\n",
       "    </tr>\n",
       "    <tr>\n",
       "      <th>2</th>\n",
       "      <td>0.1</td>\n",
       "      <td>20.11</td>\n",
       "      <td>683.70</td>\n",
       "      <td>0.054</td>\n",
       "      <td>410.9</td>\n",
       "      <td>93.620</td>\n",
       "      <td>23.08</td>\n",
       "      <td>104.00</td>\n",
       "      <td>22.00</td>\n",
       "      <td>0.052</td>\n",
       "      <td>...</td>\n",
       "      <td>1151.58</td>\n",
       "      <td>104.39</td>\n",
       "      <td>13867.61</td>\n",
       "      <td>5562.52</td>\n",
       "      <td>458.22</td>\n",
       "      <td>484.39</td>\n",
       "      <td>352.20</td>\n",
       "      <td>2773.25</td>\n",
       "      <td>557.00</td>\n",
       "      <td>915.11</td>\n",
       "    </tr>\n",
       "    <tr>\n",
       "      <th>3</th>\n",
       "      <td>0.1</td>\n",
       "      <td>20.11</td>\n",
       "      <td>683.70</td>\n",
       "      <td>0.054</td>\n",
       "      <td>410.9</td>\n",
       "      <td>93.620</td>\n",
       "      <td>23.08</td>\n",
       "      <td>104.00</td>\n",
       "      <td>22.00</td>\n",
       "      <td>0.052</td>\n",
       "      <td>...</td>\n",
       "      <td>1151.58</td>\n",
       "      <td>104.39</td>\n",
       "      <td>13867.61</td>\n",
       "      <td>5562.52</td>\n",
       "      <td>458.22</td>\n",
       "      <td>484.39</td>\n",
       "      <td>352.20</td>\n",
       "      <td>2773.25</td>\n",
       "      <td>557.00</td>\n",
       "      <td>912.86</td>\n",
       "    </tr>\n",
       "    <tr>\n",
       "      <th>4</th>\n",
       "      <td>0.1</td>\n",
       "      <td>20.26</td>\n",
       "      <td>683.60</td>\n",
       "      <td>0.054</td>\n",
       "      <td>407.2</td>\n",
       "      <td>92.800</td>\n",
       "      <td>21.62</td>\n",
       "      <td>104.00</td>\n",
       "      <td>20.52</td>\n",
       "      <td>0.052</td>\n",
       "      <td>...</td>\n",
       "      <td>1151.58</td>\n",
       "      <td>104.39</td>\n",
       "      <td>13867.61</td>\n",
       "      <td>5562.52</td>\n",
       "      <td>458.71</td>\n",
       "      <td>484.39</td>\n",
       "      <td>353.80</td>\n",
       "      <td>2794.37</td>\n",
       "      <td>557.00</td>\n",
       "      <td>919.46</td>\n",
       "    </tr>\n",
       "    <tr>\n",
       "      <th>...</th>\n",
       "      <td>...</td>\n",
       "      <td>...</td>\n",
       "      <td>...</td>\n",
       "      <td>...</td>\n",
       "      <td>...</td>\n",
       "      <td>...</td>\n",
       "      <td>...</td>\n",
       "      <td>...</td>\n",
       "      <td>...</td>\n",
       "      <td>...</td>\n",
       "      <td>...</td>\n",
       "      <td>...</td>\n",
       "      <td>...</td>\n",
       "      <td>...</td>\n",
       "      <td>...</td>\n",
       "      <td>...</td>\n",
       "      <td>...</td>\n",
       "      <td>...</td>\n",
       "      <td>...</td>\n",
       "      <td>...</td>\n",
       "      <td>...</td>\n",
       "    </tr>\n",
       "    <tr>\n",
       "      <th>8616</th>\n",
       "      <td>20361.8</td>\n",
       "      <td>22.61</td>\n",
       "      <td>1325.51</td>\n",
       "      <td>0.035</td>\n",
       "      <td>1834.6</td>\n",
       "      <td>105.305</td>\n",
       "      <td>75.72</td>\n",
       "      <td>81.24</td>\n",
       "      <td>81.59</td>\n",
       "      <td>0.060</td>\n",
       "      <td>...</td>\n",
       "      <td>11579.99</td>\n",
       "      <td>3276.09</td>\n",
       "      <td>28623.15</td>\n",
       "      <td>13118.81</td>\n",
       "      <td>11338.36</td>\n",
       "      <td>1826.59</td>\n",
       "      <td>3918.32</td>\n",
       "      <td>32256.05</td>\n",
       "      <td>809.22</td>\n",
       "      <td>2419.09</td>\n",
       "    </tr>\n",
       "    <tr>\n",
       "      <th>8617</th>\n",
       "      <td>20156.7</td>\n",
       "      <td>24.80</td>\n",
       "      <td>1320.24</td>\n",
       "      <td>0.035</td>\n",
       "      <td>1867.2</td>\n",
       "      <td>104.552</td>\n",
       "      <td>76.68</td>\n",
       "      <td>82.16</td>\n",
       "      <td>82.78</td>\n",
       "      <td>0.060</td>\n",
       "      <td>...</td>\n",
       "      <td>11442.54</td>\n",
       "      <td>3230.08</td>\n",
       "      <td>28143.97</td>\n",
       "      <td>12965.40</td>\n",
       "      <td>11138.89</td>\n",
       "      <td>1772.70</td>\n",
       "      <td>3861.59</td>\n",
       "      <td>31909.96</td>\n",
       "      <td>788.60</td>\n",
       "      <td>2394.59</td>\n",
       "    </tr>\n",
       "    <tr>\n",
       "      <th>8618</th>\n",
       "      <td>24114.4</td>\n",
       "      <td>26.52</td>\n",
       "      <td>1296.58</td>\n",
       "      <td>0.035</td>\n",
       "      <td>1916.5</td>\n",
       "      <td>103.713</td>\n",
       "      <td>74.80</td>\n",
       "      <td>81.01</td>\n",
       "      <td>80.77</td>\n",
       "      <td>0.060</td>\n",
       "      <td>...</td>\n",
       "      <td>11505.02</td>\n",
       "      <td>3268.70</td>\n",
       "      <td>27832.96</td>\n",
       "      <td>13079.91</td>\n",
       "      <td>11188.84</td>\n",
       "      <td>1744.30</td>\n",
       "      <td>3855.76</td>\n",
       "      <td>31819.05</td>\n",
       "      <td>788.89</td>\n",
       "      <td>2410.60</td>\n",
       "    </tr>\n",
       "    <tr>\n",
       "      <th>8619</th>\n",
       "      <td>24699.7</td>\n",
       "      <td>23.73</td>\n",
       "      <td>1304.55</td>\n",
       "      <td>0.035</td>\n",
       "      <td>1910.9</td>\n",
       "      <td>103.215</td>\n",
       "      <td>71.33</td>\n",
       "      <td>79.20</td>\n",
       "      <td>77.45</td>\n",
       "      <td>0.060</td>\n",
       "      <td>...</td>\n",
       "      <td>11416.57</td>\n",
       "      <td>3245.31</td>\n",
       "      <td>27222.04</td>\n",
       "      <td>12995.57</td>\n",
       "      <td>11428.15</td>\n",
       "      <td>1776.89</td>\n",
       "      <td>3920.56</td>\n",
       "      <td>32153.89</td>\n",
       "      <td>758.05</td>\n",
       "      <td>2348.97</td>\n",
       "    </tr>\n",
       "    <tr>\n",
       "      <th>8620</th>\n",
       "      <td>24282.7</td>\n",
       "      <td>26.14</td>\n",
       "      <td>1313.04</td>\n",
       "      <td>0.035</td>\n",
       "      <td>1948.1</td>\n",
       "      <td>104.276</td>\n",
       "      <td>67.61</td>\n",
       "      <td>77.25</td>\n",
       "      <td>73.28</td>\n",
       "      <td>0.060</td>\n",
       "      <td>...</td>\n",
       "      <td>11413.43</td>\n",
       "      <td>3263.31</td>\n",
       "      <td>27229.48</td>\n",
       "      <td>12998.04</td>\n",
       "      <td>11434.05</td>\n",
       "      <td>1745.94</td>\n",
       "      <td>3891.93</td>\n",
       "      <td>31876.22</td>\n",
       "      <td>781.17</td>\n",
       "      <td>2379.72</td>\n",
       "    </tr>\n",
       "  </tbody>\n",
       "</table>\n",
       "<p>8621 rows × 48 columns</p>\n",
       "</div>"
      ],
      "text/plain": [
       "      bitcoin_Close  vix_Close  usd_krw_Close  us_unem_Close  gold_Close  \\\n",
       "0               0.1      18.19         683.50          0.054       398.7   \n",
       "1               0.1      19.22         684.20          0.054       403.2   \n",
       "2               0.1      20.11         683.70          0.054       410.9   \n",
       "3               0.1      20.11         683.70          0.054       410.9   \n",
       "4               0.1      20.26         683.60          0.054       407.2   \n",
       "...             ...        ...            ...            ...         ...   \n",
       "8616        20361.8      22.61        1325.51          0.035      1834.6   \n",
       "8617        20156.7      24.80        1320.24          0.035      1867.2   \n",
       "8618        24114.4      26.52        1296.58          0.035      1916.5   \n",
       "8619        24699.7      23.73        1304.55          0.035      1910.9   \n",
       "8620        24282.7      26.14        1313.04          0.035      1948.1   \n",
       "\n",
       "      dollar_Close  wti_Close  dubai_Close  brent_Close  us_cpi_y_Close  ...  \\\n",
       "0           95.220      23.68       104.00        21.69           0.052  ...   \n",
       "1           93.160      23.41       104.00        21.51           0.052  ...   \n",
       "2           93.620      23.08       104.00        22.00           0.052  ...   \n",
       "3           93.620      23.08       104.00        22.00           0.052  ...   \n",
       "4           92.800      21.62       104.00        20.52           0.052  ...   \n",
       "...            ...        ...          ...          ...             ...  ...   \n",
       "8616       105.305      75.72        81.24        81.59           0.060  ...   \n",
       "8617       104.552      76.68        82.16        82.78           0.060  ...   \n",
       "8618       103.713      74.80        81.01        80.77           0.060  ...   \n",
       "8619       103.215      71.33        79.20        77.45           0.060  ...   \n",
       "8620       104.276      67.61        77.25        73.28           0.060  ...   \n",
       "\n",
       "      szse_Close  ssec_Close  nikkie_Close  ftse_Close  nasdaq_Close  \\\n",
       "0        1151.58      104.39      13867.61     5562.52        460.90   \n",
       "1        1151.58      104.39      13867.61     5562.52        459.39   \n",
       "2        1151.58      104.39      13867.61     5562.52        458.22   \n",
       "3        1151.58      104.39      13867.61     5562.52        458.22   \n",
       "4        1151.58      104.39      13867.61     5562.52        458.71   \n",
       "...          ...         ...           ...         ...           ...   \n",
       "8616    11579.99     3276.09      28623.15    13118.81      11338.36   \n",
       "8617    11442.54     3230.08      28143.97    12965.40      11138.89   \n",
       "8618    11505.02     3268.70      27832.96    13079.91      11188.84   \n",
       "8619    11416.57     3245.31      27222.04    12995.57      11428.15   \n",
       "8620    11413.43     3263.31      27229.48    12998.04      11434.05   \n",
       "\n",
       "      russel2000_Close  sp500_Close  dow_Close  kosdaq_Close  kospi_Close  \n",
       "0               484.39       358.80    2809.73        557.00       908.59  \n",
       "1               484.39       355.70    2796.08        557.00       928.82  \n",
       "2               484.39       352.20    2773.25        557.00       915.11  \n",
       "3               484.39       352.20    2773.25        557.00       912.86  \n",
       "4               484.39       353.80    2794.37        557.00       919.46  \n",
       "...                ...          ...        ...           ...          ...  \n",
       "8616           1826.59      3918.32   32256.05        809.22      2419.09  \n",
       "8617           1772.70      3861.59   31909.96        788.60      2394.59  \n",
       "8618           1744.30      3855.76   31819.05        788.89      2410.60  \n",
       "8619           1776.89      3920.56   32153.89        758.05      2348.97  \n",
       "8620           1745.94      3891.93   31876.22        781.17      2379.72  \n",
       "\n",
       "[8621 rows x 48 columns]"
      ]
     },
     "execution_count": 16,
     "metadata": {},
     "output_type": "execute_result"
    }
   ],
   "source": [
    "train_all"
   ]
  },
  {
   "cell_type": "code",
   "execution_count": 17,
   "id": "8a38461d",
   "metadata": {
    "ExecuteTime": {
     "end_time": "2023-05-26T14:04:38.887062Z",
     "start_time": "2023-05-26T14:04:38.872279Z"
    }
   },
   "outputs": [],
   "source": [
    "date = pd.to_datetime(all_data.Date)\n",
    "train_all['day2'] = date.dt.day_of_year  # 1 ~ 365\n",
    "train_all['day'] = date.dt.weekday       # Monday ~\n",
    "train_all['month'] = date.dt.month       # Month\n",
    "train_all['quarter'] = date.dt.quarter   # 분기"
   ]
  },
  {
   "cell_type": "code",
   "execution_count": null,
   "id": "22af9a8a",
   "metadata": {
    "ExecuteTime": {
     "end_time": "2023-05-26T11:50:28.842305Z",
     "start_time": "2023-05-26T11:50:28.826348Z"
    }
   },
   "outputs": [],
   "source": [
    "train_all.quarter.value_counts()"
   ]
  },
  {
   "cell_type": "code",
   "execution_count": 18,
   "id": "74ba4dbd",
   "metadata": {
    "ExecuteTime": {
     "end_time": "2023-05-26T14:04:42.168997Z",
     "start_time": "2023-05-26T14:04:42.142062Z"
    }
   },
   "outputs": [
    {
     "data": {
      "text/html": [
       "<div>\n",
       "<style scoped>\n",
       "    .dataframe tbody tr th:only-of-type {\n",
       "        vertical-align: middle;\n",
       "    }\n",
       "\n",
       "    .dataframe tbody tr th {\n",
       "        vertical-align: top;\n",
       "    }\n",
       "\n",
       "    .dataframe thead th {\n",
       "        text-align: right;\n",
       "    }\n",
       "</style>\n",
       "<table border=\"1\" class=\"dataframe\">\n",
       "  <thead>\n",
       "    <tr style=\"text-align: right;\">\n",
       "      <th></th>\n",
       "      <th>bitcoin_Close</th>\n",
       "      <th>vix_Close</th>\n",
       "      <th>usd_krw_Close</th>\n",
       "      <th>us_unem_Close</th>\n",
       "      <th>gold_Close</th>\n",
       "      <th>dollar_Close</th>\n",
       "      <th>wti_Close</th>\n",
       "      <th>dubai_Close</th>\n",
       "      <th>brent_Close</th>\n",
       "      <th>us_cpi_y_Close</th>\n",
       "      <th>...</th>\n",
       "      <th>nasdaq_Close</th>\n",
       "      <th>russel2000_Close</th>\n",
       "      <th>sp500_Close</th>\n",
       "      <th>dow_Close</th>\n",
       "      <th>kosdaq_Close</th>\n",
       "      <th>kospi_Close</th>\n",
       "      <th>day2</th>\n",
       "      <th>day</th>\n",
       "      <th>month</th>\n",
       "      <th>quarter</th>\n",
       "    </tr>\n",
       "  </thead>\n",
       "  <tbody>\n",
       "    <tr>\n",
       "      <th>0</th>\n",
       "      <td>0.1</td>\n",
       "      <td>18.19</td>\n",
       "      <td>683.50</td>\n",
       "      <td>0.054</td>\n",
       "      <td>398.7</td>\n",
       "      <td>95.220</td>\n",
       "      <td>23.68</td>\n",
       "      <td>104.00</td>\n",
       "      <td>21.69</td>\n",
       "      <td>0.052</td>\n",
       "      <td>...</td>\n",
       "      <td>460.90</td>\n",
       "      <td>484.39</td>\n",
       "      <td>358.80</td>\n",
       "      <td>2809.73</td>\n",
       "      <td>557.00</td>\n",
       "      <td>908.59</td>\n",
       "      <td>3</td>\n",
       "      <td>2</td>\n",
       "      <td>1</td>\n",
       "      <td>1</td>\n",
       "    </tr>\n",
       "    <tr>\n",
       "      <th>1</th>\n",
       "      <td>0.1</td>\n",
       "      <td>19.22</td>\n",
       "      <td>684.20</td>\n",
       "      <td>0.054</td>\n",
       "      <td>403.2</td>\n",
       "      <td>93.160</td>\n",
       "      <td>23.41</td>\n",
       "      <td>104.00</td>\n",
       "      <td>21.51</td>\n",
       "      <td>0.052</td>\n",
       "      <td>...</td>\n",
       "      <td>459.39</td>\n",
       "      <td>484.39</td>\n",
       "      <td>355.70</td>\n",
       "      <td>2796.08</td>\n",
       "      <td>557.00</td>\n",
       "      <td>928.82</td>\n",
       "      <td>4</td>\n",
       "      <td>3</td>\n",
       "      <td>1</td>\n",
       "      <td>1</td>\n",
       "    </tr>\n",
       "    <tr>\n",
       "      <th>2</th>\n",
       "      <td>0.1</td>\n",
       "      <td>20.11</td>\n",
       "      <td>683.70</td>\n",
       "      <td>0.054</td>\n",
       "      <td>410.9</td>\n",
       "      <td>93.620</td>\n",
       "      <td>23.08</td>\n",
       "      <td>104.00</td>\n",
       "      <td>22.00</td>\n",
       "      <td>0.052</td>\n",
       "      <td>...</td>\n",
       "      <td>458.22</td>\n",
       "      <td>484.39</td>\n",
       "      <td>352.20</td>\n",
       "      <td>2773.25</td>\n",
       "      <td>557.00</td>\n",
       "      <td>915.11</td>\n",
       "      <td>5</td>\n",
       "      <td>4</td>\n",
       "      <td>1</td>\n",
       "      <td>1</td>\n",
       "    </tr>\n",
       "    <tr>\n",
       "      <th>3</th>\n",
       "      <td>0.1</td>\n",
       "      <td>20.11</td>\n",
       "      <td>683.70</td>\n",
       "      <td>0.054</td>\n",
       "      <td>410.9</td>\n",
       "      <td>93.620</td>\n",
       "      <td>23.08</td>\n",
       "      <td>104.00</td>\n",
       "      <td>22.00</td>\n",
       "      <td>0.052</td>\n",
       "      <td>...</td>\n",
       "      <td>458.22</td>\n",
       "      <td>484.39</td>\n",
       "      <td>352.20</td>\n",
       "      <td>2773.25</td>\n",
       "      <td>557.00</td>\n",
       "      <td>912.86</td>\n",
       "      <td>6</td>\n",
       "      <td>5</td>\n",
       "      <td>1</td>\n",
       "      <td>1</td>\n",
       "    </tr>\n",
       "    <tr>\n",
       "      <th>4</th>\n",
       "      <td>0.1</td>\n",
       "      <td>20.26</td>\n",
       "      <td>683.60</td>\n",
       "      <td>0.054</td>\n",
       "      <td>407.2</td>\n",
       "      <td>92.800</td>\n",
       "      <td>21.62</td>\n",
       "      <td>104.00</td>\n",
       "      <td>20.52</td>\n",
       "      <td>0.052</td>\n",
       "      <td>...</td>\n",
       "      <td>458.71</td>\n",
       "      <td>484.39</td>\n",
       "      <td>353.80</td>\n",
       "      <td>2794.37</td>\n",
       "      <td>557.00</td>\n",
       "      <td>919.46</td>\n",
       "      <td>8</td>\n",
       "      <td>0</td>\n",
       "      <td>1</td>\n",
       "      <td>1</td>\n",
       "    </tr>\n",
       "    <tr>\n",
       "      <th>...</th>\n",
       "      <td>...</td>\n",
       "      <td>...</td>\n",
       "      <td>...</td>\n",
       "      <td>...</td>\n",
       "      <td>...</td>\n",
       "      <td>...</td>\n",
       "      <td>...</td>\n",
       "      <td>...</td>\n",
       "      <td>...</td>\n",
       "      <td>...</td>\n",
       "      <td>...</td>\n",
       "      <td>...</td>\n",
       "      <td>...</td>\n",
       "      <td>...</td>\n",
       "      <td>...</td>\n",
       "      <td>...</td>\n",
       "      <td>...</td>\n",
       "      <td>...</td>\n",
       "      <td>...</td>\n",
       "      <td>...</td>\n",
       "      <td>...</td>\n",
       "    </tr>\n",
       "    <tr>\n",
       "      <th>8616</th>\n",
       "      <td>20361.8</td>\n",
       "      <td>22.61</td>\n",
       "      <td>1325.51</td>\n",
       "      <td>0.035</td>\n",
       "      <td>1834.6</td>\n",
       "      <td>105.305</td>\n",
       "      <td>75.72</td>\n",
       "      <td>81.24</td>\n",
       "      <td>81.59</td>\n",
       "      <td>0.060</td>\n",
       "      <td>...</td>\n",
       "      <td>11338.36</td>\n",
       "      <td>1826.59</td>\n",
       "      <td>3918.32</td>\n",
       "      <td>32256.05</td>\n",
       "      <td>809.22</td>\n",
       "      <td>2419.09</td>\n",
       "      <td>68</td>\n",
       "      <td>3</td>\n",
       "      <td>3</td>\n",
       "      <td>1</td>\n",
       "    </tr>\n",
       "    <tr>\n",
       "      <th>8617</th>\n",
       "      <td>20156.7</td>\n",
       "      <td>24.80</td>\n",
       "      <td>1320.24</td>\n",
       "      <td>0.035</td>\n",
       "      <td>1867.2</td>\n",
       "      <td>104.552</td>\n",
       "      <td>76.68</td>\n",
       "      <td>82.16</td>\n",
       "      <td>82.78</td>\n",
       "      <td>0.060</td>\n",
       "      <td>...</td>\n",
       "      <td>11138.89</td>\n",
       "      <td>1772.70</td>\n",
       "      <td>3861.59</td>\n",
       "      <td>31909.96</td>\n",
       "      <td>788.60</td>\n",
       "      <td>2394.59</td>\n",
       "      <td>69</td>\n",
       "      <td>4</td>\n",
       "      <td>3</td>\n",
       "      <td>1</td>\n",
       "    </tr>\n",
       "    <tr>\n",
       "      <th>8618</th>\n",
       "      <td>24114.4</td>\n",
       "      <td>26.52</td>\n",
       "      <td>1296.58</td>\n",
       "      <td>0.035</td>\n",
       "      <td>1916.5</td>\n",
       "      <td>103.713</td>\n",
       "      <td>74.80</td>\n",
       "      <td>81.01</td>\n",
       "      <td>80.77</td>\n",
       "      <td>0.060</td>\n",
       "      <td>...</td>\n",
       "      <td>11188.84</td>\n",
       "      <td>1744.30</td>\n",
       "      <td>3855.76</td>\n",
       "      <td>31819.05</td>\n",
       "      <td>788.89</td>\n",
       "      <td>2410.60</td>\n",
       "      <td>72</td>\n",
       "      <td>0</td>\n",
       "      <td>3</td>\n",
       "      <td>1</td>\n",
       "    </tr>\n",
       "    <tr>\n",
       "      <th>8619</th>\n",
       "      <td>24699.7</td>\n",
       "      <td>23.73</td>\n",
       "      <td>1304.55</td>\n",
       "      <td>0.035</td>\n",
       "      <td>1910.9</td>\n",
       "      <td>103.215</td>\n",
       "      <td>71.33</td>\n",
       "      <td>79.20</td>\n",
       "      <td>77.45</td>\n",
       "      <td>0.060</td>\n",
       "      <td>...</td>\n",
       "      <td>11428.15</td>\n",
       "      <td>1776.89</td>\n",
       "      <td>3920.56</td>\n",
       "      <td>32153.89</td>\n",
       "      <td>758.05</td>\n",
       "      <td>2348.97</td>\n",
       "      <td>73</td>\n",
       "      <td>1</td>\n",
       "      <td>3</td>\n",
       "      <td>1</td>\n",
       "    </tr>\n",
       "    <tr>\n",
       "      <th>8620</th>\n",
       "      <td>24282.7</td>\n",
       "      <td>26.14</td>\n",
       "      <td>1313.04</td>\n",
       "      <td>0.035</td>\n",
       "      <td>1948.1</td>\n",
       "      <td>104.276</td>\n",
       "      <td>67.61</td>\n",
       "      <td>77.25</td>\n",
       "      <td>73.28</td>\n",
       "      <td>0.060</td>\n",
       "      <td>...</td>\n",
       "      <td>11434.05</td>\n",
       "      <td>1745.94</td>\n",
       "      <td>3891.93</td>\n",
       "      <td>31876.22</td>\n",
       "      <td>781.17</td>\n",
       "      <td>2379.72</td>\n",
       "      <td>74</td>\n",
       "      <td>2</td>\n",
       "      <td>3</td>\n",
       "      <td>1</td>\n",
       "    </tr>\n",
       "  </tbody>\n",
       "</table>\n",
       "<p>8621 rows × 52 columns</p>\n",
       "</div>"
      ],
      "text/plain": [
       "      bitcoin_Close  vix_Close  usd_krw_Close  us_unem_Close  gold_Close  \\\n",
       "0               0.1      18.19         683.50          0.054       398.7   \n",
       "1               0.1      19.22         684.20          0.054       403.2   \n",
       "2               0.1      20.11         683.70          0.054       410.9   \n",
       "3               0.1      20.11         683.70          0.054       410.9   \n",
       "4               0.1      20.26         683.60          0.054       407.2   \n",
       "...             ...        ...            ...            ...         ...   \n",
       "8616        20361.8      22.61        1325.51          0.035      1834.6   \n",
       "8617        20156.7      24.80        1320.24          0.035      1867.2   \n",
       "8618        24114.4      26.52        1296.58          0.035      1916.5   \n",
       "8619        24699.7      23.73        1304.55          0.035      1910.9   \n",
       "8620        24282.7      26.14        1313.04          0.035      1948.1   \n",
       "\n",
       "      dollar_Close  wti_Close  dubai_Close  brent_Close  us_cpi_y_Close  ...  \\\n",
       "0           95.220      23.68       104.00        21.69           0.052  ...   \n",
       "1           93.160      23.41       104.00        21.51           0.052  ...   \n",
       "2           93.620      23.08       104.00        22.00           0.052  ...   \n",
       "3           93.620      23.08       104.00        22.00           0.052  ...   \n",
       "4           92.800      21.62       104.00        20.52           0.052  ...   \n",
       "...            ...        ...          ...          ...             ...  ...   \n",
       "8616       105.305      75.72        81.24        81.59           0.060  ...   \n",
       "8617       104.552      76.68        82.16        82.78           0.060  ...   \n",
       "8618       103.713      74.80        81.01        80.77           0.060  ...   \n",
       "8619       103.215      71.33        79.20        77.45           0.060  ...   \n",
       "8620       104.276      67.61        77.25        73.28           0.060  ...   \n",
       "\n",
       "      nasdaq_Close  russel2000_Close  sp500_Close  dow_Close  kosdaq_Close  \\\n",
       "0           460.90            484.39       358.80    2809.73        557.00   \n",
       "1           459.39            484.39       355.70    2796.08        557.00   \n",
       "2           458.22            484.39       352.20    2773.25        557.00   \n",
       "3           458.22            484.39       352.20    2773.25        557.00   \n",
       "4           458.71            484.39       353.80    2794.37        557.00   \n",
       "...            ...               ...          ...        ...           ...   \n",
       "8616      11338.36           1826.59      3918.32   32256.05        809.22   \n",
       "8617      11138.89           1772.70      3861.59   31909.96        788.60   \n",
       "8618      11188.84           1744.30      3855.76   31819.05        788.89   \n",
       "8619      11428.15           1776.89      3920.56   32153.89        758.05   \n",
       "8620      11434.05           1745.94      3891.93   31876.22        781.17   \n",
       "\n",
       "      kospi_Close  day2  day  month  quarter  \n",
       "0          908.59     3    2      1        1  \n",
       "1          928.82     4    3      1        1  \n",
       "2          915.11     5    4      1        1  \n",
       "3          912.86     6    5      1        1  \n",
       "4          919.46     8    0      1        1  \n",
       "...           ...   ...  ...    ...      ...  \n",
       "8616      2419.09    68    3      3        1  \n",
       "8617      2394.59    69    4      3        1  \n",
       "8618      2410.60    72    0      3        1  \n",
       "8619      2348.97    73    1      3        1  \n",
       "8620      2379.72    74    2      3        1  \n",
       "\n",
       "[8621 rows x 52 columns]"
      ]
     },
     "execution_count": 18,
     "metadata": {},
     "output_type": "execute_result"
    }
   ],
   "source": [
    "train_all"
   ]
  },
  {
   "cell_type": "code",
   "execution_count": null,
   "id": "18769abb",
   "metadata": {
    "ExecuteTime": {
     "end_time": "2023-05-26T11:50:34.513633Z",
     "start_time": "2023-05-26T11:50:34.496640Z"
    }
   },
   "outputs": [],
   "source": [
    "x = train_all.drop('kospi_Close', axis=1)\n",
    "y = train_all.kospi_Close"
   ]
  },
  {
   "cell_type": "code",
   "execution_count": null,
   "id": "6290bc7f",
   "metadata": {
    "ExecuteTime": {
     "end_time": "2023-05-26T11:50:35.988414Z",
     "start_time": "2023-05-26T11:50:35.972440Z"
    }
   },
   "outputs": [],
   "source": [
    "y_train, y_valid, x_train, x_valid = temporal_train_test_split(X = x, y = y, test_size = 0.2)\n"
   ]
  },
  {
   "cell_type": "code",
   "execution_count": null,
   "id": "86ec854a",
   "metadata": {
    "ExecuteTime": {
     "end_time": "2023-05-26T11:50:38.280626Z",
     "start_time": "2023-05-26T11:50:37.974446Z"
    }
   },
   "outputs": [],
   "source": [
    "print('train data shape\\nx:{}, y:{}'.format(x_train.shape, y_train.shape))\n",
    "\n",
    "plot_series(y_train, y_valid, markers=[',' , ','])\n",
    "plt.show()"
   ]
  },
  {
   "cell_type": "code",
   "execution_count": null,
   "id": "ad208b31",
   "metadata": {
    "ExecuteTime": {
     "end_time": "2023-05-26T11:53:11.526576Z",
     "start_time": "2023-05-26T11:53:10.313818Z"
    }
   },
   "outputs": [],
   "source": [
    "xgb_reg = XGBRegressor()\n",
    "\n",
    "xgb_reg.fit(x_train, y_train, eval_set=[(x_train, y_train), (x_valid, y_valid)],\n",
    "            early_stopping_rounds=300, verbose=False)"
   ]
  },
  {
   "cell_type": "code",
   "execution_count": null,
   "id": "7aece81d",
   "metadata": {
    "ExecuteTime": {
     "end_time": "2023-05-26T11:54:30.802687Z",
     "start_time": "2023-05-26T11:54:30.473326Z"
    },
    "scrolled": true
   },
   "outputs": [],
   "source": [
    "## 주황색 : 실제값, 초록색 : 예측값\n",
    "\n",
    "pred = xgb_reg.predict(x_valid)\n",
    "pred = pd.Series(pred)\n",
    "pred.index = np.arange(y_valid.index[0], y_valid.index[-1]+1)\n",
    "plot_series(y_train, y_valid, pd.Series(pred), markers=[',' , ',', ','])\n",
    "\n",
    "print('best iterations: {}'.format(xgb_reg.best_iteration))\n",
    "# print('SMAPE : {}'.format(SMAPE(y_valid, pred)))"
   ]
  },
  {
   "cell_type": "code",
   "execution_count": null,
   "id": "9f6e6a9e",
   "metadata": {
    "ExecuteTime": {
     "end_time": "2023-05-26T12:00:21.653793Z",
     "start_time": "2023-05-26T12:00:21.475272Z"
    }
   },
   "outputs": [],
   "source": [
    "plt.figure(figsize=(8,6))\n",
    "plt.plot(y_valid, label = \"original\")\n",
    "plt.plot(pred, label = \"predicted\")\n",
    "\n",
    "plt.title('All_Feature_Trained_XGBoost')\n",
    "plt.legend()\n",
    "plt.show()"
   ]
  },
  {
   "cell_type": "markdown",
   "id": "8ffeac96",
   "metadata": {},
   "source": [
    "💛 Evaluation"
   ]
  },
  {
   "cell_type": "code",
   "execution_count": null,
   "id": "6c1a914a",
   "metadata": {
    "ExecuteTime": {
     "end_time": "2023-05-26T12:00:35.926749Z",
     "start_time": "2023-05-26T12:00:35.909787Z"
    }
   },
   "outputs": [],
   "source": [
    "from sklearn.metrics import mean_absolute_error\n",
    "from sklearn.metrics import mean_squared_error"
   ]
  },
  {
   "cell_type": "code",
   "execution_count": null,
   "id": "8185b013",
   "metadata": {
    "ExecuteTime": {
     "end_time": "2023-05-26T12:00:36.166100Z",
     "start_time": "2023-05-26T12:00:36.148150Z"
    }
   },
   "outputs": [],
   "source": [
    "print('MSE: %f' % MSE(y_valid, pred))\n",
    "print('RMSE: %f' % RMSE(MSE(y_valid, pred)))    \n",
    "print('MAE: %f' % MAE(y_valid, pred))\n",
    "print('MAPE: %f' % MAPE(y_valid, pred))"
   ]
  },
  {
   "cell_type": "markdown",
   "id": "9dc0ddc5",
   "metadata": {},
   "source": [
    "💛 Feature Importance"
   ]
  },
  {
   "cell_type": "code",
   "execution_count": null,
   "id": "6b1e6de7",
   "metadata": {
    "ExecuteTime": {
     "end_time": "2023-05-26T11:53:33.118529Z",
     "start_time": "2023-05-26T11:53:31.985389Z"
    },
    "scrolled": true
   },
   "outputs": [],
   "source": [
    "fig, axes = plt.subplots(nrows=2, ncols=3, figsize=(50,50))\n",
    "\n",
    "axes = [ax for row_axes in axes for ax in row_axes]\n",
    "model = xgb_reg\n",
    "\n",
    "xgboost.plot_importance(model, importance_type='gain', title=' xgboost_gain', xlabel='', grid=False, ax=axes[0])\n",
    "# xgboost.plot_importance(model, importance_type='cover', title='cover', xlabel='', grid=False, ax=axes[1])\n",
    "# xgboost.plot_importance(model, importance_type='weight', title='weight', xlabel='', grid=False, ax=axes[2])\n",
    "# xgboost.plot_importance(model, importance_type='total_gain', title='total_gain', xlabel='', grid=False, ax=axes[3])\n",
    "# xgboost.plot_importance(model, importance_type='total_cover', title='total_cover', xlabel='', grid=False, ax=axes[4])\n",
    "\n",
    "# plt.tight_layout()\n",
    "plt.show()"
   ]
  },
  {
   "cell_type": "markdown",
   "id": "461c238c",
   "metadata": {
    "ExecuteTime": {
     "end_time": "2023-05-25T12:53:39.890518Z",
     "start_time": "2023-05-25T12:53:39.876433Z"
    }
   },
   "source": [
    "#### SHAP"
   ]
  },
  {
   "cell_type": "markdown",
   "id": "94f8c812",
   "metadata": {},
   "source": [
    "https://www.kaggle.com/code/bryanb/xgboost-explainability-with-shap"
   ]
  },
  {
   "cell_type": "code",
   "execution_count": null,
   "id": "e3654d8f",
   "metadata": {
    "ExecuteTime": {
     "end_time": "2023-05-25T12:55:31.758554Z",
     "start_time": "2023-05-25T12:54:56.355338Z"
    }
   },
   "outputs": [],
   "source": [
    "# !pip install shap "
   ]
  },
  {
   "cell_type": "code",
   "execution_count": null,
   "id": "4d094e33",
   "metadata": {
    "ExecuteTime": {
     "end_time": "2023-05-25T13:28:15.961331Z",
     "start_time": "2023-05-25T13:28:13.361434Z"
    }
   },
   "outputs": [],
   "source": [
    "import shap"
   ]
  },
  {
   "cell_type": "code",
   "execution_count": null,
   "id": "4f1c979b",
   "metadata": {
    "ExecuteTime": {
     "end_time": "2023-05-25T13:25:50.151302Z",
     "start_time": "2023-05-25T13:25:47.913005Z"
    }
   },
   "outputs": [],
   "source": [
    "# !pip install \"numpy<1.24.0\""
   ]
  },
  {
   "cell_type": "code",
   "execution_count": null,
   "id": "3a1edfe6",
   "metadata": {
    "ExecuteTime": {
     "end_time": "2023-05-25T13:28:20.150201Z",
     "start_time": "2023-05-25T13:28:20.139189Z"
    }
   },
   "outputs": [],
   "source": [
    "np.__version__"
   ]
  },
  {
   "cell_type": "code",
   "execution_count": null,
   "id": "80537d6c",
   "metadata": {
    "ExecuteTime": {
     "end_time": "2023-05-25T13:28:24.193117Z",
     "start_time": "2023-05-25T13:28:21.557169Z"
    }
   },
   "outputs": [],
   "source": [
    "model = XGBRegressor().fit(x_train, y_train)\n",
    "\n",
    "explainer = shap.TreeExplainer(model) # Tree model Shap Value 확인 객체 지정\n",
    "shap_values = explainer.shap_values(x_train) # Shap Values 계산"
   ]
  },
  {
   "cell_type": "code",
   "execution_count": null,
   "id": "fa5bf48c",
   "metadata": {
    "ExecuteTime": {
     "end_time": "2023-05-25T13:28:26.516399Z",
     "start_time": "2023-05-25T13:28:25.306690Z"
    }
   },
   "outputs": [],
   "source": [
    "shap.summary_plot(shap_values, x_train)"
   ]
  },
  {
   "cell_type": "code",
   "execution_count": null,
   "id": "eda91d47",
   "metadata": {
    "ExecuteTime": {
     "end_time": "2023-05-25T13:30:34.258593Z",
     "start_time": "2023-05-25T13:30:34.035189Z"
    },
    "scrolled": true
   },
   "outputs": [],
   "source": [
    "shap.summary_plot(shap_values, x_train, plot_type=\"bar\")\n"
   ]
  },
  {
   "cell_type": "markdown",
   "id": "f3a90f16",
   "metadata": {},
   "source": [
    "#### 공적분 관계가 높은 feature만 가지고 회귀 분석"
   ]
  },
  {
   "cell_type": "markdown",
   "id": "926ca727",
   "metadata": {
    "ExecuteTime": {
     "end_time": "2023-05-25T13:48:13.003950Z",
     "start_time": "2023-05-25T13:48:12.995894Z"
    }
   },
   "source": [
    "feature_importance가 높게 나온 hsi 지수, 유의미한 공적분 관계인 지표인 금, 일본 국채 5년물만 가지고 다시 예측"
   ]
  },
  {
   "cell_type": "code",
   "execution_count": 19,
   "id": "0f7d1df3",
   "metadata": {
    "ExecuteTime": {
     "end_time": "2023-05-26T14:05:03.516989Z",
     "start_time": "2023-05-26T14:05:03.510992Z"
    }
   },
   "outputs": [],
   "source": [
    "train_importance = train_all[['gold_Close', 'jap_bond_yield_5_Close', 'hsi_Close', 'kospi_Close', 'day2', 'day', 'month', 'quarter']].copy()"
   ]
  },
  {
   "cell_type": "code",
   "execution_count": 20,
   "id": "e654c5e5",
   "metadata": {
    "ExecuteTime": {
     "end_time": "2023-05-26T14:05:04.463622Z",
     "start_time": "2023-05-26T14:05:04.450989Z"
    }
   },
   "outputs": [
    {
     "data": {
      "text/html": [
       "<div>\n",
       "<style scoped>\n",
       "    .dataframe tbody tr th:only-of-type {\n",
       "        vertical-align: middle;\n",
       "    }\n",
       "\n",
       "    .dataframe tbody tr th {\n",
       "        vertical-align: top;\n",
       "    }\n",
       "\n",
       "    .dataframe thead th {\n",
       "        text-align: right;\n",
       "    }\n",
       "</style>\n",
       "<table border=\"1\" class=\"dataframe\">\n",
       "  <thead>\n",
       "    <tr style=\"text-align: right;\">\n",
       "      <th></th>\n",
       "      <th>gold_Close</th>\n",
       "      <th>jap_bond_yield_5_Close</th>\n",
       "      <th>hsi_Close</th>\n",
       "      <th>kospi_Close</th>\n",
       "      <th>day2</th>\n",
       "      <th>day</th>\n",
       "      <th>month</th>\n",
       "      <th>quarter</th>\n",
       "    </tr>\n",
       "  </thead>\n",
       "  <tbody>\n",
       "    <tr>\n",
       "      <th>0</th>\n",
       "      <td>398.7</td>\n",
       "      <td>1.403</td>\n",
       "      <td>14573.21</td>\n",
       "      <td>908.59</td>\n",
       "      <td>3</td>\n",
       "      <td>2</td>\n",
       "      <td>1</td>\n",
       "      <td>1</td>\n",
       "    </tr>\n",
       "    <tr>\n",
       "      <th>1</th>\n",
       "      <td>403.2</td>\n",
       "      <td>1.403</td>\n",
       "      <td>14573.21</td>\n",
       "      <td>928.82</td>\n",
       "      <td>4</td>\n",
       "      <td>3</td>\n",
       "      <td>1</td>\n",
       "      <td>1</td>\n",
       "    </tr>\n",
       "    <tr>\n",
       "      <th>2</th>\n",
       "      <td>410.9</td>\n",
       "      <td>1.403</td>\n",
       "      <td>14573.21</td>\n",
       "      <td>915.11</td>\n",
       "      <td>5</td>\n",
       "      <td>4</td>\n",
       "      <td>1</td>\n",
       "      <td>1</td>\n",
       "    </tr>\n",
       "    <tr>\n",
       "      <th>3</th>\n",
       "      <td>410.9</td>\n",
       "      <td>1.403</td>\n",
       "      <td>14573.21</td>\n",
       "      <td>912.86</td>\n",
       "      <td>6</td>\n",
       "      <td>5</td>\n",
       "      <td>1</td>\n",
       "      <td>1</td>\n",
       "    </tr>\n",
       "    <tr>\n",
       "      <th>4</th>\n",
       "      <td>407.2</td>\n",
       "      <td>1.403</td>\n",
       "      <td>14573.21</td>\n",
       "      <td>919.46</td>\n",
       "      <td>8</td>\n",
       "      <td>0</td>\n",
       "      <td>1</td>\n",
       "      <td>1</td>\n",
       "    </tr>\n",
       "    <tr>\n",
       "      <th>...</th>\n",
       "      <td>...</td>\n",
       "      <td>...</td>\n",
       "      <td>...</td>\n",
       "      <td>...</td>\n",
       "      <td>...</td>\n",
       "      <td>...</td>\n",
       "      <td>...</td>\n",
       "      <td>...</td>\n",
       "    </tr>\n",
       "    <tr>\n",
       "      <th>8616</th>\n",
       "      <td>1834.6</td>\n",
       "      <td>0.229</td>\n",
       "      <td>19925.74</td>\n",
       "      <td>2419.09</td>\n",
       "      <td>68</td>\n",
       "      <td>3</td>\n",
       "      <td>3</td>\n",
       "      <td>1</td>\n",
       "    </tr>\n",
       "    <tr>\n",
       "      <th>8617</th>\n",
       "      <td>1867.2</td>\n",
       "      <td>0.195</td>\n",
       "      <td>19319.92</td>\n",
       "      <td>2394.59</td>\n",
       "      <td>69</td>\n",
       "      <td>4</td>\n",
       "      <td>3</td>\n",
       "      <td>1</td>\n",
       "    </tr>\n",
       "    <tr>\n",
       "      <th>8618</th>\n",
       "      <td>1916.5</td>\n",
       "      <td>0.170</td>\n",
       "      <td>19695.97</td>\n",
       "      <td>2410.60</td>\n",
       "      <td>72</td>\n",
       "      <td>0</td>\n",
       "      <td>3</td>\n",
       "      <td>1</td>\n",
       "    </tr>\n",
       "    <tr>\n",
       "      <th>8619</th>\n",
       "      <td>1910.9</td>\n",
       "      <td>0.121</td>\n",
       "      <td>19247.96</td>\n",
       "      <td>2348.97</td>\n",
       "      <td>73</td>\n",
       "      <td>1</td>\n",
       "      <td>3</td>\n",
       "      <td>1</td>\n",
       "    </tr>\n",
       "    <tr>\n",
       "      <th>8620</th>\n",
       "      <td>1948.1</td>\n",
       "      <td>0.129</td>\n",
       "      <td>19539.87</td>\n",
       "      <td>2379.72</td>\n",
       "      <td>74</td>\n",
       "      <td>2</td>\n",
       "      <td>3</td>\n",
       "      <td>1</td>\n",
       "    </tr>\n",
       "  </tbody>\n",
       "</table>\n",
       "<p>8621 rows × 8 columns</p>\n",
       "</div>"
      ],
      "text/plain": [
       "      gold_Close  jap_bond_yield_5_Close  hsi_Close  kospi_Close  day2  day  \\\n",
       "0          398.7                   1.403   14573.21       908.59     3    2   \n",
       "1          403.2                   1.403   14573.21       928.82     4    3   \n",
       "2          410.9                   1.403   14573.21       915.11     5    4   \n",
       "3          410.9                   1.403   14573.21       912.86     6    5   \n",
       "4          407.2                   1.403   14573.21       919.46     8    0   \n",
       "...          ...                     ...        ...          ...   ...  ...   \n",
       "8616      1834.6                   0.229   19925.74      2419.09    68    3   \n",
       "8617      1867.2                   0.195   19319.92      2394.59    69    4   \n",
       "8618      1916.5                   0.170   19695.97      2410.60    72    0   \n",
       "8619      1910.9                   0.121   19247.96      2348.97    73    1   \n",
       "8620      1948.1                   0.129   19539.87      2379.72    74    2   \n",
       "\n",
       "      month  quarter  \n",
       "0         1        1  \n",
       "1         1        1  \n",
       "2         1        1  \n",
       "3         1        1  \n",
       "4         1        1  \n",
       "...     ...      ...  \n",
       "8616      3        1  \n",
       "8617      3        1  \n",
       "8618      3        1  \n",
       "8619      3        1  \n",
       "8620      3        1  \n",
       "\n",
       "[8621 rows x 8 columns]"
      ]
     },
     "execution_count": 20,
     "metadata": {},
     "output_type": "execute_result"
    }
   ],
   "source": [
    "train_importance"
   ]
  },
  {
   "cell_type": "code",
   "execution_count": null,
   "id": "9c159b43",
   "metadata": {
    "ExecuteTime": {
     "end_time": "2023-05-26T12:01:33.792805Z",
     "start_time": "2023-05-26T12:01:33.773920Z"
    }
   },
   "outputs": [],
   "source": [
    "x = train_importance.drop('kospi_Close', axis=1)\n",
    "y = train_importance.kospi_Close"
   ]
  },
  {
   "cell_type": "code",
   "execution_count": null,
   "id": "c654a4b7",
   "metadata": {
    "ExecuteTime": {
     "end_time": "2023-05-26T12:01:34.400407Z",
     "start_time": "2023-05-26T12:01:34.389438Z"
    }
   },
   "outputs": [],
   "source": [
    "y_train, y_valid, x_train, x_valid = temporal_train_test_split(X = x, y = y, test_size = 0.2)"
   ]
  },
  {
   "cell_type": "code",
   "execution_count": null,
   "id": "330e7ade",
   "metadata": {
    "ExecuteTime": {
     "end_time": "2023-05-26T12:01:38.375827Z",
     "start_time": "2023-05-26T12:01:38.148435Z"
    }
   },
   "outputs": [],
   "source": [
    "print('train data shape\\nx:{}, y:{}'.format(x_train.shape, y_train.shape))\n",
    "\n",
    "plot_series(y_train, y_valid, markers=[',' , ','])\n",
    "plt.show()"
   ]
  },
  {
   "cell_type": "code",
   "execution_count": null,
   "id": "f8d24f04",
   "metadata": {
    "ExecuteTime": {
     "end_time": "2023-05-26T12:01:44.584272Z",
     "start_time": "2023-05-26T12:01:44.197335Z"
    }
   },
   "outputs": [],
   "source": [
    "xgb_reg = XGBRegressor()\n",
    "\n",
    "xgb_reg.fit(x_train, y_train, eval_set=[(x_train, y_train), (x_valid, y_valid)],\n",
    "            early_stopping_rounds=300, verbose=False)"
   ]
  },
  {
   "cell_type": "code",
   "execution_count": null,
   "id": "6873937c",
   "metadata": {
    "ExecuteTime": {
     "end_time": "2023-05-26T12:01:48.959230Z",
     "start_time": "2023-05-26T12:01:48.617144Z"
    },
    "scrolled": true
   },
   "outputs": [],
   "source": [
    "## 주황색 : 실제값, 초록색 : 예측값\n",
    "\n",
    "pred = xgb_reg.predict(x_valid)\n",
    "pred = pd.Series(pred)\n",
    "pred.index = np.arange(y_valid.index[0], y_valid.index[-1]+1)\n",
    "plot_series(y_train, y_valid, pd.Series(pred), markers=[',' , ',', ','])\n",
    "\n",
    "print('best iterations: {}'.format(xgb_reg.best_iteration))\n",
    "# print('SMAPE : {}'.format(SMAPE(y_valid, pred)))"
   ]
  },
  {
   "cell_type": "code",
   "execution_count": null,
   "id": "537bb668",
   "metadata": {
    "ExecuteTime": {
     "end_time": "2023-05-26T12:02:17.434364Z",
     "start_time": "2023-05-26T12:02:17.248477Z"
    }
   },
   "outputs": [],
   "source": [
    "plt.figure(figsize=(8,6))\n",
    "plt.plot(y_valid, label = \"original\")\n",
    "plt.plot(pred, label = \"predicted\")\n",
    "\n",
    "plt.title('Importance_Feature_Trained_XGBoost')\n",
    "plt.legend()\n",
    "plt.show()"
   ]
  },
  {
   "cell_type": "markdown",
   "id": "4b4121fb",
   "metadata": {},
   "source": [
    "💛 Evaluation"
   ]
  },
  {
   "cell_type": "code",
   "execution_count": null,
   "id": "98da5e1a",
   "metadata": {
    "ExecuteTime": {
     "end_time": "2023-05-26T12:02:48.612813Z",
     "start_time": "2023-05-26T12:02:48.602816Z"
    }
   },
   "outputs": [],
   "source": [
    "print('MSE: %f' % MSE(y_valid, pred))\n",
    "print('RMSE: %f' % RMSE(MSE(y_valid, pred)))    \n",
    "print('MAE: %f' % MAE(y_valid, pred))\n",
    "print('MAPE: %f' % MAPE(y_valid, pred))"
   ]
  },
  {
   "cell_type": "markdown",
   "id": "1e963900",
   "metadata": {},
   "source": [
    "💛 Feature Importance"
   ]
  },
  {
   "cell_type": "code",
   "execution_count": null,
   "id": "cae6ee63",
   "metadata": {
    "ExecuteTime": {
     "end_time": "2023-05-25T14:01:16.055845Z",
     "start_time": "2023-05-25T14:01:14.958780Z"
    },
    "scrolled": false
   },
   "outputs": [],
   "source": [
    "# fig, axes = plt.subplots(nrows=2, ncols=3, figsize=(50,50))\n",
    "fig, axes = plt.subplots(nrows=2, ncols=2, figsize=(50,50))\n",
    "\n",
    "axes = [ax for row_axes in axes for ax in row_axes]\n",
    "model = xgb_reg\n",
    "\n",
    "xgboost.plot_importance(model, importance_type='gain', title=' xgboost_gain', xlabel='', grid=False, ax=axes[0])\n",
    "# xgboost.plot_importance(model, importance_type='cover', title='cover', xlabel='', grid=False, ax=axes[1])\n",
    "# xgboost.plot_importance(model, importance_type='weight', title='weight', xlabel='', grid=False, ax=axes[2])\n",
    "# xgboost.plot_importance(model, importance_type='total_gain', title='total_gain', xlabel='', grid=False, ax=axes[3])\n",
    "# xgboost.plot_importance(model, importance_type='total_cover', title='total_cover', xlabel='', grid=False, ax=axes[4])\n",
    "\n",
    "# plt.tight_layout()\n",
    "plt.show()"
   ]
  },
  {
   "cell_type": "markdown",
   "id": "a9717e73",
   "metadata": {
    "ExecuteTime": {
     "end_time": "2023-05-25T12:53:39.890518Z",
     "start_time": "2023-05-25T12:53:39.876433Z"
    }
   },
   "source": [
    "#### SHAP"
   ]
  },
  {
   "cell_type": "markdown",
   "id": "91fbf64e",
   "metadata": {},
   "source": [
    "https://www.kaggle.com/code/bryanb/xgboost-explainability-with-shap"
   ]
  },
  {
   "cell_type": "code",
   "execution_count": null,
   "id": "723b86f2",
   "metadata": {
    "ExecuteTime": {
     "end_time": "2023-05-25T12:55:31.758554Z",
     "start_time": "2023-05-25T12:54:56.355338Z"
    }
   },
   "outputs": [],
   "source": [
    "# !pip install shap "
   ]
  },
  {
   "cell_type": "code",
   "execution_count": null,
   "id": "d1c3439a",
   "metadata": {
    "ExecuteTime": {
     "end_time": "2023-05-25T13:28:15.961331Z",
     "start_time": "2023-05-25T13:28:13.361434Z"
    }
   },
   "outputs": [],
   "source": [
    "import shap"
   ]
  },
  {
   "cell_type": "code",
   "execution_count": null,
   "id": "63eb6979",
   "metadata": {
    "ExecuteTime": {
     "end_time": "2023-05-25T13:25:50.151302Z",
     "start_time": "2023-05-25T13:25:47.913005Z"
    }
   },
   "outputs": [],
   "source": [
    "# !pip install \"numpy<1.24.0\""
   ]
  },
  {
   "cell_type": "code",
   "execution_count": null,
   "id": "365789ea",
   "metadata": {
    "ExecuteTime": {
     "end_time": "2023-05-25T13:28:20.150201Z",
     "start_time": "2023-05-25T13:28:20.139189Z"
    }
   },
   "outputs": [],
   "source": [
    "np.__version__"
   ]
  },
  {
   "cell_type": "code",
   "execution_count": null,
   "id": "a0b931a9",
   "metadata": {
    "ExecuteTime": {
     "end_time": "2023-05-25T14:02:45.865824Z",
     "start_time": "2023-05-25T14:02:44.383790Z"
    }
   },
   "outputs": [],
   "source": [
    "model = XGBRegressor().fit(x_train, y_train)\n",
    "\n",
    "explainer = shap.TreeExplainer(model) # Tree model Shap Value 확인 객체 지정\n",
    "shap_values = explainer.shap_values(x_train) # Shap Values 계산"
   ]
  },
  {
   "cell_type": "code",
   "execution_count": null,
   "id": "1db161c8",
   "metadata": {
    "ExecuteTime": {
     "end_time": "2023-05-25T14:02:46.404384Z",
     "start_time": "2023-05-25T14:02:45.869818Z"
    }
   },
   "outputs": [],
   "source": [
    "shap.summary_plot(shap_values, x_train)"
   ]
  },
  {
   "cell_type": "code",
   "execution_count": null,
   "id": "aebd8a21",
   "metadata": {
    "ExecuteTime": {
     "end_time": "2023-05-25T13:30:34.258593Z",
     "start_time": "2023-05-25T13:30:34.035189Z"
    },
    "scrolled": true
   },
   "outputs": [],
   "source": [
    "shap.summary_plot(shap_values, x_train, plot_type=\"bar\")\n"
   ]
  },
  {
   "cell_type": "markdown",
   "id": "78d6dca0",
   "metadata": {},
   "source": [
    "#### Parameter Tuning"
   ]
  },
  {
   "cell_type": "code",
   "execution_count": 21,
   "id": "feb54cc1",
   "metadata": {
    "ExecuteTime": {
     "end_time": "2023-05-26T14:05:19.219077Z",
     "start_time": "2023-05-26T14:05:19.215619Z"
    }
   },
   "outputs": [],
   "source": [
    "from sklearn.model_selection import PredefinedSplit, GridSearchCV"
   ]
  },
  {
   "cell_type": "code",
   "execution_count": 28,
   "id": "35fe747f",
   "metadata": {
    "ExecuteTime": {
     "end_time": "2023-05-26T16:02:27.467604Z",
     "start_time": "2023-05-26T14:31:35.663859Z"
    },
    "scrolled": true
   },
   "outputs": [
    {
     "name": "stderr",
     "output_type": "stream",
     "text": [
      "\r",
      "  0%|                                                                             | 0/60 [00:00<?, ?it/s]"
     ]
    },
    {
     "name": "stdout",
     "output_type": "stream",
     "text": [
      "Fitting 5 folds for each of 168 candidates, totalling 840 fits\n"
     ]
    },
    {
     "name": "stderr",
     "output_type": "stream",
     "text": [
      "\r",
      "  2%|█                                                                 | 1/60 [03:32<3:28:45, 212.29s/it]"
     ]
    },
    {
     "name": "stdout",
     "output_type": "stream",
     "text": [
      "{'colsample_bytree': 0.8, 'eta': 0.01, 'max_depth': 5, 'min_child_weight': 7, 'n_estimators': 100, 'subsample': 0.9}\n",
      "Fitting 5 folds for each of 168 candidates, totalling 840 fits\n"
     ]
    },
    {
     "name": "stderr",
     "output_type": "stream",
     "text": [
      "\r",
      "  3%|██▏                                                               | 2/60 [07:04<3:25:14, 212.32s/it]"
     ]
    },
    {
     "name": "stdout",
     "output_type": "stream",
     "text": [
      "{'colsample_bytree': 0.8, 'eta': 0.01, 'max_depth': 5, 'min_child_weight': 7, 'n_estimators': 100, 'subsample': 0.9}\n",
      "Fitting 5 folds for each of 168 candidates, totalling 840 fits\n"
     ]
    },
    {
     "name": "stderr",
     "output_type": "stream",
     "text": [
      "\r",
      "  5%|███▎                                                              | 3/60 [10:36<3:21:31, 212.12s/it]"
     ]
    },
    {
     "name": "stdout",
     "output_type": "stream",
     "text": [
      "{'colsample_bytree': 0.8, 'eta': 0.01, 'max_depth': 5, 'min_child_weight': 7, 'n_estimators': 100, 'subsample': 0.9}\n",
      "Fitting 5 folds for each of 168 candidates, totalling 840 fits\n"
     ]
    },
    {
     "name": "stderr",
     "output_type": "stream",
     "text": [
      "\r",
      "  7%|████▍                                                             | 4/60 [14:08<3:18:02, 212.20s/it]"
     ]
    },
    {
     "name": "stdout",
     "output_type": "stream",
     "text": [
      "{'colsample_bytree': 0.8, 'eta': 0.01, 'max_depth': 5, 'min_child_weight': 7, 'n_estimators': 100, 'subsample': 0.9}\n",
      "Fitting 5 folds for each of 168 candidates, totalling 840 fits\n"
     ]
    },
    {
     "name": "stderr",
     "output_type": "stream",
     "text": [
      "\r",
      "  8%|█████▌                                                            | 5/60 [17:41<3:14:31, 212.21s/it]"
     ]
    },
    {
     "name": "stdout",
     "output_type": "stream",
     "text": [
      "{'colsample_bytree': 0.8, 'eta': 0.01, 'max_depth': 5, 'min_child_weight': 7, 'n_estimators': 100, 'subsample': 0.9}\n",
      "Fitting 5 folds for each of 168 candidates, totalling 840 fits\n"
     ]
    },
    {
     "name": "stderr",
     "output_type": "stream",
     "text": [
      "\r",
      " 10%|██████▌                                                           | 6/60 [21:13<3:11:06, 212.34s/it]"
     ]
    },
    {
     "name": "stdout",
     "output_type": "stream",
     "text": [
      "{'colsample_bytree': 0.8, 'eta': 0.01, 'max_depth': 5, 'min_child_weight': 7, 'n_estimators': 100, 'subsample': 0.9}\n",
      "Fitting 5 folds for each of 168 candidates, totalling 840 fits\n"
     ]
    },
    {
     "name": "stderr",
     "output_type": "stream",
     "text": [
      "\r",
      " 12%|███████▋                                                          | 7/60 [24:46<3:07:39, 212.45s/it]"
     ]
    },
    {
     "name": "stdout",
     "output_type": "stream",
     "text": [
      "{'colsample_bytree': 0.8, 'eta': 0.01, 'max_depth': 5, 'min_child_weight': 7, 'n_estimators': 100, 'subsample': 0.9}\n",
      "Fitting 5 folds for each of 168 candidates, totalling 840 fits\n"
     ]
    },
    {
     "name": "stderr",
     "output_type": "stream",
     "text": [
      "\r",
      " 13%|████████▊                                                         | 8/60 [28:18<3:04:01, 212.34s/it]"
     ]
    },
    {
     "name": "stdout",
     "output_type": "stream",
     "text": [
      "{'colsample_bytree': 0.8, 'eta': 0.01, 'max_depth': 5, 'min_child_weight': 7, 'n_estimators': 100, 'subsample': 0.9}\n",
      "Fitting 5 folds for each of 168 candidates, totalling 840 fits\n"
     ]
    },
    {
     "name": "stderr",
     "output_type": "stream",
     "text": [
      "\r",
      " 15%|█████████▉                                                        | 9/60 [31:50<3:00:30, 212.36s/it]"
     ]
    },
    {
     "name": "stdout",
     "output_type": "stream",
     "text": [
      "{'colsample_bytree': 0.8, 'eta': 0.01, 'max_depth': 5, 'min_child_weight': 7, 'n_estimators': 100, 'subsample': 0.9}\n",
      "Fitting 5 folds for each of 168 candidates, totalling 840 fits\n"
     ]
    },
    {
     "name": "stderr",
     "output_type": "stream",
     "text": [
      "\r",
      " 17%|██████████▊                                                      | 10/60 [35:23<2:56:55, 212.30s/it]"
     ]
    },
    {
     "name": "stdout",
     "output_type": "stream",
     "text": [
      "{'colsample_bytree': 0.8, 'eta': 0.01, 'max_depth': 5, 'min_child_weight': 7, 'n_estimators': 100, 'subsample': 0.9}\n",
      "Fitting 5 folds for each of 168 candidates, totalling 840 fits\n"
     ]
    },
    {
     "name": "stderr",
     "output_type": "stream",
     "text": [
      "\r",
      " 18%|███████████▉                                                     | 11/60 [38:55<2:53:30, 212.45s/it]"
     ]
    },
    {
     "name": "stdout",
     "output_type": "stream",
     "text": [
      "{'colsample_bytree': 0.8, 'eta': 0.01, 'max_depth': 5, 'min_child_weight': 7, 'n_estimators': 100, 'subsample': 0.9}\n",
      "Fitting 5 folds for each of 168 candidates, totalling 840 fits\n"
     ]
    },
    {
     "name": "stderr",
     "output_type": "stream",
     "text": [
      "\r",
      " 20%|█████████████                                                    | 12/60 [42:29<2:50:10, 212.72s/it]"
     ]
    },
    {
     "name": "stdout",
     "output_type": "stream",
     "text": [
      "{'colsample_bytree': 0.8, 'eta': 0.01, 'max_depth': 5, 'min_child_weight': 7, 'n_estimators': 100, 'subsample': 0.9}\n",
      "Fitting 5 folds for each of 168 candidates, totalling 840 fits\n"
     ]
    },
    {
     "name": "stderr",
     "output_type": "stream",
     "text": [
      "\r",
      " 22%|██████████████                                                   | 13/60 [46:01<2:46:37, 212.72s/it]"
     ]
    },
    {
     "name": "stdout",
     "output_type": "stream",
     "text": [
      "{'colsample_bytree': 0.8, 'eta': 0.01, 'max_depth': 5, 'min_child_weight': 7, 'n_estimators': 100, 'subsample': 0.9}\n",
      "Fitting 5 folds for each of 168 candidates, totalling 840 fits\n"
     ]
    },
    {
     "name": "stderr",
     "output_type": "stream",
     "text": [
      "\r",
      " 23%|███████████████▏                                                 | 14/60 [49:34<2:42:59, 212.60s/it]"
     ]
    },
    {
     "name": "stdout",
     "output_type": "stream",
     "text": [
      "{'colsample_bytree': 0.8, 'eta': 0.01, 'max_depth': 5, 'min_child_weight': 7, 'n_estimators': 100, 'subsample': 0.9}\n",
      "Fitting 5 folds for each of 168 candidates, totalling 840 fits\n"
     ]
    },
    {
     "name": "stderr",
     "output_type": "stream",
     "text": [
      "\r",
      " 25%|████████████████▎                                                | 15/60 [53:06<2:39:23, 212.52s/it]"
     ]
    },
    {
     "name": "stdout",
     "output_type": "stream",
     "text": [
      "{'colsample_bytree': 0.8, 'eta': 0.01, 'max_depth': 5, 'min_child_weight': 7, 'n_estimators': 100, 'subsample': 0.9}\n",
      "Fitting 5 folds for each of 168 candidates, totalling 840 fits\n"
     ]
    },
    {
     "name": "stderr",
     "output_type": "stream",
     "text": [
      "\r",
      " 27%|█████████████████▎                                               | 16/60 [56:39<2:35:56, 212.65s/it]"
     ]
    },
    {
     "name": "stdout",
     "output_type": "stream",
     "text": [
      "{'colsample_bytree': 0.8, 'eta': 0.01, 'max_depth': 5, 'min_child_weight': 7, 'n_estimators': 100, 'subsample': 0.9}\n",
      "Fitting 5 folds for each of 168 candidates, totalling 840 fits\n"
     ]
    },
    {
     "name": "stderr",
     "output_type": "stream",
     "text": [
      "\r",
      " 28%|█████████████████▊                                             | 17/60 [1:00:12<2:32:30, 212.80s/it]"
     ]
    },
    {
     "name": "stdout",
     "output_type": "stream",
     "text": [
      "{'colsample_bytree': 0.8, 'eta': 0.01, 'max_depth': 5, 'min_child_weight': 7, 'n_estimators': 100, 'subsample': 0.9}\n",
      "Fitting 5 folds for each of 168 candidates, totalling 840 fits\n"
     ]
    },
    {
     "name": "stderr",
     "output_type": "stream",
     "text": [
      "\r",
      " 30%|██████████████████▉                                            | 18/60 [1:03:45<2:28:54, 212.72s/it]"
     ]
    },
    {
     "name": "stdout",
     "output_type": "stream",
     "text": [
      "{'colsample_bytree': 0.8, 'eta': 0.01, 'max_depth': 5, 'min_child_weight': 7, 'n_estimators': 100, 'subsample': 0.9}\n",
      "Fitting 5 folds for each of 168 candidates, totalling 840 fits\n"
     ]
    },
    {
     "name": "stderr",
     "output_type": "stream",
     "text": [
      "\r",
      " 32%|███████████████████▉                                           | 19/60 [1:07:17<2:25:20, 212.70s/it]"
     ]
    },
    {
     "name": "stdout",
     "output_type": "stream",
     "text": [
      "{'colsample_bytree': 0.8, 'eta': 0.01, 'max_depth': 5, 'min_child_weight': 7, 'n_estimators': 100, 'subsample': 0.9}\n",
      "Fitting 5 folds for each of 168 candidates, totalling 840 fits\n"
     ]
    },
    {
     "name": "stderr",
     "output_type": "stream",
     "text": [
      "\r",
      " 33%|█████████████████████                                          | 20/60 [1:10:50<2:21:48, 212.72s/it]"
     ]
    },
    {
     "name": "stdout",
     "output_type": "stream",
     "text": [
      "{'colsample_bytree': 0.8, 'eta': 0.01, 'max_depth': 5, 'min_child_weight': 7, 'n_estimators': 100, 'subsample': 0.9}\n",
      "Fitting 5 folds for each of 168 candidates, totalling 840 fits\n"
     ]
    },
    {
     "name": "stderr",
     "output_type": "stream",
     "text": [
      "\r",
      " 35%|██████████████████████                                         | 21/60 [1:14:23<2:18:18, 212.78s/it]"
     ]
    },
    {
     "name": "stdout",
     "output_type": "stream",
     "text": [
      "{'colsample_bytree': 0.8, 'eta': 0.01, 'max_depth': 5, 'min_child_weight': 7, 'n_estimators': 100, 'subsample': 0.9}\n",
      "Fitting 5 folds for each of 168 candidates, totalling 840 fits\n"
     ]
    },
    {
     "name": "stderr",
     "output_type": "stream",
     "text": [
      "\r",
      " 37%|███████████████████████                                        | 22/60 [1:17:55<2:14:37, 212.56s/it]"
     ]
    },
    {
     "name": "stdout",
     "output_type": "stream",
     "text": [
      "{'colsample_bytree': 0.8, 'eta': 0.01, 'max_depth': 5, 'min_child_weight': 7, 'n_estimators': 100, 'subsample': 0.9}\n",
      "Fitting 5 folds for each of 168 candidates, totalling 840 fits\n"
     ]
    },
    {
     "name": "stderr",
     "output_type": "stream",
     "text": [
      "\r",
      " 38%|████████████████████████▏                                      | 23/60 [1:21:28<2:11:04, 212.55s/it]"
     ]
    },
    {
     "name": "stdout",
     "output_type": "stream",
     "text": [
      "{'colsample_bytree': 0.8, 'eta': 0.01, 'max_depth': 5, 'min_child_weight': 7, 'n_estimators': 100, 'subsample': 0.9}\n",
      "Fitting 5 folds for each of 168 candidates, totalling 840 fits\n"
     ]
    },
    {
     "name": "stderr",
     "output_type": "stream",
     "text": [
      "\r",
      " 40%|█████████████████████████▏                                     | 24/60 [1:25:01<2:07:37, 212.72s/it]"
     ]
    },
    {
     "name": "stdout",
     "output_type": "stream",
     "text": [
      "{'colsample_bytree': 0.8, 'eta': 0.01, 'max_depth': 5, 'min_child_weight': 7, 'n_estimators': 100, 'subsample': 0.9}\n",
      "Fitting 5 folds for each of 168 candidates, totalling 840 fits\n"
     ]
    },
    {
     "name": "stderr",
     "output_type": "stream",
     "text": [
      "\r",
      " 42%|██████████████████████████▎                                    | 25/60 [1:28:33<2:04:03, 212.66s/it]"
     ]
    },
    {
     "name": "stdout",
     "output_type": "stream",
     "text": [
      "{'colsample_bytree': 0.8, 'eta': 0.01, 'max_depth': 5, 'min_child_weight': 7, 'n_estimators': 100, 'subsample': 0.9}\n",
      "Fitting 5 folds for each of 168 candidates, totalling 840 fits\n"
     ]
    },
    {
     "name": "stderr",
     "output_type": "stream",
     "text": [
      " 42%|██████████████████████████▎                                    | 25/60 [1:30:51<2:07:12, 218.06s/it]\n"
     ]
    },
    {
     "ename": "KeyboardInterrupt",
     "evalue": "",
     "output_type": "error",
     "traceback": [
      "\u001b[1;31m---------------------------------------------------------------------------\u001b[0m",
      "\u001b[1;31mKeyboardInterrupt\u001b[0m                         Traceback (most recent call last)",
      "Cell \u001b[1;32mIn[28], line 20\u001b[0m\n\u001b[0;32m     14\u001b[0m pds \u001b[38;5;241m=\u001b[39m PredefinedSplit(np\u001b[38;5;241m.\u001b[39mappend(\u001b[38;5;241m-\u001b[39mnp\u001b[38;5;241m.\u001b[39mones(\u001b[38;5;28mlen\u001b[39m(x)\u001b[38;5;241m-\u001b[39mll), np\u001b[38;5;241m.\u001b[39mzeros(ll)))\n\u001b[0;32m     15\u001b[0m gcv \u001b[38;5;241m=\u001b[39m GridSearchCV(estimator \u001b[38;5;241m=\u001b[39m XGBRegressor(gpu_id \u001b[38;5;241m=\u001b[39m \u001b[38;5;241m0\u001b[39m, tree_method \u001b[38;5;241m=\u001b[39m \u001b[38;5;124m'\u001b[39m\u001b[38;5;124mgpu_hist\u001b[39m\u001b[38;5;124m'\u001b[39m, predictor\u001b[38;5;241m=\u001b[39m \u001b[38;5;124m'\u001b[39m\u001b[38;5;124mgpu_predictor\u001b[39m\u001b[38;5;124m'\u001b[39m),\u001b[38;5;66;03m#seed = 0, gpu_id = 1, tree_method = 'gpu_hist', predictor= 'gpu_predictor'),\u001b[39;00m\n\u001b[0;32m     16\u001b[0m                    param_grid \u001b[38;5;241m=\u001b[39m grid, \u001b[38;5;66;03m# scoring = smape, \u001b[39;00m\n\u001b[0;32m     17\u001b[0m                    \u001b[38;5;66;03m#cv = pds, \u001b[39;00m\n\u001b[0;32m     18\u001b[0m                    refit \u001b[38;5;241m=\u001b[39m \u001b[38;5;28;01mTrue\u001b[39;00m, verbose \u001b[38;5;241m=\u001b[39m \u001b[38;5;28;01mTrue\u001b[39;00m)\n\u001b[1;32m---> 20\u001b[0m \u001b[43mgcv\u001b[49m\u001b[38;5;241;43m.\u001b[39;49m\u001b[43mfit\u001b[49m\u001b[43m(\u001b[49m\u001b[43mx_train\u001b[49m\u001b[43m,\u001b[49m\u001b[43m \u001b[49m\u001b[43my_train\u001b[49m\u001b[43m)\u001b[49m\n\u001b[0;32m     21\u001b[0m best \u001b[38;5;241m=\u001b[39m gcv\u001b[38;5;241m.\u001b[39mbest_estimator_\n\u001b[0;32m     22\u001b[0m params \u001b[38;5;241m=\u001b[39m gcv\u001b[38;5;241m.\u001b[39mbest_params_\n",
      "File \u001b[1;32mC:\\users\\hsl\\desktop\\lhs\\Lib\\site-packages\\sklearn\\model_selection\\_search.py:874\u001b[0m, in \u001b[0;36mBaseSearchCV.fit\u001b[1;34m(self, X, y, groups, **fit_params)\u001b[0m\n\u001b[0;32m    868\u001b[0m     results \u001b[38;5;241m=\u001b[39m \u001b[38;5;28mself\u001b[39m\u001b[38;5;241m.\u001b[39m_format_results(\n\u001b[0;32m    869\u001b[0m         all_candidate_params, n_splits, all_out, all_more_results\n\u001b[0;32m    870\u001b[0m     )\n\u001b[0;32m    872\u001b[0m     \u001b[38;5;28;01mreturn\u001b[39;00m results\n\u001b[1;32m--> 874\u001b[0m \u001b[38;5;28;43mself\u001b[39;49m\u001b[38;5;241;43m.\u001b[39;49m\u001b[43m_run_search\u001b[49m\u001b[43m(\u001b[49m\u001b[43mevaluate_candidates\u001b[49m\u001b[43m)\u001b[49m\n\u001b[0;32m    876\u001b[0m \u001b[38;5;66;03m# multimetric is determined here because in the case of a callable\u001b[39;00m\n\u001b[0;32m    877\u001b[0m \u001b[38;5;66;03m# self.scoring the return type is only known after calling\u001b[39;00m\n\u001b[0;32m    878\u001b[0m first_test_score \u001b[38;5;241m=\u001b[39m all_out[\u001b[38;5;241m0\u001b[39m][\u001b[38;5;124m\"\u001b[39m\u001b[38;5;124mtest_scores\u001b[39m\u001b[38;5;124m\"\u001b[39m]\n",
      "File \u001b[1;32mC:\\users\\hsl\\desktop\\lhs\\Lib\\site-packages\\sklearn\\model_selection\\_search.py:1388\u001b[0m, in \u001b[0;36mGridSearchCV._run_search\u001b[1;34m(self, evaluate_candidates)\u001b[0m\n\u001b[0;32m   1386\u001b[0m \u001b[38;5;28;01mdef\u001b[39;00m \u001b[38;5;21m_run_search\u001b[39m(\u001b[38;5;28mself\u001b[39m, evaluate_candidates):\n\u001b[0;32m   1387\u001b[0m \u001b[38;5;250m    \u001b[39m\u001b[38;5;124;03m\"\"\"Search all candidates in param_grid\"\"\"\u001b[39;00m\n\u001b[1;32m-> 1388\u001b[0m     \u001b[43mevaluate_candidates\u001b[49m\u001b[43m(\u001b[49m\u001b[43mParameterGrid\u001b[49m\u001b[43m(\u001b[49m\u001b[38;5;28;43mself\u001b[39;49m\u001b[38;5;241;43m.\u001b[39;49m\u001b[43mparam_grid\u001b[49m\u001b[43m)\u001b[49m\u001b[43m)\u001b[49m\n",
      "File \u001b[1;32mC:\\users\\hsl\\desktop\\lhs\\Lib\\site-packages\\sklearn\\model_selection\\_search.py:821\u001b[0m, in \u001b[0;36mBaseSearchCV.fit.<locals>.evaluate_candidates\u001b[1;34m(candidate_params, cv, more_results)\u001b[0m\n\u001b[0;32m    813\u001b[0m \u001b[38;5;28;01mif\u001b[39;00m \u001b[38;5;28mself\u001b[39m\u001b[38;5;241m.\u001b[39mverbose \u001b[38;5;241m>\u001b[39m \u001b[38;5;241m0\u001b[39m:\n\u001b[0;32m    814\u001b[0m     \u001b[38;5;28mprint\u001b[39m(\n\u001b[0;32m    815\u001b[0m         \u001b[38;5;124m\"\u001b[39m\u001b[38;5;124mFitting \u001b[39m\u001b[38;5;132;01m{0}\u001b[39;00m\u001b[38;5;124m folds for each of \u001b[39m\u001b[38;5;132;01m{1}\u001b[39;00m\u001b[38;5;124m candidates,\u001b[39m\u001b[38;5;124m\"\u001b[39m\n\u001b[0;32m    816\u001b[0m         \u001b[38;5;124m\"\u001b[39m\u001b[38;5;124m totalling \u001b[39m\u001b[38;5;132;01m{2}\u001b[39;00m\u001b[38;5;124m fits\u001b[39m\u001b[38;5;124m\"\u001b[39m\u001b[38;5;241m.\u001b[39mformat(\n\u001b[0;32m    817\u001b[0m             n_splits, n_candidates, n_candidates \u001b[38;5;241m*\u001b[39m n_splits\n\u001b[0;32m    818\u001b[0m         )\n\u001b[0;32m    819\u001b[0m     )\n\u001b[1;32m--> 821\u001b[0m out \u001b[38;5;241m=\u001b[39m \u001b[43mparallel\u001b[49m\u001b[43m(\u001b[49m\n\u001b[0;32m    822\u001b[0m \u001b[43m    \u001b[49m\u001b[43mdelayed\u001b[49m\u001b[43m(\u001b[49m\u001b[43m_fit_and_score\u001b[49m\u001b[43m)\u001b[49m\u001b[43m(\u001b[49m\n\u001b[0;32m    823\u001b[0m \u001b[43m        \u001b[49m\u001b[43mclone\u001b[49m\u001b[43m(\u001b[49m\u001b[43mbase_estimator\u001b[49m\u001b[43m)\u001b[49m\u001b[43m,\u001b[49m\n\u001b[0;32m    824\u001b[0m \u001b[43m        \u001b[49m\u001b[43mX\u001b[49m\u001b[43m,\u001b[49m\n\u001b[0;32m    825\u001b[0m \u001b[43m        \u001b[49m\u001b[43my\u001b[49m\u001b[43m,\u001b[49m\n\u001b[0;32m    826\u001b[0m \u001b[43m        \u001b[49m\u001b[43mtrain\u001b[49m\u001b[38;5;241;43m=\u001b[39;49m\u001b[43mtrain\u001b[49m\u001b[43m,\u001b[49m\n\u001b[0;32m    827\u001b[0m \u001b[43m        \u001b[49m\u001b[43mtest\u001b[49m\u001b[38;5;241;43m=\u001b[39;49m\u001b[43mtest\u001b[49m\u001b[43m,\u001b[49m\n\u001b[0;32m    828\u001b[0m \u001b[43m        \u001b[49m\u001b[43mparameters\u001b[49m\u001b[38;5;241;43m=\u001b[39;49m\u001b[43mparameters\u001b[49m\u001b[43m,\u001b[49m\n\u001b[0;32m    829\u001b[0m \u001b[43m        \u001b[49m\u001b[43msplit_progress\u001b[49m\u001b[38;5;241;43m=\u001b[39;49m\u001b[43m(\u001b[49m\u001b[43msplit_idx\u001b[49m\u001b[43m,\u001b[49m\u001b[43m \u001b[49m\u001b[43mn_splits\u001b[49m\u001b[43m)\u001b[49m\u001b[43m,\u001b[49m\n\u001b[0;32m    830\u001b[0m \u001b[43m        \u001b[49m\u001b[43mcandidate_progress\u001b[49m\u001b[38;5;241;43m=\u001b[39;49m\u001b[43m(\u001b[49m\u001b[43mcand_idx\u001b[49m\u001b[43m,\u001b[49m\u001b[43m \u001b[49m\u001b[43mn_candidates\u001b[49m\u001b[43m)\u001b[49m\u001b[43m,\u001b[49m\n\u001b[0;32m    831\u001b[0m \u001b[43m        \u001b[49m\u001b[38;5;241;43m*\u001b[39;49m\u001b[38;5;241;43m*\u001b[39;49m\u001b[43mfit_and_score_kwargs\u001b[49m\u001b[43m,\u001b[49m\n\u001b[0;32m    832\u001b[0m \u001b[43m    \u001b[49m\u001b[43m)\u001b[49m\n\u001b[0;32m    833\u001b[0m \u001b[43m    \u001b[49m\u001b[38;5;28;43;01mfor\u001b[39;49;00m\u001b[43m \u001b[49m\u001b[43m(\u001b[49m\u001b[43mcand_idx\u001b[49m\u001b[43m,\u001b[49m\u001b[43m \u001b[49m\u001b[43mparameters\u001b[49m\u001b[43m)\u001b[49m\u001b[43m,\u001b[49m\u001b[43m \u001b[49m\u001b[43m(\u001b[49m\u001b[43msplit_idx\u001b[49m\u001b[43m,\u001b[49m\u001b[43m \u001b[49m\u001b[43m(\u001b[49m\u001b[43mtrain\u001b[49m\u001b[43m,\u001b[49m\u001b[43m \u001b[49m\u001b[43mtest\u001b[49m\u001b[43m)\u001b[49m\u001b[43m)\u001b[49m\u001b[43m \u001b[49m\u001b[38;5;129;43;01min\u001b[39;49;00m\u001b[43m \u001b[49m\u001b[43mproduct\u001b[49m\u001b[43m(\u001b[49m\n\u001b[0;32m    834\u001b[0m \u001b[43m        \u001b[49m\u001b[38;5;28;43menumerate\u001b[39;49m\u001b[43m(\u001b[49m\u001b[43mcandidate_params\u001b[49m\u001b[43m)\u001b[49m\u001b[43m,\u001b[49m\u001b[43m \u001b[49m\u001b[38;5;28;43menumerate\u001b[39;49m\u001b[43m(\u001b[49m\u001b[43mcv\u001b[49m\u001b[38;5;241;43m.\u001b[39;49m\u001b[43msplit\u001b[49m\u001b[43m(\u001b[49m\u001b[43mX\u001b[49m\u001b[43m,\u001b[49m\u001b[43m \u001b[49m\u001b[43my\u001b[49m\u001b[43m,\u001b[49m\u001b[43m \u001b[49m\u001b[43mgroups\u001b[49m\u001b[43m)\u001b[49m\u001b[43m)\u001b[49m\n\u001b[0;32m    835\u001b[0m \u001b[43m    \u001b[49m\u001b[43m)\u001b[49m\n\u001b[0;32m    836\u001b[0m \u001b[43m\u001b[49m\u001b[43m)\u001b[49m\n\u001b[0;32m    838\u001b[0m \u001b[38;5;28;01mif\u001b[39;00m \u001b[38;5;28mlen\u001b[39m(out) \u001b[38;5;241m<\u001b[39m \u001b[38;5;241m1\u001b[39m:\n\u001b[0;32m    839\u001b[0m     \u001b[38;5;28;01mraise\u001b[39;00m \u001b[38;5;167;01mValueError\u001b[39;00m(\n\u001b[0;32m    840\u001b[0m         \u001b[38;5;124m\"\u001b[39m\u001b[38;5;124mNo fits were performed. \u001b[39m\u001b[38;5;124m\"\u001b[39m\n\u001b[0;32m    841\u001b[0m         \u001b[38;5;124m\"\u001b[39m\u001b[38;5;124mWas the CV iterator empty? \u001b[39m\u001b[38;5;124m\"\u001b[39m\n\u001b[0;32m    842\u001b[0m         \u001b[38;5;124m\"\u001b[39m\u001b[38;5;124mWere there no candidates?\u001b[39m\u001b[38;5;124m\"\u001b[39m\n\u001b[0;32m    843\u001b[0m     )\n",
      "File \u001b[1;32mC:\\users\\hsl\\desktop\\lhs\\Lib\\site-packages\\sklearn\\utils\\parallel.py:63\u001b[0m, in \u001b[0;36mParallel.__call__\u001b[1;34m(self, iterable)\u001b[0m\n\u001b[0;32m     58\u001b[0m config \u001b[38;5;241m=\u001b[39m get_config()\n\u001b[0;32m     59\u001b[0m iterable_with_config \u001b[38;5;241m=\u001b[39m (\n\u001b[0;32m     60\u001b[0m     (_with_config(delayed_func, config), args, kwargs)\n\u001b[0;32m     61\u001b[0m     \u001b[38;5;28;01mfor\u001b[39;00m delayed_func, args, kwargs \u001b[38;5;129;01min\u001b[39;00m iterable\n\u001b[0;32m     62\u001b[0m )\n\u001b[1;32m---> 63\u001b[0m \u001b[38;5;28;01mreturn\u001b[39;00m \u001b[38;5;28;43msuper\u001b[39;49m\u001b[43m(\u001b[49m\u001b[43m)\u001b[49m\u001b[38;5;241;43m.\u001b[39;49m\u001b[38;5;21;43m__call__\u001b[39;49m\u001b[43m(\u001b[49m\u001b[43miterable_with_config\u001b[49m\u001b[43m)\u001b[49m\n",
      "File \u001b[1;32mC:\\users\\hsl\\desktop\\lhs\\Lib\\site-packages\\joblib\\parallel.py:1088\u001b[0m, in \u001b[0;36mParallel.__call__\u001b[1;34m(self, iterable)\u001b[0m\n\u001b[0;32m   1085\u001b[0m \u001b[38;5;28;01mif\u001b[39;00m \u001b[38;5;28mself\u001b[39m\u001b[38;5;241m.\u001b[39mdispatch_one_batch(iterator):\n\u001b[0;32m   1086\u001b[0m     \u001b[38;5;28mself\u001b[39m\u001b[38;5;241m.\u001b[39m_iterating \u001b[38;5;241m=\u001b[39m \u001b[38;5;28mself\u001b[39m\u001b[38;5;241m.\u001b[39m_original_iterator \u001b[38;5;129;01mis\u001b[39;00m \u001b[38;5;129;01mnot\u001b[39;00m \u001b[38;5;28;01mNone\u001b[39;00m\n\u001b[1;32m-> 1088\u001b[0m \u001b[38;5;28;01mwhile\u001b[39;00m \u001b[38;5;28;43mself\u001b[39;49m\u001b[38;5;241;43m.\u001b[39;49m\u001b[43mdispatch_one_batch\u001b[49m\u001b[43m(\u001b[49m\u001b[43miterator\u001b[49m\u001b[43m)\u001b[49m:\n\u001b[0;32m   1089\u001b[0m     \u001b[38;5;28;01mpass\u001b[39;00m\n\u001b[0;32m   1091\u001b[0m \u001b[38;5;28;01mif\u001b[39;00m pre_dispatch \u001b[38;5;241m==\u001b[39m \u001b[38;5;124m\"\u001b[39m\u001b[38;5;124mall\u001b[39m\u001b[38;5;124m\"\u001b[39m \u001b[38;5;129;01mor\u001b[39;00m n_jobs \u001b[38;5;241m==\u001b[39m \u001b[38;5;241m1\u001b[39m:\n\u001b[0;32m   1092\u001b[0m     \u001b[38;5;66;03m# The iterable was consumed all at once by the above for loop.\u001b[39;00m\n\u001b[0;32m   1093\u001b[0m     \u001b[38;5;66;03m# No need to wait for async callbacks to trigger to\u001b[39;00m\n\u001b[0;32m   1094\u001b[0m     \u001b[38;5;66;03m# consumption.\u001b[39;00m\n",
      "File \u001b[1;32mC:\\users\\hsl\\desktop\\lhs\\Lib\\site-packages\\joblib\\parallel.py:901\u001b[0m, in \u001b[0;36mParallel.dispatch_one_batch\u001b[1;34m(self, iterator)\u001b[0m\n\u001b[0;32m    899\u001b[0m     \u001b[38;5;28;01mreturn\u001b[39;00m \u001b[38;5;28;01mFalse\u001b[39;00m\n\u001b[0;32m    900\u001b[0m \u001b[38;5;28;01melse\u001b[39;00m:\n\u001b[1;32m--> 901\u001b[0m     \u001b[38;5;28;43mself\u001b[39;49m\u001b[38;5;241;43m.\u001b[39;49m\u001b[43m_dispatch\u001b[49m\u001b[43m(\u001b[49m\u001b[43mtasks\u001b[49m\u001b[43m)\u001b[49m\n\u001b[0;32m    902\u001b[0m     \u001b[38;5;28;01mreturn\u001b[39;00m \u001b[38;5;28;01mTrue\u001b[39;00m\n",
      "File \u001b[1;32mC:\\users\\hsl\\desktop\\lhs\\Lib\\site-packages\\joblib\\parallel.py:819\u001b[0m, in \u001b[0;36mParallel._dispatch\u001b[1;34m(self, batch)\u001b[0m\n\u001b[0;32m    817\u001b[0m \u001b[38;5;28;01mwith\u001b[39;00m \u001b[38;5;28mself\u001b[39m\u001b[38;5;241m.\u001b[39m_lock:\n\u001b[0;32m    818\u001b[0m     job_idx \u001b[38;5;241m=\u001b[39m \u001b[38;5;28mlen\u001b[39m(\u001b[38;5;28mself\u001b[39m\u001b[38;5;241m.\u001b[39m_jobs)\n\u001b[1;32m--> 819\u001b[0m     job \u001b[38;5;241m=\u001b[39m \u001b[38;5;28;43mself\u001b[39;49m\u001b[38;5;241;43m.\u001b[39;49m\u001b[43m_backend\u001b[49m\u001b[38;5;241;43m.\u001b[39;49m\u001b[43mapply_async\u001b[49m\u001b[43m(\u001b[49m\u001b[43mbatch\u001b[49m\u001b[43m,\u001b[49m\u001b[43m \u001b[49m\u001b[43mcallback\u001b[49m\u001b[38;5;241;43m=\u001b[39;49m\u001b[43mcb\u001b[49m\u001b[43m)\u001b[49m\n\u001b[0;32m    820\u001b[0m     \u001b[38;5;66;03m# A job can complete so quickly than its callback is\u001b[39;00m\n\u001b[0;32m    821\u001b[0m     \u001b[38;5;66;03m# called before we get here, causing self._jobs to\u001b[39;00m\n\u001b[0;32m    822\u001b[0m     \u001b[38;5;66;03m# grow. To ensure correct results ordering, .insert is\u001b[39;00m\n\u001b[0;32m    823\u001b[0m     \u001b[38;5;66;03m# used (rather than .append) in the following line\u001b[39;00m\n\u001b[0;32m    824\u001b[0m     \u001b[38;5;28mself\u001b[39m\u001b[38;5;241m.\u001b[39m_jobs\u001b[38;5;241m.\u001b[39minsert(job_idx, job)\n",
      "File \u001b[1;32mC:\\users\\hsl\\desktop\\lhs\\Lib\\site-packages\\joblib\\_parallel_backends.py:208\u001b[0m, in \u001b[0;36mSequentialBackend.apply_async\u001b[1;34m(self, func, callback)\u001b[0m\n\u001b[0;32m    206\u001b[0m \u001b[38;5;28;01mdef\u001b[39;00m \u001b[38;5;21mapply_async\u001b[39m(\u001b[38;5;28mself\u001b[39m, func, callback\u001b[38;5;241m=\u001b[39m\u001b[38;5;28;01mNone\u001b[39;00m):\n\u001b[0;32m    207\u001b[0m \u001b[38;5;250m    \u001b[39m\u001b[38;5;124;03m\"\"\"Schedule a func to be run\"\"\"\u001b[39;00m\n\u001b[1;32m--> 208\u001b[0m     result \u001b[38;5;241m=\u001b[39m \u001b[43mImmediateResult\u001b[49m\u001b[43m(\u001b[49m\u001b[43mfunc\u001b[49m\u001b[43m)\u001b[49m\n\u001b[0;32m    209\u001b[0m     \u001b[38;5;28;01mif\u001b[39;00m callback:\n\u001b[0;32m    210\u001b[0m         callback(result)\n",
      "File \u001b[1;32mC:\\users\\hsl\\desktop\\lhs\\Lib\\site-packages\\joblib\\_parallel_backends.py:597\u001b[0m, in \u001b[0;36mImmediateResult.__init__\u001b[1;34m(self, batch)\u001b[0m\n\u001b[0;32m    594\u001b[0m \u001b[38;5;28;01mdef\u001b[39;00m \u001b[38;5;21m__init__\u001b[39m(\u001b[38;5;28mself\u001b[39m, batch):\n\u001b[0;32m    595\u001b[0m     \u001b[38;5;66;03m# Don't delay the application, to avoid keeping the input\u001b[39;00m\n\u001b[0;32m    596\u001b[0m     \u001b[38;5;66;03m# arguments in memory\u001b[39;00m\n\u001b[1;32m--> 597\u001b[0m     \u001b[38;5;28mself\u001b[39m\u001b[38;5;241m.\u001b[39mresults \u001b[38;5;241m=\u001b[39m \u001b[43mbatch\u001b[49m\u001b[43m(\u001b[49m\u001b[43m)\u001b[49m\n",
      "File \u001b[1;32mC:\\users\\hsl\\desktop\\lhs\\Lib\\site-packages\\joblib\\parallel.py:288\u001b[0m, in \u001b[0;36mBatchedCalls.__call__\u001b[1;34m(self)\u001b[0m\n\u001b[0;32m    284\u001b[0m \u001b[38;5;28;01mdef\u001b[39;00m \u001b[38;5;21m__call__\u001b[39m(\u001b[38;5;28mself\u001b[39m):\n\u001b[0;32m    285\u001b[0m     \u001b[38;5;66;03m# Set the default nested backend to self._backend but do not set the\u001b[39;00m\n\u001b[0;32m    286\u001b[0m     \u001b[38;5;66;03m# change the default number of processes to -1\u001b[39;00m\n\u001b[0;32m    287\u001b[0m     \u001b[38;5;28;01mwith\u001b[39;00m parallel_backend(\u001b[38;5;28mself\u001b[39m\u001b[38;5;241m.\u001b[39m_backend, n_jobs\u001b[38;5;241m=\u001b[39m\u001b[38;5;28mself\u001b[39m\u001b[38;5;241m.\u001b[39m_n_jobs):\n\u001b[1;32m--> 288\u001b[0m         \u001b[38;5;28;01mreturn\u001b[39;00m \u001b[43m[\u001b[49m\u001b[43mfunc\u001b[49m\u001b[43m(\u001b[49m\u001b[38;5;241;43m*\u001b[39;49m\u001b[43margs\u001b[49m\u001b[43m,\u001b[49m\u001b[43m \u001b[49m\u001b[38;5;241;43m*\u001b[39;49m\u001b[38;5;241;43m*\u001b[39;49m\u001b[43mkwargs\u001b[49m\u001b[43m)\u001b[49m\n\u001b[0;32m    289\u001b[0m \u001b[43m                \u001b[49m\u001b[38;5;28;43;01mfor\u001b[39;49;00m\u001b[43m \u001b[49m\u001b[43mfunc\u001b[49m\u001b[43m,\u001b[49m\u001b[43m \u001b[49m\u001b[43margs\u001b[49m\u001b[43m,\u001b[49m\u001b[43m \u001b[49m\u001b[43mkwargs\u001b[49m\u001b[43m \u001b[49m\u001b[38;5;129;43;01min\u001b[39;49;00m\u001b[43m \u001b[49m\u001b[38;5;28;43mself\u001b[39;49m\u001b[38;5;241;43m.\u001b[39;49m\u001b[43mitems\u001b[49m\u001b[43m]\u001b[49m\n",
      "File \u001b[1;32mC:\\users\\hsl\\desktop\\lhs\\Lib\\site-packages\\joblib\\parallel.py:288\u001b[0m, in \u001b[0;36m<listcomp>\u001b[1;34m(.0)\u001b[0m\n\u001b[0;32m    284\u001b[0m \u001b[38;5;28;01mdef\u001b[39;00m \u001b[38;5;21m__call__\u001b[39m(\u001b[38;5;28mself\u001b[39m):\n\u001b[0;32m    285\u001b[0m     \u001b[38;5;66;03m# Set the default nested backend to self._backend but do not set the\u001b[39;00m\n\u001b[0;32m    286\u001b[0m     \u001b[38;5;66;03m# change the default number of processes to -1\u001b[39;00m\n\u001b[0;32m    287\u001b[0m     \u001b[38;5;28;01mwith\u001b[39;00m parallel_backend(\u001b[38;5;28mself\u001b[39m\u001b[38;5;241m.\u001b[39m_backend, n_jobs\u001b[38;5;241m=\u001b[39m\u001b[38;5;28mself\u001b[39m\u001b[38;5;241m.\u001b[39m_n_jobs):\n\u001b[1;32m--> 288\u001b[0m         \u001b[38;5;28;01mreturn\u001b[39;00m [\u001b[43mfunc\u001b[49m\u001b[43m(\u001b[49m\u001b[38;5;241;43m*\u001b[39;49m\u001b[43margs\u001b[49m\u001b[43m,\u001b[49m\u001b[43m \u001b[49m\u001b[38;5;241;43m*\u001b[39;49m\u001b[38;5;241;43m*\u001b[39;49m\u001b[43mkwargs\u001b[49m\u001b[43m)\u001b[49m\n\u001b[0;32m    289\u001b[0m                 \u001b[38;5;28;01mfor\u001b[39;00m func, args, kwargs \u001b[38;5;129;01min\u001b[39;00m \u001b[38;5;28mself\u001b[39m\u001b[38;5;241m.\u001b[39mitems]\n",
      "File \u001b[1;32mC:\\users\\hsl\\desktop\\lhs\\Lib\\site-packages\\sklearn\\utils\\parallel.py:123\u001b[0m, in \u001b[0;36m_FuncWrapper.__call__\u001b[1;34m(self, *args, **kwargs)\u001b[0m\n\u001b[0;32m    121\u001b[0m     config \u001b[38;5;241m=\u001b[39m {}\n\u001b[0;32m    122\u001b[0m \u001b[38;5;28;01mwith\u001b[39;00m config_context(\u001b[38;5;241m*\u001b[39m\u001b[38;5;241m*\u001b[39mconfig):\n\u001b[1;32m--> 123\u001b[0m     \u001b[38;5;28;01mreturn\u001b[39;00m \u001b[38;5;28;43mself\u001b[39;49m\u001b[38;5;241;43m.\u001b[39;49m\u001b[43mfunction\u001b[49m\u001b[43m(\u001b[49m\u001b[38;5;241;43m*\u001b[39;49m\u001b[43margs\u001b[49m\u001b[43m,\u001b[49m\u001b[43m \u001b[49m\u001b[38;5;241;43m*\u001b[39;49m\u001b[38;5;241;43m*\u001b[39;49m\u001b[43mkwargs\u001b[49m\u001b[43m)\u001b[49m\n",
      "File \u001b[1;32mC:\\users\\hsl\\desktop\\lhs\\Lib\\site-packages\\sklearn\\model_selection\\_validation.py:686\u001b[0m, in \u001b[0;36m_fit_and_score\u001b[1;34m(estimator, X, y, scorer, train, test, verbose, parameters, fit_params, return_train_score, return_parameters, return_n_test_samples, return_times, return_estimator, split_progress, candidate_progress, error_score)\u001b[0m\n\u001b[0;32m    684\u001b[0m         estimator\u001b[38;5;241m.\u001b[39mfit(X_train, \u001b[38;5;241m*\u001b[39m\u001b[38;5;241m*\u001b[39mfit_params)\n\u001b[0;32m    685\u001b[0m     \u001b[38;5;28;01melse\u001b[39;00m:\n\u001b[1;32m--> 686\u001b[0m         \u001b[43mestimator\u001b[49m\u001b[38;5;241;43m.\u001b[39;49m\u001b[43mfit\u001b[49m\u001b[43m(\u001b[49m\u001b[43mX_train\u001b[49m\u001b[43m,\u001b[49m\u001b[43m \u001b[49m\u001b[43my_train\u001b[49m\u001b[43m,\u001b[49m\u001b[43m \u001b[49m\u001b[38;5;241;43m*\u001b[39;49m\u001b[38;5;241;43m*\u001b[39;49m\u001b[43mfit_params\u001b[49m\u001b[43m)\u001b[49m\n\u001b[0;32m    688\u001b[0m \u001b[38;5;28;01mexcept\u001b[39;00m \u001b[38;5;167;01mException\u001b[39;00m:\n\u001b[0;32m    689\u001b[0m     \u001b[38;5;66;03m# Note fit time as time until error\u001b[39;00m\n\u001b[0;32m    690\u001b[0m     fit_time \u001b[38;5;241m=\u001b[39m time\u001b[38;5;241m.\u001b[39mtime() \u001b[38;5;241m-\u001b[39m start_time\n",
      "File \u001b[1;32mC:\\users\\hsl\\desktop\\lhs\\Lib\\site-packages\\xgboost\\core.py:620\u001b[0m, in \u001b[0;36mrequire_keyword_args.<locals>.throw_if.<locals>.inner_f\u001b[1;34m(*args, **kwargs)\u001b[0m\n\u001b[0;32m    618\u001b[0m \u001b[38;5;28;01mfor\u001b[39;00m k, arg \u001b[38;5;129;01min\u001b[39;00m \u001b[38;5;28mzip\u001b[39m(sig\u001b[38;5;241m.\u001b[39mparameters, args):\n\u001b[0;32m    619\u001b[0m     kwargs[k] \u001b[38;5;241m=\u001b[39m arg\n\u001b[1;32m--> 620\u001b[0m \u001b[38;5;28;01mreturn\u001b[39;00m \u001b[43mfunc\u001b[49m\u001b[43m(\u001b[49m\u001b[38;5;241;43m*\u001b[39;49m\u001b[38;5;241;43m*\u001b[39;49m\u001b[43mkwargs\u001b[49m\u001b[43m)\u001b[49m\n",
      "File \u001b[1;32mC:\\users\\hsl\\desktop\\lhs\\Lib\\site-packages\\xgboost\\sklearn.py:1025\u001b[0m, in \u001b[0;36mXGBModel.fit\u001b[1;34m(self, X, y, sample_weight, base_margin, eval_set, eval_metric, early_stopping_rounds, verbose, xgb_model, sample_weight_eval_set, base_margin_eval_set, feature_weights, callbacks)\u001b[0m\n\u001b[0;32m   1014\u001b[0m     obj \u001b[38;5;241m=\u001b[39m \u001b[38;5;28;01mNone\u001b[39;00m\n\u001b[0;32m   1016\u001b[0m (\n\u001b[0;32m   1017\u001b[0m     model,\n\u001b[0;32m   1018\u001b[0m     metric,\n\u001b[1;32m   (...)\u001b[0m\n\u001b[0;32m   1023\u001b[0m     xgb_model, eval_metric, params, early_stopping_rounds, callbacks\n\u001b[0;32m   1024\u001b[0m )\n\u001b[1;32m-> 1025\u001b[0m \u001b[38;5;28mself\u001b[39m\u001b[38;5;241m.\u001b[39m_Booster \u001b[38;5;241m=\u001b[39m \u001b[43mtrain\u001b[49m\u001b[43m(\u001b[49m\n\u001b[0;32m   1026\u001b[0m \u001b[43m    \u001b[49m\u001b[43mparams\u001b[49m\u001b[43m,\u001b[49m\n\u001b[0;32m   1027\u001b[0m \u001b[43m    \u001b[49m\u001b[43mtrain_dmatrix\u001b[49m\u001b[43m,\u001b[49m\n\u001b[0;32m   1028\u001b[0m \u001b[43m    \u001b[49m\u001b[38;5;28;43mself\u001b[39;49m\u001b[38;5;241;43m.\u001b[39;49m\u001b[43mget_num_boosting_rounds\u001b[49m\u001b[43m(\u001b[49m\u001b[43m)\u001b[49m\u001b[43m,\u001b[49m\n\u001b[0;32m   1029\u001b[0m \u001b[43m    \u001b[49m\u001b[43mevals\u001b[49m\u001b[38;5;241;43m=\u001b[39;49m\u001b[43mevals\u001b[49m\u001b[43m,\u001b[49m\n\u001b[0;32m   1030\u001b[0m \u001b[43m    \u001b[49m\u001b[43mearly_stopping_rounds\u001b[49m\u001b[38;5;241;43m=\u001b[39;49m\u001b[43mearly_stopping_rounds\u001b[49m\u001b[43m,\u001b[49m\n\u001b[0;32m   1031\u001b[0m \u001b[43m    \u001b[49m\u001b[43mevals_result\u001b[49m\u001b[38;5;241;43m=\u001b[39;49m\u001b[43mevals_result\u001b[49m\u001b[43m,\u001b[49m\n\u001b[0;32m   1032\u001b[0m \u001b[43m    \u001b[49m\u001b[43mobj\u001b[49m\u001b[38;5;241;43m=\u001b[39;49m\u001b[43mobj\u001b[49m\u001b[43m,\u001b[49m\n\u001b[0;32m   1033\u001b[0m \u001b[43m    \u001b[49m\u001b[43mcustom_metric\u001b[49m\u001b[38;5;241;43m=\u001b[39;49m\u001b[43mmetric\u001b[49m\u001b[43m,\u001b[49m\n\u001b[0;32m   1034\u001b[0m \u001b[43m    \u001b[49m\u001b[43mverbose_eval\u001b[49m\u001b[38;5;241;43m=\u001b[39;49m\u001b[43mverbose\u001b[49m\u001b[43m,\u001b[49m\n\u001b[0;32m   1035\u001b[0m \u001b[43m    \u001b[49m\u001b[43mxgb_model\u001b[49m\u001b[38;5;241;43m=\u001b[39;49m\u001b[43mmodel\u001b[49m\u001b[43m,\u001b[49m\n\u001b[0;32m   1036\u001b[0m \u001b[43m    \u001b[49m\u001b[43mcallbacks\u001b[49m\u001b[38;5;241;43m=\u001b[39;49m\u001b[43mcallbacks\u001b[49m\u001b[43m,\u001b[49m\n\u001b[0;32m   1037\u001b[0m \u001b[43m\u001b[49m\u001b[43m)\u001b[49m\n\u001b[0;32m   1039\u001b[0m \u001b[38;5;28mself\u001b[39m\u001b[38;5;241m.\u001b[39m_set_evaluation_result(evals_result)\n\u001b[0;32m   1040\u001b[0m \u001b[38;5;28;01mreturn\u001b[39;00m \u001b[38;5;28mself\u001b[39m\n",
      "File \u001b[1;32mC:\\users\\hsl\\desktop\\lhs\\Lib\\site-packages\\xgboost\\core.py:620\u001b[0m, in \u001b[0;36mrequire_keyword_args.<locals>.throw_if.<locals>.inner_f\u001b[1;34m(*args, **kwargs)\u001b[0m\n\u001b[0;32m    618\u001b[0m \u001b[38;5;28;01mfor\u001b[39;00m k, arg \u001b[38;5;129;01min\u001b[39;00m \u001b[38;5;28mzip\u001b[39m(sig\u001b[38;5;241m.\u001b[39mparameters, args):\n\u001b[0;32m    619\u001b[0m     kwargs[k] \u001b[38;5;241m=\u001b[39m arg\n\u001b[1;32m--> 620\u001b[0m \u001b[38;5;28;01mreturn\u001b[39;00m \u001b[43mfunc\u001b[49m\u001b[43m(\u001b[49m\u001b[38;5;241;43m*\u001b[39;49m\u001b[38;5;241;43m*\u001b[39;49m\u001b[43mkwargs\u001b[49m\u001b[43m)\u001b[49m\n",
      "File \u001b[1;32mC:\\users\\hsl\\desktop\\lhs\\Lib\\site-packages\\xgboost\\training.py:185\u001b[0m, in \u001b[0;36mtrain\u001b[1;34m(params, dtrain, num_boost_round, evals, obj, feval, maximize, early_stopping_rounds, evals_result, verbose_eval, xgb_model, callbacks, custom_metric)\u001b[0m\n\u001b[0;32m    183\u001b[0m \u001b[38;5;28;01mif\u001b[39;00m cb_container\u001b[38;5;241m.\u001b[39mbefore_iteration(bst, i, dtrain, evals):\n\u001b[0;32m    184\u001b[0m     \u001b[38;5;28;01mbreak\u001b[39;00m\n\u001b[1;32m--> 185\u001b[0m \u001b[43mbst\u001b[49m\u001b[38;5;241;43m.\u001b[39;49m\u001b[43mupdate\u001b[49m\u001b[43m(\u001b[49m\u001b[43mdtrain\u001b[49m\u001b[43m,\u001b[49m\u001b[43m \u001b[49m\u001b[43mi\u001b[49m\u001b[43m,\u001b[49m\u001b[43m \u001b[49m\u001b[43mobj\u001b[49m\u001b[43m)\u001b[49m\n\u001b[0;32m    186\u001b[0m \u001b[38;5;28;01mif\u001b[39;00m cb_container\u001b[38;5;241m.\u001b[39mafter_iteration(bst, i, dtrain, evals):\n\u001b[0;32m    187\u001b[0m     \u001b[38;5;28;01mbreak\u001b[39;00m\n",
      "File \u001b[1;32mC:\\users\\hsl\\desktop\\lhs\\Lib\\site-packages\\xgboost\\core.py:1918\u001b[0m, in \u001b[0;36mBooster.update\u001b[1;34m(self, dtrain, iteration, fobj)\u001b[0m\n\u001b[0;32m   1915\u001b[0m \u001b[38;5;28mself\u001b[39m\u001b[38;5;241m.\u001b[39m_validate_dmatrix_features(dtrain)\n\u001b[0;32m   1917\u001b[0m \u001b[38;5;28;01mif\u001b[39;00m fobj \u001b[38;5;129;01mis\u001b[39;00m \u001b[38;5;28;01mNone\u001b[39;00m:\n\u001b[1;32m-> 1918\u001b[0m     _check_call(\u001b[43m_LIB\u001b[49m\u001b[38;5;241;43m.\u001b[39;49m\u001b[43mXGBoosterUpdateOneIter\u001b[49m\u001b[43m(\u001b[49m\u001b[38;5;28;43mself\u001b[39;49m\u001b[38;5;241;43m.\u001b[39;49m\u001b[43mhandle\u001b[49m\u001b[43m,\u001b[49m\n\u001b[0;32m   1919\u001b[0m \u001b[43m                                            \u001b[49m\u001b[43mctypes\u001b[49m\u001b[38;5;241;43m.\u001b[39;49m\u001b[43mc_int\u001b[49m\u001b[43m(\u001b[49m\u001b[43miteration\u001b[49m\u001b[43m)\u001b[49m\u001b[43m,\u001b[49m\n\u001b[0;32m   1920\u001b[0m \u001b[43m                                            \u001b[49m\u001b[43mdtrain\u001b[49m\u001b[38;5;241;43m.\u001b[39;49m\u001b[43mhandle\u001b[49m\u001b[43m)\u001b[49m)\n\u001b[0;32m   1921\u001b[0m \u001b[38;5;28;01melse\u001b[39;00m:\n\u001b[0;32m   1922\u001b[0m     pred \u001b[38;5;241m=\u001b[39m \u001b[38;5;28mself\u001b[39m\u001b[38;5;241m.\u001b[39mpredict(dtrain, output_margin\u001b[38;5;241m=\u001b[39m\u001b[38;5;28;01mTrue\u001b[39;00m, training\u001b[38;5;241m=\u001b[39m\u001b[38;5;28;01mTrue\u001b[39;00m)\n",
      "\u001b[1;31mKeyboardInterrupt\u001b[0m: "
     ]
    }
   ],
   "source": [
    "grid = {'n_estimators' : [100], \n",
    "        'eta' : [0.01], \n",
    "        'min_child_weight' : np.arange(1, 8, 1), \n",
    "        'max_depth' : np.arange(3,9,1) ,\n",
    "        'colsample_bytree' :np.arange(0.8, 1.0, 0.1), \n",
    "        'subsample' :np.arange(0.8, 1.0, 0.1)} # fix the n_estimators & eta(learning rate)\n",
    "        \n",
    "for i in tqdm(np.arange(1, 61)):\n",
    "    x = train_importance.drop('kospi_Close', axis=1)\n",
    "    y = train_importance.kospi_Close\n",
    "    ll = int(len(x) * 0.2)\n",
    "    y_train, y_test, x_train, x_test = temporal_train_test_split(y = y, X = x, test_size = ll)\n",
    "    \n",
    "    pds = PredefinedSplit(np.append(-np.ones(len(x)-ll), np.zeros(ll)))\n",
    "    gcv = GridSearchCV(estimator = XGBRegressor(gpu_id = 0, tree_method = 'gpu_hist', predictor= 'gpu_predictor'),#seed = 0, gpu_id = 1, tree_method = 'gpu_hist', predictor= 'gpu_predictor'),\n",
    "                       param_grid = grid, # scoring = smape, \n",
    "                       #cv = pds, \n",
    "                       refit = True, verbose = True)\n",
    "    \n",
    "    gcv.fit(x_train, y_train)\n",
    "    best = gcv.best_estimator_\n",
    "    params = gcv.best_params_\n",
    "    print(params)\n",
    "    \n",
    "    pred = best.predict(x_test)\n",
    "    building = 'building'+str(i)\n",
    "#     print(building + '|| SMAPE : {}'.format(SMAPE(y_test, pred)))\n",
    "#     preds = np.append(preds, pred)\n",
    "#     df = pd.concat([df, pd.DataFrame(params, index = [0])], axis = 0)\n",
    "#     df.to_csv('./hyperparameter_xgb.csv', index = False) # save the tuned parameters"
   ]
  },
  {
   "cell_type": "code",
   "execution_count": 48,
   "id": "74fc9c72",
   "metadata": {
    "ExecuteTime": {
     "end_time": "2023-05-26T16:06:35.955914Z",
     "start_time": "2023-05-26T16:06:35.951547Z"
    }
   },
   "outputs": [],
   "source": [
    "xgb_param ={'n_estimators' : 100,\n",
    "            'learning_rate' : 0.01,\n",
    "            'max_depth' : 5,\n",
    "            'colsample_bytree' : 0.8,\n",
    "            'min_child_weight': 7, \n",
    "            'subsample': 0.9}\n"
   ]
  },
  {
   "cell_type": "code",
   "execution_count": 49,
   "id": "70d7282e",
   "metadata": {
    "ExecuteTime": {
     "end_time": "2023-05-26T16:06:36.179253Z",
     "start_time": "2023-05-26T16:06:36.175917Z"
    }
   },
   "outputs": [],
   "source": [
    "model = XGBRegressor()"
   ]
  },
  {
   "cell_type": "code",
   "execution_count": 50,
   "id": "cfdac0c5",
   "metadata": {
    "ExecuteTime": {
     "end_time": "2023-05-26T16:06:54.001193Z",
     "start_time": "2023-05-26T16:06:36.382254Z"
    },
    "collapsed": true
   },
   "outputs": [
    {
     "name": "stdout",
     "output_type": "stream",
     "text": [
      "Fitting 5 folds for each of 224 candidates, totalling 1120 fits\n"
     ]
    },
    {
     "ename": "KeyboardInterrupt",
     "evalue": "",
     "output_type": "error",
     "traceback": [
      "\u001b[1;31m---------------------------------------------------------------------------\u001b[0m",
      "\u001b[1;31mKeyboardInterrupt\u001b[0m                         Traceback (most recent call last)",
      "Cell \u001b[1;32mIn[50], line 2\u001b[0m\n\u001b[0;32m      1\u001b[0m xgb_grid \u001b[38;5;241m=\u001b[39m GridSearchCV(model, param_grid \u001b[38;5;241m=\u001b[39m xgb_param, scoring \u001b[38;5;241m=\u001b[39m \u001b[38;5;124m'\u001b[39m\u001b[38;5;124mf1_micro\u001b[39m\u001b[38;5;124m'\u001b[39m, n_jobs\u001b[38;5;241m=\u001b[39m\u001b[38;5;241m-\u001b[39m\u001b[38;5;241m1\u001b[39m, verbose \u001b[38;5;241m=\u001b[39m \u001b[38;5;241m2\u001b[39m)\n\u001b[1;32m----> 2\u001b[0m \u001b[43mxgb_grid\u001b[49m\u001b[38;5;241;43m.\u001b[39;49m\u001b[43mfit\u001b[49m\u001b[43m(\u001b[49m\u001b[43mx_train\u001b[49m\u001b[43m,\u001b[49m\u001b[43m \u001b[49m\u001b[43my_train\u001b[49m\u001b[43m)\u001b[49m\n\u001b[0;32m      3\u001b[0m best_xg \u001b[38;5;241m=\u001b[39m xgb_grid\u001b[38;5;241m.\u001b[39mbest_estimator_\n\u001b[0;32m      4\u001b[0m best_xg\n",
      "File \u001b[1;32mC:\\users\\hsl\\desktop\\lhs\\Lib\\site-packages\\sklearn\\model_selection\\_search.py:874\u001b[0m, in \u001b[0;36mBaseSearchCV.fit\u001b[1;34m(self, X, y, groups, **fit_params)\u001b[0m\n\u001b[0;32m    868\u001b[0m     results \u001b[38;5;241m=\u001b[39m \u001b[38;5;28mself\u001b[39m\u001b[38;5;241m.\u001b[39m_format_results(\n\u001b[0;32m    869\u001b[0m         all_candidate_params, n_splits, all_out, all_more_results\n\u001b[0;32m    870\u001b[0m     )\n\u001b[0;32m    872\u001b[0m     \u001b[38;5;28;01mreturn\u001b[39;00m results\n\u001b[1;32m--> 874\u001b[0m \u001b[38;5;28;43mself\u001b[39;49m\u001b[38;5;241;43m.\u001b[39;49m\u001b[43m_run_search\u001b[49m\u001b[43m(\u001b[49m\u001b[43mevaluate_candidates\u001b[49m\u001b[43m)\u001b[49m\n\u001b[0;32m    876\u001b[0m \u001b[38;5;66;03m# multimetric is determined here because in the case of a callable\u001b[39;00m\n\u001b[0;32m    877\u001b[0m \u001b[38;5;66;03m# self.scoring the return type is only known after calling\u001b[39;00m\n\u001b[0;32m    878\u001b[0m first_test_score \u001b[38;5;241m=\u001b[39m all_out[\u001b[38;5;241m0\u001b[39m][\u001b[38;5;124m\"\u001b[39m\u001b[38;5;124mtest_scores\u001b[39m\u001b[38;5;124m\"\u001b[39m]\n",
      "File \u001b[1;32mC:\\users\\hsl\\desktop\\lhs\\Lib\\site-packages\\sklearn\\model_selection\\_search.py:1388\u001b[0m, in \u001b[0;36mGridSearchCV._run_search\u001b[1;34m(self, evaluate_candidates)\u001b[0m\n\u001b[0;32m   1386\u001b[0m \u001b[38;5;28;01mdef\u001b[39;00m \u001b[38;5;21m_run_search\u001b[39m(\u001b[38;5;28mself\u001b[39m, evaluate_candidates):\n\u001b[0;32m   1387\u001b[0m \u001b[38;5;250m    \u001b[39m\u001b[38;5;124;03m\"\"\"Search all candidates in param_grid\"\"\"\u001b[39;00m\n\u001b[1;32m-> 1388\u001b[0m     \u001b[43mevaluate_candidates\u001b[49m\u001b[43m(\u001b[49m\u001b[43mParameterGrid\u001b[49m\u001b[43m(\u001b[49m\u001b[38;5;28;43mself\u001b[39;49m\u001b[38;5;241;43m.\u001b[39;49m\u001b[43mparam_grid\u001b[49m\u001b[43m)\u001b[49m\u001b[43m)\u001b[49m\n",
      "File \u001b[1;32mC:\\users\\hsl\\desktop\\lhs\\Lib\\site-packages\\sklearn\\model_selection\\_search.py:821\u001b[0m, in \u001b[0;36mBaseSearchCV.fit.<locals>.evaluate_candidates\u001b[1;34m(candidate_params, cv, more_results)\u001b[0m\n\u001b[0;32m    813\u001b[0m \u001b[38;5;28;01mif\u001b[39;00m \u001b[38;5;28mself\u001b[39m\u001b[38;5;241m.\u001b[39mverbose \u001b[38;5;241m>\u001b[39m \u001b[38;5;241m0\u001b[39m:\n\u001b[0;32m    814\u001b[0m     \u001b[38;5;28mprint\u001b[39m(\n\u001b[0;32m    815\u001b[0m         \u001b[38;5;124m\"\u001b[39m\u001b[38;5;124mFitting \u001b[39m\u001b[38;5;132;01m{0}\u001b[39;00m\u001b[38;5;124m folds for each of \u001b[39m\u001b[38;5;132;01m{1}\u001b[39;00m\u001b[38;5;124m candidates,\u001b[39m\u001b[38;5;124m\"\u001b[39m\n\u001b[0;32m    816\u001b[0m         \u001b[38;5;124m\"\u001b[39m\u001b[38;5;124m totalling \u001b[39m\u001b[38;5;132;01m{2}\u001b[39;00m\u001b[38;5;124m fits\u001b[39m\u001b[38;5;124m\"\u001b[39m\u001b[38;5;241m.\u001b[39mformat(\n\u001b[0;32m    817\u001b[0m             n_splits, n_candidates, n_candidates \u001b[38;5;241m*\u001b[39m n_splits\n\u001b[0;32m    818\u001b[0m         )\n\u001b[0;32m    819\u001b[0m     )\n\u001b[1;32m--> 821\u001b[0m out \u001b[38;5;241m=\u001b[39m \u001b[43mparallel\u001b[49m\u001b[43m(\u001b[49m\n\u001b[0;32m    822\u001b[0m \u001b[43m    \u001b[49m\u001b[43mdelayed\u001b[49m\u001b[43m(\u001b[49m\u001b[43m_fit_and_score\u001b[49m\u001b[43m)\u001b[49m\u001b[43m(\u001b[49m\n\u001b[0;32m    823\u001b[0m \u001b[43m        \u001b[49m\u001b[43mclone\u001b[49m\u001b[43m(\u001b[49m\u001b[43mbase_estimator\u001b[49m\u001b[43m)\u001b[49m\u001b[43m,\u001b[49m\n\u001b[0;32m    824\u001b[0m \u001b[43m        \u001b[49m\u001b[43mX\u001b[49m\u001b[43m,\u001b[49m\n\u001b[0;32m    825\u001b[0m \u001b[43m        \u001b[49m\u001b[43my\u001b[49m\u001b[43m,\u001b[49m\n\u001b[0;32m    826\u001b[0m \u001b[43m        \u001b[49m\u001b[43mtrain\u001b[49m\u001b[38;5;241;43m=\u001b[39;49m\u001b[43mtrain\u001b[49m\u001b[43m,\u001b[49m\n\u001b[0;32m    827\u001b[0m \u001b[43m        \u001b[49m\u001b[43mtest\u001b[49m\u001b[38;5;241;43m=\u001b[39;49m\u001b[43mtest\u001b[49m\u001b[43m,\u001b[49m\n\u001b[0;32m    828\u001b[0m \u001b[43m        \u001b[49m\u001b[43mparameters\u001b[49m\u001b[38;5;241;43m=\u001b[39;49m\u001b[43mparameters\u001b[49m\u001b[43m,\u001b[49m\n\u001b[0;32m    829\u001b[0m \u001b[43m        \u001b[49m\u001b[43msplit_progress\u001b[49m\u001b[38;5;241;43m=\u001b[39;49m\u001b[43m(\u001b[49m\u001b[43msplit_idx\u001b[49m\u001b[43m,\u001b[49m\u001b[43m \u001b[49m\u001b[43mn_splits\u001b[49m\u001b[43m)\u001b[49m\u001b[43m,\u001b[49m\n\u001b[0;32m    830\u001b[0m \u001b[43m        \u001b[49m\u001b[43mcandidate_progress\u001b[49m\u001b[38;5;241;43m=\u001b[39;49m\u001b[43m(\u001b[49m\u001b[43mcand_idx\u001b[49m\u001b[43m,\u001b[49m\u001b[43m \u001b[49m\u001b[43mn_candidates\u001b[49m\u001b[43m)\u001b[49m\u001b[43m,\u001b[49m\n\u001b[0;32m    831\u001b[0m \u001b[43m        \u001b[49m\u001b[38;5;241;43m*\u001b[39;49m\u001b[38;5;241;43m*\u001b[39;49m\u001b[43mfit_and_score_kwargs\u001b[49m\u001b[43m,\u001b[49m\n\u001b[0;32m    832\u001b[0m \u001b[43m    \u001b[49m\u001b[43m)\u001b[49m\n\u001b[0;32m    833\u001b[0m \u001b[43m    \u001b[49m\u001b[38;5;28;43;01mfor\u001b[39;49;00m\u001b[43m \u001b[49m\u001b[43m(\u001b[49m\u001b[43mcand_idx\u001b[49m\u001b[43m,\u001b[49m\u001b[43m \u001b[49m\u001b[43mparameters\u001b[49m\u001b[43m)\u001b[49m\u001b[43m,\u001b[49m\u001b[43m \u001b[49m\u001b[43m(\u001b[49m\u001b[43msplit_idx\u001b[49m\u001b[43m,\u001b[49m\u001b[43m \u001b[49m\u001b[43m(\u001b[49m\u001b[43mtrain\u001b[49m\u001b[43m,\u001b[49m\u001b[43m \u001b[49m\u001b[43mtest\u001b[49m\u001b[43m)\u001b[49m\u001b[43m)\u001b[49m\u001b[43m \u001b[49m\u001b[38;5;129;43;01min\u001b[39;49;00m\u001b[43m \u001b[49m\u001b[43mproduct\u001b[49m\u001b[43m(\u001b[49m\n\u001b[0;32m    834\u001b[0m \u001b[43m        \u001b[49m\u001b[38;5;28;43menumerate\u001b[39;49m\u001b[43m(\u001b[49m\u001b[43mcandidate_params\u001b[49m\u001b[43m)\u001b[49m\u001b[43m,\u001b[49m\u001b[43m \u001b[49m\u001b[38;5;28;43menumerate\u001b[39;49m\u001b[43m(\u001b[49m\u001b[43mcv\u001b[49m\u001b[38;5;241;43m.\u001b[39;49m\u001b[43msplit\u001b[49m\u001b[43m(\u001b[49m\u001b[43mX\u001b[49m\u001b[43m,\u001b[49m\u001b[43m \u001b[49m\u001b[43my\u001b[49m\u001b[43m,\u001b[49m\u001b[43m \u001b[49m\u001b[43mgroups\u001b[49m\u001b[43m)\u001b[49m\u001b[43m)\u001b[49m\n\u001b[0;32m    835\u001b[0m \u001b[43m    \u001b[49m\u001b[43m)\u001b[49m\n\u001b[0;32m    836\u001b[0m \u001b[43m\u001b[49m\u001b[43m)\u001b[49m\n\u001b[0;32m    838\u001b[0m \u001b[38;5;28;01mif\u001b[39;00m \u001b[38;5;28mlen\u001b[39m(out) \u001b[38;5;241m<\u001b[39m \u001b[38;5;241m1\u001b[39m:\n\u001b[0;32m    839\u001b[0m     \u001b[38;5;28;01mraise\u001b[39;00m \u001b[38;5;167;01mValueError\u001b[39;00m(\n\u001b[0;32m    840\u001b[0m         \u001b[38;5;124m\"\u001b[39m\u001b[38;5;124mNo fits were performed. \u001b[39m\u001b[38;5;124m\"\u001b[39m\n\u001b[0;32m    841\u001b[0m         \u001b[38;5;124m\"\u001b[39m\u001b[38;5;124mWas the CV iterator empty? \u001b[39m\u001b[38;5;124m\"\u001b[39m\n\u001b[0;32m    842\u001b[0m         \u001b[38;5;124m\"\u001b[39m\u001b[38;5;124mWere there no candidates?\u001b[39m\u001b[38;5;124m\"\u001b[39m\n\u001b[0;32m    843\u001b[0m     )\n",
      "File \u001b[1;32mC:\\users\\hsl\\desktop\\lhs\\Lib\\site-packages\\sklearn\\utils\\parallel.py:63\u001b[0m, in \u001b[0;36mParallel.__call__\u001b[1;34m(self, iterable)\u001b[0m\n\u001b[0;32m     58\u001b[0m config \u001b[38;5;241m=\u001b[39m get_config()\n\u001b[0;32m     59\u001b[0m iterable_with_config \u001b[38;5;241m=\u001b[39m (\n\u001b[0;32m     60\u001b[0m     (_with_config(delayed_func, config), args, kwargs)\n\u001b[0;32m     61\u001b[0m     \u001b[38;5;28;01mfor\u001b[39;00m delayed_func, args, kwargs \u001b[38;5;129;01min\u001b[39;00m iterable\n\u001b[0;32m     62\u001b[0m )\n\u001b[1;32m---> 63\u001b[0m \u001b[38;5;28;01mreturn\u001b[39;00m \u001b[38;5;28;43msuper\u001b[39;49m\u001b[43m(\u001b[49m\u001b[43m)\u001b[49m\u001b[38;5;241;43m.\u001b[39;49m\u001b[38;5;21;43m__call__\u001b[39;49m\u001b[43m(\u001b[49m\u001b[43miterable_with_config\u001b[49m\u001b[43m)\u001b[49m\n",
      "File \u001b[1;32mC:\\users\\hsl\\desktop\\lhs\\Lib\\site-packages\\joblib\\parallel.py:1098\u001b[0m, in \u001b[0;36mParallel.__call__\u001b[1;34m(self, iterable)\u001b[0m\n\u001b[0;32m   1095\u001b[0m     \u001b[38;5;28mself\u001b[39m\u001b[38;5;241m.\u001b[39m_iterating \u001b[38;5;241m=\u001b[39m \u001b[38;5;28;01mFalse\u001b[39;00m\n\u001b[0;32m   1097\u001b[0m \u001b[38;5;28;01mwith\u001b[39;00m \u001b[38;5;28mself\u001b[39m\u001b[38;5;241m.\u001b[39m_backend\u001b[38;5;241m.\u001b[39mretrieval_context():\n\u001b[1;32m-> 1098\u001b[0m     \u001b[38;5;28;43mself\u001b[39;49m\u001b[38;5;241;43m.\u001b[39;49m\u001b[43mretrieve\u001b[49m\u001b[43m(\u001b[49m\u001b[43m)\u001b[49m\n\u001b[0;32m   1099\u001b[0m \u001b[38;5;66;03m# Make sure that we get a last message telling us we are done\u001b[39;00m\n\u001b[0;32m   1100\u001b[0m elapsed_time \u001b[38;5;241m=\u001b[39m time\u001b[38;5;241m.\u001b[39mtime() \u001b[38;5;241m-\u001b[39m \u001b[38;5;28mself\u001b[39m\u001b[38;5;241m.\u001b[39m_start_time\n",
      "File \u001b[1;32mC:\\users\\hsl\\desktop\\lhs\\Lib\\site-packages\\joblib\\parallel.py:975\u001b[0m, in \u001b[0;36mParallel.retrieve\u001b[1;34m(self)\u001b[0m\n\u001b[0;32m    973\u001b[0m \u001b[38;5;28;01mtry\u001b[39;00m:\n\u001b[0;32m    974\u001b[0m     \u001b[38;5;28;01mif\u001b[39;00m \u001b[38;5;28mgetattr\u001b[39m(\u001b[38;5;28mself\u001b[39m\u001b[38;5;241m.\u001b[39m_backend, \u001b[38;5;124m'\u001b[39m\u001b[38;5;124msupports_timeout\u001b[39m\u001b[38;5;124m'\u001b[39m, \u001b[38;5;28;01mFalse\u001b[39;00m):\n\u001b[1;32m--> 975\u001b[0m         \u001b[38;5;28mself\u001b[39m\u001b[38;5;241m.\u001b[39m_output\u001b[38;5;241m.\u001b[39mextend(\u001b[43mjob\u001b[49m\u001b[38;5;241;43m.\u001b[39;49m\u001b[43mget\u001b[49m\u001b[43m(\u001b[49m\u001b[43mtimeout\u001b[49m\u001b[38;5;241;43m=\u001b[39;49m\u001b[38;5;28;43mself\u001b[39;49m\u001b[38;5;241;43m.\u001b[39;49m\u001b[43mtimeout\u001b[49m\u001b[43m)\u001b[49m)\n\u001b[0;32m    976\u001b[0m     \u001b[38;5;28;01melse\u001b[39;00m:\n\u001b[0;32m    977\u001b[0m         \u001b[38;5;28mself\u001b[39m\u001b[38;5;241m.\u001b[39m_output\u001b[38;5;241m.\u001b[39mextend(job\u001b[38;5;241m.\u001b[39mget())\n",
      "File \u001b[1;32mC:\\users\\hsl\\desktop\\lhs\\Lib\\site-packages\\joblib\\_parallel_backends.py:567\u001b[0m, in \u001b[0;36mLokyBackend.wrap_future_result\u001b[1;34m(future, timeout)\u001b[0m\n\u001b[0;32m    564\u001b[0m \u001b[38;5;250m\u001b[39m\u001b[38;5;124;03m\"\"\"Wrapper for Future.result to implement the same behaviour as\u001b[39;00m\n\u001b[0;32m    565\u001b[0m \u001b[38;5;124;03mAsyncResults.get from multiprocessing.\"\"\"\u001b[39;00m\n\u001b[0;32m    566\u001b[0m \u001b[38;5;28;01mtry\u001b[39;00m:\n\u001b[1;32m--> 567\u001b[0m     \u001b[38;5;28;01mreturn\u001b[39;00m \u001b[43mfuture\u001b[49m\u001b[38;5;241;43m.\u001b[39;49m\u001b[43mresult\u001b[49m\u001b[43m(\u001b[49m\u001b[43mtimeout\u001b[49m\u001b[38;5;241;43m=\u001b[39;49m\u001b[43mtimeout\u001b[49m\u001b[43m)\u001b[49m\n\u001b[0;32m    568\u001b[0m \u001b[38;5;28;01mexcept\u001b[39;00m CfTimeoutError \u001b[38;5;28;01mas\u001b[39;00m e:\n\u001b[0;32m    569\u001b[0m     \u001b[38;5;28;01mraise\u001b[39;00m \u001b[38;5;167;01mTimeoutError\u001b[39;00m \u001b[38;5;28;01mfrom\u001b[39;00m \u001b[38;5;21;01me\u001b[39;00m\n",
      "File \u001b[1;32mC:\\Program Files\\WindowsApps\\PythonSoftwareFoundation.Python.3.11_3.11.1008.0_x64__qbz5n2kfra8p0\\Lib\\concurrent\\futures\\_base.py:451\u001b[0m, in \u001b[0;36mFuture.result\u001b[1;34m(self, timeout)\u001b[0m\n\u001b[0;32m    448\u001b[0m \u001b[38;5;28;01melif\u001b[39;00m \u001b[38;5;28mself\u001b[39m\u001b[38;5;241m.\u001b[39m_state \u001b[38;5;241m==\u001b[39m FINISHED:\n\u001b[0;32m    449\u001b[0m     \u001b[38;5;28;01mreturn\u001b[39;00m \u001b[38;5;28mself\u001b[39m\u001b[38;5;241m.\u001b[39m__get_result()\n\u001b[1;32m--> 451\u001b[0m \u001b[38;5;28;43mself\u001b[39;49m\u001b[38;5;241;43m.\u001b[39;49m\u001b[43m_condition\u001b[49m\u001b[38;5;241;43m.\u001b[39;49m\u001b[43mwait\u001b[49m\u001b[43m(\u001b[49m\u001b[43mtimeout\u001b[49m\u001b[43m)\u001b[49m\n\u001b[0;32m    453\u001b[0m \u001b[38;5;28;01mif\u001b[39;00m \u001b[38;5;28mself\u001b[39m\u001b[38;5;241m.\u001b[39m_state \u001b[38;5;129;01min\u001b[39;00m [CANCELLED, CANCELLED_AND_NOTIFIED]:\n\u001b[0;32m    454\u001b[0m     \u001b[38;5;28;01mraise\u001b[39;00m CancelledError()\n",
      "File \u001b[1;32mC:\\Program Files\\WindowsApps\\PythonSoftwareFoundation.Python.3.11_3.11.1008.0_x64__qbz5n2kfra8p0\\Lib\\threading.py:320\u001b[0m, in \u001b[0;36mCondition.wait\u001b[1;34m(self, timeout)\u001b[0m\n\u001b[0;32m    318\u001b[0m \u001b[38;5;28;01mtry\u001b[39;00m:    \u001b[38;5;66;03m# restore state no matter what (e.g., KeyboardInterrupt)\u001b[39;00m\n\u001b[0;32m    319\u001b[0m     \u001b[38;5;28;01mif\u001b[39;00m timeout \u001b[38;5;129;01mis\u001b[39;00m \u001b[38;5;28;01mNone\u001b[39;00m:\n\u001b[1;32m--> 320\u001b[0m         \u001b[43mwaiter\u001b[49m\u001b[38;5;241;43m.\u001b[39;49m\u001b[43macquire\u001b[49m\u001b[43m(\u001b[49m\u001b[43m)\u001b[49m\n\u001b[0;32m    321\u001b[0m         gotit \u001b[38;5;241m=\u001b[39m \u001b[38;5;28;01mTrue\u001b[39;00m\n\u001b[0;32m    322\u001b[0m     \u001b[38;5;28;01melse\u001b[39;00m:\n",
      "\u001b[1;31mKeyboardInterrupt\u001b[0m: "
     ]
    }
   ],
   "source": [
    "xgb_grid = GridSearchCV(model, param_grid = xgb_param, scoring = 'f1_micro', n_jobs=-1, verbose = 2)\n",
    "xgb_grid.fit(x_train, y_train)\n",
    "best_xg = xgb_grid.best_estimator_\n",
    "best_xg"
   ]
  },
  {
   "cell_type": "code",
   "execution_count": 64,
   "id": "c15af658",
   "metadata": {
    "ExecuteTime": {
     "end_time": "2023-05-26T16:18:13.862441Z",
     "start_time": "2023-05-26T16:18:13.164506Z"
    }
   },
   "outputs": [
    {
     "data": {
      "text/html": [
       "<style>#sk-container-id-4 {color: black;background-color: white;}#sk-container-id-4 pre{padding: 0;}#sk-container-id-4 div.sk-toggleable {background-color: white;}#sk-container-id-4 label.sk-toggleable__label {cursor: pointer;display: block;width: 100%;margin-bottom: 0;padding: 0.3em;box-sizing: border-box;text-align: center;}#sk-container-id-4 label.sk-toggleable__label-arrow:before {content: \"▸\";float: left;margin-right: 0.25em;color: #696969;}#sk-container-id-4 label.sk-toggleable__label-arrow:hover:before {color: black;}#sk-container-id-4 div.sk-estimator:hover label.sk-toggleable__label-arrow:before {color: black;}#sk-container-id-4 div.sk-toggleable__content {max-height: 0;max-width: 0;overflow: hidden;text-align: left;background-color: #f0f8ff;}#sk-container-id-4 div.sk-toggleable__content pre {margin: 0.2em;color: black;border-radius: 0.25em;background-color: #f0f8ff;}#sk-container-id-4 input.sk-toggleable__control:checked~div.sk-toggleable__content {max-height: 200px;max-width: 100%;overflow: auto;}#sk-container-id-4 input.sk-toggleable__control:checked~label.sk-toggleable__label-arrow:before {content: \"▾\";}#sk-container-id-4 div.sk-estimator input.sk-toggleable__control:checked~label.sk-toggleable__label {background-color: #d4ebff;}#sk-container-id-4 div.sk-label input.sk-toggleable__control:checked~label.sk-toggleable__label {background-color: #d4ebff;}#sk-container-id-4 input.sk-hidden--visually {border: 0;clip: rect(1px 1px 1px 1px);clip: rect(1px, 1px, 1px, 1px);height: 1px;margin: -1px;overflow: hidden;padding: 0;position: absolute;width: 1px;}#sk-container-id-4 div.sk-estimator {font-family: monospace;background-color: #f0f8ff;border: 1px dotted black;border-radius: 0.25em;box-sizing: border-box;margin-bottom: 0.5em;}#sk-container-id-4 div.sk-estimator:hover {background-color: #d4ebff;}#sk-container-id-4 div.sk-parallel-item::after {content: \"\";width: 100%;border-bottom: 1px solid gray;flex-grow: 1;}#sk-container-id-4 div.sk-label:hover label.sk-toggleable__label {background-color: #d4ebff;}#sk-container-id-4 div.sk-serial::before {content: \"\";position: absolute;border-left: 1px solid gray;box-sizing: border-box;top: 0;bottom: 0;left: 50%;z-index: 0;}#sk-container-id-4 div.sk-serial {display: flex;flex-direction: column;align-items: center;background-color: white;padding-right: 0.2em;padding-left: 0.2em;position: relative;}#sk-container-id-4 div.sk-item {position: relative;z-index: 1;}#sk-container-id-4 div.sk-parallel {display: flex;align-items: stretch;justify-content: center;background-color: white;position: relative;}#sk-container-id-4 div.sk-item::before, #sk-container-id-4 div.sk-parallel-item::before {content: \"\";position: absolute;border-left: 1px solid gray;box-sizing: border-box;top: 0;bottom: 0;left: 50%;z-index: -1;}#sk-container-id-4 div.sk-parallel-item {display: flex;flex-direction: column;z-index: 1;position: relative;background-color: white;}#sk-container-id-4 div.sk-parallel-item:first-child::after {align-self: flex-end;width: 50%;}#sk-container-id-4 div.sk-parallel-item:last-child::after {align-self: flex-start;width: 50%;}#sk-container-id-4 div.sk-parallel-item:only-child::after {width: 0;}#sk-container-id-4 div.sk-dashed-wrapped {border: 1px dashed gray;margin: 0 0.4em 0.5em 0.4em;box-sizing: border-box;padding-bottom: 0.4em;background-color: white;}#sk-container-id-4 div.sk-label label {font-family: monospace;font-weight: bold;display: inline-block;line-height: 1.2em;}#sk-container-id-4 div.sk-label-container {text-align: center;}#sk-container-id-4 div.sk-container {/* jupyter's `normalize.less` sets `[hidden] { display: none; }` but bootstrap.min.css set `[hidden] { display: none !important; }` so we also need the `!important` here to be able to override the default hidden behavior on the sphinx rendered scikit-learn.org. See: https://github.com/scikit-learn/scikit-learn/issues/21755 */display: inline-block !important;position: relative;}#sk-container-id-4 div.sk-text-repr-fallback {display: none;}</style><div id=\"sk-container-id-4\" class=\"sk-top-container\"><div class=\"sk-text-repr-fallback\"><pre>XGBRegressor(base_score=None, booster=None, callbacks=None,\n",
       "             colsample_bylevel=None, colsample_bynode=None,\n",
       "             colsample_bytree=0.8, early_stopping_rounds=None,\n",
       "             enable_categorical=False, eval_metric=None, feature_types=None,\n",
       "             gamma=None, gpu_id=None, grow_policy=None, importance_type=None,\n",
       "             interaction_constraints=None, learning_rate=0.1, max_bin=None,\n",
       "             max_cat_threshold=None, max_cat_to_onehot=None,\n",
       "             max_delta_step=None, max_depth=5, max_leaves=None,\n",
       "             min_child_weight=7, missing=nan, monotone_constraints=None,\n",
       "             n_estimators=300, n_jobs=None, num_parallel_tree=None,\n",
       "             predictor=None, random_state=None, ...)</pre><b>In a Jupyter environment, please rerun this cell to show the HTML representation or trust the notebook. <br />On GitHub, the HTML representation is unable to render, please try loading this page with nbviewer.org.</b></div><div class=\"sk-container\" hidden><div class=\"sk-item\"><div class=\"sk-estimator sk-toggleable\"><input class=\"sk-toggleable__control sk-hidden--visually\" id=\"sk-estimator-id-4\" type=\"checkbox\" checked><label for=\"sk-estimator-id-4\" class=\"sk-toggleable__label sk-toggleable__label-arrow\">XGBRegressor</label><div class=\"sk-toggleable__content\"><pre>XGBRegressor(base_score=None, booster=None, callbacks=None,\n",
       "             colsample_bylevel=None, colsample_bynode=None,\n",
       "             colsample_bytree=0.8, early_stopping_rounds=None,\n",
       "             enable_categorical=False, eval_metric=None, feature_types=None,\n",
       "             gamma=None, gpu_id=None, grow_policy=None, importance_type=None,\n",
       "             interaction_constraints=None, learning_rate=0.1, max_bin=None,\n",
       "             max_cat_threshold=None, max_cat_to_onehot=None,\n",
       "             max_delta_step=None, max_depth=5, max_leaves=None,\n",
       "             min_child_weight=7, missing=nan, monotone_constraints=None,\n",
       "             n_estimators=300, n_jobs=None, num_parallel_tree=None,\n",
       "             predictor=None, random_state=None, ...)</pre></div></div></div></div></div>"
      ],
      "text/plain": [
       "XGBRegressor(base_score=None, booster=None, callbacks=None,\n",
       "             colsample_bylevel=None, colsample_bynode=None,\n",
       "             colsample_bytree=0.8, early_stopping_rounds=None,\n",
       "             enable_categorical=False, eval_metric=None, feature_types=None,\n",
       "             gamma=None, gpu_id=None, grow_policy=None, importance_type=None,\n",
       "             interaction_constraints=None, learning_rate=0.1, max_bin=None,\n",
       "             max_cat_threshold=None, max_cat_to_onehot=None,\n",
       "             max_delta_step=None, max_depth=5, max_leaves=None,\n",
       "             min_child_weight=7, missing=nan, monotone_constraints=None,\n",
       "             n_estimators=300, n_jobs=None, num_parallel_tree=None,\n",
       "             predictor=None, random_state=None, ...)"
      ]
     },
     "execution_count": 64,
     "metadata": {},
     "output_type": "execute_result"
    }
   ],
   "source": [
    "xgb_reg = XGBRegressor(n_estimators = 300,\n",
    "                       learning_rate=0.1,\n",
    "                       max_depth=5,\n",
    "                       colsample_bytree= 0.8,\n",
    "                       min_child_weight=7, \n",
    "                       subsample=0.9)\n",
    "\n",
    "y_train, y_valid, x_train, x_valid = temporal_train_test_split(y = y, X = x, test_size = ll)\n",
    "\n",
    "xgb_reg.fit(x_train, y_train, eval_set=[(x_train, y_train), (x_valid, y_valid)],\n",
    "            early_stopping_rounds=300, verbose=False)"
   ]
  },
  {
   "cell_type": "code",
   "execution_count": 65,
   "id": "4550da02",
   "metadata": {
    "ExecuteTime": {
     "end_time": "2023-05-26T16:18:14.162510Z",
     "start_time": "2023-05-26T16:18:13.864442Z"
    },
    "scrolled": true
   },
   "outputs": [
    {
     "name": "stdout",
     "output_type": "stream",
     "text": [
      "best iterations: 298\n"
     ]
    },
    {
     "data": {
      "image/png": "[encoded data removed]",
      "text/plain": [
       "<Figure size 1600x400 with 1 Axes>"
      ]
     },
     "metadata": {},
     "output_type": "display_data"
    }
   ],
   "source": [
    "## 주황색 : 실제값, 초록색 : 예측값\n",
    "\n",
    "pred = xgb_reg.predict(x_valid)\n",
    "pred = pd.Series(pred)\n",
    "pred.index = np.arange(y_valid.index[0], y_valid.index[-1]+1)\n",
    "plot_series(y_train, y_valid, pd.Series(pred), markers=[',' , ',', ','])\n",
    "\n",
    "print('best iterations: {}'.format(xgb_reg.best_iteration))\n",
    "# print('SMAPE : {}'.format(SMAPE(y_valid, pred)))"
   ]
  },
  {
   "cell_type": "code",
   "execution_count": 72,
   "id": "95381855",
   "metadata": {
    "ExecuteTime": {
     "end_time": "2023-05-26T16:20:29.934660Z",
     "start_time": "2023-05-26T16:20:29.821285Z"
    }
   },
   "outputs": [
    {
     "data": {
      "image/png": "[encoded data removed]",
      "text/plain": [
       "<Figure size 800x600 with 1 Axes>"
      ]
     },
     "metadata": {},
     "output_type": "display_data"
    }
   ],
   "source": [
    "plt.figure(figsize=(8,6))\n",
    "plt.plot(y_valid, label = \"original\")\n",
    "plt.plot(pred, label = \"predicted\")\n",
    "\n",
    "plt.title('GridSearch_Importance_Feature_Trained_XGBoost')\n",
    "plt.legend()\n",
    "plt.show()"
   ]
  },
  {
   "cell_type": "code",
   "execution_count": 71,
   "id": "e0f1482d",
   "metadata": {
    "ExecuteTime": {
     "end_time": "2023-05-26T16:19:18.538752Z",
     "start_time": "2023-05-26T16:19:18.532335Z"
    }
   },
   "outputs": [
    {
     "name": "stdout",
     "output_type": "stream",
     "text": [
      "MSE: 273777.064665\n",
      "RMSE: 523.237102\n",
      "MAE: 382.970137\n",
      "MAPE: 14.450413\n"
     ]
    }
   ],
   "source": [
    "print('MSE: %f' % MSE(y_valid, pred))\n",
    "print('RMSE: %f' % RMSE(MSE(y_valid, pred)))    \n",
    "print('MAE: %f' % MAE(y_valid, pred))\n",
    "print('MAPE: %f' % MAPE(y_valid, pred))"
   ]
  },
  {
   "cell_type": "markdown",
   "id": "aef6629d",
   "metadata": {},
   "source": [
    "---"
   ]
  },
  {
   "cell_type": "markdown",
   "id": "3640aa65",
   "metadata": {},
   "source": [
    "### LSTM"
   ]
  },
  {
   "cell_type": "markdown",
   "id": "80e6c887",
   "metadata": {},
   "source": [
    "https://colab.research.google.com/drive/1lWvMZyR2vzK6uXHrxTuBuhBLrdrGl7bx#scrollTo=VmJUkyHwUHVM"
   ]
  },
  {
   "cell_type": "code",
   "execution_count": null,
   "id": "f5fbf16b",
   "metadata": {
    "ExecuteTime": {
     "end_time": "2023-05-01T11:10:22.663448Z",
     "start_time": "2023-05-01T11:10:15.218682Z"
    }
   },
   "outputs": [],
   "source": [
    "import tensorflow as tf"
   ]
  },
  {
   "cell_type": "code",
   "execution_count": null,
   "id": "578318bb",
   "metadata": {
    "ExecuteTime": {
     "end_time": "2023-05-01T10:53:21.060248Z",
     "start_time": "2023-05-01T10:53:21.025340Z"
    }
   },
   "outputs": [],
   "source": [
    "all_data # = concat_data(variables, kospi)"
   ]
  },
  {
   "cell_type": "code",
   "execution_count": null,
   "id": "dbc93c04",
   "metadata": {
    "ExecuteTime": {
     "end_time": "2023-05-01T10:53:32.132340Z",
     "start_time": "2023-05-01T10:53:32.108233Z"
    }
   },
   "outputs": [],
   "source": [
    "low_period_data"
   ]
  },
  {
   "cell_type": "code",
   "execution_count": null,
   "id": "1c355675",
   "metadata": {},
   "outputs": [],
   "source": [
    "cor_over_70 = [kospi, dow, sp500, russel2000, nasdaq, ftse, nikkie, ssec, szse, hsi, jap_bond_yield_10, \n",
    "               kor_bond_yield_1, kor_bond_yield_3, kor_bond_yield_5, kor_bond_yield_10, us_bond_yield_3, \n",
    "               us_bond_yield_5, us_bond_yield_10, brent, wti, bitcoin, gold]\n",
    "\n",
    "main_kospi = [kospi, dow, sp500, russel2000, nasdaq, ftse, nikkie, ssec, szse, hsi]\n",
    "bon_yield_kospi = [kospi, jap_bond_yield_10, kor_bond_yield_1, kor_bond_yield_3, kor_bond_yield_5, kor_bond_yield_10, us_bond_yield_3, \n",
    "                   us_bond_yield_5, us_bond_yield_10]\n",
    "other_kospi = [kospi, brent, wti, bitcoin, gold]"
   ]
  },
  {
   "cell_type": "code",
   "execution_count": null,
   "id": "8d91ad2b",
   "metadata": {
    "ExecuteTime": {
     "end_time": "2023-05-01T11:00:33.462323Z",
     "start_time": "2023-05-01T11:00:26.960263Z"
    },
    "scrolled": true
   },
   "outputs": [],
   "source": [
    "low_period_data.plot(subplots=True, figsize=(20,100))\n",
    "plt.show()"
   ]
  },
  {
   "cell_type": "markdown",
   "id": "84751bb8",
   "metadata": {},
   "source": [
    "#### Standardization"
   ]
  },
  {
   "cell_type": "code",
   "execution_count": null,
   "id": "9a39bebd",
   "metadata": {
    "ExecuteTime": {
     "end_time": "2023-05-01T11:24:05.585030Z",
     "start_time": "2023-05-01T11:24:05.573014Z"
    }
   },
   "outputs": [],
   "source": [
    "features = low_period_data"
   ]
  },
  {
   "cell_type": "code",
   "execution_count": null,
   "id": "ea034546",
   "metadata": {
    "ExecuteTime": {
     "end_time": "2023-05-01T11:24:06.113998Z",
     "start_time": "2023-05-01T11:24:06.097987Z"
    }
   },
   "outputs": [],
   "source": [
    "TRAIN_SPLIT = int(len(features) * 0.7)\n",
    "\n",
    "dataset = features.values\n",
    "data_mean = dataset[ : TRAIN_SPLIT].mean(axis=0)\n",
    "data_std = dataset[ : TRAIN_SPLIT].std(axis=0)\n",
    "dataset = (dataset - data_mean) / data_std\n",
    "print(dataset)\n",
    "print(dataset.shape)"
   ]
  },
  {
   "cell_type": "code",
   "execution_count": null,
   "id": "3b05c123",
   "metadata": {
    "ExecuteTime": {
     "end_time": "2023-05-01T11:28:19.997375Z",
     "start_time": "2023-05-01T11:28:19.990311Z"
    }
   },
   "outputs": [],
   "source": [
    "def multivariate_data(dataset, target, start_index, end_index, history_size, target_size, step, single_step=False):\n",
    "    data = []\n",
    "    labels = []\n",
    "\n",
    "    start_index = start_index + history_size\n",
    "    if end_index is None:\n",
    "        end_index = len(dataset) - target_size\n",
    "\n",
    "    for i in range(start_index, end_index):\n",
    "        indices = range(i - history_size, i, step)\n",
    "        data.append(dataset[indices])\n",
    "\n",
    "        if single_step:\n",
    "            labels.append(target[i + target_size])\n",
    "        else:\n",
    "            labels.append(target[i:i + target_size])\n",
    "            \n",
    "    return np.array(data), np.array(labels)"
   ]
  },
  {
   "cell_type": "code",
   "execution_count": null,
   "id": "f20ce8c7",
   "metadata": {
    "ExecuteTime": {
     "end_time": "2023-05-01T11:40:36.998623Z",
     "start_time": "2023-05-01T11:40:36.978746Z"
    }
   },
   "outputs": [],
   "source": [
    "int(TRAIN_SPLIT * 0.24)"
   ]
  },
  {
   "cell_type": "code",
   "execution_count": null,
   "id": "6ad14dbc",
   "metadata": {
    "ExecuteTime": {
     "end_time": "2023-05-01T11:40:45.159330Z",
     "start_time": "2023-05-01T11:40:45.110387Z"
    }
   },
   "outputs": [],
   "source": [
    "past_history = int(TRAIN_SPLIT * 0.24)\n",
    "future_target = int(past_history * 0.1)\n",
    "STEP = 6\n",
    "\n",
    "x_train_single, y_train_single = multivariate_data(dataset, dataset[:,-2], 0, TRAIN_SPLIT, past_history,\n",
    "                                                   future_target, STEP, single_step=True)\n",
    "x_val_single, y_val_single = multivariate_data(dataset, dataset[:,-2], TRAIN_SPLIT, None, past_history,\n",
    "                                               future_target, STEP, single_step=True)\n",
    "\n",
    "print('Single window of past history : {}'.format(x_train_single[0].shape))"
   ]
  },
  {
   "cell_type": "code",
   "execution_count": null,
   "id": "e48a4e17",
   "metadata": {
    "ExecuteTime": {
     "end_time": "2023-05-01T11:40:49.580483Z",
     "start_time": "2023-05-01T11:40:49.573462Z"
    }
   },
   "outputs": [],
   "source": [
    "print(x_train_single.shape)\n",
    "print(y_train_single.shape)\n",
    "print('\\n')\n",
    "print(x_val_single.shape)\n",
    "print(y_val_single.shape)"
   ]
  },
  {
   "cell_type": "markdown",
   "id": "6c4a8c70",
   "metadata": {},
   "source": [
    "#### Train Model"
   ]
  },
  {
   "cell_type": "code",
   "execution_count": null,
   "id": "41171f11",
   "metadata": {
    "ExecuteTime": {
     "end_time": "2023-05-01T11:40:53.427872Z",
     "start_time": "2023-05-01T11:40:53.414907Z"
    }
   },
   "outputs": [],
   "source": [
    "BATCH_SIZE = 256\n",
    "BUFFER_SIZE = 10000\n",
    "EPOCHS = 10\n",
    "EVALUATION_INTERVAL = 200"
   ]
  },
  {
   "cell_type": "code",
   "execution_count": null,
   "id": "a201390b",
   "metadata": {
    "ExecuteTime": {
     "end_time": "2023-05-01T11:16:41.234709Z",
     "start_time": "2023-05-01T11:16:41.217774Z"
    }
   },
   "outputs": [],
   "source": [
    "print(tf.__version__)"
   ]
  },
  {
   "cell_type": "code",
   "execution_count": null,
   "id": "eb2fdf61",
   "metadata": {
    "ExecuteTime": {
     "end_time": "2023-05-01T11:42:35.954160Z",
     "start_time": "2023-05-01T11:40:55.966463Z"
    },
    "scrolled": true
   },
   "outputs": [],
   "source": [
    "train_data_single = tf.data.Dataset.from_tensor_slices((x_train_single, y_train_single))\n",
    "train_data_single = train_data_single.cache().shuffle(BUFFER_SIZE).batch(BATCH_SIZE).repeat()\n",
    "\n",
    "val_data_single = tf.data.Dataset.from_tensor_slices((x_val_single, y_val_single))\n",
    "val_data_single = val_data_single.batch(BATCH_SIZE).repeat()\n",
    "\n",
    "single_step_model = tf.keras.models.Sequential()\n",
    "single_step_model.add(tf.keras.layers.LSTM(32, input_shape=x_train_single.shape[-2:]))\n",
    "single_step_model.add(tf.keras.layers.Dense(1))\n",
    "single_step_model.compile(optimizer=tf.keras.optimizers.RMSprop(), loss='mae')\n",
    "\n",
    "for x, y in val_data_single.take(1):\n",
    "    print(single_step_model.predict(x).shape)\n",
    "\n",
    "single_step_history = single_step_model.fit(train_data_single, epochs=EPOCHS,\n",
    "                                            steps_per_epoch=EVALUATION_INTERVAL,\n",
    "                                            validation_data=val_data_single,\n",
    "                                            validation_steps=50)\n",
    "\n",
    "def plot_train_history(history, title):\n",
    "    loss = history.history['loss']\n",
    "    val_loss = history.history['val_loss']\n",
    "\n",
    "    epochs = range(len(loss))\n",
    "\n",
    "    plt.figure()\n",
    "    plt.plot(epochs, loss, 'b', label='Training loss')\n",
    "    plt.plot(epochs, val_loss, 'r', label='Validation loss')\n",
    "    plt.title(title)\n",
    "    plt.legend()\n",
    "    plt.show()\n",
    "\n",
    "plot_train_history(single_step_history, 'Single Step Training and Validation Loss')"
   ]
  },
  {
   "cell_type": "code",
   "execution_count": null,
   "id": "6d239746",
   "metadata": {
    "ExecuteTime": {
     "end_time": "2023-05-01T11:43:30.366143Z",
     "start_time": "2023-05-01T11:43:30.353176Z"
    }
   },
   "outputs": [],
   "source": [
    "# Defind function for Visualization\n",
    "def create_time_steps(length):\n",
    "    return list(range(-length, 0))\n",
    "\n",
    "def show_plot(plot_data, delta, title):\n",
    "    labels = ['History', 'True Future', 'Model Prediction']\n",
    "    marker = ['.-', 'rx', 'go']\n",
    "    time_steps = create_time_steps(plot_data[0].shape[0])\n",
    "    if delta:\n",
    "        future = delta\n",
    "    else:\n",
    "        future = 0\n",
    "\n",
    "    plt.title(title)\n",
    "    for i, x in enumerate(plot_data):\n",
    "        if i:\n",
    "            plt.plot(future, plot_data[i], marker[i], markersize=10, label=labels[i])\n",
    "        else:\n",
    "            plt.plot(time_steps, plot_data[i].flatten(), marker[i], label=labels[i])\n",
    "    plt.legend()\n",
    "    plt.axis('auto')\n",
    "    plt.xlim([time_steps[0], (future+5)*2])\n",
    "    plt.xlabel('Time-Step')\n",
    "    return plt"
   ]
  },
  {
   "cell_type": "code",
   "execution_count": null,
   "id": "ecb652a9",
   "metadata": {
    "ExecuteTime": {
     "end_time": "2023-05-01T11:43:32.363376Z",
     "start_time": "2023-05-01T11:43:31.182159Z"
    }
   },
   "outputs": [],
   "source": [
    "for x, y in val_data_single.take(3):\n",
    "    plot = show_plot([x[0][:, 1].numpy(), y[0].numpy(),\n",
    "                      single_step_model.predict(x)[0]], 12,\n",
    "                     'Single Step Prediction')\n",
    "    plot.show()"
   ]
  },
  {
   "cell_type": "markdown",
   "id": "e3199ab7",
   "metadata": {},
   "source": [
    "#### Evaluation"
   ]
  },
  {
   "cell_type": "code",
   "execution_count": null,
   "id": "9d97f0ce",
   "metadata": {},
   "outputs": [],
   "source": []
  },
  {
   "cell_type": "markdown",
   "id": "1a027f08",
   "metadata": {},
   "source": [
    "---"
   ]
  },
  {
   "cell_type": "markdown",
   "id": "c1cbabd7",
   "metadata": {},
   "source": [
    "### VAR"
   ]
  },
  {
   "cell_type": "markdown",
   "id": "c8b8ab27",
   "metadata": {},
   "source": [
    "https://www.kaggle.com/code/prakharprasad/time-series-vector-autoregression/notebook"
   ]
  },
  {
   "cell_type": "markdown",
   "id": "9ba6da4b",
   "metadata": {},
   "source": [
    "https://colab.research.google.com/drive/1dCtKyvVeeedi5zJdVlO858ERc8o7xkYq#scrollTo=2sX0jqy6XTg0"
   ]
  },
  {
   "cell_type": "markdown",
   "id": "fe901ef4",
   "metadata": {},
   "source": [
    "https://github.com/thekimk/All-About-Financial-Data-Science/blob/main/Lecture3-7_StatisticalLearning_TimeSeries_LinearMultivariate_KK.ipynb"
   ]
  },
  {
   "cell_type": "markdown",
   "id": "2f5a6793",
   "metadata": {},
   "source": [
    "https://medium.com/@kimkido95/time-series-analysis-using-var-6737cf2055cb"
   ]
  },
  {
   "cell_type": "markdown",
   "id": "4617f117",
   "metadata": {},
   "source": []
  },
  {
   "cell_type": "code",
   "execution_count": null,
   "id": "d96a3728",
   "metadata": {
    "ExecuteTime": {
     "end_time": "2023-05-26T08:04:12.961642Z",
     "start_time": "2023-05-26T08:04:12.955779Z"
    }
   },
   "outputs": [],
   "source": [
    "df = all_data_scaling[['hsi_Close', 'gold_Close', 'jap_bond_yield_5_Close','kospi_Close']].iloc[-100:].copy() # "
   ]
  },
  {
   "cell_type": "code",
   "execution_count": null,
   "id": "badb9c45",
   "metadata": {
    "ExecuteTime": {
     "end_time": "2023-05-26T08:04:14.480768Z",
     "start_time": "2023-05-26T08:04:14.458828Z"
    }
   },
   "outputs": [],
   "source": [
    "df"
   ]
  },
  {
   "cell_type": "code",
   "execution_count": null,
   "id": "07a9aace",
   "metadata": {
    "ExecuteTime": {
     "end_time": "2023-05-26T07:16:54.818575Z",
     "start_time": "2023-05-26T07:16:54.781238Z"
    }
   },
   "outputs": [],
   "source": [
    "df"
   ]
  },
  {
   "cell_type": "markdown",
   "id": "ffd366d1",
   "metadata": {},
   "source": [
    "#### Check Stationary"
   ]
  },
  {
   "cell_type": "code",
   "execution_count": null,
   "id": "e9775ae1",
   "metadata": {
    "ExecuteTime": {
     "end_time": "2023-05-26T07:16:35.360875Z",
     "start_time": "2023-05-26T07:16:35.345537Z"
    }
   },
   "outputs": [],
   "source": [
    "import statsmodels.api as sm\n",
    "from statsmodels.tsa.vector_ar.var_model import VAR\n",
    "from statsmodels.tsa.stattools import adfuller\n",
    "from statsmodels.graphics.tsaplots import plot_acf"
   ]
  },
  {
   "cell_type": "code",
   "execution_count": null,
   "id": "37c48287",
   "metadata": {
    "ExecuteTime": {
     "end_time": "2023-05-26T07:16:57.429873Z",
     "start_time": "2023-05-26T07:16:57.410039Z"
    }
   },
   "outputs": [],
   "source": [
    "def dickey_fuller(series, title='Your Dataset'):\n",
    "    '''Hypothesis Test for stationarity '''\n",
    "    print(f'Augmented Dickey Fuller Test for the dataset {title}')\n",
    "    \n",
    "    result = adfuller(series.dropna(),autolag='AIC')\n",
    "    labels = ['ADF test statistics','p-value','#lags','#observations'] # use help(adfuller) to understand why these labels are chosen\n",
    "    \n",
    "    outcome = pd.Series(result[0:4],index=labels)\n",
    "    \n",
    "    for key,val in result[4].items():\n",
    "        outcome[f'critical value ({key})'] = val\n",
    "        \n",
    "    print(outcome.to_string()) # this will not print the line 'dtype:float64'\n",
    "    \n",
    "    if result[1] <= 0.05:\n",
    "        print('Strong evidence against the null hypothesis') # Ho is Data is not stationary, check help(adfuller)\n",
    "        print('Reject the null hypothesis')\n",
    "        print('\\033[38;5;27m' + 'Data is Stationary' + '\\033[0m')\n",
    "    else:\n",
    "        print('Weak evidence against the Null hypothesis')\n",
    "        print('Fail to reject the null hypothesis')\n",
    "        print('\\033[38;5;196m' + 'Data has a unit root and is non stationary' + '\\033[0m')\n",
    "        "
   ]
  },
  {
   "cell_type": "code",
   "execution_count": null,
   "id": "812e1092",
   "metadata": {
    "ExecuteTime": {
     "end_time": "2023-05-26T07:16:58.995797Z",
     "start_time": "2023-05-26T07:16:58.931649Z"
    },
    "scrolled": true
   },
   "outputs": [],
   "source": [
    "for i in list(df.columns):\n",
    "    dickey_fuller(df[i])\n",
    "    print('\\n')"
   ]
  },
  {
   "cell_type": "code",
   "execution_count": null,
   "id": "90cb086a",
   "metadata": {
    "ExecuteTime": {
     "end_time": "2023-05-26T07:17:01.998895Z",
     "start_time": "2023-05-26T07:17:00.815792Z"
    }
   },
   "outputs": [],
   "source": [
    "# Plot ACF\n",
    "\n",
    "for i in df.columns:\n",
    "    plot_acf(df[i], lags=50)\n",
    "    plt.title('ACF for %s' % i)\n",
    "    plt.show()"
   ]
  },
  {
   "cell_type": "code",
   "execution_count": null,
   "id": "d3254466",
   "metadata": {
    "ExecuteTime": {
     "end_time": "2023-05-26T07:17:05.545600Z",
     "start_time": "2023-05-26T07:17:05.535818Z"
    }
   },
   "outputs": [],
   "source": [
    "df_diff = df.diff().dropna() # by default, diff performs the first order difference"
   ]
  },
  {
   "cell_type": "code",
   "execution_count": null,
   "id": "c8739402",
   "metadata": {
    "ExecuteTime": {
     "end_time": "2023-05-26T07:17:27.394684Z",
     "start_time": "2023-05-26T07:17:26.088341Z"
    }
   },
   "outputs": [],
   "source": [
    "# Plot ACF\n",
    "\n",
    "for i in df_diff.columns:\n",
    "    plot_acf(df_diff[i], lags=50)\n",
    "    plt.title('ACF for %s' % i)\n",
    "    plt.show()"
   ]
  },
  {
   "cell_type": "code",
   "execution_count": null,
   "id": "9613e8b0",
   "metadata": {
    "ExecuteTime": {
     "end_time": "2023-05-26T07:04:59.504305Z",
     "start_time": "2023-05-26T07:04:59.437609Z"
    },
    "scrolled": false
   },
   "outputs": [],
   "source": [
    "# 정상성 다시 확인\n",
    "\n",
    "for i in list(df.columns):\n",
    "    dickey_fuller(df_diff[i])\n",
    "    print('\\n')"
   ]
  },
  {
   "cell_type": "markdown",
   "id": "62d14f82",
   "metadata": {},
   "source": [
    "#### Train Test Split"
   ]
  },
  {
   "cell_type": "code",
   "execution_count": null,
   "id": "7aa1922a",
   "metadata": {
    "ExecuteTime": {
     "end_time": "2023-05-26T07:05:02.847868Z",
     "start_time": "2023-05-26T07:05:02.835900Z"
    }
   },
   "outputs": [],
   "source": [
    "len(df_diff)"
   ]
  },
  {
   "cell_type": "code",
   "execution_count": null,
   "id": "a07051f2",
   "metadata": {
    "ExecuteTime": {
     "end_time": "2023-05-26T07:05:03.101983Z",
     "start_time": "2023-05-26T07:05:03.092747Z"
    }
   },
   "outputs": [],
   "source": [
    "nobs = int(len(df_diff) * 0.15)\n",
    "train = df_diff[:-nobs]\n",
    "test = df_diff[-nobs:]"
   ]
  },
  {
   "cell_type": "code",
   "execution_count": null,
   "id": "ccb55481",
   "metadata": {
    "ExecuteTime": {
     "end_time": "2023-05-26T07:05:03.523227Z",
     "start_time": "2023-05-26T07:05:03.501625Z"
    }
   },
   "outputs": [],
   "source": [
    "len(train), len(test)"
   ]
  },
  {
   "cell_type": "markdown",
   "id": "a97bb7ff",
   "metadata": {},
   "source": [
    "#### Building Model"
   ]
  },
  {
   "cell_type": "markdown",
   "id": "2de6b304",
   "metadata": {},
   "source": [
    "VAR Model Order Selection"
   ]
  },
  {
   "cell_type": "markdown",
   "id": "781821aa",
   "metadata": {},
   "source": [
    "test this manually with a list of order p values and select the p value which returns the minimum AIC or BIC metric."
   ]
  },
  {
   "cell_type": "code",
   "execution_count": null,
   "id": "a93a19f4",
   "metadata": {
    "ExecuteTime": {
     "end_time": "2023-05-26T07:05:05.004520Z",
     "start_time": "2023-05-26T07:05:04.928681Z"
    },
    "scrolled": true
   },
   "outputs": [],
   "source": [
    "# p = [1,2,3,4,5,6,7]  # try with list of 7 p values\n",
    "\n",
    "check_lst_aic = []\n",
    "check_lst_bic = []\n",
    "\n",
    "for i in range(1, 10):\n",
    "    model = VAR(train)\n",
    "    results = model.fit(i)\n",
    "    print(f'VAR Order {i}')\n",
    "    print('AIC {}'.format(results.aic))\n",
    "    print('BIC {}'.format(results.bic))\n",
    "    print()\n",
    "    check_lst_aic.append(results.aic)    \n",
    "    check_lst_bic.append(results.bic)    \n",
    "    \n",
    "print(check_lst_aic.index(min(check_lst_aic))+1)\n",
    "print(check_lst_bic.index(min(check_lst_bic))+1)"
   ]
  },
  {
   "cell_type": "markdown",
   "id": "5fb5b1b4",
   "metadata": {},
   "source": [
    "Order 1 has the least AIC values. \n",
    "<br/> Order 1 has the least BIC values."
   ]
  },
  {
   "cell_type": "code",
   "execution_count": null,
   "id": "2ba7e359",
   "metadata": {
    "ExecuteTime": {
     "end_time": "2023-05-26T07:05:08.095341Z",
     "start_time": "2023-05-26T07:05:08.057548Z"
    },
    "scrolled": true
   },
   "outputs": [],
   "source": [
    "results = model.fit()\n",
    "results.summary()"
   ]
  },
  {
   "cell_type": "markdown",
   "id": "f6b7c753",
   "metadata": {},
   "source": [
    "#### Predict"
   ]
  },
  {
   "cell_type": "code",
   "execution_count": null,
   "id": "9ced744d",
   "metadata": {
    "ExecuteTime": {
     "end_time": "2023-05-26T07:05:09.688052Z",
     "start_time": "2023-05-26T07:05:09.679360Z"
    }
   },
   "outputs": [],
   "source": [
    "lag_order = results.k_ar\n",
    "lag_order"
   ]
  },
  {
   "cell_type": "code",
   "execution_count": null,
   "id": "75ce6219",
   "metadata": {
    "ExecuteTime": {
     "end_time": "2023-05-26T07:05:11.210788Z",
     "start_time": "2023-05-26T07:05:10.134187Z"
    }
   },
   "outputs": [],
   "source": [
    "# 예측 및 시각화\n",
    "## 미래 예측시 오늘(t-1) 초기값이 있어야 내일(t) 값 예측이 가능하기 때문\n",
    "\n",
    "forecast_num = 14\n",
    "y_pred = results.forecast(results.model.endog[-lag_order:], steps=forecast_num)\n",
    "y_pred_ci = results.forecast_interval(results.model.endog[-lag_order:], steps=forecast_num)\n",
    "results.plot_forecast(forecast_num)\n",
    "plt.tight_layout()\n",
    "plt.show()"
   ]
  },
  {
   "cell_type": "code",
   "execution_count": null,
   "id": "f30b3b74",
   "metadata": {
    "ExecuteTime": {
     "end_time": "2023-05-26T04:49:19.890414Z",
     "start_time": "2023-05-26T04:49:19.194415Z"
    }
   },
   "outputs": [],
   "source": [
    "# 임펄스반응함수 추정\n",
    "results.irf(forecast_num).plot()\n",
    "plt.tight_layout()\n",
    "plt.show()\n",
    "\n",
    "# 잔차진단\n",
    "results.plot_acorr()\n",
    "plt.tight_layout()\n",
    "plt.show()"
   ]
  },
  {
   "cell_type": "code",
   "execution_count": null,
   "id": "34fb757c",
   "metadata": {
    "ExecuteTime": {
     "end_time": "2023-05-26T07:05:17.540455Z",
     "start_time": "2023-05-26T07:05:17.515413Z"
    }
   },
   "outputs": [],
   "source": [
    "y_pred = pd.DataFrame(y_pred, index = test.index, columns = test.columns + '_pred')\n",
    "y_pred"
   ]
  },
  {
   "cell_type": "code",
   "execution_count": null,
   "id": "c6d39428",
   "metadata": {
    "ExecuteTime": {
     "end_time": "2023-05-26T07:05:19.770004Z",
     "start_time": "2023-05-26T07:05:19.379045Z"
    }
   },
   "outputs": [],
   "source": [
    "# for i in test.columns:\n",
    "#     print(y_pred[i+'_pred'].plot(figsize=(8,6)))\n",
    "#     print(test[i].plot())\n",
    "\n",
    "y_pred.hsi_Close_pred.plot(figsize=(8,6))\n",
    "test.hsi_Close.plot()\n",
    "plt.title('hsi_Close_pred')"
   ]
  },
  {
   "cell_type": "code",
   "execution_count": null,
   "id": "322a0666",
   "metadata": {
    "ExecuteTime": {
     "end_time": "2023-05-26T07:05:23.677430Z",
     "start_time": "2023-05-26T07:05:23.366128Z"
    }
   },
   "outputs": [],
   "source": [
    "y_pred.gold_Close_pred.plot(figsize=(8,6))\n",
    "test.gold_Close.plot()\n",
    "plt.title('gold_Close_pred')"
   ]
  },
  {
   "cell_type": "code",
   "execution_count": null,
   "id": "04cde7ea",
   "metadata": {
    "ExecuteTime": {
     "end_time": "2023-05-26T07:05:27.781282Z",
     "start_time": "2023-05-26T07:05:27.433519Z"
    }
   },
   "outputs": [],
   "source": [
    "y_pred.jap_bond_yield_5_Close_pred.plot(figsize=(8,6))\n",
    "test.jap_bond_yield_5_Close.plot()\n",
    "plt.title('jap_bond_yield_5_Close_pred')"
   ]
  },
  {
   "cell_type": "code",
   "execution_count": null,
   "id": "90a46b64",
   "metadata": {
    "ExecuteTime": {
     "end_time": "2023-05-26T07:05:29.712988Z",
     "start_time": "2023-05-26T07:05:29.328083Z"
    }
   },
   "outputs": [],
   "source": [
    "y_pred.kospi_Close_pred.plot(figsize=(8,6))\n",
    "test.kospi_Close.plot()\n",
    "plt.title('kospi_Close_pred')"
   ]
  },
  {
   "cell_type": "markdown",
   "id": "e3bba8e7",
   "metadata": {},
   "source": [
    "#### Evaluation"
   ]
  },
  {
   "cell_type": "code",
   "execution_count": null,
   "id": "fe2527fe",
   "metadata": {
    "ExecuteTime": {
     "end_time": "2023-05-26T07:05:36.991721Z",
     "start_time": "2023-05-26T07:05:36.984918Z"
    }
   },
   "outputs": [],
   "source": [
    "from sklearn.metrics import mean_absolute_error\n",
    "from sklearn.metrics import mean_squared_error"
   ]
  },
  {
   "cell_type": "code",
   "execution_count": null,
   "id": "1748be7f",
   "metadata": {
    "ExecuteTime": {
     "end_time": "2023-05-26T07:05:37.216190Z",
     "start_time": "2023-05-26T07:05:37.195000Z"
    }
   },
   "outputs": [],
   "source": [
    "y_pred"
   ]
  },
  {
   "cell_type": "code",
   "execution_count": null,
   "id": "f99dfeec",
   "metadata": {
    "ExecuteTime": {
     "end_time": "2023-05-26T07:05:39.056889Z",
     "start_time": "2023-05-26T07:05:39.023322Z"
    }
   },
   "outputs": [],
   "source": [
    "print('MSE: %f' % MSE(test, y_pred))\n",
    "print('RMSE: %f' % RMSE(MSE(test, y_pred)))    \n",
    "print('MAE: %f' % MAE(test, y_pred))\n",
    "print('MAPE: %f' % MAPE(test, y_pred))\n",
    "# print('SMAPE: %f' % SMAPE(test, y_pred))"
   ]
  },
  {
   "cell_type": "markdown",
   "id": "aa5ab691",
   "metadata": {},
   "source": [
    "---"
   ]
  }
 ],
 "metadata": {
  "kernelspec": {
   "display_name": "Python 3 (ipykernel)",
   "language": "python",
   "name": "python3"
  },
  "language_info": {
   "codemirror_mode": {
    "name": "ipython",
    "version": 3
   },
   "file_extension": ".py",
   "mimetype": "text/x-python",
   "name": "python",
   "nbconvert_exporter": "python",
   "pygments_lexer": "ipython3",
   "version": "3.11.3"
  },
  "toc": {
   "base_numbering": 1,
   "nav_menu": {},
   "number_sections": false,
   "sideBar": true,
   "skip_h1_title": false,
   "title_cell": "Table of Contents",
   "title_sidebar": "Contents",
   "toc_cell": false,
   "toc_position": {
    "height": "632.444px",
    "left": "34px",
    "top": "110.805px",
    "width": "340.347px"
   },
   "toc_section_display": true,
   "toc_window_display": true
  }
 },
 "nbformat": 4,
 "nbformat_minor": 5
}
