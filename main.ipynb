{
 "cells": [
  {
   "cell_type": "code",
   "execution_count": 1,
   "id": "b683e70a",
   "metadata": {
    "ExecuteTime": {
     "end_time": "2023-05-25T18:46:43.322685Z",
     "start_time": "2023-05-25T18:46:41.752628Z"
    }
   },
   "outputs": [],
   "source": [
    "import pandas as pd\n",
    "import random\n",
    "import os\n",
    "import numpy as np\n",
    "import warnings\n",
    "warnings.filterwarnings('ignore')\n",
    "\n",
    "%matplotlib inline\n",
    "import matplotlib.pyplot as plt\n",
    "import seaborn as sns\n",
    "# from sklearn.tree import DecisionTreeClassifier\n",
    "\n",
    "# plt.rcParams[\"figure.figsize\"] = (14,4)\n",
    "\n",
    "from tqdm import tqdm\n",
    "import time\n",
    "\n",
    "from datetime import datetime"
   ]
  },
  {
   "cell_type": "markdown",
   "id": "80cc8615",
   "metadata": {},
   "source": [
    "### Load Data"
   ]
  },
  {
   "cell_type": "code",
   "execution_count": 2,
   "id": "039692a2",
   "metadata": {
    "ExecuteTime": {
     "end_time": "2023-05-25T18:46:43.423695Z",
     "start_time": "2023-05-25T18:46:43.324680Z"
    }
   },
   "outputs": [],
   "source": [
    "# main data\n",
    "\n",
    "# Korea\n",
    "kospi = pd.read_csv('./data/main_index/kospi(1990.01.02-2023.03.15).csv', sep='|', thousands = ',')\n",
    "kospi = kospi[['Date','Close']]\n",
    "kosdaq = pd.read_csv('./data/main_index/kosdaq(2001.01.02-2023.03.15).csv', sep='|', thousands = ',')\n",
    "kosdaq = kosdaq[['Date','Close']]\n",
    "\n",
    "# US\n",
    "dow = pd.read_csv('./data/main_index/dow(2001.01.02-2023.03.15).csv', sep='|', thousands = ',')\n",
    "dow = dow[['Date','Close']]\n",
    "sp500 = pd.read_csv('./data/main_index/sp500(2001.01.02-2023.03.15).csv', sep='|', thousands = ',')\n",
    "sp500 = sp500[['Date','Close']]\n",
    "russel2000 = pd.read_csv('./data/main_index/russel2000(2001.01.03-2023.03.15).csv', sep='|', thousands = ',')\n",
    "russel2000 = russel2000[['Date','Close']]\n",
    "nasdaq = pd.read_csv('./data/main_index/nasdaq(2001.01.02-2023.03.15).csv', sep='|', thousands = ',')\n",
    "nasdaq = nasdaq[['Date','Close']]\n",
    "ftse = pd.read_csv('./data/main_index/FTSE(2004.03.05-2023.03.15).csv', sep='|', thousands = ',')\n",
    "ftse = ftse[['Date','Close']]\n",
    "\n",
    "# Japan\n",
    "nikkie = pd.read_csv('./data/main_index/nikkie(2001.01.05-2023.03.15).csv', sep='|', thousands = ',')\n",
    "nikkie = nikkie[['Date','Close']]\n",
    "\n",
    "# China\n",
    "ssec = pd.read_csv('./data/main_index/SSEC(1990.12.20-2023.03.15).csv', sep='|', thousands = ',')\n",
    "ssec = ssec[['Date','Close']]\n",
    "szse = pd.read_csv('./data/main_index/SZSE(1995.1.24-2023.03.15).csv', sep='|', thousands = ',')\n",
    "szse = szse[['Date','Close']]\n",
    "hsi = pd.read_csv('./data/main_index/hsi(2000.12.05-2023.03.15).csv', sep='|', thousands = ',')\n",
    "hsi = hsi[['Date','Close']]"
   ]
  },
  {
   "cell_type": "code",
   "execution_count": 3,
   "id": "86a84fbf",
   "metadata": {
    "ExecuteTime": {
     "end_time": "2023-05-25T18:46:43.498293Z",
     "start_time": "2023-05-25T18:46:43.424694Z"
    }
   },
   "outputs": [],
   "source": [
    "# bond_yield data\n",
    "\n",
    "chi_bond_yield_1 = pd.read_csv('./data/bond_yield/china_1year_bond_yield(2002.06.04-2023.03.15).csv', sep='|', thousands = ',')\n",
    "chi_bond_yield_1 = chi_bond_yield_1[['Date', 'Close']]\n",
    "chi_bond_yield_3 = pd.read_csv('./data/bond_yield/china_3year_bond_yield(2000.09.22-2023.03.15).csv', sep='|', thousands = ',')\n",
    "chi_bond_yield_3 = chi_bond_yield_3[['Date', 'Close']]\n",
    "chi_bond_yield_5 = pd.read_csv('./data/bond_yield/china_5year_bond_yield(2001.03.14-2023.03.15).csv', sep='|', thousands = ',')\n",
    "chi_bond_yield_5 = chi_bond_yield_5[['Date', 'Close']]\n",
    "chi_bond_yield_10 = pd.read_csv('./data/bond_yield/china_10year_bond_yield(2002.06.06-2023.03.15).csv', sep='|', thousands = ',')\n",
    "chi_bond_yield_10 = chi_bond_yield_10[['Date', 'Close']]\n",
    "\n",
    "jap_bond_yield_1 = pd.read_csv('./data/bond_yield/japan_1year_bond_yield(2006.07.19-2023.03.15).csv', sep='|', thousands = ',')\n",
    "jap_bond_yield_1 = jap_bond_yield_1[['Date', 'Close']]\n",
    "jap_bond_yield_3 = pd.read_csv('./data/bond_yield/japan_3year_bond_yield(2006.07.19-2023.03.15).csv', sep='\\t', thousands = ',')\n",
    "jap_bond_yield_3 = jap_bond_yield_3[['Date', 'Close']]\n",
    "jap_bond_yield_5 = pd.read_csv('./data/bond_yield/japan_5year_bond_yield(2006.07.27-2023.03.15).csv', sep='\\t', thousands = ',')\n",
    "jap_bond_yield_5 = jap_bond_yield_5[['Date', 'Close']]\n",
    "jap_bond_yield_10 = pd.read_csv('./data/bond_yield/japan_10year_bond_yield(2006.07.19-2023.03.15).csv', sep='\\t', thousands = ',')\n",
    "jap_bond_yield_10 = jap_bond_yield_10[['Date', 'Close']]\n",
    "\n",
    "kor_bond_yield_1 = pd.read_csv('./data/bond_yield/korea_1year_bond_yield(1995.05.03-2023.03.15).csv', sep='|', thousands = ',')\n",
    "kor_bond_yield_1 = kor_bond_yield_1[['Date', 'Close']]\n",
    "kor_bond_yield_3 = pd.read_csv('./data/bond_yield/korea_3year_bond_yield(1995.05.03-2023.03.15).csv', sep='|', thousands = ',')\n",
    "kor_bond_yield_3 = kor_bond_yield_3[['Date', 'Close']]\n",
    "kor_bond_yield_5 = pd.read_csv('./data/bond_yield/korea_5year_bond_yield(1995.05.03-2023.03.15).csv', sep='|', thousands = ',')\n",
    "kor_bond_yield_5 = kor_bond_yield_5[['Date', 'Close']]\n",
    "kor_bond_yield_10 = pd.read_csv('./data/bond_yield/korea_10year_bond_yield(2000.10.26-2023.03.15).csv', sep='|', thousands = ',')\n",
    "kor_bond_yield_10 = kor_bond_yield_10[['Date', 'Close']]\n",
    "\n",
    "us_bond_yield_1 = pd.read_csv('./data/bond_yield/us_1year_bond_yield(2008.06.05-2023.03.15).csv', sep='|', thousands = ',')\n",
    "us_bond_yield_1 = us_bond_yield_1[['Date', 'Close']]\n",
    "us_bond_yield_3 = pd.read_csv('./data/bond_yield/us_3year_bond_yield(1990.01.08-2023.03.15).csv', sep='|', thousands = ',')\n",
    "us_bond_yield_3 = us_bond_yield_3[['Date', 'Close']]\n",
    "us_bond_yield_5 = pd.read_csv('./data/bond_yield/us_5year_bond_yield(1990.01.08-2023.03.15).csv', sep='|', thousands = ',')\n",
    "us_bond_yield_5 = us_bond_yield_5[['Date', 'Close']]\n",
    "us_bond_yield_10 = pd.read_csv('./data/bond_yield/us_10year_bond_yield(1990.01.08-2023.03.15).csv', sep='|', thousands = ',')\n",
    "us_bond_yield_10 = us_bond_yield_10[['Date', 'Close']]"
   ]
  },
  {
   "cell_type": "code",
   "execution_count": 4,
   "id": "2a1bd34a",
   "metadata": {
    "ExecuteTime": {
     "end_time": "2023-05-25T18:46:44.174730Z",
     "start_time": "2023-05-25T18:46:44.142142Z"
    }
   },
   "outputs": [],
   "source": [
    "# cpi data\n",
    "'''\n",
    "chi_cpi_m = pd.read_csv('./data/cpi/china_cpi_compare_last_month(1996.01-2023.02).csv', sep='|', thousands = ',')\n",
    "chi_cpi_y = pd.read_csv('./data/cpi/china_cpi_compare_last_year(1990.01-2023.02).csv', sep='|', thousands = ',')\n",
    "\n",
    "jap_c_cpi_y = pd.read_csv('./data/cpi/japan_core_cpi_compare_last_year(1990.01-2023.02).csv', sep='|', thousands = ',')\n",
    "jap_cpi_y = pd.read_csv('./data/cpi/japan_cpi_compare_last_year(1990.01-2023.02).csv', sep='|', thousands = ',')\n",
    "\n",
    "kor_cpi_m = pd.read_csv('./data/cpi/korea_cpi_compare_last_month(1990.01-2023.02).csv', sep='|', thousands = ',')\n",
    "kor_cpi_y = pd.read_csv('./data/cpi/korea_cpi_compare_last_year(1990.01-2023.02).csv', sep='|', thousands = ',')\n",
    "\n",
    "us_c_cpi_m = pd.read_csv('./data/cpi/us_core_cpi_compare_last_month(1990.01-2023.02).csv', sep='|', thousands = ',')\n",
    "us_c_cpi_y = pd.read_csv('./data/cpi/us_core_cpi_compare_last_year(1990.01-2023.02).csv', sep='|', thousands = ',')\n",
    "us_cpi_m = pd.read_csv('./data/cpi/us_cpi_compare_last_month(1990.01-2023.02).csv', sep='|', thousands = ',')\n",
    "us_cpi_y = pd.read_csv('./data/cpi/us_cpi_compare_last_year(1990.01-2023.02).csv', sep='|', thousands = ',')\n",
    "'''\n",
    "\n",
    "chi_cpi_m = pd.read_csv('./data/extract_data(cpi,unem,interest)/chi_cpi_m_data_extract.csv', sep='|', thousands = ',')\n",
    "chi_cpi_y = pd.read_csv('./data/extract_data(cpi,unem,interest)/chi_cpi_y_data_extract.csv', sep='|', thousands = ',')\n",
    "\n",
    "jap_c_cpi_y = pd.read_csv('./data/extract_data(cpi,unem,interest)/jap_c_cpi_y_data_extract.csv', sep='|', thousands = ',')\n",
    "jap_cpi_y = pd.read_csv('./data/extract_data(cpi,unem,interest)/jap_cpi_y_data_extract.csv', sep='|', thousands = ',')\n",
    "\n",
    "kor_cpi_m = pd.read_csv('./data/extract_data(cpi,unem,interest)/kor_cpi_m_data_extract.csv', sep='|', thousands = ',')\n",
    "kor_cpi_y = pd.read_csv('./data/extract_data(cpi,unem,interest)/kor_cpi_y_data_extract.csv', sep='|', thousands = ',')\n",
    "\n",
    "us_c_cpi_m = pd.read_csv('./data/extract_data(cpi,unem,interest)/us_c_cpi_m_data_extract.csv', sep='|', thousands = ',')\n",
    "us_c_cpi_y = pd.read_csv('./data/extract_data(cpi,unem,interest)/us_c_cpi_y_data_extract.csv', sep='|', thousands = ',')\n",
    "us_cpi_m = pd.read_csv('./data/extract_data(cpi,unem,interest)/us_cpi_m_data_extract.csv', sep='|', thousands = ',')\n",
    "us_cpi_y = pd.read_csv('./data/extract_data(cpi,unem,interest)/us_cpi_y_data_extract.csv', sep='|', thousands = ',')"
   ]
  },
  {
   "cell_type": "code",
   "execution_count": 5,
   "id": "5d7515ad",
   "metadata": {
    "ExecuteTime": {
     "end_time": "2023-05-25T18:46:45.460551Z",
     "start_time": "2023-05-25T18:46:45.391662Z"
    }
   },
   "outputs": [],
   "source": [
    "# oil + dollar + gold + unemployment + usd_krw + vix\n",
    "\n",
    "brent = pd.read_csv('./data/oil/brent(1990.01.02-2023.03.15).csv', sep='|', thousands = ',')\n",
    "brent = brent[['Date', 'Close']]\n",
    "dubai = pd.read_csv('./data/oil/dubai(2014.04.28-2023.03.15).csv', sep='|', thousands = ',')\n",
    "dubai = dubai[['Date', 'Close']]\n",
    "wti = pd.read_csv('./data/oil/wti(1990.01.02-2023.03.15).csv', sep='|', thousands = ',')\n",
    "wti = wti[['Date', 'Close']]\n",
    "\n",
    "bitcoin = pd.read_csv('./data/other/bitcoin(2010.07.18-2023.03.15).csv', sep='|', thousands = ',')\n",
    "bitcoin = bitcoin[['Date', 'Close']]\n",
    "\n",
    "dollar = pd.read_csv('./data/other/dollar_index(1990.01.01-2023.03.15).csv', sep='|', thousands = ',')\n",
    "dollar = dollar[['Date', 'Close']]\n",
    "gold = pd.read_csv('./data/other/gold_index(1990.01.02-2023.03.15).csv', sep='\\t', thousands = ',')\n",
    "gold = gold[['Date', 'Close']]\n",
    "\n",
    "# kor_unem = pd.read_csv('./data/other/kor_unemployment_rate(1999.06-2023.03).csv', sep='|', thousands = ',')\n",
    "# kor_unem = kor_unem[['Date', 'Value']]\n",
    "# kor_unem.rename(columns = {'Value':'Close'}, inplace=True)\n",
    "# kor_interest = pd.read_csv('./data/other/kor_interest(1999.05-2023.03).csv', sep='|', thousands = ',')\n",
    "# kor_interest = kor_interest[['Date', 'Value']]\n",
    "# kor_interest.rename(columns = {'Value':'Close'}, inplace=True)\n",
    "# ja_unem = pd.read_csv('./data/other/japan_unemployment_rate(1999.09-2023.02)_날짜수정.csv', sep='|')\n",
    "# us_unem = pd.read_csv('./data/other/us_unemployment_rate(1990.01-2023.03).csv', sep='|', thousands = ',')\n",
    "# us_unem = us_unem[['Date', 'Value']]\n",
    "# us_unem.rename(columns = {'Value':'Close'}, inplace=True)\n",
    "\n",
    "us_unem = pd.read_csv('./data/extract_data(cpi,unem,interest)/us_unem_data_extract.csv', sep='|', thousands = ',')\n",
    "kor_unem = pd.read_csv('./data/extract_data(cpi,unem,interest)/kor_unem_data_extract.csv', sep='|', thousands = ',')\n",
    "kor_interest = pd.read_csv('./data/extract_data(cpi,unem,interest)/kor_interest_data_extract.csv', sep='|', thousands = ',')\n",
    "\n",
    "usd_krw = pd.read_csv('./data/other/USD_KRW(1990.01-2023.03.15).csv', sep='|', thousands = ',')\n",
    "usd_krw = usd_krw[['Date', 'Close']]\n",
    "\n",
    "vix = pd.read_csv('./data/other/vix(1990.01.03-2023.03.15).csv', sep='|', thousands = ',')\n",
    "vix = vix[['Date', 'Close']]"
   ]
  },
  {
   "cell_type": "markdown",
   "id": "f15f992f",
   "metadata": {},
   "source": [
    "### Data Preprocessing"
   ]
  },
  {
   "cell_type": "code",
   "execution_count": 6,
   "id": "140a644c",
   "metadata": {
    "ExecuteTime": {
     "end_time": "2023-05-25T18:46:48.327958Z",
     "start_time": "2023-05-25T18:46:48.304044Z"
    }
   },
   "outputs": [],
   "source": [
    "kospi.rename(columns = lambda x : 'kospi_' + x if x != 'Date' else x, inplace = True)\n",
    "kosdaq.rename(columns = lambda x : 'kosdaq_' + x if x != 'Date' else x, inplace = True)\n",
    "dow.rename(columns = lambda x : 'dow_' + x if x != 'Date' else x, inplace = True)\n",
    "sp500.rename(columns = lambda x : 'sp500_' + x if x != 'Date' else x, inplace = True)\n",
    "russel2000.rename(columns = lambda x : 'russel2000_' + x if x != 'Date' else x, inplace = True)\n",
    "nasdaq.rename(columns = lambda x : 'nasdaq_' + x if x != 'Date' else x, inplace = True)\n",
    "ftse.rename(columns = lambda x : 'ftse_' + x if x != 'Date' else x, inplace = True)\n",
    "ftse.dropna(inplace=True)\n",
    "nikkie.rename(columns = lambda x : 'nikkie_' + x if x != 'Date' else x, inplace = True)\n",
    "nikkie.dropna(inplace=True)\n",
    "ssec.rename(columns = lambda x : 'ssec_' + x if x != 'Date' else x, inplace = True)\n",
    "szse.rename(columns = lambda x : 'szse_' + x if x != 'Date' else x, inplace = True)\n",
    "hsi.rename(columns = lambda x : 'hsi_' + x if x != 'Date' else x, inplace = True)\n",
    "hsi.dropna(inplace=True)\n",
    "\n",
    "chi_bond_yield_1.rename(columns = lambda x : 'chi_bond_yield_1_' + x if x != 'Date' else x, inplace = True)\n",
    "chi_bond_yield_3.rename(columns = lambda x : 'chi_bond_yield_3_' + x if x != 'Date' else x, inplace = True)\n",
    "chi_bond_yield_5.rename(columns = lambda x : 'chi_bond_yield_5_' + x if x != 'Date' else x, inplace = True)\n",
    "chi_bond_yield_10.rename(columns = lambda x : 'chi_bond_yield_10_' + x if x != 'Date' else x, inplace = True)\n",
    "chi_bond_yield_10.dropna(inplace=True)\n",
    "\n",
    "jap_bond_yield_1.rename(columns = lambda x : 'jap_bond_yield_1_' + x if x != 'Date' else x, inplace = True)\n",
    "jap_bond_yield_3.rename(columns = lambda x : 'jap_bond_yield_3_' + x if x != 'Date' else x, inplace = True)\n",
    "jap_bond_yield_5.rename(columns = lambda x : 'jap_bond_yield_5_' + x if x != 'Date' else x, inplace = True)\n",
    "jap_bond_yield_10.rename(columns = lambda x : 'jap_bond_yield_10_' + x if x != 'Date' else x, inplace = True)\n",
    "\n",
    "kor_bond_yield_1.rename(columns = lambda x : 'kor_bond_yield_1_' + x if x != 'Date' else x, inplace = True)\n",
    "kor_bond_yield_3.rename(columns = lambda x : 'kor_bond_yield_3_' + x if x != 'Date' else x, inplace = True)\n",
    "kor_bond_yield_5.rename(columns = lambda x : 'kor_bond_yield_5_' + x if x != 'Date' else x, inplace = True)\n",
    "kor_bond_yield_10.rename(columns = lambda x : 'kor_bond_yield_10_' + x if x != 'Date' else x, inplace = True)\n",
    "\n",
    "us_bond_yield_1.rename(columns = lambda x : 'us_bond_yield_1_' + x if x != 'Date' else x, inplace = True)\n",
    "us_bond_yield_3.rename(columns = lambda x : 'us_bond_yield_3_' + x if x != 'Date' else x, inplace = True)\n",
    "us_bond_yield_5.rename(columns = lambda x : 'us_bond_yield_5_' + x if x != 'Date' else x, inplace = True)\n",
    "us_bond_yield_5.dropna(inplace=True)\n",
    "us_bond_yield_10.rename(columns = lambda x : 'us_bond_yield_10_' + x if x != 'Date' else x, inplace = True)\n",
    "\n",
    "chi_cpi_m.rename(columns = lambda x : 'chi_cpi_m_' + x if x != 'Date' else x, inplace = True)\n",
    "chi_cpi_y.rename(columns = lambda x : 'chi_cpi_y_' + x if x != 'Date' else x, inplace = True)\n",
    "jap_c_cpi_y.rename(columns = lambda x : 'jap_c_cpi_y_' + x if x != 'Date' else x, inplace = True)\n",
    "jap_cpi_y.rename(columns = lambda x : 'jap_cpi_y_' + x if x != 'Date' else x, inplace = True)\n",
    "kor_cpi_m.rename(columns = lambda x : 'kor_cpi_m_' + x if x != 'Date' else x, inplace = True)\n",
    "kor_cpi_y.rename(columns = lambda x : 'kor_cpi_y_' + x if x != 'Date' else x, inplace = True)\n",
    "us_c_cpi_m.rename(columns = lambda x : 'us_c_cpi_m_' + x if x != 'Date' else x, inplace = True)\n",
    "us_c_cpi_y.rename(columns = lambda x : 'us_c_cpi_y_' + x if x != 'Date' else x, inplace = True)\n",
    "us_cpi_m.rename(columns = lambda x : 'us_cpi_m_' + x if x != 'Date' else x, inplace = True)\n",
    "us_cpi_y.rename(columns = lambda x : 'us_cpi_y_' + x if x != 'Date' else x, inplace = True)\n",
    "\n",
    "brent.rename(columns = lambda x : 'brent_' + x if x != 'Date' else x, inplace = True)\n",
    "dubai.rename(columns = lambda x : 'dubai_' + x if x != 'Date' else x, inplace = True)\n",
    "wti.rename(columns = lambda x : 'wti_' + x if x != 'Date' else x, inplace = True)\n",
    "\n",
    "bitcoin.rename(columns = lambda x : 'bitcoin_' + x if x != 'Date' else x, inplace = True)\n",
    "dollar.rename(columns = lambda x : 'dollar_' + x if x != 'Date' else x, inplace = True)\n",
    "gold.rename(columns = lambda x : 'gold_' + x if x != 'Date' else x, inplace = True)\n",
    "kor_unem.rename(columns = lambda x : 'kor_unem_' + x if x != 'Date' else x, inplace = True)\n",
    "us_unem.rename(columns = lambda x : 'us_unem_' + x if x != 'Date' else x, inplace = True)\n",
    "kor_interest.rename(columns = lambda x : 'kor_interest_' + x if x != 'Date' else x, inplace = True)\n",
    "usd_krw.rename(columns = lambda x : 'usd_krw_' + x if x != 'Date' else x, inplace = True)\n",
    "vix.rename(columns = lambda x : 'vix_' + x if x != 'Date' else x, inplace = True)\n"
   ]
  },
  {
   "cell_type": "code",
   "execution_count": 9,
   "id": "008ad02e",
   "metadata": {
    "ExecuteTime": {
     "end_time": "2023-05-25T18:48:34.118672Z",
     "start_time": "2023-05-25T18:48:34.111237Z"
    }
   },
   "outputs": [
    {
     "data": {
      "text/plain": [
       "48"
      ]
     },
     "execution_count": 9,
     "metadata": {},
     "output_type": "execute_result"
    }
   ],
   "source": [
    "variables = [kospi, kosdaq, dow, sp500, russel2000, nasdaq, ftse, nikkie, ssec, szse, hsi, \n",
    "             chi_bond_yield_1, chi_bond_yield_3, chi_bond_yield_5, chi_bond_yield_10,\n",
    "             jap_bond_yield_1, jap_bond_yield_3, jap_bond_yield_5, jap_bond_yield_10,\n",
    "             kor_bond_yield_1, kor_bond_yield_3, kor_bond_yield_5, kor_bond_yield_10, kor_unem,\n",
    "             us_bond_yield_1, us_bond_yield_3, us_bond_yield_5, us_bond_yield_10,\n",
    "             chi_cpi_m, chi_cpi_y, jap_c_cpi_y, jap_cpi_y, kor_cpi_m, kor_cpi_y, kor_interest,\n",
    "             us_c_cpi_m, us_c_cpi_y, us_cpi_m, us_cpi_y, brent, dubai, wti,\n",
    "             dollar, gold, us_unem, usd_krw, vix, bitcoin]\n",
    "len(variables)"
   ]
  },
  {
   "cell_type": "code",
   "execution_count": null,
   "id": "19b84807",
   "metadata": {
    "ExecuteTime": {
     "end_time": "2023-05-25T11:47:09.905874Z",
     "start_time": "2023-05-25T11:47:09.879845Z"
    }
   },
   "outputs": [],
   "source": [
    "'''\n",
    "# 월별 데이터\n",
    "\n",
    "month_data = [kor_unem, chi_cpi_m, chi_cpi_y, jap_c_cpi_y, jap_cpi_y, kor_cpi_m, \n",
    "              kor_cpi_y, kor_interest, us_c_cpi_m, us_c_cpi_y, us_cpi_m, us_cpi_y, us_unem]\n",
    "\n",
    "\n",
    "# 월별 데이터 날짜 늘리기\n",
    "\n",
    "def fill(df):\n",
    "    for j in tqdm(range(len(df))):\n",
    "        for i in range(2, 10):\n",
    "            df = df.append({'Date' : df.Date[j][:7] + '-0' + str(i), 'Close' : np.nan}, ignore_index=True)\n",
    "    \n",
    "    df.sort_values(by ='Date', axis=0, inplace=True)\n",
    "    df.fillna(method='ffill', inplace=True)\n",
    "#             df.reset_index(inplace=True)\n",
    "    return df\n",
    "'''"
   ]
  },
  {
   "cell_type": "code",
   "execution_count": null,
   "id": "1a4179e9",
   "metadata": {
    "ExecuteTime": {
     "end_time": "2023-05-03T12:27:16.418504Z",
     "start_time": "2023-05-03T12:27:16.404419Z"
    }
   },
   "outputs": [],
   "source": [
    "korea = [kospi, kosdaq, \n",
    "         kor_bond_yield_1, kor_bond_yield_3, kor_bond_yield_5, kor_bond_yield_10, kor_unem,\n",
    "         kor_cpi_m, kor_cpi_y, kor_interest, usd_krw]\n",
    "\n",
    "usa = [dow, sp500, russel2000, nasdaq, ftse, \n",
    "       us_bond_yield_1, us_bond_yield_3, us_bond_yield_5, us_bond_yield_10,\n",
    "       us_c_cpi_m, us_c_cpi_y, us_cpi_m, us_cpi_y,\n",
    "       dollar, us_unem, vix]\n",
    "\n",
    "china = [ssec, szse, hsi, \n",
    "         chi_bond_yield_1, chi_bond_yield_3, chi_bond_yield_5, chi_bond_yield_10, chi_cpi_m, chi_cpi_y]\n",
    "\n",
    "japan = [nikkie, \n",
    "         jap_bond_yield_1, jap_bond_yield_3, jap_bond_yield_5, jap_bond_yield_10, jap_c_cpi_y, jap_cpi_y]\n",
    "\n",
    "oil = [wti, dubai, brent]\n",
    "#          gold, bitcoin]"
   ]
  },
  {
   "cell_type": "code",
   "execution_count": null,
   "id": "c6d19f81",
   "metadata": {
    "ExecuteTime": {
     "end_time": "2023-05-03T12:25:26.750604Z",
     "start_time": "2023-05-03T12:25:26.734612Z"
    }
   },
   "outputs": [],
   "source": [
    "wti"
   ]
  },
  {
   "cell_type": "code",
   "execution_count": null,
   "id": "45347abe",
   "metadata": {
    "ExecuteTime": {
     "end_time": "2023-05-03T11:49:09.348011Z",
     "start_time": "2023-05-03T11:49:09.325033Z"
    }
   },
   "outputs": [],
   "source": [
    "len(korea) + len(usa) + len(china) + len(japan) + len(other)"
   ]
  },
  {
   "cell_type": "code",
   "execution_count": null,
   "id": "d887e792",
   "metadata": {
    "ExecuteTime": {
     "end_time": "2023-05-03T12:25:55.959063Z",
     "start_time": "2023-05-03T12:25:55.952038Z"
    }
   },
   "outputs": [],
   "source": [
    "def country_concat(lst, standard):\n",
    "    for i in lst:\n",
    "        if i.columns[1] != standard.columns[1]:\n",
    "            df = pd.merge(i, standard, how = 'right', left_on = 'Date', right_on = 'Date')\n",
    "            standard = df\n",
    "    df.set_index('Date', inplace = True)\n",
    "    df.fillna(method='ffill', inplace=True)\n",
    "    df.fillna(method='bfill', inplace=True)\n",
    "    \n",
    "    return df\n",
    "        "
   ]
  },
  {
   "cell_type": "code",
   "execution_count": null,
   "id": "250ac323",
   "metadata": {
    "ExecuteTime": {
     "end_time": "2023-05-03T11:57:38.118721Z",
     "start_time": "2023-05-03T11:57:38.045321Z"
    }
   },
   "outputs": [],
   "source": [
    "korea_df = country_concat(korea, kospi)\n",
    "korea_df"
   ]
  },
  {
   "cell_type": "code",
   "execution_count": null,
   "id": "26e641f2",
   "metadata": {
    "ExecuteTime": {
     "end_time": "2023-05-03T12:01:43.216677Z",
     "start_time": "2023-05-03T12:01:43.118937Z"
    }
   },
   "outputs": [],
   "source": [
    "usa_df = country_concat(usa, sp500)\n",
    "usa_df"
   ]
  },
  {
   "cell_type": "code",
   "execution_count": null,
   "id": "6c060a4d",
   "metadata": {
    "ExecuteTime": {
     "end_time": "2023-05-03T12:04:03.749347Z",
     "start_time": "2023-05-03T12:04:03.690098Z"
    }
   },
   "outputs": [],
   "source": [
    "china_df = country_concat(china, ssec)\n",
    "china_df"
   ]
  },
  {
   "cell_type": "code",
   "execution_count": null,
   "id": "cc14622c",
   "metadata": {
    "ExecuteTime": {
     "end_time": "2023-05-03T13:44:51.284634Z",
     "start_time": "2023-05-03T13:44:51.240753Z"
    },
    "scrolled": true
   },
   "outputs": [],
   "source": [
    "japan_df = country_concat(japan, nikkie)\n",
    "japan_df#.corr()"
   ]
  },
  {
   "cell_type": "code",
   "execution_count": null,
   "id": "f712e2c1",
   "metadata": {
    "ExecuteTime": {
     "end_time": "2023-05-03T12:27:19.899620Z",
     "start_time": "2023-05-03T12:27:19.873665Z"
    }
   },
   "outputs": [],
   "source": [
    "country_concat(oil, wti)"
   ]
  },
  {
   "cell_type": "code",
   "execution_count": null,
   "id": "2fab1df2",
   "metadata": {
    "ExecuteTime": {
     "end_time": "2023-05-03T12:29:34.738574Z",
     "start_time": "2023-05-03T12:29:34.715636Z"
    }
   },
   "outputs": [],
   "source": [
    "gold.set_index('Date').describe()"
   ]
  },
  {
   "cell_type": "code",
   "execution_count": null,
   "id": "020f4520",
   "metadata": {
    "ExecuteTime": {
     "end_time": "2023-05-03T12:29:16.148023Z",
     "start_time": "2023-05-03T12:29:16.124087Z"
    }
   },
   "outputs": [],
   "source": [
    "bitcoin.set_index('Date').describe()"
   ]
  },
  {
   "cell_type": "markdown",
   "id": "7017697d",
   "metadata": {},
   "source": [
    "# EDA"
   ]
  },
  {
   "cell_type": "markdown",
   "id": "ab74c527",
   "metadata": {},
   "source": [
    "### Data Correlation"
   ]
  },
  {
   "cell_type": "markdown",
   "id": "63fe598c",
   "metadata": {},
   "source": [
    "https://m.boostcourse.org/ds112/lecture/60085"
   ]
  },
  {
   "cell_type": "markdown",
   "id": "56a90375",
   "metadata": {},
   "source": [
    "https://youngwonhan-family.tistory.com/entry/%EB%8D%B0%EC%9D%B4%ED%84%B0-%EC%8B%9C%EA%B0%81%ED%99%94-%EC%83%81%EA%B4%80%EA%B4%80%EA%B3%84correlation-%EB%B6%84%EC%84%9D-Heatmap-with-Matplotlib-seaborn"
   ]
  },
  {
   "cell_type": "code",
   "execution_count": 8,
   "id": "c22a5afc",
   "metadata": {
    "ExecuteTime": {
     "end_time": "2023-05-25T18:48:27.728578Z",
     "start_time": "2023-05-25T18:48:27.724278Z"
    }
   },
   "outputs": [],
   "source": [
    "def concat_data(lst, standard_value):\n",
    "#     # 최소 기간 data 추출\n",
    "#     df_min_len = len(lst[0])\n",
    "#     for _ in range(len(lst)):\n",
    "#         if df_min_len >= len(lst[_]):\n",
    "#             df_min_len = len(lst[_])\n",
    "#             df_min = lst[_]\n",
    "#     x = df_min\n",
    "\n",
    "    res = standard_value\n",
    "    for i in lst:\n",
    "        if standard_value.columns[1] != i.columns[1]:\n",
    "            df = pd.merge(i, res, how = 'right', left_on = 'Date', right_on = 'Date')\n",
    "            df.fillna(method = 'ffill', inplace = True)\n",
    "            df.fillna(method = 'bfill', inplace = True)\n",
    "            res = df\n",
    "            \n",
    "    df = df.set_index('Date')\n",
    "    return df"
   ]
  },
  {
   "cell_type": "code",
   "execution_count": 10,
   "id": "ace4f406",
   "metadata": {
    "ExecuteTime": {
     "end_time": "2023-05-25T18:48:45.394357Z",
     "start_time": "2023-05-25T18:48:45.023717Z"
    }
   },
   "outputs": [],
   "source": [
    "all_data = concat_data(variables, kospi)"
   ]
  },
  {
   "cell_type": "code",
   "execution_count": 11,
   "id": "a3eeaaf5",
   "metadata": {
    "ExecuteTime": {
     "end_time": "2023-05-25T18:48:48.848004Z",
     "start_time": "2023-05-25T18:48:48.818908Z"
    }
   },
   "outputs": [
    {
     "data": {
      "text/html": [
       "<div>\n",
       "<style scoped>\n",
       "    .dataframe tbody tr th:only-of-type {\n",
       "        vertical-align: middle;\n",
       "    }\n",
       "\n",
       "    .dataframe tbody tr th {\n",
       "        vertical-align: top;\n",
       "    }\n",
       "\n",
       "    .dataframe thead th {\n",
       "        text-align: right;\n",
       "    }\n",
       "</style>\n",
       "<table border=\"1\" class=\"dataframe\">\n",
       "  <thead>\n",
       "    <tr style=\"text-align: right;\">\n",
       "      <th></th>\n",
       "      <th>bitcoin_Close</th>\n",
       "      <th>vix_Close</th>\n",
       "      <th>usd_krw_Close</th>\n",
       "      <th>us_unem_Close</th>\n",
       "      <th>gold_Close</th>\n",
       "      <th>dollar_Close</th>\n",
       "      <th>wti_Close</th>\n",
       "      <th>dubai_Close</th>\n",
       "      <th>brent_Close</th>\n",
       "      <th>us_cpi_y_Close</th>\n",
       "      <th>...</th>\n",
       "      <th>szse_Close</th>\n",
       "      <th>ssec_Close</th>\n",
       "      <th>nikkie_Close</th>\n",
       "      <th>ftse_Close</th>\n",
       "      <th>nasdaq_Close</th>\n",
       "      <th>russel2000_Close</th>\n",
       "      <th>sp500_Close</th>\n",
       "      <th>dow_Close</th>\n",
       "      <th>kosdaq_Close</th>\n",
       "      <th>kospi_Close</th>\n",
       "    </tr>\n",
       "    <tr>\n",
       "      <th>Date</th>\n",
       "      <th></th>\n",
       "      <th></th>\n",
       "      <th></th>\n",
       "      <th></th>\n",
       "      <th></th>\n",
       "      <th></th>\n",
       "      <th></th>\n",
       "      <th></th>\n",
       "      <th></th>\n",
       "      <th></th>\n",
       "      <th></th>\n",
       "      <th></th>\n",
       "      <th></th>\n",
       "      <th></th>\n",
       "      <th></th>\n",
       "      <th></th>\n",
       "      <th></th>\n",
       "      <th></th>\n",
       "      <th></th>\n",
       "      <th></th>\n",
       "      <th></th>\n",
       "    </tr>\n",
       "  </thead>\n",
       "  <tbody>\n",
       "    <tr>\n",
       "      <th>1990-01-03</th>\n",
       "      <td>0.1</td>\n",
       "      <td>18.19</td>\n",
       "      <td>683.50</td>\n",
       "      <td>0.054</td>\n",
       "      <td>398.7</td>\n",
       "      <td>95.220</td>\n",
       "      <td>23.68</td>\n",
       "      <td>104.00</td>\n",
       "      <td>21.69</td>\n",
       "      <td>0.052</td>\n",
       "      <td>...</td>\n",
       "      <td>1151.58</td>\n",
       "      <td>104.39</td>\n",
       "      <td>13867.61</td>\n",
       "      <td>5562.52</td>\n",
       "      <td>460.90</td>\n",
       "      <td>484.39</td>\n",
       "      <td>358.80</td>\n",
       "      <td>2809.73</td>\n",
       "      <td>557.00</td>\n",
       "      <td>908.59</td>\n",
       "    </tr>\n",
       "    <tr>\n",
       "      <th>1990-01-04</th>\n",
       "      <td>0.1</td>\n",
       "      <td>19.22</td>\n",
       "      <td>684.20</td>\n",
       "      <td>0.054</td>\n",
       "      <td>403.2</td>\n",
       "      <td>93.160</td>\n",
       "      <td>23.41</td>\n",
       "      <td>104.00</td>\n",
       "      <td>21.51</td>\n",
       "      <td>0.052</td>\n",
       "      <td>...</td>\n",
       "      <td>1151.58</td>\n",
       "      <td>104.39</td>\n",
       "      <td>13867.61</td>\n",
       "      <td>5562.52</td>\n",
       "      <td>459.39</td>\n",
       "      <td>484.39</td>\n",
       "      <td>355.70</td>\n",
       "      <td>2796.08</td>\n",
       "      <td>557.00</td>\n",
       "      <td>928.82</td>\n",
       "    </tr>\n",
       "    <tr>\n",
       "      <th>1990-01-05</th>\n",
       "      <td>0.1</td>\n",
       "      <td>20.11</td>\n",
       "      <td>683.70</td>\n",
       "      <td>0.054</td>\n",
       "      <td>410.9</td>\n",
       "      <td>93.620</td>\n",
       "      <td>23.08</td>\n",
       "      <td>104.00</td>\n",
       "      <td>22.00</td>\n",
       "      <td>0.052</td>\n",
       "      <td>...</td>\n",
       "      <td>1151.58</td>\n",
       "      <td>104.39</td>\n",
       "      <td>13867.61</td>\n",
       "      <td>5562.52</td>\n",
       "      <td>458.22</td>\n",
       "      <td>484.39</td>\n",
       "      <td>352.20</td>\n",
       "      <td>2773.25</td>\n",
       "      <td>557.00</td>\n",
       "      <td>915.11</td>\n",
       "    </tr>\n",
       "    <tr>\n",
       "      <th>1990-01-06</th>\n",
       "      <td>0.1</td>\n",
       "      <td>20.11</td>\n",
       "      <td>683.70</td>\n",
       "      <td>0.054</td>\n",
       "      <td>410.9</td>\n",
       "      <td>93.620</td>\n",
       "      <td>23.08</td>\n",
       "      <td>104.00</td>\n",
       "      <td>22.00</td>\n",
       "      <td>0.052</td>\n",
       "      <td>...</td>\n",
       "      <td>1151.58</td>\n",
       "      <td>104.39</td>\n",
       "      <td>13867.61</td>\n",
       "      <td>5562.52</td>\n",
       "      <td>458.22</td>\n",
       "      <td>484.39</td>\n",
       "      <td>352.20</td>\n",
       "      <td>2773.25</td>\n",
       "      <td>557.00</td>\n",
       "      <td>912.86</td>\n",
       "    </tr>\n",
       "    <tr>\n",
       "      <th>1990-01-08</th>\n",
       "      <td>0.1</td>\n",
       "      <td>20.26</td>\n",
       "      <td>683.60</td>\n",
       "      <td>0.054</td>\n",
       "      <td>407.2</td>\n",
       "      <td>92.800</td>\n",
       "      <td>21.62</td>\n",
       "      <td>104.00</td>\n",
       "      <td>20.52</td>\n",
       "      <td>0.052</td>\n",
       "      <td>...</td>\n",
       "      <td>1151.58</td>\n",
       "      <td>104.39</td>\n",
       "      <td>13867.61</td>\n",
       "      <td>5562.52</td>\n",
       "      <td>458.71</td>\n",
       "      <td>484.39</td>\n",
       "      <td>353.80</td>\n",
       "      <td>2794.37</td>\n",
       "      <td>557.00</td>\n",
       "      <td>919.46</td>\n",
       "    </tr>\n",
       "    <tr>\n",
       "      <th>...</th>\n",
       "      <td>...</td>\n",
       "      <td>...</td>\n",
       "      <td>...</td>\n",
       "      <td>...</td>\n",
       "      <td>...</td>\n",
       "      <td>...</td>\n",
       "      <td>...</td>\n",
       "      <td>...</td>\n",
       "      <td>...</td>\n",
       "      <td>...</td>\n",
       "      <td>...</td>\n",
       "      <td>...</td>\n",
       "      <td>...</td>\n",
       "      <td>...</td>\n",
       "      <td>...</td>\n",
       "      <td>...</td>\n",
       "      <td>...</td>\n",
       "      <td>...</td>\n",
       "      <td>...</td>\n",
       "      <td>...</td>\n",
       "      <td>...</td>\n",
       "    </tr>\n",
       "    <tr>\n",
       "      <th>2023-03-09</th>\n",
       "      <td>20361.8</td>\n",
       "      <td>22.61</td>\n",
       "      <td>1325.51</td>\n",
       "      <td>0.035</td>\n",
       "      <td>1834.6</td>\n",
       "      <td>105.305</td>\n",
       "      <td>75.72</td>\n",
       "      <td>81.24</td>\n",
       "      <td>81.59</td>\n",
       "      <td>0.060</td>\n",
       "      <td>...</td>\n",
       "      <td>11579.99</td>\n",
       "      <td>3276.09</td>\n",
       "      <td>28623.15</td>\n",
       "      <td>13118.81</td>\n",
       "      <td>11338.36</td>\n",
       "      <td>1826.59</td>\n",
       "      <td>3918.32</td>\n",
       "      <td>32256.05</td>\n",
       "      <td>809.22</td>\n",
       "      <td>2419.09</td>\n",
       "    </tr>\n",
       "    <tr>\n",
       "      <th>2023-03-10</th>\n",
       "      <td>20156.7</td>\n",
       "      <td>24.80</td>\n",
       "      <td>1320.24</td>\n",
       "      <td>0.035</td>\n",
       "      <td>1867.2</td>\n",
       "      <td>104.552</td>\n",
       "      <td>76.68</td>\n",
       "      <td>82.16</td>\n",
       "      <td>82.78</td>\n",
       "      <td>0.060</td>\n",
       "      <td>...</td>\n",
       "      <td>11442.54</td>\n",
       "      <td>3230.08</td>\n",
       "      <td>28143.97</td>\n",
       "      <td>12965.40</td>\n",
       "      <td>11138.89</td>\n",
       "      <td>1772.70</td>\n",
       "      <td>3861.59</td>\n",
       "      <td>31909.96</td>\n",
       "      <td>788.60</td>\n",
       "      <td>2394.59</td>\n",
       "    </tr>\n",
       "    <tr>\n",
       "      <th>2023-03-13</th>\n",
       "      <td>24114.4</td>\n",
       "      <td>26.52</td>\n",
       "      <td>1296.58</td>\n",
       "      <td>0.035</td>\n",
       "      <td>1916.5</td>\n",
       "      <td>103.713</td>\n",
       "      <td>74.80</td>\n",
       "      <td>81.01</td>\n",
       "      <td>80.77</td>\n",
       "      <td>0.060</td>\n",
       "      <td>...</td>\n",
       "      <td>11505.02</td>\n",
       "      <td>3268.70</td>\n",
       "      <td>27832.96</td>\n",
       "      <td>13079.91</td>\n",
       "      <td>11188.84</td>\n",
       "      <td>1744.30</td>\n",
       "      <td>3855.76</td>\n",
       "      <td>31819.05</td>\n",
       "      <td>788.89</td>\n",
       "      <td>2410.60</td>\n",
       "    </tr>\n",
       "    <tr>\n",
       "      <th>2023-03-14</th>\n",
       "      <td>24699.7</td>\n",
       "      <td>23.73</td>\n",
       "      <td>1304.55</td>\n",
       "      <td>0.035</td>\n",
       "      <td>1910.9</td>\n",
       "      <td>103.215</td>\n",
       "      <td>71.33</td>\n",
       "      <td>79.20</td>\n",
       "      <td>77.45</td>\n",
       "      <td>0.060</td>\n",
       "      <td>...</td>\n",
       "      <td>11416.57</td>\n",
       "      <td>3245.31</td>\n",
       "      <td>27222.04</td>\n",
       "      <td>12995.57</td>\n",
       "      <td>11428.15</td>\n",
       "      <td>1776.89</td>\n",
       "      <td>3920.56</td>\n",
       "      <td>32153.89</td>\n",
       "      <td>758.05</td>\n",
       "      <td>2348.97</td>\n",
       "    </tr>\n",
       "    <tr>\n",
       "      <th>2023-03-15</th>\n",
       "      <td>24282.7</td>\n",
       "      <td>26.14</td>\n",
       "      <td>1313.04</td>\n",
       "      <td>0.035</td>\n",
       "      <td>1948.1</td>\n",
       "      <td>104.276</td>\n",
       "      <td>67.61</td>\n",
       "      <td>77.25</td>\n",
       "      <td>73.28</td>\n",
       "      <td>0.060</td>\n",
       "      <td>...</td>\n",
       "      <td>11413.43</td>\n",
       "      <td>3263.31</td>\n",
       "      <td>27229.48</td>\n",
       "      <td>12998.04</td>\n",
       "      <td>11434.05</td>\n",
       "      <td>1745.94</td>\n",
       "      <td>3891.93</td>\n",
       "      <td>31876.22</td>\n",
       "      <td>781.17</td>\n",
       "      <td>2379.72</td>\n",
       "    </tr>\n",
       "  </tbody>\n",
       "</table>\n",
       "<p>8621 rows × 48 columns</p>\n",
       "</div>"
      ],
      "text/plain": [
       "            bitcoin_Close  vix_Close  usd_krw_Close  us_unem_Close  \\\n",
       "Date                                                                 \n",
       "1990-01-03            0.1      18.19         683.50          0.054   \n",
       "1990-01-04            0.1      19.22         684.20          0.054   \n",
       "1990-01-05            0.1      20.11         683.70          0.054   \n",
       "1990-01-06            0.1      20.11         683.70          0.054   \n",
       "1990-01-08            0.1      20.26         683.60          0.054   \n",
       "...                   ...        ...            ...            ...   \n",
       "2023-03-09        20361.8      22.61        1325.51          0.035   \n",
       "2023-03-10        20156.7      24.80        1320.24          0.035   \n",
       "2023-03-13        24114.4      26.52        1296.58          0.035   \n",
       "2023-03-14        24699.7      23.73        1304.55          0.035   \n",
       "2023-03-15        24282.7      26.14        1313.04          0.035   \n",
       "\n",
       "            gold_Close  dollar_Close  wti_Close  dubai_Close  brent_Close  \\\n",
       "Date                                                                        \n",
       "1990-01-03       398.7        95.220      23.68       104.00        21.69   \n",
       "1990-01-04       403.2        93.160      23.41       104.00        21.51   \n",
       "1990-01-05       410.9        93.620      23.08       104.00        22.00   \n",
       "1990-01-06       410.9        93.620      23.08       104.00        22.00   \n",
       "1990-01-08       407.2        92.800      21.62       104.00        20.52   \n",
       "...                ...           ...        ...          ...          ...   \n",
       "2023-03-09      1834.6       105.305      75.72        81.24        81.59   \n",
       "2023-03-10      1867.2       104.552      76.68        82.16        82.78   \n",
       "2023-03-13      1916.5       103.713      74.80        81.01        80.77   \n",
       "2023-03-14      1910.9       103.215      71.33        79.20        77.45   \n",
       "2023-03-15      1948.1       104.276      67.61        77.25        73.28   \n",
       "\n",
       "            us_cpi_y_Close  ...  szse_Close  ssec_Close  nikkie_Close  \\\n",
       "Date                        ...                                         \n",
       "1990-01-03           0.052  ...     1151.58      104.39      13867.61   \n",
       "1990-01-04           0.052  ...     1151.58      104.39      13867.61   \n",
       "1990-01-05           0.052  ...     1151.58      104.39      13867.61   \n",
       "1990-01-06           0.052  ...     1151.58      104.39      13867.61   \n",
       "1990-01-08           0.052  ...     1151.58      104.39      13867.61   \n",
       "...                    ...  ...         ...         ...           ...   \n",
       "2023-03-09           0.060  ...    11579.99     3276.09      28623.15   \n",
       "2023-03-10           0.060  ...    11442.54     3230.08      28143.97   \n",
       "2023-03-13           0.060  ...    11505.02     3268.70      27832.96   \n",
       "2023-03-14           0.060  ...    11416.57     3245.31      27222.04   \n",
       "2023-03-15           0.060  ...    11413.43     3263.31      27229.48   \n",
       "\n",
       "            ftse_Close  nasdaq_Close  russel2000_Close  sp500_Close  \\\n",
       "Date                                                                  \n",
       "1990-01-03     5562.52        460.90            484.39       358.80   \n",
       "1990-01-04     5562.52        459.39            484.39       355.70   \n",
       "1990-01-05     5562.52        458.22            484.39       352.20   \n",
       "1990-01-06     5562.52        458.22            484.39       352.20   \n",
       "1990-01-08     5562.52        458.71            484.39       353.80   \n",
       "...                ...           ...               ...          ...   \n",
       "2023-03-09    13118.81      11338.36           1826.59      3918.32   \n",
       "2023-03-10    12965.40      11138.89           1772.70      3861.59   \n",
       "2023-03-13    13079.91      11188.84           1744.30      3855.76   \n",
       "2023-03-14    12995.57      11428.15           1776.89      3920.56   \n",
       "2023-03-15    12998.04      11434.05           1745.94      3891.93   \n",
       "\n",
       "            dow_Close  kosdaq_Close  kospi_Close  \n",
       "Date                                              \n",
       "1990-01-03    2809.73        557.00       908.59  \n",
       "1990-01-04    2796.08        557.00       928.82  \n",
       "1990-01-05    2773.25        557.00       915.11  \n",
       "1990-01-06    2773.25        557.00       912.86  \n",
       "1990-01-08    2794.37        557.00       919.46  \n",
       "...               ...           ...          ...  \n",
       "2023-03-09   32256.05        809.22      2419.09  \n",
       "2023-03-10   31909.96        788.60      2394.59  \n",
       "2023-03-13   31819.05        788.89      2410.60  \n",
       "2023-03-14   32153.89        758.05      2348.97  \n",
       "2023-03-15   31876.22        781.17      2379.72  \n",
       "\n",
       "[8621 rows x 48 columns]"
      ]
     },
     "execution_count": 11,
     "metadata": {},
     "output_type": "execute_result"
    }
   ],
   "source": [
    "all_data"
   ]
  },
  {
   "cell_type": "markdown",
   "id": "106bc880",
   "metadata": {},
   "source": [
    "min_max"
   ]
  },
  {
   "cell_type": "code",
   "execution_count": 7,
   "id": "cc7956b7",
   "metadata": {
    "ExecuteTime": {
     "end_time": "2023-05-25T18:47:32.615553Z",
     "start_time": "2023-05-25T18:47:32.464373Z"
    }
   },
   "outputs": [],
   "source": [
    "from sklearn.preprocessing import MinMaxScaler\n",
    "\n",
    "minmax_scaler = MinMaxScaler()"
   ]
  },
  {
   "cell_type": "code",
   "execution_count": 13,
   "id": "44b584f4",
   "metadata": {
    "ExecuteTime": {
     "end_time": "2023-05-25T18:49:40.838348Z",
     "start_time": "2023-05-25T18:49:40.834105Z"
    }
   },
   "outputs": [],
   "source": [
    "def concat_data_scaling(lst, standard_value):\n",
    "#     # 최소 기간 data 추출\n",
    "#     df_min_len = len(lst[0])\n",
    "#     for _ in range(len(lst)):\n",
    "#         if df_min_len >= len(lst[_]):\n",
    "#             df_min_len = len(lst[_])\n",
    "#             df_min = lst[_]\n",
    "#     x = df_min\n",
    "\n",
    "    res = standard_value\n",
    "    for i in lst:\n",
    "        if standard_value.columns[1] != i.columns[1]:\n",
    "            df = pd.merge(i, res, how = 'right', left_on = 'Date', right_on = 'Date')\n",
    "            df.fillna(method = 'ffill', inplace = True)\n",
    "            df.fillna(method = 'bfill', inplace = True)\n",
    "            res = df\n",
    "            \n",
    "    df = df.set_index('Date')\n",
    "    minmax_scaled = minmax_scaler.fit_transform(df.values)\n",
    "    df = pd.DataFrame(data = minmax_scaled, columns = df.columns, index = df.index)\n",
    "    \n",
    "    return df"
   ]
  },
  {
   "cell_type": "code",
   "execution_count": 14,
   "id": "229c804d",
   "metadata": {
    "ExecuteTime": {
     "end_time": "2023-05-25T18:49:41.530792Z",
     "start_time": "2023-05-25T18:49:41.167250Z"
    }
   },
   "outputs": [],
   "source": [
    "all_data_sacling = concat_data_scaling(variables, kospi)"
   ]
  },
  {
   "cell_type": "code",
   "execution_count": 15,
   "id": "d5e227b5",
   "metadata": {
    "ExecuteTime": {
     "end_time": "2023-05-25T18:49:44.439695Z",
     "start_time": "2023-05-25T18:49:44.415148Z"
    }
   },
   "outputs": [
    {
     "data": {
      "text/html": [
       "<div>\n",
       "<style scoped>\n",
       "    .dataframe tbody tr th:only-of-type {\n",
       "        vertical-align: middle;\n",
       "    }\n",
       "\n",
       "    .dataframe tbody tr th {\n",
       "        vertical-align: top;\n",
       "    }\n",
       "\n",
       "    .dataframe thead th {\n",
       "        text-align: right;\n",
       "    }\n",
       "</style>\n",
       "<table border=\"1\" class=\"dataframe\">\n",
       "  <thead>\n",
       "    <tr style=\"text-align: right;\">\n",
       "      <th></th>\n",
       "      <th>bitcoin_Close</th>\n",
       "      <th>vix_Close</th>\n",
       "      <th>usd_krw_Close</th>\n",
       "      <th>us_unem_Close</th>\n",
       "      <th>gold_Close</th>\n",
       "      <th>dollar_Close</th>\n",
       "      <th>wti_Close</th>\n",
       "      <th>dubai_Close</th>\n",
       "      <th>brent_Close</th>\n",
       "      <th>us_cpi_y_Close</th>\n",
       "      <th>...</th>\n",
       "      <th>szse_Close</th>\n",
       "      <th>ssec_Close</th>\n",
       "      <th>nikkie_Close</th>\n",
       "      <th>ftse_Close</th>\n",
       "      <th>nasdaq_Close</th>\n",
       "      <th>russel2000_Close</th>\n",
       "      <th>sp500_Close</th>\n",
       "      <th>dow_Close</th>\n",
       "      <th>kosdaq_Close</th>\n",
       "      <th>kospi_Close</th>\n",
       "    </tr>\n",
       "    <tr>\n",
       "      <th>Date</th>\n",
       "      <th></th>\n",
       "      <th></th>\n",
       "      <th></th>\n",
       "      <th></th>\n",
       "      <th></th>\n",
       "      <th></th>\n",
       "      <th></th>\n",
       "      <th></th>\n",
       "      <th></th>\n",
       "      <th></th>\n",
       "      <th></th>\n",
       "      <th></th>\n",
       "      <th></th>\n",
       "      <th></th>\n",
       "      <th></th>\n",
       "      <th></th>\n",
       "      <th></th>\n",
       "      <th></th>\n",
       "      <th></th>\n",
       "      <th></th>\n",
       "      <th></th>\n",
       "    </tr>\n",
       "  </thead>\n",
       "  <tbody>\n",
       "    <tr>\n",
       "      <th>1990-01-03</th>\n",
       "      <td>0.000000</td>\n",
       "      <td>0.123046</td>\n",
       "      <td>0.000000</td>\n",
       "      <td>0.176991</td>\n",
       "      <td>0.079859</td>\n",
       "      <td>0.479221</td>\n",
       "      <td>0.335174</td>\n",
       "      <td>0.820897</td>\n",
       "      <td>0.088317</td>\n",
       "      <td>0.651786</td>\n",
       "      <td>...</td>\n",
       "      <td>0.011909</td>\n",
       "      <td>0.000000</td>\n",
       "      <td>0.288486</td>\n",
       "      <td>0.103122</td>\n",
       "      <td>0.008610</td>\n",
       "      <td>0.074373</td>\n",
       "      <td>0.014063</td>\n",
       "      <td>0.012912</td>\n",
       "      <td>0.370313</td>\n",
       "      <td>0.207784</td>\n",
       "    </tr>\n",
       "    <tr>\n",
       "      <th>1990-01-04</th>\n",
       "      <td>0.000000</td>\n",
       "      <td>0.137050</td>\n",
       "      <td>0.000548</td>\n",
       "      <td>0.176991</td>\n",
       "      <td>0.082337</td>\n",
       "      <td>0.437943</td>\n",
       "      <td>0.333698</td>\n",
       "      <td>0.820897</td>\n",
       "      <td>0.086998</td>\n",
       "      <td>0.651786</td>\n",
       "      <td>...</td>\n",
       "      <td>0.011909</td>\n",
       "      <td>0.000000</td>\n",
       "      <td>0.288486</td>\n",
       "      <td>0.103122</td>\n",
       "      <td>0.008514</td>\n",
       "      <td>0.074373</td>\n",
       "      <td>0.013375</td>\n",
       "      <td>0.012516</td>\n",
       "      <td>0.370313</td>\n",
       "      <td>0.214471</td>\n",
       "    </tr>\n",
       "    <tr>\n",
       "      <th>1990-01-05</th>\n",
       "      <td>0.000000</td>\n",
       "      <td>0.149150</td>\n",
       "      <td>0.000157</td>\n",
       "      <td>0.176991</td>\n",
       "      <td>0.086578</td>\n",
       "      <td>0.447161</td>\n",
       "      <td>0.331894</td>\n",
       "      <td>0.820897</td>\n",
       "      <td>0.090589</td>\n",
       "      <td>0.651786</td>\n",
       "      <td>...</td>\n",
       "      <td>0.011909</td>\n",
       "      <td>0.000000</td>\n",
       "      <td>0.288486</td>\n",
       "      <td>0.103122</td>\n",
       "      <td>0.008440</td>\n",
       "      <td>0.074373</td>\n",
       "      <td>0.012597</td>\n",
       "      <td>0.011853</td>\n",
       "      <td>0.370313</td>\n",
       "      <td>0.209939</td>\n",
       "    </tr>\n",
       "    <tr>\n",
       "      <th>1990-01-06</th>\n",
       "      <td>0.000000</td>\n",
       "      <td>0.149150</td>\n",
       "      <td>0.000157</td>\n",
       "      <td>0.176991</td>\n",
       "      <td>0.086578</td>\n",
       "      <td>0.447161</td>\n",
       "      <td>0.331894</td>\n",
       "      <td>0.820897</td>\n",
       "      <td>0.090589</td>\n",
       "      <td>0.651786</td>\n",
       "      <td>...</td>\n",
       "      <td>0.011909</td>\n",
       "      <td>0.000000</td>\n",
       "      <td>0.288486</td>\n",
       "      <td>0.103122</td>\n",
       "      <td>0.008440</td>\n",
       "      <td>0.074373</td>\n",
       "      <td>0.012597</td>\n",
       "      <td>0.011853</td>\n",
       "      <td>0.370313</td>\n",
       "      <td>0.209195</td>\n",
       "    </tr>\n",
       "    <tr>\n",
       "      <th>1990-01-08</th>\n",
       "      <td>0.000000</td>\n",
       "      <td>0.151190</td>\n",
       "      <td>0.000078</td>\n",
       "      <td>0.176991</td>\n",
       "      <td>0.084540</td>\n",
       "      <td>0.430730</td>\n",
       "      <td>0.323912</td>\n",
       "      <td>0.820897</td>\n",
       "      <td>0.079742</td>\n",
       "      <td>0.651786</td>\n",
       "      <td>...</td>\n",
       "      <td>0.011909</td>\n",
       "      <td>0.000000</td>\n",
       "      <td>0.288486</td>\n",
       "      <td>0.103122</td>\n",
       "      <td>0.008471</td>\n",
       "      <td>0.074373</td>\n",
       "      <td>0.012953</td>\n",
       "      <td>0.012466</td>\n",
       "      <td>0.370313</td>\n",
       "      <td>0.211377</td>\n",
       "    </tr>\n",
       "    <tr>\n",
       "      <th>...</th>\n",
       "      <td>...</td>\n",
       "      <td>...</td>\n",
       "      <td>...</td>\n",
       "      <td>...</td>\n",
       "      <td>...</td>\n",
       "      <td>...</td>\n",
       "      <td>...</td>\n",
       "      <td>...</td>\n",
       "      <td>...</td>\n",
       "      <td>...</td>\n",
       "      <td>...</td>\n",
       "      <td>...</td>\n",
       "      <td>...</td>\n",
       "      <td>...</td>\n",
       "      <td>...</td>\n",
       "      <td>...</td>\n",
       "      <td>...</td>\n",
       "      <td>...</td>\n",
       "      <td>...</td>\n",
       "      <td>...</td>\n",
       "      <td>...</td>\n",
       "    </tr>\n",
       "    <tr>\n",
       "      <th>2023-03-09</th>\n",
       "      <td>0.301531</td>\n",
       "      <td>0.183141</td>\n",
       "      <td>0.502946</td>\n",
       "      <td>0.008850</td>\n",
       "      <td>0.870683</td>\n",
       "      <td>0.681301</td>\n",
       "      <td>0.619670</td>\n",
       "      <td>0.600909</td>\n",
       "      <td>0.527338</td>\n",
       "      <td>0.723214</td>\n",
       "      <td>...</td>\n",
       "      <td>0.572543</td>\n",
       "      <td>0.529705</td>\n",
       "      <td>0.913320</td>\n",
       "      <td>0.482762</td>\n",
       "      <td>0.700033</td>\n",
       "      <td>0.708773</td>\n",
       "      <td>0.804882</td>\n",
       "      <td>0.868051</td>\n",
       "      <td>0.686058</td>\n",
       "      <td>0.707088</td>\n",
       "    </tr>\n",
       "    <tr>\n",
       "      <th>2023-03-10</th>\n",
       "      <td>0.298493</td>\n",
       "      <td>0.212916</td>\n",
       "      <td>0.498817</td>\n",
       "      <td>0.008850</td>\n",
       "      <td>0.888638</td>\n",
       "      <td>0.666212</td>\n",
       "      <td>0.624918</td>\n",
       "      <td>0.609801</td>\n",
       "      <td>0.536060</td>\n",
       "      <td>0.723214</td>\n",
       "      <td>...</td>\n",
       "      <td>0.565154</td>\n",
       "      <td>0.522021</td>\n",
       "      <td>0.893029</td>\n",
       "      <td>0.475054</td>\n",
       "      <td>0.687354</td>\n",
       "      <td>0.683301</td>\n",
       "      <td>0.792278</td>\n",
       "      <td>0.858000</td>\n",
       "      <td>0.660245</td>\n",
       "      <td>0.698989</td>\n",
       "    </tr>\n",
       "    <tr>\n",
       "      <th>2023-03-13</th>\n",
       "      <td>0.357102</td>\n",
       "      <td>0.236302</td>\n",
       "      <td>0.480282</td>\n",
       "      <td>0.008850</td>\n",
       "      <td>0.915790</td>\n",
       "      <td>0.649401</td>\n",
       "      <td>0.614640</td>\n",
       "      <td>0.598685</td>\n",
       "      <td>0.521328</td>\n",
       "      <td>0.723214</td>\n",
       "      <td>...</td>\n",
       "      <td>0.568513</td>\n",
       "      <td>0.528471</td>\n",
       "      <td>0.879859</td>\n",
       "      <td>0.480807</td>\n",
       "      <td>0.690529</td>\n",
       "      <td>0.669878</td>\n",
       "      <td>0.790983</td>\n",
       "      <td>0.855360</td>\n",
       "      <td>0.660608</td>\n",
       "      <td>0.704282</td>\n",
       "    </tr>\n",
       "    <tr>\n",
       "      <th>2023-03-14</th>\n",
       "      <td>0.365769</td>\n",
       "      <td>0.198368</td>\n",
       "      <td>0.486526</td>\n",
       "      <td>0.008850</td>\n",
       "      <td>0.912706</td>\n",
       "      <td>0.639422</td>\n",
       "      <td>0.595670</td>\n",
       "      <td>0.581191</td>\n",
       "      <td>0.496995</td>\n",
       "      <td>0.723214</td>\n",
       "      <td>...</td>\n",
       "      <td>0.563758</td>\n",
       "      <td>0.524565</td>\n",
       "      <td>0.853989</td>\n",
       "      <td>0.476570</td>\n",
       "      <td>0.705741</td>\n",
       "      <td>0.685281</td>\n",
       "      <td>0.805379</td>\n",
       "      <td>0.865084</td>\n",
       "      <td>0.622000</td>\n",
       "      <td>0.683910</td>\n",
       "    </tr>\n",
       "    <tr>\n",
       "      <th>2023-03-15</th>\n",
       "      <td>0.359594</td>\n",
       "      <td>0.231135</td>\n",
       "      <td>0.493177</td>\n",
       "      <td>0.008850</td>\n",
       "      <td>0.933194</td>\n",
       "      <td>0.660682</td>\n",
       "      <td>0.575333</td>\n",
       "      <td>0.562343</td>\n",
       "      <td>0.466432</td>\n",
       "      <td>0.723214</td>\n",
       "      <td>...</td>\n",
       "      <td>0.563589</td>\n",
       "      <td>0.527571</td>\n",
       "      <td>0.854304</td>\n",
       "      <td>0.476694</td>\n",
       "      <td>0.706116</td>\n",
       "      <td>0.670653</td>\n",
       "      <td>0.799018</td>\n",
       "      <td>0.857021</td>\n",
       "      <td>0.650943</td>\n",
       "      <td>0.694074</td>\n",
       "    </tr>\n",
       "  </tbody>\n",
       "</table>\n",
       "<p>8621 rows × 48 columns</p>\n",
       "</div>"
      ],
      "text/plain": [
       "            bitcoin_Close  vix_Close  usd_krw_Close  us_unem_Close  \\\n",
       "Date                                                                 \n",
       "1990-01-03       0.000000   0.123046       0.000000       0.176991   \n",
       "1990-01-04       0.000000   0.137050       0.000548       0.176991   \n",
       "1990-01-05       0.000000   0.149150       0.000157       0.176991   \n",
       "1990-01-06       0.000000   0.149150       0.000157       0.176991   \n",
       "1990-01-08       0.000000   0.151190       0.000078       0.176991   \n",
       "...                   ...        ...            ...            ...   \n",
       "2023-03-09       0.301531   0.183141       0.502946       0.008850   \n",
       "2023-03-10       0.298493   0.212916       0.498817       0.008850   \n",
       "2023-03-13       0.357102   0.236302       0.480282       0.008850   \n",
       "2023-03-14       0.365769   0.198368       0.486526       0.008850   \n",
       "2023-03-15       0.359594   0.231135       0.493177       0.008850   \n",
       "\n",
       "            gold_Close  dollar_Close  wti_Close  dubai_Close  brent_Close  \\\n",
       "Date                                                                        \n",
       "1990-01-03    0.079859      0.479221   0.335174     0.820897     0.088317   \n",
       "1990-01-04    0.082337      0.437943   0.333698     0.820897     0.086998   \n",
       "1990-01-05    0.086578      0.447161   0.331894     0.820897     0.090589   \n",
       "1990-01-06    0.086578      0.447161   0.331894     0.820897     0.090589   \n",
       "1990-01-08    0.084540      0.430730   0.323912     0.820897     0.079742   \n",
       "...                ...           ...        ...          ...          ...   \n",
       "2023-03-09    0.870683      0.681301   0.619670     0.600909     0.527338   \n",
       "2023-03-10    0.888638      0.666212   0.624918     0.609801     0.536060   \n",
       "2023-03-13    0.915790      0.649401   0.614640     0.598685     0.521328   \n",
       "2023-03-14    0.912706      0.639422   0.595670     0.581191     0.496995   \n",
       "2023-03-15    0.933194      0.660682   0.575333     0.562343     0.466432   \n",
       "\n",
       "            us_cpi_y_Close  ...  szse_Close  ssec_Close  nikkie_Close  \\\n",
       "Date                        ...                                         \n",
       "1990-01-03        0.651786  ...    0.011909    0.000000      0.288486   \n",
       "1990-01-04        0.651786  ...    0.011909    0.000000      0.288486   \n",
       "1990-01-05        0.651786  ...    0.011909    0.000000      0.288486   \n",
       "1990-01-06        0.651786  ...    0.011909    0.000000      0.288486   \n",
       "1990-01-08        0.651786  ...    0.011909    0.000000      0.288486   \n",
       "...                    ...  ...         ...         ...           ...   \n",
       "2023-03-09        0.723214  ...    0.572543    0.529705      0.913320   \n",
       "2023-03-10        0.723214  ...    0.565154    0.522021      0.893029   \n",
       "2023-03-13        0.723214  ...    0.568513    0.528471      0.879859   \n",
       "2023-03-14        0.723214  ...    0.563758    0.524565      0.853989   \n",
       "2023-03-15        0.723214  ...    0.563589    0.527571      0.854304   \n",
       "\n",
       "            ftse_Close  nasdaq_Close  russel2000_Close  sp500_Close  \\\n",
       "Date                                                                  \n",
       "1990-01-03    0.103122      0.008610          0.074373     0.014063   \n",
       "1990-01-04    0.103122      0.008514          0.074373     0.013375   \n",
       "1990-01-05    0.103122      0.008440          0.074373     0.012597   \n",
       "1990-01-06    0.103122      0.008440          0.074373     0.012597   \n",
       "1990-01-08    0.103122      0.008471          0.074373     0.012953   \n",
       "...                ...           ...               ...          ...   \n",
       "2023-03-09    0.482762      0.700033          0.708773     0.804882   \n",
       "2023-03-10    0.475054      0.687354          0.683301     0.792278   \n",
       "2023-03-13    0.480807      0.690529          0.669878     0.790983   \n",
       "2023-03-14    0.476570      0.705741          0.685281     0.805379   \n",
       "2023-03-15    0.476694      0.706116          0.670653     0.799018   \n",
       "\n",
       "            dow_Close  kosdaq_Close  kospi_Close  \n",
       "Date                                              \n",
       "1990-01-03   0.012912      0.370313     0.207784  \n",
       "1990-01-04   0.012516      0.370313     0.214471  \n",
       "1990-01-05   0.011853      0.370313     0.209939  \n",
       "1990-01-06   0.011853      0.370313     0.209195  \n",
       "1990-01-08   0.012466      0.370313     0.211377  \n",
       "...               ...           ...          ...  \n",
       "2023-03-09   0.868051      0.686058     0.707088  \n",
       "2023-03-10   0.858000      0.660245     0.698989  \n",
       "2023-03-13   0.855360      0.660608     0.704282  \n",
       "2023-03-14   0.865084      0.622000     0.683910  \n",
       "2023-03-15   0.857021      0.650943     0.694074  \n",
       "\n",
       "[8621 rows x 48 columns]"
      ]
     },
     "execution_count": 15,
     "metadata": {},
     "output_type": "execute_result"
    }
   ],
   "source": [
    "all_data_sacling"
   ]
  },
  {
   "cell_type": "code",
   "execution_count": null,
   "id": "8f382b9a",
   "metadata": {
    "ExecuteTime": {
     "end_time": "2023-05-23T08:30:41.973296Z",
     "start_time": "2023-05-23T08:30:31.595644Z"
    }
   },
   "outputs": [],
   "source": [
    "all_data.plot(subplots=True, figsize=(30,100))\n",
    "plt.show()"
   ]
  },
  {
   "cell_type": "code",
   "execution_count": null,
   "id": "46ccb5a3",
   "metadata": {
    "ExecuteTime": {
     "end_time": "2023-05-25T16:15:34.547190Z",
     "start_time": "2023-05-25T16:15:34.507358Z"
    },
    "scrolled": true
   },
   "outputs": [],
   "source": [
    "df_corr = all_data.corr()\n",
    "df_corr = df_corr.apply(lambda x: round(x ,2))"
   ]
  },
  {
   "cell_type": "code",
   "execution_count": null,
   "id": "9402cec5",
   "metadata": {
    "ExecuteTime": {
     "end_time": "2023-05-25T16:15:34.787677Z",
     "start_time": "2023-05-25T16:15:34.735562Z"
    },
    "scrolled": true
   },
   "outputs": [],
   "source": [
    "df_corr"
   ]
  },
  {
   "cell_type": "code",
   "execution_count": null,
   "id": "8fb38164",
   "metadata": {
    "ExecuteTime": {
     "end_time": "2023-05-25T16:15:38.964424Z",
     "start_time": "2023-05-25T16:15:38.829164Z"
    }
   },
   "outputs": [],
   "source": [
    "# series 이므로 df로 변환한다\n",
    "\n",
    "s = df_corr.kospi_Close\n",
    "\n",
    "# 0.7 이상 추출\n",
    "cor_vis = pd.DataFrame(s[s > 0.7].sort_values(ascending=False))#, columns=['corr'])\n",
    "f = {'kospi_Close':'{:.2f}'} #column col A to 2 decimals\n",
    "cor_vis.style.format(f).bar(cmap='Wistia', vmax = 1, vmin = 0.5)\n",
    "# cor_vis"
   ]
  },
  {
   "cell_type": "code",
   "execution_count": null,
   "id": "efee869c",
   "metadata": {
    "ExecuteTime": {
     "end_time": "2023-05-25T16:15:39.092464Z",
     "start_time": "2023-05-25T16:15:39.084026Z"
    },
    "scrolled": false
   },
   "outputs": [],
   "source": [
    "# -0.7 이상 추출\n",
    "\n",
    "cor_vis2 = pd.DataFrame(s[s < -0.7].sort_values(ascending=True))\n",
    "f = {'kospi_Close':'{:.2f}'} #column col A to 2 decimals\n",
    "cor_vis2.style.format(f).bar(cmap='Wistia', vmax = -0.5, vmin = -1)"
   ]
  },
  {
   "cell_type": "markdown",
   "id": "5dac55b5",
   "metadata": {},
   "source": [
    "### Correlation over 0.7"
   ]
  },
  {
   "cell_type": "code",
   "execution_count": null,
   "id": "c449f548",
   "metadata": {
    "ExecuteTime": {
     "end_time": "2023-04-29T09:49:05.758888Z",
     "start_time": "2023-04-29T09:49:05.744916Z"
    }
   },
   "outputs": [],
   "source": [
    "\n",
    "cor_over_70 = [dow, sp500, russel2000, nasdaq, ftse, nikkie, ssec, szse, hsi, jap_bond_yield_10, \n",
    "               kor_bond_yield_1, kor_bond_yield_3, kor_bond_yield_5, kor_bond_yield_10, kor_interest, \n",
    "               us_bond_yield_3, us_bond_yield_5, us_bond_yield_10, brent, wti, bitcoin, gold]\n",
    "\n",
    "'''\n",
    "dow                  90.01.02 \n",
    "sp500                90.01.02 \n",
    "russel2000               01.01.03 \n",
    "nasdaq               90.01.02 \n",
    "ftse                     04.03.05\n",
    "nikkie                   01.01.05 \n",
    "ssec                   90.12.20 \n",
    "szse                   95.01.24 \n",
    "hsi                      00.12.05 \n",
    "jap_bond_yield_10        06.02.07\n",
    "kor_bond_yield_1       95.05.03\n",
    "kor_bond_yield_3       95.05.03\n",
    "kor_bond_yield_5       95.05.03\n",
    "kor_bond_yield_10        00.10.26\n",
    "kor_interest         99.05\n",
    "us_bond_yield_3      90.01.08\n",
    "us_bond_yield_5      90.01.08\n",
    "us_bond_yield_10     90.01.08\n",
    "brent                90.01.02\n",
    "wti                  90.01.02\n",
    "# bitcoin                  10.07.18\n",
    "gold                 90.01.02\n",
    "\n",
    "'''"
   ]
  },
  {
   "cell_type": "markdown",
   "id": "31fc15c3",
   "metadata": {},
   "source": [
    "### 공적분 분석"
   ]
  },
  {
   "cell_type": "markdown",
   "id": "31eee3ab",
   "metadata": {},
   "source": [
    "#### 전체 feature 중 공적분 분석을 하여 장기적으로 연관성이 높은 feature 추출"
   ]
  },
  {
   "cell_type": "markdown",
   "id": "030593b1",
   "metadata": {},
   "source": [
    "https://hyen4110.tistory.com/38"
   ]
  },
  {
   "cell_type": "markdown",
   "id": "3e196b77",
   "metadata": {},
   "source": [
    "https://hyen4110.tistory.com/39"
   ]
  },
  {
   "cell_type": "markdown",
   "id": "7ea03140",
   "metadata": {},
   "source": [
    "https://lsjsj92.tistory.com/584"
   ]
  },
  {
   "cell_type": "code",
   "execution_count": null,
   "id": "babf2c7b",
   "metadata": {
    "ExecuteTime": {
     "end_time": "2023-05-25T12:00:12.427053Z",
     "start_time": "2023-05-25T12:00:11.972837Z"
    }
   },
   "outputs": [],
   "source": [
    "from statsmodels.tsa.stattools import coint"
   ]
  },
  {
   "cell_type": "code",
   "execution_count": null,
   "id": "69267875",
   "metadata": {
    "ExecuteTime": {
     "end_time": "2023-05-25T12:00:12.546647Z",
     "start_time": "2023-05-25T12:00:12.432863Z"
    }
   },
   "outputs": [],
   "source": [
    "all_data"
   ]
  },
  {
   "cell_type": "code",
   "execution_count": null,
   "id": "fcdd848d",
   "metadata": {
    "ExecuteTime": {
     "end_time": "2023-05-25T12:00:16.482155Z",
     "start_time": "2023-05-25T12:00:14.942845Z"
    }
   },
   "outputs": [],
   "source": [
    "_, p_value, _ = coint(all_data.kospi_Close, all_data.gold_Close)\n",
    "print('Correlation : ', all_data.kospi_Close.corr(all_data.gold_Close))\n",
    "print('Cointegration test p-value : ' , p_value)"
   ]
  },
  {
   "cell_type": "code",
   "execution_count": null,
   "id": "1a3a0c06",
   "metadata": {
    "ExecuteTime": {
     "end_time": "2023-05-25T12:00:16.512076Z",
     "start_time": "2023-05-25T12:00:16.489443Z"
    }
   },
   "outputs": [],
   "source": [
    "def coint_with_kospi(df, index):\n",
    "    _, p_value, _ = coint(df['kospi_Close'], df[index])\n",
    "    print('\\033[48;5;227m' + f'Kospi_{index} Cointegration' + '\\033[0m')\n",
    "    print('Correlation : ', df['kospi_Close'].corr(df[index]))\n",
    "    print('Cointegration test p-value : ' , p_value)\n",
    "    \n",
    "    if p_value < 0.05:\n",
    "        return '\\033[34m' + '귀무가설 기각' + '\\033[0m'\n",
    "    else:\n",
    "        return '\\033[31m' + '귀무가설 채택' + '\\033[0m'"
   ]
  },
  {
   "cell_type": "code",
   "execution_count": null,
   "id": "542e92d3",
   "metadata": {
    "ExecuteTime": {
     "end_time": "2023-05-23T09:49:45.433380Z",
     "start_time": "2023-05-23T09:49:45.426399Z"
    }
   },
   "outputs": [],
   "source": [
    "all_data.columns"
   ]
  },
  {
   "cell_type": "code",
   "execution_count": null,
   "id": "f8a43029",
   "metadata": {
    "ExecuteTime": {
     "end_time": "2023-05-25T12:00:20.070089Z",
     "start_time": "2023-05-25T12:00:20.053274Z"
    }
   },
   "outputs": [],
   "source": [
    "# len(list(cor_vis.index) + list(cor_vis2.index))\n",
    "cor_over_7 = list(cor_vis.index) + list(cor_vis2.index)\n",
    "cor_over_7"
   ]
  },
  {
   "cell_type": "code",
   "execution_count": null,
   "id": "7e2920fd",
   "metadata": {
    "ExecuteTime": {
     "end_time": "2023-05-25T12:01:44.383624Z",
     "start_time": "2023-05-25T12:00:28.876806Z"
    },
    "scrolled": true
   },
   "outputs": [],
   "source": [
    "for i in all_data:\n",
    "    print(coint_with_kospi(all_data, str(i)) + '\\n')"
   ]
  },
  {
   "cell_type": "code",
   "execution_count": null,
   "id": "0c542e82",
   "metadata": {
    "ExecuteTime": {
     "end_time": "2023-05-25T12:01:53.732046Z",
     "start_time": "2023-05-25T12:01:44.390572Z"
    },
    "scrolled": true
   },
   "outputs": [],
   "source": [
    "for i in cor_over_7:\n",
    "    print('\\033[48;5;227m' + f'Kospi_{str(i)} Scatter' + '\\033[0m')\n",
    "    plt.scatter(all_data['kospi_Close'], all_data[str(i)])\n",
    "    plt.show()"
   ]
  },
  {
   "cell_type": "code",
   "execution_count": null,
   "id": "74659486",
   "metadata": {
    "ExecuteTime": {
     "end_time": "2023-05-01T08:55:13.486418Z",
     "start_time": "2023-05-01T08:55:13.478398Z"
    }
   },
   "outputs": [],
   "source": [
    "# 날짜 다른 두 컬럼 간 상관관계 및 그래프 도출\n",
    "\n",
    "def get_corr(lst, standard_value):\n",
    "    for i in lst:\n",
    "        if str(i) != str(standard_value):\n",
    "            oneone = pd.merge(i, standard_value, how = 'right', left_on = 'Date', right_on = 'Date')\n",
    "            oneone = oneone.set_index('Date')\n",
    "            oneone.fillna(method = 'ffill', inplace = True)\n",
    "            oneone.fillna(method = 'bfill', inplace = True)\n",
    "            minmax_scaled = minmax_scaler.fit_transform(oneone.values)\n",
    "            df = pd.DataFrame(data = minmax_scaled, columns = oneone.columns, index = oneone.index)\n",
    "            print(df)\n",
    "            print(df.corr())\n",
    "        return df\n",
    "\n",
    "#             df.plot(figsize=(20,5))\n",
    "#             plt.title(f'{standard_value.columns[1]}_{i.columns[1]}')\n",
    "#             plt.show()\n",
    "#             print('🍟🍟🍟🍟🍟🍟🍟🍟🍟🍟🍟🍟🍟🍟🍟🍟🍟🍟🍟🍟🍟')\n",
    "#             print('')\n",
    "#             print('')"
   ]
  },
  {
   "cell_type": "code",
   "execution_count": null,
   "id": "4d5d2794",
   "metadata": {
    "ExecuteTime": {
     "end_time": "2023-05-01T08:55:24.829705Z",
     "start_time": "2023-05-01T08:55:14.953550Z"
    },
    "scrolled": true
   },
   "outputs": [],
   "source": [
    "get_corr(variables, kospi)"
   ]
  },
  {
   "cell_type": "markdown",
   "id": "4516bfc5",
   "metadata": {},
   "source": [
    "### 다중공선성 확인"
   ]
  },
  {
   "cell_type": "markdown",
   "id": "67c5af3d",
   "metadata": {},
   "source": [
    "https://blog.naver.com/sanghan1990/221121607688"
   ]
  },
  {
   "cell_type": "markdown",
   "id": "55ce681f",
   "metadata": {},
   "source": [
    "https://ysyblog.tistory.com/171"
   ]
  },
  {
   "cell_type": "markdown",
   "id": "3a0f4c88",
   "metadata": {},
   "source": [
    "#### 분산팽창지수 (VIF : Variance Inflation Factor)"
   ]
  },
  {
   "cell_type": "markdown",
   "id": "3a322b1b",
   "metadata": {},
   "source": [
    "https://zephyrus1111.tistory.com/66"
   ]
  },
  {
   "cell_type": "code",
   "execution_count": null,
   "id": "754c04e1",
   "metadata": {
    "ExecuteTime": {
     "end_time": "2023-05-01T09:35:46.776739Z",
     "start_time": "2023-05-01T09:35:46.766766Z"
    }
   },
   "outputs": [],
   "source": [
    "from statsmodels.formula.api import ols\n",
    "from statsmodels.stats.outliers_influence import variance_inflation_factor"
   ]
  },
  {
   "cell_type": "code",
   "execution_count": null,
   "id": "118fc932",
   "metadata": {
    "ExecuteTime": {
     "end_time": "2023-05-01T09:42:11.463163Z",
     "start_time": "2023-05-01T09:42:11.458146Z"
    }
   },
   "outputs": [],
   "source": [
    "low_period_data.columns"
   ]
  },
  {
   "cell_type": "code",
   "execution_count": null,
   "id": "aca62cd8",
   "metadata": {
    "ExecuteTime": {
     "end_time": "2023-05-01T09:51:41.967237Z",
     "start_time": "2023-05-01T09:51:41.954042Z"
    }
   },
   "outputs": [],
   "source": [
    "def listToString(str_list):\n",
    "    result = \"\"\n",
    "    for s in str_list:\n",
    "        result += s + \" \"\n",
    "    return result.strip()\n",
    "\n",
    "str_list = ['bitcoin_Close', 'vix_Close', 'usd_krw_Close', 'us_unem_Value',\n",
    "             'gold_Close', 'dollar_Close', 'wti_Close', 'brent_Close',\n",
    "             'us_cpi_y_Change', 'us_cpi_m_Change', 'us_c_cpi_y_Change',\n",
    "             'us_c_cpi_m_Change', 'kor_interest_Value', 'kor_cpi_y_Change',\n",
    "             'kor_cpi_m_Change', 'jap_cpi_y_Change', 'jap_c_cpi_y_Change',\n",
    "                'chi_cpi_y_Change', 'chi_cpi_m_Change', 'us_bond_yield_10_Close',\n",
    "                'us_bond_yield_5_Close', 'us_bond_yield_3_Close',\n",
    "                'us_bond_yield_1_Close', 'kor_bond_yield_10_Close',\n",
    "                'kor_bond_yield_5_Close', 'kor_bond_yield_3_Close',\n",
    "                'kor_bond_yield_1_Close', 'jap_bond_yield_10_Close',\n",
    "                'jap_bond_yield_5_Close', 'jap_bond_yield_3_Close',\n",
    "                'jap_bond_yield_1_Close', 'chi_bond_yield_10_Close',\n",
    "                'chi_bond_yield_5_Close', 'chi_bond_yield_3_Close',\n",
    "                'chi_bond_yield_1_Close', 'hsi_Close', 'szse_Close', 'ssec_Close',\n",
    "                'nikkie_Close', 'ftse_Close', 'nasdaq_Close', 'russel2000_Close',\n",
    "                'sp500_Close', 'dow_Close', 'kosdaq_Close', 'kospi_Close','dubai_Close']\n",
    "result = listToString(str_list)\n",
    "print(result)"
   ]
  },
  {
   "cell_type": "code",
   "execution_count": null,
   "id": "83d1c0cc",
   "metadata": {
    "ExecuteTime": {
     "end_time": "2023-05-01T09:53:39.885420Z",
     "start_time": "2023-05-01T09:53:39.741858Z"
    },
    "scrolled": true
   },
   "outputs": [],
   "source": [
    "def standardize_var(x):\n",
    "    mean = np.mean(x)\n",
    "    std = np.sqrt(np.sum(np.square(x-mean))/(len(x)-1))\n",
    "    return ((x-mean)/std)/np.sqrt(len(x)-1)\n",
    " \n",
    "sdf = low_period_data.apply(standardize_var) ## 데이터 표준화\n",
    "sdf_X = sdf[['bitcoin_Close', 'vix_Close', 'usd_krw_Close', 'us_unem_Value',\n",
    "             'gold_Close', 'dollar_Close', 'wti_Close', 'brent_Close',\n",
    "             'us_cpi_y_Change', 'us_cpi_m_Change', 'us_c_cpi_y_Change',\n",
    "             'us_c_cpi_m_Change', 'kor_interest_Value', 'kor_cpi_y_Change',\n",
    "             'kor_cpi_m_Change', 'jap_cpi_y_Change', 'jap_c_cpi_y_Change',\n",
    "             'chi_cpi_y_Change', 'chi_cpi_m_Change', 'us_bond_yield_10_Close',\n",
    "             'us_bond_yield_5_Close', 'us_bond_yield_3_Close',\n",
    "             'us_bond_yield_1_Close', 'kor_bond_yield_10_Close',\n",
    "             'kor_bond_yield_5_Close', 'kor_bond_yield_3_Close',\n",
    "             'kor_bond_yield_1_Close', 'jap_bond_yield_10_Close',\n",
    "             'jap_bond_yield_5_Close', 'jap_bond_yield_3_Close',\n",
    "             'jap_bond_yield_1_Close', 'chi_bond_yield_10_Close',\n",
    "             'chi_bond_yield_5_Close', 'chi_bond_yield_3_Close',\n",
    "             'chi_bond_yield_1_Close', 'hsi_Close', 'szse_Close', 'ssec_Close',\n",
    "             'nikkie_Close', 'ftse_Close', 'nasdaq_Close', 'russel2000_Close',\n",
    "             'sp500_Close', 'dow_Close', 'kosdaq_Close', 'kospi_Close','dubai_Close']]\n",
    "\n",
    "corr = np.array(sdf_X.corr()) ## 상관계수 행렬\n",
    "corr_inv = np.linalg.inv(corr) ## 상관계수행렬의 역행렬\n",
    " \n",
    "## standardized된 변수들로 이루어진 선형 회귀모형은 절편항이 없다. \n",
    "## 따라서 절편항은 제외한다. 포함시켜도 절편항이 0에 가까운 값으로 추정된다.\n",
    "fit = ols('kospi_Close ~ bitcoin_Close + vix_Close + usd_krw_Close \\\n",
    "                       + us_unem_Value + gold_Close + dollar_Close + wti_Close + brent_Close + us_cpi_y_Change \\\n",
    "                       + us_cpi_m_Change + us_c_cpi_y_Change + us_c_cpi_m_Change + kor_interest_Value \\\n",
    "                       + kor_cpi_y_Change + kor_cpi_m_Change + jap_cpi_y_Change + jap_c_cpi_y_Change \\\n",
    "                       + chi_cpi_y_Change + chi_cpi_m_Change + us_bond_yield_10_Close + us_bond_yield_5_Close \\\n",
    "                       + us_bond_yield_3_Close + us_bond_yield_1_Close + kor_bond_yield_10_Close + kor_bond_yield_5_Close \\\n",
    "                       + kor_bond_yield_3_Close + kor_bond_yield_1_Close + jap_bond_yield_10_Close + jap_bond_yield_5_Close \\\n",
    "                       + jap_bond_yield_3_Close + jap_bond_yield_1_Close + chi_bond_yield_10_Close + chi_bond_yield_5_Close \\\n",
    "                       + chi_bond_yield_3_Close + chi_bond_yield_1_Close + hsi_Close + szse_Close + ssec_Close + nikkie_Close \\\n",
    "                       + ftse_Close + nasdaq_Close + russel2000_Close + sp500_Close + dow_Close + kosdaq_Close + kospi_Close \\\n",
    "                       + dubai_Close', data = low_period_data).fit()"
   ]
  },
  {
   "cell_type": "code",
   "execution_count": null,
   "id": "8e3c6168",
   "metadata": {
    "ExecuteTime": {
     "end_time": "2023-05-01T09:54:31.460578Z",
     "start_time": "2023-05-01T09:54:30.739491Z"
    }
   },
   "outputs": [],
   "source": [
    "## 모형 정의(실제적합은 일어나지 않는다.)\n",
    "model = ols('kospi_Close ~ bitcoin_Close + vix_Close + usd_krw_Close \\\n",
    "                       + us_unem_Value + gold_Close + dollar_Close + wti_Close + brent_Close + us_cpi_y_Change \\\n",
    "                       + us_cpi_m_Change + us_c_cpi_y_Change + us_c_cpi_m_Change + kor_interest_Value \\\n",
    "                       + kor_cpi_y_Change + kor_cpi_m_Change + jap_cpi_y_Change + jap_c_cpi_y_Change \\\n",
    "                       + chi_cpi_y_Change + chi_cpi_m_Change + us_bond_yield_10_Close + us_bond_yield_5_Close \\\n",
    "                       + us_bond_yield_3_Close + us_bond_yield_1_Close + kor_bond_yield_10_Close + kor_bond_yield_5_Close \\\n",
    "                       + kor_bond_yield_3_Close + kor_bond_yield_1_Close + jap_bond_yield_10_Close + jap_bond_yield_5_Close \\\n",
    "                       + jap_bond_yield_3_Close + jap_bond_yield_1_Close + chi_bond_yield_10_Close + chi_bond_yield_5_Close \\\n",
    "                       + chi_bond_yield_3_Close + chi_bond_yield_1_Close + hsi_Close + szse_Close + ssec_Close + nikkie_Close \\\n",
    "                       + ftse_Close + nasdaq_Close + russel2000_Close + sp500_Close + dow_Close + kosdaq_Close + kospi_Close \\\n",
    "                       + dubai_Close', data = low_period_data)\n",
    " \n",
    "variables = []\n",
    "reg_coef = []\n",
    "vif = []\n",
    "for i in range(len(model.exog_names)):\n",
    "    col_name = model.exog_names[i]\n",
    "    variables.append(col_name)\n",
    "    reg_coef.append(model.fit().params[col_name])\n",
    "    vif.append(variance_inflation_factor(model.exog, i))\n",
    "    \n",
    "df_res = pd.DataFrame()\n",
    "df_res['Variable'] = variables\n",
    "df_res['Estimate'] = reg_coef\n",
    "df_res['VIF'] = vif"
   ]
  },
  {
   "cell_type": "code",
   "execution_count": null,
   "id": "cb55c099",
   "metadata": {
    "ExecuteTime": {
     "end_time": "2023-05-01T09:54:47.107855Z",
     "start_time": "2023-05-01T09:54:47.087910Z"
    }
   },
   "outputs": [],
   "source": [
    "df_res"
   ]
  },
  {
   "cell_type": "markdown",
   "id": "e4694592",
   "metadata": {},
   "source": [
    "#### PCA"
   ]
  },
  {
   "cell_type": "markdown",
   "id": "44440ae2",
   "metadata": {},
   "source": [
    "https://jalynne-kim.medium.com/%EB%8D%B0%EC%9D%B4%ED%84%B0-%EC%82%AC%EC%9D%B4%EC%96%B8%EC%8A%A4-%EC%A3%BC%EC%84%B1%EB%B6%84-%EB%B6%84%EC%84%9D-pca-principal-component-analysis-%EA%B3%BC-biplot-%EA%B0%9C%EB%85%90%EA%B3%BC-%EC%82%AC%EB%A1%80-%EB%A0%88%EB%93%9C%EC%99%80%EC%9D%B8-%EB%8D%B0%EC%9D%B4%ED%84%B0-437283592031"
   ]
  },
  {
   "cell_type": "code",
   "execution_count": null,
   "id": "8416a69b",
   "metadata": {
    "ExecuteTime": {
     "end_time": "2023-05-01T10:01:39.066085Z",
     "start_time": "2023-05-01T10:01:38.481959Z"
    }
   },
   "outputs": [],
   "source": [
    "from sklearn.preprocessing import StandardScaler\n",
    "from sklearn.decomposition import PCA"
   ]
  },
  {
   "cell_type": "code",
   "execution_count": null,
   "id": "567fa8e6",
   "metadata": {
    "ExecuteTime": {
     "end_time": "2023-05-01T10:05:22.963591Z",
     "start_time": "2023-05-01T10:05:22.947525Z"
    }
   },
   "outputs": [],
   "source": [
    "# 표준화\n",
    "scaler = StandardScaler()\n",
    "A = scaler.fit_transform(low_period_data)\n",
    "print(\"\\n Standardized Data: \\n\", A)"
   ]
  },
  {
   "cell_type": "code",
   "execution_count": null,
   "id": "6d845456",
   "metadata": {
    "ExecuteTime": {
     "end_time": "2023-05-01T10:05:42.836512Z",
     "start_time": "2023-05-01T10:05:42.794586Z"
    }
   },
   "outputs": [],
   "source": [
    "# projection, pca 매트릭스 만들기\n",
    "pca_low_period_data = PCA()\n",
    "pca_low_period_data.fit(A)\n",
    "\n",
    "print(\"\\n Eigenvectors: \\n\", pca_low_period_data.components_)\n",
    "print(\"\\n Eigenvalues: \\n\",pca_low_period_data.explained_variance_)\n",
    "\n",
    "B = pca_low_period_data.transform(A)\n",
    "print(\"\\n Projected Data: \\n\", B)"
   ]
  },
  {
   "cell_type": "markdown",
   "id": "dbd6e8aa",
   "metadata": {},
   "source": [
    "PCA 시각화 (Biplot)"
   ]
  },
  {
   "cell_type": "code",
   "execution_count": null,
   "id": "67e30a32",
   "metadata": {
    "ExecuteTime": {
     "end_time": "2023-05-01T10:52:38.778101Z",
     "start_time": "2023-05-01T10:52:38.764140Z"
    }
   },
   "outputs": [],
   "source": [
    "def biplot(score, coeff, pcax, pcay, labels=None):\n",
    "    pca1 = pcax - 1\n",
    "    pca2 = pcay - 1\n",
    "    xs = score[:, pca1]\n",
    "    ys = score[:, pca2]\n",
    "    n = score.shape[1]\n",
    "    scalex = 1.0 / (xs.max()- xs.min())\n",
    "    scaley = 1.0 / (ys.max()- ys.min())\n",
    "    plt.figure(figsize=(30,30))\n",
    "    plt.scatter(xs * scalex, ys * scaley)\n",
    "    \n",
    "    for i in range(n):\n",
    "        plt.arrow(0, 0, coeff[i, pca1], coeff[i, pca2],color = 'r', alpha = 0.5)\n",
    "        if labels is None:\n",
    "            plt.text(coeff[i,pca1] * 1.15, coeff[i,pca2] * 1.15, \"Var\"+str(i+1), color='g', ha='center', va='center')\n",
    "        else:\n",
    "            plt.text(coeff[i,pca1] * 1.15, coeff[i,pca2] * 1.15, labels[i], color='g', ha='center', va='center')\n",
    "    \n",
    "    plt.xlim(-1,1)\n",
    "    plt.ylim(-1,1)\n",
    "    plt.xlabel(\"PC{}\".format(pcax))\n",
    "    plt.ylabel(\"PC{}\".format(pcay))\n",
    "    plt.grid()"
   ]
  },
  {
   "cell_type": "code",
   "execution_count": null,
   "id": "932d8f28",
   "metadata": {
    "ExecuteTime": {
     "end_time": "2023-05-01T10:52:40.599000Z",
     "start_time": "2023-05-01T10:52:40.038716Z"
    }
   },
   "outputs": [],
   "source": [
    "biplot(B, pca_low_period_data.components_, 1, 2, labels = low_period_data.columns)"
   ]
  },
  {
   "cell_type": "markdown",
   "id": "921e92f6",
   "metadata": {},
   "source": [
    "컬럼수 변경하여 PCA 하면 다른 결과가 나옴"
   ]
  },
  {
   "cell_type": "markdown",
   "id": "2300ed1d",
   "metadata": {},
   "source": [
    "# Modeling"
   ]
  },
  {
   "cell_type": "markdown",
   "id": "b59056c9",
   "metadata": {},
   "source": [
    "## 정상성 확인"
   ]
  },
  {
   "cell_type": "code",
   "execution_count": null,
   "id": "94a3807c",
   "metadata": {
    "ExecuteTime": {
     "end_time": "2023-05-23T11:28:57.619533Z",
     "start_time": "2023-05-23T11:28:57.600584Z"
    }
   },
   "outputs": [],
   "source": [
    "from statsmodels.graphics.tsaplots import plot_acf\n",
    "from statsmodels.graphics.tsaplots import plot_pacf\n",
    "from statsmodels.tsa.stattools import adfuller"
   ]
  },
  {
   "cell_type": "code",
   "execution_count": null,
   "id": "7397deff",
   "metadata": {},
   "outputs": [],
   "source": [
    "# ACF and PACF \n",
    "\n",
    "lag_acf = acf(ts_diff, nlags=20)\n",
    "lag_pacf = pacf(ts_diff, nlags=20, method='ols')\n",
    "\n",
    "# ACF\n",
    "plt.figure(figsize=(16,8))\n",
    "\n",
    "plt.subplot(121) \n",
    "plt.plot(lag_acf)\n",
    "plt.axhline(y=0,linestyle='--',color='gray')\n",
    "plt.axhline(y=-1.96/np.sqrt(len(ts_diff)),linestyle='--',color='gray')\n",
    "plt.axhline(y=1.96/np.sqrt(len(ts_diff)),linestyle='--',color='gray')\n",
    "plt.title('Autocorrelation Function')\n",
    "\n",
    "# PACF\n",
    "plt.subplot(122)\n",
    "plt.plot(lag_pacf)\n",
    "plt.axhline(y=0,linestyle='--',color='gray')\n",
    "plt.axhline(y=-1.96/np.sqrt(len(ts_diff)),linestyle='--',color='gray')\n",
    "plt.axhline(y=1.96/np.sqrt(len(ts_diff)),linestyle='--',color='gray')\n",
    "plt.title('Partial Autocorrelation Function')\n",
    "plt.tight_layout()"
   ]
  },
  {
   "cell_type": "code",
   "execution_count": null,
   "id": "c5ef66d6",
   "metadata": {
    "ExecuteTime": {
     "end_time": "2023-04-29T10:15:51.891378Z",
     "start_time": "2023-04-29T10:15:51.712855Z"
    }
   },
   "outputs": [],
   "source": [
    "for i in data:\n",
    "    plot_acf(data[i], lags=50)\n",
    "    plt.title('ACF for %s' % i)\n",
    "    plt.show()\n",
    "\n",
    "for i in data:\n",
    "    plot_pacf(data[i], lags=50)\n",
    "    plt.title('PACF for %s' % i)\n",
    "    plt.show()"
   ]
  },
  {
   "cell_type": "code",
   "execution_count": null,
   "id": "50e6f3f2",
   "metadata": {
    "ExecuteTime": {
     "end_time": "2023-05-23T11:28:48.143784Z",
     "start_time": "2023-05-23T11:28:48.131781Z"
    }
   },
   "outputs": [],
   "source": [
    "def adf(time_series):\n",
    "    result = adfuller(time_series.values)\n",
    "    print('ADF Statistic: %f' % result[0])\n",
    "    print('p-value: %f' % result[1])"
   ]
  },
  {
   "cell_type": "code",
   "execution_count": null,
   "id": "d5ae2f52",
   "metadata": {
    "ExecuteTime": {
     "end_time": "2023-05-23T11:28:59.047928Z",
     "start_time": "2023-05-23T11:28:58.580169Z"
    }
   },
   "outputs": [],
   "source": [
    "adf(df)"
   ]
  },
  {
   "cell_type": "code",
   "execution_count": null,
   "id": "d6adef22",
   "metadata": {
    "ExecuteTime": {
     "end_time": "2023-04-29T10:15:51.891378Z",
     "start_time": "2023-04-29T10:15:51.712855Z"
    },
    "scrolled": true
   },
   "outputs": [],
   "source": [
    "def adf(time_series):\n",
    "    result = adfuller(time_series.values)\n",
    "    print('ADF Statistic: %f' % result[0])\n",
    "    print('p-value: %f' % result[1])\n",
    "\n",
    "for i in data:\n",
    "    print('--Test statistic for %s' % i)\n",
    "    adf(data[i])"
   ]
  },
  {
   "cell_type": "markdown",
   "id": "5c2da8b9",
   "metadata": {},
   "source": [
    "---"
   ]
  },
  {
   "cell_type": "markdown",
   "id": "b5deb515",
   "metadata": {},
   "source": [
    "## Univariate Time Series"
   ]
  },
  {
   "cell_type": "markdown",
   "id": "f172858e",
   "metadata": {},
   "source": [
    "### ARIMA"
   ]
  },
  {
   "cell_type": "markdown",
   "id": "d21ec652",
   "metadata": {},
   "source": [
    "https://colab.research.google.com/drive/1wAa1c7QH25x2tggiYCo6SUTKOkE-y_Xq#scrollTo=CdsgVdhp-Kbr"
   ]
  },
  {
   "cell_type": "code",
   "execution_count": null,
   "id": "228da652",
   "metadata": {
    "ExecuteTime": {
     "end_time": "2023-05-24T08:17:44.369965Z",
     "start_time": "2023-05-24T08:17:44.362985Z"
    }
   },
   "outputs": [],
   "source": [
    "import statsmodels.api as sm"
   ]
  },
  {
   "cell_type": "code",
   "execution_count": null,
   "id": "c6701167",
   "metadata": {},
   "outputs": [],
   "source": [
    "# ARIMA LİBRARY\n",
    "from statsmodels.tsa.arima_model import ARIMA\n",
    "from pandas import datetime"
   ]
  },
  {
   "cell_type": "code",
   "execution_count": null,
   "id": "f65f2abe",
   "metadata": {
    "ExecuteTime": {
     "end_time": "2023-05-24T08:11:58.007986Z",
     "start_time": "2023-05-24T08:11:58.000947Z"
    }
   },
   "outputs": [],
   "source": [
    "kospi.reset_index(inplace=True)"
   ]
  },
  {
   "cell_type": "code",
   "execution_count": null,
   "id": "a2c11614",
   "metadata": {
    "ExecuteTime": {
     "end_time": "2023-05-24T08:16:07.689014Z",
     "start_time": "2023-05-24T08:16:07.677045Z"
    }
   },
   "outputs": [],
   "source": [
    "kospi['Date'] = pd.to_datetime(kospi['Date'], format='%Y-%m-%d') #, errors=raise)"
   ]
  },
  {
   "cell_type": "code",
   "execution_count": null,
   "id": "d36fba7e",
   "metadata": {
    "ExecuteTime": {
     "end_time": "2023-05-24T08:16:41.708442Z",
     "start_time": "2023-05-24T08:16:41.692485Z"
    }
   },
   "outputs": [],
   "source": [
    "type(kospi.Date[0])"
   ]
  },
  {
   "cell_type": "code",
   "execution_count": null,
   "id": "49343326",
   "metadata": {
    "ExecuteTime": {
     "end_time": "2023-05-24T08:19:03.495028Z",
     "start_time": "2023-05-24T08:19:03.488035Z"
    }
   },
   "outputs": [],
   "source": [
    "kospi.set_index('Date', inplace=True)"
   ]
  },
  {
   "cell_type": "code",
   "execution_count": null,
   "id": "3dc63605",
   "metadata": {
    "ExecuteTime": {
     "end_time": "2023-05-24T08:25:49.259137Z",
     "start_time": "2023-05-24T08:25:49.245177Z"
    }
   },
   "outputs": [],
   "source": [
    "kospi_500 = kospi.iloc[-500:]"
   ]
  },
  {
   "cell_type": "code",
   "execution_count": null,
   "id": "8ef3c156",
   "metadata": {
    "ExecuteTime": {
     "end_time": "2023-05-24T08:30:00.993726Z",
     "start_time": "2023-05-24T08:30:00.973780Z"
    }
   },
   "outputs": [],
   "source": [
    "len(kospi_500.index)"
   ]
  },
  {
   "cell_type": "code",
   "execution_count": null,
   "id": "d8f9f615",
   "metadata": {
    "ExecuteTime": {
     "end_time": "2023-05-24T08:29:29.313221Z",
     "start_time": "2023-05-24T08:29:29.305243Z"
    }
   },
   "outputs": [],
   "source": [
    "kospi.index[500]"
   ]
  },
  {
   "cell_type": "code",
   "execution_count": null,
   "id": "0598cff2",
   "metadata": {
    "ExecuteTime": {
     "end_time": "2023-05-24T08:40:39.496216Z",
     "start_time": "2023-05-24T08:40:38.844559Z"
    }
   },
   "outputs": [],
   "source": [
    "# fit model\n",
    "model = sm.tsa.arima.ARIMA(kospi, order=(1,0,1)) # (ARMA) = (1,0,1)\n",
    "model_fit = model.fit() # disp=0)\n",
    "\n",
    "# predict\n",
    "start_index = kospi.index[8000]\n",
    "end_index = kospi.index[-1]\n",
    "forecast = model_fit.predict(start=start_index, end=end_index) # start=start_index, end=end_index\n",
    "\n",
    "# visualization\n",
    "plt.figure(figsize=(22,10))\n",
    "plt.plot(kospi.index, kospi.kospi_Close, label = \"original\")\n",
    "plt.plot(forecast, label = \"predicted\")\n",
    "plt.title(\"Kospi Predict\")\n",
    "plt.xlabel(\"Date\")\n",
    "plt.ylabel(\"Kospi Price\")\n",
    "plt.legend()\n",
    "plt.show()"
   ]
  },
  {
   "cell_type": "code",
   "execution_count": null,
   "id": "20f3c3da",
   "metadata": {
    "ExecuteTime": {
     "end_time": "2023-05-24T08:40:53.871269Z",
     "start_time": "2023-05-24T08:40:53.863291Z"
    }
   },
   "outputs": [],
   "source": [
    "y_test = kospi[8000:]\n",
    "y_pred = forecast"
   ]
  },
  {
   "cell_type": "markdown",
   "id": "f30eb605",
   "metadata": {},
   "source": [
    "#### Evaluation"
   ]
  },
  {
   "cell_type": "code",
   "execution_count": null,
   "id": "566f6bdd",
   "metadata": {
    "ExecuteTime": {
     "end_time": "2023-05-25T16:14:29.116405Z",
     "start_time": "2023-05-25T16:14:28.218052Z"
    }
   },
   "outputs": [],
   "source": [
    "from sklearn.metrics import mean_absolute_error\n",
    "from sklearn.metrics import mean_squared_error"
   ]
  },
  {
   "cell_type": "code",
   "execution_count": null,
   "id": "303a2e18",
   "metadata": {
    "ExecuteTime": {
     "end_time": "2023-05-25T16:14:29.123149Z",
     "start_time": "2023-05-25T16:14:29.117403Z"
    }
   },
   "outputs": [],
   "source": [
    "def MSE(y_test, y_pred):\n",
    "    return mean_squared_error(y_test, y_pred)\n",
    "    \n",
    "def RMSE(mse):\n",
    "    return np.sqrt(mse)\n",
    "\n",
    "def MAE(y_test, y_pred):\n",
    "    return mean_absolute_error(y_test, y_pred)\n",
    "\n",
    "def MAPE(y_test, y_pred): \n",
    "    y_test = y_test.values\n",
    "    y_pred = y_pred.values\n",
    "    return np.mean(np.abs((y_test - y_pred) / y_test)) * 100 \n",
    "\n",
    "# Define SMAPE loss function\n",
    "def SMAPE(true, pred):\n",
    "    return np.mean((np.abs(true-pred))/(np.abs(true) + np.abs(pred))) * 100"
   ]
  },
  {
   "cell_type": "code",
   "execution_count": null,
   "id": "6a854efa",
   "metadata": {
    "ExecuteTime": {
     "end_time": "2023-05-25T13:27:52.047215Z",
     "start_time": "2023-05-25T13:27:52.027270Z"
    }
   },
   "outputs": [],
   "source": [
    "print('MSE: %f' % MSE(y_test, y_pred))\n",
    "print('RMSE: %f' % RMSE(MSE(y_test, y_pred)))    \n",
    "print('MAE: %f' % MAE(y_test, y_pred))\n",
    "print('MAPE: %f' % MAPE(y_test, y_pred))\n",
    "print('MAPE: %f' % SMAPE(y_test, y_pred))"
   ]
  },
  {
   "cell_type": "code",
   "execution_count": null,
   "id": "b0a7c31e",
   "metadata": {
    "ExecuteTime": {
     "end_time": "2023-04-28T07:01:06.160592Z",
     "start_time": "2023-04-28T07:01:06.131635Z"
    }
   },
   "outputs": [],
   "source": [
    "# lst 내에서, 가장 적게 수집된 데이터를 기준으로 concat\n",
    "\n",
    "def concat_data(lst):\n",
    "    # 최소 기간 data 추출\n",
    "    df_min_len = len(lst[0])\n",
    "    for _ in range(len(lst)):\n",
    "        if df_min_len >= len(lst[_]):\n",
    "            df_min_len = len(lst[_])\n",
    "            df_min = lst[_]\n",
    "    x = df_min\n",
    "\n",
    "    for i in lst:\n",
    "        if x.columns[1] == i.columns[1]:\n",
    "            pass\n",
    "        elif i.columns[1] == lst[0].columns[1]:\n",
    "            oneone = pd.merge(lst[0], x, how = 'right', left_on = 'Date', right_on = 'Date')\n",
    "            oneone.fillna(method = 'ffill', inplace = True)\n",
    "        else:\n",
    "            oneone = pd.merge(i, oneone, how = 'right', left_on = 'Date', right_on = 'Date')\n",
    "            oneone.fillna(method = 'ffill', inplace = True)\n",
    "\n",
    "    oneone = oneone.set_index('Date')\n",
    "    minmax_scaled = minmax_scaler.fit_transform(oneone.values)\n",
    "    # {main_kospi}_concat\n",
    "#     main_kospi_concat = pd.DataFrame(data = minmax_scaled, columns = oneone.columns, index = oneone.index)\n",
    "#     bon_yield_kospi_concat = pd.DataFrame(data = minmax_scaled, columns = oneone.columns, index = oneone.index)\n",
    "#     other_kospi_concat = pd.DataFrame(data = minmax_scaled, columns = oneone.columns, index = oneone.index)\n",
    "    all_feature = pd.DataFrame(data = minmax_scaled, columns = oneone.columns, index = oneone.index)\n",
    "    \n",
    "#     return main_kospi_concat\n",
    "#     return bon_yield_kospi_concat\n",
    "#     return other_kospi_concat\n",
    "    return all_feature\n"
   ]
  },
  {
   "cell_type": "markdown",
   "id": "2fa33dac",
   "metadata": {},
   "source": [
    "---"
   ]
  },
  {
   "cell_type": "markdown",
   "id": "3fbacb20",
   "metadata": {},
   "source": [
    "### LSTM"
   ]
  },
  {
   "cell_type": "markdown",
   "id": "249072b8",
   "metadata": {},
   "source": [
    "https://colab.research.google.com/drive/1lWvMZyR2vzK6uXHrxTuBuhBLrdrGl7bx#scrollTo=poQuNXT2Sof9"
   ]
  },
  {
   "cell_type": "markdown",
   "id": "45cbaede",
   "metadata": {},
   "source": [
    "https://www.kaggle.com/code/bryanb/stock-prices-forecasting-with-lstm"
   ]
  },
  {
   "cell_type": "code",
   "execution_count": null,
   "id": "90a8ee8c",
   "metadata": {
    "ExecuteTime": {
     "end_time": "2023-05-24T09:08:42.466648Z",
     "start_time": "2023-05-24T09:08:42.456661Z"
    }
   },
   "outputs": [],
   "source": [
    "df = kospi.reset_index().copy()"
   ]
  },
  {
   "cell_type": "code",
   "execution_count": null,
   "id": "0d86ebd9",
   "metadata": {
    "ExecuteTime": {
     "end_time": "2023-05-24T09:08:09.005982Z",
     "start_time": "2023-05-24T09:08:09.000007Z"
    }
   },
   "outputs": [],
   "source": [
    "# Define a specific window for training Neural Network \n",
    "def univariate_data(dataset, start_index, end_index, history_size, target_size):\n",
    "    data = []\n",
    "    labels = []\n",
    "\n",
    "    start_index = start_index + history_size\n",
    "    if end_index is None:\n",
    "        end_index = len(dataset) - target_size\n",
    "\n",
    "    for i in range(start_index, end_index):\n",
    "        indices = range(i - history_size, i)\n",
    "        # Reshape data from (history_size,) to (history_size, 1)\n",
    "        data.append(np.reshape(dataset[indices], (history_size, 1)))\n",
    "        labels.append(dataset[i+target_size])\n",
    "    return np.array(data), np.array(labels)"
   ]
  },
  {
   "cell_type": "code",
   "execution_count": null,
   "id": "95eede77",
   "metadata": {
    "ExecuteTime": {
     "end_time": "2023-05-24T09:08:20.962438Z",
     "start_time": "2023-05-24T09:08:20.944449Z"
    }
   },
   "outputs": [],
   "source": [
    "TRAIN_SPLIT = 8000 ## about 2083 days\n",
    "tf.random.set_seed(13) ##"
   ]
  },
  {
   "cell_type": "code",
   "execution_count": null,
   "id": "64e98ac1",
   "metadata": {
    "ExecuteTime": {
     "end_time": "2023-05-24T09:09:23.538125Z",
     "start_time": "2023-05-24T09:09:23.529006Z"
    }
   },
   "outputs": [],
   "source": [
    "# Extract temperature (degree) data & Make univariate series\n",
    "uni_data = df['kospi_Close']\n",
    "uni_data.index = df['Date']\n",
    "print(uni_data.head())"
   ]
  },
  {
   "cell_type": "code",
   "execution_count": null,
   "id": "ddc62c2c",
   "metadata": {
    "ExecuteTime": {
     "end_time": "2023-05-24T09:09:36.943126Z",
     "start_time": "2023-05-24T09:09:36.932120Z"
    }
   },
   "outputs": [],
   "source": [
    "# Standardization\n",
    "uni_data = uni_data.values\n",
    "uni_train_mean = uni_data[:TRAIN_SPLIT].mean()\n",
    "uni_train_std = uni_data[:TRAIN_SPLIT].std()\n",
    "uni_data = (uni_data - uni_train_mean) / uni_train_std  # Standardization\n",
    "\n",
    "print(uni_data)"
   ]
  },
  {
   "cell_type": "code",
   "execution_count": null,
   "id": "cd964260",
   "metadata": {
    "ExecuteTime": {
     "end_time": "2023-05-24T09:10:01.818372Z",
     "start_time": "2023-05-24T09:10:01.732577Z"
    }
   },
   "outputs": [],
   "source": [
    "univariate_past_history = 20\n",
    "univariate_future_target = 0\n",
    "\n",
    "## univariate_data 함수 이용\n",
    "x_train_uni, y_train_uni = univariate_data(uni_data, 0, TRAIN_SPLIT,\n",
    "                                         univariate_past_history,\n",
    "                                         univariate_future_target)\n",
    "x_val_uni, y_val_uni = univariate_data(uni_data, TRAIN_SPLIT, None,\n",
    "                                     univariate_past_history,\n",
    "                                     univariate_future_target)\n",
    "\n",
    "print('Single window of past history')\n",
    "print(x_train_uni[0])\n",
    "print('\\n Target temperature to predict')\n",
    "print(y_train_uni[0])"
   ]
  },
  {
   "cell_type": "code",
   "execution_count": null,
   "id": "71a54571",
   "metadata": {
    "ExecuteTime": {
     "end_time": "2023-05-24T09:10:22.350330Z",
     "start_time": "2023-05-24T09:10:22.338363Z"
    }
   },
   "outputs": [],
   "source": [
    "# Defind function for Visualization\n",
    "def create_time_steps(length):\n",
    "    return list(range(-length, 0))\n",
    "\n",
    "\n",
    "def show_plot(plot_data, delta, title):\n",
    "    labels = ['History', 'True Future', 'Model Prediction']\n",
    "    marker = ['.-', 'rx', 'go']\n",
    "    time_steps = create_time_steps(plot_data[0].shape[0])\n",
    "    if delta:\n",
    "        future = delta\n",
    "    else:\n",
    "        future = 0\n",
    "\n",
    "    plt.title(title)\n",
    "    for i, x in enumerate(plot_data):\n",
    "        if i:\n",
    "            plt.plot(future, plot_data[i], marker[i], markersize=10, label=labels[i])\n",
    "        else:\n",
    "            plt.plot(time_steps, plot_data[i].flatten(), marker[i], label=labels[i])\n",
    "    plt.legend()\n",
    "    plt.axis('auto')\n",
    "    plt.xlim([time_steps[0], (future+5)*2])\n",
    "    plt.xlabel('Time-Step')\n",
    "    return plt"
   ]
  },
  {
   "cell_type": "code",
   "execution_count": null,
   "id": "a3c3b3df",
   "metadata": {
    "ExecuteTime": {
     "end_time": "2023-05-24T09:10:24.203493Z",
     "start_time": "2023-05-24T09:10:24.040927Z"
    }
   },
   "outputs": [],
   "source": [
    "show_plot([x_train_uni[0], y_train_uni[0]], 0, 'Sample Example').show()"
   ]
  },
  {
   "cell_type": "code",
   "execution_count": null,
   "id": "bbdd079d",
   "metadata": {
    "ExecuteTime": {
     "end_time": "2023-05-24T09:10:30.487641Z",
     "start_time": "2023-05-24T09:10:30.326036Z"
    }
   },
   "outputs": [],
   "source": [
    "def baseline(history):\n",
    "    return np.mean(history)\n",
    "\n",
    "show_plot([x_train_uni[0], y_train_uni[0], baseline(x_train_uni[0])], 0, 'Sample Example').show()"
   ]
  },
  {
   "cell_type": "code",
   "execution_count": null,
   "id": "35970ad2",
   "metadata": {
    "ExecuteTime": {
     "end_time": "2023-05-24T09:01:41.990923Z",
     "start_time": "2023-05-24T09:01:34.238136Z"
    }
   },
   "outputs": [],
   "source": [
    "import tensorflow as tf"
   ]
  },
  {
   "cell_type": "code",
   "execution_count": null,
   "id": "8c015955",
   "metadata": {
    "ExecuteTime": {
     "end_time": "2023-05-24T09:10:41.567660Z",
     "start_time": "2023-05-24T09:10:41.558673Z"
    }
   },
   "outputs": [],
   "source": [
    "BATCH_SIZE = 256\n",
    "BUFFER_SIZE = 10000"
   ]
  },
  {
   "cell_type": "code",
   "execution_count": null,
   "id": "cb57daeb",
   "metadata": {
    "ExecuteTime": {
     "end_time": "2023-05-24T09:10:43.021869Z",
     "start_time": "2023-05-24T09:10:42.893169Z"
    }
   },
   "outputs": [],
   "source": [
    "train_univariate = tf.data.Dataset.from_tensor_slices((x_train_uni, y_train_uni))\n",
    "train_univariate = train_univariate.cache().shuffle(BUFFER_SIZE).batch(BATCH_SIZE).repeat()\n",
    "\n",
    "val_univariate = tf.data.Dataset.from_tensor_slices((x_val_uni, y_val_uni))\n",
    "val_univariate = val_univariate.batch(BATCH_SIZE).repeat()"
   ]
  },
  {
   "cell_type": "code",
   "execution_count": null,
   "id": "009d4b1b",
   "metadata": {
    "ExecuteTime": {
     "end_time": "2023-05-24T09:35:38.966949Z",
     "start_time": "2023-05-24T09:35:38.949996Z"
    }
   },
   "outputs": [],
   "source": [
    "train_univariate"
   ]
  },
  {
   "cell_type": "code",
   "execution_count": null,
   "id": "e75b0ae6",
   "metadata": {
    "ExecuteTime": {
     "end_time": "2023-05-24T09:10:55.530062Z",
     "start_time": "2023-05-24T09:10:55.519028Z"
    }
   },
   "outputs": [],
   "source": [
    "np.array(x_train_uni).shape[-2:]"
   ]
  },
  {
   "cell_type": "code",
   "execution_count": null,
   "id": "ea004f6a",
   "metadata": {
    "ExecuteTime": {
     "end_time": "2023-05-24T09:11:11.258480Z",
     "start_time": "2023-05-24T09:11:10.944253Z"
    }
   },
   "outputs": [],
   "source": [
    "simple_lstm_model = tf.keras.models.Sequential([\n",
    "    tf.keras.layers.LSTM(8, input_shape=np.array(x_train_uni).shape[-2:]),\n",
    "    tf.keras.layers.Dense(1)\n",
    "])\n",
    "\n",
    "simple_lstm_model.compile(optimizer='adam', loss='mae')"
   ]
  },
  {
   "cell_type": "markdown",
   "id": "a64c8d31",
   "metadata": {},
   "source": [
    "#### Train Model"
   ]
  },
  {
   "cell_type": "code",
   "execution_count": null,
   "id": "04c938c5",
   "metadata": {
    "ExecuteTime": {
     "end_time": "2023-05-24T09:11:52.493278Z",
     "start_time": "2023-05-24T09:11:30.886496Z"
    }
   },
   "outputs": [],
   "source": [
    "EVALUATION_INTERVAL = 200\n",
    "EPOCHS = 10\n",
    "\n",
    "simple_lstm_model.fit(train_univariate, epochs=EPOCHS,\n",
    "                      steps_per_epoch=EVALUATION_INTERVAL,\n",
    "                      validation_data=val_univariate, validation_steps=50)"
   ]
  },
  {
   "cell_type": "markdown",
   "id": "f7e03af9",
   "metadata": {},
   "source": [
    "#### Forecasts & Visualize"
   ]
  },
  {
   "cell_type": "code",
   "execution_count": null,
   "id": "a84d4d2b",
   "metadata": {
    "ExecuteTime": {
     "end_time": "2023-05-24T09:37:23.927960Z",
     "start_time": "2023-05-24T09:37:16.760555Z"
    },
    "scrolled": true
   },
   "outputs": [],
   "source": [
    "# Make forecasts & Visualize\n",
    "\n",
    "for x, y in val_univariate.take(30):\n",
    "    plot = show_plot([x[0].numpy(), y[0].numpy(),\n",
    "                      simple_lstm_model.predict(x)[0]], 0, 'Simple LSTM model')\n",
    "    plot.show()"
   ]
  },
  {
   "cell_type": "code",
   "execution_count": null,
   "id": "c2311c72",
   "metadata": {
    "ExecuteTime": {
     "end_time": "2023-05-24T09:36:52.729390Z",
     "start_time": "2023-05-24T09:36:52.715428Z"
    }
   },
   "outputs": [],
   "source": [
    "val_univariate.take(7)"
   ]
  },
  {
   "cell_type": "code",
   "execution_count": null,
   "id": "00126c54",
   "metadata": {},
   "outputs": [],
   "source": []
  },
  {
   "cell_type": "markdown",
   "id": "8238662a",
   "metadata": {},
   "source": [
    "---"
   ]
  },
  {
   "cell_type": "markdown",
   "id": "641bd850",
   "metadata": {},
   "source": [
    "### Prophet"
   ]
  },
  {
   "cell_type": "markdown",
   "id": "9250e9d2",
   "metadata": {},
   "source": [
    "https://colab.research.google.com/drive/1i9BhC6SZ1peIO8TG_uDJpn_jzsQaI7W0#scrollTo=D6B7LpdaKo_P"
   ]
  },
  {
   "cell_type": "code",
   "execution_count": null,
   "id": "4bec04b8",
   "metadata": {
    "ExecuteTime": {
     "end_time": "2023-05-24T06:04:24.358484Z",
     "start_time": "2023-05-24T06:04:24.343837Z"
    }
   },
   "outputs": [],
   "source": [
    "df = kospi"
   ]
  },
  {
   "cell_type": "code",
   "execution_count": null,
   "id": "f704458b",
   "metadata": {
    "ExecuteTime": {
     "end_time": "2023-05-24T06:04:25.977535Z",
     "start_time": "2023-05-24T06:04:25.533640Z"
    }
   },
   "outputs": [],
   "source": [
    "df.plot()"
   ]
  },
  {
   "cell_type": "code",
   "execution_count": null,
   "id": "313ee594",
   "metadata": {
    "ExecuteTime": {
     "end_time": "2023-05-24T06:01:27.666287Z",
     "start_time": "2023-05-24T06:00:41.113703Z"
    }
   },
   "outputs": [],
   "source": [
    "# !pip3 install plotnine"
   ]
  },
  {
   "cell_type": "code",
   "execution_count": null,
   "id": "14440acf",
   "metadata": {
    "ExecuteTime": {
     "end_time": "2023-05-24T06:01:34.545854Z",
     "start_time": "2023-05-24T06:01:32.463124Z"
    }
   },
   "outputs": [],
   "source": [
    "# import necessary libraries\n",
    "import numpy as np # linear algebra\n",
    "from prophet import Prophet\n",
    "from prophet.plot import plot_plotly, plot_components_plotly\n",
    "from prophet.diagnostics import cross_validation\n",
    "from prophet.diagnostics import performance_metrics\n",
    "\n",
    "import warnings\n",
    "warnings.filterwarnings('ignore')  # Hide warnings\n",
    "warnings.simplefilter(action = \"ignore\", category = RuntimeWarning)\n",
    "\n",
    "import datetime as dt\n",
    "import pandas as pd\n",
    "pd.core.common.is_list_like = pd.api.types.is_list_like\n",
    "import pandas_datareader.data as web\n",
    "import numpy as np\n",
    "import matplotlib.pyplot as plt\n",
    "import seaborn as sns\n",
    "import matplotlib.dates as mdates\n",
    "import pandas as pd\n",
    "from plotnine import *\n",
    "import io\n",
    "\n",
    "# we'll use the statistics package to conduct some predictive analytics\n",
    "import statistics as st\n",
    "%matplotlib inline\n",
    "import matplotlib.dates as mdates\n",
    "from pandas import DataFrame\n",
    "from pandas import to_datetime\n",
    "from statsmodels.tsa.stattools import kpss\n",
    "from statsmodels.tsa.stattools import adfuller\n",
    "from sklearn.metrics import mean_absolute_error"
   ]
  },
  {
   "cell_type": "code",
   "execution_count": null,
   "id": "475b1ced",
   "metadata": {
    "ExecuteTime": {
     "end_time": "2023-05-24T06:04:32.999274Z",
     "start_time": "2023-05-24T06:04:32.977630Z"
    }
   },
   "outputs": [],
   "source": [
    "# check total number of cells, first few rows, and descriptive stats \n",
    "def descriptive_info(df):\n",
    "    #  number_of_cells = df.count(axis=0, level=None, numeric_only=False)\n",
    "    # Let's check the shape of the dataset\n",
    "    print('Features:', df.shape[1], ' ', 'Entries:', df.shape[0])\n",
    "    print('\\n\\n')\n",
    "    print('Printing descriptive statistics...\\n\\n', df.describe())"
   ]
  },
  {
   "cell_type": "code",
   "execution_count": null,
   "id": "e5f46431",
   "metadata": {
    "ExecuteTime": {
     "end_time": "2023-05-24T06:04:33.839969Z",
     "start_time": "2023-05-24T06:04:33.823755Z"
    }
   },
   "outputs": [],
   "source": [
    "# now check some basic info of our dataset\n",
    "descriptive_info(df)"
   ]
  },
  {
   "cell_type": "code",
   "execution_count": null,
   "id": "892a12d9",
   "metadata": {
    "ExecuteTime": {
     "end_time": "2023-05-24T06:04:41.074270Z",
     "start_time": "2023-05-24T06:04:41.057787Z"
    }
   },
   "outputs": [],
   "source": [
    "# Let's define a function to check the type of our features and check for \n",
    "# missing values in our dataset\n",
    "def missing_val(df):\n",
    "    print(df.info())\n",
    "    print('\\n\\nFeatures with missing values in descending order \\n\\n')\n",
    "    print((df.isnull().sum()/ df.shape[0]).sort_values(ascending=False))"
   ]
  },
  {
   "cell_type": "code",
   "execution_count": null,
   "id": "a4d4f483",
   "metadata": {
    "ExecuteTime": {
     "end_time": "2023-05-24T06:04:41.450227Z",
     "start_time": "2023-05-24T06:04:41.411378Z"
    }
   },
   "outputs": [],
   "source": [
    "# Now apply the missing_val function\n",
    "missing_val(df)"
   ]
  },
  {
   "cell_type": "code",
   "execution_count": null,
   "id": "dfbfede4",
   "metadata": {
    "ExecuteTime": {
     "end_time": "2023-05-24T06:02:07.867365Z",
     "start_time": "2023-05-24T06:02:07.853500Z"
    }
   },
   "outputs": [],
   "source": [
    "# df.reset_index(inplace=True)"
   ]
  },
  {
   "cell_type": "code",
   "execution_count": null,
   "id": "441c96ba",
   "metadata": {
    "ExecuteTime": {
     "end_time": "2023-05-24T06:04:47.325858Z",
     "start_time": "2023-05-24T06:04:47.310852Z"
    }
   },
   "outputs": [],
   "source": [
    "# This Function is to prepare the dataset for Fb Prophet\n",
    "#ds, save the name of date column as ds\n",
    "#y, save the name of column we are interested in as y\n",
    "def prepare_data(df, ds, y):\n",
    "    '''\n",
    "    input: df = dataframe\n",
    "    ds = date column\n",
    "    y = prediction column\n",
    "    '''\n",
    "    df = df[[ds, y]]\n",
    "    df = df.rename(columns={ds: \"ds\", y: \"y\"}) #now it is usable for FB Prophet, let's check the new file\n",
    "    print('The series is ready for use.\\n')\n",
    "    return df"
   ]
  },
  {
   "cell_type": "code",
   "execution_count": null,
   "id": "791c2052",
   "metadata": {
    "ExecuteTime": {
     "end_time": "2023-05-24T06:04:48.885461Z",
     "start_time": "2023-05-24T06:04:48.863463Z"
    }
   },
   "outputs": [],
   "source": [
    "# Use the function to prepare the dataframe to feed into fbprophet\n",
    "# df = series, ds = the time variable name from the dataframe (string), \n",
    "# y = intended variable name for prediction from the dataframe, (string)\n",
    "df2 = prepare_data(df, ds = 'Date', y = 'kospi_Close') \n",
    "print(df2.head())\n",
    "print('')\n",
    "print('The length of your series is: ', len(df2))"
   ]
  },
  {
   "cell_type": "code",
   "execution_count": null,
   "id": "1b980609",
   "metadata": {
    "ExecuteTime": {
     "end_time": "2023-05-24T06:04:51.183657Z",
     "start_time": "2023-05-24T06:04:51.162704Z"
    }
   },
   "outputs": [],
   "source": [
    "## function to Plot the prepared data\n",
    "def _fig_plot(df, X, Y):\n",
    "    ''' Function plots the data. requires to provide dataframe in the\n",
    "    format of date as ds, observation as y, Preset other variables e.g., axis name\n",
    "    '''\n",
    "    df.plot(x = X, y = Y, figsize=Figsize, label = Label)\n",
    "    plt.xlabel(xAxisLabel, fontsize = 16)\n",
    "    plt.ylabel(yAxisLabel, fontsize = 16)\n",
    "    plt.legend()\n",
    "    plt.title(Title, fontsize = 20)\n",
    "    ax = plt.gca().get_xaxis()"
   ]
  },
  {
   "cell_type": "code",
   "execution_count": null,
   "id": "ea0f514a",
   "metadata": {
    "ExecuteTime": {
     "end_time": "2023-05-24T06:05:44.931665Z",
     "start_time": "2023-05-24T06:05:44.250580Z"
    }
   },
   "outputs": [],
   "source": [
    "# provide variable names and other required inputs to plot using the function\n",
    "X = 'ds'\n",
    "Y = 'y'\n",
    "Label = \"closing price\"\n",
    "Figsize = (16,8)\n",
    "Title = \"Kospi Stock Price\"\n",
    "xAxisLabel = 'Time (Day)'\n",
    "yAxisLabel = 'Price (won)'\n",
    "_fig_plot(df2, X, Y)"
   ]
  },
  {
   "cell_type": "markdown",
   "id": "0caa35ff",
   "metadata": {},
   "source": [
    "추세 파악을 위한 짧은 기간 확인"
   ]
  },
  {
   "cell_type": "code",
   "execution_count": null,
   "id": "0cc86aba",
   "metadata": {
    "ExecuteTime": {
     "end_time": "2023-05-24T06:05:59.375024Z",
     "start_time": "2023-05-24T06:05:59.342845Z"
    }
   },
   "outputs": [],
   "source": [
    "shortX = df2[['ds', 'y']].tail(100)\n",
    "shortX = shortX.rename(columns = {'ds': 'dss', 'y':'yss'}) \n",
    "#shortY = df2.loc[shortX]\n",
    "shortX.head()\n",
    "#print(len(shortX), len(shortY))"
   ]
  },
  {
   "cell_type": "code",
   "execution_count": null,
   "id": "68186247",
   "metadata": {
    "ExecuteTime": {
     "end_time": "2023-05-24T06:06:48.242404Z",
     "start_time": "2023-05-24T06:06:47.362599Z"
    }
   },
   "outputs": [],
   "source": [
    "# provide variable names and other required inputs to plot using the function\n",
    "X = 'dss'\n",
    "Y = 'yss'\n",
    "Label = \"closing price\"\n",
    "Figsize = (20,8)\n",
    "Title = \"Kospi Stock Price\"\n",
    "xAxisLabel = 'Time (Day)'\n",
    "yAxisLabel = 'Price (won)'\n",
    "_fig_plot(shortX, X, Y)"
   ]
  },
  {
   "cell_type": "code",
   "execution_count": null,
   "id": "bf4517d4",
   "metadata": {
    "ExecuteTime": {
     "end_time": "2023-05-24T06:43:26.305924Z",
     "start_time": "2023-05-24T06:43:18.466808Z"
    }
   },
   "outputs": [],
   "source": [
    "# let's predict now\n",
    "# instantiate the model and fit the timeseries\n",
    "'''\n",
    "prophet = Prophet(daily_seasonality = 'auto',\n",
    "                  weekly_seasonality = 'auto',\n",
    "                  yearly_seasonality = 'auto', \n",
    "#                   growth='linear', \n",
    "                  changepoints = None, \n",
    "                  n_changepoints = 25, \n",
    "                  changepoint_range = 0.8,  \n",
    "#                   holidays=holiday,\n",
    "#                   holidays=None,\n",
    "#                   seasonality_mode='additive', \n",
    "                  seasonality_prior_scale = 10, # 계절성 영향\n",
    "                  holidays_prior_scale = 10, # 휴일의 영향\n",
    "                  changepoint_prior_scale = 0.05, # 0.05보다 크면 추세 유연하게 반응\n",
    "                  mcmc_samples=0, \n",
    "                  interval_width=0.8, \n",
    "                  uncertainty_samples=1000, \n",
    "                  stan_backend=None)\n",
    "prophet.add_seasonality(name='monthly', period=30.5, fourier_order=12) # 임의로 계절성 추가\n",
    "prophet.add_country_holidays(country_name='KR') # 한국의 휴일 추가\n",
    "'''\n",
    "prophet = Prophet()\n",
    "prophet.fit(df2)\n",
    "\n",
    "# create a future data frame \n",
    "future = prophet.make_future_dataframe(periods=60)\n",
    "forecast = prophet.predict(future)"
   ]
  },
  {
   "cell_type": "code",
   "execution_count": null,
   "id": "a5ae34e5",
   "metadata": {
    "ExecuteTime": {
     "end_time": "2023-05-24T06:43:27.606969Z",
     "start_time": "2023-05-24T06:43:27.474721Z"
    }
   },
   "outputs": [],
   "source": [
    "forecast.trend.plot()"
   ]
  },
  {
   "cell_type": "code",
   "execution_count": null,
   "id": "317044e1",
   "metadata": {
    "ExecuteTime": {
     "end_time": "2023-05-24T06:43:31.141213Z",
     "start_time": "2023-05-24T06:43:30.780166Z"
    }
   },
   "outputs": [],
   "source": [
    "# summarize the forecast\n",
    "print('Printing outputs from Prophet prediction...\\n', forecast[['ds', 'yhat', 'yhat_lower', 'yhat_upper']].head())\n",
    "# plot forecast\n",
    "prophet.plot(forecast)\n",
    "plt.show()"
   ]
  },
  {
   "cell_type": "code",
   "execution_count": null,
   "id": "c807b7d3",
   "metadata": {
    "ExecuteTime": {
     "end_time": "2023-05-24T06:16:28.176203Z",
     "start_time": "2023-05-24T06:16:22.349500Z"
    }
   },
   "outputs": [],
   "source": [
    "# Python\n",
    "plot_plotly(prophet, forecast)"
   ]
  },
  {
   "cell_type": "code",
   "execution_count": null,
   "id": "496ac653",
   "metadata": {
    "ExecuteTime": {
     "end_time": "2023-05-24T06:43:37.179702Z",
     "start_time": "2023-05-24T06:43:37.045063Z"
    }
   },
   "outputs": [],
   "source": [
    "forecast.yhat.plot()"
   ]
  },
  {
   "cell_type": "code",
   "execution_count": null,
   "id": "10f06a53",
   "metadata": {
    "ExecuteTime": {
     "end_time": "2023-05-24T06:40:19.052410Z",
     "start_time": "2023-05-24T06:40:19.036453Z"
    }
   },
   "outputs": [],
   "source": [
    "df2"
   ]
  },
  {
   "cell_type": "code",
   "execution_count": null,
   "id": "7b79c500",
   "metadata": {
    "ExecuteTime": {
     "end_time": "2023-05-24T06:45:32.400375Z",
     "start_time": "2023-05-24T06:45:32.213873Z"
    }
   },
   "outputs": [],
   "source": [
    "plt.figure(figsize=(16, 8))#, dpi=80)\n",
    "\n",
    "plt.plot(df2['y'].tail(1000).values, label='Actual')\n",
    "plt.plot(forecast['yhat'].tail(1000).values, label='Predicted')\n",
    "plt.legend()\n",
    "plt.show()"
   ]
  },
  {
   "cell_type": "code",
   "execution_count": null,
   "id": "4fbf6fd2",
   "metadata": {
    "ExecuteTime": {
     "end_time": "2023-05-24T06:44:52.826440Z",
     "start_time": "2023-05-24T06:44:52.659884Z"
    }
   },
   "outputs": [],
   "source": [
    "forecast['yhat'].tail(100).plot()"
   ]
  },
  {
   "cell_type": "code",
   "execution_count": null,
   "id": "9fcd61f3",
   "metadata": {
    "ExecuteTime": {
     "end_time": "2023-05-24T06:43:54.596713Z",
     "start_time": "2023-05-24T06:43:54.070122Z"
    }
   },
   "outputs": [],
   "source": [
    "# plot the components of forcasted series\n",
    "fig2 = prophet.plot_components(forecast)\n",
    "plt.show()"
   ]
  },
  {
   "cell_type": "markdown",
   "id": "e5e6ef88",
   "metadata": {},
   "source": [
    "#### Evaluation"
   ]
  },
  {
   "cell_type": "code",
   "execution_count": null,
   "id": "f71e7657",
   "metadata": {
    "ExecuteTime": {
     "end_time": "2023-05-24T06:38:42.965763Z",
     "start_time": "2023-05-24T06:19:27.999940Z"
    }
   },
   "outputs": [],
   "source": [
    "# use built in fbprophet evaluation function and metrix\n",
    "evaluation_model = cross_validation(prophet, initial='400 days', period='60 days', horizon = '30 days')"
   ]
  },
  {
   "cell_type": "code",
   "execution_count": null,
   "id": "98deb8c2",
   "metadata": {
    "ExecuteTime": {
     "end_time": "2023-05-24T06:38:42.969753Z",
     "start_time": "2023-05-24T06:38:42.969753Z"
    }
   },
   "outputs": [],
   "source": [
    "evaluation_metrix = performance_metrics(evaluation_model)\n",
    "evaluation_metrix.sort_values('rmse').head(5)"
   ]
  },
  {
   "cell_type": "markdown",
   "id": "74b3242e",
   "metadata": {},
   "source": [
    "***"
   ]
  },
  {
   "cell_type": "markdown",
   "id": "a1c47ca4",
   "metadata": {},
   "source": [
    "## Multivariate Time Series"
   ]
  },
  {
   "cell_type": "markdown",
   "id": "156f071e",
   "metadata": {},
   "source": [
    "Make Multivariate Data From Kospi Period\n",
    "- 코스피 데이터 최대 활용 목적"
   ]
  },
  {
   "cell_type": "code",
   "execution_count": null,
   "id": "da709eea",
   "metadata": {
    "ExecuteTime": {
     "end_time": "2023-05-01T07:14:17.257081Z",
     "start_time": "2023-05-01T07:14:16.808132Z"
    },
    "scrolled": true
   },
   "outputs": [],
   "source": [
    "for i in variables:\n",
    "    print(i.info())"
   ]
  },
  {
   "cell_type": "code",
   "execution_count": null,
   "id": "8e2a17ba",
   "metadata": {
    "ExecuteTime": {
     "end_time": "2023-05-01T08:59:14.945049Z",
     "start_time": "2023-05-01T08:59:14.935076Z"
    }
   },
   "outputs": [],
   "source": [
    "'''\n",
    "kospi 기준으로 concat\n",
    "'''\n",
    "\n",
    "def concat_data(lst, x):\n",
    "    for i in lst:\n",
    "        if i.columns[1] == x.columns[1]:\n",
    "            pass\n",
    "        else:\n",
    "            oneone = pd.merge(i, x, how = 'right', left_on = 'Date', right_on = 'Date')\n",
    "            oneone.fillna(method = 'bfill', inplace = True)\n",
    "            oneone.fillna(method = 'ffill', inplace = True)\n",
    "            \n",
    "            x = oneone\n",
    "            \n",
    "    oneone = oneone.set_index('Date')\n",
    "    minmax_scaled = minmax_scaler.fit_transform(oneone.values)\n",
    "    df = pd.DataFrame(data = minmax_scaled, columns = oneone.columns, index = oneone.index)\n",
    "    \n",
    "    return df\n"
   ]
  },
  {
   "cell_type": "code",
   "execution_count": null,
   "id": "b9bce0cd",
   "metadata": {
    "ExecuteTime": {
     "end_time": "2023-05-01T08:59:19.941142Z",
     "start_time": "2023-05-01T08:59:19.442796Z"
    },
    "scrolled": true
   },
   "outputs": [],
   "source": [
    "all_data = concat_data(variables, kospi)\n",
    "all_data"
   ]
  },
  {
   "cell_type": "code",
   "execution_count": null,
   "id": "3dae7ad0",
   "metadata": {
    "ExecuteTime": {
     "end_time": "2023-05-03T13:02:54.957626Z",
     "start_time": "2023-05-03T13:02:49.485049Z"
    },
    "scrolled": false
   },
   "outputs": [],
   "source": [
    "all_data.plot(subplots=True, figsize=(30,100))\n",
    "plt.show()"
   ]
  },
  {
   "cell_type": "markdown",
   "id": "2ea1feeb",
   "metadata": {},
   "source": [
    "Make Multivariate Data From Low Length Period\n",
    "- NULL 값 임의 처리 최소화 목적"
   ]
  },
  {
   "cell_type": "code",
   "execution_count": null,
   "id": "e34eed5e",
   "metadata": {
    "ExecuteTime": {
     "end_time": "2023-05-01T12:38:50.816221Z",
     "start_time": "2023-05-01T12:38:50.803102Z"
    }
   },
   "outputs": [],
   "source": [
    "# lst 내에서, 기간이 가장 짧게 수집된 데이터를 기준으로 concat\n",
    "\n",
    "def concat_data_lower_length(lst):\n",
    "    # 최소 기간 data 추출\n",
    "    df_min = lst[0]\n",
    "    for _ in range(len(lst)):\n",
    "        if len(lst[_]) < 500:\n",
    "            pass\n",
    "        elif len(lst[_]) <= len(df_min):\n",
    "            df_min = lst[_]\n",
    "    x = df_min\n",
    "\n",
    "    for i in lst:\n",
    "        if i.columns[1] == x.columns[1]:\n",
    "            pass\n",
    "        elif i.columns[1] == lst[0].columns[1]:\n",
    "            oneone = pd.merge(lst[0], x, how = 'right', left_on = 'Date', right_on = 'Date')\n",
    "            oneone.fillna(method = 'ffill', inplace = True)\n",
    "            oneone.fillna(method = 'bfill', inplace = True)\n",
    "        else:\n",
    "            oneone = pd.merge(i, oneone, how = 'right', left_on = 'Date', right_on = 'Date')\n",
    "            oneone.fillna(method = 'ffill', inplace = True)\n",
    "            oneone.fillna(method = 'bfill', inplace = True)\n",
    "\n",
    "    oneone = oneone.set_index('Date')\n",
    "    minmax_scaled = minmax_scaler.fit_transform(oneone.values)\n",
    "    df = pd.DataFrame(data = minmax_scaled, columns = oneone.columns, index = oneone.index)\n",
    "\n",
    "#     return x\n",
    "    return df"
   ]
  },
  {
   "cell_type": "code",
   "execution_count": null,
   "id": "1902e4bf",
   "metadata": {
    "ExecuteTime": {
     "end_time": "2023-05-01T12:38:59.102501Z",
     "start_time": "2023-05-01T12:38:53.486637Z"
    },
    "scrolled": true
   },
   "outputs": [],
   "source": [
    "low_period_data = concat_data_lower_length(variables)\n",
    "low_period_data.plot(subplots=True, figsize=(30,100))\n",
    "plt.show()"
   ]
  },
  {
   "cell_type": "markdown",
   "id": "18af526d",
   "metadata": {},
   "source": [
    "---"
   ]
  },
  {
   "cell_type": "markdown",
   "id": "74ef302b",
   "metadata": {},
   "source": [
    "---"
   ]
  },
  {
   "cell_type": "markdown",
   "id": "aaca2b97",
   "metadata": {},
   "source": [
    "### XGBoost"
   ]
  },
  {
   "cell_type": "markdown",
   "id": "65096bd1",
   "metadata": {},
   "source": [
    "https://sosoeasy.tistory.com/388"
   ]
  },
  {
   "cell_type": "markdown",
   "id": "a676c0b6",
   "metadata": {},
   "source": [
    "https://dacon.io/competitions/official/235736/codeshare/2877\n",
    "https://magoker.tistory.com/106"
   ]
  },
  {
   "cell_type": "markdown",
   "id": "cd654910",
   "metadata": {},
   "source": [
    "#### 전체 feature 회귀 분석"
   ]
  },
  {
   "cell_type": "code",
   "execution_count": null,
   "id": "e5ec44f9",
   "metadata": {
    "ExecuteTime": {
     "end_time": "2023-05-25T18:15:23.847040Z",
     "start_time": "2023-05-25T18:15:19.449243Z"
    }
   },
   "outputs": [],
   "source": [
    "# !pip3 install sktime\n",
    "!pip install xgboost"
   ]
  },
  {
   "cell_type": "code",
   "execution_count": null,
   "id": "1997c4fb",
   "metadata": {
    "ExecuteTime": {
     "end_time": "2023-05-25T18:15:28.347887Z",
     "start_time": "2023-05-25T18:15:28.167595Z"
    }
   },
   "outputs": [],
   "source": [
    "from sktime.forecasting.model_selection import temporal_train_test_split\n",
    "from sktime.utils.plotting import plot_series\n",
    "from xgboost import XGBRegressor\n",
    "import xgboost"
   ]
  },
  {
   "cell_type": "code",
   "execution_count": null,
   "id": "0a176db1",
   "metadata": {
    "ExecuteTime": {
     "end_time": "2023-05-25T13:27:30.518174Z",
     "start_time": "2023-05-25T13:27:30.509198Z"
    }
   },
   "outputs": [],
   "source": [
    "all_data.reset_index(inplace=True)"
   ]
  },
  {
   "cell_type": "code",
   "execution_count": null,
   "id": "a782a77c",
   "metadata": {
    "ExecuteTime": {
     "end_time": "2023-05-25T16:15:05.865089Z",
     "start_time": "2023-05-25T16:15:05.514463Z"
    }
   },
   "outputs": [],
   "source": [
    "all_data.Date"
   ]
  },
  {
   "cell_type": "code",
   "execution_count": null,
   "id": "9cdd1c49",
   "metadata": {
    "ExecuteTime": {
     "end_time": "2023-05-25T13:27:31.029493Z",
     "start_time": "2023-05-25T13:27:31.013506Z"
    }
   },
   "outputs": [],
   "source": [
    "train_all = all_data.drop('Date', axis=1).copy()"
   ]
  },
  {
   "cell_type": "code",
   "execution_count": null,
   "id": "7d15e056",
   "metadata": {
    "ExecuteTime": {
     "end_time": "2023-05-25T13:27:32.176643Z",
     "start_time": "2023-05-25T13:27:32.140740Z"
    }
   },
   "outputs": [],
   "source": [
    "train_all"
   ]
  },
  {
   "cell_type": "code",
   "execution_count": null,
   "id": "8a38461d",
   "metadata": {
    "ExecuteTime": {
     "end_time": "2023-05-25T13:27:32.371700Z",
     "start_time": "2023-05-25T13:27:32.347766Z"
    }
   },
   "outputs": [],
   "source": [
    "date = pd.to_datetime(all_data.Date)\n",
    "train_all['day2'] = date.dt.day_of_year # 1 ~ 365\n",
    "train_all['day'] = date.dt.weekday # Monday ~\n",
    "train_all['month'] = date.dt.month # Month\n",
    "train_all['quarter'] = date.dt.quarter # 분기"
   ]
  },
  {
   "cell_type": "code",
   "execution_count": null,
   "id": "22af9a8a",
   "metadata": {
    "ExecuteTime": {
     "end_time": "2023-05-25T12:15:00.877293Z",
     "start_time": "2023-05-25T12:15:00.854749Z"
    }
   },
   "outputs": [],
   "source": [
    "train_all.quarter.value_counts()"
   ]
  },
  {
   "cell_type": "code",
   "execution_count": null,
   "id": "74ba4dbd",
   "metadata": {
    "ExecuteTime": {
     "end_time": "2023-05-25T12:16:15.850142Z",
     "start_time": "2023-05-25T12:16:15.784306Z"
    }
   },
   "outputs": [],
   "source": [
    "train_all"
   ]
  },
  {
   "cell_type": "code",
   "execution_count": null,
   "id": "18769abb",
   "metadata": {
    "ExecuteTime": {
     "end_time": "2023-05-25T13:27:36.471705Z",
     "start_time": "2023-05-25T13:27:36.455758Z"
    }
   },
   "outputs": [],
   "source": [
    "x = train_all.drop('kospi_Close', axis=1)\n",
    "y = train_all.kospi_Close"
   ]
  },
  {
   "cell_type": "code",
   "execution_count": null,
   "id": "6290bc7f",
   "metadata": {
    "ExecuteTime": {
     "end_time": "2023-05-25T13:27:37.107888Z",
     "start_time": "2023-05-25T13:27:37.090934Z"
    }
   },
   "outputs": [],
   "source": [
    "y_train, y_valid, x_train, x_valid = temporal_train_test_split(X = x, y = y, test_size = 0.2)\n"
   ]
  },
  {
   "cell_type": "code",
   "execution_count": null,
   "id": "86ec854a",
   "metadata": {
    "ExecuteTime": {
     "end_time": "2023-05-25T13:27:38.073019Z",
     "start_time": "2023-05-25T13:27:37.845627Z"
    }
   },
   "outputs": [],
   "source": [
    "print('train data shape\\nx:{}, y:{}'.format(x_train.shape, y_train.shape))\n",
    "\n",
    "plot_series(y_train, y_valid, markers=[',' , ','])\n",
    "plt.show()"
   ]
  },
  {
   "cell_type": "code",
   "execution_count": null,
   "id": "ad208b31",
   "metadata": {
    "ExecuteTime": {
     "end_time": "2023-05-25T13:27:46.051220Z",
     "start_time": "2023-05-25T13:27:41.766522Z"
    }
   },
   "outputs": [],
   "source": [
    "xgb_reg = XGBRegressor(n_estimators = 1000)\n",
    "\n",
    "xgb_reg.fit(x_train, y_train, eval_set=[(x_train, y_train), (x_valid, y_valid)],\n",
    "            early_stopping_rounds=300, verbose=False)"
   ]
  },
  {
   "cell_type": "code",
   "execution_count": null,
   "id": "7aece81d",
   "metadata": {
    "ExecuteTime": {
     "end_time": "2023-05-25T13:28:03.260796Z",
     "start_time": "2023-05-25T13:28:02.890786Z"
    },
    "scrolled": true
   },
   "outputs": [],
   "source": [
    "## 주황색 : 실제값, 초록색 : 예측값\n",
    "\n",
    "pred = xgb_reg.predict(x_valid)\n",
    "pred = pd.Series(pred)\n",
    "pred.index = np.arange(y_valid.index[0], y_valid.index[-1]+1)\n",
    "plot_series(y_train, y_valid, pd.Series(pred), markers=[',' , ',', ','])\n",
    "\n",
    "print('best iterations: {}'.format(xgb_reg.best_iteration))\n",
    "# print('SMAPE : {}'.format(SMAPE(y_valid, pred)))"
   ]
  },
  {
   "cell_type": "markdown",
   "id": "8ffeac96",
   "metadata": {},
   "source": [
    "💛 Evaluation"
   ]
  },
  {
   "cell_type": "code",
   "execution_count": null,
   "id": "6c1a914a",
   "metadata": {
    "ExecuteTime": {
     "end_time": "2023-05-25T13:28:06.854387Z",
     "start_time": "2023-05-25T13:28:06.849296Z"
    }
   },
   "outputs": [],
   "source": [
    "from sklearn.metrics import mean_absolute_error\n",
    "from sklearn.metrics import mean_squared_error"
   ]
  },
  {
   "cell_type": "code",
   "execution_count": null,
   "id": "8185b013",
   "metadata": {
    "ExecuteTime": {
     "end_time": "2023-05-25T13:28:07.475423Z",
     "start_time": "2023-05-25T13:28:07.460437Z"
    }
   },
   "outputs": [],
   "source": [
    "print('MSE: %f' % MSE(y_valid, pred))\n",
    "print('RMSE: %f' % RMSE(MSE(y_valid, pred)))    \n",
    "print('MAE: %f' % MAE(y_valid, pred))\n",
    "print('MAPE: %f' % MAPE(y_valid, pred))\n",
    "print('MAPE: %f' % SMAPE(y_valid, pred))"
   ]
  },
  {
   "cell_type": "markdown",
   "id": "9dc0ddc5",
   "metadata": {},
   "source": [
    "💛 Feature Importance"
   ]
  },
  {
   "cell_type": "code",
   "execution_count": null,
   "id": "6b1e6de7",
   "metadata": {
    "ExecuteTime": {
     "end_time": "2023-05-25T13:44:42.776783Z",
     "start_time": "2023-05-25T13:44:41.564586Z"
    },
    "scrolled": true
   },
   "outputs": [],
   "source": [
    "fig, axes = plt.subplots(nrows=2, ncols=3, figsize=(50,50))\n",
    "\n",
    "axes = [ax for row_axes in axes for ax in row_axes]\n",
    "model = xgb_reg\n",
    "\n",
    "xgboost.plot_importance(model, importance_type='gain', title=' xgboost_gain', xlabel='', grid=False, ax=axes[0])\n",
    "# xgboost.plot_importance(model, importance_type='cover', title='cover', xlabel='', grid=False, ax=axes[1])\n",
    "# xgboost.plot_importance(model, importance_type='weight', title='weight', xlabel='', grid=False, ax=axes[2])\n",
    "# xgboost.plot_importance(model, importance_type='total_gain', title='total_gain', xlabel='', grid=False, ax=axes[3])\n",
    "# xgboost.plot_importance(model, importance_type='total_cover', title='total_cover', xlabel='', grid=False, ax=axes[4])\n",
    "\n",
    "# plt.tight_layout()\n",
    "plt.show()"
   ]
  },
  {
   "cell_type": "markdown",
   "id": "461c238c",
   "metadata": {
    "ExecuteTime": {
     "end_time": "2023-05-25T12:53:39.890518Z",
     "start_time": "2023-05-25T12:53:39.876433Z"
    }
   },
   "source": [
    "#### SHAP"
   ]
  },
  {
   "cell_type": "markdown",
   "id": "94f8c812",
   "metadata": {},
   "source": [
    "https://www.kaggle.com/code/bryanb/xgboost-explainability-with-shap"
   ]
  },
  {
   "cell_type": "code",
   "execution_count": null,
   "id": "e3654d8f",
   "metadata": {
    "ExecuteTime": {
     "end_time": "2023-05-25T12:55:31.758554Z",
     "start_time": "2023-05-25T12:54:56.355338Z"
    }
   },
   "outputs": [],
   "source": [
    "# !pip install shap "
   ]
  },
  {
   "cell_type": "code",
   "execution_count": null,
   "id": "4d094e33",
   "metadata": {
    "ExecuteTime": {
     "end_time": "2023-05-25T13:28:15.961331Z",
     "start_time": "2023-05-25T13:28:13.361434Z"
    }
   },
   "outputs": [],
   "source": [
    "import shap"
   ]
  },
  {
   "cell_type": "code",
   "execution_count": null,
   "id": "4f1c979b",
   "metadata": {
    "ExecuteTime": {
     "end_time": "2023-05-25T13:25:50.151302Z",
     "start_time": "2023-05-25T13:25:47.913005Z"
    }
   },
   "outputs": [],
   "source": [
    "# !pip install \"numpy<1.24.0\""
   ]
  },
  {
   "cell_type": "code",
   "execution_count": null,
   "id": "3a1edfe6",
   "metadata": {
    "ExecuteTime": {
     "end_time": "2023-05-25T13:28:20.150201Z",
     "start_time": "2023-05-25T13:28:20.139189Z"
    }
   },
   "outputs": [],
   "source": [
    "np.__version__"
   ]
  },
  {
   "cell_type": "code",
   "execution_count": null,
   "id": "80537d6c",
   "metadata": {
    "ExecuteTime": {
     "end_time": "2023-05-25T13:28:24.193117Z",
     "start_time": "2023-05-25T13:28:21.557169Z"
    }
   },
   "outputs": [],
   "source": [
    "model = XGBRegressor().fit(x_train, y_train)\n",
    "\n",
    "explainer = shap.TreeExplainer(model) # Tree model Shap Value 확인 객체 지정\n",
    "shap_values = explainer.shap_values(x_train) # Shap Values 계산"
   ]
  },
  {
   "cell_type": "code",
   "execution_count": null,
   "id": "fa5bf48c",
   "metadata": {
    "ExecuteTime": {
     "end_time": "2023-05-25T13:28:26.516399Z",
     "start_time": "2023-05-25T13:28:25.306690Z"
    }
   },
   "outputs": [],
   "source": [
    "shap.summary_plot(shap_values, x_train)"
   ]
  },
  {
   "cell_type": "code",
   "execution_count": null,
   "id": "eda91d47",
   "metadata": {
    "ExecuteTime": {
     "end_time": "2023-05-25T13:30:34.258593Z",
     "start_time": "2023-05-25T13:30:34.035189Z"
    },
    "scrolled": true
   },
   "outputs": [],
   "source": [
    "shap.summary_plot(shap_values, x_train, plot_type=\"bar\")\n"
   ]
  },
  {
   "cell_type": "markdown",
   "id": "f3a90f16",
   "metadata": {},
   "source": [
    "#### 공적분 관계가 높은 feature만 가지고 회귀 분석"
   ]
  },
  {
   "cell_type": "markdown",
   "id": "926ca727",
   "metadata": {
    "ExecuteTime": {
     "end_time": "2023-05-25T13:48:13.003950Z",
     "start_time": "2023-05-25T13:48:12.995894Z"
    }
   },
   "source": [
    "feature_importance가 높게 나온 hsi 지수, 유의미한 공적분 관계인 지표인 금, 일본 국채 5년물만 가지고 다시 예측"
   ]
  },
  {
   "cell_type": "code",
   "execution_count": null,
   "id": "0f7d1df3",
   "metadata": {
    "ExecuteTime": {
     "end_time": "2023-05-25T13:51:54.759935Z",
     "start_time": "2023-05-25T13:51:54.743943Z"
    }
   },
   "outputs": [],
   "source": [
    "train_importance = train_all[['gold_Close', 'jap_bond_yield_5_Close', 'hsi_Close', 'kospi_Close', 'day2', 'day', 'month', 'quarter']].copy()"
   ]
  },
  {
   "cell_type": "code",
   "execution_count": null,
   "id": "e654c5e5",
   "metadata": {
    "ExecuteTime": {
     "end_time": "2023-05-25T13:51:54.940786Z",
     "start_time": "2023-05-25T13:51:54.928757Z"
    }
   },
   "outputs": [],
   "source": [
    "train_importance"
   ]
  },
  {
   "cell_type": "code",
   "execution_count": null,
   "id": "9c159b43",
   "metadata": {
    "ExecuteTime": {
     "end_time": "2023-05-25T13:52:12.806151Z",
     "start_time": "2023-05-25T13:52:12.801165Z"
    }
   },
   "outputs": [],
   "source": [
    "x = train_importance.drop('kospi_Close', axis=1)\n",
    "y = train_importance.kospi_Close"
   ]
  },
  {
   "cell_type": "code",
   "execution_count": null,
   "id": "c654a4b7",
   "metadata": {
    "ExecuteTime": {
     "end_time": "2023-05-25T13:52:16.654818Z",
     "start_time": "2023-05-25T13:52:16.637827Z"
    }
   },
   "outputs": [],
   "source": [
    "y_train, y_valid, x_train, x_valid = temporal_train_test_split(X = x, y = y, test_size = 0.2)"
   ]
  },
  {
   "cell_type": "code",
   "execution_count": null,
   "id": "330e7ade",
   "metadata": {
    "ExecuteTime": {
     "end_time": "2023-05-25T13:52:19.128539Z",
     "start_time": "2023-05-25T13:52:18.867239Z"
    }
   },
   "outputs": [],
   "source": [
    "print('train data shape\\nx:{}, y:{}'.format(x_train.shape, y_train.shape))\n",
    "\n",
    "plot_series(y_train, y_valid, markers=[',' , ','])\n",
    "plt.show()"
   ]
  },
  {
   "cell_type": "code",
   "execution_count": null,
   "id": "f8d24f04",
   "metadata": {
    "ExecuteTime": {
     "end_time": "2023-05-25T13:52:32.883974Z",
     "start_time": "2023-05-25T13:52:31.057886Z"
    }
   },
   "outputs": [],
   "source": [
    "xgb_reg = XGBRegressor(n_estimators = 1000)\n",
    "\n",
    "xgb_reg.fit(x_train, y_train, eval_set=[(x_train, y_train), (x_valid, y_valid)],\n",
    "            early_stopping_rounds=300, verbose=False)"
   ]
  },
  {
   "cell_type": "code",
   "execution_count": null,
   "id": "6873937c",
   "metadata": {
    "ExecuteTime": {
     "end_time": "2023-05-25T13:53:55.290426Z",
     "start_time": "2023-05-25T13:53:54.947347Z"
    },
    "scrolled": true
   },
   "outputs": [],
   "source": [
    "## 주황색 : 실제값, 초록색 : 예측값\n",
    "\n",
    "pred = xgb_reg.predict(x_valid)\n",
    "pred = pd.Series(pred)\n",
    "pred.index = np.arange(y_valid.index[0], y_valid.index[-1]+1)\n",
    "plot_series(y_train, y_valid, pd.Series(pred), markers=[',' , ',', ','])\n",
    "\n",
    "print('best iterations: {}'.format(xgb_reg.best_iteration))\n",
    "# print('SMAPE : {}'.format(SMAPE(y_valid, pred)))"
   ]
  },
  {
   "cell_type": "markdown",
   "id": "4b4121fb",
   "metadata": {},
   "source": [
    "💛 Evaluation"
   ]
  },
  {
   "cell_type": "code",
   "execution_count": null,
   "id": "98da5e1a",
   "metadata": {
    "ExecuteTime": {
     "end_time": "2023-05-25T13:55:08.274125Z",
     "start_time": "2023-05-25T13:55:08.254078Z"
    }
   },
   "outputs": [],
   "source": [
    "print('MSE: %f' % MSE(y_valid, pred))\n",
    "print('RMSE: %f' % RMSE(MSE(y_valid, pred)))    \n",
    "print('MAE: %f' % MAE(y_valid, pred))\n",
    "print('MAPE: %f' % MAPE(y_valid, pred))\n",
    "print('MAPE: %f' % SMAPE(y_valid, pred))"
   ]
  },
  {
   "cell_type": "markdown",
   "id": "1e963900",
   "metadata": {},
   "source": [
    "💛 Feature Importance"
   ]
  },
  {
   "cell_type": "code",
   "execution_count": null,
   "id": "cae6ee63",
   "metadata": {
    "ExecuteTime": {
     "end_time": "2023-05-25T14:01:16.055845Z",
     "start_time": "2023-05-25T14:01:14.958780Z"
    },
    "scrolled": false
   },
   "outputs": [],
   "source": [
    "# fig, axes = plt.subplots(nrows=2, ncols=3, figsize=(50,50))\n",
    "fig, axes = plt.subplots(nrows=2, ncols=2, figsize=(50,50))\n",
    "\n",
    "axes = [ax for row_axes in axes for ax in row_axes]\n",
    "model = xgb_reg\n",
    "\n",
    "xgboost.plot_importance(model, importance_type='gain', title=' xgboost_gain', xlabel='', grid=False, ax=axes[0])\n",
    "# xgboost.plot_importance(model, importance_type='cover', title='cover', xlabel='', grid=False, ax=axes[1])\n",
    "# xgboost.plot_importance(model, importance_type='weight', title='weight', xlabel='', grid=False, ax=axes[2])\n",
    "# xgboost.plot_importance(model, importance_type='total_gain', title='total_gain', xlabel='', grid=False, ax=axes[3])\n",
    "# xgboost.plot_importance(model, importance_type='total_cover', title='total_cover', xlabel='', grid=False, ax=axes[4])\n",
    "\n",
    "# plt.tight_layout()\n",
    "plt.show()"
   ]
  },
  {
   "cell_type": "markdown",
   "id": "a9717e73",
   "metadata": {
    "ExecuteTime": {
     "end_time": "2023-05-25T12:53:39.890518Z",
     "start_time": "2023-05-25T12:53:39.876433Z"
    }
   },
   "source": [
    "#### SHAP"
   ]
  },
  {
   "cell_type": "markdown",
   "id": "91fbf64e",
   "metadata": {},
   "source": [
    "https://www.kaggle.com/code/bryanb/xgboost-explainability-with-shap"
   ]
  },
  {
   "cell_type": "code",
   "execution_count": null,
   "id": "723b86f2",
   "metadata": {
    "ExecuteTime": {
     "end_time": "2023-05-25T12:55:31.758554Z",
     "start_time": "2023-05-25T12:54:56.355338Z"
    }
   },
   "outputs": [],
   "source": [
    "# !pip install shap "
   ]
  },
  {
   "cell_type": "code",
   "execution_count": null,
   "id": "d1c3439a",
   "metadata": {
    "ExecuteTime": {
     "end_time": "2023-05-25T13:28:15.961331Z",
     "start_time": "2023-05-25T13:28:13.361434Z"
    }
   },
   "outputs": [],
   "source": [
    "import shap"
   ]
  },
  {
   "cell_type": "code",
   "execution_count": null,
   "id": "63eb6979",
   "metadata": {
    "ExecuteTime": {
     "end_time": "2023-05-25T13:25:50.151302Z",
     "start_time": "2023-05-25T13:25:47.913005Z"
    }
   },
   "outputs": [],
   "source": [
    "# !pip install \"numpy<1.24.0\""
   ]
  },
  {
   "cell_type": "code",
   "execution_count": null,
   "id": "365789ea",
   "metadata": {
    "ExecuteTime": {
     "end_time": "2023-05-25T13:28:20.150201Z",
     "start_time": "2023-05-25T13:28:20.139189Z"
    }
   },
   "outputs": [],
   "source": [
    "np.__version__"
   ]
  },
  {
   "cell_type": "code",
   "execution_count": null,
   "id": "a0b931a9",
   "metadata": {
    "ExecuteTime": {
     "end_time": "2023-05-25T14:02:45.865824Z",
     "start_time": "2023-05-25T14:02:44.383790Z"
    }
   },
   "outputs": [],
   "source": [
    "model = XGBRegressor().fit(x_train, y_train)\n",
    "\n",
    "explainer = shap.TreeExplainer(model) # Tree model Shap Value 확인 객체 지정\n",
    "shap_values = explainer.shap_values(x_train) # Shap Values 계산"
   ]
  },
  {
   "cell_type": "code",
   "execution_count": null,
   "id": "1db161c8",
   "metadata": {
    "ExecuteTime": {
     "end_time": "2023-05-25T14:02:46.404384Z",
     "start_time": "2023-05-25T14:02:45.869818Z"
    }
   },
   "outputs": [],
   "source": [
    "shap.summary_plot(shap_values, x_train)"
   ]
  },
  {
   "cell_type": "code",
   "execution_count": null,
   "id": "aebd8a21",
   "metadata": {
    "ExecuteTime": {
     "end_time": "2023-05-25T13:30:34.258593Z",
     "start_time": "2023-05-25T13:30:34.035189Z"
    },
    "scrolled": true
   },
   "outputs": [],
   "source": [
    "shap.summary_plot(shap_values, x_train, plot_type=\"bar\")\n"
   ]
  },
  {
   "cell_type": "markdown",
   "id": "aef6629d",
   "metadata": {},
   "source": [
    "---"
   ]
  },
  {
   "cell_type": "markdown",
   "id": "3640aa65",
   "metadata": {},
   "source": [
    "### LSTM"
   ]
  },
  {
   "cell_type": "markdown",
   "id": "80e6c887",
   "metadata": {},
   "source": [
    "https://colab.research.google.com/drive/1lWvMZyR2vzK6uXHrxTuBuhBLrdrGl7bx#scrollTo=VmJUkyHwUHVM"
   ]
  },
  {
   "cell_type": "code",
   "execution_count": null,
   "id": "f5fbf16b",
   "metadata": {
    "ExecuteTime": {
     "end_time": "2023-05-01T11:10:22.663448Z",
     "start_time": "2023-05-01T11:10:15.218682Z"
    }
   },
   "outputs": [],
   "source": [
    "import tensorflow as tf"
   ]
  },
  {
   "cell_type": "code",
   "execution_count": null,
   "id": "578318bb",
   "metadata": {
    "ExecuteTime": {
     "end_time": "2023-05-01T10:53:21.060248Z",
     "start_time": "2023-05-01T10:53:21.025340Z"
    }
   },
   "outputs": [],
   "source": [
    "all_data # = concat_data(variables, kospi)"
   ]
  },
  {
   "cell_type": "code",
   "execution_count": null,
   "id": "dbc93c04",
   "metadata": {
    "ExecuteTime": {
     "end_time": "2023-05-01T10:53:32.132340Z",
     "start_time": "2023-05-01T10:53:32.108233Z"
    }
   },
   "outputs": [],
   "source": [
    "low_period_data"
   ]
  },
  {
   "cell_type": "code",
   "execution_count": null,
   "id": "1c355675",
   "metadata": {},
   "outputs": [],
   "source": [
    "cor_over_70 = [kospi, dow, sp500, russel2000, nasdaq, ftse, nikkie, ssec, szse, hsi, jap_bond_yield_10, \n",
    "               kor_bond_yield_1, kor_bond_yield_3, kor_bond_yield_5, kor_bond_yield_10, us_bond_yield_3, \n",
    "               us_bond_yield_5, us_bond_yield_10, brent, wti, bitcoin, gold]\n",
    "\n",
    "main_kospi = [kospi, dow, sp500, russel2000, nasdaq, ftse, nikkie, ssec, szse, hsi]\n",
    "bon_yield_kospi = [kospi, jap_bond_yield_10, kor_bond_yield_1, kor_bond_yield_3, kor_bond_yield_5, kor_bond_yield_10, us_bond_yield_3, \n",
    "                   us_bond_yield_5, us_bond_yield_10]\n",
    "other_kospi = [kospi, brent, wti, bitcoin, gold]"
   ]
  },
  {
   "cell_type": "code",
   "execution_count": null,
   "id": "8d91ad2b",
   "metadata": {
    "ExecuteTime": {
     "end_time": "2023-05-01T11:00:33.462323Z",
     "start_time": "2023-05-01T11:00:26.960263Z"
    },
    "scrolled": true
   },
   "outputs": [],
   "source": [
    "low_period_data.plot(subplots=True, figsize=(20,100))\n",
    "plt.show()"
   ]
  },
  {
   "cell_type": "markdown",
   "id": "84751bb8",
   "metadata": {},
   "source": [
    "#### Standardization"
   ]
  },
  {
   "cell_type": "code",
   "execution_count": null,
   "id": "9a39bebd",
   "metadata": {
    "ExecuteTime": {
     "end_time": "2023-05-01T11:24:05.585030Z",
     "start_time": "2023-05-01T11:24:05.573014Z"
    }
   },
   "outputs": [],
   "source": [
    "features = low_period_data"
   ]
  },
  {
   "cell_type": "code",
   "execution_count": null,
   "id": "ea034546",
   "metadata": {
    "ExecuteTime": {
     "end_time": "2023-05-01T11:24:06.113998Z",
     "start_time": "2023-05-01T11:24:06.097987Z"
    }
   },
   "outputs": [],
   "source": [
    "TRAIN_SPLIT = int(len(features) * 0.7)\n",
    "\n",
    "dataset = features.values\n",
    "data_mean = dataset[ : TRAIN_SPLIT].mean(axis=0)\n",
    "data_std = dataset[ : TRAIN_SPLIT].std(axis=0)\n",
    "dataset = (dataset - data_mean) / data_std\n",
    "print(dataset)\n",
    "print(dataset.shape)"
   ]
  },
  {
   "cell_type": "code",
   "execution_count": null,
   "id": "3b05c123",
   "metadata": {
    "ExecuteTime": {
     "end_time": "2023-05-01T11:28:19.997375Z",
     "start_time": "2023-05-01T11:28:19.990311Z"
    }
   },
   "outputs": [],
   "source": [
    "def multivariate_data(dataset, target, start_index, end_index, history_size, target_size, step, single_step=False):\n",
    "    data = []\n",
    "    labels = []\n",
    "\n",
    "    start_index = start_index + history_size\n",
    "    if end_index is None:\n",
    "        end_index = len(dataset) - target_size\n",
    "\n",
    "    for i in range(start_index, end_index):\n",
    "        indices = range(i - history_size, i, step)\n",
    "        data.append(dataset[indices])\n",
    "\n",
    "        if single_step:\n",
    "            labels.append(target[i + target_size])\n",
    "        else:\n",
    "            labels.append(target[i:i + target_size])\n",
    "            \n",
    "    return np.array(data), np.array(labels)"
   ]
  },
  {
   "cell_type": "code",
   "execution_count": null,
   "id": "f20ce8c7",
   "metadata": {
    "ExecuteTime": {
     "end_time": "2023-05-01T11:40:36.998623Z",
     "start_time": "2023-05-01T11:40:36.978746Z"
    }
   },
   "outputs": [],
   "source": [
    "int(TRAIN_SPLIT * 0.24)"
   ]
  },
  {
   "cell_type": "code",
   "execution_count": null,
   "id": "6ad14dbc",
   "metadata": {
    "ExecuteTime": {
     "end_time": "2023-05-01T11:40:45.159330Z",
     "start_time": "2023-05-01T11:40:45.110387Z"
    }
   },
   "outputs": [],
   "source": [
    "past_history = int(TRAIN_SPLIT * 0.24)\n",
    "future_target = int(past_history * 0.1)\n",
    "STEP = 6\n",
    "\n",
    "x_train_single, y_train_single = multivariate_data(dataset, dataset[:,-2], 0, TRAIN_SPLIT, past_history,\n",
    "                                                   future_target, STEP, single_step=True)\n",
    "x_val_single, y_val_single = multivariate_data(dataset, dataset[:,-2], TRAIN_SPLIT, None, past_history,\n",
    "                                               future_target, STEP, single_step=True)\n",
    "\n",
    "print('Single window of past history : {}'.format(x_train_single[0].shape))"
   ]
  },
  {
   "cell_type": "code",
   "execution_count": null,
   "id": "e48a4e17",
   "metadata": {
    "ExecuteTime": {
     "end_time": "2023-05-01T11:40:49.580483Z",
     "start_time": "2023-05-01T11:40:49.573462Z"
    }
   },
   "outputs": [],
   "source": [
    "print(x_train_single.shape)\n",
    "print(y_train_single.shape)\n",
    "print('\\n')\n",
    "print(x_val_single.shape)\n",
    "print(y_val_single.shape)"
   ]
  },
  {
   "cell_type": "markdown",
   "id": "6c4a8c70",
   "metadata": {},
   "source": [
    "#### Train Model"
   ]
  },
  {
   "cell_type": "code",
   "execution_count": null,
   "id": "41171f11",
   "metadata": {
    "ExecuteTime": {
     "end_time": "2023-05-01T11:40:53.427872Z",
     "start_time": "2023-05-01T11:40:53.414907Z"
    }
   },
   "outputs": [],
   "source": [
    "BATCH_SIZE = 256\n",
    "BUFFER_SIZE = 10000\n",
    "EPOCHS = 10\n",
    "EVALUATION_INTERVAL = 200"
   ]
  },
  {
   "cell_type": "code",
   "execution_count": null,
   "id": "a201390b",
   "metadata": {
    "ExecuteTime": {
     "end_time": "2023-05-01T11:16:41.234709Z",
     "start_time": "2023-05-01T11:16:41.217774Z"
    }
   },
   "outputs": [],
   "source": [
    "print(tf.__version__)"
   ]
  },
  {
   "cell_type": "code",
   "execution_count": null,
   "id": "eb2fdf61",
   "metadata": {
    "ExecuteTime": {
     "end_time": "2023-05-01T11:42:35.954160Z",
     "start_time": "2023-05-01T11:40:55.966463Z"
    },
    "scrolled": true
   },
   "outputs": [],
   "source": [
    "train_data_single = tf.data.Dataset.from_tensor_slices((x_train_single, y_train_single))\n",
    "train_data_single = train_data_single.cache().shuffle(BUFFER_SIZE).batch(BATCH_SIZE).repeat()\n",
    "\n",
    "val_data_single = tf.data.Dataset.from_tensor_slices((x_val_single, y_val_single))\n",
    "val_data_single = val_data_single.batch(BATCH_SIZE).repeat()\n",
    "\n",
    "single_step_model = tf.keras.models.Sequential()\n",
    "single_step_model.add(tf.keras.layers.LSTM(32, input_shape=x_train_single.shape[-2:]))\n",
    "single_step_model.add(tf.keras.layers.Dense(1))\n",
    "single_step_model.compile(optimizer=tf.keras.optimizers.RMSprop(), loss='mae')\n",
    "\n",
    "for x, y in val_data_single.take(1):\n",
    "    print(single_step_model.predict(x).shape)\n",
    "\n",
    "single_step_history = single_step_model.fit(train_data_single, epochs=EPOCHS,\n",
    "                                            steps_per_epoch=EVALUATION_INTERVAL,\n",
    "                                            validation_data=val_data_single,\n",
    "                                            validation_steps=50)\n",
    "\n",
    "def plot_train_history(history, title):\n",
    "    loss = history.history['loss']\n",
    "    val_loss = history.history['val_loss']\n",
    "\n",
    "    epochs = range(len(loss))\n",
    "\n",
    "    plt.figure()\n",
    "    plt.plot(epochs, loss, 'b', label='Training loss')\n",
    "    plt.plot(epochs, val_loss, 'r', label='Validation loss')\n",
    "    plt.title(title)\n",
    "    plt.legend()\n",
    "    plt.show()\n",
    "\n",
    "plot_train_history(single_step_history, 'Single Step Training and Validation Loss')"
   ]
  },
  {
   "cell_type": "code",
   "execution_count": null,
   "id": "6d239746",
   "metadata": {
    "ExecuteTime": {
     "end_time": "2023-05-01T11:43:30.366143Z",
     "start_time": "2023-05-01T11:43:30.353176Z"
    }
   },
   "outputs": [],
   "source": [
    "# Defind function for Visualization\n",
    "def create_time_steps(length):\n",
    "    return list(range(-length, 0))\n",
    "\n",
    "def show_plot(plot_data, delta, title):\n",
    "    labels = ['History', 'True Future', 'Model Prediction']\n",
    "    marker = ['.-', 'rx', 'go']\n",
    "    time_steps = create_time_steps(plot_data[0].shape[0])\n",
    "    if delta:\n",
    "        future = delta\n",
    "    else:\n",
    "        future = 0\n",
    "\n",
    "    plt.title(title)\n",
    "    for i, x in enumerate(plot_data):\n",
    "        if i:\n",
    "            plt.plot(future, plot_data[i], marker[i], markersize=10, label=labels[i])\n",
    "        else:\n",
    "            plt.plot(time_steps, plot_data[i].flatten(), marker[i], label=labels[i])\n",
    "    plt.legend()\n",
    "    plt.axis('auto')\n",
    "    plt.xlim([time_steps[0], (future+5)*2])\n",
    "    plt.xlabel('Time-Step')\n",
    "    return plt"
   ]
  },
  {
   "cell_type": "code",
   "execution_count": null,
   "id": "ecb652a9",
   "metadata": {
    "ExecuteTime": {
     "end_time": "2023-05-01T11:43:32.363376Z",
     "start_time": "2023-05-01T11:43:31.182159Z"
    }
   },
   "outputs": [],
   "source": [
    "for x, y in val_data_single.take(3):\n",
    "    plot = show_plot([x[0][:, 1].numpy(), y[0].numpy(),\n",
    "                      single_step_model.predict(x)[0]], 12,\n",
    "                     'Single Step Prediction')\n",
    "    plot.show()"
   ]
  },
  {
   "cell_type": "markdown",
   "id": "e3199ab7",
   "metadata": {},
   "source": [
    "#### Evaluation"
   ]
  },
  {
   "cell_type": "code",
   "execution_count": null,
   "id": "9d97f0ce",
   "metadata": {},
   "outputs": [],
   "source": []
  },
  {
   "cell_type": "markdown",
   "id": "1a027f08",
   "metadata": {},
   "source": [
    "---"
   ]
  },
  {
   "cell_type": "markdown",
   "id": "c1cbabd7",
   "metadata": {},
   "source": [
    "### VAR"
   ]
  },
  {
   "cell_type": "markdown",
   "id": "c8b8ab27",
   "metadata": {},
   "source": [
    "https://www.kaggle.com/code/prakharprasad/time-series-vector-autoregression/notebook"
   ]
  },
  {
   "cell_type": "markdown",
   "id": "9ba6da4b",
   "metadata": {},
   "source": [
    "https://colab.research.google.com/drive/1dCtKyvVeeedi5zJdVlO858ERc8o7xkYq#scrollTo=2sX0jqy6XTg0"
   ]
  },
  {
   "cell_type": "code",
   "execution_count": 16,
   "id": "d96a3728",
   "metadata": {
    "ExecuteTime": {
     "end_time": "2023-05-25T18:49:53.069002Z",
     "start_time": "2023-05-25T18:49:53.063858Z"
    }
   },
   "outputs": [],
   "source": [
    "df = all_data[['gold_Close', 'kospi_Close']].copy() #'jap_bond_yield_5_Close', 'hsi_Close', "
   ]
  },
  {
   "cell_type": "code",
   "execution_count": 17,
   "id": "07a9aace",
   "metadata": {
    "ExecuteTime": {
     "end_time": "2023-05-25T18:49:53.682438Z",
     "start_time": "2023-05-25T18:49:53.675974Z"
    }
   },
   "outputs": [
    {
     "data": {
      "text/html": [
       "<div>\n",
       "<style scoped>\n",
       "    .dataframe tbody tr th:only-of-type {\n",
       "        vertical-align: middle;\n",
       "    }\n",
       "\n",
       "    .dataframe tbody tr th {\n",
       "        vertical-align: top;\n",
       "    }\n",
       "\n",
       "    .dataframe thead th {\n",
       "        text-align: right;\n",
       "    }\n",
       "</style>\n",
       "<table border=\"1\" class=\"dataframe\">\n",
       "  <thead>\n",
       "    <tr style=\"text-align: right;\">\n",
       "      <th></th>\n",
       "      <th>gold_Close</th>\n",
       "      <th>kospi_Close</th>\n",
       "    </tr>\n",
       "    <tr>\n",
       "      <th>Date</th>\n",
       "      <th></th>\n",
       "      <th></th>\n",
       "    </tr>\n",
       "  </thead>\n",
       "  <tbody>\n",
       "    <tr>\n",
       "      <th>1990-01-03</th>\n",
       "      <td>398.7</td>\n",
       "      <td>908.59</td>\n",
       "    </tr>\n",
       "    <tr>\n",
       "      <th>1990-01-04</th>\n",
       "      <td>403.2</td>\n",
       "      <td>928.82</td>\n",
       "    </tr>\n",
       "    <tr>\n",
       "      <th>1990-01-05</th>\n",
       "      <td>410.9</td>\n",
       "      <td>915.11</td>\n",
       "    </tr>\n",
       "    <tr>\n",
       "      <th>1990-01-06</th>\n",
       "      <td>410.9</td>\n",
       "      <td>912.86</td>\n",
       "    </tr>\n",
       "    <tr>\n",
       "      <th>1990-01-08</th>\n",
       "      <td>407.2</td>\n",
       "      <td>919.46</td>\n",
       "    </tr>\n",
       "    <tr>\n",
       "      <th>...</th>\n",
       "      <td>...</td>\n",
       "      <td>...</td>\n",
       "    </tr>\n",
       "    <tr>\n",
       "      <th>2023-03-09</th>\n",
       "      <td>1834.6</td>\n",
       "      <td>2419.09</td>\n",
       "    </tr>\n",
       "    <tr>\n",
       "      <th>2023-03-10</th>\n",
       "      <td>1867.2</td>\n",
       "      <td>2394.59</td>\n",
       "    </tr>\n",
       "    <tr>\n",
       "      <th>2023-03-13</th>\n",
       "      <td>1916.5</td>\n",
       "      <td>2410.60</td>\n",
       "    </tr>\n",
       "    <tr>\n",
       "      <th>2023-03-14</th>\n",
       "      <td>1910.9</td>\n",
       "      <td>2348.97</td>\n",
       "    </tr>\n",
       "    <tr>\n",
       "      <th>2023-03-15</th>\n",
       "      <td>1948.1</td>\n",
       "      <td>2379.72</td>\n",
       "    </tr>\n",
       "  </tbody>\n",
       "</table>\n",
       "<p>8621 rows × 2 columns</p>\n",
       "</div>"
      ],
      "text/plain": [
       "            gold_Close  kospi_Close\n",
       "Date                               \n",
       "1990-01-03       398.7       908.59\n",
       "1990-01-04       403.2       928.82\n",
       "1990-01-05       410.9       915.11\n",
       "1990-01-06       410.9       912.86\n",
       "1990-01-08       407.2       919.46\n",
       "...                ...          ...\n",
       "2023-03-09      1834.6      2419.09\n",
       "2023-03-10      1867.2      2394.59\n",
       "2023-03-13      1916.5      2410.60\n",
       "2023-03-14      1910.9      2348.97\n",
       "2023-03-15      1948.1      2379.72\n",
       "\n",
       "[8621 rows x 2 columns]"
      ]
     },
     "execution_count": 17,
     "metadata": {},
     "output_type": "execute_result"
    }
   ],
   "source": [
    "df"
   ]
  },
  {
   "cell_type": "markdown",
   "id": "ffd366d1",
   "metadata": {},
   "source": [
    "#### Check Stationary"
   ]
  },
  {
   "cell_type": "code",
   "execution_count": 18,
   "id": "e9775ae1",
   "metadata": {
    "ExecuteTime": {
     "end_time": "2023-05-25T18:49:56.306966Z",
     "start_time": "2023-05-25T18:49:56.069458Z"
    }
   },
   "outputs": [],
   "source": [
    "import statsmodels.api as sm\n",
    "from statsmodels.tsa.vector_ar.var_model import VAR\n",
    "from statsmodels.tsa.stattools import adfuller"
   ]
  },
  {
   "cell_type": "code",
   "execution_count": 19,
   "id": "37c48287",
   "metadata": {
    "ExecuteTime": {
     "end_time": "2023-05-25T18:49:57.262541Z",
     "start_time": "2023-05-25T18:49:57.256791Z"
    }
   },
   "outputs": [],
   "source": [
    "def dickey_fuller(series, title='Your Dataset'):\n",
    "    '''Hypothesis Test for stationarity '''\n",
    "    print(f'Augmented Dickey Fuller Test for the dataset {title}')\n",
    "    \n",
    "    result = adfuller(series.dropna(),autolag='AIC')\n",
    "    labels = ['ADF test statistics','p-value','#lags','#observations'] # use help(adfuller) to understand why these labels are chosen\n",
    "    \n",
    "    outcome = pd.Series(result[0:4],index=labels)\n",
    "    \n",
    "    for key,val in result[4].items():\n",
    "        outcome[f'critical value ({key})'] = val\n",
    "        \n",
    "    print(outcome.to_string()) # this will not print the line 'dtype:float64'\n",
    "    \n",
    "    if result[1] <= 0.05:\n",
    "        print('Strong evidence against the null hypothesis') # Ho is Data is not stationary, check help(adfuller)\n",
    "        print('Reject the null hypothesis')\n",
    "        print('\\033[38;5;27m' + 'Data is Stationary' + '\\033[0m')\n",
    "    else:\n",
    "        print('Weak evidence against the Null hypothesis')\n",
    "        print('Fail to reject the null hypothesis')\n",
    "        print('\\033[38;5;196m' + 'Data has a unit root and is non stationary' + '\\033[0m')\n",
    "        "
   ]
  },
  {
   "cell_type": "code",
   "execution_count": 20,
   "id": "812e1092",
   "metadata": {
    "ExecuteTime": {
     "end_time": "2023-05-25T18:49:58.493373Z",
     "start_time": "2023-05-25T18:49:57.976156Z"
    },
    "scrolled": true
   },
   "outputs": [
    {
     "name": "stdout",
     "output_type": "stream",
     "text": [
      "Augmented Dickey Fuller Test for the dataset Your Dataset\n",
      "ADF test statistics        0.498262\n",
      "p-value                    0.984820\n",
      "#lags                     36.000000\n",
      "#observations           8584.000000\n",
      "critical value (1%)       -3.431112\n",
      "critical value (5%)       -2.861877\n",
      "critical value (10%)      -2.566949\n",
      "Weak evidence against the Null hypothesis\n",
      "Fail to reject the null hypothesis\n",
      "\u001b[38;5;196mData has a unit root and is non stationary\u001b[0m\n",
      "\n",
      "\n",
      "Augmented Dickey Fuller Test for the dataset Your Dataset\n",
      "ADF test statistics       -0.889710\n",
      "p-value                    0.791342\n",
      "#lags                      9.000000\n",
      "#observations           8611.000000\n",
      "critical value (1%)       -3.431110\n",
      "critical value (5%)       -2.861876\n",
      "critical value (10%)      -2.566949\n",
      "Weak evidence against the Null hypothesis\n",
      "Fail to reject the null hypothesis\n",
      "\u001b[38;5;196mData has a unit root and is non stationary\u001b[0m\n",
      "\n",
      "\n"
     ]
    }
   ],
   "source": [
    "for i in list(df.columns):\n",
    "    dickey_fuller(df[i])\n",
    "    print('\\n')"
   ]
  },
  {
   "cell_type": "code",
   "execution_count": 21,
   "id": "d3254466",
   "metadata": {
    "ExecuteTime": {
     "end_time": "2023-05-25T18:50:01.748943Z",
     "start_time": "2023-05-25T18:50:01.744503Z"
    }
   },
   "outputs": [],
   "source": [
    "df_diff = df.diff() # by default, diff performs the first order difference"
   ]
  },
  {
   "cell_type": "code",
   "execution_count": null,
   "id": "cbbe6caf",
   "metadata": {
    "ExecuteTime": {
     "end_time": "2023-05-25T17:54:24.606750Z",
     "start_time": "2023-05-25T17:54:24.596949Z"
    }
   },
   "outputs": [],
   "source": [
    "df_diff.head()"
   ]
  },
  {
   "cell_type": "code",
   "execution_count": 22,
   "id": "90a0d1ea",
   "metadata": {
    "ExecuteTime": {
     "end_time": "2023-05-25T18:50:02.295336Z",
     "start_time": "2023-05-25T18:50:02.291132Z"
    }
   },
   "outputs": [],
   "source": [
    "df_diff = df_diff.dropna()"
   ]
  },
  {
   "cell_type": "code",
   "execution_count": 23,
   "id": "9613e8b0",
   "metadata": {
    "ExecuteTime": {
     "end_time": "2023-05-25T18:50:03.729983Z",
     "start_time": "2023-05-25T18:50:03.215261Z"
    },
    "scrolled": true
   },
   "outputs": [
    {
     "name": "stdout",
     "output_type": "stream",
     "text": [
      "Augmented Dickey Fuller Test for the dataset Your Dataset\n",
      "ADF test statistics    -1.691614e+01\n",
      "p-value                 1.002078e-29\n",
      "#lags                   3.500000e+01\n",
      "#observations           8.584000e+03\n",
      "critical value (1%)    -3.431112e+00\n",
      "critical value (5%)    -2.861877e+00\n",
      "critical value (10%)   -2.566949e+00\n",
      "Strong evidence against the null hypothesis\n",
      "Reject the null hypothesis\n",
      "\u001b[38;5;27mData is Stationary\u001b[0m\n",
      "\n",
      "\n",
      "Augmented Dickey Fuller Test for the dataset Your Dataset\n",
      "ADF test statistics      -30.581381\n",
      "p-value                    0.000000\n",
      "#lags                      8.000000\n",
      "#observations           8611.000000\n",
      "critical value (1%)       -3.431110\n",
      "critical value (5%)       -2.861876\n",
      "critical value (10%)      -2.566949\n",
      "Strong evidence against the null hypothesis\n",
      "Reject the null hypothesis\n",
      "\u001b[38;5;27mData is Stationary\u001b[0m\n",
      "\n",
      "\n"
     ]
    }
   ],
   "source": [
    "# 정상성 다시 확인\n",
    "\n",
    "for i in list(df.columns):\n",
    "    dickey_fuller(df_diff[i])\n",
    "    print('\\n')"
   ]
  },
  {
   "cell_type": "markdown",
   "id": "62d14f82",
   "metadata": {},
   "source": [
    "#### Train Test Split"
   ]
  },
  {
   "cell_type": "code",
   "execution_count": 24,
   "id": "7aa1922a",
   "metadata": {
    "ExecuteTime": {
     "end_time": "2023-05-25T18:50:06.692111Z",
     "start_time": "2023-05-25T18:50:06.687096Z"
    }
   },
   "outputs": [
    {
     "data": {
      "text/plain": [
       "8620"
      ]
     },
     "execution_count": 24,
     "metadata": {},
     "output_type": "execute_result"
    }
   ],
   "source": [
    "len(df_diff)"
   ]
  },
  {
   "cell_type": "code",
   "execution_count": 25,
   "id": "a07051f2",
   "metadata": {
    "ExecuteTime": {
     "end_time": "2023-05-25T18:50:08.364250Z",
     "start_time": "2023-05-25T18:50:08.359536Z"
    }
   },
   "outputs": [],
   "source": [
    "nobs = int(len(df_diff) * 0.15)\n",
    "train = df_diff[:-nobs]\n",
    "test = df_diff[-nobs:]"
   ]
  },
  {
   "cell_type": "code",
   "execution_count": 26,
   "id": "ccb55481",
   "metadata": {
    "ExecuteTime": {
     "end_time": "2023-05-25T18:50:08.550590Z",
     "start_time": "2023-05-25T18:50:08.546641Z"
    }
   },
   "outputs": [
    {
     "data": {
      "text/plain": [
       "(7327, 1293)"
      ]
     },
     "execution_count": 26,
     "metadata": {},
     "output_type": "execute_result"
    }
   ],
   "source": [
    "len(train), len(test)"
   ]
  },
  {
   "cell_type": "markdown",
   "id": "a97bb7ff",
   "metadata": {},
   "source": [
    "#### Building Model"
   ]
  },
  {
   "cell_type": "markdown",
   "id": "2de6b304",
   "metadata": {},
   "source": [
    "VAR Model Order Selection"
   ]
  },
  {
   "cell_type": "markdown",
   "id": "781821aa",
   "metadata": {},
   "source": [
    "test this manually with a list of order p values and select the p value which returns the minimum AIC or BIC metric."
   ]
  },
  {
   "cell_type": "code",
   "execution_count": 27,
   "id": "a93a19f4",
   "metadata": {
    "ExecuteTime": {
     "end_time": "2023-05-25T18:50:15.014650Z",
     "start_time": "2023-05-25T18:50:11.304384Z"
    },
    "scrolled": true
   },
   "outputs": [
    {
     "name": "stderr",
     "output_type": "stream",
     "text": [
      "C:\\users\\hsl\\desktop\\lhs\\Lib\\site-packages\\statsmodels\\tsa\\base\\tsa_model.py:473: ValueWarning: A date index has been provided, but it has no associated frequency information and so will be ignored when e.g. forecasting.\n",
      "  self._init_dates(dates, freq)\n",
      "C:\\users\\hsl\\desktop\\lhs\\Lib\\site-packages\\statsmodels\\tsa\\base\\tsa_model.py:473: ValueWarning: A date index has been provided, but it has no associated frequency information and so will be ignored when e.g. forecasting.\n",
      "  self._init_dates(dates, freq)\n",
      "C:\\users\\hsl\\desktop\\lhs\\Lib\\site-packages\\statsmodels\\tsa\\base\\tsa_model.py:473: ValueWarning: A date index has been provided, but it has no associated frequency information and so will be ignored when e.g. forecasting.\n",
      "  self._init_dates(dates, freq)\n",
      "C:\\users\\hsl\\desktop\\lhs\\Lib\\site-packages\\statsmodels\\tsa\\base\\tsa_model.py:473: ValueWarning: A date index has been provided, but it has no associated frequency information and so will be ignored when e.g. forecasting.\n",
      "  self._init_dates(dates, freq)\n",
      "C:\\users\\hsl\\desktop\\lhs\\Lib\\site-packages\\statsmodels\\tsa\\base\\tsa_model.py:473: ValueWarning: A date index has been provided, but it has no associated frequency information and so will be ignored when e.g. forecasting.\n",
      "  self._init_dates(dates, freq)\n",
      "C:\\users\\hsl\\desktop\\lhs\\Lib\\site-packages\\statsmodels\\tsa\\base\\tsa_model.py:473: ValueWarning: A date index has been provided, but it has no associated frequency information and so will be ignored when e.g. forecasting.\n",
      "  self._init_dates(dates, freq)\n",
      "C:\\users\\hsl\\desktop\\lhs\\Lib\\site-packages\\statsmodels\\tsa\\base\\tsa_model.py:473: ValueWarning: A date index has been provided, but it has no associated frequency information and so will be ignored when e.g. forecasting.\n",
      "  self._init_dates(dates, freq)\n",
      "C:\\users\\hsl\\desktop\\lhs\\Lib\\site-packages\\statsmodels\\tsa\\base\\tsa_model.py:473: ValueWarning: A date index has been provided, but it has no associated frequency information and so will be ignored when e.g. forecasting.\n",
      "  self._init_dates(dates, freq)\n",
      "C:\\users\\hsl\\desktop\\lhs\\Lib\\site-packages\\statsmodels\\tsa\\base\\tsa_model.py:473: ValueWarning: A date index has been provided, but it has no associated frequency information and so will be ignored when e.g. forecasting.\n",
      "  self._init_dates(dates, freq)\n",
      "C:\\users\\hsl\\desktop\\lhs\\Lib\\site-packages\\statsmodels\\tsa\\base\\tsa_model.py:473: ValueWarning: A date index has been provided, but it has no associated frequency information and so will be ignored when e.g. forecasting.\n",
      "  self._init_dates(dates, freq)\n",
      "C:\\users\\hsl\\desktop\\lhs\\Lib\\site-packages\\statsmodels\\tsa\\base\\tsa_model.py:473: ValueWarning: A date index has been provided, but it has no associated frequency information and so will be ignored when e.g. forecasting.\n",
      "  self._init_dates(dates, freq)\n",
      "C:\\users\\hsl\\desktop\\lhs\\Lib\\site-packages\\statsmodels\\tsa\\base\\tsa_model.py:473: ValueWarning: A date index has been provided, but it has no associated frequency information and so will be ignored when e.g. forecasting.\n",
      "  self._init_dates(dates, freq)\n",
      "C:\\users\\hsl\\desktop\\lhs\\Lib\\site-packages\\statsmodels\\tsa\\base\\tsa_model.py:473: ValueWarning: A date index has been provided, but it has no associated frequency information and so will be ignored when e.g. forecasting.\n",
      "  self._init_dates(dates, freq)\n",
      "C:\\users\\hsl\\desktop\\lhs\\Lib\\site-packages\\statsmodels\\tsa\\base\\tsa_model.py:473: ValueWarning: A date index has been provided, but it has no associated frequency information and so will be ignored when e.g. forecasting.\n",
      "  self._init_dates(dates, freq)\n",
      "C:\\users\\hsl\\desktop\\lhs\\Lib\\site-packages\\statsmodels\\tsa\\base\\tsa_model.py:473: ValueWarning: A date index has been provided, but it has no associated frequency information and so will be ignored when e.g. forecasting.\n",
      "  self._init_dates(dates, freq)\n",
      "C:\\users\\hsl\\desktop\\lhs\\Lib\\site-packages\\statsmodels\\tsa\\base\\tsa_model.py:473: ValueWarning: A date index has been provided, but it has no associated frequency information and so will be ignored when e.g. forecasting.\n",
      "  self._init_dates(dates, freq)\n"
     ]
    },
    {
     "name": "stdout",
     "output_type": "stream",
     "text": [
      "VAR Order 1\n",
      "AIC 9.99803970245487\n",
      "BIC 10.003690140573902\n",
      "\n",
      "VAR Order 2\n",
      "AIC 9.99793844624853\n",
      "BIC 10.007356942404003\n",
      "\n",
      "VAR Order 3\n",
      "AIC 9.997853728620838\n",
      "BIC 10.01104116262973\n",
      "\n",
      "VAR Order 4\n",
      "AIC 9.998696787489077\n",
      "BIC 10.01565403949824\n",
      "\n",
      "VAR Order 5\n",
      "AIC 9.997630591617675\n",
      "BIC 10.018358542104012\n",
      "\n",
      "VAR Order 6\n",
      "AIC 9.99808816660991\n",
      "BIC 10.022587696380544\n",
      "\n",
      "VAR Order 7\n",
      "AIC 9.998135546881725\n",
      "BIC 10.026407537074164\n",
      "\n",
      "VAR Order 8\n",
      "AIC 9.998820405500133\n",
      "BIC 10.030865737582445\n",
      "\n",
      "VAR Order 9\n",
      "AIC 9.998078977891572\n",
      "BIC 10.033898533662548\n",
      "\n",
      "VAR Order 10\n",
      "AIC 9.9983344185265\n",
      "BIC 10.03792908011583\n",
      "\n",
      "VAR Order 11\n",
      "AIC 9.998252930125652\n",
      "BIC 10.04162357999409\n",
      "\n",
      "VAR Order 12\n",
      "AIC 9.997697971080932\n",
      "BIC 10.04484549202047\n",
      "\n",
      "VAR Order 13\n",
      "AIC 9.998868252134262\n",
      "BIC 10.049793527268294\n",
      "\n",
      "VAR Order 14\n",
      "AIC 9.999936743567364\n",
      "BIC 10.054640656350863\n",
      "\n",
      "VAR Order 15\n",
      "AIC 10.000350235791904\n",
      "BIC 10.058833670011586\n",
      "\n",
      "VAR Order 16\n",
      "AIC 9.999815872154926\n",
      "BIC 10.062079711929425\n",
      "\n",
      "VAR Order 17\n",
      "AIC 10.000130007094524\n",
      "BIC 10.066175136874561\n",
      "\n",
      "VAR Order 18\n",
      "AIC 10.000347513611999\n",
      "BIC 10.07017481818055\n",
      "\n",
      "VAR Order 19\n",
      "AIC 10.00025553864561\n",
      "BIC 10.073865903118083\n",
      "\n",
      "VAR Order 20\n",
      "AIC 10.001113974435281\n",
      "BIC 10.07850828425968\n",
      "\n",
      "VAR Order 21\n",
      "AIC 10.001885238142474\n",
      "BIC 10.083064379099572\n",
      "\n",
      "VAR Order 22\n",
      "AIC 9.998316591822643\n",
      "BIC 10.083281450026151\n",
      "\n",
      "VAR Order 23\n",
      "AIC 9.998409958316264\n",
      "BIC 10.08716142021301\n",
      "\n",
      "VAR Order 24\n",
      "AIC 9.997986321936844\n",
      "BIC 10.090525274306934\n",
      "\n",
      "VAR Order 25\n",
      "AIC 9.99855720692266\n",
      "BIC 10.094884536879658\n",
      "\n",
      "VAR Order 26\n",
      "AIC 9.99877769864774\n",
      "BIC 10.098894293638828\n",
      "\n",
      "VAR Order 27\n",
      "AIC 9.999475192250861\n",
      "BIC 10.103381940057027\n",
      "\n"
     ]
    },
    {
     "name": "stderr",
     "output_type": "stream",
     "text": [
      "C:\\users\\hsl\\desktop\\lhs\\Lib\\site-packages\\statsmodels\\tsa\\base\\tsa_model.py:473: ValueWarning: A date index has been provided, but it has no associated frequency information and so will be ignored when e.g. forecasting.\n",
      "  self._init_dates(dates, freq)\n",
      "C:\\users\\hsl\\desktop\\lhs\\Lib\\site-packages\\statsmodels\\tsa\\base\\tsa_model.py:473: ValueWarning: A date index has been provided, but it has no associated frequency information and so will be ignored when e.g. forecasting.\n",
      "  self._init_dates(dates, freq)\n",
      "C:\\users\\hsl\\desktop\\lhs\\Lib\\site-packages\\statsmodels\\tsa\\base\\tsa_model.py:473: ValueWarning: A date index has been provided, but it has no associated frequency information and so will be ignored when e.g. forecasting.\n",
      "  self._init_dates(dates, freq)\n",
      "C:\\users\\hsl\\desktop\\lhs\\Lib\\site-packages\\statsmodels\\tsa\\base\\tsa_model.py:473: ValueWarning: A date index has been provided, but it has no associated frequency information and so will be ignored when e.g. forecasting.\n",
      "  self._init_dates(dates, freq)\n",
      "C:\\users\\hsl\\desktop\\lhs\\Lib\\site-packages\\statsmodels\\tsa\\base\\tsa_model.py:473: ValueWarning: A date index has been provided, but it has no associated frequency information and so will be ignored when e.g. forecasting.\n",
      "  self._init_dates(dates, freq)\n",
      "C:\\users\\hsl\\desktop\\lhs\\Lib\\site-packages\\statsmodels\\tsa\\base\\tsa_model.py:473: ValueWarning: A date index has been provided, but it has no associated frequency information and so will be ignored when e.g. forecasting.\n",
      "  self._init_dates(dates, freq)\n",
      "C:\\users\\hsl\\desktop\\lhs\\Lib\\site-packages\\statsmodels\\tsa\\base\\tsa_model.py:473: ValueWarning: A date index has been provided, but it has no associated frequency information and so will be ignored when e.g. forecasting.\n",
      "  self._init_dates(dates, freq)\n",
      "C:\\users\\hsl\\desktop\\lhs\\Lib\\site-packages\\statsmodels\\tsa\\base\\tsa_model.py:473: ValueWarning: A date index has been provided, but it has no associated frequency information and so will be ignored when e.g. forecasting.\n",
      "  self._init_dates(dates, freq)\n",
      "C:\\users\\hsl\\desktop\\lhs\\Lib\\site-packages\\statsmodels\\tsa\\base\\tsa_model.py:473: ValueWarning: A date index has been provided, but it has no associated frequency information and so will be ignored when e.g. forecasting.\n",
      "  self._init_dates(dates, freq)\n",
      "C:\\users\\hsl\\desktop\\lhs\\Lib\\site-packages\\statsmodels\\tsa\\base\\tsa_model.py:473: ValueWarning: A date index has been provided, but it has no associated frequency information and so will be ignored when e.g. forecasting.\n",
      "  self._init_dates(dates, freq)\n",
      "C:\\users\\hsl\\desktop\\lhs\\Lib\\site-packages\\statsmodels\\tsa\\base\\tsa_model.py:473: ValueWarning: A date index has been provided, but it has no associated frequency information and so will be ignored when e.g. forecasting.\n",
      "  self._init_dates(dates, freq)\n",
      "C:\\users\\hsl\\desktop\\lhs\\Lib\\site-packages\\statsmodels\\tsa\\base\\tsa_model.py:473: ValueWarning: A date index has been provided, but it has no associated frequency information and so will be ignored when e.g. forecasting.\n",
      "  self._init_dates(dates, freq)\n"
     ]
    },
    {
     "name": "stdout",
     "output_type": "stream",
     "text": [
      "VAR Order 28\n",
      "AIC 10.00019186167693\n",
      "BIC 10.107889650413126\n",
      "\n",
      "VAR Order 29\n",
      "AIC 10.000400261170348\n",
      "BIC 10.111889979285664\n",
      "\n",
      "VAR Order 30\n",
      "AIC 9.999858981020381\n",
      "BIC 10.115141517298222\n",
      "\n",
      "VAR Order 31\n",
      "AIC 9.999644883941324\n",
      "BIC 10.118721127499578\n",
      "\n",
      "VAR Order 32\n",
      "AIC 10.000235419721408\n",
      "BIC 10.123106260012621\n",
      "\n",
      "VAR Order 33\n",
      "AIC 10.000686530342621\n",
      "BIC 10.127352857154165\n",
      "\n",
      "VAR Order 34\n",
      "AIC 9.999814525553333\n",
      "BIC 10.130277229007579\n",
      "\n",
      "VAR Order 35\n",
      "AIC 9.999621763092387\n",
      "BIC 10.133881733646884\n",
      "\n",
      "VAR Order 36\n",
      "AIC 9.999513317462762\n",
      "BIC 10.137571445910401\n",
      "\n"
     ]
    },
    {
     "name": "stderr",
     "output_type": "stream",
     "text": [
      "C:\\users\\hsl\\desktop\\lhs\\Lib\\site-packages\\statsmodels\\tsa\\base\\tsa_model.py:473: ValueWarning: A date index has been provided, but it has no associated frequency information and so will be ignored when e.g. forecasting.\n",
      "  self._init_dates(dates, freq)\n",
      "C:\\users\\hsl\\desktop\\lhs\\Lib\\site-packages\\statsmodels\\tsa\\base\\tsa_model.py:473: ValueWarning: A date index has been provided, but it has no associated frequency information and so will be ignored when e.g. forecasting.\n",
      "  self._init_dates(dates, freq)\n",
      "C:\\users\\hsl\\desktop\\lhs\\Lib\\site-packages\\statsmodels\\tsa\\base\\tsa_model.py:473: ValueWarning: A date index has been provided, but it has no associated frequency information and so will be ignored when e.g. forecasting.\n",
      "  self._init_dates(dates, freq)\n",
      "C:\\users\\hsl\\desktop\\lhs\\Lib\\site-packages\\statsmodels\\tsa\\base\\tsa_model.py:473: ValueWarning: A date index has been provided, but it has no associated frequency information and so will be ignored when e.g. forecasting.\n",
      "  self._init_dates(dates, freq)\n",
      "C:\\users\\hsl\\desktop\\lhs\\Lib\\site-packages\\statsmodels\\tsa\\base\\tsa_model.py:473: ValueWarning: A date index has been provided, but it has no associated frequency information and so will be ignored when e.g. forecasting.\n",
      "  self._init_dates(dates, freq)\n",
      "C:\\users\\hsl\\desktop\\lhs\\Lib\\site-packages\\statsmodels\\tsa\\base\\tsa_model.py:473: ValueWarning: A date index has been provided, but it has no associated frequency information and so will be ignored when e.g. forecasting.\n",
      "  self._init_dates(dates, freq)\n",
      "C:\\users\\hsl\\desktop\\lhs\\Lib\\site-packages\\statsmodels\\tsa\\base\\tsa_model.py:473: ValueWarning: A date index has been provided, but it has no associated frequency information and so will be ignored when e.g. forecasting.\n",
      "  self._init_dates(dates, freq)\n",
      "C:\\users\\hsl\\desktop\\lhs\\Lib\\site-packages\\statsmodels\\tsa\\base\\tsa_model.py:473: ValueWarning: A date index has been provided, but it has no associated frequency information and so will be ignored when e.g. forecasting.\n",
      "  self._init_dates(dates, freq)\n",
      "C:\\users\\hsl\\desktop\\lhs\\Lib\\site-packages\\statsmodels\\tsa\\base\\tsa_model.py:473: ValueWarning: A date index has been provided, but it has no associated frequency information and so will be ignored when e.g. forecasting.\n",
      "  self._init_dates(dates, freq)\n"
     ]
    },
    {
     "name": "stdout",
     "output_type": "stream",
     "text": [
      "VAR Order 37\n",
      "AIC 9.998900647948172\n",
      "BIC 10.140757825417364\n",
      "\n",
      "VAR Order 38\n",
      "AIC 9.999692411313648\n",
      "BIC 10.145349529268492\n",
      "\n",
      "VAR Order 39\n",
      "AIC 9.999805577742777\n",
      "BIC 10.149263527983239\n",
      "\n",
      "VAR Order 40\n",
      "AIC 9.998284989239151\n",
      "BIC 10.151544663901234\n",
      "\n",
      "VAR Order 41\n",
      "AIC 9.998614200623818\n",
      "BIC 10.15567649217973\n",
      "\n",
      "VAR Order 42\n",
      "AIC 9.999025412357808\n",
      "BIC 10.159891213616145\n",
      "\n",
      "VAR Order 43\n",
      "AIC 9.996784745446964\n",
      "BIC 10.161454949552876\n",
      "\n",
      "VAR Order 44\n",
      "AIC 9.995248613913411\n",
      "BIC 10.16372411434878\n",
      "\n"
     ]
    },
    {
     "name": "stderr",
     "output_type": "stream",
     "text": [
      "C:\\users\\hsl\\desktop\\lhs\\Lib\\site-packages\\statsmodels\\tsa\\base\\tsa_model.py:473: ValueWarning: A date index has been provided, but it has no associated frequency information and so will be ignored when e.g. forecasting.\n",
      "  self._init_dates(dates, freq)\n",
      "C:\\users\\hsl\\desktop\\lhs\\Lib\\site-packages\\statsmodels\\tsa\\base\\tsa_model.py:473: ValueWarning: A date index has been provided, but it has no associated frequency information and so will be ignored when e.g. forecasting.\n",
      "  self._init_dates(dates, freq)\n",
      "C:\\users\\hsl\\desktop\\lhs\\Lib\\site-packages\\statsmodels\\tsa\\base\\tsa_model.py:473: ValueWarning: A date index has been provided, but it has no associated frequency information and so will be ignored when e.g. forecasting.\n",
      "  self._init_dates(dates, freq)\n",
      "C:\\users\\hsl\\desktop\\lhs\\Lib\\site-packages\\statsmodels\\tsa\\base\\tsa_model.py:473: ValueWarning: A date index has been provided, but it has no associated frequency information and so will be ignored when e.g. forecasting.\n",
      "  self._init_dates(dates, freq)\n",
      "C:\\users\\hsl\\desktop\\lhs\\Lib\\site-packages\\statsmodels\\tsa\\base\\tsa_model.py:473: ValueWarning: A date index has been provided, but it has no associated frequency information and so will be ignored when e.g. forecasting.\n",
      "  self._init_dates(dates, freq)\n",
      "C:\\users\\hsl\\desktop\\lhs\\Lib\\site-packages\\statsmodels\\tsa\\base\\tsa_model.py:473: ValueWarning: A date index has been provided, but it has no associated frequency information and so will be ignored when e.g. forecasting.\n",
      "  self._init_dates(dates, freq)\n",
      "C:\\users\\hsl\\desktop\\lhs\\Lib\\site-packages\\statsmodels\\tsa\\base\\tsa_model.py:473: ValueWarning: A date index has been provided, but it has no associated frequency information and so will be ignored when e.g. forecasting.\n",
      "  self._init_dates(dates, freq)\n",
      "C:\\users\\hsl\\desktop\\lhs\\Lib\\site-packages\\statsmodels\\tsa\\base\\tsa_model.py:473: ValueWarning: A date index has been provided, but it has no associated frequency information and so will be ignored when e.g. forecasting.\n",
      "  self._init_dates(dates, freq)\n"
     ]
    },
    {
     "name": "stdout",
     "output_type": "stream",
     "text": [
      "VAR Order 45\n",
      "AIC 9.995054418130708\n",
      "BIC 10.167336108714318\n",
      "\n",
      "VAR Order 46\n",
      "AIC 9.9955910853619\n",
      "BIC 10.17167986024961\n",
      "\n",
      "VAR Order 47\n",
      "AIC 9.995961384285637\n",
      "BIC 10.17585813797056\n",
      "\n",
      "VAR Order 48\n",
      "AIC 9.995013602090731\n",
      "BIC 10.178719229403404\n",
      "\n",
      "VAR Order 49\n",
      "AIC 9.9952484522209\n",
      "BIC 10.182763848329458\n",
      "\n",
      "VAR Order 50\n",
      "AIC 9.994822975506018\n",
      "BIC 10.186149035916367\n",
      "\n",
      "VAR Order 51\n",
      "AIC 9.994299869431401\n",
      "BIC 10.189437489987398\n",
      "\n"
     ]
    },
    {
     "name": "stderr",
     "output_type": "stream",
     "text": [
      "C:\\users\\hsl\\desktop\\lhs\\Lib\\site-packages\\statsmodels\\tsa\\base\\tsa_model.py:473: ValueWarning: A date index has been provided, but it has no associated frequency information and so will be ignored when e.g. forecasting.\n",
      "  self._init_dates(dates, freq)\n",
      "C:\\users\\hsl\\desktop\\lhs\\Lib\\site-packages\\statsmodels\\tsa\\base\\tsa_model.py:473: ValueWarning: A date index has been provided, but it has no associated frequency information and so will be ignored when e.g. forecasting.\n",
      "  self._init_dates(dates, freq)\n",
      "C:\\users\\hsl\\desktop\\lhs\\Lib\\site-packages\\statsmodels\\tsa\\base\\tsa_model.py:473: ValueWarning: A date index has been provided, but it has no associated frequency information and so will be ignored when e.g. forecasting.\n",
      "  self._init_dates(dates, freq)\n",
      "C:\\users\\hsl\\desktop\\lhs\\Lib\\site-packages\\statsmodels\\tsa\\base\\tsa_model.py:473: ValueWarning: A date index has been provided, but it has no associated frequency information and so will be ignored when e.g. forecasting.\n",
      "  self._init_dates(dates, freq)\n",
      "C:\\users\\hsl\\desktop\\lhs\\Lib\\site-packages\\statsmodels\\tsa\\base\\tsa_model.py:473: ValueWarning: A date index has been provided, but it has no associated frequency information and so will be ignored when e.g. forecasting.\n",
      "  self._init_dates(dates, freq)\n",
      "C:\\users\\hsl\\desktop\\lhs\\Lib\\site-packages\\statsmodels\\tsa\\base\\tsa_model.py:473: ValueWarning: A date index has been provided, but it has no associated frequency information and so will be ignored when e.g. forecasting.\n",
      "  self._init_dates(dates, freq)\n",
      "C:\\users\\hsl\\desktop\\lhs\\Lib\\site-packages\\statsmodels\\tsa\\base\\tsa_model.py:473: ValueWarning: A date index has been provided, but it has no associated frequency information and so will be ignored when e.g. forecasting.\n",
      "  self._init_dates(dates, freq)\n"
     ]
    },
    {
     "name": "stdout",
     "output_type": "stream",
     "text": [
      "VAR Order 52\n",
      "AIC 9.995164886867464\n",
      "BIC 10.194114963751083\n",
      "\n",
      "VAR Order 53\n",
      "AIC 9.995620770995647\n",
      "BIC 10.198384200727162\n",
      "\n",
      "VAR Order 54\n",
      "AIC 9.995943876012568\n",
      "BIC 10.202521555450721\n",
      "\n",
      "VAR Order 55\n",
      "AIC 9.996237886911764\n",
      "BIC 10.206630713253944\n",
      "\n",
      "VAR Order 56\n",
      "AIC 9.997199283261951\n",
      "BIC 10.211408154044364\n",
      "\n",
      "VAR Order 57\n",
      "AIC 9.996430016149548\n",
      "BIC 10.214455829247393\n",
      "\n"
     ]
    },
    {
     "name": "stderr",
     "output_type": "stream",
     "text": [
      "C:\\users\\hsl\\desktop\\lhs\\Lib\\site-packages\\statsmodels\\tsa\\base\\tsa_model.py:473: ValueWarning: A date index has been provided, but it has no associated frequency information and so will be ignored when e.g. forecasting.\n",
      "  self._init_dates(dates, freq)\n",
      "C:\\users\\hsl\\desktop\\lhs\\Lib\\site-packages\\statsmodels\\tsa\\base\\tsa_model.py:473: ValueWarning: A date index has been provided, but it has no associated frequency information and so will be ignored when e.g. forecasting.\n",
      "  self._init_dates(dates, freq)\n",
      "C:\\users\\hsl\\desktop\\lhs\\Lib\\site-packages\\statsmodels\\tsa\\base\\tsa_model.py:473: ValueWarning: A date index has been provided, but it has no associated frequency information and so will be ignored when e.g. forecasting.\n",
      "  self._init_dates(dates, freq)\n",
      "C:\\users\\hsl\\desktop\\lhs\\Lib\\site-packages\\statsmodels\\tsa\\base\\tsa_model.py:473: ValueWarning: A date index has been provided, but it has no associated frequency information and so will be ignored when e.g. forecasting.\n",
      "  self._init_dates(dates, freq)\n",
      "C:\\users\\hsl\\desktop\\lhs\\Lib\\site-packages\\statsmodels\\tsa\\base\\tsa_model.py:473: ValueWarning: A date index has been provided, but it has no associated frequency information and so will be ignored when e.g. forecasting.\n",
      "  self._init_dates(dates, freq)\n",
      "C:\\users\\hsl\\desktop\\lhs\\Lib\\site-packages\\statsmodels\\tsa\\base\\tsa_model.py:473: ValueWarning: A date index has been provided, but it has no associated frequency information and so will be ignored when e.g. forecasting.\n",
      "  self._init_dates(dates, freq)\n"
     ]
    },
    {
     "name": "stdout",
     "output_type": "stream",
     "text": [
      "VAR Order 58\n",
      "AIC 9.997228766571748\n",
      "BIC 10.219072420199401\n",
      "\n",
      "VAR Order 59\n",
      "AIC 9.99816534748595\n",
      "BIC 10.223827740197125\n",
      "\n",
      "VAR Order 60\n",
      "AIC 9.998412027727356\n",
      "BIC 10.227894058415291\n",
      "\n",
      "VAR Order 61\n",
      "AIC 9.999117927283269\n",
      "BIC 10.232420495180895\n",
      "\n",
      "VAR Order 62\n",
      "AIC 9.998741144938728\n",
      "BIC 10.235865149618853\n",
      "\n"
     ]
    },
    {
     "name": "stderr",
     "output_type": "stream",
     "text": [
      "C:\\users\\hsl\\desktop\\lhs\\Lib\\site-packages\\statsmodels\\tsa\\base\\tsa_model.py:473: ValueWarning: A date index has been provided, but it has no associated frequency information and so will be ignored when e.g. forecasting.\n",
      "  self._init_dates(dates, freq)\n",
      "C:\\users\\hsl\\desktop\\lhs\\Lib\\site-packages\\statsmodels\\tsa\\base\\tsa_model.py:473: ValueWarning: A date index has been provided, but it has no associated frequency information and so will be ignored when e.g. forecasting.\n",
      "  self._init_dates(dates, freq)\n",
      "C:\\users\\hsl\\desktop\\lhs\\Lib\\site-packages\\statsmodels\\tsa\\base\\tsa_model.py:473: ValueWarning: A date index has been provided, but it has no associated frequency information and so will be ignored when e.g. forecasting.\n",
      "  self._init_dates(dates, freq)\n",
      "C:\\users\\hsl\\desktop\\lhs\\Lib\\site-packages\\statsmodels\\tsa\\base\\tsa_model.py:473: ValueWarning: A date index has been provided, but it has no associated frequency information and so will be ignored when e.g. forecasting.\n",
      "  self._init_dates(dates, freq)\n",
      "C:\\users\\hsl\\desktop\\lhs\\Lib\\site-packages\\statsmodels\\tsa\\base\\tsa_model.py:473: ValueWarning: A date index has been provided, but it has no associated frequency information and so will be ignored when e.g. forecasting.\n",
      "  self._init_dates(dates, freq)\n"
     ]
    },
    {
     "name": "stdout",
     "output_type": "stream",
     "text": [
      "VAR Order 63\n",
      "AIC 9.99863459858142\n",
      "BIC 10.239580939956888\n",
      "\n",
      "VAR Order 64\n",
      "AIC 9.99935435322093\n",
      "BIC 10.244123931544816\n",
      "\n",
      "VAR Order 65\n",
      "AIC 10.000176658467819\n",
      "BIC 10.248770374333594\n",
      "\n",
      "VAR Order 66\n",
      "AIC 9.99792300252613\n",
      "BIC 10.250341756867838\n",
      "\n",
      "VAR Order 67\n",
      "AIC 9.998460740462757\n",
      "BIC 10.254705434555195\n",
      "\n"
     ]
    },
    {
     "name": "stderr",
     "output_type": "stream",
     "text": [
      "C:\\users\\hsl\\desktop\\lhs\\Lib\\site-packages\\statsmodels\\tsa\\base\\tsa_model.py:473: ValueWarning: A date index has been provided, but it has no associated frequency information and so will be ignored when e.g. forecasting.\n",
      "  self._init_dates(dates, freq)\n",
      "C:\\users\\hsl\\desktop\\lhs\\Lib\\site-packages\\statsmodels\\tsa\\base\\tsa_model.py:473: ValueWarning: A date index has been provided, but it has no associated frequency information and so will be ignored when e.g. forecasting.\n",
      "  self._init_dates(dates, freq)\n",
      "C:\\users\\hsl\\desktop\\lhs\\Lib\\site-packages\\statsmodels\\tsa\\base\\tsa_model.py:473: ValueWarning: A date index has been provided, but it has no associated frequency information and so will be ignored when e.g. forecasting.\n",
      "  self._init_dates(dates, freq)\n",
      "C:\\users\\hsl\\desktop\\lhs\\Lib\\site-packages\\statsmodels\\tsa\\base\\tsa_model.py:473: ValueWarning: A date index has been provided, but it has no associated frequency information and so will be ignored when e.g. forecasting.\n",
      "  self._init_dates(dates, freq)\n",
      "C:\\users\\hsl\\desktop\\lhs\\Lib\\site-packages\\statsmodels\\tsa\\base\\tsa_model.py:473: ValueWarning: A date index has been provided, but it has no associated frequency information and so will be ignored when e.g. forecasting.\n",
      "  self._init_dates(dates, freq)\n"
     ]
    },
    {
     "name": "stdout",
     "output_type": "stream",
     "text": [
      "VAR Order 68\n",
      "AIC 9.999342387144164\n",
      "BIC 10.259413922603049\n",
      "\n",
      "VAR Order 69\n",
      "AIC 9.999249432511261\n",
      "BIC 10.263148711293418\n",
      "\n",
      "VAR Order 70\n",
      "AIC 9.99977518234561\n",
      "BIC 10.267503106749142\n",
      "\n",
      "VAR Order 71\n",
      "AIC 10.000055975877252\n",
      "BIC 10.271613448541718\n",
      "\n",
      "VAR Order 72\n",
      "AIC 10.000464238484188\n",
      "BIC 10.275852162390777\n",
      "\n"
     ]
    },
    {
     "name": "stderr",
     "output_type": "stream",
     "text": [
      "C:\\users\\hsl\\desktop\\lhs\\Lib\\site-packages\\statsmodels\\tsa\\base\\tsa_model.py:473: ValueWarning: A date index has been provided, but it has no associated frequency information and so will be ignored when e.g. forecasting.\n",
      "  self._init_dates(dates, freq)\n",
      "C:\\users\\hsl\\desktop\\lhs\\Lib\\site-packages\\statsmodels\\tsa\\base\\tsa_model.py:473: ValueWarning: A date index has been provided, but it has no associated frequency information and so will be ignored when e.g. forecasting.\n",
      "  self._init_dates(dates, freq)\n",
      "C:\\users\\hsl\\desktop\\lhs\\Lib\\site-packages\\statsmodels\\tsa\\base\\tsa_model.py:473: ValueWarning: A date index has been provided, but it has no associated frequency information and so will be ignored when e.g. forecasting.\n",
      "  self._init_dates(dates, freq)\n",
      "C:\\users\\hsl\\desktop\\lhs\\Lib\\site-packages\\statsmodels\\tsa\\base\\tsa_model.py:473: ValueWarning: A date index has been provided, but it has no associated frequency information and so will be ignored when e.g. forecasting.\n",
      "  self._init_dates(dates, freq)\n",
      "C:\\users\\hsl\\desktop\\lhs\\Lib\\site-packages\\statsmodels\\tsa\\base\\tsa_model.py:473: ValueWarning: A date index has been provided, but it has no associated frequency information and so will be ignored when e.g. forecasting.\n",
      "  self._init_dates(dates, freq)\n",
      "C:\\users\\hsl\\desktop\\lhs\\Lib\\site-packages\\statsmodels\\tsa\\base\\tsa_model.py:473: ValueWarning: A date index has been provided, but it has no associated frequency information and so will be ignored when e.g. forecasting.\n",
      "  self._init_dates(dates, freq)\n",
      "C:\\users\\hsl\\desktop\\lhs\\Lib\\site-packages\\statsmodels\\tsa\\base\\tsa_model.py:473: ValueWarning: A date index has been provided, but it has no associated frequency information and so will be ignored when e.g. forecasting.\n",
      "  self._init_dates(dates, freq)\n",
      "C:\\users\\hsl\\desktop\\lhs\\Lib\\site-packages\\statsmodels\\tsa\\base\\tsa_model.py:473: ValueWarning: A date index has been provided, but it has no associated frequency information and so will be ignored when e.g. forecasting.\n",
      "  self._init_dates(dates, freq)\n"
     ]
    },
    {
     "name": "stdout",
     "output_type": "stream",
     "text": [
      "VAR Order 73\n",
      "AIC 10.0013769123889\n",
      "BIC 10.280596190860612\n",
      "\n",
      "VAR Order 74\n",
      "AIC 10.002136499844324\n",
      "BIC 10.285188036546144\n",
      "\n",
      "VAR Order 75\n",
      "AIC 10.001997100122594\n",
      "BIC 10.28888179906167\n",
      "\n",
      "VAR Order 76\n",
      "AIC 10.002932162561429\n",
      "BIC 10.293650928087247\n",
      "\n"
     ]
    },
    {
     "name": "stderr",
     "output_type": "stream",
     "text": [
      "C:\\users\\hsl\\desktop\\lhs\\Lib\\site-packages\\statsmodels\\tsa\\base\\tsa_model.py:473: ValueWarning: A date index has been provided, but it has no associated frequency information and so will be ignored when e.g. forecasting.\n",
      "  self._init_dates(dates, freq)\n",
      "C:\\users\\hsl\\desktop\\lhs\\Lib\\site-packages\\statsmodels\\tsa\\base\\tsa_model.py:473: ValueWarning: A date index has been provided, but it has no associated frequency information and so will be ignored when e.g. forecasting.\n",
      "  self._init_dates(dates, freq)\n",
      "C:\\users\\hsl\\desktop\\lhs\\Lib\\site-packages\\statsmodels\\tsa\\base\\tsa_model.py:473: ValueWarning: A date index has been provided, but it has no associated frequency information and so will be ignored when e.g. forecasting.\n",
      "  self._init_dates(dates, freq)\n",
      "C:\\users\\hsl\\desktop\\lhs\\Lib\\site-packages\\statsmodels\\tsa\\base\\tsa_model.py:473: ValueWarning: A date index has been provided, but it has no associated frequency information and so will be ignored when e.g. forecasting.\n",
      "  self._init_dates(dates, freq)\n"
     ]
    },
    {
     "name": "stdout",
     "output_type": "stream",
     "text": [
      "VAR Order 77\n",
      "AIC 10.000808183579533\n",
      "BIC 10.2953619203841\n",
      "\n",
      "VAR Order 78\n",
      "AIC 9.997764641331935\n",
      "BIC 10.296154254449949\n",
      "\n",
      "VAR Order 79\n",
      "AIC 9.99785231183656\n",
      "BIC 10.300078706645591\n",
      "\n",
      "VAR Order 80\n",
      "AIC 9.998807100158407\n",
      "BIC 10.304871182379076\n",
      "\n"
     ]
    },
    {
     "name": "stderr",
     "output_type": "stream",
     "text": [
      "C:\\users\\hsl\\desktop\\lhs\\Lib\\site-packages\\statsmodels\\tsa\\base\\tsa_model.py:473: ValueWarning: A date index has been provided, but it has no associated frequency information and so will be ignored when e.g. forecasting.\n",
      "  self._init_dates(dates, freq)\n",
      "C:\\users\\hsl\\desktop\\lhs\\Lib\\site-packages\\statsmodels\\tsa\\base\\tsa_model.py:473: ValueWarning: A date index has been provided, but it has no associated frequency information and so will be ignored when e.g. forecasting.\n",
      "  self._init_dates(dates, freq)\n",
      "C:\\users\\hsl\\desktop\\lhs\\Lib\\site-packages\\statsmodels\\tsa\\base\\tsa_model.py:473: ValueWarning: A date index has been provided, but it has no associated frequency information and so will be ignored when e.g. forecasting.\n",
      "  self._init_dates(dates, freq)\n",
      "C:\\users\\hsl\\desktop\\lhs\\Lib\\site-packages\\statsmodels\\tsa\\base\\tsa_model.py:473: ValueWarning: A date index has been provided, but it has no associated frequency information and so will be ignored when e.g. forecasting.\n",
      "  self._init_dates(dates, freq)\n"
     ]
    },
    {
     "name": "stdout",
     "output_type": "stream",
     "text": [
      "VAR Order 81\n",
      "AIC 9.999203233731306\n",
      "BIC 10.30910590942746\n",
      "\n",
      "VAR Order 82\n",
      "AIC 9.998175425981541\n",
      "BIC 10.311917601560435\n",
      "\n",
      "VAR Order 83\n",
      "AIC 9.998973910041531\n",
      "BIC 10.316556492253998\n",
      "\n",
      "VAR Order 84\n",
      "AIC 9.998592950908451\n",
      "BIC 10.320016846849086\n",
      "\n"
     ]
    },
    {
     "name": "stderr",
     "output_type": "stream",
     "text": [
      "C:\\users\\hsl\\desktop\\lhs\\Lib\\site-packages\\statsmodels\\tsa\\base\\tsa_model.py:473: ValueWarning: A date index has been provided, but it has no associated frequency information and so will be ignored when e.g. forecasting.\n",
      "  self._init_dates(dates, freq)\n",
      "C:\\users\\hsl\\desktop\\lhs\\Lib\\site-packages\\statsmodels\\tsa\\base\\tsa_model.py:473: ValueWarning: A date index has been provided, but it has no associated frequency information and so will be ignored when e.g. forecasting.\n",
      "  self._init_dates(dates, freq)\n",
      "C:\\users\\hsl\\desktop\\lhs\\Lib\\site-packages\\statsmodels\\tsa\\base\\tsa_model.py:473: ValueWarning: A date index has been provided, but it has no associated frequency information and so will be ignored when e.g. forecasting.\n",
      "  self._init_dates(dates, freq)\n",
      "C:\\users\\hsl\\desktop\\lhs\\Lib\\site-packages\\statsmodels\\tsa\\base\\tsa_model.py:473: ValueWarning: A date index has been provided, but it has no associated frequency information and so will be ignored when e.g. forecasting.\n",
      "  self._init_dates(dates, freq)\n"
     ]
    },
    {
     "name": "stdout",
     "output_type": "stream",
     "text": [
      "VAR Order 85\n",
      "AIC 9.998598820505128\n",
      "BIC 10.323864937612466\n",
      "\n",
      "VAR Order 86\n",
      "AIC 9.99895569678852\n",
      "BIC 10.328064942845216\n",
      "\n",
      "VAR Order 87\n",
      "AIC 9.999171225641506\n",
      "BIC 10.332124508774506\n",
      "\n",
      "VAR Order 88\n",
      "AIC 9.999946751811875\n",
      "BIC 10.336744980492599\n",
      "\n"
     ]
    },
    {
     "name": "stderr",
     "output_type": "stream",
     "text": [
      "C:\\users\\hsl\\desktop\\lhs\\Lib\\site-packages\\statsmodels\\tsa\\base\\tsa_model.py:473: ValueWarning: A date index has been provided, but it has no associated frequency information and so will be ignored when e.g. forecasting.\n",
      "  self._init_dates(dates, freq)\n",
      "C:\\users\\hsl\\desktop\\lhs\\Lib\\site-packages\\statsmodels\\tsa\\base\\tsa_model.py:473: ValueWarning: A date index has been provided, but it has no associated frequency information and so will be ignored when e.g. forecasting.\n",
      "  self._init_dates(dates, freq)\n",
      "C:\\users\\hsl\\desktop\\lhs\\Lib\\site-packages\\statsmodels\\tsa\\base\\tsa_model.py:473: ValueWarning: A date index has been provided, but it has no associated frequency information and so will be ignored when e.g. forecasting.\n",
      "  self._init_dates(dates, freq)\n",
      "C:\\users\\hsl\\desktop\\lhs\\Lib\\site-packages\\statsmodels\\tsa\\base\\tsa_model.py:473: ValueWarning: A date index has been provided, but it has no associated frequency information and so will be ignored when e.g. forecasting.\n",
      "  self._init_dates(dates, freq)\n"
     ]
    },
    {
     "name": "stdout",
     "output_type": "stream",
     "text": [
      "VAR Order 89\n",
      "AIC 10.000217108314505\n",
      "BIC 10.34086119135903\n",
      "\n",
      "VAR Order 90\n",
      "AIC 10.000486216292536\n",
      "BIC 10.34497706286177\n",
      "\n",
      "VAR Order 91\n",
      "AIC 10.000980935855882\n",
      "BIC 10.349319455455738\n",
      "\n",
      "VAR Order 92\n",
      "AIC 10.00032457033211\n",
      "BIC 10.352511672813694\n",
      "\n"
     ]
    },
    {
     "name": "stderr",
     "output_type": "stream",
     "text": [
      "C:\\users\\hsl\\desktop\\lhs\\Lib\\site-packages\\statsmodels\\tsa\\base\\tsa_model.py:473: ValueWarning: A date index has been provided, but it has no associated frequency information and so will be ignored when e.g. forecasting.\n",
      "  self._init_dates(dates, freq)\n",
      "C:\\users\\hsl\\desktop\\lhs\\Lib\\site-packages\\statsmodels\\tsa\\base\\tsa_model.py:473: ValueWarning: A date index has been provided, but it has no associated frequency information and so will be ignored when e.g. forecasting.\n",
      "  self._init_dates(dates, freq)\n",
      "C:\\users\\hsl\\desktop\\lhs\\Lib\\site-packages\\statsmodels\\tsa\\base\\tsa_model.py:473: ValueWarning: A date index has been provided, but it has no associated frequency information and so will be ignored when e.g. forecasting.\n",
      "  self._init_dates(dates, freq)\n"
     ]
    },
    {
     "name": "stdout",
     "output_type": "stream",
     "text": [
      "VAR Order 93\n",
      "AIC 10.00045502681618\n",
      "BIC 10.356491622375968\n",
      "\n",
      "VAR Order 94\n",
      "AIC 10.001021190309618\n",
      "BIC 10.36090818948963\n",
      "\n",
      "VAR Order 95\n",
      "AIC 10.001439794548808\n",
      "BIC 10.365178108236794\n",
      "\n"
     ]
    },
    {
     "name": "stderr",
     "output_type": "stream",
     "text": [
      "C:\\users\\hsl\\desktop\\lhs\\Lib\\site-packages\\statsmodels\\tsa\\base\\tsa_model.py:473: ValueWarning: A date index has been provided, but it has no associated frequency information and so will be ignored when e.g. forecasting.\n",
      "  self._init_dates(dates, freq)\n",
      "C:\\users\\hsl\\desktop\\lhs\\Lib\\site-packages\\statsmodels\\tsa\\base\\tsa_model.py:473: ValueWarning: A date index has been provided, but it has no associated frequency information and so will be ignored when e.g. forecasting.\n",
      "  self._init_dates(dates, freq)\n",
      "C:\\users\\hsl\\desktop\\lhs\\Lib\\site-packages\\statsmodels\\tsa\\base\\tsa_model.py:473: ValueWarning: A date index has been provided, but it has no associated frequency information and so will be ignored when e.g. forecasting.\n",
      "  self._init_dates(dates, freq)\n"
     ]
    },
    {
     "name": "stdout",
     "output_type": "stream",
     "text": [
      "VAR Order 96\n",
      "AIC 10.001856785427332\n",
      "BIC 10.369447324856946\n",
      "\n",
      "VAR Order 97\n",
      "AIC 10.001370037652626\n",
      "BIC 10.372813714403607\n",
      "\n",
      "VAR Order 98\n",
      "AIC 10.001529656821555\n",
      "BIC 10.376827382819911\n",
      "\n",
      "VAR Order 99\n",
      "AIC 10.00020401347141\n",
      "BIC 10.379356700989595\n",
      "\n",
      "51\n",
      "1\n"
     ]
    },
    {
     "name": "stderr",
     "output_type": "stream",
     "text": [
      "C:\\users\\hsl\\desktop\\lhs\\Lib\\site-packages\\statsmodels\\tsa\\base\\tsa_model.py:473: ValueWarning: A date index has been provided, but it has no associated frequency information and so will be ignored when e.g. forecasting.\n",
      "  self._init_dates(dates, freq)\n"
     ]
    }
   ],
   "source": [
    "# p = [1,2,3,4,5,6,7]  # try with list of 7 p values\n",
    "\n",
    "check_lst_aic = []\n",
    "check_lst_bic = []\n",
    "\n",
    "for i in range(1, 100):\n",
    "    model = VAR(train)\n",
    "    results = model.fit(i)\n",
    "    print(f'VAR Order {i}')\n",
    "    print('AIC {}'.format(results.aic))\n",
    "    print('BIC {}'.format(results.bic))\n",
    "    print()\n",
    "    check_lst_aic.append(results.aic)    \n",
    "    check_lst_bic.append(results.bic)    \n",
    "    \n",
    "print(check_lst_aic.index(min(check_lst_aic))+1)\n",
    "print(check_lst_bic.index(min(check_lst_bic))+1)"
   ]
  },
  {
   "cell_type": "markdown",
   "id": "5fb5b1b4",
   "metadata": {},
   "source": [
    "Order 9 has the least AIC values. \n",
    "<br/> Order 1 has the least BIC values."
   ]
  },
  {
   "cell_type": "code",
   "execution_count": 28,
   "id": "2ba7e359",
   "metadata": {
    "ExecuteTime": {
     "end_time": "2023-05-25T18:50:30.700957Z",
     "start_time": "2023-05-25T18:50:30.567150Z"
    },
    "scrolled": false
   },
   "outputs": [
    {
     "data": {
      "text/plain": [
       "  Summary of Regression Results   \n",
       "==================================\n",
       "Model:                         VAR\n",
       "Method:                        OLS\n",
       "Date:           Fri, 26, May, 2023\n",
       "Time:                     03:50:30\n",
       "--------------------------------------------------------------------\n",
       "No. of Equations:         2.00000    BIC:                    10.1894\n",
       "Nobs:                     7276.00    HQIC:                   10.0614\n",
       "Log likelihood:          -56801.7    FPE:                    21901.4\n",
       "AIC:                      9.99430    Det(Omega_mle):         21294.2\n",
       "--------------------------------------------------------------------\n",
       "Results for equation gold_Close\n",
       "==================================================================================\n",
       "                     coefficient       std. error           t-stat            prob\n",
       "----------------------------------------------------------------------------------\n",
       "const                   0.135446         0.108181            1.252           0.211\n",
       "L1.gold_Close          -0.001228         0.011812           -0.104           0.917\n",
       "L1.kospi_Close         -0.001761         0.006759           -0.261           0.794\n",
       "L2.gold_Close           0.008691         0.011815            0.736           0.462\n",
       "L2.kospi_Close          0.004289         0.006761            0.634           0.526\n",
       "L3.gold_Close          -0.016607         0.011814           -1.406           0.160\n",
       "L3.kospi_Close          0.012131         0.006763            1.794           0.073\n",
       "L4.gold_Close          -0.005127         0.011811           -0.434           0.664\n",
       "L4.kospi_Close         -0.006666         0.006763           -0.986           0.324\n",
       "L5.gold_Close           0.028472         0.011811            2.411           0.016\n",
       "L5.kospi_Close         -0.005464         0.006763           -0.808           0.419\n",
       "L6.gold_Close          -0.015324         0.011818           -1.297           0.195\n",
       "L6.kospi_Close         -0.006858         0.006765           -1.014           0.311\n",
       "L7.gold_Close          -0.007795         0.011818           -0.660           0.509\n",
       "L7.kospi_Close          0.016011         0.006763            2.367           0.018\n",
       "L8.gold_Close          -0.019477         0.011811           -1.649           0.099\n",
       "L8.kospi_Close          0.006691         0.006761            0.990           0.322\n",
       "L9.gold_Close           0.027991         0.011807            2.371           0.018\n",
       "L9.kospi_Close         -0.012018         0.006755           -1.779           0.075\n",
       "L10.gold_Close         -0.012816         0.011812           -1.085           0.278\n",
       "L10.kospi_Close         0.015418         0.006755            2.283           0.022\n",
       "L11.gold_Close         -0.000991         0.011811           -0.084           0.933\n",
       "L11.kospi_Close         0.016894         0.006756            2.501           0.012\n",
       "L12.gold_Close         -0.037318         0.011801           -3.162           0.002\n",
       "L12.kospi_Close         0.008830         0.006759            1.306           0.191\n",
       "L13.gold_Close         -0.006264         0.011808           -0.530           0.596\n",
       "L13.kospi_Close         0.003318         0.006757            0.491           0.623\n",
       "L14.gold_Close         -0.003034         0.011808           -0.257           0.797\n",
       "L14.kospi_Close        -0.008813         0.006756           -1.304           0.192\n",
       "L15.gold_Close          0.028616         0.011807            2.424           0.015\n",
       "L15.kospi_Close        -0.004915         0.006752           -0.728           0.467\n",
       "L16.gold_Close         -0.036151         0.011811           -3.061           0.002\n",
       "L16.kospi_Close        -0.003139         0.006749           -0.465           0.642\n",
       "L17.gold_Close         -0.022232         0.011820           -1.881           0.060\n",
       "L17.kospi_Close        -0.008919         0.006746           -1.322           0.186\n",
       "L18.gold_Close          0.010069         0.011816            0.852           0.394\n",
       "L18.kospi_Close         0.012810         0.006745            1.899           0.058\n",
       "L19.gold_Close          0.022848         0.011817            1.934           0.053\n",
       "L19.kospi_Close        -0.009891         0.006746           -1.466           0.143\n",
       "L20.gold_Close          0.000593         0.011819            0.050           0.960\n",
       "L20.kospi_Close        -0.002264         0.006748           -0.336           0.737\n",
       "L21.gold_Close          0.001587         0.011817            0.134           0.893\n",
       "L21.kospi_Close        -0.013763         0.006746           -2.040           0.041\n",
       "L22.gold_Close         -0.059588         0.011807           -5.047           0.000\n",
       "L22.kospi_Close        -0.001753         0.006748           -0.260           0.795\n",
       "L23.gold_Close         -0.010439         0.011831           -0.882           0.378\n",
       "L23.kospi_Close         0.010664         0.006746            1.581           0.114\n",
       "L24.gold_Close          0.007892         0.011835            0.667           0.505\n",
       "L24.kospi_Close         0.001721         0.006745            0.255           0.799\n",
       "L25.gold_Close         -0.015340         0.011842           -1.295           0.195\n",
       "L25.kospi_Close        -0.011146         0.006745           -1.652           0.098\n",
       "L26.gold_Close          0.011608         0.011842            0.980           0.327\n",
       "L26.kospi_Close         0.011658         0.006744            1.729           0.084\n",
       "L27.gold_Close         -0.009655         0.011840           -0.815           0.415\n",
       "L27.kospi_Close         0.013856         0.006748            2.054           0.040\n",
       "L28.gold_Close         -0.007759         0.011842           -0.655           0.512\n",
       "L28.kospi_Close        -0.003445         0.006744           -0.511           0.609\n",
       "L29.gold_Close         -0.015379         0.011842           -1.299           0.194\n",
       "L29.kospi_Close         0.008007         0.006742            1.188           0.235\n",
       "L30.gold_Close         -0.042793         0.011823           -3.620           0.000\n",
       "L30.kospi_Close        -0.002759         0.006743           -0.409           0.682\n",
       "L31.gold_Close         -0.014009         0.011831           -1.184           0.236\n",
       "L31.kospi_Close         0.016355         0.006744            2.425           0.015\n",
       "L32.gold_Close         -0.000951         0.011833           -0.080           0.936\n",
       "L32.kospi_Close         0.012459         0.006747            1.847           0.065\n",
       "L33.gold_Close          0.008182         0.011830            0.692           0.489\n",
       "L33.kospi_Close        -0.002034         0.006748           -0.301           0.763\n",
       "L34.gold_Close         -0.036575         0.011834           -3.091           0.002\n",
       "L34.kospi_Close        -0.009247         0.006747           -1.370           0.171\n",
       "L35.gold_Close         -0.019994         0.011840           -1.689           0.091\n",
       "L35.kospi_Close        -0.001846         0.006748           -0.274           0.784\n",
       "L36.gold_Close          0.019418         0.011838            1.640           0.101\n",
       "L36.kospi_Close         0.008491         0.006748            1.258           0.208\n",
       "L37.gold_Close          0.010366         0.011839            0.876           0.381\n",
       "L37.kospi_Close        -0.008650         0.006748           -1.282           0.200\n",
       "L38.gold_Close          0.016822         0.011848            1.420           0.156\n",
       "L38.kospi_Close        -0.003552         0.006749           -0.526           0.599\n",
       "L39.gold_Close          0.003773         0.011851            0.318           0.750\n",
       "L39.kospi_Close         0.005106         0.006749            0.757           0.449\n",
       "L40.gold_Close         -0.008143         0.011839           -0.688           0.492\n",
       "L40.kospi_Close         0.024871         0.006753            3.683           0.000\n",
       "L41.gold_Close          0.015492         0.011835            1.309           0.191\n",
       "L41.kospi_Close         0.011164         0.006760            1.651           0.099\n",
       "L42.gold_Close         -0.011123         0.011831           -0.940           0.347\n",
       "L42.kospi_Close        -0.008448         0.006761           -1.249           0.211\n",
       "L43.gold_Close          0.025984         0.011827            2.197           0.028\n",
       "L43.kospi_Close        -0.016776         0.006761           -2.481           0.013\n",
       "L44.gold_Close         -0.018479         0.011840           -1.561           0.119\n",
       "L44.kospi_Close        -0.018115         0.006765           -2.678           0.007\n",
       "L45.gold_Close          0.022587         0.011840            1.908           0.056\n",
       "L45.kospi_Close        -0.005112         0.006770           -0.755           0.450\n",
       "L46.gold_Close         -0.014292         0.011843           -1.207           0.228\n",
       "L46.kospi_Close         0.002491         0.006772            0.368           0.713\n",
       "L47.gold_Close         -0.005815         0.011840           -0.491           0.623\n",
       "L47.kospi_Close         0.000546         0.006771            0.081           0.936\n",
       "L48.gold_Close         -0.037199         0.011841           -3.142           0.002\n",
       "L48.kospi_Close        -0.008190         0.006771           -1.210           0.226\n",
       "L49.gold_Close          0.009431         0.011852            0.796           0.426\n",
       "L49.kospi_Close         0.004940         0.006770            0.730           0.466\n",
       "L50.gold_Close          0.011940         0.011852            1.007           0.314\n",
       "L50.kospi_Close        -0.002815         0.006769           -0.416           0.677\n",
       "L51.gold_Close         -0.020063         0.011860           -1.692           0.091\n",
       "L51.kospi_Close        -0.008521         0.006764           -1.260           0.208\n",
       "==================================================================================\n",
       "\n",
       "Results for equation kospi_Close\n",
       "==================================================================================\n",
       "                     coefficient       std. error           t-stat            prob\n",
       "----------------------------------------------------------------------------------\n",
       "const                   0.216588         0.188998            1.146           0.252\n",
       "L1.gold_Close           0.037928         0.020637            1.838           0.066\n",
       "L1.kospi_Close          0.046676         0.011809            3.953           0.000\n",
       "L2.gold_Close          -0.001489         0.020641           -0.072           0.942\n",
       "L2.kospi_Close         -0.037462         0.011812           -3.171           0.002\n",
       "L3.gold_Close           0.039458         0.020640            1.912           0.056\n",
       "L3.kospi_Close          0.009735         0.011816            0.824           0.410\n",
       "L4.gold_Close           0.015519         0.020634            0.752           0.452\n",
       "L4.kospi_Close         -0.016767         0.011815           -1.419           0.156\n",
       "L5.gold_Close          -0.017912         0.020635           -0.868           0.385\n",
       "L5.kospi_Close         -0.030914         0.011815           -2.617           0.009\n",
       "L6.gold_Close          -0.025643         0.020646           -1.242           0.214\n",
       "L6.kospi_Close         -0.010479         0.011819           -0.887           0.375\n",
       "L7.gold_Close          -0.029727         0.020646           -1.440           0.150\n",
       "L7.kospi_Close         -0.001114         0.011816           -0.094           0.925\n",
       "L8.gold_Close           0.033565         0.020634            1.627           0.104\n",
       "L8.kospi_Close          0.001579         0.011812            0.134           0.894\n",
       "L9.gold_Close          -0.026857         0.020628           -1.302           0.193\n",
       "L9.kospi_Close          0.014625         0.011801            1.239           0.215\n",
       "L10.gold_Close         -0.029324         0.020637           -1.421           0.155\n",
       "L10.kospi_Close         0.005864         0.011801            0.497           0.619\n",
       "L11.gold_Close         -0.026925         0.020634           -1.305           0.192\n",
       "L11.kospi_Close         0.009779         0.011803            0.829           0.407\n",
       "L12.gold_Close          0.005137         0.020617            0.249           0.803\n",
       "L12.kospi_Close        -0.005654         0.011808           -0.479           0.632\n",
       "L13.gold_Close         -0.019033         0.020630           -0.923           0.356\n",
       "L13.kospi_Close         0.006980         0.011805            0.591           0.554\n",
       "L14.gold_Close          0.004289         0.020629            0.208           0.835\n",
       "L14.kospi_Close        -0.009343         0.011804           -0.792           0.429\n",
       "L15.gold_Close         -0.025888         0.020628           -1.255           0.209\n",
       "L15.kospi_Close        -0.007900         0.011796           -0.670           0.503\n",
       "L16.gold_Close          0.008541         0.020634            0.414           0.679\n",
       "L16.kospi_Close        -0.007474         0.011792           -0.634           0.526\n",
       "L17.gold_Close         -0.024792         0.020650           -1.201           0.230\n",
       "L17.kospi_Close         0.014466         0.011786            1.227           0.220\n",
       "L18.gold_Close          0.013522         0.020643            0.655           0.512\n",
       "L18.kospi_Close         0.020981         0.011784            1.780           0.075\n",
       "L19.gold_Close         -0.020128         0.020645           -0.975           0.330\n",
       "L19.kospi_Close         0.019982         0.011785            1.696           0.090\n",
       "L20.gold_Close          0.041091         0.020649            1.990           0.047\n",
       "L20.kospi_Close         0.004713         0.011789            0.400           0.689\n",
       "L21.gold_Close          0.007702         0.020645            0.373           0.709\n",
       "L21.kospi_Close        -0.000922         0.011786           -0.078           0.938\n",
       "L22.gold_Close         -0.052302         0.020627           -2.536           0.011\n",
       "L22.kospi_Close        -0.023994         0.011789           -2.035           0.042\n",
       "L23.gold_Close         -0.040222         0.020670           -1.946           0.052\n",
       "L23.kospi_Close         0.011209         0.011786            0.951           0.342\n",
       "L24.gold_Close          0.071426         0.020676            3.455           0.001\n",
       "L24.kospi_Close        -0.005747         0.011784           -0.488           0.626\n",
       "L25.gold_Close          0.013568         0.020689            0.656           0.512\n",
       "L25.kospi_Close        -0.005985         0.011784           -0.508           0.612\n",
       "L26.gold_Close         -0.003495         0.020689           -0.169           0.866\n",
       "L26.kospi_Close         0.023818         0.011783            2.021           0.043\n",
       "L27.gold_Close          0.015482         0.020686            0.748           0.454\n",
       "L27.kospi_Close         0.007960         0.011788            0.675           0.500\n",
       "L28.gold_Close          0.040400         0.020689            1.953           0.051\n",
       "L28.kospi_Close        -0.004580         0.011782           -0.389           0.697\n",
       "L29.gold_Close          0.002282         0.020688            0.110           0.912\n",
       "L29.kospi_Close        -0.029210         0.011778           -2.480           0.013\n",
       "L30.gold_Close         -0.003452         0.020655           -0.167           0.867\n",
       "L30.kospi_Close         0.012553         0.011781            1.066           0.287\n",
       "L31.gold_Close         -0.008995         0.020670           -0.435           0.663\n",
       "L31.kospi_Close        -0.021447         0.011783           -1.820           0.069\n",
       "L32.gold_Close          0.023840         0.020672            1.153           0.249\n",
       "L32.kospi_Close        -0.008230         0.011788           -0.698           0.485\n",
       "L33.gold_Close          0.054366         0.020667            2.631           0.009\n",
       "L33.kospi_Close         0.008231         0.011790            0.698           0.485\n",
       "L34.gold_Close          0.030047         0.020675            1.453           0.146\n",
       "L34.kospi_Close         0.015064         0.011788            1.278           0.201\n",
       "L35.gold_Close         -0.046945         0.020686           -2.269           0.023\n",
       "L35.kospi_Close        -0.019523         0.011789           -1.656           0.098\n",
       "L36.gold_Close          0.046774         0.020682            2.262           0.024\n",
       "L36.kospi_Close        -0.011559         0.011789           -0.980           0.327\n",
       "L37.gold_Close         -0.067702         0.020684           -3.273           0.001\n",
       "L37.kospi_Close        -0.005855         0.011789           -0.497           0.619\n",
       "L38.gold_Close          0.028118         0.020699            1.358           0.174\n",
       "L38.kospi_Close        -0.004291         0.011792           -0.364           0.716\n",
       "L39.gold_Close          0.012240         0.020704            0.591           0.554\n",
       "L39.kospi_Close         0.032092         0.011791            2.722           0.006\n",
       "L40.gold_Close          0.024747         0.020684            1.196           0.232\n",
       "L40.kospi_Close         0.026881         0.011797            2.279           0.023\n",
       "L41.gold_Close          0.003885         0.020677            0.188           0.851\n",
       "L41.kospi_Close        -0.018502         0.011810           -1.567           0.117\n",
       "L42.gold_Close         -0.023283         0.020670           -1.126           0.260\n",
       "L42.kospi_Close         0.018661         0.011813            1.580           0.114\n",
       "L43.gold_Close          0.075108         0.020662            3.635           0.000\n",
       "L43.kospi_Close        -0.018360         0.011813           -1.554           0.120\n",
       "L44.gold_Close         -0.061282         0.020685           -2.963           0.003\n",
       "L44.kospi_Close         0.012286         0.011819            1.040           0.299\n",
       "L45.gold_Close          0.039264         0.020685            1.898           0.058\n",
       "L45.kospi_Close        -0.013652         0.011827           -1.154           0.248\n",
       "L46.gold_Close         -0.011551         0.020691           -0.558           0.577\n",
       "L46.kospi_Close         0.022067         0.011831            1.865           0.062\n",
       "L47.gold_Close         -0.023906         0.020685           -1.156           0.248\n",
       "L47.kospi_Close        -0.021825         0.011829           -1.845           0.065\n",
       "L48.gold_Close          0.043841         0.020686            2.119           0.034\n",
       "L48.kospi_Close        -0.005796         0.011830           -0.490           0.624\n",
       "L49.gold_Close          0.014795         0.020706            0.715           0.475\n",
       "L49.kospi_Close        -0.028868         0.011827           -2.441           0.015\n",
       "L50.gold_Close          0.056467         0.020706            2.727           0.006\n",
       "L50.kospi_Close        -0.024554         0.011825           -2.076           0.038\n",
       "L51.gold_Close         -0.028066         0.020720           -1.355           0.176\n",
       "L51.kospi_Close        -0.030903         0.011816           -2.615           0.009\n",
       "==================================================================================\n",
       "\n",
       "Correlation matrix of residuals\n",
       "               gold_Close  kospi_Close\n",
       "gold_Close       1.000000     0.037370\n",
       "kospi_Close      0.037370     1.000000\n",
       "\n"
      ]
     },
     "execution_count": 28,
     "metadata": {},
     "output_type": "execute_result"
    }
   ],
   "source": [
    "results = model.fit(51)\n",
    "results.summary()"
   ]
  },
  {
   "cell_type": "markdown",
   "id": "f6b7c753",
   "metadata": {},
   "source": [
    "#### Predict"
   ]
  },
  {
   "cell_type": "code",
   "execution_count": 29,
   "id": "9ced744d",
   "metadata": {
    "ExecuteTime": {
     "end_time": "2023-05-25T18:50:34.466106Z",
     "start_time": "2023-05-25T18:50:34.461383Z"
    }
   },
   "outputs": [
    {
     "data": {
      "text/plain": [
       "51"
      ]
     },
     "execution_count": 29,
     "metadata": {},
     "output_type": "execute_result"
    }
   ],
   "source": [
    "lag_order = results.k_ar\n",
    "lag_order"
   ]
  },
  {
   "cell_type": "code",
   "execution_count": 56,
   "id": "9ea322a5",
   "metadata": {
    "ExecuteTime": {
     "end_time": "2023-05-25T18:59:02.845172Z",
     "start_time": "2023-05-25T18:59:02.696841Z"
    },
    "scrolled": true
   },
   "outputs": [
    {
     "data": {
      "text/plain": [
       "array([[-0.02951087,  0.77413406],\n",
       "       [-0.06714934, -0.96422195],\n",
       "       [-1.22019198,  0.98792123],\n",
       "       ...,\n",
       "       [ 0.11489658,  0.21921426],\n",
       "       [ 0.11489658,  0.21921426],\n",
       "       [ 0.11489658,  0.21921426]])"
      ]
     },
     "execution_count": 56,
     "metadata": {},
     "output_type": "execute_result"
    }
   ],
   "source": [
    "z = results.forecast(y = train.values[-lag_order:], steps = 1919)\n",
    "z"
   ]
  },
  {
   "cell_type": "code",
   "execution_count": 44,
   "id": "b56293eb",
   "metadata": {
    "ExecuteTime": {
     "end_time": "2023-05-25T18:53:22.940326Z",
     "start_time": "2023-05-25T18:53:22.934844Z"
    }
   },
   "outputs": [
    {
     "data": {
      "text/plain": [
       "(1293, 2)"
      ]
     },
     "execution_count": 44,
     "metadata": {},
     "output_type": "execute_result"
    }
   ],
   "source": [
    "z.shape"
   ]
  },
  {
   "cell_type": "code",
   "execution_count": 57,
   "id": "1200bf48",
   "metadata": {
    "ExecuteTime": {
     "end_time": "2023-05-25T18:59:13.966163Z",
     "start_time": "2023-05-25T18:59:13.962000Z"
    }
   },
   "outputs": [],
   "source": [
    "test_1D = []\n",
    "for i in list(test.columns):\n",
    "    test_1D.append(i + '_1D')"
   ]
  },
  {
   "cell_type": "code",
   "execution_count": 58,
   "id": "edbb0e9e",
   "metadata": {
    "ExecuteTime": {
     "end_time": "2023-05-25T18:59:14.356188Z",
     "start_time": "2023-05-25T18:59:14.350877Z"
    },
    "scrolled": true
   },
   "outputs": [
    {
     "data": {
      "text/plain": [
       "['gold_Close_1D', 'kospi_Close_1D']"
      ]
     },
     "execution_count": 58,
     "metadata": {},
     "output_type": "execute_result"
    }
   ],
   "source": [
    "test_1D"
   ]
  },
  {
   "cell_type": "code",
   "execution_count": 59,
   "id": "bb46e4f8",
   "metadata": {
    "ExecuteTime": {
     "end_time": "2023-05-25T18:59:15.015928Z",
     "start_time": "2023-05-25T18:59:15.009007Z"
    }
   },
   "outputs": [
    {
     "data": {
      "text/html": [
       "<div>\n",
       "<style scoped>\n",
       "    .dataframe tbody tr th:only-of-type {\n",
       "        vertical-align: middle;\n",
       "    }\n",
       "\n",
       "    .dataframe tbody tr th {\n",
       "        vertical-align: top;\n",
       "    }\n",
       "\n",
       "    .dataframe thead th {\n",
       "        text-align: right;\n",
       "    }\n",
       "</style>\n",
       "<table border=\"1\" class=\"dataframe\">\n",
       "  <thead>\n",
       "    <tr style=\"text-align: right;\">\n",
       "      <th></th>\n",
       "      <th>gold_Close</th>\n",
       "      <th>kospi_Close</th>\n",
       "    </tr>\n",
       "    <tr>\n",
       "      <th>Date</th>\n",
       "      <th></th>\n",
       "      <th></th>\n",
       "    </tr>\n",
       "  </thead>\n",
       "  <tbody>\n",
       "    <tr>\n",
       "      <th>2017-12-13</th>\n",
       "      <td>6.9</td>\n",
       "      <td>19.55</td>\n",
       "    </tr>\n",
       "    <tr>\n",
       "      <th>2017-12-14</th>\n",
       "      <td>8.5</td>\n",
       "      <td>-11.07</td>\n",
       "    </tr>\n",
       "    <tr>\n",
       "      <th>2017-12-15</th>\n",
       "      <td>0.4</td>\n",
       "      <td>12.59</td>\n",
       "    </tr>\n",
       "    <tr>\n",
       "      <th>2017-12-18</th>\n",
       "      <td>8.0</td>\n",
       "      <td>-0.19</td>\n",
       "    </tr>\n",
       "    <tr>\n",
       "      <th>2017-12-19</th>\n",
       "      <td>-1.3</td>\n",
       "      <td>-3.35</td>\n",
       "    </tr>\n",
       "    <tr>\n",
       "      <th>...</th>\n",
       "      <td>...</td>\n",
       "      <td>...</td>\n",
       "    </tr>\n",
       "    <tr>\n",
       "      <th>2023-03-09</th>\n",
       "      <td>16.0</td>\n",
       "      <td>-12.82</td>\n",
       "    </tr>\n",
       "    <tr>\n",
       "      <th>2023-03-10</th>\n",
       "      <td>32.6</td>\n",
       "      <td>-24.50</td>\n",
       "    </tr>\n",
       "    <tr>\n",
       "      <th>2023-03-13</th>\n",
       "      <td>49.3</td>\n",
       "      <td>16.01</td>\n",
       "    </tr>\n",
       "    <tr>\n",
       "      <th>2023-03-14</th>\n",
       "      <td>-5.6</td>\n",
       "      <td>-61.63</td>\n",
       "    </tr>\n",
       "    <tr>\n",
       "      <th>2023-03-15</th>\n",
       "      <td>37.2</td>\n",
       "      <td>30.75</td>\n",
       "    </tr>\n",
       "  </tbody>\n",
       "</table>\n",
       "<p>1293 rows × 2 columns</p>\n",
       "</div>"
      ],
      "text/plain": [
       "            gold_Close  kospi_Close\n",
       "Date                               \n",
       "2017-12-13         6.9        19.55\n",
       "2017-12-14         8.5       -11.07\n",
       "2017-12-15         0.4        12.59\n",
       "2017-12-18         8.0        -0.19\n",
       "2017-12-19        -1.3        -3.35\n",
       "...                ...          ...\n",
       "2023-03-09        16.0       -12.82\n",
       "2023-03-10        32.6       -24.50\n",
       "2023-03-13        49.3        16.01\n",
       "2023-03-14        -5.6       -61.63\n",
       "2023-03-15        37.2        30.75\n",
       "\n",
       "[1293 rows x 2 columns]"
      ]
     },
     "execution_count": 59,
     "metadata": {},
     "output_type": "execute_result"
    }
   ],
   "source": [
    "test"
   ]
  },
  {
   "cell_type": "code",
   "execution_count": 60,
   "id": "f31b1153",
   "metadata": {
    "ExecuteTime": {
     "end_time": "2023-05-25T18:59:17.008982Z",
     "start_time": "2023-05-25T18:59:17.004281Z"
    }
   },
   "outputs": [],
   "source": [
    "idx = pd.date_range(start = '2017-12-13', end = df.index[-1], freq = 'D')\n",
    "df_forecast = pd.DataFrame(z, index = idx, columns = test_1D)"
   ]
  },
  {
   "cell_type": "code",
   "execution_count": 61,
   "id": "f0b63b77",
   "metadata": {
    "ExecuteTime": {
     "end_time": "2023-05-25T18:59:18.809059Z",
     "start_time": "2023-05-25T18:59:18.802985Z"
    }
   },
   "outputs": [
    {
     "data": {
      "text/html": [
       "<div>\n",
       "<style scoped>\n",
       "    .dataframe tbody tr th:only-of-type {\n",
       "        vertical-align: middle;\n",
       "    }\n",
       "\n",
       "    .dataframe tbody tr th {\n",
       "        vertical-align: top;\n",
       "    }\n",
       "\n",
       "    .dataframe thead th {\n",
       "        text-align: right;\n",
       "    }\n",
       "</style>\n",
       "<table border=\"1\" class=\"dataframe\">\n",
       "  <thead>\n",
       "    <tr style=\"text-align: right;\">\n",
       "      <th></th>\n",
       "      <th>gold_Close_1D</th>\n",
       "      <th>kospi_Close_1D</th>\n",
       "    </tr>\n",
       "  </thead>\n",
       "  <tbody>\n",
       "    <tr>\n",
       "      <th>2017-12-13</th>\n",
       "      <td>-0.029511</td>\n",
       "      <td>0.774134</td>\n",
       "    </tr>\n",
       "    <tr>\n",
       "      <th>2017-12-14</th>\n",
       "      <td>-0.067149</td>\n",
       "      <td>-0.964222</td>\n",
       "    </tr>\n",
       "    <tr>\n",
       "      <th>2017-12-15</th>\n",
       "      <td>-1.220192</td>\n",
       "      <td>0.987921</td>\n",
       "    </tr>\n",
       "    <tr>\n",
       "      <th>2017-12-16</th>\n",
       "      <td>0.212242</td>\n",
       "      <td>-0.352491</td>\n",
       "    </tr>\n",
       "    <tr>\n",
       "      <th>2017-12-17</th>\n",
       "      <td>-0.851384</td>\n",
       "      <td>-1.728537</td>\n",
       "    </tr>\n",
       "    <tr>\n",
       "      <th>...</th>\n",
       "      <td>...</td>\n",
       "      <td>...</td>\n",
       "    </tr>\n",
       "    <tr>\n",
       "      <th>2023-03-11</th>\n",
       "      <td>0.114897</td>\n",
       "      <td>0.219214</td>\n",
       "    </tr>\n",
       "    <tr>\n",
       "      <th>2023-03-12</th>\n",
       "      <td>0.114897</td>\n",
       "      <td>0.219214</td>\n",
       "    </tr>\n",
       "    <tr>\n",
       "      <th>2023-03-13</th>\n",
       "      <td>0.114897</td>\n",
       "      <td>0.219214</td>\n",
       "    </tr>\n",
       "    <tr>\n",
       "      <th>2023-03-14</th>\n",
       "      <td>0.114897</td>\n",
       "      <td>0.219214</td>\n",
       "    </tr>\n",
       "    <tr>\n",
       "      <th>2023-03-15</th>\n",
       "      <td>0.114897</td>\n",
       "      <td>0.219214</td>\n",
       "    </tr>\n",
       "  </tbody>\n",
       "</table>\n",
       "<p>1919 rows × 2 columns</p>\n",
       "</div>"
      ],
      "text/plain": [
       "            gold_Close_1D  kospi_Close_1D\n",
       "2017-12-13      -0.029511        0.774134\n",
       "2017-12-14      -0.067149       -0.964222\n",
       "2017-12-15      -1.220192        0.987921\n",
       "2017-12-16       0.212242       -0.352491\n",
       "2017-12-17      -0.851384       -1.728537\n",
       "...                   ...             ...\n",
       "2023-03-11       0.114897        0.219214\n",
       "2023-03-12       0.114897        0.219214\n",
       "2023-03-13       0.114897        0.219214\n",
       "2023-03-14       0.114897        0.219214\n",
       "2023-03-15       0.114897        0.219214\n",
       "\n",
       "[1919 rows x 2 columns]"
      ]
     },
     "execution_count": 61,
     "metadata": {},
     "output_type": "execute_result"
    }
   ],
   "source": [
    "df_forecast"
   ]
  },
  {
   "cell_type": "markdown",
   "id": "8718e8f6",
   "metadata": {},
   "source": [
    "To compare them to the original data we have to roll back each difference."
   ]
  },
  {
   "cell_type": "code",
   "execution_count": 62,
   "id": "7c12de78",
   "metadata": {
    "ExecuteTime": {
     "end_time": "2023-05-25T18:59:21.310215Z",
     "start_time": "2023-05-25T18:59:21.302722Z"
    }
   },
   "outputs": [],
   "source": [
    "for i in list(df.columns):\n",
    "    df_forecast[i + '_forecast'] = df[i].iloc[-nobs-1] + df_forecast[i+'_1D'].cumsum()\n",
    "    df_forecast.drop(i + '_1D',axis=1, inplace = True)"
   ]
  },
  {
   "cell_type": "code",
   "execution_count": 63,
   "id": "37911329",
   "metadata": {
    "ExecuteTime": {
     "end_time": "2023-05-25T18:59:22.874079Z",
     "start_time": "2023-05-25T18:59:22.867011Z"
    },
    "scrolled": true
   },
   "outputs": [
    {
     "data": {
      "text/html": [
       "<div>\n",
       "<style scoped>\n",
       "    .dataframe tbody tr th:only-of-type {\n",
       "        vertical-align: middle;\n",
       "    }\n",
       "\n",
       "    .dataframe tbody tr th {\n",
       "        vertical-align: top;\n",
       "    }\n",
       "\n",
       "    .dataframe thead th {\n",
       "        text-align: right;\n",
       "    }\n",
       "</style>\n",
       "<table border=\"1\" class=\"dataframe\">\n",
       "  <thead>\n",
       "    <tr style=\"text-align: right;\">\n",
       "      <th></th>\n",
       "      <th>gold_Close_forecast</th>\n",
       "      <th>kospi_Close_forecast</th>\n",
       "    </tr>\n",
       "  </thead>\n",
       "  <tbody>\n",
       "    <tr>\n",
       "      <th>2017-12-13</th>\n",
       "      <td>1241.670489</td>\n",
       "      <td>2461.774134</td>\n",
       "    </tr>\n",
       "    <tr>\n",
       "      <th>2017-12-14</th>\n",
       "      <td>1241.603340</td>\n",
       "      <td>2460.809912</td>\n",
       "    </tr>\n",
       "    <tr>\n",
       "      <th>2017-12-15</th>\n",
       "      <td>1240.383148</td>\n",
       "      <td>2461.797833</td>\n",
       "    </tr>\n",
       "    <tr>\n",
       "      <th>2017-12-16</th>\n",
       "      <td>1240.595390</td>\n",
       "      <td>2461.445343</td>\n",
       "    </tr>\n",
       "    <tr>\n",
       "      <th>2017-12-17</th>\n",
       "      <td>1239.744006</td>\n",
       "      <td>2459.716806</td>\n",
       "    </tr>\n",
       "    <tr>\n",
       "      <th>...</th>\n",
       "      <td>...</td>\n",
       "      <td>...</td>\n",
       "    </tr>\n",
       "    <tr>\n",
       "      <th>2023-03-11</th>\n",
       "      <td>1465.404056</td>\n",
       "      <td>2869.092486</td>\n",
       "    </tr>\n",
       "    <tr>\n",
       "      <th>2023-03-12</th>\n",
       "      <td>1465.518953</td>\n",
       "      <td>2869.311700</td>\n",
       "    </tr>\n",
       "    <tr>\n",
       "      <th>2023-03-13</th>\n",
       "      <td>1465.633849</td>\n",
       "      <td>2869.530914</td>\n",
       "    </tr>\n",
       "    <tr>\n",
       "      <th>2023-03-14</th>\n",
       "      <td>1465.748746</td>\n",
       "      <td>2869.750129</td>\n",
       "    </tr>\n",
       "    <tr>\n",
       "      <th>2023-03-15</th>\n",
       "      <td>1465.863643</td>\n",
       "      <td>2869.969343</td>\n",
       "    </tr>\n",
       "  </tbody>\n",
       "</table>\n",
       "<p>1919 rows × 2 columns</p>\n",
       "</div>"
      ],
      "text/plain": [
       "            gold_Close_forecast  kospi_Close_forecast\n",
       "2017-12-13          1241.670489           2461.774134\n",
       "2017-12-14          1241.603340           2460.809912\n",
       "2017-12-15          1240.383148           2461.797833\n",
       "2017-12-16          1240.595390           2461.445343\n",
       "2017-12-17          1239.744006           2459.716806\n",
       "...                         ...                   ...\n",
       "2023-03-11          1465.404056           2869.092486\n",
       "2023-03-12          1465.518953           2869.311700\n",
       "2023-03-13          1465.633849           2869.530914\n",
       "2023-03-14          1465.748746           2869.750129\n",
       "2023-03-15          1465.863643           2869.969343\n",
       "\n",
       "[1919 rows x 2 columns]"
      ]
     },
     "execution_count": 63,
     "metadata": {},
     "output_type": "execute_result"
    }
   ],
   "source": [
    "df_forecast"
   ]
  },
  {
   "cell_type": "code",
   "execution_count": null,
   "id": "c150f1ec",
   "metadata": {
    "ExecuteTime": {
     "end_time": "2023-05-25T18:37:02.387913Z",
     "start_time": "2023-05-25T18:37:02.382864Z"
    }
   },
   "outputs": [],
   "source": [
    "df_forecast.index=df_forecast.index.astype(dtype=str)"
   ]
  },
  {
   "cell_type": "code",
   "execution_count": 64,
   "id": "5e347b4e",
   "metadata": {
    "ExecuteTime": {
     "end_time": "2023-05-25T18:59:35.627232Z",
     "start_time": "2023-05-25T18:59:35.520792Z"
    }
   },
   "outputs": [
    {
     "data": {
      "image/png": "[encoded data removed]",
      "text/plain": [
       "<Figure size 1000x500 with 1 Axes>"
      ]
     },
     "metadata": {},
     "output_type": "display_data"
    }
   ],
   "source": [
    "# index = list(df.index)\n",
    "index2 = list(df_forecast.index)\n",
    "plt.figure(figsize=(10,5))\n",
    "# plt.plot(df.kospi_Close)\n",
    "plt.plot(df_forecast.kospi_Close_forecast)\n",
    "plt.xticks(index2[::100], rotation =45)\n",
    "plt.show()"
   ]
  },
  {
   "cell_type": "code",
   "execution_count": 65,
   "id": "19fca64e",
   "metadata": {
    "ExecuteTime": {
     "end_time": "2023-05-25T18:59:39.736495Z",
     "start_time": "2023-05-25T18:59:39.184339Z"
    }
   },
   "outputs": [
    {
     "data": {
      "image/png": "[encoded data removed]",
      "text/plain": [
       "<Figure size 1000x1000 with 2 Axes>"
      ]
     },
     "execution_count": 65,
     "metadata": {},
     "output_type": "execute_result"
    },
    {
     "data": {
      "image/png": "[encoded data removed]",
      "text/plain": [
       "<Figure size 1000x1000 with 2 Axes>"
      ]
     },
     "metadata": {},
     "output_type": "display_data"
    }
   ],
   "source": [
    "results.plot_forecast(1293)"
   ]
  },
  {
   "cell_type": "markdown",
   "id": "e3bba8e7",
   "metadata": {},
   "source": [
    "#### Evaluation"
   ]
  },
  {
   "cell_type": "code",
   "execution_count": 41,
   "id": "fe2527fe",
   "metadata": {
    "ExecuteTime": {
     "end_time": "2023-05-25T18:52:31.728933Z",
     "start_time": "2023-05-25T18:52:31.700581Z"
    }
   },
   "outputs": [],
   "source": [
    "from sklearn.metrics import mean_absolute_error\n",
    "from sklearn.metrics import mean_squared_error"
   ]
  },
  {
   "cell_type": "code",
   "execution_count": 42,
   "id": "5090fd4f",
   "metadata": {
    "ExecuteTime": {
     "end_time": "2023-05-25T18:52:31.916993Z",
     "start_time": "2023-05-25T18:52:31.898369Z"
    }
   },
   "outputs": [
    {
     "ename": "NameError",
     "evalue": "name 'X_test' is not defined",
     "output_type": "error",
     "traceback": [
      "\u001b[1;31m---------------------------------------------------------------------------\u001b[0m",
      "\u001b[1;31mNameError\u001b[0m                                 Traceback (most recent call last)",
      "Cell \u001b[1;32mIn[42], line 2\u001b[0m\n\u001b[0;32m      1\u001b[0m \u001b[38;5;66;03m#Calculate forecast bias\u001b[39;00m\n\u001b[1;32m----> 2\u001b[0m forecast_errors \u001b[38;5;241m=\u001b[39m [X_test[\u001b[38;5;124m'\u001b[39m\u001b[38;5;124mrealgdp\u001b[39m\u001b[38;5;124m'\u001b[39m][i]\u001b[38;5;241m-\u001b[39m pred[\u001b[38;5;124m'\u001b[39m\u001b[38;5;124mrealgdp_pred\u001b[39m\u001b[38;5;124m'\u001b[39m][i] \u001b[38;5;28;01mfor\u001b[39;00m i \u001b[38;5;129;01min\u001b[39;00m \u001b[38;5;28mrange\u001b[39m(\u001b[38;5;28mlen\u001b[39m(\u001b[43mX_test\u001b[49m[\u001b[38;5;124m'\u001b[39m\u001b[38;5;124mrealgdp\u001b[39m\u001b[38;5;124m'\u001b[39m]))]\n\u001b[0;32m      3\u001b[0m bias \u001b[38;5;241m=\u001b[39m \u001b[38;5;28msum\u001b[39m(forecast_errors) \u001b[38;5;241m*\u001b[39m \u001b[38;5;241m1.0\u001b[39m\u001b[38;5;241m/\u001b[39m\u001b[38;5;28mlen\u001b[39m(X_test[\u001b[38;5;124m'\u001b[39m\u001b[38;5;124mrealgdp\u001b[39m\u001b[38;5;124m'\u001b[39m])\n\u001b[0;32m      4\u001b[0m \u001b[38;5;28mprint\u001b[39m(\u001b[38;5;124m'\u001b[39m\u001b[38;5;124mBias: \u001b[39m\u001b[38;5;132;01m%f\u001b[39;00m\u001b[38;5;124m'\u001b[39m \u001b[38;5;241m%\u001b[39m bias)\n",
      "\u001b[1;31mNameError\u001b[0m: name 'X_test' is not defined"
     ]
    }
   ],
   "source": [
    "#Calculate forecast bias\n",
    "forecast_errors = [X_test['realgdp'][i]- pred['realgdp_pred'][i] for i in range(len(X_test['realgdp']))]\n",
    "bias = sum(forecast_errors) * 1.0/len(X_test['realgdp'])\n",
    "print('Bias: %f' % bias)\n",
    "\n",
    "#Calculate mean absolute error\n",
    "mae = mean_absolute_error(X_test['realgdp'],pred['realgdp_pred'])\n",
    "print('MAE: %f' % mae)\n",
    "\n",
    "#Calculate mean squared error and root mean squared error\n",
    "mse = mean_squared_error(X_test['realgdp'], pred['realgdp_pred'])\n",
    "print('MSE: %f' % mse)\n",
    "\n",
    "rmse = np.sqrt(mse)\n",
    "print('RMSE: %f' % rmse)"
   ]
  },
  {
   "cell_type": "markdown",
   "id": "1eaf6d7b",
   "metadata": {},
   "source": [
    "- VAR(2) RMSE: 0.181\n",
    "- VAR(10) RMSE: 0.397"
   ]
  },
  {
   "cell_type": "markdown",
   "id": "aa5ab691",
   "metadata": {},
   "source": [
    "---"
   ]
  }
 ],
 "metadata": {
  "kernelspec": {
   "display_name": "Python 3 (ipykernel)",
   "language": "python",
   "name": "python3"
  },
  "language_info": {
   "codemirror_mode": {
    "name": "ipython",
    "version": 3
   },
   "file_extension": ".py",
   "mimetype": "text/x-python",
   "name": "python",
   "nbconvert_exporter": "python",
   "pygments_lexer": "ipython3",
   "version": "3.11.3"
  },
  "toc": {
   "base_numbering": 1,
   "nav_menu": {},
   "number_sections": false,
   "sideBar": true,
   "skip_h1_title": false,
   "title_cell": "Table of Contents",
   "title_sidebar": "Contents",
   "toc_cell": false,
   "toc_position": {
    "height": "632.444px",
    "left": "34px",
    "top": "110.805px",
    "width": "340.365px"
   },
   "toc_section_display": true,
   "toc_window_display": false
  }
 },
 "nbformat": 4,
 "nbformat_minor": 5
}
