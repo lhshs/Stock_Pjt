{
 "cells": [
  {
   "cell_type": "code",
   "execution_count": 1,
   "id": "b683e70a",
   "metadata": {
    "ExecuteTime": {
     "end_time": "2023-04-28T07:15:40.592653Z",
     "start_time": "2023-04-28T07:15:39.066987Z"
    }
   },
   "outputs": [],
   "source": [
    "import pandas as pd\n",
    "import random\n",
    "import os\n",
    "import numpy as np\n",
    "import warnings\n",
    "warnings.filterwarnings('ignore')\n",
    "%matplotlib inline\n",
    "\n",
    "import matplotlib.pyplot as plt\n",
    "import seaborn as sns\n",
    "# from sklearn.tree import DecisionTreeClassifier"
   ]
  },
  {
   "cell_type": "markdown",
   "id": "80cc8615",
   "metadata": {},
   "source": [
    "### Load Data"
   ]
  },
  {
   "cell_type": "code",
   "execution_count": 2,
   "id": "039692a2",
   "metadata": {
    "ExecuteTime": {
     "end_time": "2023-04-28T07:15:40.743088Z",
     "start_time": "2023-04-28T07:15:40.593649Z"
    }
   },
   "outputs": [],
   "source": [
    "# main data\n",
    "\n",
    "# Korea\n",
    "kospi = pd.read_csv('./data/main_index/kospi(1990.01.02-2023.03.15).csv', sep='|', thousands = ',')\n",
    "kospi = kospi[['Date','Close']]\n",
    "kosdaq = pd.read_csv('./data/main_index/kosdaq(2001.01.02-2023.03.15).csv', sep='|', thousands = ',')\n",
    "kosdaq = kosdaq[['Date','Close']]\n",
    "\n",
    "# US\n",
    "dow = pd.read_csv('./data/main_index/dow(2001.01.02-2023.03.15).csv', sep='|', thousands = ',')\n",
    "dow = dow[['Date','Close']]\n",
    "sp500 = pd.read_csv('./data/main_index/sp500(2001.01.02-2023.03.15).csv', sep='|', thousands = ',')\n",
    "sp500 = sp500[['Date','Close']]\n",
    "russel2000 = pd.read_csv('./data/main_index/russel2000(2001.01.03-2023.03.15).csv', sep='|', thousands = ',')\n",
    "russel2000 = russel2000[['Date','Close']]\n",
    "nasdaq = pd.read_csv('./data/main_index/nasdaq(2001.01.02-2023.03.15).csv', sep='|', thousands = ',')\n",
    "nasdaq = nasdaq[['Date','Close']]\n",
    "ftse = pd.read_csv('./data/main_index/FTSE(2004.03.05-2023.03.15).csv', sep='|', thousands = ',')\n",
    "ftse = ftse[['Date','Close']]\n",
    "\n",
    "# Japan\n",
    "nikkie = pd.read_csv('./data/main_index/nikkie(2001.01.05-2023.03.15).csv', sep='|', thousands = ',')\n",
    "nikkie = nikkie[['Date','Close']]\n",
    "\n",
    "# China\n",
    "ssec = pd.read_csv('./data/main_index/SSEC(1990.12.20-2023.03.15).csv', sep='|', thousands = ',')\n",
    "ssec = ssec[['Date','Close']]\n",
    "szse = pd.read_csv('./data/main_index/SZSE(1995.1.24-2023.03.15).csv', sep='|', thousands = ',')\n",
    "szse = szse[['Date','Close']]\n",
    "hsi = pd.read_csv('./data/main_index/hsi(2000.12.05-2023.03.15).csv', sep='|', thousands = ',')\n",
    "hsi = hsi[['Date','Close']]"
   ]
  },
  {
   "cell_type": "code",
   "execution_count": null,
   "id": "5d434561",
   "metadata": {
    "ExecuteTime": {
     "end_time": "2023-04-28T06:49:38.926379Z",
     "start_time": "2023-04-28T06:49:38.902415Z"
    }
   },
   "outputs": [],
   "source": [
    "kospi_t = pd.read_csv('./data/main_index/kospi(1990.01.02-2023.05.01)_test.csv', sep='|', thousands = ',')\n",
    "kospi_t = kospi_t[['Date','Close']]"
   ]
  },
  {
   "cell_type": "code",
   "execution_count": null,
   "id": "fe74b966",
   "metadata": {
    "ExecuteTime": {
     "end_time": "2023-04-22T10:53:41.450987Z",
     "start_time": "2023-04-22T10:53:41.424085Z"
    }
   },
   "outputs": [],
   "source": [
    "kospi_t"
   ]
  },
  {
   "cell_type": "code",
   "execution_count": 3,
   "id": "86a84fbf",
   "metadata": {
    "ExecuteTime": {
     "end_time": "2023-04-28T07:15:43.080091Z",
     "start_time": "2023-04-28T07:15:42.947446Z"
    }
   },
   "outputs": [],
   "source": [
    "# bond_yield data\n",
    "\n",
    "chi_bond_yield_1 = pd.read_csv('./data/bond_yield/china_1year_bond_yield(2002.06.04-2023.03.15).csv', sep='|', thousands = ',')\n",
    "chi_bond_yield_1 = chi_bond_yield_1[['Date', 'Close']]\n",
    "chi_bond_yield_3 = pd.read_csv('./data/bond_yield/china_3year_bond_yield(2000.09.22-2023.03.15).csv', sep='|', thousands = ',')\n",
    "chi_bond_yield_3 = chi_bond_yield_3[['Date', 'Close']]\n",
    "chi_bond_yield_5 = pd.read_csv('./data/bond_yield/china_5year_bond_yield(2001.03.14-2023.03.15).csv', sep='|', thousands = ',')\n",
    "chi_bond_yield_5 = chi_bond_yield_5[['Date', 'Close']]\n",
    "chi_bond_yield_10 = pd.read_csv('./data/bond_yield/china_10year_bond_yield(2002.06.06-2023.03.15).csv', sep='|', thousands = ',')\n",
    "chi_bond_yield_10 = chi_bond_yield_10[['Date', 'Close']]\n",
    "\n",
    "jap_bond_yield_1 = pd.read_csv('./data/bond_yield/japan_1year_bond_yield(2006.07.19-2023.03.15).csv', sep='|', thousands = ',')\n",
    "jap_bond_yield_1 = jap_bond_yield_1[['Date', 'Close']]\n",
    "jap_bond_yield_3 = pd.read_csv('./data/bond_yield/japan_3year_bond_yield(2006.07.19-2023.03.15).csv', sep='\\t', thousands = ',')\n",
    "jap_bond_yield_3 = jap_bond_yield_3[['Date', 'Close']]\n",
    "jap_bond_yield_5 = pd.read_csv('./data/bond_yield/japan_5year_bond_yield(2006.07.27-2023.03.15).csv', sep='\\t', thousands = ',')\n",
    "jap_bond_yield_5 = jap_bond_yield_5[['Date', 'Close']]\n",
    "jap_bond_yield_10 = pd.read_csv('./data/bond_yield/japan_10year_bond_yield(2006.07.19-2023.03.15).csv', sep='\\t', thousands = ',')\n",
    "jap_bond_yield_10 = jap_bond_yield_10[['Date', 'Close']]\n",
    "\n",
    "kor_bond_yield_1 = pd.read_csv('./data/bond_yield/korea_1year_bond_yield(1995.05.03-2023.03.15).csv', sep='|', thousands = ',')\n",
    "kor_bond_yield_1 = kor_bond_yield_1[['Date', 'Close']]\n",
    "kor_bond_yield_3 = pd.read_csv('./data/bond_yield/korea_3year_bond_yield(1995.05.03-2023.03.15).csv', sep='|', thousands = ',')\n",
    "kor_bond_yield_3 = kor_bond_yield_3[['Date', 'Close']]\n",
    "kor_bond_yield_5 = pd.read_csv('./data/bond_yield/korea_5year_bond_yield(1995.05.03-2023.03.15).csv', sep='|', thousands = ',')\n",
    "kor_bond_yield_5 = kor_bond_yield_5[['Date', 'Close']]\n",
    "kor_bond_yield_10 = pd.read_csv('./data/bond_yield/korea_10year_bond_yield(2000.10.26-2023.03.15).csv', sep='|', thousands = ',')\n",
    "kor_bond_yield_10 = kor_bond_yield_10[['Date', 'Close']]\n",
    "\n",
    "us_bond_yield_1 = pd.read_csv('./data/bond_yield/us_1year_bond_yield(2008.06.05-2023.03.15).csv', sep='|', thousands = ',')\n",
    "us_bond_yield_1 = us_bond_yield_1[['Date', 'Close']]\n",
    "us_bond_yield_3 = pd.read_csv('./data/bond_yield/us_3year_bond_yield(1990.01.08-2023.03.15).csv', sep='|', thousands = ',')\n",
    "us_bond_yield_3 = us_bond_yield_3[['Date', 'Close']]\n",
    "us_bond_yield_5 = pd.read_csv('./data/bond_yield/us_5year_bond_yield(1990.01.08-2023.03.15).csv', sep='|', thousands = ',')\n",
    "us_bond_yield_5 = us_bond_yield_5[['Date', 'Close']]\n",
    "us_bond_yield_10 = pd.read_csv('./data/bond_yield/us_10year_bond_yield(1990.01.08-2023.03.15).csv', sep='|', thousands = ',')\n",
    "us_bond_yield_10 = us_bond_yield_10[['Date', 'Close']]"
   ]
  },
  {
   "cell_type": "code",
   "execution_count": 4,
   "id": "2a1bd34a",
   "metadata": {
    "ExecuteTime": {
     "end_time": "2023-04-28T07:15:44.282322Z",
     "start_time": "2023-04-28T07:15:44.249411Z"
    }
   },
   "outputs": [],
   "source": [
    "# cpi data\n",
    "\n",
    "chi_cpi_m = pd.read_csv('./data/cpi/china_cpi_compare_last_month(1996.01-2023.02).csv', sep='|', thousands = ',')\n",
    "chi_cpi_y = pd.read_csv('./data/cpi/china_cpi_compare_last_year(1990.01-2023.02).csv', sep='|', thousands = ',')\n",
    "\n",
    "jap_c_cpi_y = pd.read_csv('./data/cpi/japan_core_cpi_compare_last_year(1990.01-2023.02).csv', sep='|', thousands = ',')\n",
    "jap_cpi_y = pd.read_csv('./data/cpi/japan_cpi_compare_last_year(1990.01-2023.02).csv', sep='|', thousands = ',')\n",
    "\n",
    "kor_cpi_m = pd.read_csv('./data/cpi/korea_cpi_compare_last_month(1990.01-2023.02).csv', sep='|', thousands = ',')\n",
    "kor_cpi_y = pd.read_csv('./data/cpi/korea_cpi_compare_last_year(1990.01-2023.02).csv', sep='|', thousands = ',')\n",
    "\n",
    "us_c_cpi_m = pd.read_csv('./data/cpi/us_core_cpi_compare_last_month(1990.01-2023.02).csv', sep='|', thousands = ',')\n",
    "us_c_cpi_y = pd.read_csv('./data/cpi/us_core_cpi_compare_last_year(1990.01-2023.02).csv', sep='|', thousands = ',')\n",
    "us_cpi_m = pd.read_csv('./data/cpi/us_cpi_compare_last_month(1990.01-2023.02).csv', sep='|', thousands = ',')\n",
    "us_cpi_y = pd.read_csv('./data/cpi/us_cpi_compare_last_year(1990.01-2023.02).csv', sep='|', thousands = ',')"
   ]
  },
  {
   "cell_type": "code",
   "execution_count": 5,
   "id": "5d7515ad",
   "metadata": {
    "ExecuteTime": {
     "end_time": "2023-04-28T07:15:45.938841Z",
     "start_time": "2023-04-28T07:15:45.835471Z"
    }
   },
   "outputs": [],
   "source": [
    "# oil + dollar + gold + unemployment + usd_krw + vix\n",
    "\n",
    "brent = pd.read_csv('./data/oil/brent(1990.01.02-2023.03.15).csv', sep='|', thousands = ',')\n",
    "brent = brent[['Date', 'Close']]\n",
    "dubai = pd.read_csv('./data/oil/dubai(2014.04.28-2023.03.15).csv', sep='|', thousands = ',')\n",
    "dubai = dubai[['Date', 'Close']]\n",
    "wti = pd.read_csv('./data/oil/wti(1990.01.02-2023.03.15).csv', sep='|', thousands = ',')\n",
    "wti = wti[['Date', 'Close']]\n",
    "\n",
    "bitcoin = pd.read_csv('./data/other/bitcoin(2010.07.18-2023.03.15).csv', sep='|', thousands = ',')\n",
    "bitcoin = bitcoin[['Date', 'Close']]\n",
    "\n",
    "dollar = pd.read_csv('./data/other/dollar_index(1990.01.01-2023.03.15).csv', sep='|', thousands = ',')\n",
    "dollar = dollar[['Date', 'Close']]\n",
    "gold = pd.read_csv('./data/other/gold_index(1990.01.02-2023.03.15).csv', sep='\\t', thousands = ',')\n",
    "gold = gold[['Date', 'Close']]\n",
    "\n",
    "# kor_unem = pd.read_csv('./data/other/korea_unemployment_rate(2001.04-2023.02).csv', sep='|', thousands = ',')\n",
    "# kor_unem = kor_unem[['Date', 'Change']]\n",
    "# ja_unem = pd.read_csv('./data/other/japan_unemployment_rate(1999.09-2023.02)_날짜수정.csv', sep='|')\n",
    "us_unem = pd.read_csv('./data/other/us_unemployment_rate(1994.10-2023.02).csv', sep='|', thousands = ',')\n",
    "us_unem = us_unem[['Date', 'Change']]\n",
    "kor_interest = pd.read_csv('./data/other/korea_interest_rate(1999.05-2023.02).csv', sep='|', thousands = ',')\n",
    "kor_interest = kor_interest[['Date', 'Change']]\n",
    "\n",
    "usd_krw = pd.read_csv('./data/other/USD_KRW(2009.03.25-2023.03.15).csv', sep='|', thousands = ',')\n",
    "usd_krw = usd_krw[['Date', 'Close']]\n",
    "\n",
    "vix = pd.read_csv('./data/other/vix(1990.01.03-2023.03.15).csv', sep='|', thousands = ',')\n",
    "vix = vix[['Date', 'Close']]"
   ]
  },
  {
   "cell_type": "markdown",
   "id": "f15f992f",
   "metadata": {},
   "source": [
    "### Rename Columns"
   ]
  },
  {
   "cell_type": "code",
   "execution_count": 6,
   "id": "140a644c",
   "metadata": {
    "ExecuteTime": {
     "end_time": "2023-04-28T07:15:48.406773Z",
     "start_time": "2023-04-28T07:15:48.356899Z"
    }
   },
   "outputs": [],
   "source": [
    "kospi.rename(columns = lambda x : 'kospi_' + x if x != 'Date' else x, inplace = True)\n",
    "kosdaq.rename(columns = lambda x : 'kosdaq_' + x if x != 'Date' else x, inplace = True)\n",
    "dow.rename(columns = lambda x : 'dow_' + x if x != 'Date' else x, inplace = True)\n",
    "sp500.rename(columns = lambda x : 'sp500_' + x if x != 'Date' else x, inplace = True)\n",
    "russel2000.rename(columns = lambda x : 'russel2000_' + x if x != 'Date' else x, inplace = True)\n",
    "nasdaq.rename(columns = lambda x : 'nasdaq_' + x if x != 'Date' else x, inplace = True)\n",
    "ftse.rename(columns = lambda x : 'ftse_' + x if x != 'Date' else x, inplace = True)\n",
    "ftse.dropna(inplace=True)\n",
    "nikkie.rename(columns = lambda x : 'nikkie_' + x if x != 'Date' else x, inplace = True)\n",
    "nikkie.dropna(inplace=True)\n",
    "ssec.rename(columns = lambda x : 'ssec_' + x if x != 'Date' else x, inplace = True)\n",
    "szse.rename(columns = lambda x : 'szse_' + x if x != 'Date' else x, inplace = True)\n",
    "hsi.rename(columns = lambda x : 'hsi_' + x if x != 'Date' else x, inplace = True)\n",
    "hsi.dropna(inplace=True)\n",
    "\n",
    "chi_bond_yield_1.rename(columns = lambda x : 'chi_bond_yield_1_' + x if x != 'Date' else x, inplace = True)\n",
    "chi_bond_yield_3.rename(columns = lambda x : 'chi_bond_yield_3_' + x if x != 'Date' else x, inplace = True)\n",
    "chi_bond_yield_5.rename(columns = lambda x : 'chi_bond_yield_5_' + x if x != 'Date' else x, inplace = True)\n",
    "chi_bond_yield_10.rename(columns = lambda x : 'chi_bond_yield_10_' + x if x != 'Date' else x, inplace = True)\n",
    "chi_bond_yield_10.dropna(inplace=True)\n",
    "\n",
    "jap_bond_yield_1.rename(columns = lambda x : 'jap_bond_yield_1_' + x if x != 'Date' else x, inplace = True)\n",
    "jap_bond_yield_3.rename(columns = lambda x : 'jap_bond_yield_3_' + x if x != 'Date' else x, inplace = True)\n",
    "jap_bond_yield_5.rename(columns = lambda x : 'jap_bond_yield_5_' + x if x != 'Date' else x, inplace = True)\n",
    "jap_bond_yield_10.rename(columns = lambda x : 'jap_bond_yield_10_' + x if x != 'Date' else x, inplace = True)\n",
    "\n",
    "kor_bond_yield_1.rename(columns = lambda x : 'kor_bond_yield_1_' + x if x != 'Date' else x, inplace = True)\n",
    "kor_bond_yield_3.rename(columns = lambda x : 'kor_bond_yield_3_' + x if x != 'Date' else x, inplace = True)\n",
    "kor_bond_yield_5.rename(columns = lambda x : 'kor_bond_yield_5_' + x if x != 'Date' else x, inplace = True)\n",
    "kor_bond_yield_10.rename(columns = lambda x : 'kor_bond_yield_10_' + x if x != 'Date' else x, inplace = True)\n",
    "\n",
    "us_bond_yield_1.rename(columns = lambda x : 'us_bond_yield_1_' + x if x != 'Date' else x, inplace = True)\n",
    "us_bond_yield_3.rename(columns = lambda x : 'us_bond_yield_3_' + x if x != 'Date' else x, inplace = True)\n",
    "us_bond_yield_5.rename(columns = lambda x : 'us_bond_yield_5_' + x if x != 'Date' else x, inplace = True)\n",
    "us_bond_yield_5.dropna(\n",
    "    inplace=True)\n",
    "us_bond_yield_10.rename(columns = lambda x : 'us_bond_yield_10_' + x if x != 'Date' else x, inplace = True)\n",
    "\n",
    "chi_cpi_m.rename(columns = lambda x : 'chi_cpi_m_' + x if x != 'Date' else x, inplace = True)\n",
    "chi_cpi_y.rename(columns = lambda x : 'chi_cpi_y_' + x if x != 'Date' else x, inplace = True)\n",
    "jap_c_cpi_y.rename(columns = lambda x : 'jap_c_cpi_y_' + x if x != 'Date' else x, inplace = True)\n",
    "jap_cpi_y.rename(columns = lambda x : 'jap_cpi_y_' + x if x != 'Date' else x, inplace = True)\n",
    "kor_cpi_m.rename(columns = lambda x : 'kor_cpi_m_' + x if x != 'Date' else x, inplace = True)\n",
    "kor_cpi_y.rename(columns = lambda x : 'kor_cpi_y_' + x if x != 'Date' else x, inplace = True)\n",
    "us_c_cpi_m.rename(columns = lambda x : 'us_c_cpi_m_' + x if x != 'Date' else x, inplace = True)\n",
    "us_c_cpi_y.rename(columns = lambda x : 'us_c_cpi_y_' + x if x != 'Date' else x, inplace = True)\n",
    "us_cpi_m.rename(columns = lambda x : 'us_cpi_m_' + x if x != 'Date' else x, inplace = True)\n",
    "us_cpi_y.rename(columns = lambda x : 'us_cpi_y_' + x if x != 'Date' else x, inplace = True)\n",
    "\n",
    "brent.rename(columns = lambda x : 'brent_' + x if x != 'Date' else x, inplace = True)\n",
    "dubai.rename(columns = lambda x : 'dubai_' + x if x != 'Date' else x, inplace = True)\n",
    "wti.rename(columns = lambda x : 'wti_' + x if x != 'Date' else x, inplace = True)\n",
    "\n",
    "bitcoin.rename(columns = lambda x : 'bitcoin_' + x if x != 'Date' else x, inplace = True)\n",
    "dollar.rename(columns = lambda x : 'dollar_' + x if x != 'Date' else x, inplace = True)\n",
    "gold.rename(columns = lambda x : 'gold_' + x if x != 'Date' else x, inplace = True)\n",
    "# kor_unem.rename(columns = lambda x : 'kor_unem_' + x if x != 'Date' else x, inplace = True)\n",
    "us_unem.rename(columns = lambda x : 'us_unem_' + x if x != 'Date' else x, inplace = True)\n",
    "kor_interest.rename(columns = lambda x : 'kor_interest_' + x if x != 'Date' else x, inplace = True)\n",
    "usd_krw.rename(columns = lambda x : 'usd_krw_' + x if x != 'Date' else x, inplace = True)\n",
    "vix.rename(columns = lambda x : 'vix_' + x if x != 'Date' else x, inplace = True)\n"
   ]
  },
  {
   "cell_type": "code",
   "execution_count": 7,
   "id": "008ad02e",
   "metadata": {
    "ExecuteTime": {
     "end_time": "2023-04-28T07:15:49.486677Z",
     "start_time": "2023-04-28T07:15:49.477740Z"
    }
   },
   "outputs": [],
   "source": [
    "variables = [kospi, kosdaq, dow, sp500, russel2000, nasdaq, ftse, nikkie, ssec, szse, hsi, \n",
    "             chi_bond_yield_1, chi_bond_yield_3, chi_bond_yield_5, chi_bond_yield_10,\n",
    "             jap_bond_yield_1, jap_bond_yield_3, jap_bond_yield_5, jap_bond_yield_10,\n",
    "             kor_bond_yield_1, kor_bond_yield_3, kor_bond_yield_5, kor_bond_yield_10,\n",
    "             us_bond_yield_1, us_bond_yield_3, us_bond_yield_5, us_bond_yield_10,\n",
    "             chi_cpi_m, chi_cpi_y, jap_c_cpi_y, jap_cpi_y, kor_cpi_m, kor_cpi_y, \n",
    "             us_c_cpi_m, us_c_cpi_y, us_cpi_m, us_cpi_y, brent, dubai, wti,\n",
    "             dollar, gold, us_unem, usd_krw, vix]\n",
    "# bitcoin"
   ]
  },
  {
   "cell_type": "markdown",
   "id": "7017697d",
   "metadata": {},
   "source": [
    "# EDA"
   ]
  },
  {
   "cell_type": "markdown",
   "id": "ab74c527",
   "metadata": {},
   "source": [
    "### Data Correlation"
   ]
  },
  {
   "cell_type": "code",
   "execution_count": null,
   "id": "74659486",
   "metadata": {
    "ExecuteTime": {
     "end_time": "2023-04-21T11:40:24.502702Z",
     "start_time": "2023-04-21T11:40:24.483753Z"
    }
   },
   "outputs": [],
   "source": [
    "# 날짜 다른 두 컬럼 간 상관관계 및 그래프 도출\n",
    "\n",
    "def get_corr(lst, standard_value):\n",
    "    for i in lst:\n",
    "        if str(i) != str(standard_value):\n",
    "            oneone = pd.merge(standard_value, i, how = 'right', left_on = 'Date', right_on = 'Date')\n",
    "            oneone = oneone.set_index('Date')\n",
    "            oneone.fillna(method = 'ffill', inplace = True) \n",
    "            minmax_scaled = minmax_scaler.fit_transform(oneone.values)\n",
    "            df = pd.DataFrame(data = minmax_scaled, columns = oneone.columns, index = oneone.index)\n",
    "            print(df)\n",
    "            print(df.corr())\n",
    "\n",
    "            df.plot(figsize=(20,10))\n",
    "            plt.title(f'{standard_value.columns[1]}_{i.columns[1]}')\n",
    "            plt.show()\n",
    "            print('🍟🍟🍟🍟🍟🍟🍟🍟🍟🍟🍟🍟🍟🍟🍟🍟🍟🍟🍟🍟🍟')\n",
    "            print('')\n",
    "            print('')"
   ]
  },
  {
   "cell_type": "code",
   "execution_count": null,
   "id": "4d5d2794",
   "metadata": {
    "ExecuteTime": {
     "end_time": "2023-04-21T11:40:39.373585Z",
     "start_time": "2023-04-21T11:40:29.793466Z"
    },
    "scrolled": true
   },
   "outputs": [],
   "source": [
    "get_corr(variables, kospi)"
   ]
  },
  {
   "cell_type": "code",
   "execution_count": null,
   "id": "277bb7d3",
   "metadata": {
    "ExecuteTime": {
     "end_time": "2023-04-21T11:40:03.657102Z",
     "start_time": "2023-04-21T11:40:03.640859Z"
    }
   },
   "outputs": [],
   "source": [
    "# KOSPI와 각 FEATURE간 상관관계 도출 및 그래프 그리기\n",
    "\n",
    "def get_corr2(lst):\n",
    "    for i in lst:\n",
    "        if str(i) != str(kospi):\n",
    "            global \n",
    "            oneone = pd.merge(kospi, i, how = 'right', left_on = 'Date', right_on = 'Date')\n",
    "            oneone = oneone.set_index('Date')\n",
    "            oneone.fillna(method = 'ffill', inplace = True) \n",
    "            minmax_scaled = minmax_scaler.fit_transform(oneone.values)\n",
    "            f'df_{i.columns[1]}' = pd.DataFrame(data = minmax_scaled, columns = oneone.columns, index = oneone.index)\n",
    "#             print(df)\n",
    "#             print(df.corr())\n",
    "        \n",
    "            df.plot(figsize=(10,5))\n",
    "            plt.title(f'kospi_{i.columns[1]}')\n",
    "            plt.show()\n",
    "            print('🍟🍟🍟🍟🍟🍟🍟🍟🍟🍟🍟🍟🍟🍟🍟🍟🍟🍟🍟🍟🍟')\n",
    "            print('')\n",
    "            print('')\n",
    "                      "
   ]
  },
  {
   "cell_type": "markdown",
   "id": "cf0ae223",
   "metadata": {},
   "source": [
    "### correlation over 0.7"
   ]
  },
  {
   "cell_type": "code",
   "execution_count": null,
   "id": "60daad5c",
   "metadata": {
    "ExecuteTime": {
     "end_time": "2023-04-22T11:40:19.685585Z",
     "start_time": "2023-04-22T11:40:19.665637Z"
    }
   },
   "outputs": [],
   "source": [
    "cor_over_70 = [kospi, dow, sp500, russel2000, nasdaq, ftse, nikkie, ssec, szse, hsi, jap_bond_yield_10, \n",
    "               kor_bond_yield_1, kor_bond_yield_3, kor_bond_yield_5, kor_bond_yield_10, us_bond_yield_3, \n",
    "               us_bond_yield_5, us_bond_yield_10, brent, wti, bitcoin, gold]\n",
    "\n",
    "'''\n",
    "dow                  90.01.02 \n",
    "sp500                90.01.02 \n",
    "russel2000               01.01.03 \n",
    "nasdaq               90.01.02 \n",
    "ftse                     04.03.05\n",
    "nikkie                   01.01.05 \n",
    "ssec                   90.12.20 \n",
    "szse                   95.01.24 \n",
    "hsi                      00.12.05 \n",
    "jap_bond_yield_10        06.02.07\n",
    "kor_bond_yield_1       95.05.03\n",
    "kor_bond_yield_3       95.05.03\n",
    "kor_bond_yield_5       95.05.03\n",
    "kor_bond_yield_10        00.10.26\n",
    "us_bond_yield_3      90.01.08\n",
    "us_bond_yield_5      90.01.08\n",
    "us_bond_yield_10     90.01.08\n",
    "brent                90.01.02\n",
    "wti                  90.01.02\n",
    "# bitcoin                  10.07.18\n",
    "gold                 90.01.02\n",
    "\n",
    "'''"
   ]
  },
  {
   "cell_type": "markdown",
   "id": "f9bdaa9e",
   "metadata": {},
   "source": [
    "## 다중공선성 제거"
   ]
  },
  {
   "cell_type": "markdown",
   "id": "b7c949b9",
   "metadata": {},
   "source": [
    "### VIF"
   ]
  },
  {
   "cell_type": "markdown",
   "id": "80b9ad11",
   "metadata": {},
   "source": [
    "https://blog.naver.com/sanghan1990/221121607688"
   ]
  },
  {
   "cell_type": "code",
   "execution_count": null,
   "id": "54404727",
   "metadata": {},
   "outputs": [],
   "source": []
  },
  {
   "cell_type": "markdown",
   "id": "2300ed1d",
   "metadata": {},
   "source": [
    "# Modeling"
   ]
  },
  {
   "cell_type": "markdown",
   "id": "ce5a68bc",
   "metadata": {},
   "source": [
    "## Time Series Machine Learning"
   ]
  },
  {
   "cell_type": "markdown",
   "id": "f172858e",
   "metadata": {},
   "source": [
    "### Auto ARIMA (Single Time Series)"
   ]
  },
  {
   "cell_type": "code",
   "execution_count": 9,
   "id": "cfc50be4",
   "metadata": {
    "ExecuteTime": {
     "end_time": "2023-04-28T07:15:58.138358Z",
     "start_time": "2023-04-28T07:15:58.029580Z"
    }
   },
   "outputs": [],
   "source": [
    "from sklearn.preprocessing import MinMaxScaler\n",
    "\n",
    "minmax_scaler = MinMaxScaler()"
   ]
  },
  {
   "cell_type": "code",
   "execution_count": null,
   "id": "f81cfd96",
   "metadata": {
    "ExecuteTime": {
     "end_time": "2023-04-22T10:56:16.096277Z",
     "start_time": "2023-04-22T10:56:14.191704Z"
    }
   },
   "outputs": [],
   "source": [
    "import pmdarima as pm\n",
    "from pmdarima.arima import ndiffs"
   ]
  },
  {
   "cell_type": "code",
   "execution_count": null,
   "id": "139ce2c6",
   "metadata": {
    "ExecuteTime": {
     "end_time": "2023-04-22T10:56:23.643165Z",
     "start_time": "2023-04-22T10:56:23.611202Z"
    }
   },
   "outputs": [],
   "source": [
    "kospi_t.set_index('Date', inplace=True)\n",
    "kospi_t.index = pd.to_datetime(kospi_t.index)\n",
    "kospi_t"
   ]
  },
  {
   "cell_type": "code",
   "execution_count": null,
   "id": "fecc379e",
   "metadata": {
    "ExecuteTime": {
     "end_time": "2023-04-22T11:01:53.876370Z",
     "start_time": "2023-04-22T11:01:53.860371Z"
    }
   },
   "outputs": [],
   "source": [
    "kospi_t.fillna(method='ffill', inplace=True)\n",
    "kospi_t"
   ]
  },
  {
   "cell_type": "code",
   "execution_count": null,
   "id": "3c00134e",
   "metadata": {
    "ExecuteTime": {
     "end_time": "2023-04-22T11:03:02.861543Z",
     "start_time": "2023-04-22T11:03:02.843580Z"
    }
   },
   "outputs": [],
   "source": [
    "y = kospi_t[['Close']].iloc[-500:]\n",
    "y"
   ]
  },
  {
   "cell_type": "code",
   "execution_count": null,
   "id": "d2666827",
   "metadata": {
    "ExecuteTime": {
     "end_time": "2023-04-22T11:03:06.016146Z",
     "start_time": "2023-04-22T11:03:06.003179Z"
    }
   },
   "outputs": [],
   "source": [
    "# 몇 차수가 필요하지? \n",
    "ndiffs(y)"
   ]
  },
  {
   "cell_type": "code",
   "execution_count": null,
   "id": "596ee2e9",
   "metadata": {
    "ExecuteTime": {
     "end_time": "2023-04-22T11:03:15.131070Z",
     "start_time": "2023-04-22T11:03:15.122010Z"
    }
   },
   "outputs": [],
   "source": [
    "y_train = y['Close'][:int(0.7*len(y))]\n",
    "y_test = y['Close'][int(0.7*len(y)):]"
   ]
  },
  {
   "cell_type": "code",
   "execution_count": null,
   "id": "b35e2408",
   "metadata": {
    "ExecuteTime": {
     "end_time": "2023-04-22T11:03:15.827202Z",
     "start_time": "2023-04-22T11:03:15.808253Z"
    }
   },
   "outputs": [],
   "source": [
    "y_train"
   ]
  },
  {
   "cell_type": "code",
   "execution_count": null,
   "id": "5093fbeb",
   "metadata": {
    "ExecuteTime": {
     "end_time": "2023-04-22T11:03:26.296383Z",
     "start_time": "2023-04-22T11:03:25.971684Z"
    }
   },
   "outputs": [],
   "source": [
    "y_train.plot()\n",
    "y_test.plot()"
   ]
  },
  {
   "cell_type": "code",
   "execution_count": null,
   "id": "fcc52f13",
   "metadata": {
    "ExecuteTime": {
     "end_time": "2023-04-22T11:03:47.806955Z",
     "start_time": "2023-04-22T11:03:47.773622Z"
    }
   },
   "outputs": [],
   "source": [
    "kpss_diffs = ndiffs(y_train, alpha=0.05, test='kpss', max_d=6)\n",
    "adf_diffs = ndiffs(y_train, alpha=0.05, test='adf', max_d=6)\n",
    "n_diffs = max(adf_diffs, kpss_diffs)\n",
    "\n",
    "print(f\"d = {n_diffs}\")"
   ]
  },
  {
   "cell_type": "code",
   "execution_count": null,
   "id": "96620e10",
   "metadata": {
    "ExecuteTime": {
     "end_time": "2023-04-22T11:03:50.002202Z",
     "start_time": "2023-04-22T11:03:49.666506Z"
    }
   },
   "outputs": [],
   "source": [
    "model = pm.auto_arima(y = y_train       # 데이터\n",
    "                      , d = 1           # (d)차분 차수 (기본값 = none), 지정하지 않으면 실행 기간이 매우 길어질 수 있음\n",
    "                      , start_p = 0     # (p)탐색 시초값 (기본값 = 2)\n",
    "                      , max_p = 3       # (기본값 = 5)\n",
    "                      , start_q = 0     # (q)탐색 시초값 (기본값 = 2)\n",
    "                      , max_q = 3       # (기본값 = 5)\n",
    "                      , m = 1           # (기본값 = 1)\n",
    "                      , seasonal = False # 기본값 = True, 계절변동 ARIMA(SARIMA)에 해당시 True로 수정\n",
    "                      , stepwise = True  \n",
    "                      , trace=True      # stepwise로 모델을 적합할 때마다 결과를 프린트\n",
    "                      )"
   ]
  },
  {
   "cell_type": "code",
   "execution_count": null,
   "id": "e5aee3c6",
   "metadata": {
    "ExecuteTime": {
     "end_time": "2023-04-22T11:03:53.894892Z",
     "start_time": "2023-04-22T11:03:53.866993Z"
    }
   },
   "outputs": [],
   "source": [
    "# model = pm.auto_arima(y_train, d = 1, seasonal = False, trace = True)\n",
    "model.fit(y_train)"
   ]
  },
  {
   "cell_type": "code",
   "execution_count": null,
   "id": "96b38864",
   "metadata": {
    "ExecuteTime": {
     "end_time": "2023-04-22T11:03:55.798192Z",
     "start_time": "2023-04-22T11:03:55.778284Z"
    }
   },
   "outputs": [],
   "source": [
    "print(model.summary())"
   ]
  },
  {
   "cell_type": "code",
   "execution_count": null,
   "id": "0a078df3",
   "metadata": {
    "ExecuteTime": {
     "end_time": "2023-04-22T11:04:03.524907Z",
     "start_time": "2023-04-22T11:04:02.991318Z"
    }
   },
   "outputs": [],
   "source": [
    "# plot_diagnostics 잔차 그래프로 정상성과 정규성을 만족하는지 파악\n",
    "\n",
    "model.plot_diagnostics(figsize=(10, 6)) \n",
    "plt.show()"
   ]
  },
  {
   "cell_type": "code",
   "execution_count": null,
   "id": "d54e9bf4",
   "metadata": {
    "ExecuteTime": {
     "end_time": "2023-04-22T11:04:09.261554Z",
     "start_time": "2023-04-22T11:04:09.236491Z"
    }
   },
   "outputs": [],
   "source": [
    "# 모형 예측\n",
    "\n",
    "y_pred = model.predict(n_period=len(y_test))\n",
    "# y_pred = model.predict(steps=1)"
   ]
  },
  {
   "cell_type": "code",
   "execution_count": null,
   "id": "a9df590a",
   "metadata": {
    "ExecuteTime": {
     "end_time": "2023-04-22T11:04:11.095783Z",
     "start_time": "2023-04-22T11:04:11.082783Z"
    }
   },
   "outputs": [],
   "source": [
    "y_pred"
   ]
  },
  {
   "cell_type": "code",
   "execution_count": null,
   "id": "36e0433d",
   "metadata": {
    "ExecuteTime": {
     "end_time": "2023-04-22T11:04:19.164619Z",
     "start_time": "2023-04-22T11:04:19.140706Z"
    }
   },
   "outputs": [],
   "source": [
    "y_test_predict_df = pd.DataFrame({\"test\": y_test, \"pred\": y_pred})\n",
    "y_predict_df = y_test_predict_df['pred']\n",
    "y_predict_df"
   ]
  },
  {
   "cell_type": "code",
   "execution_count": null,
   "id": "6cb9a456",
   "metadata": {
    "ExecuteTime": {
     "end_time": "2023-04-22T11:04:57.664212Z",
     "start_time": "2023-04-22T11:04:57.660227Z"
    }
   },
   "outputs": [],
   "source": [
    "# model update setting\n",
    "\n",
    "def forecast_one_step(): \n",
    "    fc, conf_int = model.predict(n_periods=1, return_conf_int=True)               \n",
    "    return (\n",
    "        fc.tolist()[0],\n",
    "        np.asarray(conf_int).tolist()[0]\n",
    "    )"
   ]
  },
  {
   "cell_type": "code",
   "execution_count": null,
   "id": "afc26e81",
   "metadata": {
    "ExecuteTime": {
     "end_time": "2023-04-22T11:05:02.319308Z",
     "start_time": "2023-04-22T11:04:59.615347Z"
    }
   },
   "outputs": [],
   "source": [
    "forecasts = []\n",
    "y_pred = []\n",
    "pred_upper = []\n",
    "pred_lower = []\n",
    "\n",
    "for new_ob in y_test:\n",
    "    fc, conf = forecast_one_step()\n",
    "    y_pred.append(fc)\n",
    "    pred_upper.append(conf[1])\n",
    "    pred_lower.append(conf[0])\n",
    "\n",
    "    ## 모형 업데이트\n",
    "    model.update(new_ob)"
   ]
  },
  {
   "cell_type": "code",
   "execution_count": null,
   "id": "2187fd4e",
   "metadata": {
    "ExecuteTime": {
     "end_time": "2023-04-22T11:05:48.063937Z",
     "start_time": "2023-04-22T11:05:48.040504Z"
    }
   },
   "outputs": [],
   "source": [
    "pd.DataFrame({\"test\": y_test, \"pred\": y_pred}).tail(20)"
   ]
  },
  {
   "cell_type": "code",
   "execution_count": null,
   "id": "d4c50de1",
   "metadata": {
    "ExecuteTime": {
     "end_time": "2023-04-22T11:05:14.600236Z",
     "start_time": "2023-04-22T11:05:14.581926Z"
    }
   },
   "outputs": [],
   "source": [
    "y_test_predict_df = pd.DataFrame({\"test\": y_test, \"pred\": y_pred})\n",
    "y_predict_df = y_test_predict_df['pred']\n",
    "y_predict_df"
   ]
  },
  {
   "cell_type": "code",
   "execution_count": null,
   "id": "8a8d1e9c",
   "metadata": {
    "ExecuteTime": {
     "end_time": "2023-04-22T11:05:17.346516Z",
     "start_time": "2023-04-22T11:05:17.068110Z"
    }
   },
   "outputs": [],
   "source": [
    "fig, axes = plt.subplots(1, 1, figsize=(15, 15))\n",
    "plt.plot(y_train, label='Train')        \n",
    "plt.plot(y_test, label='Test')          \n",
    "plt.plot(y_predict_df, label='Prediction')   \n",
    "plt.legend()\n",
    "plt.show()"
   ]
  },
  {
   "cell_type": "code",
   "execution_count": null,
   "id": "72541fa8",
   "metadata": {
    "ExecuteTime": {
     "end_time": "2023-04-21T10:20:08.052179Z",
     "start_time": "2023-04-21T10:20:08.046195Z"
    }
   },
   "outputs": [],
   "source": [
    "def MAPE(y_test, y_pred): \n",
    "    return np.mean(np.abs((y_test - y_pred) / y_test)) * 100 \n",
    "    \n",
    "print(f\"MAPE (%): {MAPE(y_test, y_pred):.3f}\")"
   ]
  },
  {
   "cell_type": "code",
   "execution_count": null,
   "id": "2362307a",
   "metadata": {
    "ExecuteTime": {
     "end_time": "2023-04-28T07:11:27.167584Z",
     "start_time": "2023-04-28T07:11:27.148670Z"
    }
   },
   "outputs": [],
   "source": [
    "kospi"
   ]
  },
  {
   "cell_type": "markdown",
   "id": "d47af2f7",
   "metadata": {},
   "source": [
    "### ARIMA"
   ]
  },
  {
   "cell_type": "code",
   "execution_count": 37,
   "id": "8e2a17ba",
   "metadata": {
    "ExecuteTime": {
     "end_time": "2023-04-28T07:26:03.594888Z",
     "start_time": "2023-04-28T07:26:03.575938Z"
    }
   },
   "outputs": [],
   "source": [
    "# lst 내 data들 kospi 날짜 기준으로 data concat\n",
    "\n",
    "def concat_data(lst, x):\n",
    "    for i in lst:\n",
    "        if i.columns[1] == x.columns[1]:\n",
    "            pass\n",
    "        else:\n",
    "            oneone = pd.merge(i, x, how = 'right', left_on = 'Date', right_on = 'Date')\n",
    "            oneone.fillna(method = 'bfill', inplace = True)\n",
    "            oneone.fillna(method = 'ffill', inplace = True)\n",
    "            \n",
    "            x = oneone\n",
    "            \n",
    "    oneone = oneone.set_index('Date')\n",
    "    minmax_scaled = minmax_scaler.fit_transform(oneone.values)\n",
    "    concat_x = pd.DataFrame(data = minmax_scaled, columns = oneone.columns, index = oneone.index)\n",
    "    \n",
    "    return concat_x\n"
   ]
  },
  {
   "cell_type": "code",
   "execution_count": 42,
   "id": "90defd38",
   "metadata": {
    "ExecuteTime": {
     "end_time": "2023-04-28T07:26:34.392891Z",
     "start_time": "2023-04-28T07:26:33.985589Z"
    }
   },
   "outputs": [],
   "source": [
    "all_data_kospi = concat_data(variables, kospi)"
   ]
  },
  {
   "cell_type": "code",
   "execution_count": 64,
   "id": "07f143dd",
   "metadata": {
    "ExecuteTime": {
     "end_time": "2023-04-28T07:49:26.842225Z",
     "start_time": "2023-04-28T07:49:26.824272Z"
    }
   },
   "outputs": [],
   "source": [
    "from statsmodels.tsa.statespace.sarimax import SARIMAX # provides ARMA, ARIMA, SARIMA models\n",
    "from statsmodels.tsa.stattools import adfuller # test for stationarity using dicky-fuller test\n",
    "plt.rcParams['figure.figsize']=(10, 6)"
   ]
  },
  {
   "cell_type": "markdown",
   "id": "e6f909fe",
   "metadata": {},
   "source": [
    "#### Test for Stationarity"
   ]
  },
  {
   "cell_type": "code",
   "execution_count": 65,
   "id": "ae4a2fa1",
   "metadata": {
    "ExecuteTime": {
     "end_time": "2023-04-28T07:51:27.888161Z",
     "start_time": "2023-04-28T07:51:27.413435Z"
    }
   },
   "outputs": [
    {
     "name": "stdout",
     "output_type": "stream",
     "text": [
      "statistic: -0.8908406641027521 \n",
      " p-value: 0.7909737515711899\n"
     ]
    }
   ],
   "source": [
    "# check stationarity using the function imported earlier\n",
    "result = adfuller(all_data_kospi['kospi_Close'])\n",
    "\n",
    "# Print test statistic\n",
    "print('statistic:', result[0],'\\n', 'p-value:', result[1])"
   ]
  },
  {
   "cell_type": "code",
   "execution_count": null,
   "id": "0b166160",
   "metadata": {},
   "outputs": [],
   "source": []
  },
  {
   "cell_type": "code",
   "execution_count": 59,
   "id": "1568f90b",
   "metadata": {
    "ExecuteTime": {
     "end_time": "2023-04-28T07:45:39.266082Z",
     "start_time": "2023-04-28T07:45:39.248922Z"
    }
   },
   "outputs": [],
   "source": [
    "slice_ = int(len(all_data_kospi) * 0.7)\n",
    "\n",
    "X_train = all_data_kospi[:slice_]\n",
    "X_test = all_data_kospi[slice_:]"
   ]
  },
  {
   "cell_type": "code",
   "execution_count": 60,
   "id": "6f0853a0",
   "metadata": {
    "ExecuteTime": {
     "end_time": "2023-04-28T07:45:45.410530Z",
     "start_time": "2023-04-28T07:45:45.401536Z"
    }
   },
   "outputs": [],
   "source": [
    "def plot_series(x_series, y_series):\n",
    "    #입력 series와 출력 series를 연속적으로 연결하여 시각적으로 보여주는 코드 입니다.\n",
    "    plt.plot(x_series, label = 'input_series')\n",
    "    plt.plot(np.arange(len(x_series), len(x_series)+len(y_series)),\n",
    "             y_series, label = 'output_series')\n",
    "    plt.axhline(1, c = 'red')\n",
    "    plt.legend()"
   ]
  },
  {
   "cell_type": "code",
   "execution_count": 63,
   "id": "57f56d03",
   "metadata": {
    "ExecuteTime": {
     "end_time": "2023-04-28T07:46:20.775722Z",
     "start_time": "2023-04-28T07:46:20.716881Z"
    }
   },
   "outputs": [
    {
     "ename": "InvalidIndexError",
     "evalue": "(1, slice(None, None, None), 0)",
     "output_type": "error",
     "traceback": [
      "\u001b[1;31m---------------------------------------------------------------------------\u001b[0m",
      "\u001b[1;31mTypeError\u001b[0m                                 Traceback (most recent call last)",
      "File \u001b[1;32mc:\\python38-64\\lib\\site-packages\\pandas\\core\\indexes\\base.py:3621\u001b[0m, in \u001b[0;36mIndex.get_loc\u001b[1;34m(self, key, method, tolerance)\u001b[0m\n\u001b[0;32m   3620\u001b[0m \u001b[38;5;28;01mtry\u001b[39;00m:\n\u001b[1;32m-> 3621\u001b[0m     \u001b[38;5;28;01mreturn\u001b[39;00m \u001b[38;5;28;43mself\u001b[39;49m\u001b[38;5;241;43m.\u001b[39;49m\u001b[43m_engine\u001b[49m\u001b[38;5;241;43m.\u001b[39;49m\u001b[43mget_loc\u001b[49m\u001b[43m(\u001b[49m\u001b[43mcasted_key\u001b[49m\u001b[43m)\u001b[49m\n\u001b[0;32m   3622\u001b[0m \u001b[38;5;28;01mexcept\u001b[39;00m \u001b[38;5;167;01mKeyError\u001b[39;00m \u001b[38;5;28;01mas\u001b[39;00m err:\n",
      "File \u001b[1;32mc:\\python38-64\\lib\\site-packages\\pandas\\_libs\\index.pyx:136\u001b[0m, in \u001b[0;36mpandas._libs.index.IndexEngine.get_loc\u001b[1;34m()\u001b[0m\n",
      "File \u001b[1;32mc:\\python38-64\\lib\\site-packages\\pandas\\_libs\\index.pyx:142\u001b[0m, in \u001b[0;36mpandas._libs.index.IndexEngine.get_loc\u001b[1;34m()\u001b[0m\n",
      "\u001b[1;31mTypeError\u001b[0m: '(1, slice(None, None, None), 0)' is an invalid key",
      "\nDuring handling of the above exception, another exception occurred:\n",
      "\u001b[1;31mInvalidIndexError\u001b[0m                         Traceback (most recent call last)",
      "Input \u001b[1;32mIn [63]\u001b[0m, in \u001b[0;36m<cell line: 2>\u001b[1;34m()\u001b[0m\n\u001b[0;32m      1\u001b[0m idx \u001b[38;5;241m=\u001b[39m \u001b[38;5;241m1\u001b[39m\n\u001b[1;32m----> 2\u001b[0m x_series \u001b[38;5;241m=\u001b[39m \u001b[43mX_train\u001b[49m\u001b[43m[\u001b[49m\u001b[43midx\u001b[49m\u001b[43m,\u001b[49m\u001b[43m \u001b[49m\u001b[43m:\u001b[49m\u001b[43m,\u001b[49m\u001b[43m \u001b[49m\u001b[38;5;241;43m0\u001b[39;49m\u001b[43m]\u001b[49m\n\u001b[0;32m      3\u001b[0m model \u001b[38;5;241m=\u001b[39m ARIMA(x_series, order\u001b[38;5;241m=\u001b[39m(\u001b[38;5;241m3\u001b[39m, \u001b[38;5;241m0\u001b[39m, \u001b[38;5;241m1\u001b[39m))\n\u001b[0;32m      4\u001b[0m fit \u001b[38;5;241m=\u001b[39m model\u001b[38;5;241m.\u001b[39mfit()\n",
      "File \u001b[1;32mc:\\python38-64\\lib\\site-packages\\pandas\\core\\frame.py:3505\u001b[0m, in \u001b[0;36mDataFrame.__getitem__\u001b[1;34m(self, key)\u001b[0m\n\u001b[0;32m   3503\u001b[0m \u001b[38;5;28;01mif\u001b[39;00m \u001b[38;5;28mself\u001b[39m\u001b[38;5;241m.\u001b[39mcolumns\u001b[38;5;241m.\u001b[39mnlevels \u001b[38;5;241m>\u001b[39m \u001b[38;5;241m1\u001b[39m:\n\u001b[0;32m   3504\u001b[0m     \u001b[38;5;28;01mreturn\u001b[39;00m \u001b[38;5;28mself\u001b[39m\u001b[38;5;241m.\u001b[39m_getitem_multilevel(key)\n\u001b[1;32m-> 3505\u001b[0m indexer \u001b[38;5;241m=\u001b[39m \u001b[38;5;28;43mself\u001b[39;49m\u001b[38;5;241;43m.\u001b[39;49m\u001b[43mcolumns\u001b[49m\u001b[38;5;241;43m.\u001b[39;49m\u001b[43mget_loc\u001b[49m\u001b[43m(\u001b[49m\u001b[43mkey\u001b[49m\u001b[43m)\u001b[49m\n\u001b[0;32m   3506\u001b[0m \u001b[38;5;28;01mif\u001b[39;00m is_integer(indexer):\n\u001b[0;32m   3507\u001b[0m     indexer \u001b[38;5;241m=\u001b[39m [indexer]\n",
      "File \u001b[1;32mc:\\python38-64\\lib\\site-packages\\pandas\\core\\indexes\\base.py:3628\u001b[0m, in \u001b[0;36mIndex.get_loc\u001b[1;34m(self, key, method, tolerance)\u001b[0m\n\u001b[0;32m   3623\u001b[0m         \u001b[38;5;28;01mraise\u001b[39;00m \u001b[38;5;167;01mKeyError\u001b[39;00m(key) \u001b[38;5;28;01mfrom\u001b[39;00m \u001b[38;5;21;01merr\u001b[39;00m\n\u001b[0;32m   3624\u001b[0m     \u001b[38;5;28;01mexcept\u001b[39;00m \u001b[38;5;167;01mTypeError\u001b[39;00m:\n\u001b[0;32m   3625\u001b[0m         \u001b[38;5;66;03m# If we have a listlike key, _check_indexing_error will raise\u001b[39;00m\n\u001b[0;32m   3626\u001b[0m         \u001b[38;5;66;03m#  InvalidIndexError. Otherwise we fall through and re-raise\u001b[39;00m\n\u001b[0;32m   3627\u001b[0m         \u001b[38;5;66;03m#  the TypeError.\u001b[39;00m\n\u001b[1;32m-> 3628\u001b[0m         \u001b[38;5;28;43mself\u001b[39;49m\u001b[38;5;241;43m.\u001b[39;49m\u001b[43m_check_indexing_error\u001b[49m\u001b[43m(\u001b[49m\u001b[43mkey\u001b[49m\u001b[43m)\u001b[49m\n\u001b[0;32m   3629\u001b[0m         \u001b[38;5;28;01mraise\u001b[39;00m\n\u001b[0;32m   3631\u001b[0m \u001b[38;5;66;03m# GH#42269\u001b[39;00m\n",
      "File \u001b[1;32mc:\\python38-64\\lib\\site-packages\\pandas\\core\\indexes\\base.py:5637\u001b[0m, in \u001b[0;36mIndex._check_indexing_error\u001b[1;34m(self, key)\u001b[0m\n\u001b[0;32m   5633\u001b[0m \u001b[38;5;28;01mdef\u001b[39;00m \u001b[38;5;21m_check_indexing_error\u001b[39m(\u001b[38;5;28mself\u001b[39m, key):\n\u001b[0;32m   5634\u001b[0m     \u001b[38;5;28;01mif\u001b[39;00m \u001b[38;5;129;01mnot\u001b[39;00m is_scalar(key):\n\u001b[0;32m   5635\u001b[0m         \u001b[38;5;66;03m# if key is not a scalar, directly raise an error (the code below\u001b[39;00m\n\u001b[0;32m   5636\u001b[0m         \u001b[38;5;66;03m# would convert to numpy arrays and raise later any way) - GH29926\u001b[39;00m\n\u001b[1;32m-> 5637\u001b[0m         \u001b[38;5;28;01mraise\u001b[39;00m InvalidIndexError(key)\n",
      "\u001b[1;31mInvalidIndexError\u001b[0m: (1, slice(None, None, None), 0)"
     ]
    }
   ],
   "source": [
    "idx = 1\n",
    "x_series = X_train[idx, :, 0]\n",
    "model = ARIMA(x_series, order=(3, 0, 1))\n",
    "fit = model.fit()"
   ]
  },
  {
   "cell_type": "code",
   "execution_count": null,
   "id": "00d01f57",
   "metadata": {},
   "outputs": [],
   "source": [
    "preds=fit.predict(1, 168, typ='levels')"
   ]
  },
  {
   "cell_type": "code",
   "execution_count": null,
   "id": "2376b6fd",
   "metadata": {},
   "outputs": [],
   "source": [
    "plt.plot(x_series, label = 'input_series')\n",
    "plt.plot(np.arange(2040, 2040+168), test_x_array[idx, :, 0], label='y')\n",
    "plt.plot(np.arange(2040, 2040+168), preds, label='prediction')\n",
    "plt.legend()"
   ]
  },
  {
   "cell_type": "code",
   "execution_count": null,
   "id": "f4ac1d9d",
   "metadata": {},
   "outputs": [],
   "source": []
  },
  {
   "cell_type": "code",
   "execution_count": null,
   "id": "a5f1bf48",
   "metadata": {},
   "outputs": [],
   "source": []
  },
  {
   "cell_type": "markdown",
   "id": "a4758079",
   "metadata": {},
   "source": [
    "### VAR"
   ]
  },
  {
   "cell_type": "code",
   "execution_count": null,
   "id": "838e64ab",
   "metadata": {
    "ExecuteTime": {
     "end_time": "2023-04-22T11:42:10.353803Z",
     "start_time": "2023-04-22T11:42:10.342570Z"
    }
   },
   "outputs": [],
   "source": [
    "'''\n",
    "cor_over_70 = [kospi, dow, sp500, russel2000, nasdaq, ftse, nikkie, ssec, szse, hsi, jap_bond_yield_10, \n",
    "               kor_bond_yield_1, kor_bond_yield_3, kor_bond_yield_5, kor_bond_yield_10, us_bond_yield_3, \n",
    "               us_bond_yield_5, us_bond_yield_10, brent, wti, bitcoin, gold]\n",
    "'''\n",
    "len(cor_over_70)"
   ]
  },
  {
   "cell_type": "code",
   "execution_count": null,
   "id": "63582d5d",
   "metadata": {
    "ExecuteTime": {
     "end_time": "2023-04-22T11:59:05.348590Z",
     "start_time": "2023-04-22T11:59:05.339626Z"
    }
   },
   "outputs": [],
   "source": [
    "ftse"
   ]
  },
  {
   "cell_type": "code",
   "execution_count": null,
   "id": "3dc75561",
   "metadata": {
    "ExecuteTime": {
     "end_time": "2023-04-22T12:03:57.631872Z",
     "start_time": "2023-04-22T12:03:57.611927Z"
    }
   },
   "outputs": [],
   "source": [
    "main_kospi = [kospi, dow, sp500, russel2000, nasdaq, ftse, nikkie, ssec, szse, hsi]\n",
    "bon_yield_kospi = [kospi, jap_bond_yield_10, kor_bond_yield_1, kor_bond_yield_3, kor_bond_yield_5, kor_bond_yield_10, us_bond_yield_3, \n",
    "                   us_bond_yield_5, us_bond_yield_10]\n",
    "other_kospi = [kospi, brent, wti, bitcoin, gold]"
   ]
  },
  {
   "cell_type": "code",
   "execution_count": null,
   "id": "ed3fd830",
   "metadata": {
    "ExecuteTime": {
     "end_time": "2023-04-21T11:42:37.042198Z",
     "start_time": "2023-04-21T11:40:43.224920Z"
    },
    "scrolled": true
   },
   "outputs": [],
   "source": [
    "for i in cor_over_70:\n",
    "    print(f'{i.columns[1][:-6]}')\n",
    "    get_corr(cor_over_70, i)\n",
    "    print('========================================================================')\n",
    "    print('========================================================================')\n",
    "    print('========================================================================')"
   ]
  },
  {
   "cell_type": "code",
   "execution_count": null,
   "id": "0ba97475",
   "metadata": {},
   "outputs": [],
   "source": []
  },
  {
   "cell_type": "code",
   "execution_count": null,
   "id": "b0a7c31e",
   "metadata": {
    "ExecuteTime": {
     "end_time": "2023-04-28T07:01:06.160592Z",
     "start_time": "2023-04-28T07:01:06.131635Z"
    }
   },
   "outputs": [],
   "source": [
    "# lst 내에서, 가장 적게 수집된 데이터를 기준으로 concat\n",
    "\n",
    "def concat_data(lst):\n",
    "    # 최소 기간 data 추출\n",
    "    df_min_len = len(lst[0])\n",
    "    for _ in range(len(lst)):\n",
    "        if df_min_len >= len(lst[_]):\n",
    "            df_min_len = len(lst[_])\n",
    "            df_min = lst[_]\n",
    "    x = df_min\n",
    "\n",
    "    for i in lst:\n",
    "        if x.columns[1] == i.columns[1]:\n",
    "            pass\n",
    "        elif i.columns[1] == lst[0].columns[1]:\n",
    "            oneone = pd.merge(lst[0], x, how = 'right', left_on = 'Date', right_on = 'Date')\n",
    "            oneone.fillna(method = 'ffill', inplace = True)\n",
    "        else:\n",
    "            oneone = pd.merge(i, oneone, how = 'right', left_on = 'Date', right_on = 'Date')\n",
    "            oneone.fillna(method = 'ffill', inplace = True)\n",
    "\n",
    "    oneone = oneone.set_index('Date')\n",
    "    minmax_scaled = minmax_scaler.fit_transform(oneone.values)\n",
    "    # {main_kospi}_concat\n",
    "#     main_kospi_concat = pd.DataFrame(data = minmax_scaled, columns = oneone.columns, index = oneone.index)\n",
    "#     bon_yield_kospi_concat = pd.DataFrame(data = minmax_scaled, columns = oneone.columns, index = oneone.index)\n",
    "#     other_kospi_concat = pd.DataFrame(data = minmax_scaled, columns = oneone.columns, index = oneone.index)\n",
    "    all_feature = pd.DataFrame(data = minmax_scaled, columns = oneone.columns, index = oneone.index)\n",
    "    \n",
    "#     return main_kospi_concat\n",
    "#     return bon_yield_kospi_concat\n",
    "#     return other_kospi_concat\n",
    "    return all_feature\n"
   ]
  },
  {
   "cell_type": "code",
   "execution_count": null,
   "id": "fec92e1f",
   "metadata": {
    "ExecuteTime": {
     "end_time": "2023-04-22T13:50:02.051284Z",
     "start_time": "2023-04-22T13:50:01.907670Z"
    }
   },
   "outputs": [],
   "source": [
    "# main_kospi_concat = concat_feature(main_kospi)\n",
    "# bon_yield_kospi_concat = concat_feature(bon_yield_kospi)\n",
    "# other_kospi_concat = concat_feature(other_kospi)\n",
    "all_concat = concat_feature(variables)"
   ]
  },
  {
   "cell_type": "code",
   "execution_count": null,
   "id": "36a8baef",
   "metadata": {
    "ExecuteTime": {
     "end_time": "2023-04-22T13:50:10.323005Z",
     "start_time": "2023-04-22T13:50:10.303026Z"
    },
    "scrolled": true
   },
   "outputs": [],
   "source": [
    "# print(main_kospi_concat)\n",
    "# print(bon_yield_kospi_concat)\n",
    "# print(other_kospi_concat)\n",
    "print(all_concat)"
   ]
  },
  {
   "cell_type": "code",
   "execution_count": null,
   "id": "19a09730",
   "metadata": {
    "ExecuteTime": {
     "end_time": "2023-04-22T13:50:29.487220Z",
     "start_time": "2023-04-22T13:50:28.584165Z"
    },
    "scrolled": false
   },
   "outputs": [],
   "source": [
    "# print(main_kospi_concat.plot(figsize = (20,10)))\n",
    "# print(bon_yield_kospi_concat.plot(figsize = (20,10)))\n",
    "# print(other_kospi_concat.plot(figsize = (20,10)))\n",
    "print(all_concat.plot(figsize = (20,10)))"
   ]
  },
  {
   "cell_type": "markdown",
   "id": "ebe88055",
   "metadata": {},
   "source": [
    "other kospi concat"
   ]
  },
  {
   "cell_type": "code",
   "execution_count": null,
   "id": "5ce12793",
   "metadata": {
    "ExecuteTime": {
     "end_time": "2023-04-22T12:09:57.507877Z",
     "start_time": "2023-04-22T12:09:57.481984Z"
    },
    "scrolled": true
   },
   "outputs": [],
   "source": [
    "data = np.log(other_kospi_concat).diff()\n",
    "data.replace([np.inf, -np.inf], np.nan, inplace=True)\n",
    "data.dropna(inplace=True)\n",
    "data"
   ]
  },
  {
   "cell_type": "code",
   "execution_count": null,
   "id": "0b910ac0",
   "metadata": {
    "ExecuteTime": {
     "end_time": "2023-04-22T12:10:00.763532Z",
     "start_time": "2023-04-22T12:10:00.492358Z"
    },
    "scrolled": true
   },
   "outputs": [],
   "source": [
    "data.plot(figsize=(20,10))"
   ]
  },
  {
   "cell_type": "code",
   "execution_count": null,
   "id": "c670b934",
   "metadata": {
    "ExecuteTime": {
     "end_time": "2023-04-22T12:10:05.416282Z",
     "start_time": "2023-04-22T12:10:04.717120Z"
    },
    "scrolled": true
   },
   "outputs": [],
   "source": [
    "from statsmodels.graphics.tsaplots import plot_acf\n",
    "\n",
    "for i in data:\n",
    "    plot_acf(data[i], lags=50)\n",
    "    plt.title('ACF for %s' % i)\n",
    "    plt.show()"
   ]
  },
  {
   "cell_type": "code",
   "execution_count": null,
   "id": "645bd975",
   "metadata": {
    "ExecuteTime": {
     "end_time": "2023-04-22T12:10:12.431810Z",
     "start_time": "2023-04-22T12:10:11.575235Z"
    },
    "scrolled": true
   },
   "outputs": [],
   "source": [
    "from statsmodels.graphics.tsaplots import plot_pacf\n",
    "\n",
    "for i in data:\n",
    "    plot_pacf(data[i], lags=50)\n",
    "    plt.title('PACF for %s' % i)\n",
    "    plt.show()"
   ]
  },
  {
   "cell_type": "code",
   "execution_count": null,
   "id": "b5a17350",
   "metadata": {
    "ExecuteTime": {
     "end_time": "2023-04-22T12:10:15.081148Z",
     "start_time": "2023-04-22T12:10:14.077082Z"
    }
   },
   "outputs": [],
   "source": [
    "from statsmodels.tsa.stattools import adfuller\n",
    "\n",
    "def adf(time_series):\n",
    "    result = adfuller(time_series.values)\n",
    "    print('ADF Statistic: %f' % result[0])\n",
    "    print('p-value: %f' % result[1])\n",
    "\n",
    "for i in data:\n",
    "    print('--Test statistic for %s' % i)\n",
    "    adf(data[i])"
   ]
  },
  {
   "cell_type": "code",
   "execution_count": null,
   "id": "75332afe",
   "metadata": {
    "ExecuteTime": {
     "end_time": "2023-04-22T12:10:17.158316Z",
     "start_time": "2023-04-22T12:10:17.142359Z"
    }
   },
   "outputs": [],
   "source": [
    "data"
   ]
  },
  {
   "cell_type": "code",
   "execution_count": null,
   "id": "a24c5d58",
   "metadata": {
    "ExecuteTime": {
     "end_time": "2023-04-22T12:10:21.459260Z",
     "start_time": "2023-04-22T12:10:21.453210Z"
    }
   },
   "outputs": [],
   "source": [
    "obs = 50\n",
    "X_train, X_test = data[0:-obs], data[-obs:]\n",
    "\n",
    "print(X_train.shape)\n",
    "print(X_test.shape)"
   ]
  },
  {
   "cell_type": "code",
   "execution_count": null,
   "id": "f2f0a493",
   "metadata": {
    "ExecuteTime": {
     "end_time": "2023-04-22T12:10:23.386143Z",
     "start_time": "2023-04-22T12:10:23.211610Z"
    }
   },
   "outputs": [],
   "source": [
    "X_test.plot(figsize=(12, 6))#, linewidth=3)\n",
    "plt.show()"
   ]
  },
  {
   "cell_type": "code",
   "execution_count": null,
   "id": "1f6bd7ba",
   "metadata": {
    "ExecuteTime": {
     "end_time": "2023-04-22T12:10:25.098348Z",
     "start_time": "2023-04-22T12:10:25.083388Z"
    }
   },
   "outputs": [],
   "source": [
    "X_train.info()"
   ]
  },
  {
   "cell_type": "code",
   "execution_count": null,
   "id": "63572316",
   "metadata": {
    "ExecuteTime": {
     "end_time": "2023-04-22T12:10:31.220674Z",
     "start_time": "2023-04-22T12:10:31.123928Z"
    }
   },
   "outputs": [],
   "source": [
    "from statsmodels.tsa.api import VAR\n",
    "\n",
    "model_var = VAR(endog=X_train)\n",
    "res = model_var.select_order(6)\n",
    "res.summary()"
   ]
  },
  {
   "cell_type": "code",
   "execution_count": null,
   "id": "2b442141",
   "metadata": {
    "ExecuteTime": {
     "end_time": "2023-04-22T12:11:41.385552Z",
     "start_time": "2023-04-22T12:11:41.292780Z"
    },
    "scrolled": true
   },
   "outputs": [],
   "source": [
    "model_fit = model_var.fit(maxlags=3, ic='aic')\n",
    "model_fit.summary()"
   ]
  },
  {
   "cell_type": "code",
   "execution_count": null,
   "id": "6ebb7603",
   "metadata": {
    "ExecuteTime": {
     "end_time": "2023-04-22T12:12:54.513755Z",
     "start_time": "2023-04-22T12:12:54.494754Z"
    }
   },
   "outputs": [],
   "source": [
    "X_test.shape"
   ]
  },
  {
   "cell_type": "code",
   "execution_count": null,
   "id": "9932a4ab",
   "metadata": {
    "ExecuteTime": {
     "end_time": "2023-04-22T12:12:59.123890Z",
     "start_time": "2023-04-22T12:12:59.105939Z"
    }
   },
   "outputs": [],
   "source": [
    "lag_order = model_fit.k_ar\n",
    "print(lag_order)"
   ]
  },
  {
   "cell_type": "code",
   "execution_count": null,
   "id": "36fbf7a7",
   "metadata": {
    "ExecuteTime": {
     "end_time": "2023-04-22T12:13:07.163217Z",
     "start_time": "2023-04-22T12:13:07.146093Z"
    }
   },
   "outputs": [],
   "source": [
    "model_fit.forecast(X_train.values[-lag_order:], steps=5)"
   ]
  },
  {
   "cell_type": "code",
   "execution_count": null,
   "id": "79c71fdd",
   "metadata": {
    "ExecuteTime": {
     "end_time": "2023-04-22T12:18:27.434163Z",
     "start_time": "2023-04-22T12:18:26.253378Z"
    }
   },
   "outputs": [],
   "source": [
    "model_fit.plot_forecast(steps=10)"
   ]
  },
  {
   "cell_type": "code",
   "execution_count": null,
   "id": "14599375",
   "metadata": {
    "ExecuteTime": {
     "end_time": "2023-04-22T12:13:49.967759Z",
     "start_time": "2023-04-22T12:13:49.940869Z"
    }
   },
   "outputs": [],
   "source": [
    "pred = model_fit.forecast(X_train.values[-lag_order:], steps=obs)\n",
    "pred = pd.DataFrame(pred, index=X_test.index, columns=X_test.columns + '_pred')\n",
    "pred"
   ]
  },
  {
   "cell_type": "code",
   "execution_count": null,
   "id": "f4ab5694",
   "metadata": {},
   "outputs": [],
   "source": [
    "# VAR Forecast evaluation"
   ]
  },
  {
   "cell_type": "code",
   "execution_count": null,
   "id": "c026d1d2",
   "metadata": {},
   "outputs": [],
   "source": [
    "from sklearn.metrics import mean_absolute_error\n",
    "from sklearn.metrics import mean_squared_error"
   ]
  },
  {
   "cell_type": "code",
   "execution_count": null,
   "id": "b6ce922c",
   "metadata": {},
   "outputs": [],
   "source": [
    "#Calculate forecast bias\n",
    "forecast_errors = [X_test['realgdp'][i]- pred['realgdp_pred'][i] for i in range(len(X_test['realgdp']))]\n",
    "bias = sum(forecast_errors) * 1.0/len(X_test['realgdp'])\n",
    "print('Bias: %f' % bias)\n",
    "\n",
    "#Calculate mean absolute error\n",
    "mae = mean_absolute_error(X_test['realgdp'],pred['realgdp_pred'])\n",
    "print('MAE: %f' % mae)\n",
    "\n",
    "#Calculate mean squared error and root mean squared error\n",
    "mse = mean_squared_error(X_test['realgdp'], pred['realgdp_pred'])\n",
    "print('MSE: %f' % mse)\n",
    "rmse = np.sqrt(mse)\n",
    "print('RMSE: %f' % rmse)"
   ]
  },
  {
   "cell_type": "markdown",
   "id": "d55b9902",
   "metadata": {},
   "source": [
    "### GARCH"
   ]
  },
  {
   "cell_type": "code",
   "execution_count": null,
   "id": "f00d63ea",
   "metadata": {},
   "outputs": [],
   "source": []
  },
  {
   "cell_type": "markdown",
   "id": "aaca2b97",
   "metadata": {},
   "source": [
    "### XGBoost"
   ]
  },
  {
   "cell_type": "markdown",
   "id": "65096bd1",
   "metadata": {},
   "source": [
    "https://sosoeasy.tistory.com/388"
   ]
  },
  {
   "cell_type": "markdown",
   "id": "a676c0b6",
   "metadata": {},
   "source": [
    "https://dacon.io/competitions/official/235736/codeshare/2877\n",
    "https://magoker.tistory.com/106"
   ]
  },
  {
   "cell_type": "markdown",
   "id": "79389f71",
   "metadata": {},
   "source": [
    "time series를 regression 문제로 변환하기 위해 시간 변수 추가 필요⭐"
   ]
  },
  {
   "cell_type": "code",
   "execution_count": null,
   "id": "e554c0ca",
   "metadata": {
    "ExecuteTime": {
     "end_time": "2023-04-22T13:51:13.811056Z",
     "start_time": "2023-04-22T13:51:13.797093Z"
    }
   },
   "outputs": [],
   "source": [
    "main_kospi_concat.dropna(inplace=True)\n",
    "bon_yield_kospi_concat.dropna(inplace=True)\n",
    "other_kospi_concat.dropna(inplace=True)\n",
    "all_concat.dropna(inplace=True)"
   ]
  },
  {
   "cell_type": "code",
   "execution_count": null,
   "id": "bbbd97a1",
   "metadata": {
    "ExecuteTime": {
     "end_time": "2023-04-22T13:52:15.712443Z",
     "start_time": "2023-04-22T13:52:15.569150Z"
    }
   },
   "outputs": [],
   "source": [
    "# main_kospi_concat 학습과 테스트 데이터 분리\n",
    "\n",
    "split1 = int(len(main_kospi_concat) * 0.7)\n",
    "\n",
    "X_train1 = main_kospi_concat[:split1]\n",
    "X_train1.drop('kospi_Close', axis=1, inplace=True)\n",
    "X_test1 = main_kospi_concat[split1:]\n",
    "X_test1.drop('kospi_Close', axis=1, inplace=True)\n",
    "\n",
    "y_train1 = main_kospi_concat[:split1]['kospi_Close']\n",
    "y_test1 = main_kospi_concat[split1:]['kospi_Close']\n",
    "\n",
    "# 나중에 예측값과 비교하기 위해 test 데이터 복제본 저장\n",
    "main_kospi_concat_orig = main_kospi_concat[split1:]\n",
    "main_kospi_concat_orig = main_kospi_concat_orig[['kospi_Close']]\n",
    "\n",
    "\n",
    "\n",
    "# bon_yield_kospi_concat 학습과 테스트 데이터 분리\n",
    "\n",
    "split2 = int(len(bon_yield_kospi_concat) * 0.7)\n",
    "\n",
    "X_train2 = bon_yield_kospi_concat[:split2]\n",
    "X_train2.drop('kospi_Close', axis=1, inplace=True)\n",
    "X_test2 = bon_yield_kospi_concat[split2:]\n",
    "X_test2.drop('kospi_Close', axis=1, inplace=True)\n",
    "\n",
    "y_train2 = bon_yield_kospi_concat[:split2]['kospi_Close']\n",
    "y_test2 = bon_yield_kospi_concat[split2:]['kospi_Close']\n",
    "\n",
    "# 나중에 예측값과 비교하기 위해 test 데이터 복제본 저장\n",
    "bon_yield_kospi_concat_orig = other_kospi_concat[split2:]\n",
    "bon_yield_kospi_concat_orig = bon_yield_kospi_concat_orig[['kospi_Close']]\n",
    "\n",
    "\n",
    "\n",
    "# other_kospi_concat 학습과 테스트 데이터 분리\n",
    "\n",
    "split3 = int(len(other_kospi_concat) * 0.7)\n",
    "\n",
    "X_train3 = other_kospi_concat[:split3]\n",
    "X_train3.drop('kospi_Close', axis=1, inplace=True)\n",
    "X_test3 = other_kospi_concat[split3:]\n",
    "X_test3.drop('kospi_Close', axis=1, inplace=True)\n",
    "\n",
    "y_train3 = other_kospi_concat[:split3]['kospi_Close']\n",
    "y_test3 = other_kospi_concat[split3:]['kospi_Close']\n",
    "\n",
    "# 나중에 예측값과 비교하기 위해 test 데이터 복제본 저장\n",
    "other_kospi_concat_orig = other_kospi_concat[split3:]\n",
    "other_kospi_concat_orig = other_kospi_concat_orig[['kospi_Close']]\n",
    "\n",
    "\n",
    "# all_concat 학습과 테스트 데이터 분리\n",
    "\n",
    "split4 = int(len(all_concat) * 0.7)\n",
    "\n",
    "X_train4 = all_concat[:split4]\n",
    "X_train4.drop('kospi_Close', axis=1, inplace=True)\n",
    "X_test4 = all_concat[split4:]\n",
    "X_test4.drop('kospi_Close', axis=1, inplace=True)\n",
    "\n",
    "y_train4 = all_concat[:split4]['kospi_Close']\n",
    "y_test4 = all_concat[split4:]['kospi_Close']\n",
    "\n",
    "# 나중에 예측값과 비교하기 위해 test 데이터 복제본 저장\n",
    "all_concat_orig = all_concat[split4:]\n",
    "all_concat_orig = all_concat_orig[['kospi_Close']]"
   ]
  },
  {
   "cell_type": "code",
   "execution_count": null,
   "id": "8a38461d",
   "metadata": {
    "ExecuteTime": {
     "end_time": "2023-04-22T13:40:14.331709Z",
     "start_time": "2023-04-22T13:40:14.326723Z"
    }
   },
   "outputs": [],
   "source": [
    "import xgboost as xgb\n",
    "from xgboost import plot_importance, plot_tree\n",
    "# from xgboost import XGBClassifier"
   ]
  },
  {
   "cell_type": "code",
   "execution_count": null,
   "id": "1eb168e6",
   "metadata": {
    "ExecuteTime": {
     "end_time": "2023-04-22T14:01:35.334326Z",
     "start_time": "2023-04-22T14:01:33.397067Z"
    },
    "scrolled": true
   },
   "outputs": [],
   "source": [
    "xgb_model1 = xgb.XGBRegressor(n_estimators=1000)\n",
    "xgb_model1.fit(X_train1, y_train1, eval_set=[(X_test1, y_test1)], early_stopping_rounds=50, verbose=False)\n",
    "\n",
    "xgb_model2 = xgb.XGBRegressor(n_estimators=1000)\n",
    "xgb_model2.fit(X_train2, y_train2, eval_set=[(X_test2, y_test2)], early_stopping_rounds=50, verbose=False)\n",
    "\n",
    "xgb_model3 = xgb.XGBRegressor(n_estimators=1000)\n",
    "xgb_model3.fit(X_train3, y_train3, eval_set=[(X_test3, y_test3)], early_stopping_rounds=50, verbose=False)\n",
    "\n",
    "xgb_model4 = xgb.XGBRegressor(n_estimators=1000)\n",
    "xgb_model4.fit(X_train4, y_train4, eval_set=[(X_test4, y_test4)], early_stopping_rounds=50, verbose=False)\n",
    "\n",
    "\n",
    "# 주요하게 적용하는 변수 그래프\n",
    "print(plot_importance(xgb_model1, height=0.8, title = 'main_kospi_feature_importance'))\n",
    "print(plot_importance(xgb_model2, height=0.8, title = 'bond_yield_kospi_feature_importance'))\n",
    "print(plot_importance(xgb_model3, height=0.8, title = 'other_kospi_feature_importance'))\n",
    "print(plot_importance(xgb_model4, height=0.8, title = 'all_kospi_feature_importance'))"
   ]
  },
  {
   "cell_type": "code",
   "execution_count": null,
   "id": "69d565e3",
   "metadata": {
    "ExecuteTime": {
     "end_time": "2023-04-22T14:07:27.957836Z",
     "start_time": "2023-04-22T14:07:27.934901Z"
    }
   },
   "outputs": [],
   "source": [
    "x"
   ]
  },
  {
   "cell_type": "code",
   "execution_count": null,
   "id": "c57a37b9",
   "metadata": {
    "ExecuteTime": {
     "end_time": "2023-04-22T14:08:19.729763Z",
     "start_time": "2023-04-22T14:08:19.708819Z"
    }
   },
   "outputs": [],
   "source": [
    "pred1 = xgb_model1.predict(X_test1)\n",
    "pred2 = xgb_model2.predict(X_test2)\n",
    "pred3 = xgb_model3.predict(X_test3)\n",
    "pred4 = xgb_model4.predict(X_test4)"
   ]
  },
  {
   "cell_type": "code",
   "execution_count": null,
   "id": "26b134a2",
   "metadata": {
    "ExecuteTime": {
     "end_time": "2023-04-22T13:54:15.409900Z",
     "start_time": "2023-04-22T13:54:14.556696Z"
    },
    "scrolled": false
   },
   "outputs": [],
   "source": [
    "# 실제 값과 예측 값을 하나의 DataFrame으로 만들고 visualize\n",
    "# 전체 feature 학습\n",
    "\n",
    "result1 = pd.concat([y_test1.reset_index(), pd.DataFrame(pred1, columns=['main_kospi_xgboost_pred'])], axis = 1, ignore_index = False)\n",
    "result1 = result1.set_index('Date')\n",
    "result1.plot(figsize=(20,10))\n",
    "\n",
    "result2 = pd.concat([y_test2.reset_index(), pd.DataFrame(pred2, columns=['bond_yield_kospi_xgboost_pred'])], axis = 1, ignore_index = False)\n",
    "result2 = result2.set_index('Date')\n",
    "result2.plot(figsize=(20,10))\n",
    "\n",
    "result3 = pd.concat([y_test3.reset_index(), pd.DataFrame(pred3, columns=['other_kospi_xgboost_pred'])], axis = 1, ignore_index = False)\n",
    "result3 = result3.set_index('Date')\n",
    "result3.plot(figsize=(20,10))\n",
    "\n",
    "result4 = pd.concat([y_test4.reset_index(), pd.DataFrame(pred4, columns=['all_feature_xgboost_pred'])], axis = 1, ignore_index = False)\n",
    "result4 = result4.set_index('Date')\n",
    "result4.plot(figsize=(20,10))"
   ]
  },
  {
   "cell_type": "code",
   "execution_count": null,
   "id": "04bd0d6c",
   "metadata": {
    "ExecuteTime": {
     "end_time": "2023-04-22T13:58:34.149358Z",
     "start_time": "2023-04-22T13:58:33.808146Z"
    }
   },
   "outputs": [],
   "source": [
    "print(result3[-50:].plot(figsize=(20,5)))\n",
    "print(result4[-50:].plot(figsize=(20,5)))"
   ]
  },
  {
   "cell_type": "code",
   "execution_count": null,
   "id": "5060b665",
   "metadata": {
    "ExecuteTime": {
     "end_time": "2023-04-22T14:10:35.837550Z",
     "start_time": "2023-04-22T14:10:35.624123Z"
    }
   },
   "outputs": [],
   "source": [
    "# 중요 변수 3위 feature만 가지고 학습\n",
    "\n",
    "X_train1_ = X_train1[['hsi_Close', 'szse_Close', 'nikkie_Close']]\n",
    "X_test1_ = X_test1[['hsi_Close', 'szse_Close', 'nikkie_Close']]\n",
    "\n",
    "# X_train2 = X_train2[]\n",
    "# X_test2 = X_test2[]\n",
    "\n",
    "# X_train3 = X_train3[]\n",
    "# X_test3 = X_test3[]\n",
    "\n",
    "# X_train4 = X_train4[]\n",
    "# X_test4 = X_test4[]\n",
    "\n",
    "\n",
    "xgb_model1.fit(X_train1_, y_train1, eval_set=[(X_test1_, y_test1)], early_stopping_rounds=50, verbose=False)\n",
    "# xgb_model2.fit(X_train2, y_train2, eval_set=[(X_test2, y_test2)], early_stopping_rounds=50, verbose=False)\n",
    "# xgb_model3.fit(X_train3, y_train3, eval_set=[(X_test3, y_test3)], early_stopping_rounds=50, verbose=False)\n",
    "# xgb_model4.fit(X_train4, y_train4, eval_set=[(X_test4, y_test4)], early_stopping_rounds=50, verbose=False)"
   ]
  },
  {
   "cell_type": "code",
   "execution_count": null,
   "id": "d0b10910",
   "metadata": {
    "ExecuteTime": {
     "end_time": "2023-04-22T14:10:38.682309Z",
     "start_time": "2023-04-22T14:10:38.668347Z"
    }
   },
   "outputs": [],
   "source": [
    "pred1_ = xgb_model1.predict(X_test1_)\n",
    "# pred2 = xgb_model2.predict(X_test2)\n",
    "# pred3 = xgb_model3.predict(X_test3)\n",
    "# pred4 = xgb_model4.predict(X_test4)"
   ]
  },
  {
   "cell_type": "code",
   "execution_count": null,
   "id": "760054a2",
   "metadata": {
    "ExecuteTime": {
     "end_time": "2023-04-22T14:11:14.417457Z",
     "start_time": "2023-04-22T14:11:14.130227Z"
    }
   },
   "outputs": [],
   "source": [
    "result1_ = pd.concat([y_test1.reset_index(), pd.DataFrame(pred1_, columns=['main_kospi_xgboost_feature_select_pred'])], axis = 1, ignore_index = False)\n",
    "result1_ = result1_.set_index('Date')\n",
    "result1_.plot(figsize=(20,10))"
   ]
  },
  {
   "cell_type": "code",
   "execution_count": null,
   "id": "d776e9c5",
   "metadata": {
    "ExecuteTime": {
     "end_time": "2023-04-22T14:13:50.455374Z",
     "start_time": "2023-04-22T14:13:50.274360Z"
    }
   },
   "outputs": [],
   "source": [
    "result1_[-30:].plot()"
   ]
  },
  {
   "cell_type": "markdown",
   "id": "8ffeac96",
   "metadata": {},
   "source": [
    "#### XGBoost Model 평가"
   ]
  },
  {
   "cell_type": "code",
   "execution_count": null,
   "id": "6c1a914a",
   "metadata": {
    "ExecuteTime": {
     "end_time": "2023-04-22T13:45:41.311616Z",
     "start_time": "2023-04-22T13:45:41.305632Z"
    }
   },
   "outputs": [],
   "source": [
    "from sklearn.metrics import mean_absolute_error\n",
    "from sklearn.metrics import mean_squared_error"
   ]
  },
  {
   "cell_type": "code",
   "execution_count": null,
   "id": "8b155735",
   "metadata": {
    "ExecuteTime": {
     "end_time": "2023-04-22T13:56:43.953012Z",
     "start_time": "2023-04-22T13:56:43.927367Z"
    }
   },
   "outputs": [],
   "source": [
    "#Calculate mean absolute error\n",
    "\n",
    "print('==============main_kospi================')\n",
    "mae1 = mean_absolute_error(y_test1, result1['main_kospi_xgboost_pred'])\n",
    "print('MAE: %f' % mae1)\n",
    "\n",
    "#Calculate mean squared error and root mean squared error\n",
    "mse1 = mean_squared_error(y_test1, result1['main_kospi_xgboost_pred'])\n",
    "print('MSE: %f' % mse1)\n",
    "\n",
    "rmse1 = np.sqrt(mse1)\n",
    "print('RMSE: %f' % rmse1)\n",
    "print('')\n",
    "print('')\n",
    "\n",
    "\n",
    "print('==============bond_yield_kospi================')\n",
    "mae2 = mean_absolute_error(y_test2, result2['bond_yield_kospi_xgboost_pred'])\n",
    "print('MAE: %f' % mae2)\n",
    "\n",
    "#Calculate mean squared error and root mean squared error\n",
    "mse2 = mean_squared_error(y_test2, result2['bond_yield_kospi_xgboost_pred'])\n",
    "print('MSE: %f' % mse2)\n",
    "\n",
    "rmse2 = np.sqrt(mse2)\n",
    "print('RMSE: %f' % rmse2)\n",
    "print('')\n",
    "print('')\n",
    "\n",
    "\n",
    "print('==============other_kospi================')\n",
    "mae3 = mean_absolute_error(y_test3, result3['other_kospi_xgboost_pred'])\n",
    "print('MAE: %f' % mae3)\n",
    "\n",
    "#Calculate mean squared error and root mean squared error\n",
    "mse3 = mean_squared_error(y_test3, result3['other_kospi_xgboost_pred'])\n",
    "print('MSE: %f' % mse3)\n",
    "\n",
    "rmse3 = np.sqrt(mse3)\n",
    "print('RMSE: %f' % rmse3)\n",
    "print('')\n",
    "print('')\n",
    "\n",
    "\n",
    "print('==============all_feature================')\n",
    "mae4 = mean_absolute_error(y_test4, result4['all_feature_xgboost_pred'])\n",
    "print('MAE: %f' % mae4)\n",
    "\n",
    "#Calculate mean squared error and root mean squared error\n",
    "mse4 = mean_squared_error(y_test4, result4['all_feature_xgboost_pred'])\n",
    "print('MSE: %f' % mse4)\n",
    "\n",
    "rmse4 = np.sqrt(mse4)\n",
    "print('RMSE: %f' % rmse4)\n"
   ]
  },
  {
   "cell_type": "code",
   "execution_count": null,
   "id": "d23b4ee8",
   "metadata": {
    "ExecuteTime": {
     "end_time": "2023-04-22T14:12:15.035850Z",
     "start_time": "2023-04-22T14:12:15.028869Z"
    }
   },
   "outputs": [],
   "source": [
    "#Calculate mean absolute error\n",
    "\n",
    "print('==============main_kospi================')\n",
    "mae1 = mean_absolute_error(y_test1, result1_['main_kospi_xgboost_feature_select_pred'])\n",
    "print('MAE: %f' % mae1)\n",
    "\n",
    "#Calculate mean squared error and root mean squared error\n",
    "mse1 = mean_squared_error(y_test1, result1_['main_kospi_xgboost_feature_select_pred'])\n",
    "print('MSE: %f' % mse1)\n",
    "\n",
    "rmse1 = np.sqrt(mse1)\n",
    "print('RMSE: %f' % rmse1)\n",
    "print('')\n",
    "print('')\n",
    "\n",
    "\n",
    "# print('==============bond_yield_kospi================')\n",
    "# mae2 = mean_absolute_error(y_test2, result2['bond_yield_kospi_xgboost_pred'])\n",
    "# print('MAE: %f' % mae2)\n",
    "\n",
    "# #Calculate mean squared error and root mean squared error\n",
    "# mse2 = mean_squared_error(y_test2, result2['bond_yield_kospi_xgboost_pred'])\n",
    "# print('MSE: %f' % mse2)\n",
    "\n",
    "# rmse2 = np.sqrt(mse2)\n",
    "# print('RMSE: %f' % rmse2)\n",
    "# print('')\n",
    "# print('')\n",
    "\n",
    "\n",
    "# print('==============other_kospi================')\n",
    "# mae3 = mean_absolute_error(y_test3, result3['other_kospi_xgboost_pred'])\n",
    "# print('MAE: %f' % mae3)\n",
    "\n",
    "# #Calculate mean squared error and root mean squared error\n",
    "# mse3 = mean_squared_error(y_test3, result3['other_kospi_xgboost_pred'])\n",
    "# print('MSE: %f' % mse3)\n",
    "\n",
    "# rmse3 = np.sqrt(mse3)\n",
    "# print('RMSE: %f' % rmse3)\n",
    "# print('')\n",
    "# print('')\n",
    "\n",
    "\n",
    "# print('==============all_feature================')\n",
    "# mae4 = mean_absolute_error(y_test4, result4['all_feature_xgboost_pred'])\n",
    "# print('MAE: %f' % mae4)\n",
    "\n",
    "# #Calculate mean squared error and root mean squared error\n",
    "# mse4 = mean_squared_error(y_test4, result4['all_feature_xgboost_pred'])\n",
    "# print('MSE: %f' % mse4)\n",
    "\n",
    "# rmse4 = np.sqrt(mse4)\n",
    "# print('RMSE: %f' % rmse4)"
   ]
  },
  {
   "attachments": {
    "image-2.png": {
     "image/png": "[encoded data removed]"
    },
    "image.png": {
     "image/png": "[encoded data removed]"
    }
   },
   "cell_type": "markdown",
   "id": "6dac7625",
   "metadata": {},
   "source": [
    "중요 변수 선택 전\n",
    "![image.png](attachment:image.png)\n",
    "\n",
    "중요 변수 선택 후\n",
    "![image-2.png](attachment:image-2.png)"
   ]
  },
  {
   "cell_type": "markdown",
   "id": "9dc0ddc5",
   "metadata": {},
   "source": [
    "### Feature Importance"
   ]
  },
  {
   "cell_type": "code",
   "execution_count": null,
   "id": "0f10d49f",
   "metadata": {
    "ExecuteTime": {
     "end_time": "2023-04-12T13:59:03.544954Z",
     "start_time": "2023-04-12T13:59:03.141097Z"
    }
   },
   "outputs": [],
   "source": [
    "import xgboost\n",
    "\n",
    "from xgboost import XGBClassifier\n",
    "from sklearn.model_selection import train_test_split"
   ]
  },
  {
   "cell_type": "code",
   "execution_count": null,
   "id": "ace5ebac",
   "metadata": {
    "ExecuteTime": {
     "end_time": "2023-04-12T13:59:05.342638Z",
     "start_time": "2023-04-12T13:59:05.328605Z"
    },
    "scrolled": true
   },
   "outputs": [],
   "source": [
    "df_kospi_cor.info()"
   ]
  },
  {
   "cell_type": "code",
   "execution_count": null,
   "id": "744ebe56",
   "metadata": {
    "ExecuteTime": {
     "end_time": "2023-04-11T11:40:56.830485Z",
     "start_time": "2023-04-11T11:40:56.830485Z"
    }
   },
   "outputs": [],
   "source": [
    "# main.iloc[:,1:].astype(dtype='float64')"
   ]
  },
  {
   "cell_type": "code",
   "execution_count": null,
   "id": "1efb54f8",
   "metadata": {
    "ExecuteTime": {
     "end_time": "2023-04-11T11:40:56.832480Z",
     "start_time": "2023-04-11T11:40:56.832480Z"
    }
   },
   "outputs": [],
   "source": [
    "# pip install xgboost"
   ]
  },
  {
   "cell_type": "code",
   "execution_count": null,
   "id": "245a1199",
   "metadata": {
    "ExecuteTime": {
     "end_time": "2023-04-11T11:40:56.833477Z",
     "start_time": "2023-04-11T11:40:56.833477Z"
    }
   },
   "outputs": [],
   "source": [
    "\n",
    "# df 컬럼 위치 바꿔서 y값 조정\n",
    "\n",
    "X = df_kospi_cor.iloc[:,2:]\n",
    "y = df_kospi_cor['kospi_Close']"
   ]
  },
  {
   "cell_type": "code",
   "execution_count": null,
   "id": "3f24fc21",
   "metadata": {
    "ExecuteTime": {
     "end_time": "2023-04-11T11:40:56.835472Z",
     "start_time": "2023-04-11T11:40:56.835472Z"
    }
   },
   "outputs": [],
   "source": [
    "# train_test_split\n",
    "# X_train, X_valid, y_train, y_valid = train_test_split(X, y, test_size=0.2, shuffle=True, random_state=34)"
   ]
  },
  {
   "cell_type": "code",
   "execution_count": null,
   "id": "5bc0c968",
   "metadata": {
    "ExecuteTime": {
     "end_time": "2023-04-11T11:40:56.837468Z",
     "start_time": "2023-04-11T11:40:56.837468Z"
    }
   },
   "outputs": [],
   "source": [
    "from sklearn.preprocessing import LabelEncoder\n",
    "le = LabelEncoder()\n",
    "y = le.fit_transform(y)"
   ]
  },
  {
   "cell_type": "code",
   "execution_count": null,
   "id": "e4a155ef",
   "metadata": {
    "ExecuteTime": {
     "end_time": "2023-04-11T11:40:56.839462Z",
     "start_time": "2023-04-11T11:40:56.839462Z"
    },
    "scrolled": false
   },
   "outputs": [],
   "source": [
    "model = XGBClassifier() # booster='gbtree', importance_type='gain')\n",
    "model.fit(X,y)\n",
    "model.feature_importances_"
   ]
  },
  {
   "cell_type": "code",
   "execution_count": null,
   "id": "05d5e400",
   "metadata": {
    "ExecuteTime": {
     "end_time": "2023-04-11T11:40:56.842453Z",
     "start_time": "2023-04-11T11:40:56.842453Z"
    }
   },
   "outputs": [],
   "source": [
    "plt.bar(range(len(model.feature_importances_)), model.feature_importances_)\n",
    "plt.show()"
   ]
  },
  {
   "cell_type": "code",
   "execution_count": null,
   "id": "6b1e6de7",
   "metadata": {
    "ExecuteTime": {
     "end_time": "2023-04-11T11:40:56.845461Z",
     "start_time": "2023-04-11T11:40:56.844456Z"
    }
   },
   "outputs": [],
   "source": [
    "fig, axes = plt.subplots(nrows=2, ncols=3, figsize=(50,50))\n",
    "\n",
    "axes = [ax for row_axes in axes for ax in row_axes]\n",
    "\n",
    "xgboost.plot_importance(model, importance_type='gain', title='gain', xlabel='', grid=False, ax=axes[0])\n",
    "xgboost.plot_importance(model, importance_type='cover', title='cover', xlabel='', grid=False, ax=axes[1])\n",
    "xgboost.plot_importance(model, importance_type='weight', title='weight', xlabel='', grid=False, ax=axes[2])\n",
    "xgboost.plot_importance(model, importance_type='total_gain', title='total_gain', xlabel='', grid=False, ax=axes[3])\n",
    "xgboost.plot_importance(model, importance_type='total_cover', title='total_cover', xlabel='', grid=False, ax=axes[4])\n",
    "\n",
    "plt.tight_layout()\n",
    "plt.show()"
   ]
  },
  {
   "cell_type": "markdown",
   "id": "ebfaf08e",
   "metadata": {},
   "source": [
    "### SHAP"
   ]
  },
  {
   "cell_type": "code",
   "execution_count": null,
   "id": "bfc966e5",
   "metadata": {},
   "outputs": [],
   "source": []
  },
  {
   "cell_type": "markdown",
   "id": "162eb24c",
   "metadata": {},
   "source": [
    "## TimeSeries DeepLearning"
   ]
  },
  {
   "cell_type": "markdown",
   "id": "3640aa65",
   "metadata": {},
   "source": [
    "### LSTM"
   ]
  },
  {
   "cell_type": "code",
   "execution_count": null,
   "id": "8d91ad2b",
   "metadata": {},
   "outputs": [],
   "source": []
  },
  {
   "cell_type": "code",
   "execution_count": null,
   "id": "063d17f4",
   "metadata": {},
   "outputs": [],
   "source": []
  },
  {
   "cell_type": "markdown",
   "id": "45e89c62",
   "metadata": {},
   "source": [
    "### fb-prophet"
   ]
  },
  {
   "cell_type": "code",
   "execution_count": null,
   "id": "2035d965",
   "metadata": {},
   "outputs": [],
   "source": []
  },
  {
   "cell_type": "markdown",
   "id": "3d1fb96b",
   "metadata": {},
   "source": [
    "### 정상 시계열로 변환"
   ]
  },
  {
   "cell_type": "markdown",
   "id": "85f4ca95",
   "metadata": {},
   "source": [
    "https://modulabs.co.kr/blog/time-series-stationarity/"
   ]
  },
  {
   "cell_type": "code",
   "execution_count": null,
   "id": "b8127d50",
   "metadata": {
    "ExecuteTime": {
     "end_time": "2023-04-13T06:03:50.589988Z",
     "start_time": "2023-04-13T06:03:50.387784Z"
    }
   },
   "outputs": [],
   "source": [
    "kospi.plot()"
   ]
  },
  {
   "cell_type": "code",
   "execution_count": null,
   "id": "decbea9e",
   "metadata": {
    "ExecuteTime": {
     "end_time": "2023-04-13T06:03:50.604918Z",
     "start_time": "2023-04-13T06:03:50.595909Z"
    }
   },
   "outputs": [],
   "source": [
    "# pip install statsmodels"
   ]
  },
  {
   "cell_type": "code",
   "execution_count": null,
   "id": "d8e461a3",
   "metadata": {
    "ExecuteTime": {
     "end_time": "2023-04-13T06:03:50.694642Z",
     "start_time": "2023-04-13T06:03:50.607912Z"
    }
   },
   "outputs": [],
   "source": [
    "from statsmodels.tsa.stattools import adfuller # ADF 검정\n",
    "from statsmodels.graphics.tsaplots import plot_acf"
   ]
  },
  {
   "cell_type": "code",
   "execution_count": null,
   "id": "c98ede21",
   "metadata": {
    "ExecuteTime": {
     "end_time": "2023-04-13T06:03:50.709655Z",
     "start_time": "2023-04-13T06:03:50.695639Z"
    }
   },
   "outputs": [],
   "source": [
    "def adf_test(x):\n",
    "    stat, p_value, lags, nobs, crit, icb = adfuller(x) # adfuller 함수를 이용하면 6가지 output이 나옵니다\n",
    "    print('ADF statistics')\n",
    "    print(stat) # ADF 검정 통계량입니다\n",
    "    print('P-value')\n",
    "    print(p_value) # P-value입니다"
   ]
  },
  {
   "cell_type": "code",
   "execution_count": null,
   "id": "87c56fab",
   "metadata": {
    "ExecuteTime": {
     "end_time": "2023-04-13T06:03:50.725366Z",
     "start_time": "2023-04-13T06:03:50.714625Z"
    }
   },
   "outputs": [],
   "source": [
    "# plot_acf(kospi_transformed, lags = 30, alpha=0.05)\n",
    "# plt.show()"
   ]
  },
  {
   "cell_type": "code",
   "execution_count": null,
   "id": "fdcdb72c",
   "metadata": {
    "ExecuteTime": {
     "end_time": "2023-04-13T06:07:52.322377Z",
     "start_time": "2023-04-13T06:07:51.885170Z"
    },
    "scrolled": true
   },
   "outputs": [],
   "source": [
    "adf_test(kospi_transformed)"
   ]
  },
  {
   "cell_type": "code",
   "execution_count": null,
   "id": "1a916679",
   "metadata": {
    "ExecuteTime": {
     "end_time": "2023-04-13T06:09:14.637348Z",
     "start_time": "2023-04-13T06:09:14.619316Z"
    }
   },
   "outputs": [],
   "source": [
    "# kospi.set_index('Date', inplace=True)\n",
    "# kospi_transformed = np.log(kospi).diff()\n",
    "# kospi_transformed.dropna(inplace=True)\n",
    "\n",
    "# kosdaq.set_index('Date', inplace=True)\n",
    "kosdaq_transformed = np.log(kosdaq).diff()\n",
    "kosdaq_transformed.dropna(inplace=True)"
   ]
  },
  {
   "cell_type": "code",
   "execution_count": null,
   "id": "b4a86b2e",
   "metadata": {
    "ExecuteTime": {
     "end_time": "2023-04-13T06:09:18.622575Z",
     "start_time": "2023-04-13T06:09:18.452986Z"
    }
   },
   "outputs": [],
   "source": [
    "kosdaq_transformed.plot()"
   ]
  },
  {
   "cell_type": "code",
   "execution_count": null,
   "id": "53b77bda",
   "metadata": {
    "ExecuteTime": {
     "end_time": "2023-04-13T06:04:01.807166Z",
     "start_time": "2023-04-13T06:04:01.604658Z"
    }
   },
   "outputs": [],
   "source": [
    "# variables_transformed = []\n",
    "\n",
    "# for i in range(len(variables)):\n",
    "#     name = '{}_transformed'.format(variables[i])\n",
    "#     variables[i].set_index('Date', inplace=True)\n",
    "    \n",
    "#     # 로그 변환 후 차분\n",
    "#     name = np.log(variables[i]).diff()\n",
    "#     # 차분으로 인해 생긴 데이터의 공백을 제거\n",
    "#     name = variables[i].dropna()\n",
    "    \n",
    "#     print(name)\n"
   ]
  },
  {
   "cell_type": "code",
   "execution_count": null,
   "id": "3d9d39f4",
   "metadata": {
    "ExecuteTime": {
     "end_time": "2023-04-13T05:55:33.491691Z",
     "start_time": "2023-04-13T05:55:33.327789Z"
    }
   },
   "outputs": [],
   "source": [
    "kospi.plot()"
   ]
  }
 ],
 "metadata": {
  "kernelspec": {
   "display_name": "Python 3 (ipykernel)",
   "language": "python",
   "name": "python3"
  },
  "language_info": {
   "codemirror_mode": {
    "name": "ipython",
    "version": 3
   },
   "file_extension": ".py",
   "mimetype": "text/x-python",
   "name": "python",
   "nbconvert_exporter": "python",
   "pygments_lexer": "ipython3",
   "version": "3.8.9"
  },
  "toc": {
   "base_numbering": 1,
   "nav_menu": {},
   "number_sections": false,
   "sideBar": true,
   "skip_h1_title": false,
   "title_cell": "Table of Contents",
   "title_sidebar": "Contents",
   "toc_cell": false,
   "toc_position": {
    "height": "632.444px",
    "left": "34px",
    "top": "110.805px",
    "width": "341.319px"
   },
   "toc_section_display": true,
   "toc_window_display": false
  }
 },
 "nbformat": 4,
 "nbformat_minor": 5
}
